{
 "cells": [
  {
   "cell_type": "code",
   "execution_count": 1,
   "id": "lesser-avatar",
   "metadata": {},
   "outputs": [],
   "source": [
    "import numpy as np\n",
    "import scipy as sp\n",
    "import scipy.stats\n",
    "import itertools\n",
    "import logging\n",
    "import matplotlib.pyplot as plt\n",
    "import pandas as pd\n",
    "import torch.utils.data as utils\n",
    "import math\n",
    "import time\n",
    "import tqdm\n",
    "\n",
    "import torch\n",
    "import torch.optim as optim\n",
    "import torch.nn.functional as F\n",
    "from argparse import ArgumentParser\n",
    "from torch.distributions import MultivariateNormal\n",
    "\n",
    "import torch.nn as nn\n",
    "import torch.nn.init as init\n",
    "import sys\n",
    "\n",
    "sys.path.append(\"../new_flows\")\n",
    "from flows import RealNVP, Planar, MAF\n",
    "from models import NormalizingFlowModel\n",
    "import random\n",
    "from torch.autograd import Variable"
   ]
  },
  {
   "cell_type": "code",
   "execution_count": 2,
   "id": "motivated-fields",
   "metadata": {},
   "outputs": [],
   "source": [
    "import random\n",
    "from torch.autograd import Variable"
   ]
  },
  {
   "cell_type": "code",
   "execution_count": null,
   "id": "japanese-support",
   "metadata": {},
   "outputs": [],
   "source": []
  },
  {
   "cell_type": "code",
   "execution_count": null,
   "id": "mature-wesley",
   "metadata": {},
   "outputs": [],
   "source": []
  },
  {
   "cell_type": "code",
   "execution_count": null,
   "id": "recorded-humidity",
   "metadata": {},
   "outputs": [],
   "source": []
  },
  {
   "cell_type": "code",
   "execution_count": 3,
   "id": "perceived-witness",
   "metadata": {},
   "outputs": [],
   "source": [
    "df = pd.read_hdf(\"/data/t3home000/spark/LHCOlympics_previous/preprocessed_40part_testdataset.h5\")"
   ]
  },
  {
   "cell_type": "code",
   "execution_count": 4,
   "id": "sublime-potato",
   "metadata": {},
   "outputs": [],
   "source": [
    "dt = df.values"
   ]
  },
  {
   "cell_type": "code",
   "execution_count": 5,
   "id": "elder-latex",
   "metadata": {},
   "outputs": [
    {
     "data": {
      "text/plain": [
       "(1100000, 121)"
      ]
     },
     "execution_count": 5,
     "metadata": {},
     "output_type": "execute_result"
    }
   ],
   "source": [
    "dt.shape"
   ]
  },
  {
   "cell_type": "code",
   "execution_count": 6,
   "id": "severe-forest",
   "metadata": {},
   "outputs": [],
   "source": [
    "idx = dt[:,120]\n",
    "bkg_idx = np.where(idx==0)[0]\n",
    "sig_idx = np.where(idx==1)[0]"
   ]
  },
  {
   "cell_type": "code",
   "execution_count": 7,
   "id": "noted-spelling",
   "metadata": {},
   "outputs": [],
   "source": [
    "dt = dt[:,:120]\n",
    "label = idx"
   ]
  },
  {
   "cell_type": "code",
   "execution_count": 8,
   "id": "involved-escape",
   "metadata": {},
   "outputs": [
    {
     "data": {
      "text/plain": [
       "(1100000, 120)"
      ]
     },
     "execution_count": 8,
     "metadata": {},
     "output_type": "execute_result"
    }
   ],
   "source": [
    "dt.shape"
   ]
  },
  {
   "cell_type": "code",
   "execution_count": 9,
   "id": "played-miracle",
   "metadata": {},
   "outputs": [
    {
     "data": {
      "text/plain": [
       "(1100000,)"
      ]
     },
     "execution_count": 9,
     "metadata": {},
     "output_type": "execute_result"
    }
   ],
   "source": [
    "label.shape"
   ]
  },
  {
   "cell_type": "code",
   "execution_count": 10,
   "id": "north-football",
   "metadata": {},
   "outputs": [],
   "source": [
    "data = np.reshape(dt, (-1,40,3))"
   ]
  },
  {
   "cell_type": "code",
   "execution_count": 11,
   "id": "strange-spectacular",
   "metadata": {},
   "outputs": [
    {
     "data": {
      "text/plain": [
       "(1100000, 40, 3)"
      ]
     },
     "execution_count": 11,
     "metadata": {},
     "output_type": "execute_result"
    }
   ],
   "source": [
    "data.shape"
   ]
  },
  {
   "cell_type": "code",
   "execution_count": 12,
   "id": "victorian-establishment",
   "metadata": {},
   "outputs": [
    {
     "data": {
      "text/plain": [
       "array([0., 0., 0., ..., 0., 0., 0.])"
      ]
     },
     "execution_count": 12,
     "metadata": {},
     "output_type": "execute_result"
    }
   ],
   "source": [
    "label"
   ]
  },
  {
   "cell_type": "code",
   "execution_count": 13,
   "id": "signed-proposal",
   "metadata": {},
   "outputs": [
    {
     "data": {
      "text/plain": [
       "(100000, 40, 3)"
      ]
     },
     "execution_count": 13,
     "metadata": {},
     "output_type": "execute_result"
    }
   ],
   "source": [
    "data_bkg = dt[bkg_idx]\n",
    "\n",
    "data_sig = dt[sig_idx]\n",
    "\n",
    "data_bkg = data_bkg[:,0:120]\n",
    "\n",
    "data_sig = data_sig[:,0:120]\n",
    "\n",
    "data_bkg = np.reshape(data_bkg, (-1,40,3))\n",
    "\n",
    "data_bkg.shape # (Nevents, Npfcands, Nfeats)\n",
    "\n",
    "data_sig = np.reshape(data_sig, (-1,40,3))\n",
    "\n",
    "data_sig.shape"
   ]
  },
  {
   "cell_type": "code",
   "execution_count": 14,
   "id": "ready-memphis",
   "metadata": {},
   "outputs": [],
   "source": [
    "from sklearn.model_selection import train_test_split\n",
    "\n",
    "sig_train, sig_test = train_test_split(data_sig, test_size=0.2)"
   ]
  },
  {
   "cell_type": "code",
   "execution_count": 15,
   "id": "residential-scanner",
   "metadata": {},
   "outputs": [],
   "source": [
    "class SentenceVAE(nn.Module):\n",
    "    def __init__(self, input_size, hidden_size, latent_size,num_layers=2, bidirectional=False):\n",
    "\n",
    "        super().__init__()\n",
    "        self.tensor = torch.cuda.FloatTensor if torch.cuda.is_available() else torch.Tensor\n",
    "        # max_sequence_length = 40\n",
    "        # latent_size, lets call it 10 or shit like that\n",
    "        self.latent_size = latent_size\n",
    "        self.num_layers = num_layers\n",
    "        self.hidden_size = hidden_size\n",
    "        self.bidirectional = bidirectional\n",
    "\n",
    "\n",
    "        rnn = nn.GRU\n",
    "        # elif rnn_type == 'lstm':\n",
    "        #     rnn = nn.LSTM\n",
    "\n",
    "        self.encoder_rnn = rnn(input_size, hidden_size, num_layers=num_layers, bidirectional=self.bidirectional,\n",
    "                               batch_first=True)\n",
    "        self.decoder_rnn = rnn(input_size, hidden_size, num_layers=num_layers, bidirectional=self.bidirectional,\n",
    "                               batch_first=True)\n",
    "\n",
    "        self.hidden_factor = (2 if bidirectional else 1) * num_layers\n",
    "\n",
    "        self.hidden2mean = nn.Linear(hidden_size * self.hidden_factor, latent_size)\n",
    "        self.hidden2logv = nn.Linear(hidden_size * self.hidden_factor, latent_size)\n",
    "        self.latent2hidden = nn.Linear(latent_size, hidden_size * self.hidden_factor)\n",
    "        self.latent2input = nn.Linear(latent_size, input_size*40)\n",
    "        self.output2particles = nn.Linear(hidden_size, input_size)\n",
    "\n",
    "    def forward(self, input_sequence):\n",
    "\n",
    "        batch_size = input_sequence.size(0)\n",
    "\n",
    "        # ENCODER\n",
    "\n",
    "\n",
    "        _, hidden = self.encoder_rnn(input_sequence)\n",
    "\n",
    "        if self.bidirectional or self.num_layers > 1:\n",
    "            # flatten hidden state\n",
    "            hidden = hidden.view(batch_size, self.hidden_size*self.hidden_factor)\n",
    "        else:\n",
    "            hidden = hidden.squeeze()\n",
    "\n",
    "        # REPARAMETERIZATION\n",
    "        mean = self.hidden2mean(hidden)\n",
    "        logv = self.hidden2logv(hidden)\n",
    "        std = torch.exp(0.5 * logv)\n",
    "\n",
    "        z = torch.randn([batch_size, self.latent_size]).cuda()\n",
    "        z = z * std + mean\n",
    "        kld = -0.5 * torch.sum(1 + logv - mean.pow(2) - logv.exp())\n",
    "\n",
    "        # DECODER\n",
    "        hidden = self.latent2hidden(z)\n",
    "        pseudo_input = self.latent2input(z).view(input_sequence.shape)\n",
    "       \n",
    "        if self.bidirectional or self.num_layers > 1:\n",
    "            # unflatten hidden state\n",
    "            hidden = hidden.view(self.hidden_factor, batch_size, self.hidden_size)\n",
    "        else:\n",
    "            hidden = hidden.unsqueeze(0)\n",
    "\n",
    "\n",
    "\n",
    "        # decoder forward pass\n",
    "        outputs, _ = self.decoder_rnn(pseudo_input, hidden)\n",
    "        recons = self.output2particles(outputs)\n",
    "\n",
    "\n",
    "        return recons, kld\n",
    "\n",
    "\n"
   ]
  },
  {
   "cell_type": "code",
   "execution_count": 16,
   "id": "constitutional-immunology",
   "metadata": {},
   "outputs": [
    {
     "data": {
      "text/plain": [
       "(100000, 40, 3)"
      ]
     },
     "execution_count": 16,
     "metadata": {},
     "output_type": "execute_result"
    }
   ],
   "source": [
    "data_sig.shape"
   ]
  },
  {
   "cell_type": "code",
   "execution_count": 17,
   "id": "funky-twelve",
   "metadata": {},
   "outputs": [
    {
     "name": "stdout",
     "output_type": "stream",
     "text": [
      "cuda:0\n"
     ]
    },
    {
     "data": {
      "text/plain": [
       "'GeForce RTX 2080 Ti'"
      ]
     },
     "execution_count": 17,
     "metadata": {},
     "output_type": "execute_result"
    }
   ],
   "source": [
    "device = torch.device(\"cuda:0\" if torch.cuda.is_available() else \"cpu\")\n",
    "print(device)\n",
    "torch.cuda.get_device_name(0)"
   ]
  },
  {
   "cell_type": "code",
   "execution_count": 18,
   "id": "norwegian-animal",
   "metadata": {},
   "outputs": [],
   "source": [
    "model = SentenceVAE(3,10,6).to(device)\n",
    "#self, input_size, hidden_size, latent_size,num_layers=2, bidirectional=False):"
   ]
  },
  {
   "cell_type": "code",
   "execution_count": 18,
   "id": "productive-istanbul",
   "metadata": {},
   "outputs": [],
   "source": [
    "lr = 1e-3\n",
    "bs = 1000\n",
    "optimizer = optim.Adam(model.parameters(), lr=lr)"
   ]
  },
  {
   "cell_type": "code",
   "execution_count": 19,
   "id": "refined-blame",
   "metadata": {},
   "outputs": [],
   "source": [
    "tensor_sig_train = torch.tensor(data_sig) \n",
    "\n",
    "tensor_sig_train.shape\n",
    "\n",
    "sig_train_iterator = utils.DataLoader(tensor_sig_train, batch_size=bs, shuffle=True)"
   ]
  },
  {
   "cell_type": "code",
   "execution_count": 20,
   "id": "sorted-faith",
   "metadata": {},
   "outputs": [],
   "source": [
    "def train():\n",
    "    # set the train mode\n",
    "    model.train()\n",
    "\n",
    "    # loss of the epoch\n",
    "    train_loss = 0\n",
    "\n",
    "    for i, x in enumerate(sig_train_iterator):\n",
    "        # reshape the data into [batch_size, 784]\n",
    "        x = x.float().cuda()\n",
    "\n",
    "        # update the gradients to zero\n",
    "        optimizer.zero_grad()\n",
    "\n",
    "        # forward pass\n",
    "        x_sample, kld = model(x)\n",
    "\n",
    "        # reconstruction loss\n",
    "        recon_loss = F.mse_loss(x_sample, x, size_average=False)\n",
    "\n",
    "\n",
    "        # total loss\n",
    "        loss = recon_loss + kld\n",
    "        train_loss += loss.item()\n",
    "\n",
    "        # backward pass\n",
    "        loss.backward()\n",
    "\n",
    "        # update the weights\n",
    "        optimizer.step()\n",
    "        \n",
    "    return train_loss\n"
   ]
  },
  {
   "cell_type": "code",
   "execution_count": 21,
   "id": "commercial-domain",
   "metadata": {},
   "outputs": [
    {
     "name": "stderr",
     "output_type": "stream",
     "text": [
      "/data/t3home000/spark/miniconda3/envs/fewshot/lib/python3.7/site-packages/torch/nn/_reduction.py:44: UserWarning: size_average and reduce args will be deprecated, please use reduction='sum' instead.\n",
      "  warnings.warn(warning.format(ret))\n"
     ]
    },
    {
     "name": "stdout",
     "output_type": "stream",
     "text": [
      "259.841685\n",
      "Saving model!\n",
      "188.8714971875\n",
      "Saving model!\n",
      "143.67857921875\n",
      "Saving model!\n",
      "138.83236\n",
      "Saving model!\n",
      "135.6283190625\n",
      "Saving model!\n",
      "133.76671015625\n",
      "Saving model!\n",
      "132.567221953125\n",
      "Saving model!\n",
      "131.62631078125\n",
      "Saving model!\n",
      "130.847446640625\n",
      "Saving model!\n",
      "129.963612578125\n",
      "Saving model!\n",
      "128.46015640625\n",
      "Saving model!\n",
      "126.73740515625\n",
      "Saving model!\n",
      "125.42033828125\n",
      "Saving model!\n",
      "122.72782921875\n",
      "Saving model!\n",
      "121.139685859375\n",
      "Saving model!\n",
      "120.453292890625\n",
      "Saving model!\n",
      "119.95585359375\n",
      "Saving model!\n",
      "119.608606875\n",
      "Saving model!\n",
      "119.299234375\n",
      "Saving model!\n",
      "119.079406640625\n",
      "Saving model!\n",
      "118.92446546875\n",
      "Saving model!\n",
      "118.79393828125\n",
      "Saving model!\n",
      "118.690076640625\n",
      "Saving model!\n",
      "118.59889046875\n",
      "Saving model!\n",
      "118.532193671875\n",
      "Saving model!\n",
      "118.46918703125\n",
      "Saving model!\n",
      "118.404330390625\n",
      "Saving model!\n",
      "118.3549659375\n",
      "Saving model!\n",
      "118.325755546875\n",
      "Saving model!\n",
      "118.27156140625\n",
      "Saving model!\n",
      "118.255418984375\n",
      "Saving model!\n",
      "118.2308240625\n",
      "Saving model!\n",
      "118.17697671875\n",
      "Saving model!\n",
      "118.1630965625\n",
      "Saving model!\n",
      "118.139433046875\n",
      "Saving model!\n",
      "118.110421875\n",
      "Saving model!\n",
      "118.095802734375\n",
      "Saving model!\n",
      "118.0668128125\n",
      "Saving model!\n",
      "118.044461015625\n",
      "Saving model!\n",
      "118.037314765625\n",
      "Saving model!\n",
      "118.014799765625\n",
      "Saving model!\n",
      "117.99517640625\n",
      "Saving model!\n",
      "117.99137984375\n",
      "Saving model!\n",
      "117.962753671875\n",
      "Saving model!\n",
      "117.952162890625\n",
      "Saving model!\n",
      "117.93452171875\n",
      "Saving model!\n",
      "117.93068484375\n",
      "Saving model!\n",
      "117.90785640625\n",
      "Saving model!\n",
      "117.902878515625\n",
      "Saving model!\n",
      "117.89500203125\n",
      "Saving model!\n",
      "117.877501171875\n",
      "Saving model!\n",
      "117.85124640625\n",
      "Saving model!\n",
      "117.85045984375\n",
      "Saving model!\n",
      "117.84308125\n",
      "Saving model!\n",
      "117.82939671875\n",
      "Saving model!\n",
      "117.820867109375\n",
      "Saving model!\n",
      "117.8025865625\n",
      "Saving model!\n",
      "117.807792109375\n",
      "Not saving model!\n",
      "117.7838903125\n",
      "Saving model!\n",
      "117.774741796875\n",
      "Saving model!\n",
      "117.756926484375\n",
      "Saving model!\n",
      "117.758438125\n",
      "Not saving model!\n",
      "117.751128671875\n",
      "Saving model!\n",
      "117.746360546875\n",
      "Saving model!\n",
      "117.723525234375\n",
      "Saving model!\n",
      "117.727394453125\n",
      "Not saving model!\n",
      "117.722655859375\n",
      "Saving model!\n",
      "117.715030390625\n",
      "Saving model!\n",
      "117.69635421875\n",
      "Saving model!\n",
      "117.6943003125\n",
      "Saving model!\n",
      "117.68821078125\n",
      "Saving model!\n",
      "117.68259796875\n",
      "Saving model!\n",
      "117.67794875\n",
      "Saving model!\n",
      "117.671511171875\n",
      "Saving model!\n",
      "117.6696365625\n",
      "Saving model!\n",
      "117.659811796875\n",
      "Saving model!\n",
      "117.651472890625\n",
      "Saving model!\n",
      "117.648439296875\n",
      "Saving model!\n",
      "117.642055546875\n",
      "Saving model!\n",
      "117.6404153125\n",
      "Saving model!\n",
      "117.63952421875\n",
      "Saving model!\n",
      "117.6169146875\n",
      "Saving model!\n",
      "117.620523359375\n",
      "Not saving model!\n",
      "117.611451953125\n",
      "Saving model!\n",
      "117.61256734375\n",
      "Not saving model!\n",
      "117.6011175\n",
      "Saving model!\n",
      "117.603437421875\n",
      "Not saving model!\n",
      "117.59623515625\n",
      "Saving model!\n",
      "117.588243125\n",
      "Saving model!\n",
      "117.591180859375\n",
      "Not saving model!\n",
      "117.584586171875\n",
      "Saving model!\n",
      "117.570316875\n",
      "Saving model!\n",
      "117.573710625\n",
      "Not saving model!\n",
      "117.563119609375\n",
      "Saving model!\n",
      "117.5671340625\n",
      "Not saving model!\n",
      "117.5636509375\n",
      "Not saving model!\n",
      "117.56325484375\n",
      "Not saving model!\n",
      "117.557124375\n",
      "Saving model!\n",
      "117.536738359375\n",
      "Saving model!\n",
      "117.54362140625\n",
      "Not saving model!\n",
      "117.53822125\n",
      "Not saving model!\n",
      "117.526700859375\n",
      "Saving model!\n",
      "117.523394609375\n",
      "Saving model!\n",
      "117.536563125\n",
      "Not saving model!\n",
      "117.526910703125\n",
      "Not saving model!\n",
      "117.523534296875\n",
      "Not saving model!\n",
      "117.51912640625\n",
      "Saving model!\n",
      "117.51542390625\n",
      "Saving model!\n",
      "117.5129078125\n",
      "Saving model!\n",
      "117.505001640625\n",
      "Saving model!\n",
      "117.507810546875\n",
      "Not saving model!\n",
      "117.50950265625\n",
      "Not saving model!\n",
      "117.49884109375\n",
      "Saving model!\n",
      "117.495990546875\n",
      "Saving model!\n",
      "117.48062921875\n",
      "Saving model!\n",
      "117.472093515625\n",
      "Saving model!\n",
      "117.484784296875\n",
      "Not saving model!\n",
      "117.484155\n",
      "Not saving model!\n",
      "117.47883453125\n",
      "Not saving model!\n",
      "117.470454765625\n",
      "Saving model!\n",
      "117.474249453125\n",
      "Not saving model!\n",
      "117.46869859375\n",
      "Saving model!\n",
      "117.463858515625\n",
      "Saving model!\n",
      "117.461969609375\n",
      "Saving model!\n",
      "117.46015421875\n",
      "Saving model!\n",
      "117.460636640625\n",
      "Not saving model!\n",
      "117.44936375\n",
      "Saving model!\n",
      "117.442025\n",
      "Saving model!\n",
      "117.43972796875\n",
      "Saving model!\n",
      "117.4480540625\n",
      "Not saving model!\n",
      "117.442654765625\n",
      "Not saving model!\n",
      "117.43523015625\n",
      "Saving model!\n",
      "117.440459375\n",
      "Not saving model!\n",
      "117.431897109375\n",
      "Saving model!\n",
      "117.420900625\n",
      "Saving model!\n",
      "117.425206875\n",
      "Not saving model!\n",
      "117.418293203125\n",
      "Saving model!\n",
      "117.421791796875\n",
      "Not saving model!\n",
      "117.4197978125\n",
      "Not saving model!\n",
      "117.41163375\n",
      "Saving model!\n",
      "117.417358515625\n",
      "Not saving model!\n",
      "117.420891015625\n",
      "Not saving model!\n",
      "117.408565859375\n",
      "Saving model!\n",
      "117.400563359375\n",
      "Saving model!\n",
      "117.4063828125\n",
      "Not saving model!\n",
      "117.40039296875\n",
      "Saving model!\n",
      "117.39133703125\n",
      "Saving model!\n",
      "117.397693125\n",
      "Not saving model!\n",
      "117.3901171875\n",
      "Saving model!\n",
      "117.392012578125\n",
      "Not saving model!\n",
      "117.376666328125\n",
      "Saving model!\n",
      "117.388673828125\n",
      "Not saving model!\n",
      "117.381239765625\n",
      "Not saving model!\n",
      "117.37057125\n",
      "Saving model!\n",
      "117.371901484375\n",
      "Not saving model!\n",
      "117.369073515625\n",
      "Saving model!\n",
      "117.378236484375\n",
      "Not saving model!\n",
      "117.3780084375\n",
      "Not saving model!\n",
      "117.36077640625\n",
      "Saving model!\n",
      "117.363018359375\n",
      "Not saving model!\n",
      "117.35142578125\n",
      "Saving model!\n",
      "117.34150078125\n",
      "Saving model!\n",
      "117.354055703125\n",
      "Not saving model!\n",
      "117.35009015625\n",
      "Not saving model!\n",
      "117.3455753125\n",
      "Not saving model!\n",
      "117.3382953125\n",
      "Saving model!\n",
      "117.35103375\n",
      "Not saving model!\n",
      "117.3362265625\n",
      "Saving model!\n",
      "117.339082734375\n",
      "Not saving model!\n",
      "117.33404828125\n",
      "Saving model!\n",
      "117.336891953125\n",
      "Not saving model!\n",
      "117.329222265625\n",
      "Saving model!\n",
      "117.3199628125\n",
      "Saving model!\n",
      "117.333406171875\n",
      "Not saving model!\n",
      "117.320754296875\n",
      "Not saving model!\n",
      "117.3154446875\n",
      "Saving model!\n",
      "117.322129765625\n",
      "Not saving model!\n",
      "117.312157109375\n",
      "Saving model!\n",
      "117.30976453125\n",
      "Saving model!\n",
      "117.3181175\n",
      "Not saving model!\n",
      "117.308702421875\n",
      "Saving model!\n",
      "117.30054296875\n",
      "Saving model!\n",
      "117.31119\n",
      "Not saving model!\n",
      "117.30360359375\n",
      "Not saving model!\n",
      "117.300677265625\n",
      "Not saving model!\n",
      "117.29305359375\n",
      "Saving model!\n",
      "117.285273671875\n",
      "Saving model!\n",
      "117.29428859375\n",
      "Not saving model!\n",
      "117.29083671875\n",
      "Not saving model!\n",
      "117.28868375\n",
      "Not saving model!\n",
      "117.28039890625\n",
      "Saving model!\n",
      "117.28656390625\n",
      "Not saving model!\n",
      "117.281399453125\n",
      "Not saving model!\n",
      "117.27946671875\n",
      "Saving model!\n",
      "117.276900546875\n",
      "Saving model!\n",
      "117.267820703125\n",
      "Saving model!\n",
      "117.27407375\n",
      "Not saving model!\n",
      "117.264168125\n",
      "Saving model!\n",
      "117.276892578125\n",
      "Not saving model!\n",
      "117.273423046875\n",
      "Not saving model!\n",
      "117.26850625\n",
      "Not saving model!\n",
      "117.26875375\n",
      "Not saving model!\n",
      "117.26595984375\n",
      "Not saving model!\n",
      "Patience Limit Reached\n"
     ]
    }
   ],
   "source": [
    "best_train_loss = float('inf')\n",
    "\n",
    "for e in range(1000):\n",
    "\n",
    "    train_loss = train()\n",
    "\n",
    "    train_loss /= len(tensor_sig_train)\n",
    "    print(train_loss)\n",
    "    if best_train_loss > train_loss:\n",
    "        best_train_loss = train_loss\n",
    "        patience_counter = 1\n",
    "        print(\"Saving model!\")\n",
    "        torch.save(model.state_dict(),\"/data/t3home000/spark/QUASAR/weights/seq2seq.h5\")\n",
    "\n",
    "    else:\n",
    "        patience_counter += 1\n",
    "        print(\"Not saving model!\")\n",
    "\n",
    "    if patience_counter > 5:\n",
    "        print(\"Patience Limit Reached\")\n",
    "        break"
   ]
  },
  {
   "cell_type": "code",
   "execution_count": 19,
   "id": "polish-wright",
   "metadata": {},
   "outputs": [
    {
     "data": {
      "text/plain": [
       "<All keys matched successfully>"
      ]
     },
     "execution_count": 19,
     "metadata": {},
     "output_type": "execute_result"
    }
   ],
   "source": [
    "model.load_state_dict(torch.load(\"/data/t3home000/spark/QUASAR/weights/seq2seq.h5\"))"
   ]
  },
  {
   "cell_type": "code",
   "execution_count": 20,
   "id": "superb-price",
   "metadata": {},
   "outputs": [
    {
     "data": {
      "text/plain": [
       "SentenceVAE(\n",
       "  (encoder_rnn): GRU(3, 10, num_layers=2, batch_first=True)\n",
       "  (decoder_rnn): GRU(3, 10, num_layers=2, batch_first=True)\n",
       "  (hidden2mean): Linear(in_features=20, out_features=6, bias=True)\n",
       "  (hidden2logv): Linear(in_features=20, out_features=6, bias=True)\n",
       "  (latent2hidden): Linear(in_features=6, out_features=20, bias=True)\n",
       "  (latent2input): Linear(in_features=6, out_features=120, bias=True)\n",
       "  (output2particles): Linear(in_features=10, out_features=3, bias=True)\n",
       ")"
      ]
     },
     "execution_count": 20,
     "metadata": {},
     "output_type": "execute_result"
    }
   ],
   "source": [
    "model.eval()"
   ]
  },
  {
   "cell_type": "code",
   "execution_count": 26,
   "id": "advanced-flashing",
   "metadata": {},
   "outputs": [
    {
     "data": {
      "text/plain": [
       "(100000, 40, 3)"
      ]
     },
     "execution_count": 26,
     "metadata": {},
     "output_type": "execute_result"
    }
   ],
   "source": [
    "data_sig.shape"
   ]
  },
  {
   "cell_type": "code",
   "execution_count": 27,
   "id": "established-organizer",
   "metadata": {},
   "outputs": [],
   "source": [
    "recons, kld = model(torch.Tensor(data_sig[:500]).cuda())"
   ]
  },
  {
   "cell_type": "code",
   "execution_count": 40,
   "id": "scientific-federation",
   "metadata": {},
   "outputs": [
    {
     "data": {
      "image/png": "[encoded data removed]",
      "text/plain": [
       "<Figure size 432x288 with 1 Axes>"
      ]
     },
     "metadata": {
      "needs_background": "light"
     },
     "output_type": "display_data"
    }
   ],
   "source": [
    "plot_event(recons[6].cpu().detach().numpy(),\"GRUsigAE_sigEvent_recons_6\")"
   ]
  },
  {
   "cell_type": "code",
   "execution_count": null,
   "id": "animated-particle",
   "metadata": {},
   "outputs": [],
   "source": []
  },
  {
   "cell_type": "code",
   "execution_count": 23,
   "id": "weekly-lunch",
   "metadata": {},
   "outputs": [
    {
     "data": {
      "text/plain": [
       "(4, 40, 3)"
      ]
     },
     "execution_count": 23,
     "metadata": {},
     "output_type": "execute_result"
    }
   ],
   "source": [
    "data_sig[0:4].shape"
   ]
  },
  {
   "cell_type": "code",
   "execution_count": 24,
   "id": "timely-houston",
   "metadata": {},
   "outputs": [],
   "source": [
    "recons, kld = model(torch.Tensor(data_sig[0:10]).cuda())"
   ]
  },
  {
   "cell_type": "code",
   "execution_count": 25,
   "id": "inclusive-congo",
   "metadata": {},
   "outputs": [],
   "source": [
    "recons_bkg, kld = model(torch.Tensor(data_bkg[0:4]).cuda())"
   ]
  },
  {
   "cell_type": "code",
   "execution_count": 29,
   "id": "boring-mailman",
   "metadata": {},
   "outputs": [
    {
     "data": {
      "image/png": "[encoded data removed]",
      "text/plain": [
       "<Figure size 432x288 with 1 Axes>"
      ]
     },
     "metadata": {
      "needs_background": "light"
     },
     "output_type": "display_data"
    }
   ],
   "source": [
    "plot_event(recons_bkg[1].cpu().detach().numpy(),\"GRUsigAE_bkgEvent_recons_1\")"
   ]
  },
  {
   "cell_type": "code",
   "execution_count": null,
   "id": "worse-opinion",
   "metadata": {},
   "outputs": [],
   "source": [
    "plot_event(data_bkg[1],\"bkgEvent_actual_1\")"
   ]
  },
  {
   "cell_type": "code",
   "execution_count": 35,
   "id": "casual-slope",
   "metadata": {},
   "outputs": [
    {
     "data": {
      "image/png": "[encoded data removed]",
      "text/plain": [
       "<Figure size 432x288 with 1 Axes>"
      ]
     },
     "metadata": {
      "needs_background": "light"
     },
     "output_type": "display_data"
    }
   ],
   "source": [
    "plot_event(recons[3].cpu().detach().numpy(),\"GRUsigAE_signalEvt_recons_3\")"
   ]
  },
  {
   "cell_type": "code",
   "execution_count": null,
   "id": "increased-grammar",
   "metadata": {},
   "outputs": [],
   "source": [
    "plot_event(data_sig[2],\"sigEvt_actual_2\")"
   ]
  },
  {
   "cell_type": "code",
   "execution_count": null,
   "id": "engaging-championship",
   "metadata": {},
   "outputs": [],
   "source": []
  },
  {
   "cell_type": "code",
   "execution_count": null,
   "id": "distributed-payment",
   "metadata": {},
   "outputs": [],
   "source": [
    "model_bkg = SentenceVAE(3,10,4).to(device)\n"
   ]
  },
  {
   "cell_type": "code",
   "execution_count": null,
   "id": "prerequisite-portland",
   "metadata": {},
   "outputs": [],
   "source": [
    "tensor_bkg_train = torch.tensor(data_bkg) \n",
    "\n",
    "tensor_bkg_train.shape\n",
    "\n",
    "bkg_train_iterator = utils.DataLoader(tensor_bkg_train, batch_size=bs, shuffle=True)"
   ]
  },
  {
   "cell_type": "code",
   "execution_count": null,
   "id": "stainless-priority",
   "metadata": {},
   "outputs": [],
   "source": [
    "lr = 1e-3\n",
    "bs = 1000\n",
    "optimizer = optim.Adam(model_bkg.parameters(), lr=lr)"
   ]
  },
  {
   "cell_type": "code",
   "execution_count": null,
   "id": "documentary-planet",
   "metadata": {},
   "outputs": [],
   "source": [
    "loss"
   ]
  },
  {
   "cell_type": "code",
   "execution_count": null,
   "id": "cutting-inspection",
   "metadata": {},
   "outputs": [],
   "source": [
    "def train_bkg():\n",
    "    # set the train mode\n",
    "    model_bkg.train()\n",
    "\n",
    "    # loss of the epoch\n",
    "    train_loss = 0\n",
    "\n",
    "    for i, x in enumerate(bkg_train_iterator):\n",
    "        # reshape the data into [batch_size, 784]\n",
    "        x = x.float().cuda()\n",
    "\n",
    "        # update the gradients to zero\n",
    "        optimizer.zero_grad()\n",
    "\n",
    "        # forward pass\n",
    "        x_sample, kld = model_bkg(x)\n",
    "\n",
    "        # reconstruction loss\n",
    "        recon_loss = F.mse_loss(x_sample, x, size_average=False)\n",
    "\n",
    "\n",
    "        # total loss\n",
    "        loss = recon_loss + kld\n",
    "        train_loss += loss.item()\n",
    "\n",
    "        # backward pass\n",
    "        loss.backward()\n",
    "\n",
    "        # update the weights\n",
    "        optimizer.step()\n",
    "        \n",
    "    return train_loss\n"
   ]
  },
  {
   "cell_type": "code",
   "execution_count": null,
   "id": "lonely-warehouse",
   "metadata": {},
   "outputs": [],
   "source": [
    "best_train_loss = float('inf')\n",
    "\n",
    "for e in range(1000):\n",
    "\n",
    "    train_loss = train_bkg()\n",
    "\n",
    "    train_loss /= len(tensor_bkg_train)\n",
    "    print(train_loss)\n",
    "    if best_train_loss > train_loss:\n",
    "        best_train_loss = train_loss\n",
    "        patience_counter = 1\n",
    "        print(\"Saving model!\")\n",
    "        torch.save(model_bkg.state_dict(),\"/data/t3home000/spark/QUASAR/weights/seq2seq_bkg.h5\")\n",
    "\n",
    "    else:\n",
    "        patience_counter += 1\n",
    "        print(\"Not saving model!\")\n",
    "\n",
    "    if patience_counter > 5:\n",
    "        print(\"Patience Limit Reached\")\n",
    "        break"
   ]
  },
  {
   "cell_type": "code",
   "execution_count": null,
   "id": "voluntary-breakfast",
   "metadata": {},
   "outputs": [],
   "source": []
  },
  {
   "cell_type": "code",
   "execution_count": null,
   "id": "supposed-preview",
   "metadata": {},
   "outputs": [],
   "source": []
  },
  {
   "cell_type": "code",
   "execution_count": null,
   "id": "interracial-judgment",
   "metadata": {},
   "outputs": [],
   "source": []
  },
  {
   "cell_type": "markdown",
   "id": "af7b9021",
   "metadata": {},
   "source": [
    "# MAKE DATASET"
   ]
  },
  {
   "cell_type": "code",
   "execution_count": null,
   "id": "b2ca42c8",
   "metadata": {},
   "outputs": [],
   "source": [
    "import torch\n",
    "from torch_geometric.data import InMemoryDataset, download_url"
   ]
  },
  {
   "cell_type": "code",
   "execution_count": null,
   "id": "34115ac3",
   "metadata": {},
   "outputs": [],
   "source": [
    "class DijetAnomaly(InMemoryDataset):\n",
    "    "
   ]
  },
  {
   "cell_type": "markdown",
   "id": "golden-guyana",
   "metadata": {},
   "source": [
    "# Make Plotting Scripts, Will later make into a separate module"
   ]
  },
  {
   "cell_type": "code",
   "execution_count": 23,
   "id": "behind-treasure",
   "metadata": {},
   "outputs": [],
   "source": [
    "def plot_event(pfcands, name):\n",
    "\n",
    "    pt = pfcands[:,0]\n",
    "    eta = pfcands[:,1]\n",
    "    phi = pfcands[:,2]\n",
    "    fig = plt.figure()\n",
    "    ax = fig.add_subplot(1,1,1)\n",
    "    ax.scatter(eta,phi,s=pt*10000, alpha=0.2)\n",
    "    ax.set_xlabel('eta')\n",
    "    ax.set_ylabel('phi')\n",
    "    ax.set_xlim([-4,4])\n",
    "    ax.set_ylim([-4,4])\n",
    "    fig.savefig(f'figures/{name}.png')"
   ]
  },
  {
   "cell_type": "code",
   "execution_count": null,
   "id": "outdoor-handbook",
   "metadata": {},
   "outputs": [],
   "source": [
    "plot_event(data_sig[4],\"event_sig_idx4\")"
   ]
  },
  {
   "cell_type": "code",
   "execution_count": null,
   "id": "removable-priority",
   "metadata": {},
   "outputs": [],
   "source": []
  },
  {
   "cell_type": "code",
   "execution_count": null,
   "id": "bound-recorder",
   "metadata": {},
   "outputs": [],
   "source": []
  },
  {
   "cell_type": "markdown",
   "id": "focused-baseline",
   "metadata": {},
   "source": [
    "# 40 Body System, 3 features ( pT, eta, Phi) for each object (PF candidate)"
   ]
  },
  {
   "cell_type": "code",
   "execution_count": null,
   "id": "prepared-soldier",
   "metadata": {},
   "outputs": [],
   "source": [
    "n_objects  = 40 # number of PF candidates(nodes)\n",
    "object_dim = 3 # features: mass, x coordinate, y coordinate, speed on x-axis, speed on y-axis\n",
    "\n",
    "n_relations  = n_objects * (n_objects - 1) # number of edges in fully connected graph\n",
    "relation_dim = 1\n",
    "\n",
    "effect_dim = 10 #effect's vector size\n"
   ]
  },
  {
   "cell_type": "code",
   "execution_count": null,
   "id": "buried-miracle",
   "metadata": {},
   "outputs": [],
   "source": [
    "n_relations"
   ]
  },
  {
   "cell_type": "code",
   "execution_count": null,
   "id": "differential-locator",
   "metadata": {},
   "outputs": [],
   "source": [
    "data.shape"
   ]
  },
  {
   "cell_type": "code",
   "execution_count": null,
   "id": "committed-shipping",
   "metadata": {},
   "outputs": [],
   "source": [
    "def get_batch(data, label, idx, batch_size):\n",
    "    \n",
    "    start_idx = idx*batch_size\n",
    "    end_idx = idx*batch_size+batch_size\n",
    "\n",
    "    batch_data = data[start_idx: end_idx]\n",
    "    label_data = label[start_idx: end_idx]\n",
    "    \n",
    "    objects = batch_data\n",
    "    \n",
    "    \n",
    "    #receiver_relations, sender_relations - onehot encoding matrices\n",
    "    #each column indicates the receiver and sender object’s index\n",
    "    \n",
    "    receiver_relations = np.zeros((batch_size, n_objects, n_relations), dtype=float);\n",
    "    sender_relations   = np.zeros((batch_size, n_objects, n_relations), dtype=float);\n",
    "    \n",
    "    cnt = 0\n",
    "    for i in range(n_objects):\n",
    "        for j in range(n_objects):\n",
    "            if(i != j):\n",
    "                receiver_relations[:, i, cnt] = 1.0\n",
    "                sender_relations[:, j, cnt]   = 1.0\n",
    "                cnt += 1\n",
    "    \n",
    "    #There is no relation info in solar system task, just fill with zeros\n",
    "    relation_info = np.zeros((batch_size, n_relations, relation_dim))\n",
    "    target = label_data\n",
    "    \n",
    "    objects            = Variable(torch.FloatTensor(objects))\n",
    "    sender_relations   = Variable(torch.FloatTensor(sender_relations))\n",
    "    receiver_relations = Variable(torch.FloatTensor(receiver_relations))\n",
    "    relation_info      = Variable(torch.FloatTensor(relation_info))\n",
    "    target             = Variable(torch.FloatTensor(target))\n",
    "                       \n",
    "    if USE_CUDA:\n",
    "        objects            = objects.cuda()\n",
    "        sender_relations   = sender_relations.cuda()\n",
    "        receiver_relations = receiver_relations.cuda()\n",
    "        relation_info      = relation_info.cuda()\n",
    "        target             = target.cuda()\n",
    "    \n",
    "    return objects, sender_relations, receiver_relations, relation_info, target\n"
   ]
  },
  {
   "cell_type": "code",
   "execution_count": null,
   "id": "cooked-scott",
   "metadata": {},
   "outputs": [],
   "source": [
    "class RelationalModel(nn.Module):\n",
    "    def __init__(self, input_size, output_size, hidden_size):\n",
    "        super(RelationalModel, self).__init__()\n",
    "        \n",
    "        self.output_size = output_size\n",
    "        \n",
    "        self.layers = nn.Sequential(\n",
    "            nn.Linear(input_size, hidden_size),\n",
    "            nn.ReLU(),\n",
    "            nn.Linear(hidden_size, hidden_size),\n",
    "            nn.ReLU(),\n",
    "            nn.Linear(hidden_size, output_size),\n",
    "            nn.ReLU()\n",
    "        )\n",
    "    \n",
    "    def forward(self, x):\n",
    "        '''\n",
    "        Args:\n",
    "            x: [batch_size, n_relations, input_size]\n",
    "        Returns:\n",
    "            [batch_size, n_relations, output_size]\n",
    "        '''\n",
    "        batch_size, n_relations, input_size = x.size()\n",
    "        x = x.view(-1, input_size)\n",
    "        x = self.layers(x)\n",
    "        x = x.view(batch_size, n_relations, self.output_size)\n",
    "        return x"
   ]
  },
  {
   "cell_type": "code",
   "execution_count": null,
   "id": "checked-pound",
   "metadata": {},
   "outputs": [],
   "source": [
    "class ObjectModel(nn.Module):\n",
    "    def __init__(self, input_size, hidden_size, D):\n",
    "        super(ObjectModel, self).__init__()\n",
    "        \n",
    "        self.layers = nn.Sequential(\n",
    "            nn.Linear(input_size, hidden_size),\n",
    "            nn.ReLU(),\n",
    "            nn.Linear(hidden_size, hidden_size),\n",
    "            nn.ReLU(),\n",
    "            nn.Linear(hidden_size, 1), #speedX and speedY\n",
    "        )\n",
    "        \n",
    "    def forward(self, x):\n",
    "        '''\n",
    "        Args:\n",
    "            x: [batch_size, n_objects, input_size]\n",
    "        Returns:\n",
    "            [batch_size * n_objects, 2] speedX and speedY\n",
    "        '''\n",
    "        input_size = x.size(2)*x.size(1)\n",
    "        x = x.view(-1, input_size)\n",
    "        return self.layers(x)\n"
   ]
  },
  {
   "cell_type": "code",
   "execution_count": null,
   "id": "constant-highland",
   "metadata": {},
   "outputs": [],
   "source": [
    "class InteractionNetwork(nn.Module):\n",
    "    def __init__(self, n_objects, object_dim, n_relations, relation_dim, effect_dim):\n",
    "        super(InteractionNetwork, self).__init__()\n",
    "        \n",
    "        self.relational_model = RelationalModel(2*object_dim + relation_dim, effect_dim, 150)\n",
    "        self.object_model     = ObjectModel((object_dim + effect_dim)*n_objects, 100)\n",
    "    \n",
    "    def forward(self, objects, sender_relations, receiver_relations, relation_info):\n",
    "        senders   = sender_relations.permute(0, 2, 1).bmm(objects)\n",
    "        receivers = receiver_relations.permute(0, 2, 1).bmm(objects)\n",
    "        effects = self.relational_model(torch.cat([senders, receivers, relation_info], 2))\n",
    "        effect_receivers = receiver_relations.bmm(effects)\n",
    "        predicted = self.object_model(torch.cat([objects, effect_receivers], 2))\n",
    "        return predicted"
   ]
  },
  {
   "cell_type": "code",
   "execution_count": null,
   "id": "liable-reducing",
   "metadata": {},
   "outputs": [],
   "source": [
    "USE_CUDA = True"
   ]
  },
  {
   "cell_type": "code",
   "execution_count": null,
   "id": "ethical-whole",
   "metadata": {},
   "outputs": [],
   "source": []
  },
  {
   "cell_type": "code",
   "execution_count": null,
   "id": "ordinary-revision",
   "metadata": {},
   "outputs": [],
   "source": []
  },
  {
   "cell_type": "code",
   "execution_count": null,
   "id": "confused-boards",
   "metadata": {},
   "outputs": [],
   "source": []
  },
  {
   "cell_type": "code",
   "execution_count": null,
   "id": "micro-button",
   "metadata": {},
   "outputs": [],
   "source": []
  },
  {
   "cell_type": "code",
   "execution_count": null,
   "id": "directed-browse",
   "metadata": {},
   "outputs": [],
   "source": []
  },
  {
   "cell_type": "code",
   "execution_count": null,
   "id": "actual-produce",
   "metadata": {},
   "outputs": [],
   "source": [
    "interaction_network = InteractionNetwork(n_objects, object_dim, n_relations, relation_dim, effect_dim)\n",
    "\n",
    "if USE_CUDA:\n",
    "    interaction_network = interaction_network.cuda()\n",
    "    \n",
    "optimizer = optim.Adam(interaction_network.parameters())\n",
    "criterion = nn.BCEWithLogitsLoss()\n",
    "\n"
   ]
  },
  {
   "cell_type": "code",
   "execution_count": null,
   "id": "sporting-incident",
   "metadata": {},
   "outputs": [],
   "source": [
    "n_epoch = 100\n",
    "batch_size=1000\n",
    "batches_per_epoch = int(len(data)/batch_size)\n",
    "\n",
    "losses = []\n",
    "for epoch in range(n_epoch):\n",
    "    for idx in range(batches_per_epoch):\n",
    "        print((idx/batches_per_epoch)*100,\"percent\")\n",
    "        objects, sender_relations, receiver_relations, relation_info, target = get_batch(data, label, idx, batch_size)\n",
    "        predicted = interaction_network(objects, sender_relations, receiver_relations, relation_info)\n",
    "        loss = criterion(predicted.flatten(), target)\n",
    "        optimizer.zero_grad()\n",
    "        loss.backward()\n",
    "        optimizer.step()\n",
    "        losses.append(loss.data.cpu().numpy())\n",
    "        \n",
    "    clear_output(True)\n",
    "    plt.figure(figsize=(20,5))\n",
    "    plt.subplot(131)\n",
    "    plt.title('Epoch %s RMS Error %s' % (epoch, np.sqrt(np.mean(losses[-100:]))))\n",
    "    plt.plot(losses)\n",
    "    plt.show()"
   ]
  },
  {
   "cell_type": "code",
   "execution_count": null,
   "id": "voluntary-douglas",
   "metadata": {},
   "outputs": [],
   "source": []
  },
  {
   "cell_type": "code",
   "execution_count": null,
   "id": "departmental-darwin",
   "metadata": {},
   "outputs": [],
   "source": []
  },
  {
   "cell_type": "code",
   "execution_count": null,
   "id": "innovative-clark",
   "metadata": {},
   "outputs": [],
   "source": []
  },
  {
   "cell_type": "code",
   "execution_count": null,
   "id": "frank-defeat",
   "metadata": {},
   "outputs": [],
   "source": []
  },
  {
   "cell_type": "code",
   "execution_count": null,
   "id": "increasing-logan",
   "metadata": {},
   "outputs": [],
   "source": []
  },
  {
   "cell_type": "code",
   "execution_count": null,
   "id": "valued-irrigation",
   "metadata": {},
   "outputs": [],
   "source": []
  },
  {
   "cell_type": "code",
   "execution_count": null,
   "id": "agreed-midwest",
   "metadata": {},
   "outputs": [],
   "source": []
  },
  {
   "cell_type": "code",
   "execution_count": null,
   "id": "dangerous-authentication",
   "metadata": {},
   "outputs": [],
   "source": []
  }
 ],
 "metadata": {
  "kernelspec": {
   "display_name": "Python 3",
   "language": "python",
   "name": "python3"
  },
  "language_info": {
   "codemirror_mode": {
    "name": "ipython",
    "version": 3
   },
   "file_extension": ".py",
   "mimetype": "text/x-python",
   "name": "python",
   "nbconvert_exporter": "python",
   "pygments_lexer": "ipython3",
   "version": "3.7.10"
  }
 },
 "nbformat": 4,
 "nbformat_minor": 5
}
