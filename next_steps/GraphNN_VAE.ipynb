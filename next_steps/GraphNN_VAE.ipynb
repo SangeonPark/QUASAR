{
 "cells": [
  {
   "cell_type": "code",
   "execution_count": 1,
   "id": "lesser-avatar",
   "metadata": {},
   "outputs": [],
   "source": [
    "import numpy as np\n",
    "import scipy as sp\n",
    "import scipy.stats\n",
    "import itertools\n",
    "import logging\n",
    "import matplotlib.pyplot as plt\n",
    "import pandas as pd\n",
    "import torch.utils.data as utils\n",
    "import math\n",
    "import time\n",
    "import tqdm\n",
    "\n",
    "import torch\n",
    "import torch.optim as optim\n",
    "import torch.nn.functional as F\n",
    "from argparse import ArgumentParser\n",
    "from torch.distributions import MultivariateNormal\n",
    "\n",
    "import torch.nn as nn\n",
    "import torch.nn.init as init\n",
    "import sys\n",
    "\n",
    "sys.path.append(\"../new_flows\")\n",
    "from flows import RealNVP, Planar, MAF\n",
    "from models import NormalizingFlowModel\n",
    "import random\n",
    "from torch.autograd import Variable"
   ]
  },
  {
   "cell_type": "code",
   "execution_count": 2,
   "id": "motivated-fields",
   "metadata": {},
   "outputs": [],
   "source": [
    "import random\n",
    "from torch.autograd import Variable"
   ]
  },
  {
   "cell_type": "code",
   "execution_count": 3,
   "id": "perceived-witness",
   "metadata": {},
   "outputs": [],
   "source": [
    "df = pd.read_hdf(\"/data/t3home000/spark/LHCOlympics_previous/preprocessed_40part_testdataset.h5\")"
   ]
  },
  {
   "cell_type": "code",
   "execution_count": 4,
   "id": "sublime-potato",
   "metadata": {},
   "outputs": [],
   "source": [
    "dt = df.values"
   ]
  },
  {
   "cell_type": "code",
   "execution_count": 5,
   "id": "elder-latex",
   "metadata": {},
   "outputs": [
    {
     "data": {
      "text/plain": [
       "(1100000, 121)"
      ]
     },
     "execution_count": 5,
     "metadata": {},
     "output_type": "execute_result"
    }
   ],
   "source": [
    "dt.shape"
   ]
  },
  {
   "cell_type": "code",
   "execution_count": 6,
   "id": "severe-forest",
   "metadata": {},
   "outputs": [],
   "source": [
    "idx = dt[:,120]\n",
    "bkg_idx = np.where(idx==0)[0]\n",
    "sig_idx = np.where(idx==1)[0]"
   ]
  },
  {
   "cell_type": "code",
   "execution_count": 7,
   "id": "noted-spelling",
   "metadata": {},
   "outputs": [],
   "source": [
    "dt = dt[:,:120]\n",
    "label = idx"
   ]
  },
  {
   "cell_type": "code",
   "execution_count": 8,
   "id": "involved-escape",
   "metadata": {},
   "outputs": [
    {
     "data": {
      "text/plain": [
       "(1100000, 120)"
      ]
     },
     "execution_count": 8,
     "metadata": {},
     "output_type": "execute_result"
    }
   ],
   "source": [
    "dt.shape"
   ]
  },
  {
   "cell_type": "code",
   "execution_count": 9,
   "id": "played-miracle",
   "metadata": {},
   "outputs": [
    {
     "data": {
      "text/plain": [
       "(1100000,)"
      ]
     },
     "execution_count": 9,
     "metadata": {},
     "output_type": "execute_result"
    }
   ],
   "source": [
    "label.shape"
   ]
  },
  {
   "cell_type": "code",
   "execution_count": 10,
   "id": "north-football",
   "metadata": {},
   "outputs": [],
   "source": [
    "data = np.reshape(dt, (-1,40,3))"
   ]
  },
  {
   "cell_type": "code",
   "execution_count": 11,
   "id": "strange-spectacular",
   "metadata": {},
   "outputs": [
    {
     "data": {
      "text/plain": [
       "(1100000, 40, 3)"
      ]
     },
     "execution_count": 11,
     "metadata": {},
     "output_type": "execute_result"
    }
   ],
   "source": [
    "data.shape"
   ]
  },
  {
   "cell_type": "code",
   "execution_count": 12,
   "id": "victorian-establishment",
   "metadata": {},
   "outputs": [
    {
     "data": {
      "text/plain": [
       "array([0., 0., 0., ..., 0., 0., 0.])"
      ]
     },
     "execution_count": 12,
     "metadata": {},
     "output_type": "execute_result"
    }
   ],
   "source": [
    "label"
   ]
  },
  {
   "cell_type": "code",
   "execution_count": 13,
   "id": "signed-proposal",
   "metadata": {},
   "outputs": [
    {
     "data": {
      "text/plain": [
       "(100000, 40, 3)"
      ]
     },
     "execution_count": 13,
     "metadata": {},
     "output_type": "execute_result"
    }
   ],
   "source": [
    "data_bkg = dt[bkg_idx]\n",
    "\n",
    "data_sig = dt[sig_idx]\n",
    "\n",
    "data_bkg = data_bkg[:,0:120]\n",
    "\n",
    "data_sig = data_sig[:,0:120]\n",
    "\n",
    "data_bkg = np.reshape(data_bkg, (-1,40,3))\n",
    "\n",
    "data_bkg.shape # (Nevents, Npfcands, Nfeats)\n",
    "\n",
    "data_sig = np.reshape(data_sig, (-1,40,3))\n",
    "\n",
    "data_sig.shape"
   ]
  },
  {
   "cell_type": "markdown",
   "id": "af7b9021",
   "metadata": {},
   "source": [
    "# MAKE DATASET"
   ]
  },
  {
   "cell_type": "code",
   "execution_count": 14,
   "id": "b2ca42c8",
   "metadata": {},
   "outputs": [],
   "source": [
    "import torch\n",
    "from torch_geometric.data import InMemoryDataset, download_url"
   ]
  },
  {
   "cell_type": "code",
   "execution_count": null,
   "id": "34115ac3",
   "metadata": {},
   "outputs": [],
   "source": [
    "class DijetAnomaly(InMemoryDataset):\n",
    "    "
   ]
  },
  {
   "cell_type": "markdown",
   "id": "golden-guyana",
   "metadata": {},
   "source": [
    "# Make Plotting Scripts, Will later make into a separate module"
   ]
  },
  {
   "cell_type": "code",
   "execution_count": 27,
   "id": "behind-treasure",
   "metadata": {},
   "outputs": [],
   "source": [
    "def plot_event(pfcands, name):\n",
    "\n",
    "    pt = pfcands[:,0]\n",
    "    eta = pfcands[:,1]\n",
    "    phi = pfcands[:,2]\n",
    "    fig = plt.figure()\n",
    "    ax = fig.add_subplot(1,1,1)\n",
    "    ax.scatter(eta,phi,s=pt*10000, alpha=0.2)\n",
    "    ax.set_xlabel('eta')\n",
    "    ax.set_ylabel('phi')\n",
    "    ax.set_xlim([-4,4])\n",
    "    ax.set_ylim([-4,4])\n",
    "    fig.savefig(f'figures/{name}.png')"
   ]
  },
  {
   "cell_type": "code",
   "execution_count": 34,
   "id": "outdoor-handbook",
   "metadata": {},
   "outputs": [
    {
     "data": {
      "image/png": "[encoded data removed]",
      "text/plain": [
       "<Figure size 432x288 with 1 Axes>"
      ]
     },
     "metadata": {
      "needs_background": "light"
     },
     "output_type": "display_data"
    }
   ],
   "source": [
    "plot_event(data_sig[4],\"event_sig_idx4\")"
   ]
  },
  {
   "cell_type": "code",
   "execution_count": null,
   "id": "removable-priority",
   "metadata": {},
   "outputs": [],
   "source": []
  },
  {
   "cell_type": "code",
   "execution_count": null,
   "id": "bound-recorder",
   "metadata": {},
   "outputs": [],
   "source": []
  },
  {
   "cell_type": "markdown",
   "id": "focused-baseline",
   "metadata": {},
   "source": [
    "# 40 Body System, 3 features ( pT, eta, Phi) for each object (PF candidate)"
   ]
  },
  {
   "cell_type": "code",
   "execution_count": 14,
   "id": "prepared-soldier",
   "metadata": {},
   "outputs": [],
   "source": [
    "n_objects  = 40 # number of PF candidates(nodes)\n",
    "object_dim = 3 # features: mass, x coordinate, y coordinate, speed on x-axis, speed on y-axis\n",
    "\n",
    "n_relations  = n_objects * (n_objects - 1) # number of edges in fully connected graph\n",
    "relation_dim = 1\n",
    "\n",
    "effect_dim = 10 #effect's vector size\n"
   ]
  },
  {
   "cell_type": "code",
   "execution_count": 15,
   "id": "buried-miracle",
   "metadata": {},
   "outputs": [
    {
     "data": {
      "text/plain": [
       "1560"
      ]
     },
     "execution_count": 15,
     "metadata": {},
     "output_type": "execute_result"
    }
   ],
   "source": [
    "n_relations"
   ]
  },
  {
   "cell_type": "code",
   "execution_count": 16,
   "id": "differential-locator",
   "metadata": {},
   "outputs": [
    {
     "data": {
      "text/plain": [
       "(1100000, 40, 3)"
      ]
     },
     "execution_count": 16,
     "metadata": {},
     "output_type": "execute_result"
    }
   ],
   "source": [
    "data.shape"
   ]
  },
  {
   "cell_type": "code",
   "execution_count": 17,
   "id": "committed-shipping",
   "metadata": {},
   "outputs": [],
   "source": [
    "def get_batch(data, label, idx, batch_size):\n",
    "    \n",
    "    start_idx = idx*batch_size\n",
    "    end_idx = idx*batch_size+batch_size\n",
    "\n",
    "    batch_data = data[start_idx: end_idx]\n",
    "    label_data = label[start_idx: end_idx]\n",
    "    \n",
    "    objects = batch_data\n",
    "    \n",
    "    \n",
    "    #receiver_relations, sender_relations - onehot encoding matrices\n",
    "    #each column indicates the receiver and sender object’s index\n",
    "    \n",
    "    receiver_relations = np.zeros((batch_size, n_objects, n_relations), dtype=float);\n",
    "    sender_relations   = np.zeros((batch_size, n_objects, n_relations), dtype=float);\n",
    "    \n",
    "    cnt = 0\n",
    "    for i in range(n_objects):\n",
    "        for j in range(n_objects):\n",
    "            if(i != j):\n",
    "                receiver_relations[:, i, cnt] = 1.0\n",
    "                sender_relations[:, j, cnt]   = 1.0\n",
    "                cnt += 1\n",
    "    \n",
    "    #There is no relation info in solar system task, just fill with zeros\n",
    "    relation_info = np.zeros((batch_size, n_relations, relation_dim))\n",
    "    target = label_data\n",
    "    \n",
    "    objects            = Variable(torch.FloatTensor(objects))\n",
    "    sender_relations   = Variable(torch.FloatTensor(sender_relations))\n",
    "    receiver_relations = Variable(torch.FloatTensor(receiver_relations))\n",
    "    relation_info      = Variable(torch.FloatTensor(relation_info))\n",
    "    target             = Variable(torch.FloatTensor(target))\n",
    "                       \n",
    "    if USE_CUDA:\n",
    "        objects            = objects.cuda()\n",
    "        sender_relations   = sender_relations.cuda()\n",
    "        receiver_relations = receiver_relations.cuda()\n",
    "        relation_info      = relation_info.cuda()\n",
    "        target             = target.cuda()\n",
    "    \n",
    "    return objects, sender_relations, receiver_relations, relation_info, target\n"
   ]
  },
  {
   "cell_type": "code",
   "execution_count": 18,
   "id": "cooked-scott",
   "metadata": {},
   "outputs": [],
   "source": [
    "class RelationalModel(nn.Module):\n",
    "    def __init__(self, input_size, output_size, hidden_size):\n",
    "        super(RelationalModel, self).__init__()\n",
    "        \n",
    "        self.output_size = output_size\n",
    "        \n",
    "        self.layers = nn.Sequential(\n",
    "            nn.Linear(input_size, hidden_size),\n",
    "            nn.ReLU(),\n",
    "            nn.Linear(hidden_size, hidden_size),\n",
    "            nn.ReLU(),\n",
    "            nn.Linear(hidden_size, output_size),\n",
    "            nn.ReLU()\n",
    "        )\n",
    "    \n",
    "    def forward(self, x):\n",
    "        '''\n",
    "        Args:\n",
    "            x: [batch_size, n_relations, input_size]\n",
    "        Returns:\n",
    "            [batch_size, n_relations, output_size]\n",
    "        '''\n",
    "        batch_size, n_relations, input_size = x.size()\n",
    "        x = x.view(-1, input_size)\n",
    "        x = self.layers(x)\n",
    "        x = x.view(batch_size, n_relations, self.output_size)\n",
    "        return x"
   ]
  },
  {
   "cell_type": "code",
   "execution_count": 19,
   "id": "checked-pound",
   "metadata": {},
   "outputs": [],
   "source": [
    "class ObjectModel(nn.Module):\n",
    "    def __init__(self, input_size, hidden_size, D):\n",
    "        super(ObjectModel, self).__init__()\n",
    "        \n",
    "        self.layers = nn.Sequential(\n",
    "            nn.Linear(input_size, hidden_size),\n",
    "            nn.ReLU(),\n",
    "            nn.Linear(hidden_size, hidden_size),\n",
    "            nn.ReLU(),\n",
    "            nn.Linear(hidden_size, 1), #speedX and speedY\n",
    "        )\n",
    "        \n",
    "    def forward(self, x):\n",
    "        '''\n",
    "        Args:\n",
    "            x: [batch_size, n_objects, input_size]\n",
    "        Returns:\n",
    "            [batch_size * n_objects, 2] speedX and speedY\n",
    "        '''\n",
    "        input_size = x.size(2)*x.size(1)\n",
    "        x = x.view(-1, input_size)\n",
    "        return self.layers(x)\n"
   ]
  },
  {
   "cell_type": "code",
   "execution_count": 20,
   "id": "constant-highland",
   "metadata": {},
   "outputs": [],
   "source": [
    "class InteractionNetwork(nn.Module):\n",
    "    def __init__(self, n_objects, object_dim, n_relations, relation_dim, effect_dim):\n",
    "        super(InteractionNetwork, self).__init__()\n",
    "        \n",
    "        self.relational_model = RelationalModel(2*object_dim + relation_dim, effect_dim, 150)\n",
    "        self.object_model     = ObjectModel((object_dim + effect_dim)*n_objects, 100)\n",
    "    \n",
    "    def forward(self, objects, sender_relations, receiver_relations, relation_info):\n",
    "        senders   = sender_relations.permute(0, 2, 1).bmm(objects)\n",
    "        receivers = receiver_relations.permute(0, 2, 1).bmm(objects)\n",
    "        effects = self.relational_model(torch.cat([senders, receivers, relation_info], 2))\n",
    "        effect_receivers = receiver_relations.bmm(effects)\n",
    "        predicted = self.object_model(torch.cat([objects, effect_receivers], 2))\n",
    "        return predicted"
   ]
  },
  {
   "cell_type": "code",
   "execution_count": 21,
   "id": "liable-reducing",
   "metadata": {},
   "outputs": [],
   "source": [
    "USE_CUDA = True"
   ]
  },
  {
   "cell_type": "code",
   "execution_count": null,
   "id": "ethical-whole",
   "metadata": {},
   "outputs": [],
   "source": []
  },
  {
   "cell_type": "code",
   "execution_count": null,
   "id": "ordinary-revision",
   "metadata": {},
   "outputs": [],
   "source": []
  },
  {
   "cell_type": "code",
   "execution_count": null,
   "id": "confused-boards",
   "metadata": {},
   "outputs": [],
   "source": []
  },
  {
   "cell_type": "code",
   "execution_count": null,
   "id": "micro-button",
   "metadata": {},
   "outputs": [],
   "source": []
  },
  {
   "cell_type": "code",
   "execution_count": null,
   "id": "directed-browse",
   "metadata": {},
   "outputs": [],
   "source": []
  },
  {
   "cell_type": "code",
   "execution_count": 22,
   "id": "actual-produce",
   "metadata": {},
   "outputs": [],
   "source": [
    "interaction_network = InteractionNetwork(n_objects, object_dim, n_relations, relation_dim, effect_dim)\n",
    "\n",
    "if USE_CUDA:\n",
    "    interaction_network = interaction_network.cuda()\n",
    "    \n",
    "optimizer = optim.Adam(interaction_network.parameters())\n",
    "criterion = nn.BCEWithLogitsLoss()\n",
    "\n"
   ]
  },
  {
   "cell_type": "code",
   "execution_count": null,
   "id": "sporting-incident",
   "metadata": {},
   "outputs": [
    {
     "name": "stdout",
     "output_type": "stream",
     "text": [
      "0.0 percent\n",
      "0.09090909090909091 percent\n",
      "0.18181818181818182 percent\n",
      "0.27272727272727276 percent\n",
      "0.36363636363636365 percent\n",
      "0.45454545454545453 percent\n",
      "0.5454545454545455 percent\n",
      "0.6363636363636364 percent\n",
      "0.7272727272727273 percent\n",
      "0.8181818181818182 percent\n",
      "0.9090909090909091 percent\n",
      "1.0 percent\n",
      "1.090909090909091 percent\n",
      "1.1818181818181819 percent\n",
      "1.2727272727272727 percent\n",
      "1.3636363636363635 percent\n",
      "1.4545454545454546 percent\n",
      "1.5454545454545454 percent\n",
      "1.6363636363636365 percent\n",
      "1.7272727272727273 percent\n",
      "1.8181818181818181 percent\n",
      "1.9090909090909092 percent\n",
      "2.0 percent\n",
      "2.090909090909091 percent\n",
      "2.181818181818182 percent\n",
      "2.272727272727273 percent\n",
      "2.3636363636363638 percent\n",
      "2.4545454545454546 percent\n",
      "2.5454545454545454 percent\n",
      "2.6363636363636362 percent\n",
      "2.727272727272727 percent\n",
      "2.8181818181818183 percent\n",
      "2.909090909090909 percent\n",
      "3.0 percent\n",
      "3.090909090909091 percent\n",
      "3.1818181818181817 percent\n",
      "3.272727272727273 percent\n",
      "3.3636363636363638 percent\n",
      "3.4545454545454546 percent\n",
      "3.5454545454545454 percent\n",
      "3.6363636363636362 percent\n",
      "3.727272727272727 percent\n",
      "3.8181818181818183 percent\n",
      "3.909090909090909 percent\n",
      "4.0 percent\n",
      "4.090909090909091 percent\n",
      "4.181818181818182 percent\n",
      "4.2727272727272725 percent\n",
      "4.363636363636364 percent\n",
      "4.454545454545455 percent\n",
      "4.545454545454546 percent\n",
      "4.636363636363637 percent\n",
      "4.7272727272727275 percent\n",
      "4.818181818181818 percent\n",
      "4.909090909090909 percent\n",
      "5.0 percent\n",
      "5.090909090909091 percent\n",
      "5.181818181818182 percent\n",
      "5.2727272727272725 percent\n",
      "5.363636363636363 percent\n",
      "5.454545454545454 percent\n",
      "5.545454545454546 percent\n",
      "5.636363636363637 percent\n",
      "5.7272727272727275 percent\n",
      "5.818181818181818 percent\n",
      "5.909090909090909 percent\n",
      "6.0 percent\n",
      "6.090909090909091 percent\n",
      "6.181818181818182 percent\n",
      "6.2727272727272725 percent\n",
      "6.363636363636363 percent\n",
      "6.454545454545454 percent\n",
      "6.545454545454546 percent\n",
      "6.636363636363636 percent\n",
      "6.7272727272727275 percent\n",
      "6.8181818181818175 percent\n",
      "6.909090909090909 percent\n",
      "7.000000000000001 percent\n",
      "7.090909090909091 percent\n",
      "7.1818181818181825 percent\n",
      "7.2727272727272725 percent\n",
      "7.363636363636364 percent\n",
      "7.454545454545454 percent\n",
      "7.545454545454546 percent\n",
      "7.636363636363637 percent\n",
      "7.727272727272727 percent\n",
      "7.818181818181818 percent\n",
      "7.909090909090908 percent\n",
      "8.0 percent\n",
      "8.09090909090909 percent\n",
      "8.181818181818182 percent\n",
      "8.272727272727273 percent\n",
      "8.363636363636363 percent\n",
      "8.454545454545455 percent\n",
      "8.545454545454545 percent\n",
      "8.636363636363637 percent\n",
      "8.727272727272728 percent\n",
      "8.818181818181818 percent\n",
      "8.90909090909091 percent\n",
      "9.0 percent\n",
      "9.090909090909092 percent\n",
      "9.181818181818182 percent\n",
      "9.272727272727273 percent\n",
      "9.363636363636365 percent\n",
      "9.454545454545455 percent\n",
      "9.545454545454547 percent\n",
      "9.636363636363637 percent\n",
      "9.727272727272727 percent\n",
      "9.818181818181818 percent\n",
      "9.909090909090908 percent\n",
      "10.0 percent\n",
      "10.09090909090909 percent\n",
      "10.181818181818182 percent\n",
      "10.272727272727272 percent\n",
      "10.363636363636363 percent\n",
      "10.454545454545453 percent\n",
      "10.545454545454545 percent\n",
      "10.636363636363637 percent\n",
      "10.727272727272727 percent\n",
      "10.818181818181818 percent\n",
      "10.909090909090908 percent\n",
      "11.0 percent\n",
      "11.090909090909092 percent\n",
      "11.181818181818182 percent\n",
      "11.272727272727273 percent\n",
      "11.363636363636363 percent\n",
      "11.454545454545455 percent\n",
      "11.545454545454545 percent\n",
      "11.636363636363637 percent\n",
      "11.727272727272728 percent\n",
      "11.818181818181818 percent\n",
      "11.90909090909091 percent\n",
      "12.0 percent\n",
      "12.090909090909092 percent\n",
      "12.181818181818182 percent\n",
      "12.272727272727273 percent\n",
      "12.363636363636363 percent\n",
      "12.454545454545455 percent\n",
      "12.545454545454545 percent\n",
      "12.636363636363637 percent\n",
      "12.727272727272727 percent\n",
      "12.818181818181817 percent\n",
      "12.909090909090908 percent\n",
      "13.0 percent\n",
      "13.090909090909092 percent\n",
      "13.18181818181818 percent\n",
      "13.272727272727272 percent\n",
      "13.363636363636363 percent\n",
      "13.454545454545455 percent\n",
      "13.545454545454547 percent\n",
      "13.636363636363635 percent\n",
      "13.727272727272727 percent\n",
      "13.818181818181818 percent\n",
      "13.90909090909091 percent\n",
      "14.000000000000002 percent\n",
      "14.09090909090909 percent\n",
      "14.181818181818182 percent\n",
      "14.272727272727273 percent\n",
      "14.363636363636365 percent\n",
      "14.454545454545453 percent\n",
      "14.545454545454545 percent\n",
      "14.636363636363637 percent\n",
      "14.727272727272728 percent\n",
      "14.81818181818182 percent\n",
      "14.909090909090908 percent\n",
      "15.0 percent\n",
      "15.090909090909092 percent\n",
      "15.181818181818182 percent\n",
      "15.272727272727273 percent\n",
      "15.363636363636363 percent\n",
      "15.454545454545453 percent\n",
      "15.545454545454545 percent\n",
      "15.636363636363637 percent\n",
      "15.727272727272728 percent\n",
      "15.818181818181817 percent\n",
      "15.909090909090908 percent\n",
      "16.0 percent\n",
      "16.090909090909093 percent\n",
      "16.18181818181818 percent\n",
      "16.272727272727273 percent\n",
      "16.363636363636363 percent\n",
      "16.454545454545453 percent\n",
      "16.545454545454547 percent\n",
      "16.636363636363637 percent\n",
      "16.727272727272727 percent\n",
      "16.818181818181817 percent\n",
      "16.90909090909091 percent\n",
      "17.0 percent\n",
      "17.09090909090909 percent\n",
      "17.18181818181818 percent\n",
      "17.272727272727273 percent\n",
      "17.363636363636363 percent\n",
      "17.454545454545457 percent\n",
      "17.545454545454543 percent\n",
      "17.636363636363637 percent\n",
      "17.727272727272727 percent\n",
      "17.81818181818182 percent\n",
      "17.909090909090907 percent\n",
      "18.0 percent\n",
      "18.09090909090909 percent\n",
      "18.181818181818183 percent\n",
      "18.272727272727273 percent\n",
      "18.363636363636363 percent\n",
      "18.454545454545453 percent\n",
      "18.545454545454547 percent\n",
      "18.636363636363637 percent\n",
      "18.72727272727273 percent\n",
      "18.818181818181817 percent\n",
      "18.90909090909091 percent\n"
     ]
    }
   ],
   "source": [
    "n_epoch = 100\n",
    "batch_size=1000\n",
    "batches_per_epoch = int(len(data)/batch_size)\n",
    "\n",
    "losses = []\n",
    "for epoch in range(n_epoch):\n",
    "    for idx in range(batches_per_epoch):\n",
    "        print((idx/batches_per_epoch)*100,\"percent\")\n",
    "        objects, sender_relations, receiver_relations, relation_info, target = get_batch(data, label, idx, batch_size)\n",
    "        predicted = interaction_network(objects, sender_relations, receiver_relations, relation_info)\n",
    "        loss = criterion(predicted.flatten(), target)\n",
    "        optimizer.zero_grad()\n",
    "        loss.backward()\n",
    "        optimizer.step()\n",
    "        losses.append(loss.data.cpu().numpy())\n",
    "        \n",
    "    clear_output(True)\n",
    "    plt.figure(figsize=(20,5))\n",
    "    plt.subplot(131)\n",
    "    plt.title('Epoch %s RMS Error %s' % (epoch, np.sqrt(np.mean(losses[-100:]))))\n",
    "    plt.plot(losses)\n",
    "    plt.show()"
   ]
  },
  {
   "cell_type": "code",
   "execution_count": null,
   "id": "voluntary-douglas",
   "metadata": {},
   "outputs": [],
   "source": []
  },
  {
   "cell_type": "code",
   "execution_count": null,
   "id": "departmental-darwin",
   "metadata": {},
   "outputs": [],
   "source": []
  },
  {
   "cell_type": "code",
   "execution_count": null,
   "id": "innovative-clark",
   "metadata": {},
   "outputs": [],
   "source": []
  },
  {
   "cell_type": "code",
   "execution_count": null,
   "id": "frank-defeat",
   "metadata": {},
   "outputs": [],
   "source": []
  },
  {
   "cell_type": "code",
   "execution_count": null,
   "id": "increasing-logan",
   "metadata": {},
   "outputs": [],
   "source": []
  },
  {
   "cell_type": "code",
   "execution_count": null,
   "id": "valued-irrigation",
   "metadata": {},
   "outputs": [],
   "source": []
  },
  {
   "cell_type": "code",
   "execution_count": null,
   "id": "agreed-midwest",
   "metadata": {},
   "outputs": [],
   "source": []
  },
  {
   "cell_type": "code",
   "execution_count": null,
   "id": "dangerous-authentication",
   "metadata": {},
   "outputs": [],
   "source": []
  }
 ],
 "metadata": {
  "kernelspec": {
   "display_name": "Python 3",
   "language": "python",
   "name": "python3"
  },
  "language_info": {
   "codemirror_mode": {
    "name": "ipython",
    "version": 3
   },
   "file_extension": ".py",
   "mimetype": "text/x-python",
   "name": "python",
   "nbconvert_exporter": "python",
   "pygments_lexer": "ipython3",
   "version": "3.7.10"
  }
 },
 "nbformat": 4,
 "nbformat_minor": 5
}
