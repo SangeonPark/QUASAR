{
 "cells": [
  {
   "cell_type": "code",
   "execution_count": 1,
   "id": "7b02b082",
   "metadata": {},
   "outputs": [],
   "source": [
    "import numpy as np\n",
    "import matplotlib.pyplot as plt\n",
    "from imageio import imread\n",
    "from sklearn.neighbors import KernelDensity\n",
    "from torch.nn.functional import avg_pool2d\n",
    "\n",
    "import torch\n",
    "from geomloss import SamplesLoss\n",
    "\n",
    "use_cuda = torch.cuda.is_available()\n",
    "dtype = torch.cuda.FloatTensor if use_cuda else torch.FloatTensor"
   ]
  },
  {
   "cell_type": "code",
   "execution_count": 2,
   "id": "7234dadc",
   "metadata": {},
   "outputs": [],
   "source": [
    "def grid(W):\n",
    "    y, x = torch.meshgrid([torch.arange(0.0, W).type(dtype) / W] * 2)\n",
    "    return torch.stack((x, y), dim=2).view(-1, 2)\n",
    "\n",
    "\n",
    "def load_image(fname):\n",
    "    img = np.mean(imread(fname), axis=2)  # Grayscale\n",
    "    print(\"done\")\n",
    "    print(\"img shape\", img.shape)\n",
    "    img = (img[:, :]) / 255.0\n",
    "    return 1 - img  # black = 1, white = 0\n",
    "\n",
    "\n",
    "def as_measure(fname, size):\n",
    "    weights = torch.from_numpy(load_image(fname)).type(dtype)\n",
    "    print(weights.size())\n",
    "    sampling = weights.shape[0] // size\n",
    "    weights = (\n",
    "        avg_pool2d(weights.unsqueeze(0).unsqueeze(0), sampling).squeeze(0).squeeze(0)\n",
    "    )\n",
    "    weights = weights / weights.sum()\n",
    "\n",
    "    samples = grid(size)\n",
    "    return weights.view(-1), samples"
   ]
  },
  {
   "cell_type": "code",
   "execution_count": 3,
   "id": "1dc3914c",
   "metadata": {},
   "outputs": [
    {
     "name": "stdout",
     "output_type": "stream",
     "text": [
      "done\n",
      "img shape (256, 256)\n",
      "torch.Size([256, 256])\n",
      "done\n",
      "img shape (256, 256)\n",
      "torch.Size([256, 256])\n",
      "done\n",
      "img shape (256, 256)\n",
      "torch.Size([256, 256])\n",
      "done\n",
      "img shape (512, 512)\n",
      "torch.Size([512, 512])\n"
     ]
    }
   ],
   "source": [
    "N, M = (8, 8) if not use_cuda else (128, 64)\n",
    "\n",
    "E, B = as_measure(\"data/E.png\", M), as_measure(\"data/B.png\", M)\n",
    "C, D = as_measure(\"data/C.png\", M), as_measure(\"data/D.png\", M)"
   ]
  },
  {
   "cell_type": "code",
   "execution_count": 8,
   "id": "c0acffa2",
   "metadata": {},
   "outputs": [
    {
     "data": {
      "text/plain": [
       "numpy.ndarray"
      ]
     },
     "execution_count": 8,
     "metadata": {},
     "output_type": "execute_result"
    }
   ],
   "source": [
    "type(C[0].view(-1,64).cpu().numpy())"
   ]
  },
  {
   "cell_type": "code",
   "execution_count": 9,
   "id": "85daf595",
   "metadata": {
    "scrolled": true
   },
   "outputs": [
    {
     "data": {
      "text/plain": [
       "<matplotlib.image.AxesImage at 0x7f17a07a3fd0>"
      ]
     },
     "execution_count": 9,
     "metadata": {},
     "output_type": "execute_result"
    },
    {
     "data": {
      "image/png": "[encoded data removed]",
      "text/plain": [
       "<Figure size 432x288 with 1 Axes>"
      ]
     },
     "metadata": {
      "needs_background": "light"
     },
     "output_type": "display_data"
    }
   ],
   "source": [
    "plt.imshow(C[0].view(-1,64).cpu().numpy())"
   ]
  },
  {
   "cell_type": "code",
   "execution_count": 4,
   "id": "5f78fba2",
   "metadata": {},
   "outputs": [],
   "source": [
    "import numpy as np\n",
    "import pylab as pl\n",
    "import ot\n"
   ]
  },
  {
   "cell_type": "code",
   "execution_count": 6,
   "id": "e152f6d2",
   "metadata": {},
   "outputs": [
    {
     "data": {
      "text/plain": [
       "torch.Size([4096, 2])"
      ]
     },
     "execution_count": 6,
     "metadata": {},
     "output_type": "execute_result"
    }
   ],
   "source": [
    "E[1].shape"
   ]
  },
  {
   "cell_type": "code",
   "execution_count": 23,
   "id": "c9a2f50b",
   "metadata": {},
   "outputs": [],
   "source": [
    "E1 = E[0].view(-1,64).cpu().numpy()\n",
    "B1 = B[0].view(-1,64).cpu().numpy()\n",
    "C1 = C[0].view(-1,64).cpu().numpy()\n",
    "D1 = D[0].view(-1,64).cpu().numpy()"
   ]
  },
  {
   "cell_type": "code",
   "execution_count": 24,
   "id": "2c722d77",
   "metadata": {},
   "outputs": [],
   "source": [
    "IMAGES = [E1, B1, C1, D1]"
   ]
  },
  {
   "cell_type": "code",
   "execution_count": 25,
   "id": "2e0d2204",
   "metadata": {},
   "outputs": [],
   "source": [
    "IMAGES = np.array(IMAGES)"
   ]
  },
  {
   "cell_type": "code",
   "execution_count": 26,
   "id": "a81c28bb",
   "metadata": {},
   "outputs": [],
   "source": [
    "nb_images = 5\n",
    "\n",
    "# those are the four corners coordinates that will be interpolated by bilinear\n",
    "# interpolation\n",
    "v1 = np.array((1, 0, 0, 0))\n",
    "v2 = np.array((0, 1, 0, 0))\n",
    "v3 = np.array((0, 0, 1, 0))\n",
    "v4 = np.array((0, 0, 0, 1))\n"
   ]
  },
  {
   "cell_type": "code",
   "execution_count": 27,
   "id": "0667c843",
   "metadata": {},
   "outputs": [
    {
     "data": {
      "image/png": "[encoded data removed]",
      "text/plain": [
       "<Figure size 720x720 with 1 Axes>"
      ]
     },
     "metadata": {
      "needs_background": "light"
     },
     "output_type": "display_data"
    }
   ],
   "source": [
    "pl.figure(figsize=(10, 10))\n",
    "pl.title('Convolutional Wasserstein Barycenters in POT')\n",
    "cm = 'Blues'\n",
    "# regularization parameter\n",
    "reg = 0.004"
   ]
  },
  {
   "cell_type": "code",
   "execution_count": null,
   "id": "82ad1fa7",
   "metadata": {},
   "outputs": [],
   "source": []
  },
  {
   "cell_type": "code",
   "execution_count": 30,
   "id": "79e684f9",
   "metadata": {},
   "outputs": [
    {
     "data": {
      "image/png": "[encoded data removed]",
      "text/plain": [
       "<Figure size 432x288 with 25 Axes>"
      ]
     },
     "metadata": {
      "needs_background": "light"
     },
     "output_type": "display_data"
    }
   ],
   "source": [
    "for i in range(nb_images):\n",
    "    for j in range(nb_images):\n",
    "        pl.subplot(nb_images, nb_images, i * nb_images + j + 1)\n",
    "        tx = float(i) / (nb_images - 1)\n",
    "        ty = float(j) / (nb_images - 1)\n",
    "\n",
    "        # weights are constructed by bilinear interpolation\n",
    "        tmp1 = (1 - tx) * v1 + tx * v2\n",
    "        tmp2 = (1 - tx) * v3 + tx * v4\n",
    "        weights = (1 - ty) * tmp1 + ty * tmp2\n",
    "\n",
    "        if i == 0 and j == 0:\n",
    "            pl.imshow(E1, cmap=cm)\n",
    "            pl.axis('off')\n",
    "        elif i == 0 and j == (nb_images - 1):\n",
    "            pl.imshow(C1, cmap=cm)\n",
    "            pl.axis('off')\n",
    "        elif i == (nb_images - 1) and j == 0:\n",
    "            pl.imshow(B1, cmap=cm)\n",
    "            pl.axis('off')\n",
    "        elif i == (nb_images - 1) and j == (nb_images - 1):\n",
    "            pl.imshow(D1, cmap=cm)\n",
    "            pl.axis('off')\n",
    "        else:\n",
    "            # call to barycenter computation\n",
    "            pl.imshow(ot.bregman.convolutional_barycenter2d(IMAGES, reg, weights), cmap=cm)\n",
    "            pl.axis('off')\n",
    "pl.show()"
   ]
  },
  {
   "cell_type": "code",
   "execution_count": 32,
   "id": "bd7b2465",
   "metadata": {},
   "outputs": [
    {
     "data": {
      "text/plain": [
       "(4, 64, 64)"
      ]
     },
     "execution_count": 32,
     "metadata": {},
     "output_type": "execute_result"
    }
   ],
   "source": [
    "IMAGES.shape"
   ]
  },
  {
   "cell_type": "code",
   "execution_count": null,
   "id": "7e7e195b",
   "metadata": {},
   "outputs": [],
   "source": []
  }
 ],
 "metadata": {
  "kernelspec": {
   "display_name": "Python 3",
   "language": "python",
   "name": "python3"
  },
  "language_info": {
   "codemirror_mode": {
    "name": "ipython",
    "version": 3
   },
   "file_extension": ".py",
   "mimetype": "text/x-python",
   "name": "python",
   "nbconvert_exporter": "python",
   "pygments_lexer": "ipython3",
   "version": "3.7.10"
  }
 },
 "nbformat": 4,
 "nbformat_minor": 5
}
