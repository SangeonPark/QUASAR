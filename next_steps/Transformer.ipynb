{
 "cells": [
  {
   "cell_type": "code",
   "execution_count": 1,
   "id": "lesser-avatar",
   "metadata": {},
   "outputs": [],
   "source": [
    "import numpy as np\n",
    "import scipy as sp\n",
    "import scipy.stats\n",
    "import itertools\n",
    "import logging\n",
    "import matplotlib.pyplot as plt\n",
    "import pandas as pd\n",
    "import torch.utils.data as utils\n",
    "import math\n",
    "import time\n",
    "import tqdm\n",
    "\n",
    "import torch\n",
    "import torch.optim as optim\n",
    "import torch.nn.functional as F\n",
    "from argparse import ArgumentParser\n",
    "from torch.distributions import MultivariateNormal\n",
    "\n",
    "import torch.nn as nn\n",
    "import torch.nn.init as init\n",
    "import sys\n",
    "\n",
    "sys.path.append(\"../new_flows\")\n",
    "from flows import RealNVP, Planar, MAF\n",
    "from models import NormalizingFlowModel\n",
    "import random\n",
    "from torch.autograd import Variable"
   ]
  },
  {
   "cell_type": "code",
   "execution_count": 2,
   "id": "perceived-witness",
   "metadata": {},
   "outputs": [],
   "source": [
    "df = pd.read_hdf(\"/data/t3home000/spark/LHCOlympics_previous/preprocessed_40part_testdataset.h5\")"
   ]
  },
  {
   "cell_type": "code",
   "execution_count": 3,
   "id": "sublime-potato",
   "metadata": {},
   "outputs": [],
   "source": [
    "dt = df.values"
   ]
  },
  {
   "cell_type": "code",
   "execution_count": 4,
   "id": "elder-latex",
   "metadata": {},
   "outputs": [
    {
     "data": {
      "text/plain": [
       "(1100000, 121)"
      ]
     },
     "execution_count": 4,
     "metadata": {},
     "output_type": "execute_result"
    }
   ],
   "source": [
    "dt.shape"
   ]
  },
  {
   "cell_type": "code",
   "execution_count": 5,
   "id": "severe-forest",
   "metadata": {},
   "outputs": [],
   "source": [
    "idx = dt[:,120]\n",
    "bkg_idx = np.where(idx==0)[0]\n",
    "sig_idx = np.where(idx==1)[0]"
   ]
  },
  {
   "cell_type": "code",
   "execution_count": 6,
   "id": "noted-spelling",
   "metadata": {},
   "outputs": [],
   "source": [
    "dt = dt[:,:120]\n",
    "label = idx"
   ]
  },
  {
   "cell_type": "code",
   "execution_count": 7,
   "id": "involved-escape",
   "metadata": {},
   "outputs": [
    {
     "data": {
      "text/plain": [
       "(1100000, 120)"
      ]
     },
     "execution_count": 7,
     "metadata": {},
     "output_type": "execute_result"
    }
   ],
   "source": [
    "dt.shape"
   ]
  },
  {
   "cell_type": "code",
   "execution_count": 8,
   "id": "played-miracle",
   "metadata": {},
   "outputs": [
    {
     "data": {
      "text/plain": [
       "(1100000,)"
      ]
     },
     "execution_count": 8,
     "metadata": {},
     "output_type": "execute_result"
    }
   ],
   "source": [
    "label.shape"
   ]
  },
  {
   "cell_type": "code",
   "execution_count": 9,
   "id": "north-football",
   "metadata": {},
   "outputs": [],
   "source": [
    "data = np.reshape(dt, (-1,40,3))"
   ]
  },
  {
   "cell_type": "code",
   "execution_count": 10,
   "id": "strange-spectacular",
   "metadata": {},
   "outputs": [
    {
     "data": {
      "text/plain": [
       "(1100000, 40, 3)"
      ]
     },
     "execution_count": 10,
     "metadata": {},
     "output_type": "execute_result"
    }
   ],
   "source": [
    "data.shape"
   ]
  },
  {
   "cell_type": "code",
   "execution_count": 11,
   "id": "victorian-establishment",
   "metadata": {},
   "outputs": [
    {
     "data": {
      "text/plain": [
       "array([0., 0., 0., ..., 0., 0., 0.])"
      ]
     },
     "execution_count": 11,
     "metadata": {},
     "output_type": "execute_result"
    }
   ],
   "source": [
    "label"
   ]
  },
  {
   "cell_type": "code",
   "execution_count": 12,
   "id": "signed-proposal",
   "metadata": {},
   "outputs": [
    {
     "data": {
      "text/plain": [
       "(100000, 40, 3)"
      ]
     },
     "execution_count": 12,
     "metadata": {},
     "output_type": "execute_result"
    }
   ],
   "source": [
    "data_bkg = dt[bkg_idx]\n",
    "\n",
    "data_sig = dt[sig_idx]\n",
    "\n",
    "data_bkg = data_bkg[:,0:120]\n",
    "\n",
    "data_sig = data_sig[:,0:120]\n",
    "\n",
    "data_bkg = np.reshape(data_bkg, (-1,40,3))\n",
    "\n",
    "data_bkg.shape # (Nevents, Npfcands, Nfeats)\n",
    "\n",
    "data_sig = np.reshape(data_sig, (-1,40,3))\n",
    "\n",
    "data_sig.shape"
   ]
  },
  {
   "cell_type": "code",
   "execution_count": 13,
   "id": "bigger-stereo",
   "metadata": {},
   "outputs": [],
   "source": [
    "from sklearn.model_selection import train_test_split\n",
    "\n",
    "sig_train, sig_test = train_test_split(data_sig, test_size=0.2)"
   ]
  },
  {
   "cell_type": "code",
   "execution_count": 17,
   "id": "62516c1d",
   "metadata": {},
   "outputs": [
    {
     "data": {
      "text/plain": [
       "1.0"
      ]
     },
     "execution_count": 17,
     "metadata": {},
     "output_type": "execute_result"
    }
   ],
   "source": [
    "np.max(data[:,:,0])"
   ]
  },
  {
   "cell_type": "code",
   "execution_count": 14,
   "id": "iraqi-lithuania",
   "metadata": {},
   "outputs": [
    {
     "data": {
      "text/plain": [
       "(80000, 40, 3)"
      ]
     },
     "execution_count": 14,
     "metadata": {},
     "output_type": "execute_result"
    }
   ],
   "source": [
    "sig_train.shape"
   ]
  },
  {
   "cell_type": "code",
   "execution_count": 15,
   "id": "flexible-fluid",
   "metadata": {},
   "outputs": [],
   "source": [
    "class PositionalEncoding(nn.Module):\n",
    "    def __init__(self, d_model, dropout=0.1, max_len=512):\n",
    "        super(PositionalEncoding, self).__init__()\n",
    "        self.dropout = nn.Dropout(p=dropout)\n",
    "        pe = torch.zeros(max_len, d_model)\n",
    "        position = torch.arange(0, max_len, dtype=torch.float).unsqueeze(1)\n",
    "        div_term = torch.exp(torch.arange(0, d_model, 2).float() * (-math.log(10000.0) / d_model))\n",
    "        pe[:, 0::2] = torch.sin(position * div_term)\n",
    "        pe[:, 1::2] = torch.cos(position * div_term)\n",
    "        pe = pe.unsqueeze(0).transpose(0, 1)\n",
    "        self.register_buffer('pe', pe)\n",
    "\n",
    "\n",
    "    def forward(self, x):\n",
    "        x = x + self.pe[:x.size(0), :]\n",
    "        return self.dropout(x)\n"
   ]
  },
  {
   "cell_type": "code",
   "execution_count": 16,
   "id": "residential-scanner",
   "metadata": {},
   "outputs": [],
   "source": [
    "class particleTransformer(nn.Module):\n",
    "    def __init__(self, particle_feature_size, d_model, nhead, num_encoder_layers, num_decoder_layers, dim_feedforward, max_seq_length, pos_dropout, trans_dropout):\n",
    "        super().__init__()\n",
    "        self.d_model = d_model\n",
    "        self.embed_src = nn.Linear(particle_feature_size, d_model)\n",
    "        self.embed_tgt = nn.Linear(particle_feature_size, d_model)\n",
    "        self.pos_enc = PositionalEncoding(d_model, pos_dropout, max_seq_length)\n",
    "\n",
    "        self.transformer = nn.Transformer(d_model, nhead, num_encoder_layers, num_decoder_layers, dim_feedforward, trans_dropout)\n",
    "        self.fc = nn.Linear(d_model, particle_feature_size)\n",
    "\n",
    "    def forward(self, src, tgt):\n",
    "\n",
    "        src = src.permute(1,0,2)\n",
    "        tgt = tgt.permute(1,0,2)\n",
    "\n",
    "        \n",
    "        src = self.pos_enc(self.embed_src(src) * math.sqrt(self.d_model))\n",
    "        tgt = self.pos_enc(self.embed_tgt(tgt) * math.sqrt(self.d_model))\n",
    "        \n",
    "        \n",
    "        #output = self.transformer(src, tgt, tgt_mask=tgt_mask, src_key_padding_mask=src_key_padding_mask,\n",
    "        #                          tgt_key_padding_mask=tgt_key_padding_mask, memory_key_padding_mask=memory_key_padding_mask)\n",
    "        output = self.transformer(src, tgt)\n",
    "        return self.fc(output).permute(1,0,2)\n"
   ]
  },
  {
   "cell_type": "code",
   "execution_count": 18,
   "id": "current-yorkshire",
   "metadata": {},
   "outputs": [
    {
     "data": {
      "text/plain": [
       "torch.Size([40, 1])"
      ]
     },
     "execution_count": 18,
     "metadata": {},
     "output_type": "execute_result"
    }
   ],
   "source": [
    "linear_net = nn.Linear(3,512)\n",
    "\n",
    "input_tensor = torch.rand((40,100,3))\n",
    "\n",
    "out = linear_net(input_tensor)\n",
    "\n",
    "out.shape\n",
    "\n",
    "pos_enc = PositionalEncoding(512, 0.1, 512)\n",
    "\n",
    "withenc = pos_enc(out)\n",
    "\n",
    "withenc.shape\n",
    "\n",
    "torch.arange(0, 40, dtype=torch.float).unsqueeze(1).shape"
   ]
  },
  {
   "cell_type": "code",
   "execution_count": null,
   "id": "packed-cooper",
   "metadata": {},
   "outputs": [],
   "source": []
  },
  {
   "cell_type": "code",
   "execution_count": null,
   "id": "boxed-bowling",
   "metadata": {},
   "outputs": [],
   "source": []
  },
  {
   "cell_type": "code",
   "execution_count": 15,
   "id": "constitutional-immunology",
   "metadata": {},
   "outputs": [
    {
     "data": {
      "text/plain": [
       "(100000, 40, 3)"
      ]
     },
     "execution_count": 15,
     "metadata": {},
     "output_type": "execute_result"
    }
   ],
   "source": [
    "data_sig.shape"
   ]
  },
  {
   "cell_type": "code",
   "execution_count": 17,
   "id": "funky-twelve",
   "metadata": {},
   "outputs": [
    {
     "name": "stdout",
     "output_type": "stream",
     "text": [
      "cuda:0\n"
     ]
    },
    {
     "data": {
      "text/plain": [
       "'GeForce RTX 2080 Ti'"
      ]
     },
     "execution_count": 17,
     "metadata": {},
     "output_type": "execute_result"
    }
   ],
   "source": [
    "device = torch.device(\"cuda:0\" if torch.cuda.is_available() else \"cpu\")\n",
    "print(device)\n",
    "torch.cuda.get_device_name(0)"
   ]
  },
  {
   "cell_type": "code",
   "execution_count": 18,
   "id": "norwegian-animal",
   "metadata": {},
   "outputs": [],
   "source": [
    "model = particleTransformer(3, 512, 8, 2, 2, 5, 512, .2, .2).to(device)\n",
    "#self, input_size, hidden_size, latent_size,num_layers=2, bidirectional=False):"
   ]
  },
  {
   "cell_type": "code",
   "execution_count": 21,
   "id": "productive-istanbul",
   "metadata": {},
   "outputs": [],
   "source": [
    "lr = 1e-3\n",
    "bs = 1000\n",
    "optimizer = optim.Adam(model.parameters(), lr=lr)"
   ]
  },
  {
   "cell_type": "code",
   "execution_count": 22,
   "id": "refined-blame",
   "metadata": {},
   "outputs": [],
   "source": [
    "tensor_sig_train = torch.tensor(sig_train) \n",
    "\n",
    "tensor_sig_train.shape\n",
    "\n",
    "sig_train_iterator = utils.DataLoader(tensor_sig_train, batch_size=bs, shuffle=True)"
   ]
  },
  {
   "cell_type": "code",
   "execution_count": 23,
   "id": "sorted-faith",
   "metadata": {},
   "outputs": [],
   "source": [
    "def train():\n",
    "    # set the train mode\n",
    "    model.train()\n",
    "\n",
    "    # loss of the epoch\n",
    "    train_loss = 0\n",
    "\n",
    "    for i, x in enumerate(sig_train_iterator):\n",
    "        # reshape the data into [batch_size, 784]\n",
    "        x = x.float().cuda()\n",
    "\n",
    "        # update the gradients to zero\n",
    "        optimizer.zero_grad()\n",
    "\n",
    "        # forward pass\n",
    "        x_sample = model(x,x)\n",
    "\n",
    "        # reconstruction loss\n",
    "        recon_loss = F.mse_loss(x_sample, x, size_average=False)\n",
    "\n",
    "\n",
    "        # total loss\n",
    "        loss = recon_loss \n",
    "        train_loss += loss.item()\n",
    "\n",
    "        # backward pass\n",
    "        loss.backward()\n",
    "\n",
    "        # update the weights\n",
    "        optimizer.step()\n",
    "        \n",
    "    return train_loss\n"
   ]
  },
  {
   "cell_type": "code",
   "execution_count": 24,
   "id": "commercial-domain",
   "metadata": {},
   "outputs": [
    {
     "name": "stderr",
     "output_type": "stream",
     "text": [
      "/data/t3home000/spark/miniconda3/envs/fewshot/lib/python3.7/site-packages/torch/nn/_reduction.py:44: UserWarning: size_average and reduce args will be deprecated, please use reduction='sum' instead.\n",
      "  warnings.warn(warning.format(ret))\n"
     ]
    },
    {
     "name": "stdout",
     "output_type": "stream",
     "text": [
      "59.845706469726565\n",
      "Saving model!\n",
      "8.080820239257813\n",
      "Saving model!\n",
      "4.6188068359375\n",
      "Saving model!\n",
      "3.3140722045898436\n",
      "Saving model!\n",
      "2.713454833984375\n",
      "Saving model!\n",
      "2.208484535217285\n",
      "Saving model!\n",
      "1.9437116912841796\n",
      "Saving model!\n",
      "1.792526106262207\n",
      "Saving model!\n",
      "1.7186556838989258\n",
      "Saving model!\n",
      "1.464576448059082\n",
      "Saving model!\n",
      "1.4220632553100585\n",
      "Saving model!\n",
      "1.3149206665039062\n",
      "Saving model!\n",
      "1.277466862487793\n",
      "Saving model!\n",
      "1.1998305053710938\n",
      "Saving model!\n",
      "1.1475020729064942\n",
      "Saving model!\n",
      "1.064924892425537\n",
      "Saving model!\n",
      "1.0407346008300782\n",
      "Saving model!\n",
      "0.9911330169677735\n",
      "Saving model!\n",
      "1.0206512062072755\n",
      "Not saving model!\n",
      "0.9118977088928223\n",
      "Saving model!\n",
      "0.8854059806823731\n",
      "Saving model!\n",
      "0.8396730453491211\n",
      "Saving model!\n",
      "0.8420523803710938\n",
      "Not saving model!\n",
      "0.7843833984375\n",
      "Saving model!\n",
      "0.781239363861084\n",
      "Saving model!\n",
      "0.7268326019287109\n",
      "Saving model!\n",
      "0.7500855644226074\n",
      "Not saving model!\n",
      "0.6966028167724609\n",
      "Saving model!\n",
      "0.6795824508666992\n",
      "Saving model!\n",
      "0.6568969429016114\n",
      "Saving model!\n",
      "0.6383875129699706\n",
      "Saving model!\n",
      "0.6483549812316894\n",
      "Not saving model!\n",
      "0.6517723999023437\n",
      "Not saving model!\n",
      "0.5980005867004394\n",
      "Saving model!\n",
      "0.5748274913787842\n",
      "Saving model!\n",
      "0.5720166633605958\n",
      "Saving model!\n",
      "0.5386091060638428\n",
      "Saving model!\n",
      "0.5772683139801026\n",
      "Not saving model!\n",
      "0.5326564945220947\n",
      "Saving model!\n",
      "0.50555908203125\n",
      "Saving model!\n",
      "0.5261283073425292\n",
      "Not saving model!\n",
      "0.4997773265838623\n",
      "Saving model!\n",
      "0.4714596046447754\n",
      "Saving model!\n",
      "0.4662674278259277\n",
      "Saving model!\n",
      "0.4703299480438232\n",
      "Not saving model!\n",
      "0.4549179698944092\n",
      "Saving model!\n",
      "0.43586856651306155\n",
      "Saving model!\n",
      "0.4292166076660156\n",
      "Saving model!\n",
      "0.4637092617034912\n",
      "Not saving model!\n",
      "0.40312985153198244\n",
      "Saving model!\n",
      "0.45465486640930175\n",
      "Not saving model!\n",
      "0.39792107391357423\n",
      "Saving model!\n",
      "0.39321271324157714\n",
      "Saving model!\n",
      "0.3782417640686035\n",
      "Saving model!\n",
      "0.3718947555541992\n",
      "Saving model!\n",
      "0.38728694190979\n",
      "Not saving model!\n",
      "0.3782752445220947\n",
      "Not saving model!\n",
      "0.3538629100799561\n",
      "Saving model!\n",
      "0.3413261993408203\n",
      "Saving model!\n",
      "11.866501495742797\n",
      "Not saving model!\n",
      "123.37070478515625\n",
      "Not saving model!\n",
      "91.6920076171875\n",
      "Not saving model!\n",
      "76.83843125\n",
      "Not saving model!\n",
      "73.701101171875\n",
      "Not saving model!\n",
      "Patience Limit Reached\n"
     ]
    }
   ],
   "source": [
    "best_train_loss = float('inf')\n",
    "\n",
    "for e in range(1000):\n",
    "\n",
    "    train_loss = train()\n",
    "\n",
    "    train_loss /= len(tensor_sig_train)\n",
    "    print(train_loss)\n",
    "    if best_train_loss > train_loss:\n",
    "        best_train_loss = train_loss\n",
    "        patience_counter = 1\n",
    "        print(\"Saving model!\")\n",
    "        torch.save(model.state_dict(),\"/data/t3home000/spark/QUASAR/weights/transformer.h5\")\n",
    "\n",
    "    else:\n",
    "        patience_counter += 1\n",
    "        print(\"Not saving model!\")\n",
    "\n",
    "    if patience_counter > 5:\n",
    "        print(\"Patience Limit Reached\")\n",
    "        break"
   ]
  },
  {
   "cell_type": "code",
   "execution_count": 19,
   "id": "worldwide-christmas",
   "metadata": {},
   "outputs": [
    {
     "data": {
      "text/plain": [
       "<All keys matched successfully>"
      ]
     },
     "execution_count": 19,
     "metadata": {},
     "output_type": "execute_result"
    }
   ],
   "source": [
    "model.load_state_dict(torch.load(\"/data/t3home000/spark/QUASAR/weights/transformer.h5\"))"
   ]
  },
  {
   "cell_type": "code",
   "execution_count": 20,
   "id": "superb-price",
   "metadata": {},
   "outputs": [
    {
     "data": {
      "text/plain": [
       "particleTransformer(\n",
       "  (embed_src): Linear(in_features=3, out_features=512, bias=True)\n",
       "  (embed_tgt): Linear(in_features=3, out_features=512, bias=True)\n",
       "  (pos_enc): PositionalEncoding(\n",
       "    (dropout): Dropout(p=0.2, inplace=False)\n",
       "  )\n",
       "  (transformer): Transformer(\n",
       "    (encoder): TransformerEncoder(\n",
       "      (layers): ModuleList(\n",
       "        (0): TransformerEncoderLayer(\n",
       "          (self_attn): MultiheadAttention(\n",
       "            (out_proj): _LinearWithBias(in_features=512, out_features=512, bias=True)\n",
       "          )\n",
       "          (linear1): Linear(in_features=512, out_features=5, bias=True)\n",
       "          (dropout): Dropout(p=0.2, inplace=False)\n",
       "          (linear2): Linear(in_features=5, out_features=512, bias=True)\n",
       "          (norm1): LayerNorm((512,), eps=1e-05, elementwise_affine=True)\n",
       "          (norm2): LayerNorm((512,), eps=1e-05, elementwise_affine=True)\n",
       "          (dropout1): Dropout(p=0.2, inplace=False)\n",
       "          (dropout2): Dropout(p=0.2, inplace=False)\n",
       "        )\n",
       "        (1): TransformerEncoderLayer(\n",
       "          (self_attn): MultiheadAttention(\n",
       "            (out_proj): _LinearWithBias(in_features=512, out_features=512, bias=True)\n",
       "          )\n",
       "          (linear1): Linear(in_features=512, out_features=5, bias=True)\n",
       "          (dropout): Dropout(p=0.2, inplace=False)\n",
       "          (linear2): Linear(in_features=5, out_features=512, bias=True)\n",
       "          (norm1): LayerNorm((512,), eps=1e-05, elementwise_affine=True)\n",
       "          (norm2): LayerNorm((512,), eps=1e-05, elementwise_affine=True)\n",
       "          (dropout1): Dropout(p=0.2, inplace=False)\n",
       "          (dropout2): Dropout(p=0.2, inplace=False)\n",
       "        )\n",
       "      )\n",
       "      (norm): LayerNorm((512,), eps=1e-05, elementwise_affine=True)\n",
       "    )\n",
       "    (decoder): TransformerDecoder(\n",
       "      (layers): ModuleList(\n",
       "        (0): TransformerDecoderLayer(\n",
       "          (self_attn): MultiheadAttention(\n",
       "            (out_proj): _LinearWithBias(in_features=512, out_features=512, bias=True)\n",
       "          )\n",
       "          (multihead_attn): MultiheadAttention(\n",
       "            (out_proj): _LinearWithBias(in_features=512, out_features=512, bias=True)\n",
       "          )\n",
       "          (linear1): Linear(in_features=512, out_features=5, bias=True)\n",
       "          (dropout): Dropout(p=0.2, inplace=False)\n",
       "          (linear2): Linear(in_features=5, out_features=512, bias=True)\n",
       "          (norm1): LayerNorm((512,), eps=1e-05, elementwise_affine=True)\n",
       "          (norm2): LayerNorm((512,), eps=1e-05, elementwise_affine=True)\n",
       "          (norm3): LayerNorm((512,), eps=1e-05, elementwise_affine=True)\n",
       "          (dropout1): Dropout(p=0.2, inplace=False)\n",
       "          (dropout2): Dropout(p=0.2, inplace=False)\n",
       "          (dropout3): Dropout(p=0.2, inplace=False)\n",
       "        )\n",
       "        (1): TransformerDecoderLayer(\n",
       "          (self_attn): MultiheadAttention(\n",
       "            (out_proj): _LinearWithBias(in_features=512, out_features=512, bias=True)\n",
       "          )\n",
       "          (multihead_attn): MultiheadAttention(\n",
       "            (out_proj): _LinearWithBias(in_features=512, out_features=512, bias=True)\n",
       "          )\n",
       "          (linear1): Linear(in_features=512, out_features=5, bias=True)\n",
       "          (dropout): Dropout(p=0.2, inplace=False)\n",
       "          (linear2): Linear(in_features=5, out_features=512, bias=True)\n",
       "          (norm1): LayerNorm((512,), eps=1e-05, elementwise_affine=True)\n",
       "          (norm2): LayerNorm((512,), eps=1e-05, elementwise_affine=True)\n",
       "          (norm3): LayerNorm((512,), eps=1e-05, elementwise_affine=True)\n",
       "          (dropout1): Dropout(p=0.2, inplace=False)\n",
       "          (dropout2): Dropout(p=0.2, inplace=False)\n",
       "          (dropout3): Dropout(p=0.2, inplace=False)\n",
       "        )\n",
       "      )\n",
       "      (norm): LayerNorm((512,), eps=1e-05, elementwise_affine=True)\n",
       "    )\n",
       "  )\n",
       "  (fc): Linear(in_features=512, out_features=3, bias=True)\n",
       ")"
      ]
     },
     "execution_count": 20,
     "metadata": {},
     "output_type": "execute_result"
    }
   ],
   "source": [
    "model.eval()"
   ]
  },
  {
   "cell_type": "code",
   "execution_count": 28,
   "id": "driven-phone",
   "metadata": {},
   "outputs": [
    {
     "data": {
      "text/plain": [
       "numpy.ndarray"
      ]
     },
     "execution_count": 28,
     "metadata": {},
     "output_type": "execute_result"
    }
   ],
   "source": [
    "type(data_sig)"
   ]
  },
  {
   "cell_type": "code",
   "execution_count": 31,
   "id": "noble-kazakhstan",
   "metadata": {},
   "outputs": [
    {
     "data": {
      "text/plain": [
       "(20000, 40, 3)"
      ]
     },
     "execution_count": 31,
     "metadata": {},
     "output_type": "execute_result"
    }
   ],
   "source": [
    "sig_test.shape"
   ]
  },
  {
   "cell_type": "code",
   "execution_count": 33,
   "id": "incredible-calgary",
   "metadata": {},
   "outputs": [
    {
     "data": {
      "text/plain": [
       "(1000000, 40, 3)"
      ]
     },
     "execution_count": 33,
     "metadata": {},
     "output_type": "execute_result"
    }
   ],
   "source": [
    "data_bkg.shape"
   ]
  },
  {
   "cell_type": "code",
   "execution_count": 21,
   "id": "adjustable-tuesday",
   "metadata": {},
   "outputs": [],
   "source": [
    "xprime = model(torch.Tensor(data_sig[:500]).cuda(),torch.Tensor(data_sig[:500]).cuda())"
   ]
  },
  {
   "cell_type": "code",
   "execution_count": 45,
   "id": "corresponding-seven",
   "metadata": {},
   "outputs": [],
   "source": [
    "xprime_bkg = model(torch.Tensor(data_bkg[:500]).cuda(),torch.Tensor(data_bkg[:500]).cuda())"
   ]
  },
  {
   "cell_type": "code",
   "execution_count": 58,
   "id": "younger-spokesman",
   "metadata": {},
   "outputs": [
    {
     "data": {
      "text/plain": [
       "torch.Size([500, 40, 3])"
      ]
     },
     "execution_count": 58,
     "metadata": {},
     "output_type": "execute_result"
    }
   ],
   "source": [
    "xprime.shape"
   ]
  },
  {
   "cell_type": "code",
   "execution_count": 65,
   "id": "leading-diving",
   "metadata": {},
   "outputs": [
    {
     "data": {
      "text/plain": [
       "torch.Size([500, 40, 3])"
      ]
     },
     "execution_count": 65,
     "metadata": {},
     "output_type": "execute_result"
    }
   ],
   "source": [
    "xprime.shape"
   ]
  },
  {
   "cell_type": "code",
   "execution_count": 63,
   "id": "cardiovascular-inside",
   "metadata": {},
   "outputs": [
    {
     "data": {
      "text/plain": [
       "torch.Size([500, 120])"
      ]
     },
     "execution_count": 63,
     "metadata": {},
     "output_type": "execute_result"
    }
   ],
   "source": [
    "xprime.reshape(-1,120).shape"
   ]
  },
  {
   "cell_type": "code",
   "execution_count": 66,
   "id": "previous-costume",
   "metadata": {},
   "outputs": [],
   "source": [
    "loss_sig = torch.mean((xprime.reshape(-1,120)-torch.Tensor(sig_test[:500]).reshape(-1,120).cuda())**2,dim=1).data.cpu().numpy()"
   ]
  },
  {
   "cell_type": "code",
   "execution_count": 67,
   "id": "precious-situation",
   "metadata": {},
   "outputs": [
    {
     "data": {
      "text/plain": [
       "(500,)"
      ]
     },
     "execution_count": 67,
     "metadata": {},
     "output_type": "execute_result"
    }
   ],
   "source": [
    "loss_sig.shape"
   ]
  },
  {
   "cell_type": "code",
   "execution_count": 69,
   "id": "million-emergency",
   "metadata": {},
   "outputs": [],
   "source": [
    "loss_bkg = torch.mean((xprime_bkg.reshape(-1,120)-torch.Tensor(data_bkg[:500]).reshape(-1,120).cuda())**2,dim=1).data.cpu().numpy()"
   ]
  },
  {
   "cell_type": "code",
   "execution_count": 75,
   "id": "obvious-fiber",
   "metadata": {},
   "outputs": [
    {
     "data": {
      "image/png": "[encoded data removed]",
      "text/plain": [
       "<Figure size 432x288 with 1 Axes>"
      ]
     },
     "metadata": {
      "needs_background": "light"
     },
     "output_type": "display_data"
    }
   ],
   "source": [
    "plt.hist(loss_sig,bins=np.linspace(0,0.02,1000));\n",
    "plt.hist(loss_bkg,bins=np.linspace(0,0.02,1000));"
   ]
  },
  {
   "cell_type": "code",
   "execution_count": 42,
   "id": "confident-jacket",
   "metadata": {},
   "outputs": [
    {
     "data": {
      "image/png": "[encoded data removed]",
      "text/plain": [
       "<Figure size 432x288 with 1 Axes>"
      ]
     },
     "metadata": {
      "needs_background": "light"
     },
     "output_type": "display_data"
    }
   ],
   "source": [
    "plot_event(data_bkg[3],\"bkgtest3_actual\")"
   ]
  },
  {
   "cell_type": "code",
   "execution_count": 43,
   "id": "loaded-complex",
   "metadata": {},
   "outputs": [
    {
     "data": {
      "image/png": "[encoded data removed]",
      "text/plain": [
       "<Figure size 432x288 with 1 Axes>"
      ]
     },
     "metadata": {
      "needs_background": "light"
     },
     "output_type": "display_data"
    }
   ],
   "source": [
    "plot_event(xprime_bkg[3].cpu().detach().numpy(),\"bkgtest3_transformerReconstructed\")"
   ]
  },
  {
   "cell_type": "code",
   "execution_count": 29,
   "id": "liked-clearance",
   "metadata": {},
   "outputs": [
    {
     "data": {
      "image/png": "[encoded data removed]",
      "text/plain": [
       "<Figure size 432x288 with 1 Axes>"
      ]
     },
     "metadata": {
      "needs_background": "light"
     },
     "output_type": "display_data"
    }
   ],
   "source": [
    "plot_event(data_sig[6],\"sigtest6_actual\")"
   ]
  },
  {
   "cell_type": "code",
   "execution_count": 28,
   "id": "adaptive-atmosphere",
   "metadata": {},
   "outputs": [
    {
     "data": {
      "image/png": "[encoded data removed]",
      "text/plain": [
       "<Figure size 432x288 with 1 Axes>"
      ]
     },
     "metadata": {
      "needs_background": "light"
     },
     "output_type": "display_data"
    }
   ],
   "source": [
    "plot_event(xprime[6].cpu().detach().numpy(),\"sigtest6_transformerReconstructed\")"
   ]
  },
  {
   "cell_type": "code",
   "execution_count": 23,
   "id": "weekly-lunch",
   "metadata": {},
   "outputs": [
    {
     "data": {
      "text/plain": [
       "(4, 40, 3)"
      ]
     },
     "execution_count": 23,
     "metadata": {},
     "output_type": "execute_result"
    }
   ],
   "source": [
    "data_sig[0:4].shape"
   ]
  },
  {
   "cell_type": "code",
   "execution_count": 37,
   "id": "timely-houston",
   "metadata": {},
   "outputs": [],
   "source": [
    "recons, kld = model(torch.Tensor(data_sig[0:10]).cuda())"
   ]
  },
  {
   "cell_type": "code",
   "execution_count": 26,
   "id": "inclusive-congo",
   "metadata": {},
   "outputs": [],
   "source": [
    "recons_bkg, kld = model(torch.Tensor(data_bkg[0:4]).cuda())"
   ]
  },
  {
   "cell_type": "code",
   "execution_count": 29,
   "id": "boring-mailman",
   "metadata": {},
   "outputs": [
    {
     "data": {
      "image/png": "[encoded data removed]",
      "text/plain": [
       "<Figure size 432x288 with 1 Axes>"
      ]
     },
     "metadata": {
      "needs_background": "light"
     },
     "output_type": "display_data"
    }
   ],
   "source": [
    "plot_event(recons_bkg[0].cpu().detach().numpy(),\"sigAE_recons_0\")"
   ]
  },
  {
   "cell_type": "code",
   "execution_count": 30,
   "id": "worse-opinion",
   "metadata": {},
   "outputs": [
    {
     "data": {
      "image/png": "[encoded data removed]",
      "text/plain": [
       "<Figure size 432x288 with 1 Axes>"
      ]
     },
     "metadata": {
      "needs_background": "light"
     },
     "output_type": "display_data"
    }
   ],
   "source": [
    "plot_event(data_bkg[0],\"bkg_actual_0\")"
   ]
  },
  {
   "cell_type": "code",
   "execution_count": 38,
   "id": "casual-slope",
   "metadata": {},
   "outputs": [
    {
     "data": {
      "image/png": "[encoded data removed]",
      "text/plain": [
       "<Figure size 432x288 with 1 Axes>"
      ]
     },
     "metadata": {
      "needs_background": "light"
     },
     "output_type": "display_data"
    }
   ],
   "source": [
    "plot_event(recons[4].cpu().detach().numpy(),\"sigAE_siginal_recons_4\")"
   ]
  },
  {
   "cell_type": "code",
   "execution_count": 36,
   "id": "increased-grammar",
   "metadata": {},
   "outputs": [
    {
     "data": {
      "image/png": "[encoded data removed]",
      "text/plain": [
       "<Figure size 432x288 with 1 Axes>"
      ]
     },
     "metadata": {
      "needs_background": "light"
     },
     "output_type": "display_data"
    }
   ],
   "source": [
    "plot_event(data_sig[4],\"sig_actual_4\")"
   ]
  },
  {
   "cell_type": "code",
   "execution_count": null,
   "id": "engaging-championship",
   "metadata": {},
   "outputs": [],
   "source": []
  },
  {
   "cell_type": "code",
   "execution_count": 39,
   "id": "distributed-payment",
   "metadata": {},
   "outputs": [],
   "source": [
    "model_bkg = SentenceVAE(3,10,4).to(device)\n"
   ]
  },
  {
   "cell_type": "code",
   "execution_count": 40,
   "id": "prerequisite-portland",
   "metadata": {},
   "outputs": [],
   "source": [
    "tensor_bkg_train = torch.tensor(data_bkg) \n",
    "\n",
    "tensor_bkg_train.shape\n",
    "\n",
    "bkg_train_iterator = utils.DataLoader(tensor_bkg_train, batch_size=bs, shuffle=True)"
   ]
  },
  {
   "cell_type": "code",
   "execution_count": 41,
   "id": "stainless-priority",
   "metadata": {},
   "outputs": [],
   "source": [
    "lr = 1e-3\n",
    "bs = 1000\n",
    "optimizer = optim.Adam(model_bkg.parameters(), lr=lr)"
   ]
  },
  {
   "cell_type": "code",
   "execution_count": 42,
   "id": "documentary-planet",
   "metadata": {},
   "outputs": [
    {
     "ename": "NameError",
     "evalue": "name 'loss' is not defined",
     "output_type": "error",
     "traceback": [
      "\u001b[0;31m---------------------------------------------------------------------------\u001b[0m",
      "\u001b[0;31mNameError\u001b[0m                                 Traceback (most recent call last)",
      "\u001b[0;32m<ipython-input-42-de191f53719d>\u001b[0m in \u001b[0;36m<module>\u001b[0;34m\u001b[0m\n\u001b[0;32m----> 1\u001b[0;31m \u001b[0mloss\u001b[0m\u001b[0;34m\u001b[0m\u001b[0;34m\u001b[0m\u001b[0m\n\u001b[0m",
      "\u001b[0;31mNameError\u001b[0m: name 'loss' is not defined"
     ]
    }
   ],
   "source": [
    "loss"
   ]
  },
  {
   "cell_type": "code",
   "execution_count": 43,
   "id": "cutting-inspection",
   "metadata": {},
   "outputs": [],
   "source": [
    "def train_bkg():\n",
    "    # set the train mode\n",
    "    model_bkg.train()\n",
    "\n",
    "    # loss of the epoch\n",
    "    train_loss = 0\n",
    "\n",
    "    for i, x in enumerate(bkg_train_iterator):\n",
    "        # reshape the data into [batch_size, 784]\n",
    "        x = x.float().cuda()\n",
    "\n",
    "        # update the gradients to zero\n",
    "        optimizer.zero_grad()\n",
    "\n",
    "        # forward pass\n",
    "        x_sample, kld = model_bkg(x)\n",
    "\n",
    "        # reconstruction loss\n",
    "        recon_loss = F.mse_loss(x_sample, x, size_average=False)\n",
    "\n",
    "\n",
    "        # total loss\n",
    "        loss = recon_loss + kld\n",
    "        train_loss += loss.item()\n",
    "\n",
    "        # backward pass\n",
    "        loss.backward()\n",
    "\n",
    "        # update the weights\n",
    "        optimizer.step()\n",
    "        \n",
    "    return train_loss\n"
   ]
  },
  {
   "cell_type": "code",
   "execution_count": null,
   "id": "lonely-warehouse",
   "metadata": {},
   "outputs": [
    {
     "name": "stdout",
     "output_type": "stream",
     "text": [
      "166.1377109375\n",
      "Saving model!\n",
      "127.464282109375\n",
      "Saving model!\n",
      "123.112391984375\n",
      "Saving model!\n",
      "122.618069015625\n",
      "Saving model!\n",
      "121.7259961484375\n",
      "Saving model!\n"
     ]
    }
   ],
   "source": [
    "best_train_loss = float('inf')\n",
    "\n",
    "for e in range(1000):\n",
    "\n",
    "    train_loss = train_bkg()\n",
    "\n",
    "    train_loss /= len(tensor_bkg_train)\n",
    "    print(train_loss)\n",
    "    if best_train_loss > train_loss:\n",
    "        best_train_loss = train_loss\n",
    "        patience_counter = 1\n",
    "        print(\"Saving model!\")\n",
    "        torch.save(model_bkg.state_dict(),\"/data/t3home000/spark/QUASAR/weights/seq2seq_bkg.h5\")\n",
    "\n",
    "    else:\n",
    "        patience_counter += 1\n",
    "        print(\"Not saving model!\")\n",
    "\n",
    "    if patience_counter > 5:\n",
    "        print(\"Patience Limit Reached\")\n",
    "        break"
   ]
  },
  {
   "cell_type": "code",
   "execution_count": null,
   "id": "voluntary-breakfast",
   "metadata": {},
   "outputs": [],
   "source": []
  },
  {
   "cell_type": "code",
   "execution_count": null,
   "id": "supposed-preview",
   "metadata": {},
   "outputs": [],
   "source": []
  },
  {
   "cell_type": "code",
   "execution_count": null,
   "id": "interracial-judgment",
   "metadata": {},
   "outputs": [],
   "source": []
  },
  {
   "cell_type": "markdown",
   "id": "af7b9021",
   "metadata": {},
   "source": [
    "# MAKE DATASET"
   ]
  },
  {
   "cell_type": "code",
   "execution_count": null,
   "id": "b2ca42c8",
   "metadata": {},
   "outputs": [],
   "source": [
    "import torch\n",
    "from torch_geometric.data import InMemoryDataset, download_url"
   ]
  },
  {
   "cell_type": "code",
   "execution_count": null,
   "id": "34115ac3",
   "metadata": {},
   "outputs": [],
   "source": [
    "class DijetAnomaly(InMemoryDataset):\n",
    "    "
   ]
  },
  {
   "cell_type": "markdown",
   "id": "golden-guyana",
   "metadata": {},
   "source": [
    "# Make Plotting Scripts, Will later make into a separate module"
   ]
  },
  {
   "cell_type": "code",
   "execution_count": 22,
   "id": "behind-treasure",
   "metadata": {},
   "outputs": [],
   "source": [
    "def plot_event(pfcands, name):\n",
    "\n",
    "    pt = pfcands[:,0]\n",
    "    eta = pfcands[:,1]\n",
    "    phi = pfcands[:,2]\n",
    "    fig = plt.figure()\n",
    "    ax = fig.add_subplot(1,1,1)\n",
    "    ax.scatter(eta,phi,s=pt*10000, alpha=0.2)\n",
    "    ax.set_xlabel('eta')\n",
    "    ax.set_ylabel('phi')\n",
    "    ax.set_xlim([-4,4])\n",
    "    ax.set_ylim([-4,4])\n",
    "    fig.savefig(f'figures/{name}.png')"
   ]
  },
  {
   "cell_type": "code",
   "execution_count": null,
   "id": "outdoor-handbook",
   "metadata": {},
   "outputs": [],
   "source": [
    "plot_event(data_sig[4],\"event_sig_idx4\")"
   ]
  },
  {
   "cell_type": "code",
   "execution_count": null,
   "id": "removable-priority",
   "metadata": {},
   "outputs": [],
   "source": []
  },
  {
   "cell_type": "code",
   "execution_count": null,
   "id": "bound-recorder",
   "metadata": {},
   "outputs": [],
   "source": []
  },
  {
   "cell_type": "markdown",
   "id": "focused-baseline",
   "metadata": {},
   "source": [
    "# 40 Body System, 3 features ( pT, eta, Phi) for each object (PF candidate)"
   ]
  },
  {
   "cell_type": "code",
   "execution_count": null,
   "id": "prepared-soldier",
   "metadata": {},
   "outputs": [],
   "source": [
    "n_objects  = 40 # number of PF candidates(nodes)\n",
    "object_dim = 3 # features: mass, x coordinate, y coordinate, speed on x-axis, speed on y-axis\n",
    "\n",
    "n_relations  = n_objects * (n_objects - 1) # number of edges in fully connected graph\n",
    "relation_dim = 1\n",
    "\n",
    "effect_dim = 10 #effect's vector size\n"
   ]
  },
  {
   "cell_type": "code",
   "execution_count": null,
   "id": "buried-miracle",
   "metadata": {},
   "outputs": [],
   "source": [
    "n_relations"
   ]
  },
  {
   "cell_type": "code",
   "execution_count": null,
   "id": "differential-locator",
   "metadata": {},
   "outputs": [],
   "source": [
    "data.shape"
   ]
  },
  {
   "cell_type": "code",
   "execution_count": null,
   "id": "committed-shipping",
   "metadata": {},
   "outputs": [],
   "source": [
    "def get_batch(data, label, idx, batch_size):\n",
    "    \n",
    "    start_idx = idx*batch_size\n",
    "    end_idx = idx*batch_size+batch_size\n",
    "\n",
    "    batch_data = data[start_idx: end_idx]\n",
    "    label_data = label[start_idx: end_idx]\n",
    "    \n",
    "    objects = batch_data\n",
    "    \n",
    "    \n",
    "    #receiver_relations, sender_relations - onehot encoding matrices\n",
    "    #each column indicates the receiver and sender object’s index\n",
    "    \n",
    "    receiver_relations = np.zeros((batch_size, n_objects, n_relations), dtype=float);\n",
    "    sender_relations   = np.zeros((batch_size, n_objects, n_relations), dtype=float);\n",
    "    \n",
    "    cnt = 0\n",
    "    for i in range(n_objects):\n",
    "        for j in range(n_objects):\n",
    "            if(i != j):\n",
    "                receiver_relations[:, i, cnt] = 1.0\n",
    "                sender_relations[:, j, cnt]   = 1.0\n",
    "                cnt += 1\n",
    "    \n",
    "    #There is no relation info in solar system task, just fill with zeros\n",
    "    relation_info = np.zeros((batch_size, n_relations, relation_dim))\n",
    "    target = label_data\n",
    "    \n",
    "    objects            = Variable(torch.FloatTensor(objects))\n",
    "    sender_relations   = Variable(torch.FloatTensor(sender_relations))\n",
    "    receiver_relations = Variable(torch.FloatTensor(receiver_relations))\n",
    "    relation_info      = Variable(torch.FloatTensor(relation_info))\n",
    "    target             = Variable(torch.FloatTensor(target))\n",
    "                       \n",
    "    if USE_CUDA:\n",
    "        objects            = objects.cuda()\n",
    "        sender_relations   = sender_relations.cuda()\n",
    "        receiver_relations = receiver_relations.cuda()\n",
    "        relation_info      = relation_info.cuda()\n",
    "        target             = target.cuda()\n",
    "    \n",
    "    return objects, sender_relations, receiver_relations, relation_info, target\n"
   ]
  },
  {
   "cell_type": "code",
   "execution_count": null,
   "id": "cooked-scott",
   "metadata": {},
   "outputs": [],
   "source": [
    "class RelationalModel(nn.Module):\n",
    "    def __init__(self, input_size, output_size, hidden_size):\n",
    "        super(RelationalModel, self).__init__()\n",
    "        \n",
    "        self.output_size = output_size\n",
    "        \n",
    "        self.layers = nn.Sequential(\n",
    "            nn.Linear(input_size, hidden_size),\n",
    "            nn.ReLU(),\n",
    "            nn.Linear(hidden_size, hidden_size),\n",
    "            nn.ReLU(),\n",
    "            nn.Linear(hidden_size, output_size),\n",
    "            nn.ReLU()\n",
    "        )\n",
    "    \n",
    "    def forward(self, x):\n",
    "        '''\n",
    "        Args:\n",
    "            x: [batch_size, n_relations, input_size]\n",
    "        Returns:\n",
    "            [batch_size, n_relations, output_size]\n",
    "        '''\n",
    "        batch_size, n_relations, input_size = x.size()\n",
    "        x = x.view(-1, input_size)\n",
    "        x = self.layers(x)\n",
    "        x = x.view(batch_size, n_relations, self.output_size)\n",
    "        return x"
   ]
  },
  {
   "cell_type": "code",
   "execution_count": null,
   "id": "checked-pound",
   "metadata": {},
   "outputs": [],
   "source": [
    "class ObjectModel(nn.Module):\n",
    "    def __init__(self, input_size, hidden_size, D):\n",
    "        super(ObjectModel, self).__init__()\n",
    "        \n",
    "        self.layers = nn.Sequential(\n",
    "            nn.Linear(input_size, hidden_size),\n",
    "            nn.ReLU(),\n",
    "            nn.Linear(hidden_size, hidden_size),\n",
    "            nn.ReLU(),\n",
    "            nn.Linear(hidden_size, 1), #speedX and speedY\n",
    "        )\n",
    "        \n",
    "    def forward(self, x):\n",
    "        '''\n",
    "        Args:\n",
    "            x: [batch_size, n_objects, input_size]\n",
    "        Returns:\n",
    "            [batch_size * n_objects, 2] speedX and speedY\n",
    "        '''\n",
    "        input_size = x.size(2)*x.size(1)\n",
    "        x = x.view(-1, input_size)\n",
    "        return self.layers(x)\n"
   ]
  },
  {
   "cell_type": "code",
   "execution_count": null,
   "id": "constant-highland",
   "metadata": {},
   "outputs": [],
   "source": [
    "class InteractionNetwork(nn.Module):\n",
    "    def __init__(self, n_objects, object_dim, n_relations, relation_dim, effect_dim):\n",
    "        super(InteractionNetwork, self).__init__()\n",
    "        \n",
    "        self.relational_model = RelationalModel(2*object_dim + relation_dim, effect_dim, 150)\n",
    "        self.object_model     = ObjectModel((object_dim + effect_dim)*n_objects, 100)\n",
    "    \n",
    "    def forward(self, objects, sender_relations, receiver_relations, relation_info):\n",
    "        senders   = sender_relations.permute(0, 2, 1).bmm(objects)\n",
    "        receivers = receiver_relations.permute(0, 2, 1).bmm(objects)\n",
    "        effects = self.relational_model(torch.cat([senders, receivers, relation_info], 2))\n",
    "        effect_receivers = receiver_relations.bmm(effects)\n",
    "        predicted = self.object_model(torch.cat([objects, effect_receivers], 2))\n",
    "        return predicted"
   ]
  },
  {
   "cell_type": "code",
   "execution_count": null,
   "id": "liable-reducing",
   "metadata": {},
   "outputs": [],
   "source": [
    "USE_CUDA = True"
   ]
  },
  {
   "cell_type": "code",
   "execution_count": null,
   "id": "ethical-whole",
   "metadata": {},
   "outputs": [],
   "source": []
  },
  {
   "cell_type": "code",
   "execution_count": null,
   "id": "ordinary-revision",
   "metadata": {},
   "outputs": [],
   "source": []
  },
  {
   "cell_type": "code",
   "execution_count": null,
   "id": "confused-boards",
   "metadata": {},
   "outputs": [],
   "source": []
  },
  {
   "cell_type": "code",
   "execution_count": null,
   "id": "micro-button",
   "metadata": {},
   "outputs": [],
   "source": []
  },
  {
   "cell_type": "code",
   "execution_count": null,
   "id": "directed-browse",
   "metadata": {},
   "outputs": [],
   "source": []
  },
  {
   "cell_type": "code",
   "execution_count": null,
   "id": "actual-produce",
   "metadata": {},
   "outputs": [],
   "source": [
    "interaction_network = InteractionNetwork(n_objects, object_dim, n_relations, relation_dim, effect_dim)\n",
    "\n",
    "if USE_CUDA:\n",
    "    interaction_network = interaction_network.cuda()\n",
    "    \n",
    "optimizer = optim.Adam(interaction_network.parameters())\n",
    "criterion = nn.BCEWithLogitsLoss()\n",
    "\n"
   ]
  },
  {
   "cell_type": "code",
   "execution_count": null,
   "id": "sporting-incident",
   "metadata": {},
   "outputs": [],
   "source": [
    "n_epoch = 100\n",
    "batch_size=1000\n",
    "batches_per_epoch = int(len(data)/batch_size)\n",
    "\n",
    "losses = []\n",
    "for epoch in range(n_epoch):\n",
    "    for idx in range(batches_per_epoch):\n",
    "        print((idx/batches_per_epoch)*100,\"percent\")\n",
    "        objects, sender_relations, receiver_relations, relation_info, target = get_batch(data, label, idx, batch_size)\n",
    "        predicted = interaction_network(objects, sender_relations, receiver_relations, relation_info)\n",
    "        loss = criterion(predicted.flatten(), target)\n",
    "        optimizer.zero_grad()\n",
    "        loss.backward()\n",
    "        optimizer.step()\n",
    "        losses.append(loss.data.cpu().numpy())\n",
    "        \n",
    "    clear_output(True)\n",
    "    plt.figure(figsize=(20,5))\n",
    "    plt.subplot(131)\n",
    "    plt.title('Epoch %s RMS Error %s' % (epoch, np.sqrt(np.mean(losses[-100:]))))\n",
    "    plt.plot(losses)\n",
    "    plt.show()"
   ]
  },
  {
   "cell_type": "code",
   "execution_count": null,
   "id": "voluntary-douglas",
   "metadata": {},
   "outputs": [],
   "source": []
  },
  {
   "cell_type": "code",
   "execution_count": null,
   "id": "departmental-darwin",
   "metadata": {},
   "outputs": [],
   "source": []
  },
  {
   "cell_type": "code",
   "execution_count": null,
   "id": "innovative-clark",
   "metadata": {},
   "outputs": [],
   "source": []
  },
  {
   "cell_type": "code",
   "execution_count": null,
   "id": "frank-defeat",
   "metadata": {},
   "outputs": [],
   "source": []
  },
  {
   "cell_type": "code",
   "execution_count": null,
   "id": "increasing-logan",
   "metadata": {},
   "outputs": [],
   "source": []
  },
  {
   "cell_type": "code",
   "execution_count": null,
   "id": "valued-irrigation",
   "metadata": {},
   "outputs": [],
   "source": []
  },
  {
   "cell_type": "code",
   "execution_count": null,
   "id": "agreed-midwest",
   "metadata": {},
   "outputs": [],
   "source": []
  },
  {
   "cell_type": "code",
   "execution_count": null,
   "id": "dangerous-authentication",
   "metadata": {},
   "outputs": [],
   "source": []
  }
 ],
 "metadata": {
  "kernelspec": {
   "display_name": "Python 3",
   "language": "python",
   "name": "python3"
  },
  "language_info": {
   "codemirror_mode": {
    "name": "ipython",
    "version": 3
   },
   "file_extension": ".py",
   "mimetype": "text/x-python",
   "name": "python",
   "nbconvert_exporter": "python",
   "pygments_lexer": "ipython3",
   "version": "3.7.10"
  }
 },
 "nbformat": 4,
 "nbformat_minor": 5
}
