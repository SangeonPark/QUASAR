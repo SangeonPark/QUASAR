{
 "cells": [
  {
   "cell_type": "markdown",
   "metadata": {},
   "source": [
    "# Signal Autoencoder"
   ]
  },
  {
   "cell_type": "code",
   "execution_count": 9,
   "metadata": {},
   "outputs": [],
   "source": [
    "import numpy as np\n",
    "import scipy as sp\n",
    "import scipy.stats\n",
    "import itertools\n",
    "import logging\n",
    "import matplotlib.pyplot as plt\n",
    "import pandas as pd\n",
    "import torch.utils.data as utils\n",
    "import math\n",
    "import time\n",
    "import tqdm\n",
    "\n",
    "import torch\n",
    "import torch.optim as optim\n",
    "import torch.nn.functional as F\n",
    "from argparse import ArgumentParser\n",
    "from torch.distributions import MultivariateNormal\n",
    "\n",
    "import torch.nn as nn\n",
    "import torch.nn.init as init\n",
    "import sys\n",
    "sys.path.append(\"../new_flows\")\n",
    "from flows import RealNVP, Planar, MAF\n",
    "from models import NormalizingFlowModel"
   ]
  },
  {
   "cell_type": "code",
   "execution_count": 10,
   "metadata": {},
   "outputs": [],
   "source": [
    "####MAF \n",
    "class VAE_NF(nn.Module):\n",
    "    def __init__(self, K, D):\n",
    "        super().__init__()\n",
    "        self.dim = D\n",
    "        self.K = K\n",
    "        self.encoder = nn.Sequential(\n",
    "            nn.Linear(14, 50),\n",
    "            nn.LeakyReLU(True),\n",
    "            nn.Linear(50, 48),\n",
    "            nn.LeakyReLU(True),            \n",
    "            nn.Linear(48, D * 2)\n",
    "        )\n",
    "\n",
    "        self.decoder = nn.Sequential(\n",
    "            nn.Linear(D, 48),\n",
    "            nn.LeakyReLU(True),\n",
    "            nn.Linear(48, 50),\n",
    "            nn.LeakyReLU(True),\n",
    "            nn.Linear(50, 14)\n",
    "        )\n",
    "        \n",
    "        flow_init = MAF(dim=D)\n",
    "        flows_init = [flow_init for _ in range(K)]\n",
    "        prior = MultivariateNormal(torch.zeros(D).cuda(), torch.eye(D).cuda())\n",
    "        self.flows = NormalizingFlowModel(prior, flows_init)\n",
    "\n",
    "    def forward(self, x):\n",
    "        # Run Encoder and get NF params\n",
    "        enc = self.encoder(x)\n",
    "        mu = enc[:, :self.dim]\n",
    "        log_var = enc[:, self.dim: self.dim * 2]\n",
    "\n",
    "        # Re-parametrize\n",
    "        sigma = (log_var * .5).exp()\n",
    "        z = mu + sigma * torch.randn_like(sigma)\n",
    "        kl_div = -0.5 * torch.sum(1 + log_var - mu.pow(2) - log_var.exp())\n",
    "        # Construct more expressive posterior with NF\n",
    "        \n",
    "        z_k, _, sum_ladj = self.flows(z)\n",
    "        \n",
    "        kl_div = kl_div / x.size(0) - sum_ladj.mean()  # mean over batch\n",
    "\n",
    "        # Run Decoder\n",
    "        x_prime = self.decoder(z_k)\n",
    "        return x_prime, kl_div"
   ]
  },
  {
   "cell_type": "code",
   "execution_count": 11,
   "metadata": {},
   "outputs": [],
   "source": [
    "prong_2 = pd.read_hdf(\"/data/t3home000/spark/QUASAR/preprocessing/conventional_tau_rnd.h5\")\n",
    "#prong_3 = pd.read_hdf(\"/data/t3home000/spark/QUASAR/preprocessing/conventional_tau_3prong_rnd.h5\")"
   ]
  },
  {
   "cell_type": "code",
   "execution_count": 12,
   "metadata": {},
   "outputs": [],
   "source": [
    "columns = prong_2.columns"
   ]
  },
  {
   "cell_type": "code",
   "execution_count": 13,
   "metadata": {},
   "outputs": [],
   "source": [
    "dt = prong_2.values\n",
    "correct = (dt[:,3]>0) &(dt[:,19]>0) & (dt[:,1]>0) & (dt[:,2]>0) &(dt[:,2]>0) & (dt[:,16]>0) & (dt[:,32]>0)\n",
    "dt = dt[correct]\n",
    "for i in range(13,19):\n",
    "    dt[:,i] = dt[:,i]/dt[:,3]\n",
    "\n",
    "for i in range(29,35):\n",
    "    dt[:,i] = dt[:,i]/(dt[:,19])\n",
    "\n",
    "\n",
    "correct = (dt[:,16]>0) & (dt[:,29]>=0) &(dt[:,29]<=1)&(dt[:,30]>=0) &(dt[:,30]<=1)&(dt[:,31]>=0) &(dt[:,31]<=1)&(dt[:,32]>=0) &(dt[:,32]<=1)&(dt[:,33]>=0) &(dt[:,33]<=1)&(dt[:,34]>=-0.01) &(dt[:,34]<=1)\n",
    "dt = dt[correct]\n",
    "\n",
    "\n",
    "#Y = dt[:,[3,4,5,6,11,12,19,20,21,22,27,28]]\n",
    "#Y = dt[:,[4,5,6,7,8,11,12,13,14,15,16,17,18,20,21,22,23,24,27,28,29,30,31,32,33,34]] # When no jet 1,2 raw mass included\n",
    "#Y = dt[:,[3,4,5,6,11,12,13,14,15,16,17,18,19,20,21,22,27,28,29,30,31,32,33,34]]\n",
    "idx = dt[:,-1]\n",
    "bkg_idx = np.where(idx==0)[0]\n",
    "signal_idx = np.where((idx==1) & (dt[:,3]>300))[0]\n",
    "#signal_idx = np.where((idx==1)) [0]\n",
    "dt = dt[signal_idx]\n",
    "    \n",
    "bsmlike = np.where(dt[:,16]>0.9)[0]\n",
    "dt = dt[bsmlike]\n"
   ]
  },
  {
   "cell_type": "code",
   "execution_count": 14,
   "metadata": {},
   "outputs": [
    {
     "data": {
      "text/plain": [
       "(56093, 36)"
      ]
     },
     "execution_count": 14,
     "metadata": {},
     "output_type": "execute_result"
    }
   ],
   "source": [
    "dt.shape"
   ]
  },
  {
   "cell_type": "code",
   "execution_count": 15,
   "metadata": {},
   "outputs": [],
   "source": [
    "j1sdb = dt[:,3]*dt[:,16]\n",
    "j2sdb = dt[:,19]*dt[:,32]\n",
    "\n",
    "pt = dt[:,1]\n",
    "m = j1sdb[:]\n",
    "m2 = j2sdb[:]\n",
    "tau21 = dt[:,4]\n",
    "tau32 = dt[:,5]\n",
    "tau43 = dt[:,6]\n",
    "tau54 = dt[:,7]\n",
    "tau65 = dt[:,8]\n",
    "massratio = dt[:,16]\n",
    "\n",
    "rho = np.log((m*m)/(pt*pt))\n",
    "rhoprime = np.log((m*m)/(pt*1))\n",
    "\n",
    "tau21prime = tau21 + rhoprime * 0.088\n",
    "tau32prime = tau32 + rhoprime * 0.025\n",
    "tau43prime = tau43 + rhoprime * 0.01\n",
    "tau54prime = tau54 + rhoprime * 0.001\n",
    "\n",
    "j2pt = dt[:,2]\n",
    "#m = j1sdb[mrange]\n",
    "j2m = j2sdb[:]\n",
    "j2tau21 = dt[:,20]\n",
    "j2tau32 = dt[:,21]\n",
    "j2tau43 = dt[:,22]\n",
    "j2tau54 = dt[:,23]\n",
    "j2tau65 = dt[:,24]\n",
    "j2massratio = dt[:,32]\n",
    "\n",
    "\n",
    "j2rho = np.log((j2m*j2m)/(j2pt*j2pt))\n",
    "j2rhoprime = np.log((j2m*j2m)/(j2pt*1))\n",
    "\n",
    "j2tau21prime = j2tau21 + j2rhoprime * 0.086\n",
    "j2tau32prime = j2tau32 + j2rhoprime * 0.025\n",
    "j2tau43prime = j2tau43 + j2rhoprime * 0.01\n",
    "j2tau54prime = j2tau54 + j2rhoprime * 0.001"
   ]
  },
  {
   "cell_type": "code",
   "execution_count": 16,
   "metadata": {},
   "outputs": [],
   "source": [
    "dt[:,4] = tau21prime\n",
    "dt[:,5] = tau32prime\n",
    "dt[:,6] = tau43prime\n",
    "dt[:,7] = tau54prime\n",
    "\n",
    "dt[:,20] = j2tau21prime \n",
    "dt[:,21] = j2tau32prime\n",
    "dt[:,22] = j2tau43prime\n",
    "dt[:,23] = j2tau54prime"
   ]
  },
  {
   "cell_type": "code",
   "execution_count": 17,
   "metadata": {},
   "outputs": [
    {
     "data": {
      "text/plain": [
       "'Mj2'"
      ]
     },
     "execution_count": 17,
     "metadata": {},
     "output_type": "execute_result"
    }
   ],
   "source": [
    "columns[19]"
   ]
  },
  {
   "cell_type": "code",
   "execution_count": 18,
   "metadata": {},
   "outputs": [],
   "source": [
    "Y = dt[:,[4,5,6,7,8,11,12,20,21,22,23,24,27,28]]"
   ]
  },
  {
   "cell_type": "code",
   "execution_count": 19,
   "metadata": {},
   "outputs": [
    {
     "data": {
      "text/plain": [
       "(56093, 14)"
      ]
     },
     "execution_count": 19,
     "metadata": {},
     "output_type": "execute_result"
    }
   ],
   "source": [
    "Y.shape"
   ]
  },
  {
   "cell_type": "code",
   "execution_count": 12,
   "metadata": {},
   "outputs": [],
   "source": [
    "#if nprong == 3:\n",
    "#    dt = prong_3.values\n",
    "#    correct = (dt[:,3]>20) &(dt[:,19]>20)\n",
    "#    dt = dt[correct]\n",
    "#    for i in range(13,19):\n",
    "#        dt[:,i] = dt[:,i]/dt[:,3]\n",
    "    \n",
    "#    for i in range(29,35):\n",
    "#        dt[:,i] = dt[:,i]/(dt[:,19])\n",
    "        \n",
    "#    correct = (dt[:,29]>=0) &(dt[:,29]<=1)&(dt[:,30]>=0) &(dt[:,30]<=1)&(dt[:,31]>=0) &(dt[:,31]<=1)&(dt[:,32]>=0) &(dt[:,32]<=1)&(dt[:,33]>=0) &(dt[:,33]<=1)&(dt[:,34]>=-0.01) &(dt[:,34]<=1)\n",
    "#    dt = dt[correct]        \n",
    "        \n",
    "#    Y = dt[:,[4,5,6,7,8,11,12,13,14,15,16,17,18,20,21,22,23,24,27,28,29,30,31,32,33,34]]\n",
    "#    #Y = dt[:,[3,4,5,6,11,12,19,20,21,22,27,28]]\n",
    "#    idx = dt[:,-1]\n",
    "#    bkg_idx = np.where(idx==0)[0]\n",
    "#    signal_idx = np.where((idx==1) & (dt[:,3]>400))[0]\n",
    "#    #signal_idx = np.where((idx==1)) [0]\n",
    "#    Y = Y[signal_idx]"
   ]
  },
  {
   "cell_type": "code",
   "execution_count": 20,
   "metadata": {},
   "outputs": [
    {
     "data": {
      "image/png": "[encoded data removed]",
      "text/plain": [
       "<Figure size 432x288 with 1 Axes>"
      ]
     },
     "metadata": {
      "needs_background": "light"
     },
     "output_type": "display_data"
    }
   ],
   "source": [
    "bins = np.linspace(0,1,100)\n",
    "bins.shape\n",
    "column = 5\n",
    "#print(f_rnd.columns[column])\n",
    "plt.hist(Y[:,1],bins,alpha=0.5,color='b');\n",
    "#plt.hist(sigout[:,column],bins,alpha=0.5,color='r');\n",
    "#plt.hist(out2[:,column],bins,alpha=0.5,color='g');\n",
    "#plt.axvline(np.mean(Y[:,column]))"
   ]
  },
  {
   "cell_type": "code",
   "execution_count": 21,
   "metadata": {},
   "outputs": [
    {
     "data": {
      "text/plain": [
       "(56093, 14)"
      ]
     },
     "execution_count": 21,
     "metadata": {},
     "output_type": "execute_result"
    }
   ],
   "source": [
    "Y.shape"
   ]
  },
  {
   "cell_type": "code",
   "execution_count": 22,
   "metadata": {},
   "outputs": [],
   "source": [
    "sig_mean = []\n",
    "sig_std = []\n",
    "for i in range(14):\n",
    "    mean = np.mean(Y[:,i])\n",
    "    std = np.std(Y[:,i])\n",
    "    sig_mean.append(mean)\n",
    "    sig_std.append(std)\n",
    "    Y[:,i] = (Y[:,i]-mean)/std"
   ]
  },
  {
   "cell_type": "code",
   "execution_count": 23,
   "metadata": {},
   "outputs": [
    {
     "data": {
      "text/plain": [
       "[0.5889842852970872,\n",
       " 0.776948906886828,\n",
       " 0.8260836088999884,\n",
       " 0.8565254328261013,\n",
       " 0.8691745117669379,\n",
       " 1.322175036710598,\n",
       " 247.9854527302872,\n",
       " 0.5632295732597153,\n",
       " 0.6946518189039353,\n",
       " 0.777301233531012,\n",
       " 0.8142719435015259,\n",
       " 0.8389124560722176,\n",
       " 1.45115841675801,\n",
       " 145.1807533916888]"
      ]
     },
     "execution_count": 23,
     "metadata": {},
     "output_type": "execute_result"
    }
   ],
   "source": [
    "sig_mean"
   ]
  },
  {
   "cell_type": "code",
   "execution_count": 24,
   "metadata": {},
   "outputs": [
    {
     "data": {
      "text/plain": [
       "[0.12327421810559959,\n",
       " 0.1518798948945959,\n",
       " 0.09806693117110032,\n",
       " 0.06886335854666266,\n",
       " 0.05202169180414055,\n",
       " 0.27490505003588006,\n",
       " 85.09442585272612,\n",
       " 0.15413353867098883,\n",
       " 0.14615917663398945,\n",
       " 0.10623118145267112,\n",
       " 0.07759293488089873,\n",
       " 0.06286508082318994,\n",
       " 0.49550355347222735,\n",
       " 50.15571288437146]"
      ]
     },
     "execution_count": 24,
     "metadata": {},
     "output_type": "execute_result"
    }
   ],
   "source": [
    "sig_std"
   ]
  },
  {
   "cell_type": "code",
   "execution_count": 25,
   "metadata": {},
   "outputs": [],
   "source": [
    "total_sig = torch.tensor(Y)"
   ]
  },
  {
   "cell_type": "code",
   "execution_count": 26,
   "metadata": {},
   "outputs": [
    {
     "data": {
      "text/plain": [
       "torch.Size([56093, 14])"
      ]
     },
     "execution_count": 26,
     "metadata": {},
     "output_type": "execute_result"
    }
   ],
   "source": [
    "total_sig.shape"
   ]
  },
  {
   "cell_type": "code",
   "execution_count": 20,
   "metadata": {},
   "outputs": [
    {
     "data": {
      "image/png": "[encoded data removed]",
      "text/plain": [
       "<Figure size 432x288 with 1 Axes>"
      ]
     },
     "metadata": {
      "needs_background": "light"
     },
     "output_type": "display_data"
    }
   ],
   "source": [
    "bins = np.linspace(-3,3,100)\n",
    "bins.shape\n",
    "column = 5\n",
    "#print(f_rnd.columns[column])\n",
    "plt.hist(Y[:,1],bins,alpha=0.5,color='b');\n",
    "#plt.hist(sigout[:,column],bins,alpha=0.5,color='r');\n",
    "#plt.hist(out2[:,column],bins,alpha=0.5,color='g');\n",
    "#plt.axvline(np.mean(Y[:,column]))"
   ]
  },
  {
   "cell_type": "code",
   "execution_count": 27,
   "metadata": {},
   "outputs": [],
   "source": [
    "N_EPOCHS = 30\n",
    "PRINT_INTERVAL = 2000\n",
    "NUM_WORKERS = 4\n",
    "LR = 1e-6\n",
    "\n",
    "#N_FLOWS = 6 \n",
    "#Z_DIM = 8\n",
    "\n",
    "N_FLOWS = 10\n",
    "Z_DIM = 6\n",
    "\n",
    "n_steps = 0"
   ]
  },
  {
   "cell_type": "code",
   "execution_count": 28,
   "metadata": {},
   "outputs": [],
   "source": [
    "sigmodel = VAE_NF(N_FLOWS, Z_DIM).cuda()"
   ]
  },
  {
   "cell_type": "code",
   "execution_count": 23,
   "metadata": {},
   "outputs": [
    {
     "name": "stdout",
     "output_type": "stream",
     "text": [
      "VAE_NF(\n",
      "  (encoder): Sequential(\n",
      "    (0): Linear(in_features=14, out_features=50, bias=True)\n",
      "    (1): LeakyReLU(negative_slope=True)\n",
      "    (2): Linear(in_features=50, out_features=48, bias=True)\n",
      "    (3): LeakyReLU(negative_slope=True)\n",
      "    (4): Linear(in_features=48, out_features=12, bias=True)\n",
      "  )\n",
      "  (decoder): Sequential(\n",
      "    (0): Linear(in_features=6, out_features=48, bias=True)\n",
      "    (1): LeakyReLU(negative_slope=True)\n",
      "    (2): Linear(in_features=48, out_features=50, bias=True)\n",
      "    (3): LeakyReLU(negative_slope=True)\n",
      "    (4): Linear(in_features=50, out_features=14, bias=True)\n",
      "  )\n",
      "  (flows): NormalizingFlowModel(\n",
      "    (flows): ModuleList(\n",
      "      (0): MAF(\n",
      "        (layers): ModuleList(\n",
      "          (0): FCNN(\n",
      "            (network): Sequential(\n",
      "              (0): Linear(in_features=1, out_features=8, bias=True)\n",
      "              (1): Tanh()\n",
      "              (2): Linear(in_features=8, out_features=8, bias=True)\n",
      "              (3): Tanh()\n",
      "              (4): Linear(in_features=8, out_features=2, bias=True)\n",
      "            )\n",
      "          )\n",
      "          (1): FCNN(\n",
      "            (network): Sequential(\n",
      "              (0): Linear(in_features=2, out_features=8, bias=True)\n",
      "              (1): Tanh()\n",
      "              (2): Linear(in_features=8, out_features=8, bias=True)\n",
      "              (3): Tanh()\n",
      "              (4): Linear(in_features=8, out_features=2, bias=True)\n",
      "            )\n",
      "          )\n",
      "          (2): FCNN(\n",
      "            (network): Sequential(\n",
      "              (0): Linear(in_features=3, out_features=8, bias=True)\n",
      "              (1): Tanh()\n",
      "              (2): Linear(in_features=8, out_features=8, bias=True)\n",
      "              (3): Tanh()\n",
      "              (4): Linear(in_features=8, out_features=2, bias=True)\n",
      "            )\n",
      "          )\n",
      "          (3): FCNN(\n",
      "            (network): Sequential(\n",
      "              (0): Linear(in_features=4, out_features=8, bias=True)\n",
      "              (1): Tanh()\n",
      "              (2): Linear(in_features=8, out_features=8, bias=True)\n",
      "              (3): Tanh()\n",
      "              (4): Linear(in_features=8, out_features=2, bias=True)\n",
      "            )\n",
      "          )\n",
      "          (4): FCNN(\n",
      "            (network): Sequential(\n",
      "              (0): Linear(in_features=5, out_features=8, bias=True)\n",
      "              (1): Tanh()\n",
      "              (2): Linear(in_features=8, out_features=8, bias=True)\n",
      "              (3): Tanh()\n",
      "              (4): Linear(in_features=8, out_features=2, bias=True)\n",
      "            )\n",
      "          )\n",
      "        )\n",
      "      )\n",
      "      (1): MAF(\n",
      "        (layers): ModuleList(\n",
      "          (0): FCNN(\n",
      "            (network): Sequential(\n",
      "              (0): Linear(in_features=1, out_features=8, bias=True)\n",
      "              (1): Tanh()\n",
      "              (2): Linear(in_features=8, out_features=8, bias=True)\n",
      "              (3): Tanh()\n",
      "              (4): Linear(in_features=8, out_features=2, bias=True)\n",
      "            )\n",
      "          )\n",
      "          (1): FCNN(\n",
      "            (network): Sequential(\n",
      "              (0): Linear(in_features=2, out_features=8, bias=True)\n",
      "              (1): Tanh()\n",
      "              (2): Linear(in_features=8, out_features=8, bias=True)\n",
      "              (3): Tanh()\n",
      "              (4): Linear(in_features=8, out_features=2, bias=True)\n",
      "            )\n",
      "          )\n",
      "          (2): FCNN(\n",
      "            (network): Sequential(\n",
      "              (0): Linear(in_features=3, out_features=8, bias=True)\n",
      "              (1): Tanh()\n",
      "              (2): Linear(in_features=8, out_features=8, bias=True)\n",
      "              (3): Tanh()\n",
      "              (4): Linear(in_features=8, out_features=2, bias=True)\n",
      "            )\n",
      "          )\n",
      "          (3): FCNN(\n",
      "            (network): Sequential(\n",
      "              (0): Linear(in_features=4, out_features=8, bias=True)\n",
      "              (1): Tanh()\n",
      "              (2): Linear(in_features=8, out_features=8, bias=True)\n",
      "              (3): Tanh()\n",
      "              (4): Linear(in_features=8, out_features=2, bias=True)\n",
      "            )\n",
      "          )\n",
      "          (4): FCNN(\n",
      "            (network): Sequential(\n",
      "              (0): Linear(in_features=5, out_features=8, bias=True)\n",
      "              (1): Tanh()\n",
      "              (2): Linear(in_features=8, out_features=8, bias=True)\n",
      "              (3): Tanh()\n",
      "              (4): Linear(in_features=8, out_features=2, bias=True)\n",
      "            )\n",
      "          )\n",
      "        )\n",
      "      )\n",
      "      (2): MAF(\n",
      "        (layers): ModuleList(\n",
      "          (0): FCNN(\n",
      "            (network): Sequential(\n",
      "              (0): Linear(in_features=1, out_features=8, bias=True)\n",
      "              (1): Tanh()\n",
      "              (2): Linear(in_features=8, out_features=8, bias=True)\n",
      "              (3): Tanh()\n",
      "              (4): Linear(in_features=8, out_features=2, bias=True)\n",
      "            )\n",
      "          )\n",
      "          (1): FCNN(\n",
      "            (network): Sequential(\n",
      "              (0): Linear(in_features=2, out_features=8, bias=True)\n",
      "              (1): Tanh()\n",
      "              (2): Linear(in_features=8, out_features=8, bias=True)\n",
      "              (3): Tanh()\n",
      "              (4): Linear(in_features=8, out_features=2, bias=True)\n",
      "            )\n",
      "          )\n",
      "          (2): FCNN(\n",
      "            (network): Sequential(\n",
      "              (0): Linear(in_features=3, out_features=8, bias=True)\n",
      "              (1): Tanh()\n",
      "              (2): Linear(in_features=8, out_features=8, bias=True)\n",
      "              (3): Tanh()\n",
      "              (4): Linear(in_features=8, out_features=2, bias=True)\n",
      "            )\n",
      "          )\n",
      "          (3): FCNN(\n",
      "            (network): Sequential(\n",
      "              (0): Linear(in_features=4, out_features=8, bias=True)\n",
      "              (1): Tanh()\n",
      "              (2): Linear(in_features=8, out_features=8, bias=True)\n",
      "              (3): Tanh()\n",
      "              (4): Linear(in_features=8, out_features=2, bias=True)\n",
      "            )\n",
      "          )\n",
      "          (4): FCNN(\n",
      "            (network): Sequential(\n",
      "              (0): Linear(in_features=5, out_features=8, bias=True)\n",
      "              (1): Tanh()\n",
      "              (2): Linear(in_features=8, out_features=8, bias=True)\n",
      "              (3): Tanh()\n",
      "              (4): Linear(in_features=8, out_features=2, bias=True)\n",
      "            )\n",
      "          )\n",
      "        )\n",
      "      )\n",
      "      (3): MAF(\n",
      "        (layers): ModuleList(\n",
      "          (0): FCNN(\n",
      "            (network): Sequential(\n",
      "              (0): Linear(in_features=1, out_features=8, bias=True)\n",
      "              (1): Tanh()\n",
      "              (2): Linear(in_features=8, out_features=8, bias=True)\n",
      "              (3): Tanh()\n",
      "              (4): Linear(in_features=8, out_features=2, bias=True)\n",
      "            )\n",
      "          )\n",
      "          (1): FCNN(\n",
      "            (network): Sequential(\n",
      "              (0): Linear(in_features=2, out_features=8, bias=True)\n",
      "              (1): Tanh()\n",
      "              (2): Linear(in_features=8, out_features=8, bias=True)\n",
      "              (3): Tanh()\n",
      "              (4): Linear(in_features=8, out_features=2, bias=True)\n",
      "            )\n",
      "          )\n",
      "          (2): FCNN(\n",
      "            (network): Sequential(\n",
      "              (0): Linear(in_features=3, out_features=8, bias=True)\n",
      "              (1): Tanh()\n",
      "              (2): Linear(in_features=8, out_features=8, bias=True)\n",
      "              (3): Tanh()\n",
      "              (4): Linear(in_features=8, out_features=2, bias=True)\n",
      "            )\n",
      "          )\n",
      "          (3): FCNN(\n",
      "            (network): Sequential(\n",
      "              (0): Linear(in_features=4, out_features=8, bias=True)\n",
      "              (1): Tanh()\n",
      "              (2): Linear(in_features=8, out_features=8, bias=True)\n",
      "              (3): Tanh()\n",
      "              (4): Linear(in_features=8, out_features=2, bias=True)\n",
      "            )\n",
      "          )\n",
      "          (4): FCNN(\n",
      "            (network): Sequential(\n",
      "              (0): Linear(in_features=5, out_features=8, bias=True)\n",
      "              (1): Tanh()\n",
      "              (2): Linear(in_features=8, out_features=8, bias=True)\n",
      "              (3): Tanh()\n",
      "              (4): Linear(in_features=8, out_features=2, bias=True)\n",
      "            )\n",
      "          )\n",
      "        )\n",
      "      )\n",
      "      (4): MAF(\n",
      "        (layers): ModuleList(\n",
      "          (0): FCNN(\n",
      "            (network): Sequential(\n",
      "              (0): Linear(in_features=1, out_features=8, bias=True)\n",
      "              (1): Tanh()\n",
      "              (2): Linear(in_features=8, out_features=8, bias=True)\n",
      "              (3): Tanh()\n",
      "              (4): Linear(in_features=8, out_features=2, bias=True)\n",
      "            )\n",
      "          )\n",
      "          (1): FCNN(\n",
      "            (network): Sequential(\n",
      "              (0): Linear(in_features=2, out_features=8, bias=True)\n",
      "              (1): Tanh()\n",
      "              (2): Linear(in_features=8, out_features=8, bias=True)\n",
      "              (3): Tanh()\n",
      "              (4): Linear(in_features=8, out_features=2, bias=True)\n",
      "            )\n",
      "          )\n",
      "          (2): FCNN(\n",
      "            (network): Sequential(\n",
      "              (0): Linear(in_features=3, out_features=8, bias=True)\n",
      "              (1): Tanh()\n",
      "              (2): Linear(in_features=8, out_features=8, bias=True)\n",
      "              (3): Tanh()\n",
      "              (4): Linear(in_features=8, out_features=2, bias=True)\n",
      "            )\n",
      "          )\n",
      "          (3): FCNN(\n",
      "            (network): Sequential(\n",
      "              (0): Linear(in_features=4, out_features=8, bias=True)\n",
      "              (1): Tanh()\n",
      "              (2): Linear(in_features=8, out_features=8, bias=True)\n",
      "              (3): Tanh()\n",
      "              (4): Linear(in_features=8, out_features=2, bias=True)\n",
      "            )\n",
      "          )\n",
      "          (4): FCNN(\n",
      "            (network): Sequential(\n",
      "              (0): Linear(in_features=5, out_features=8, bias=True)\n",
      "              (1): Tanh()\n",
      "              (2): Linear(in_features=8, out_features=8, bias=True)\n",
      "              (3): Tanh()\n",
      "              (4): Linear(in_features=8, out_features=2, bias=True)\n",
      "            )\n",
      "          )\n",
      "        )\n",
      "      )\n",
      "      (5): MAF(\n",
      "        (layers): ModuleList(\n",
      "          (0): FCNN(\n",
      "            (network): Sequential(\n",
      "              (0): Linear(in_features=1, out_features=8, bias=True)\n",
      "              (1): Tanh()\n",
      "              (2): Linear(in_features=8, out_features=8, bias=True)\n",
      "              (3): Tanh()\n",
      "              (4): Linear(in_features=8, out_features=2, bias=True)\n",
      "            )\n",
      "          )\n",
      "          (1): FCNN(\n",
      "            (network): Sequential(\n",
      "              (0): Linear(in_features=2, out_features=8, bias=True)\n",
      "              (1): Tanh()\n",
      "              (2): Linear(in_features=8, out_features=8, bias=True)\n",
      "              (3): Tanh()\n",
      "              (4): Linear(in_features=8, out_features=2, bias=True)\n",
      "            )\n",
      "          )\n",
      "          (2): FCNN(\n",
      "            (network): Sequential(\n",
      "              (0): Linear(in_features=3, out_features=8, bias=True)\n",
      "              (1): Tanh()\n",
      "              (2): Linear(in_features=8, out_features=8, bias=True)\n",
      "              (3): Tanh()\n",
      "              (4): Linear(in_features=8, out_features=2, bias=True)\n",
      "            )\n",
      "          )\n",
      "          (3): FCNN(\n",
      "            (network): Sequential(\n",
      "              (0): Linear(in_features=4, out_features=8, bias=True)\n",
      "              (1): Tanh()\n",
      "              (2): Linear(in_features=8, out_features=8, bias=True)\n",
      "              (3): Tanh()\n",
      "              (4): Linear(in_features=8, out_features=2, bias=True)\n",
      "            )\n",
      "          )\n",
      "          (4): FCNN(\n",
      "            (network): Sequential(\n",
      "              (0): Linear(in_features=5, out_features=8, bias=True)\n",
      "              (1): Tanh()\n",
      "              (2): Linear(in_features=8, out_features=8, bias=True)\n",
      "              (3): Tanh()\n",
      "              (4): Linear(in_features=8, out_features=2, bias=True)\n",
      "            )\n",
      "          )\n",
      "        )\n",
      "      )\n",
      "      (6): MAF(\n",
      "        (layers): ModuleList(\n",
      "          (0): FCNN(\n",
      "            (network): Sequential(\n",
      "              (0): Linear(in_features=1, out_features=8, bias=True)\n",
      "              (1): Tanh()\n",
      "              (2): Linear(in_features=8, out_features=8, bias=True)\n",
      "              (3): Tanh()\n",
      "              (4): Linear(in_features=8, out_features=2, bias=True)\n",
      "            )\n",
      "          )\n",
      "          (1): FCNN(\n",
      "            (network): Sequential(\n",
      "              (0): Linear(in_features=2, out_features=8, bias=True)\n",
      "              (1): Tanh()\n",
      "              (2): Linear(in_features=8, out_features=8, bias=True)\n",
      "              (3): Tanh()\n",
      "              (4): Linear(in_features=8, out_features=2, bias=True)\n",
      "            )\n",
      "          )\n",
      "          (2): FCNN(\n",
      "            (network): Sequential(\n",
      "              (0): Linear(in_features=3, out_features=8, bias=True)\n",
      "              (1): Tanh()\n",
      "              (2): Linear(in_features=8, out_features=8, bias=True)\n",
      "              (3): Tanh()\n",
      "              (4): Linear(in_features=8, out_features=2, bias=True)\n",
      "            )\n",
      "          )\n",
      "          (3): FCNN(\n",
      "            (network): Sequential(\n",
      "              (0): Linear(in_features=4, out_features=8, bias=True)\n",
      "              (1): Tanh()\n",
      "              (2): Linear(in_features=8, out_features=8, bias=True)\n",
      "              (3): Tanh()\n",
      "              (4): Linear(in_features=8, out_features=2, bias=True)\n",
      "            )\n",
      "          )\n",
      "          (4): FCNN(\n",
      "            (network): Sequential(\n",
      "              (0): Linear(in_features=5, out_features=8, bias=True)\n",
      "              (1): Tanh()\n",
      "              (2): Linear(in_features=8, out_features=8, bias=True)\n",
      "              (3): Tanh()\n",
      "              (4): Linear(in_features=8, out_features=2, bias=True)\n",
      "            )\n",
      "          )\n",
      "        )\n",
      "      )\n",
      "      (7): MAF(\n",
      "        (layers): ModuleList(\n",
      "          (0): FCNN(\n",
      "            (network): Sequential(\n",
      "              (0): Linear(in_features=1, out_features=8, bias=True)\n",
      "              (1): Tanh()\n",
      "              (2): Linear(in_features=8, out_features=8, bias=True)\n",
      "              (3): Tanh()\n",
      "              (4): Linear(in_features=8, out_features=2, bias=True)\n",
      "            )\n",
      "          )\n",
      "          (1): FCNN(\n",
      "            (network): Sequential(\n",
      "              (0): Linear(in_features=2, out_features=8, bias=True)\n",
      "              (1): Tanh()\n",
      "              (2): Linear(in_features=8, out_features=8, bias=True)\n",
      "              (3): Tanh()\n",
      "              (4): Linear(in_features=8, out_features=2, bias=True)\n",
      "            )\n",
      "          )\n",
      "          (2): FCNN(\n",
      "            (network): Sequential(\n",
      "              (0): Linear(in_features=3, out_features=8, bias=True)\n",
      "              (1): Tanh()\n",
      "              (2): Linear(in_features=8, out_features=8, bias=True)\n",
      "              (3): Tanh()\n",
      "              (4): Linear(in_features=8, out_features=2, bias=True)\n",
      "            )\n",
      "          )\n",
      "          (3): FCNN(\n",
      "            (network): Sequential(\n",
      "              (0): Linear(in_features=4, out_features=8, bias=True)\n",
      "              (1): Tanh()\n",
      "              (2): Linear(in_features=8, out_features=8, bias=True)\n",
      "              (3): Tanh()\n",
      "              (4): Linear(in_features=8, out_features=2, bias=True)\n",
      "            )\n",
      "          )\n",
      "          (4): FCNN(\n",
      "            (network): Sequential(\n",
      "              (0): Linear(in_features=5, out_features=8, bias=True)\n",
      "              (1): Tanh()\n",
      "              (2): Linear(in_features=8, out_features=8, bias=True)\n",
      "              (3): Tanh()\n",
      "              (4): Linear(in_features=8, out_features=2, bias=True)\n",
      "            )\n",
      "          )\n",
      "        )\n",
      "      )\n",
      "      (8): MAF(\n",
      "        (layers): ModuleList(\n",
      "          (0): FCNN(\n",
      "            (network): Sequential(\n",
      "              (0): Linear(in_features=1, out_features=8, bias=True)\n",
      "              (1): Tanh()\n",
      "              (2): Linear(in_features=8, out_features=8, bias=True)\n",
      "              (3): Tanh()\n",
      "              (4): Linear(in_features=8, out_features=2, bias=True)\n",
      "            )\n",
      "          )\n",
      "          (1): FCNN(\n",
      "            (network): Sequential(\n",
      "              (0): Linear(in_features=2, out_features=8, bias=True)\n",
      "              (1): Tanh()\n",
      "              (2): Linear(in_features=8, out_features=8, bias=True)\n",
      "              (3): Tanh()\n",
      "              (4): Linear(in_features=8, out_features=2, bias=True)\n",
      "            )\n",
      "          )\n",
      "          (2): FCNN(\n",
      "            (network): Sequential(\n",
      "              (0): Linear(in_features=3, out_features=8, bias=True)\n",
      "              (1): Tanh()\n",
      "              (2): Linear(in_features=8, out_features=8, bias=True)\n",
      "              (3): Tanh()\n",
      "              (4): Linear(in_features=8, out_features=2, bias=True)\n",
      "            )\n",
      "          )\n",
      "          (3): FCNN(\n",
      "            (network): Sequential(\n",
      "              (0): Linear(in_features=4, out_features=8, bias=True)\n",
      "              (1): Tanh()\n",
      "              (2): Linear(in_features=8, out_features=8, bias=True)\n",
      "              (3): Tanh()\n",
      "              (4): Linear(in_features=8, out_features=2, bias=True)\n",
      "            )\n",
      "          )\n",
      "          (4): FCNN(\n",
      "            (network): Sequential(\n",
      "              (0): Linear(in_features=5, out_features=8, bias=True)\n",
      "              (1): Tanh()\n",
      "              (2): Linear(in_features=8, out_features=8, bias=True)\n",
      "              (3): Tanh()\n",
      "              (4): Linear(in_features=8, out_features=2, bias=True)\n",
      "            )\n",
      "          )\n",
      "        )\n",
      "      )\n",
      "      (9): MAF(\n",
      "        (layers): ModuleList(\n",
      "          (0): FCNN(\n",
      "            (network): Sequential(\n",
      "              (0): Linear(in_features=1, out_features=8, bias=True)\n",
      "              (1): Tanh()\n",
      "              (2): Linear(in_features=8, out_features=8, bias=True)\n",
      "              (3): Tanh()\n",
      "              (4): Linear(in_features=8, out_features=2, bias=True)\n",
      "            )\n",
      "          )\n",
      "          (1): FCNN(\n",
      "            (network): Sequential(\n",
      "              (0): Linear(in_features=2, out_features=8, bias=True)\n",
      "              (1): Tanh()\n",
      "              (2): Linear(in_features=8, out_features=8, bias=True)\n",
      "              (3): Tanh()\n",
      "              (4): Linear(in_features=8, out_features=2, bias=True)\n",
      "            )\n",
      "          )\n",
      "          (2): FCNN(\n",
      "            (network): Sequential(\n",
      "              (0): Linear(in_features=3, out_features=8, bias=True)\n",
      "              (1): Tanh()\n",
      "              (2): Linear(in_features=8, out_features=8, bias=True)\n",
      "              (3): Tanh()\n",
      "              (4): Linear(in_features=8, out_features=2, bias=True)\n",
      "            )\n",
      "          )\n",
      "          (3): FCNN(\n",
      "            (network): Sequential(\n",
      "              (0): Linear(in_features=4, out_features=8, bias=True)\n",
      "              (1): Tanh()\n",
      "              (2): Linear(in_features=8, out_features=8, bias=True)\n",
      "              (3): Tanh()\n",
      "              (4): Linear(in_features=8, out_features=2, bias=True)\n",
      "            )\n",
      "          )\n",
      "          (4): FCNN(\n",
      "            (network): Sequential(\n",
      "              (0): Linear(in_features=5, out_features=8, bias=True)\n",
      "              (1): Tanh()\n",
      "              (2): Linear(in_features=8, out_features=8, bias=True)\n",
      "              (3): Tanh()\n",
      "              (4): Linear(in_features=8, out_features=2, bias=True)\n",
      "            )\n",
      "          )\n",
      "        )\n",
      "      )\n",
      "    )\n",
      "  )\n",
      ")\n"
     ]
    }
   ],
   "source": [
    "print(sigmodel)"
   ]
  },
  {
   "cell_type": "code",
   "execution_count": 24,
   "metadata": {},
   "outputs": [],
   "source": [
    "bs = 800\n",
    "sig_train_iterator = utils.DataLoader(total_sig, batch_size=bs, shuffle=True) \n",
    "sig_test_iterator = utils.DataLoader(total_sig, batch_size=bs)"
   ]
  },
  {
   "cell_type": "code",
   "execution_count": 49,
   "metadata": {},
   "outputs": [],
   "source": [
    "sigoptimizer = optim.Adam(sigmodel.parameters(), lr=1e-8)"
   ]
  },
  {
   "cell_type": "code",
   "execution_count": 50,
   "metadata": {},
   "outputs": [],
   "source": [
    "beta = 1"
   ]
  },
  {
   "cell_type": "code",
   "execution_count": 51,
   "metadata": {},
   "outputs": [],
   "source": [
    "def sigtrain():\n",
    "    global n_steps\n",
    "    train_loss = []\n",
    "    sigmodel.train()\n",
    "\n",
    "    for batch_idx, x in enumerate(sig_train_iterator):\n",
    "        start_time = time.time()\n",
    "        \n",
    "        x = x.float().cuda()\n",
    "\n",
    "        x_tilde, kl_div = sigmodel(x)\n",
    "        mseloss = nn.MSELoss(size_average=False)\n",
    "        huberloss = nn.SmoothL1Loss(size_average=False)\n",
    "        #loss_recons = F.binary_cross_entropy(x_tilde, x, size_average=False) / x.size(0)\n",
    "        loss_recons = mseloss(x_tilde,x ) / x.size(0)\n",
    "        #loss_recons = huberloss(x_tilde,x ) / x.size(0)\n",
    "        loss = loss_recons + beta* kl_div\n",
    "\n",
    "        sigoptimizer.zero_grad()\n",
    "        loss.backward()\n",
    "        sigoptimizer.step()\n",
    "\n",
    "        train_loss.append([loss_recons.item(), kl_div.item()])\n",
    "\n",
    "        if (batch_idx + 1) % PRINT_INTERVAL == 0:\n",
    "            print('\\tIter [{}/{} ({:.0f}%)]\\tLoss: {} Time: {:5.3f} ms/batch'.format(\n",
    "                batch_idx * len(x), 50000,\n",
    "                PRINT_INTERVAL * batch_idx / 50000,\n",
    "                np.asarray(train_loss)[-PRINT_INTERVAL:].mean(0),\n",
    "                1000 * (time.time() - start_time)\n",
    "            ))\n",
    "\n",
    "        n_steps += 1"
   ]
  },
  {
   "cell_type": "code",
   "execution_count": 52,
   "metadata": {},
   "outputs": [],
   "source": [
    "def sigevaluate(split='valid'):\n",
    "    global n_steps\n",
    "    start_time = time.time()\n",
    "    val_loss = []\n",
    "    sigmodel.eval()\n",
    "\n",
    "    with torch.no_grad():\n",
    "        for batch_idx, x in enumerate(sig_test_iterator):\n",
    "            \n",
    "            x = x.float().cuda()\n",
    "\n",
    "            x_tilde, kl_div = sigmodel(x)\n",
    "            mseloss = nn.MSELoss(size_average=False)\n",
    "            huberloss = nn.SmoothL1Loss(size_average=False)\n",
    "            #loss_recons = F.binary_cross_entropy(x_tilde, x, size_average=False) / x.size(0)\n",
    "            loss_recons = mseloss(x_tilde,x ) / x.size(0)\n",
    "            #loss_recons = huberloss(x_tilde,x ) / x.size(0)\n",
    "            loss = loss_recons + beta * kl_div\n",
    "\n",
    "            val_loss.append(loss.item())\n",
    "            #writer.add_scalar('loss/{}/ELBO'.format(split), loss.item(), n_steps)\n",
    "            #writer.add_scalar('loss/{}/reconstruction'.format(split), loss_recons.item(), n_steps)\n",
    "            #writer.add_scalar('loss/{}/KL'.format(split), kl_div.item(), n_steps)\n",
    "\n",
    "    print('\\nEvaluation Completed ({})!\\tLoss: {:5.4f} Time: {:5.3f} s'.format(\n",
    "        split,\n",
    "        np.asarray(val_loss).mean(0),\n",
    "        time.time() - start_time\n",
    "    ))\n",
    "    return np.asarray(val_loss).mean(0)"
   ]
  },
  {
   "cell_type": "code",
   "execution_count": 29,
   "metadata": {},
   "outputs": [],
   "source": [
    "ae_def = {\n",
    "    \"type\":\"sig\",\n",
    "    \"trainon\":\"2prong\",\n",
    "    \"features\":\"tauDDTwithoutrawmass\",\n",
    "    \"architecture\":\"MAF\",\n",
    "    \"selection\":\"turnoncutandj1sdbcut0p9\",\n",
    "    \"trainloss\":\"MSELoss\",\n",
    "    \"beta\":\"beta1\",\n",
    "    \"zdimnflow\":\"z6f10\",\n",
    "}"
   ]
  },
  {
   "cell_type": "code",
   "execution_count": 30,
   "metadata": {},
   "outputs": [
    {
     "data": {
      "text/plain": [
       "{'type': 'sig',\n",
       " 'trainon': '2prong',\n",
       " 'features': 'tauDDTwithoutrawmass',\n",
       " 'architecture': 'MAF',\n",
       " 'selection': 'turnoncutandj1sdbcut0p9',\n",
       " 'trainloss': 'MSELoss',\n",
       " 'beta': 'beta1',\n",
       " 'zdimnflow': 'z6f10'}"
      ]
     },
     "execution_count": 30,
     "metadata": {},
     "output_type": "execute_result"
    }
   ],
   "source": [
    "ae_def"
   ]
  },
  {
   "cell_type": "code",
   "execution_count": 55,
   "metadata": {},
   "outputs": [
    {
     "name": "stdout",
     "output_type": "stream",
     "text": [
      "Epoch 1:\n",
      "\n",
      "Evaluation Completed (valid)!\tLoss: -55.1451 Time: 0.842 s\n",
      "Saving model!\n",
      "Epoch 2:\n",
      "\n",
      "Evaluation Completed (valid)!\tLoss: -55.1467 Time: 0.828 s\n",
      "Saving model!\n",
      "Epoch 3:\n",
      "\n",
      "Evaluation Completed (valid)!\tLoss: -55.1432 Time: 0.832 s\n",
      "Not saving model! Last saved: 2\n",
      "Epoch 4:\n",
      "\n",
      "Evaluation Completed (valid)!\tLoss: -55.1533 Time: 0.856 s\n",
      "Saving model!\n",
      "Epoch 5:\n",
      "\n",
      "Evaluation Completed (valid)!\tLoss: -55.1420 Time: 0.831 s\n",
      "Not saving model! Last saved: 4\n",
      "Epoch 6:\n",
      "\n",
      "Evaluation Completed (valid)!\tLoss: -55.1116 Time: 0.831 s\n",
      "Not saving model! Last saved: 4\n",
      "Epoch 7:\n",
      "\n",
      "Evaluation Completed (valid)!\tLoss: -55.1465 Time: 0.828 s\n",
      "Not saving model! Last saved: 4\n",
      "Epoch 8:\n",
      "\n",
      "Evaluation Completed (valid)!\tLoss: -55.1441 Time: 0.831 s\n",
      "Not saving model! Last saved: 4\n",
      "Epoch 9:\n",
      "\n",
      "Evaluation Completed (valid)!\tLoss: -55.1346 Time: 0.829 s\n",
      "Not saving model! Last saved: 4\n",
      "Epoch 10:\n",
      "\n",
      "Evaluation Completed (valid)!\tLoss: -55.1823 Time: 0.829 s\n",
      "Saving model!\n",
      "Epoch 11:\n",
      "\n",
      "Evaluation Completed (valid)!\tLoss: -55.1466 Time: 0.834 s\n",
      "Not saving model! Last saved: 10\n",
      "Epoch 12:\n",
      "\n",
      "Evaluation Completed (valid)!\tLoss: -55.1552 Time: 0.832 s\n",
      "Not saving model! Last saved: 10\n",
      "Epoch 13:\n",
      "\n",
      "Evaluation Completed (valid)!\tLoss: -55.1591 Time: 0.864 s\n",
      "Not saving model! Last saved: 10\n",
      "Epoch 14:\n",
      "\n",
      "Evaluation Completed (valid)!\tLoss: -55.1432 Time: 0.833 s\n",
      "Not saving model! Last saved: 10\n",
      "Epoch 15:\n",
      "\n",
      "Evaluation Completed (valid)!\tLoss: -55.1309 Time: 0.837 s\n",
      "Not saving model! Last saved: 10\n",
      "Epoch 16:\n",
      "\n",
      "Evaluation Completed (valid)!\tLoss: -55.1427 Time: 0.836 s\n",
      "Not saving model! Last saved: 10\n",
      "Epoch 17:\n",
      "\n",
      "Evaluation Completed (valid)!\tLoss: -55.1423 Time: 0.832 s\n",
      "Not saving model! Last saved: 10\n",
      "Epoch 18:\n",
      "\n",
      "Evaluation Completed (valid)!\tLoss: -55.1623 Time: 0.833 s\n",
      "Not saving model! Last saved: 10\n",
      "Epoch 19:\n",
      "\n",
      "Evaluation Completed (valid)!\tLoss: -55.1357 Time: 0.837 s\n",
      "Not saving model! Last saved: 10\n",
      "Epoch 20:\n",
      "\n",
      "Evaluation Completed (valid)!\tLoss: -55.1458 Time: 0.835 s\n",
      "Not saving model! Last saved: 10\n",
      "Epoch 21:\n",
      "\n",
      "Evaluation Completed (valid)!\tLoss: -55.1309 Time: 0.831 s\n",
      "Not saving model! Last saved: 10\n",
      "Patience Limit Reached\n"
     ]
    }
   ],
   "source": [
    "N_EPOCHS = 10\n",
    "BEST_LOSS = -55.0998\n",
    "LAST_SAVED = -1\n",
    "PATIENCE_COUNT = 0\n",
    "PATIENCE_LIMIT = 5\n",
    "for epoch in range(1, 1000):\n",
    "    print(\"Epoch {}:\".format(epoch))\n",
    "    sigtrain()\n",
    "    cur_loss = sigevaluate()\n",
    "\n",
    "    if cur_loss <= BEST_LOSS:\n",
    "        PATIENCE_COUNT = 0\n",
    "        BEST_LOSS = cur_loss\n",
    "        LAST_SAVED = epoch\n",
    "        print(\"Saving model!\")\n",
    "        torch.save(sigmodel.state_dict(),f\"/data/t3home000/spark/QUASAR/weights/{ae_def['type']}_{ae_def['trainon']}_{ae_def['features']}_{ae_def['architecture']}_{ae_def['selection']}_{ae_def['trainloss']}_{ae_def['beta']}_{ae_def['zdimnflow']}.h5\")\n",
    "        \n",
    "    else:\n",
    "        PATIENCE_COUNT += 1\n",
    "        print(\"Not saving model! Last saved: {}\".format(LAST_SAVED))\n",
    "        if PATIENCE_COUNT > 10:\n",
    "            print(\"Patience Limit Reached\")\n",
    "            break "
   ]
  },
  {
   "cell_type": "code",
   "execution_count": 31,
   "metadata": {},
   "outputs": [
    {
     "data": {
      "text/plain": [
       "<All keys matched successfully>"
      ]
     },
     "execution_count": 31,
     "metadata": {},
     "output_type": "execute_result"
    }
   ],
   "source": [
    "sigmodel.load_state_dict(torch.load(f\"/data/t3home000/spark/QUASAR/weights/{ae_def['type']}_{ae_def['trainon']}_{ae_def['features']}_{ae_def['architecture']}_{ae_def['selection']}_{ae_def['trainloss']}_{ae_def['beta']}_{ae_def['zdimnflow']}.h5\"))"
   ]
  },
  {
   "cell_type": "code",
   "execution_count": 32,
   "metadata": {},
   "outputs": [],
   "source": [
    "sigout = sigmodel(torch.tensor(Y).float().cuda())[0]\n",
    "sigout = sigout.data.cpu().numpy()"
   ]
  },
  {
   "cell_type": "code",
   "execution_count": 33,
   "metadata": {},
   "outputs": [
    {
     "data": {
      "text/plain": [
       "<matplotlib.lines.Line2D at 0x7f034fdb94a8>"
      ]
     },
     "execution_count": 33,
     "metadata": {},
     "output_type": "execute_result"
    },
    {
     "data": {
      "image/png": "[encoded data removed]",
      "text/plain": [
       "<Figure size 432x288 with 1 Axes>"
      ]
     },
     "metadata": {
      "needs_background": "light"
     },
     "output_type": "display_data"
    }
   ],
   "source": [
    "bins = np.linspace(-3,3,100)\n",
    "bins.shape\n",
    "column = 13\n",
    "#print(f_rnd.columns[column]\n",
    "plt.hist(Y[:,column],bins,alpha=0.5,color='b');\n",
    "plt.hist(sigout[:,column],bins,alpha=0.5,color='r');\n",
    "#plt.hist(out2[:,column],bins,alpha=0.5,color='g');\n",
    "plt.axvline(np.mean(Y[:,column]))"
   ]
  },
  {
   "cell_type": "code",
   "execution_count": 34,
   "metadata": {},
   "outputs": [],
   "source": [
    "inputlist = [\n",
    "    '/data/t3home000/spark/QUASAR/preprocessing/conventional_tau_BB1_rnd.h5',\n",
    "    '/data/t3home000/spark/QUASAR/preprocessing/conventional_tau_BB2.h5',\n",
    "    '/data/t3home000/spark/QUASAR/preprocessing/conventional_tau_BB3.h5',\n",
    "    '/data/t3home000/spark/QUASAR/preprocessing/conventional_tau_background.h5',\n",
    "    '/data/t3home000/spark/QUASAR/preprocessing/conventional_tau_rnd.h5',\n",
    "    '/data/t3home000/spark/QUASAR/preprocessing/conventional_tau_rnd.h5', \n",
    "    '/data/t3home000/spark/QUASAR/preprocessing/conventional_tau_3prong_rnd.h5' \n",
    "]"
   ]
  },
  {
   "cell_type": "code",
   "execution_count": 35,
   "metadata": {},
   "outputs": [
    {
     "data": {
      "text/plain": [
       "{'type': 'sig',\n",
       " 'trainon': '2prong',\n",
       " 'features': 'tauDDTwithoutrawmass',\n",
       " 'architecture': 'MAF',\n",
       " 'selection': 'turnoncutandj1sdbcut0p9',\n",
       " 'trainloss': 'MSELoss',\n",
       " 'beta': 'beta1',\n",
       " 'zdimnflow': 'z6f10'}"
      ]
     },
     "execution_count": 35,
     "metadata": {},
     "output_type": "execute_result"
    }
   ],
   "source": [
    "ae_def"
   ]
  },
  {
   "cell_type": "code",
   "execution_count": 36,
   "metadata": {},
   "outputs": [],
   "source": [
    "outputlist_waic = [\n",
    "    f\"../data_strings/{ae_def['type']}_{ae_def['trainon']}_{ae_def['features']}_{ae_def['selection']}_{ae_def['trainloss']}_{ae_def['beta']}_{ae_def['zdimnflow']}_WAICloss_bb1.npy\",\n",
    "    f\"../data_strings/{ae_def['type']}_{ae_def['trainon']}_{ae_def['features']}_{ae_def['selection']}_{ae_def['trainloss']}_{ae_def['beta']}_{ae_def['zdimnflow']}_WAICloss_bb2.npy\",\n",
    "    f\"../data_strings/{ae_def['type']}_{ae_def['trainon']}_{ae_def['features']}_{ae_def['selection']}_{ae_def['trainloss']}_{ae_def['beta']}_{ae_def['zdimnflow']}_WAICloss_bb3.npy\",\n",
    "    f\"../data_strings/{ae_def['type']}_{ae_def['trainon']}_{ae_def['features']}_{ae_def['selection']}_{ae_def['trainloss']}_{ae_def['beta']}_{ae_def['zdimnflow']}_WAICloss_purebkg.npy\",\n",
    "    f\"../data_strings/{ae_def['type']}_{ae_def['trainon']}_{ae_def['features']}_{ae_def['selection']}_{ae_def['trainloss']}_{ae_def['beta']}_{ae_def['zdimnflow']}_WAICloss_rndbkg.npy\",\n",
    "    f\"../data_strings/{ae_def['type']}_{ae_def['trainon']}_{ae_def['features']}_{ae_def['selection']}_{ae_def['trainloss']}_{ae_def['beta']}_{ae_def['zdimnflow']}_WAICloss_2prong.npy\",\n",
    "    f\"../data_strings/{ae_def['type']}_{ae_def['trainon']}_{ae_def['features']}_{ae_def['selection']}_{ae_def['trainloss']}_{ae_def['beta']}_{ae_def['zdimnflow']}_WAICloss_3prong.npy\",\n",
    "]\n",
    "\n",
    "outputlist_justloss = [\n",
    "    f\"../data_strings/{ae_def['type']}_{ae_def['trainon']}_{ae_def['features']}_{ae_def['selection']}_{ae_def['trainloss']}_{ae_def['beta']}_{ae_def['zdimnflow']}_Justloss_bb1.npy\",\n",
    "    f\"../data_strings/{ae_def['type']}_{ae_def['trainon']}_{ae_def['features']}_{ae_def['selection']}_{ae_def['trainloss']}_{ae_def['beta']}_{ae_def['zdimnflow']}_Justloss_bb2.npy\",\n",
    "    f\"../data_strings/{ae_def['type']}_{ae_def['trainon']}_{ae_def['features']}_{ae_def['selection']}_{ae_def['trainloss']}_{ae_def['beta']}_{ae_def['zdimnflow']}_Justloss_bb3.npy\",\n",
    "    f\"../data_strings/{ae_def['type']}_{ae_def['trainon']}_{ae_def['features']}_{ae_def['selection']}_{ae_def['trainloss']}_{ae_def['beta']}_{ae_def['zdimnflow']}_Justloss_purebkg.npy\",\n",
    "    f\"../data_strings/{ae_def['type']}_{ae_def['trainon']}_{ae_def['features']}_{ae_def['selection']}_{ae_def['trainloss']}_{ae_def['beta']}_{ae_def['zdimnflow']}_Justloss_rndbkg.npy\",\n",
    "    f\"../data_strings/{ae_def['type']}_{ae_def['trainon']}_{ae_def['features']}_{ae_def['selection']}_{ae_def['trainloss']}_{ae_def['beta']}_{ae_def['zdimnflow']}_Justloss_2prong.npy\",\n",
    "    f\"../data_strings/{ae_def['type']}_{ae_def['trainon']}_{ae_def['features']}_{ae_def['selection']}_{ae_def['trainloss']}_{ae_def['beta']}_{ae_def['zdimnflow']}_Justloss_3prong.npy\",\n",
    "]"
   ]
  },
  {
   "cell_type": "code",
   "execution_count": 37,
   "metadata": {},
   "outputs": [],
   "source": [
    "exist_signalflag = [\n",
    "    False,\n",
    "    False,\n",
    "    False,\n",
    "    False,\n",
    "    True,\n",
    "    True,\n",
    "    True,\n",
    "]\n",
    "is_signal = [\n",
    "    False,\n",
    "    False,\n",
    "    False,\n",
    "    False,\n",
    "    False,\n",
    "    True,\n",
    "    True\n",
    "]\n",
    "\n",
    "nprong = [\n",
    "    None,\n",
    "    None,\n",
    "    None,\n",
    "    None,\n",
    "    None,\n",
    "    '2prong',\n",
    "    '3prong'\n",
    "]"
   ]
  },
  {
   "cell_type": "code",
   "execution_count": 38,
   "metadata": {},
   "outputs": [
    {
     "name": "stdout",
     "output_type": "stream",
     "text": [
      "(239348, 14)\n",
      "[  0.72520506   7.643241   184.67152      6.1936326    3.725552\n",
      "   3.098937     2.219624    17.961866     1.7269247    0.8435188 ]\n",
      "(242090, 14)\n",
      "[15.365764    6.9187517   0.3151592   0.4118572   1.0500731   2.0749564\n",
      "  0.4214853   4.5448437   0.87614274  9.876658  ]\n",
      "(231654, 14)\n",
      "[  0.8040898    2.377873     2.3928282    6.532975     5.390218\n",
      "  12.080396    47.233833   226.27863      0.85846794  33.643555  ]\n",
      "(232418, 14)\n",
      "[ 4.818598    1.2611926  43.602814    1.5514578   0.69935864  1.5142497\n",
      "  3.8042302  38.256832    2.0488544   7.064204  ]\n",
      "(263134, 14)\n",
      "[ 1.4731792   0.75973403  3.1608715   3.648624    1.2590046   1.0100514\n",
      "  7.865798   47.24768    12.928152    1.1537659 ]\n",
      "(55539, 14)\n",
      "[1.2636664  0.32650727 2.0695477  3.6744695  0.5719618  0.5855941\n",
      " 1.4543979  1.8487711  2.5795536  6.7420444 ]\n",
      "(56525, 14)\n",
      "[0.50923425 9.851876   2.6985197  1.3364102  8.561891   1.1336683\n",
      " 0.9823866  3.1151683  1.7357988  1.2510887 ]\n"
     ]
    },
    {
     "data": {
      "image/png": "[encoded data removed]",
      "text/plain": [
       "<Figure size 432x288 with 1 Axes>"
      ]
     },
     "metadata": {
      "needs_background": "light"
     },
     "output_type": "display_data"
    }
   ],
   "source": [
    "for in_file, out_file_waic, out_file_justloss, sigbit_flag, is_sig, n_prong in zip(inputlist,outputlist_waic,outputlist_justloss,exist_signalflag,is_signal, nprong):    \n",
    "    \n",
    "    f_bb = pd.read_hdf(in_file)\n",
    "    dt = f_bb.values\n",
    "    correct = (dt[:,3]>0) &(dt[:,19]>0) & (dt[:,1]>0) & (dt[:,2]>0) &(dt[:,2]>0) & (dt[:,16]>0) & (dt[:,32]>0)\n",
    "    dt = dt[correct]\n",
    "    for i in range(13,19):\n",
    "        dt[:,i] = dt[:,i]/dt[:,3]\n",
    "\n",
    "    for i in range(29,35):\n",
    "        dt[:,i] = dt[:,i]/(dt[:,19])\n",
    "\n",
    "\n",
    "    correct = (dt[:,16]>0) & (dt[:,29]>=0) &(dt[:,29]<=1)&(dt[:,30]>=0) &(dt[:,30]<=1)&(dt[:,31]>=0) &(dt[:,31]<=1)&(dt[:,32]>=0) &(dt[:,32]<=1)&(dt[:,33]>=0) &(dt[:,33]<=1)&(dt[:,34]>=-0.01) &(dt[:,34]<=1)\n",
    "    dt = dt[correct]\n",
    "    correct = (dt[:,3]>100)\n",
    "    dt = dt[correct]\n",
    "\n",
    "    correct = (dt[:,19]>20)\n",
    "    dt = dt[correct]\n",
    "\n",
    "    correct = (dt[:,0]>=2800)\n",
    "    dt = dt[correct]\n",
    "\n",
    "    bsmlike = np.where(dt[:,16]>0.9)[0]\n",
    "    dt = dt[bsmlike]\n",
    "    \n",
    "    j1sdb = dt[:,3]*dt[:,16]\n",
    "    j2sdb = dt[:,19]*dt[:,32]\n",
    "\n",
    "    pt = dt[:,1]\n",
    "    m = j1sdb[:]\n",
    "    m2 = j2sdb[:]\n",
    "    tau21 = dt[:,4]\n",
    "    tau32 = dt[:,5]\n",
    "    tau43 = dt[:,6]\n",
    "    tau54 = dt[:,7]\n",
    "    tau65 = dt[:,8]\n",
    "    massratio = dt[:,16]\n",
    "\n",
    "    rho = np.log((m*m)/(pt*pt))\n",
    "    rhoprime = np.log((m*m)/(pt*1))\n",
    "\n",
    "    tau21prime = tau21 + rhoprime * 0.0775\n",
    "    tau32prime = tau32 + rhoprime * 0.027\n",
    "    tau43prime = tau43 + rhoprime * 0.01\n",
    "    tau54prime = tau54 + rhoprime * 0.004\n",
    "\n",
    "    j2pt = dt[:,2]\n",
    "    #m = j1sdb[mrange]\n",
    "    j2m = j2sdb[:]\n",
    "    j2tau21 = dt[:,20]\n",
    "    j2tau32 = dt[:,21]\n",
    "    j2tau43 = dt[:,22]\n",
    "    j2tau54 = dt[:,23]\n",
    "    j2tau65 = dt[:,24]\n",
    "    j2massratio = dt[:,32]\n",
    "\n",
    "\n",
    "    j2rho = np.log((j2m*j2m)/(j2pt*j2pt))\n",
    "    j2rhoprime = np.log((j2m*j2m)/(j2pt*1))\n",
    "\n",
    "    j2tau21prime = j2tau21 + j2rhoprime * 0.088\n",
    "    j2tau32prime = j2tau32 + j2rhoprime * 0.025\n",
    "    j2tau43prime = j2tau43 + j2rhoprime * 0.01\n",
    "    j2tau54prime = j2tau54 + j2rhoprime * 0.001\n",
    "    \n",
    "    dt[:,4] = tau21prime\n",
    "    dt[:,5] = tau32prime\n",
    "    dt[:,6] = tau43prime\n",
    "    dt[:,7] = tau54prime\n",
    "\n",
    "    dt[:,20] = j2tau21prime \n",
    "    dt[:,21] = j2tau32prime\n",
    "    dt[:,22] = j2tau43prime\n",
    "    dt[:,23] = j2tau54prime\n",
    "    \n",
    "    if sigbit_flag:\n",
    "        idx = dt[:,-1]\n",
    "        sigidx = (idx == 1)\n",
    "        bkgidx = (idx == 0)\n",
    "        if is_sig:\n",
    "            dt = dt[sigidx]\n",
    "        else:\n",
    "            dt = dt[bkgidx]\n",
    "            \n",
    "    if n_prong == '2prong':\n",
    "        correct = dt[:,3] > 300\n",
    "        dt = dt[correct]\n",
    "    \n",
    "    if n_prong == '3prong':\n",
    "        correct = dt[:,3] > 400\n",
    "        dt = dt[correct]    \n",
    "    \n",
    "    Y = dt[:,[4,5,6,7,8,11,12,20,21,22,23,24,27,28]]\n",
    "    #Y = dt[:,[3,4,5,6,11,12,13,14,15,16,17,18,19,20,21,22,27,28,29,30,31,32,33,34]]\n",
    "    #Y = dt[:,[3,4,5,6,11,12,13,14,15,16,17,18,19,20,21,22,27,28,29,30,31,32,33,34]]\n",
    "    #Y = dt[:,[3,4,5,6,11,12,19,20,21,22,27,28]]\n",
    "    \n",
    "\n",
    "        \n",
    "    \n",
    "            \n",
    "    print(Y.shape)\n",
    "    for i in range(14):\n",
    "        Y[:,i] = (Y[:,i]-sig_mean[i])/sig_std[i]\n",
    "    \n",
    "    total_bb_test = torch.tensor(Y)\n",
    "    #huberloss = nn.SmoothL1Loss(reduction='none')\n",
    "    sigae_bbloss = torch.mean((sigmodel(total_bb_test.float().cuda())[0]- total_bb_test.float().cuda())**2,dim=1).data.cpu().numpy()\n",
    "    bbvar = torch.var((sigmodel(total_bb_test.float().cuda())[0]- total_bb_test.float().cuda())**2,dim=1).data.cpu().numpy()\n",
    "    waic = sigae_bbloss + bbvar\n",
    "    #sigae_bbloss = torch.mean(huberloss(model(total_bb_test.float().cuda())[0],total_bb_test.float().cuda()),dim=1).data.cpu().numpy()\n",
    "    print(waic[0:10])\n",
    "    plt.hist(waic,bins=np.linspace(0,10,1001),density=True);\n",
    "    plt.xlim([0,2])\n",
    "    np.save(out_file_waic,waic)\n",
    "    np.save(out_file_justloss,sigae_bbloss)"
   ]
  },
  {
   "cell_type": "code",
   "execution_count": 39,
   "metadata": {},
   "outputs": [],
   "source": [
    "loss_prong3 = np.load(f\"../data_strings/{ae_def['type']}_{ae_def['trainon']}_{ae_def['features']}_{ae_def['selection']}_{ae_def['trainloss']}_{ae_def['beta']}_{ae_def['zdimnflow']}_Justloss_3prong.npy\")\n",
    "loss_prong2 = np.load(f\"../data_strings/{ae_def['type']}_{ae_def['trainon']}_{ae_def['features']}_{ae_def['selection']}_{ae_def['trainloss']}_{ae_def['beta']}_{ae_def['zdimnflow']}_Justloss_2prong.npy\")\n",
    "loss_purebkg = np.load(f\"../data_strings/{ae_def['type']}_{ae_def['trainon']}_{ae_def['features']}_{ae_def['selection']}_{ae_def['trainloss']}_{ae_def['beta']}_{ae_def['zdimnflow']}_Justloss_purebkg.npy\")\n",
    "loss_rndbkg = np.load(f\"../data_strings/{ae_def['type']}_{ae_def['trainon']}_{ae_def['features']}_{ae_def['selection']}_{ae_def['trainloss']}_{ae_def['beta']}_{ae_def['zdimnflow']}_Justloss_rndbkg.npy\")\n",
    "\n",
    "\n",
    "\n",
    "\n"
   ]
  },
  {
   "cell_type": "code",
   "execution_count": 46,
   "metadata": {},
   "outputs": [
    {
     "data": {
      "image/png": "[encoded data removed]",
      "text/plain": [
       "<Figure size 432x288 with 1 Axes>"
      ]
     },
     "metadata": {
      "needs_background": "light"
     },
     "output_type": "display_data"
    }
   ],
   "source": [
    "plt.hist(loss_purebkg,bins=np.linspace(0,4,100),density=False,alpha=0.3,label='Pure Bkg');\n",
    "#plt.hist(loss_rndbkg,bins=np.linspace(0,2,100),density=False,alpha=0.3,label='(rnd) bkg');\n",
    "\n",
    "plt.hist(loss_prong2,bins=np.linspace(0,4,100),density=False,alpha=0.3,label='2prong (rnd)sig');\n",
    "plt.hist(loss_prong3,bins=np.linspace(0,4,100),density=False,alpha=0.3,label='3prong (rnd)sig');\n",
    "#plt.yscale('log')\n",
    "plt.xlabel('Loss (SigAE trained on 2prong sig)')\n",
    "plt.legend(loc='upper right')\n",
    "plt.savefig('sigae_trained_on_2prongsig.png')"
   ]
  },
  {
   "cell_type": "code",
   "execution_count": 44,
   "metadata": {
    "scrolled": true
   },
   "outputs": [
    {
     "data": {
      "text/plain": [
       "55539"
      ]
     },
     "execution_count": 44,
     "metadata": {},
     "output_type": "execute_result"
    }
   ],
   "source": [
    "len(loss_prong2)"
   ]
  },
  {
   "cell_type": "code",
   "execution_count": 41,
   "metadata": {},
   "outputs": [
    {
     "data": {
      "text/plain": [
       "['../data_strings/sig_2prong_tauDDTwithoutrawmass_turnoncutandj1sdbcut0p9_MSELoss_beta1_z6f10_WAICloss_bb1.npy',\n",
       " '../data_strings/sig_2prong_tauDDTwithoutrawmass_turnoncutandj1sdbcut0p9_MSELoss_beta1_z6f10_WAICloss_bb2.npy',\n",
       " '../data_strings/sig_2prong_tauDDTwithoutrawmass_turnoncutandj1sdbcut0p9_MSELoss_beta1_z6f10_WAICloss_bb3.npy',\n",
       " '../data_strings/sig_2prong_tauDDTwithoutrawmass_turnoncutandj1sdbcut0p9_MSELoss_beta1_z6f10_WAICloss_purebkg.npy',\n",
       " '../data_strings/sig_2prong_tauDDTwithoutrawmass_turnoncutandj1sdbcut0p9_MSELoss_beta1_z6f10_WAICloss_rndbkg.npy',\n",
       " '../data_strings/sig_2prong_tauDDTwithoutrawmass_turnoncutandj1sdbcut0p9_MSELoss_beta1_z6f10_WAICloss_2prong.npy',\n",
       " '../data_strings/sig_2prong_tauDDTwithoutrawmass_turnoncutandj1sdbcut0p9_MSELoss_beta1_z6f10_WAICloss_3prong.npy']"
      ]
     },
     "execution_count": 41,
     "metadata": {},
     "output_type": "execute_result"
    }
   ],
   "source": [
    "outputlist_waic"
   ]
  },
  {
   "cell_type": "code",
   "execution_count": 42,
   "metadata": {},
   "outputs": [
    {
     "data": {
      "text/plain": [
       "['../data_strings/sig_2prong_tauDDTwithoutrawmass_turnoncutandj1sdbcut0p9_MSELoss_beta1_z6f10_Justloss_bb1.npy',\n",
       " '../data_strings/sig_2prong_tauDDTwithoutrawmass_turnoncutandj1sdbcut0p9_MSELoss_beta1_z6f10_Justloss_bb2.npy',\n",
       " '../data_strings/sig_2prong_tauDDTwithoutrawmass_turnoncutandj1sdbcut0p9_MSELoss_beta1_z6f10_Justloss_bb3.npy',\n",
       " '../data_strings/sig_2prong_tauDDTwithoutrawmass_turnoncutandj1sdbcut0p9_MSELoss_beta1_z6f10_Justloss_purebkg.npy',\n",
       " '../data_strings/sig_2prong_tauDDTwithoutrawmass_turnoncutandj1sdbcut0p9_MSELoss_beta1_z6f10_Justloss_rndbkg.npy',\n",
       " '../data_strings/sig_2prong_tauDDTwithoutrawmass_turnoncutandj1sdbcut0p9_MSELoss_beta1_z6f10_Justloss_2prong.npy',\n",
       " '../data_strings/sig_2prong_tauDDTwithoutrawmass_turnoncutandj1sdbcut0p9_MSELoss_beta1_z6f10_Justloss_3prong.npy']"
      ]
     },
     "execution_count": 42,
     "metadata": {},
     "output_type": "execute_result"
    }
   ],
   "source": [
    "outputlist_justloss"
   ]
  },
  {
   "cell_type": "code",
   "execution_count": 34,
   "metadata": {},
   "outputs": [
    {
     "data": {
      "text/plain": [
       "array([ 2832.3672,  8125.47  , 29922.496 , ...,  2359.0386,  2635.9333,\n",
       "         640.2169], dtype=float32)"
      ]
     },
     "execution_count": 34,
     "metadata": {},
     "output_type": "execute_result"
    }
   ],
   "source": [
    "sigae_bbloss"
   ]
  },
  {
   "cell_type": "code",
   "execution_count": 124,
   "metadata": {
    "scrolled": true
   },
   "outputs": [
    {
     "data": {
      "text/plain": [
       "{'type': 'sig',\n",
       " 'trainon': '2prong',\n",
       " 'features': 'tauDDTwithoutrawmass',\n",
       " 'architecture': 'MAF',\n",
       " 'selection': 'turnoncutandj1sdbcut0p9',\n",
       " 'trainloss': 'MSELoss',\n",
       " 'beta': 'beta1',\n",
       " 'zdimnflow': 'z6f10'}"
      ]
     },
     "execution_count": 124,
     "metadata": {},
     "output_type": "execute_result"
    }
   ],
   "source": [
    "ae_def"
   ]
  },
  {
   "cell_type": "code",
   "execution_count": 27,
   "metadata": {
    "scrolled": true
   },
   "outputs": [
    {
     "data": {
      "text/plain": [
       "array([  13148.348 , 1877521.2   ,   10748.764 , ...,    9332.388 ,\n",
       "          3072.496 ,    3093.0527], dtype=float32)"
      ]
     },
     "execution_count": 27,
     "metadata": {},
     "output_type": "execute_result"
    }
   ],
   "source": [
    "sigae_bbloss"
   ]
  },
  {
   "cell_type": "code",
   "execution_count": 59,
   "metadata": {},
   "outputs": [
    {
     "data": {
      "image/png": "[encoded data removed]",
      "text/plain": [
       "<Figure size 432x288 with 1 Axes>"
      ]
     },
     "metadata": {
      "needs_background": "light"
     },
     "output_type": "display_data"
    }
   ],
   "source": [
    "plt.hist(sigae_bbloss,bins=np.linspace(0,10,1001));"
   ]
  },
  {
   "cell_type": "code",
   "execution_count": 60,
   "metadata": {},
   "outputs": [],
   "source": [
    "np.save('../data_strings/sigae_2prong_loss_bb3.npy',sigae_bbloss)"
   ]
  },
  {
   "cell_type": "code",
   "execution_count": null,
   "metadata": {},
   "outputs": [],
   "source": []
  },
  {
   "cell_type": "code",
   "execution_count": null,
   "metadata": {},
   "outputs": [],
   "source": []
  },
  {
   "cell_type": "code",
   "execution_count": 211,
   "metadata": {},
   "outputs": [],
   "source": [
    "X_bkg = dt[:,[3,4,5,6,11,12,19,20,21,22,27,28]]\n",
    "X_bkg = X_bkg[bkg_idx]"
   ]
  },
  {
   "cell_type": "code",
   "execution_count": 212,
   "metadata": {},
   "outputs": [],
   "source": [
    "for i in range(12):\n",
    "    X_bkg[:,i] = (X_bkg[:,i]-sig_mean[i])/sig_std[i]"
   ]
  },
  {
   "cell_type": "code",
   "execution_count": 161,
   "metadata": {},
   "outputs": [],
   "source": [
    "total_bkg_test = torch.tensor(X_bkg)"
   ]
  },
  {
   "cell_type": "code",
   "execution_count": 162,
   "metadata": {},
   "outputs": [],
   "source": [
    "sigae_bkgloss = torch.mean((sigmodel(total_bkg_test.float().cuda())[0]- total_bkg_test.float().cuda())**2,dim=1).data.cpu().numpy()"
   ]
  },
  {
   "cell_type": "code",
   "execution_count": 163,
   "metadata": {},
   "outputs": [],
   "source": [
    "sigae_sigloss = torch.mean((sigmodel(total_sig.float().cuda())[0]- total_sig.float().cuda())**2,dim=1).data.cpu().numpy()"
   ]
  },
  {
   "cell_type": "code",
   "execution_count": 176,
   "metadata": {},
   "outputs": [],
   "source": [
    "f_3prong = pd.read_hdf(\"/data/t3home000/spark/QUASAR/preprocessing/conventional_tau_3prong_rnd.h5\")"
   ]
  },
  {
   "cell_type": "code",
   "execution_count": null,
   "metadata": {},
   "outputs": [],
   "source": []
  },
  {
   "cell_type": "code",
   "execution_count": null,
   "metadata": {},
   "outputs": [],
   "source": []
  },
  {
   "cell_type": "code",
   "execution_count": 309,
   "metadata": {},
   "outputs": [],
   "source": [
    "f_bb1 = pd.read_hdf('/data/t3home000/spark/QUASAR/preprocessing/conventional_tau_BB1_rnd.h5')"
   ]
  },
  {
   "cell_type": "code",
   "execution_count": 310,
   "metadata": {},
   "outputs": [],
   "source": [
    "dt_bb1 = f_bb1.values"
   ]
  },
  {
   "cell_type": "code",
   "execution_count": 311,
   "metadata": {},
   "outputs": [],
   "source": [
    "X_bb1 = dt_bb1[:,[3,4,5,6,11,12,19,20,21,22,27,28]]"
   ]
  },
  {
   "cell_type": "code",
   "execution_count": 312,
   "metadata": {},
   "outputs": [
    {
     "data": {
      "text/plain": [
       "(1000000, 12)"
      ]
     },
     "execution_count": 312,
     "metadata": {},
     "output_type": "execute_result"
    }
   ],
   "source": [
    "X_bb1.shape"
   ]
  },
  {
   "cell_type": "code",
   "execution_count": 313,
   "metadata": {},
   "outputs": [
    {
     "data": {
      "text/plain": [
       "[416.4436327724198,\n",
       " 0.259460143970101,\n",
       " 0.6475599434564594,\n",
       " 0.7747571031756559,\n",
       " 1.4414801240204307,\n",
       " 232.28881387172063,\n",
       " 115.19219609387073,\n",
       " 0.4000458937255977,\n",
       " 0.6497184345343743,\n",
       " 0.7592483240780288,\n",
       " 1.5724873295094448,\n",
       " 139.77741938715204]"
      ]
     },
     "execution_count": 313,
     "metadata": {},
     "output_type": "execute_result"
    }
   ],
   "source": [
    "sig_mean"
   ]
  },
  {
   "cell_type": "code",
   "execution_count": 314,
   "metadata": {},
   "outputs": [
    {
     "data": {
      "text/plain": [
       "[154.19379540115423,\n",
       " 0.17056704944179107,\n",
       " 0.14978212617036485,\n",
       " 0.09894407762923978,\n",
       " 0.4886539241053714,\n",
       " 87.70941099970253,\n",
       " 49.68849330603538,\n",
       " 0.1622952691607605,\n",
       " 0.14863130231138283,\n",
       " 0.10503384225762816,\n",
       " 0.6713928483438475,\n",
       " 48.672440905600446]"
      ]
     },
     "execution_count": 314,
     "metadata": {},
     "output_type": "execute_result"
    }
   ],
   "source": [
    "sig_std"
   ]
  },
  {
   "cell_type": "code",
   "execution_count": 315,
   "metadata": {},
   "outputs": [],
   "source": [
    "for i in range(12):\n",
    "    X_bb1[:,i] = (X_bb1[:,i]-sig_mean[i])/sig_std[i]"
   ]
  },
  {
   "cell_type": "code",
   "execution_count": 317,
   "metadata": {},
   "outputs": [
    {
     "data": {
      "text/plain": [
       "(array([246458., 189649., 134796.,  95188.,  64278.,  40409.,  20912.,\n",
       "          9337.,   4219.]),\n",
       " array([-2.        , -1.55555556, -1.11111111, -0.66666667, -0.22222222,\n",
       "         0.22222222,  0.66666667,  1.11111111,  1.55555556,  2.        ]),\n",
       " <a list of 9 Patch objects>)"
      ]
     },
     "execution_count": 317,
     "metadata": {},
     "output_type": "execute_result"
    },
    {
     "data": {
      "image/png": "[encoded data removed]",
      "text/plain": [
       "<Figure size 720x720 with 1 Axes>"
      ]
     },
     "metadata": {
      "needs_background": "light"
     },
     "output_type": "display_data"
    }
   ],
   "source": [
    "plt.hist(X_bb1[:,0],bins = np.linspace(-2,2,10))"
   ]
  },
  {
   "cell_type": "code",
   "execution_count": null,
   "metadata": {},
   "outputs": [],
   "source": []
  },
  {
   "cell_type": "code",
   "execution_count": 318,
   "metadata": {},
   "outputs": [
    {
     "ename": "TypeError",
     "evalue": "'type' object is not iterable",
     "output_type": "error",
     "traceback": [
      "\u001b[0;31m---------------------------------------------------------------------------\u001b[0m",
      "\u001b[0;31mTypeError\u001b[0m                                 Traceback (most recent call last)",
      "\u001b[0;32m<ipython-input-318-3425ef769b7f>\u001b[0m in \u001b[0;36m<module>\u001b[0;34m\u001b[0m\n\u001b[0;32m----> 1\u001b[0;31m \u001b[0;34m(\u001b[0m\u001b[0mtorch\u001b[0m\u001b[0;34m.\u001b[0m\u001b[0mtensor\u001b[0m\u001b[0;34m(\u001b[0m\u001b[0mdt\u001b[0m\u001b[0;34m[\u001b[0m\u001b[0mi\u001b[0m \u001b[0;34m*\u001b[0m \u001b[0mchunk_size\u001b[0m\u001b[0;34m:\u001b[0m\u001b[0;34m(\u001b[0m\u001b[0mi\u001b[0m \u001b[0;34m+\u001b[0m \u001b[0;36m1\u001b[0m\u001b[0;34m)\u001b[0m \u001b[0;34m*\u001b[0m \u001b[0mchunk_size\u001b[0m\u001b[0;34m]\u001b[0m\u001b[0;34m)\u001b[0m \u001b[0;32mfor\u001b[0m \u001b[0mi\u001b[0m \u001b[0;32min\u001b[0m \u001b[0mrange\u001b[0m \u001b[0;34m)\u001b[0m\u001b[0;34m\u001b[0m\u001b[0;34m\u001b[0m\u001b[0m\n\u001b[0m",
      "\u001b[0;31mTypeError\u001b[0m: 'type' object is not iterable"
     ]
    }
   ],
   "source": [
    "(torch.tensor(dt[i * chunk_size:(i + 1) * chunk_size]) for i in range ) "
   ]
  },
  {
   "cell_type": "code",
   "execution_count": 319,
   "metadata": {},
   "outputs": [],
   "source": [
    "def get_loss(dt):\n",
    "    \n",
    "    chunk_size=5000 \n",
    "    total_size=1000000\n",
    "    i = 0\n",
    "    i_max = total_size // chunk_size\n",
    "\n",
    "    print(i_max)\n",
    "    \n",
    "    \n",
    "    \n",
    "    gen = (torch.tensor(dt[i*chunk_size: (i + 1) * chunk_size]) for i in range(i_max)) \n",
    "\n",
    "        \n",
    "    with torch.no_grad():\n",
    "        \n",
    "        loss = [\n",
    "            n\n",
    "            for total_in_selection in gen\n",
    "            for n in torch.mean((sigmodel(total_in_selection.float().cuda())[0]- total_in_selection.float().cuda())**2,dim=1).data.cpu().numpy()\n",
    "        ]\n",
    "        \n",
    "    return loss"
   ]
  },
  {
   "cell_type": "code",
   "execution_count": 287,
   "metadata": {},
   "outputs": [],
   "source": [
    "def get_loss(dt):\n",
    "    \n",
    "    def generator(dt, chunk_size=5000, total_size=1000000):\n",
    "\n",
    "        i = 0\n",
    "        i_max = total_size // chunk_size\n",
    "        print(i_max)\n",
    "    \n",
    "        for i in range(i_max):\n",
    "            start=i * chunk_size\n",
    "            stop=(i + 1) * chunk_size\n",
    "            yield torch.tensor(dt[start:stop])\n",
    "        \n",
    "    loss = []\n",
    "\n",
    "    \n",
    "    with torch.no_grad():\n",
    "        \n",
    "        for total_in_selection in generator(dt,chunk_size=5000, total_size=1000000):\n",
    "            loss.extend(torch.mean((sigmodel(total_in_selection.float().cuda())[0]- total_in_selection.float().cuda())**2,dim=1).data.cpu().numpy())\n",
    "    \n",
    "    return loss"
   ]
  },
  {
   "cell_type": "code",
   "execution_count": 320,
   "metadata": {},
   "outputs": [
    {
     "name": "stdout",
     "output_type": "stream",
     "text": [
      "200\n"
     ]
    }
   ],
   "source": [
    "bb1_loss_sig = get_loss(X_bb1)"
   ]
  },
  {
   "cell_type": "code",
   "execution_count": 321,
   "metadata": {},
   "outputs": [],
   "source": [
    "bb1_loss_sig = np.array(bb1_loss_sig,dtype=np.float)"
   ]
  },
  {
   "cell_type": "code",
   "execution_count": 322,
   "metadata": {},
   "outputs": [
    {
     "name": "stdout",
     "output_type": "stream",
     "text": [
      "[1.90564466 0.96934295 1.35960376 ... 0.59359992 2.21692467 2.44283652]\n"
     ]
    }
   ],
   "source": [
    "print(bb1_loss_sig)"
   ]
  },
  {
   "cell_type": "code",
   "execution_count": 323,
   "metadata": {},
   "outputs": [
    {
     "data": {
      "image/png": "[encoded data removed]",
      "text/plain": [
       "<Figure size 720x720 with 1 Axes>"
      ]
     },
     "metadata": {
      "needs_background": "light"
     },
     "output_type": "display_data"
    }
   ],
   "source": [
    "plt.hist(bb1_loss_sig,bins=np.linspace(0,100,1001));"
   ]
  },
  {
   "cell_type": "code",
   "execution_count": 324,
   "metadata": {},
   "outputs": [],
   "source": [
    "np.save('../data_strings/sigaeloss_bb1.npy',bb1_loss_sig)"
   ]
  },
  {
   "cell_type": "code",
   "execution_count": null,
   "metadata": {},
   "outputs": [],
   "source": []
  },
  {
   "cell_type": "code",
   "execution_count": null,
   "metadata": {},
   "outputs": [],
   "source": []
  },
  {
   "cell_type": "code",
   "execution_count": 177,
   "metadata": {},
   "outputs": [],
   "source": [
    "dt_3prong = f_3prong.values"
   ]
  },
  {
   "cell_type": "code",
   "execution_count": 178,
   "metadata": {},
   "outputs": [],
   "source": [
    "Z = dt_3prong[:,[3,4,5,6,11,12,19,20,21,22,27,28]]"
   ]
  },
  {
   "cell_type": "code",
   "execution_count": 179,
   "metadata": {},
   "outputs": [
    {
     "data": {
      "text/plain": [
       "(100000, 12)"
      ]
     },
     "execution_count": 179,
     "metadata": {},
     "output_type": "execute_result"
    }
   ],
   "source": [
    "Z.shape"
   ]
  },
  {
   "cell_type": "code",
   "execution_count": 180,
   "metadata": {},
   "outputs": [],
   "source": [
    "for i in range(12):\n",
    "    Z[:,i] = (Z[:,i]-sig_mean[i])/sig_std[i]"
   ]
  },
  {
   "cell_type": "code",
   "execution_count": 181,
   "metadata": {},
   "outputs": [],
   "source": [
    "total_3prong = torch.tensor(Z)"
   ]
  },
  {
   "cell_type": "code",
   "execution_count": null,
   "metadata": {},
   "outputs": [],
   "source": []
  },
  {
   "cell_type": "code",
   "execution_count": 199,
   "metadata": {},
   "outputs": [],
   "source": [
    "bkgae_bkgloss = torch.mean((model(total_bkg_test.float().cuda())[0]- total_bkg_test.float().cuda())**2,dim=1).data.cpu().numpy()"
   ]
  },
  {
   "cell_type": "code",
   "execution_count": null,
   "metadata": {},
   "outputs": [],
   "source": [
    "bkgae_3prongloss = torch.mean((model(total_3prong.float().cuda())[0]- total_3prong.float().cuda())**2,dim=1).data.cpu().numpy()"
   ]
  },
  {
   "cell_type": "code",
   "execution_count": 182,
   "metadata": {},
   "outputs": [],
   "source": [
    "sigae_3prongloss = torch.mean((sigmodel(total_3prong.float().cuda())[0]- total_3prong.float().cuda())**2,dim=1).data.cpu().numpy()"
   ]
  },
  {
   "cell_type": "code",
   "execution_count": 183,
   "metadata": {},
   "outputs": [
    {
     "data": {
      "text/plain": [
       "(100000,)"
      ]
     },
     "execution_count": 183,
     "metadata": {},
     "output_type": "execute_result"
    }
   ],
   "source": [
    "sigae_3prongloss.shape"
   ]
  },
  {
   "cell_type": "code",
   "execution_count": 216,
   "metadata": {},
   "outputs": [
    {
     "data": {
      "text/plain": [
       "Text(0.5, 0, 'Signal AE Loss')"
      ]
     },
     "execution_count": 216,
     "metadata": {},
     "output_type": "execute_result"
    },
    {
     "data": {
      "image/png": "[encoded data removed]",
      "text/plain": [
       "<Figure size 720x720 with 1 Axes>"
      ]
     },
     "metadata": {
      "needs_background": "light"
     },
     "output_type": "display_data"
    }
   ],
   "source": [
    "bins = np.linspace(0,10,1001)\n",
    "plt.hist(sigae_sigloss,bins,weights = np.ones(len(signal_idx))*10,alpha=0.4,color='r',label='2 prong signal');\n",
    "plt.hist(sigae_3prongloss,bins,weights = np.ones(100000)*10,alpha=0.5,color='g',label='3 prong signal');\n",
    "plt.hist(sigae_bkgloss,bins,alpha=0.4,color='b',label='background');\n",
    "#plt.legend(bbox_to_anchor=(1.05, 1.0), loc='upper left')\n",
    "plt.legend(loc='upper right')\n",
    "plt.xlabel('Signal AE Loss',fontsize=15)\n",
    "\n"
   ]
  },
  {
   "cell_type": "code",
   "execution_count": 193,
   "metadata": {},
   "outputs": [],
   "source": [
    "def get_tpr_fpr(sigloss,bkgloss,aetype='sig'):\n",
    "    bins = np.linspace(0,50,1001)\n",
    "    tpr = []\n",
    "    fpr = []\n",
    "    for cut in bins:\n",
    "        if aetype == 'sig':\n",
    "            tpr.append(np.where(sigloss<cut)[0].shape[0]/len(sigloss))\n",
    "            fpr.append(np.where(bkgloss<cut)[0].shape[0]/len(bkgloss))\n",
    "        if aetype == 'bkg':\n",
    "            tpr.append(np.where(sigloss>cut)[0].shape[0]/len(sigloss))\n",
    "            fpr.append(np.where(bkgloss>cut)[0].shape[0]/len(bkgloss))\n",
    "    return tpr,fpr      "
   ]
  },
  {
   "cell_type": "code",
   "execution_count": 194,
   "metadata": {},
   "outputs": [],
   "source": [
    "def get_precision_recall(sigloss,bkgloss,aetype='bkg'):\n",
    "    bins = np.linspace(0,100,1001)\n",
    "    tpr = []\n",
    "    fpr = []\n",
    "    precision = []\n",
    "    for cut in bins:\n",
    "        if aetype == 'sig':\n",
    "            tpr.append(np.where(sigloss<cut)[0].shape[0]/len(sigloss))\n",
    "            precision.append((np.where(sigloss<cut)[0].shape[0])/(np.where(bkgloss<cut)[0].shape[0]+np.where(sigloss<cut)[0].shape[0]))\n",
    "            \n",
    "        if aetype == 'bkg':\n",
    "            tpr.append(np.where(sigloss>cut)[0].shape[0]/len(sigloss))\n",
    "            precision.append((np.where(sigloss>cut)[0].shape[0])/(np.where(bkgloss>cut)[0].shape[0]+np.where(sigloss>cut)[0].shape[0]))\n",
    "    return precision,tpr      "
   ]
  },
  {
   "cell_type": "code",
   "execution_count": 196,
   "metadata": {},
   "outputs": [],
   "source": [
    "tpr_2prong, fpr_2prong = get_tpr_fpr(sigae_sigloss,sigae_bkgloss,'sig')\n",
    "tpr_3prong, fpr_3prong = get_tpr_fpr(sigae_3prongloss,sigae_bkgloss,'sig')"
   ]
  },
  {
   "cell_type": "code",
   "execution_count": 217,
   "metadata": {},
   "outputs": [
    {
     "data": {
      "image/png": "[encoded data removed]",
      "text/plain": [
       "<Figure size 720x720 with 1 Axes>"
      ]
     },
     "metadata": {
      "needs_background": "light"
     },
     "output_type": "display_data"
    }
   ],
   "source": [
    "plt.plot(fpr_2prong,tpr_2prong,label='signal AE')\n",
    "#plt.plot(VAE_bkg_fpr,VAE_bkg_tpr,label='Bkg VAE-Vanilla')\n",
    "plt.plot(bkg_fpr4,bkg_tpr4,label='Bkg NFlowVAE-Planar')\n",
    "\n",
    "plt.xlabel(r'$1-\\epsilon_{bkg}$',fontsize=15)\n",
    "plt.ylabel(r'$\\epsilon_{sig}$',fontsize=15)\n",
    "#plt.semilogy()\n",
    "#plt.legend(bbox_to_anchor=(1.05, 1.0), loc='upper left')\n",
    "plt.legend(loc='lower right')\n",
    "plt.xlim([0.0,1.0])\n",
    "plt.ylim([0.0,1.0])\n",
    "plt.savefig('ROC_Curve_sigae.png')"
   ]
  },
  {
   "cell_type": "code",
   "execution_count": null,
   "metadata": {},
   "outputs": [],
   "source": []
  },
  {
   "cell_type": "code",
   "execution_count": null,
   "metadata": {},
   "outputs": [],
   "source": []
  },
  {
   "cell_type": "code",
   "execution_count": null,
   "metadata": {},
   "outputs": [],
   "source": [
    "precision,recall = get_precision_recall(loss_sig,loss_bkg,aetype='bkg')"
   ]
  },
  {
   "cell_type": "code",
   "execution_count": null,
   "metadata": {},
   "outputs": [],
   "source": [
    "np.save('NFLOWVAE_PlanarNEW_22var_sigloss.npy',loss_sig)\n",
    "np.save('NFLOWVAE_PlanarNEW_22var_bkgloss.npy',loss_bkg)"
   ]
  },
  {
   "cell_type": "code",
   "execution_count": null,
   "metadata": {},
   "outputs": [],
   "source": [
    "np.save('NFLOWVAE_PlanarNEW_precision.npy',precision)\n",
    "np.save('NFLOWVAE_PlanarNEW_recall.npy',recall)\n",
    "np.save('NFLOWVAE_PlanarNEW_bkgAE_fpr.npy',bkg_fpr)\n",
    "np.save('NFLOWVAE_PlanarNEW_bkgAE_tpr.npy',bkg_tpr)\n",
    "np.save('NFLOWVAE_PlanarNEW_sigloss.npy',loss_sig)\n",
    "np.save('NFLOWVAE_PlanarNEW_bkgloss.npy',loss_bkg)"
   ]
  },
  {
   "cell_type": "code",
   "execution_count": null,
   "metadata": {},
   "outputs": [],
   "source": [
    "plt.plot(recall,precision)"
   ]
  },
  {
   "cell_type": "code",
   "execution_count": null,
   "metadata": {},
   "outputs": [],
   "source": [
    "flows = [1,2,3,4,5,6]\n",
    "zdim = [1,2,3,4,5]\n",
    "\n",
    "for N_flows in flows:\n",
    "    for Z_DIM in zdim:\n",
    "        model = VAE_NF(N_FLOWS, Z_DIM).cuda()\n",
    "        optimizer = optim.Adam(model.parameters(), lr=LR)\n",
    "        BEST_LOSS = 99999\n",
    "        LAST_SAVED = -1\n",
    "        PATIENCE_COUNT = 0\n",
    "        PATIENCE_LIMIT = 5\n",
    "        for epoch in range(1, N_EPOCHS):\n",
    "            print(\"Epoch {}:\".format(epoch))\n",
    "            train()\n",
    "            cur_loss = evaluate()\n",
    "\n",
    "            if cur_loss <= BEST_LOSS:\n",
    "                PATIENCE_COUNT = 0\n",
    "                BEST_LOSS = cur_loss\n",
    "                LAST_SAVED = epoch\n",
    "                print(\"Saving model!\")\n",
    "                if mode == 'ROC':\n",
    "                    torch.save(model.state_dict(),f\"/data/t3home000/spark/QUASAR/weights/bkg_vae_NF_planar_RND_22var_z{Z_DIM}_f{N_FLOWS}.h5\")\n",
    "                else:\n",
    "                    torch.save(model.state_dict(), f\"/data/t3home000/spark/QUASAR/weights/bkg_vae_NF_planar_PureBkg_22var_z{Z_DIM}_f{N_FLOWS}.h5\")\n",
    "            else:\n",
    "                PATIENCE_COUNT += 1\n",
    "                print(\"Not saving model! Last saved: {}\".format(LAST_SAVED))\n",
    "                if PATIENCE_COUNT > 3:\n",
    "                    print(\"Patience Limit Reached\")\n",
    "                    break \n",
    "                    \n",
    "        loss_bkg = get_loss(dt_PureBkg[bkg_idx])\n",
    "        loss_sig = get_loss(dt_PureBkg[signal_idx])\n",
    "        np.save(f'NFLOWVAE_PlanarNEW_22var_z{Z_DIM}_f{N_flows}_sigloss.npy',loss_sig)\n",
    "        np.save(f'NFLOWVAE_PlanarNEW_22var_z{Z_DIM}_f{N_flows}_bkgloss.npy',loss_bkg)"
   ]
  },
  {
   "cell_type": "code",
   "execution_count": null,
   "metadata": {},
   "outputs": [],
   "source": []
  }
 ],
 "metadata": {
  "kernelspec": {
   "display_name": "Python 3",
   "language": "python",
   "name": "python3"
  },
  "language_info": {
   "codemirror_mode": {
    "name": "ipython",
    "version": 3
   },
   "file_extension": ".py",
   "mimetype": "text/x-python",
   "name": "python",
   "nbconvert_exporter": "python",
   "pygments_lexer": "ipython3",
   "version": "3.6.7"
  }
 },
 "nbformat": 4,
 "nbformat_minor": 2
}
