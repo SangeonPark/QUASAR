{
 "cells": [
  {
   "cell_type": "markdown",
   "metadata": {},
   "source": [
    "# make numpy array for training"
   ]
  },
  {
   "cell_type": "code",
   "execution_count": 1,
   "metadata": {},
   "outputs": [],
   "source": [
    "import time\n",
    "import tqdm\n",
    "import numpy as np \n",
    "import matplotlib.pyplot as plt\n",
    "import pandas as pd\n",
    "import torch \n",
    "import torch.nn as nn \n",
    "import torch.nn.functional as F \n",
    "import torch.optim as optim \n",
    "import torch.utils.data as utils\n",
    "import torch.nn.init as init\n",
    "from torch.autograd import Variable"
   ]
  },
  {
   "cell_type": "code",
   "execution_count": 2,
   "metadata": {},
   "outputs": [],
   "source": [
    "#f_rnd = pd.read_hdf(\"/data/t3home000/spark/LHCOlympics_previous/LHC-Olympics/Code/Nsubjettiness_mjj.h5\")"
   ]
  },
  {
   "cell_type": "code",
   "execution_count": 3,
   "metadata": {
    "scrolled": true
   },
   "outputs": [],
   "source": [
    "prong_2 = pd.read_hdf(\"/data/t3home000/spark/QUASAR/preprocessing/conventional_tau_rnd.h5\")"
   ]
  },
  {
   "cell_type": "code",
   "execution_count": 18,
   "metadata": {},
   "outputs": [],
   "source": [
    "dt = prong_2.values\n",
    "correct = (dt[:,3]>0) &(dt[:,19]>0) & (dt[:,1]>0) & (dt[:,2]>0) &(dt[:,2]>0) & (dt[:,16]>0) & (dt[:,32]>0)\n",
    "dt = dt[correct]\n",
    "for i in range(13,19):\n",
    "    dt[:,i] = dt[:,i]/dt[:,3]\n",
    "\n",
    "for i in range(29,35):\n",
    "    dt[:,i] = dt[:,i]/(dt[:,19])\n",
    "\n",
    "\n",
    "correct = (dt[:,16]>0) & (dt[:,29]>=0) &(dt[:,29]<=1)&(dt[:,30]>=0) &(dt[:,30]<=1)&(dt[:,31]>=0) &(dt[:,31]<=1)&(dt[:,32]>=0) &(dt[:,32]<=1)&(dt[:,33]>=0) &(dt[:,33]<=1)&(dt[:,34]>=-0.01) &(dt[:,34]<=1)\n",
    "dt = dt[correct]\n",
    "\n",
    "\n",
    "#Y = dt[:,[3,4,5,6,11,12,19,20,21,22,27,28]]\n",
    "#Y = dt[:,[4,5,6,7,8,11,12,13,14,15,16,17,18,20,21,22,23,24,27,28,29,30,31,32,33,34]] # When no jet 1,2 raw mass included\n",
    "#Y = dt[:,[3,4,5,6,11,12,13,14,15,16,17,18,19,20,21,22,27,28,29,30,31,32,33,34]]\n",
    "idx = dt[:,-1]\n",
    "#bkg_idx = np.where(idx==0)[0]\n",
    "#signal_idx = np.where((idx==1) & (dt[:,3]>300))[0]\n",
    "##signal_idx = np.where((idx==1)) [0]\n",
    "#dt = dt[signal_idx]\n",
    "    \n",
    "bsmlike = np.where(dt[:,16]>0.9)[0]\n",
    "dt = dt[bsmlike]\n"
   ]
  },
  {
   "cell_type": "code",
   "execution_count": 19,
   "metadata": {},
   "outputs": [],
   "source": [
    "j1sdb = dt[:,3]*dt[:,16]\n",
    "j2sdb = dt[:,19]*dt[:,32]\n",
    "\n",
    "pt = dt[:,1]\n",
    "m = j1sdb[:]\n",
    "m2 = j2sdb[:]\n",
    "tau21 = dt[:,4]\n",
    "tau32 = dt[:,5]\n",
    "tau43 = dt[:,6]\n",
    "tau54 = dt[:,7]\n",
    "tau65 = dt[:,8]\n",
    "massratio = dt[:,16]\n",
    "\n",
    "rho = np.log((m*m)/(pt*pt))\n",
    "rhoprime = np.log((m*m)/(pt*1))\n",
    "\n",
    "tau21prime = tau21 + rhoprime * 0.088\n",
    "tau32prime = tau32 + rhoprime * 0.025\n",
    "tau43prime = tau43 + rhoprime * 0.01\n",
    "tau54prime = tau54 + rhoprime * 0.001\n",
    "\n",
    "j2pt = dt[:,2]\n",
    "#m = j1sdb[mrange]\n",
    "j2m = j2sdb[:]\n",
    "j2tau21 = dt[:,20]\n",
    "j2tau32 = dt[:,21]\n",
    "j2tau43 = dt[:,22]\n",
    "j2tau54 = dt[:,23]\n",
    "j2tau65 = dt[:,24]\n",
    "j2massratio = dt[:,32]\n",
    "\n",
    "\n",
    "j2rho = np.log((j2m*j2m)/(j2pt*j2pt))\n",
    "j2rhoprime = np.log((j2m*j2m)/(j2pt*1))\n",
    "\n",
    "j2tau21prime = j2tau21 + j2rhoprime * 0.086\n",
    "j2tau32prime = j2tau32 + j2rhoprime * 0.025\n",
    "j2tau43prime = j2tau43 + j2rhoprime * 0.01\n",
    "j2tau54prime = j2tau54 + j2rhoprime * 0.001"
   ]
  },
  {
   "cell_type": "code",
   "execution_count": 20,
   "metadata": {},
   "outputs": [],
   "source": [
    "dt[:,4] = tau21prime\n",
    "dt[:,5] = tau32prime\n",
    "dt[:,6] = tau43prime\n",
    "dt[:,7] = tau54prime\n",
    "\n",
    "dt[:,20] = j2tau21prime \n",
    "dt[:,21] = j2tau32prime\n",
    "dt[:,22] = j2tau43prime\n",
    "dt[:,23] = j2tau54prime"
   ]
  },
  {
   "cell_type": "code",
   "execution_count": 21,
   "metadata": {},
   "outputs": [],
   "source": [
    "X = dt[:,[4,5,6,7,8,11,12,20,21,22,23,24,27,28]]"
   ]
  },
  {
   "cell_type": "code",
   "execution_count": 22,
   "metadata": {},
   "outputs": [],
   "source": [
    "#dt = f_rnd.values"
   ]
  },
  {
   "cell_type": "code",
   "execution_count": 23,
   "metadata": {},
   "outputs": [
    {
     "data": {
      "text/plain": [
       "(516804, 14)"
      ]
     },
     "execution_count": 23,
     "metadata": {},
     "output_type": "execute_result"
    }
   ],
   "source": [
    "X.shape"
   ]
  },
  {
   "cell_type": "code",
   "execution_count": 24,
   "metadata": {},
   "outputs": [],
   "source": [
    "sig_mean = []\n",
    "sig_std = []\n",
    "for i in range(14):\n",
    "    mean = np.mean(X[:,i])\n",
    "    std = np.std(X[:,i])\n",
    "    sig_mean.append(mean)\n",
    "    sig_std.append(std)\n",
    "    X[:,i] = (X[:,i]-mean)/std"
   ]
  },
  {
   "cell_type": "code",
   "execution_count": 25,
   "metadata": {},
   "outputs": [],
   "source": [
    "idx = dt[:,-1]\n",
    "bkg_idx = np.where(idx==0)[0]\n",
    "signal_idx = np.where(idx==1)[0]"
   ]
  },
  {
   "cell_type": "code",
   "execution_count": 26,
   "metadata": {
    "scrolled": true
   },
   "outputs": [
    {
     "data": {
      "text/plain": [
       "(516804, 14)"
      ]
     },
     "execution_count": 26,
     "metadata": {},
     "output_type": "execute_result"
    }
   ],
   "source": [
    "X.shape"
   ]
  },
  {
   "cell_type": "code",
   "execution_count": 27,
   "metadata": {},
   "outputs": [],
   "source": [
    "y = idx"
   ]
  },
  {
   "cell_type": "code",
   "execution_count": 28,
   "metadata": {},
   "outputs": [
    {
     "data": {
      "text/plain": [
       "(516804,)"
      ]
     },
     "execution_count": 28,
     "metadata": {},
     "output_type": "execute_result"
    }
   ],
   "source": [
    "y.shape"
   ]
  },
  {
   "cell_type": "markdown",
   "metadata": {},
   "source": [
    "# Normalize Inputs"
   ]
  },
  {
   "cell_type": "code",
   "execution_count": 29,
   "metadata": {},
   "outputs": [],
   "source": [
    "from sklearn.model_selection import train_test_split"
   ]
  },
  {
   "cell_type": "code",
   "execution_count": 30,
   "metadata": {},
   "outputs": [],
   "source": [
    "#X_train, X_test, y_train, y_test = train_test_split(\n",
    "#    X, y, test_size=0.2, random_state=42)\n",
    "#X_train, X_val, y_train, y_val = train_test_split(\n",
    "#    X_train, y_train, test_size=0.2, random_state=42)\n",
    "X_train, X_val, y_train, y_val = train_test_split(\n",
    "    X, y, test_size=0.2, random_state=42)\n",
    "\n",
    "X_val, X_test, y_val, y_test = train_test_split(\n",
    "    X_val, y_val, test_size=0.5, random_state=42)"
   ]
  },
  {
   "cell_type": "code",
   "execution_count": 31,
   "metadata": {},
   "outputs": [
    {
     "name": "stdout",
     "output_type": "stream",
     "text": [
      "(413443, 14) (51680, 14) (51681, 14)\n"
     ]
    }
   ],
   "source": [
    "print(X_train.shape, X_val.shape, X_test.shape)"
   ]
  },
  {
   "cell_type": "code",
   "execution_count": 32,
   "metadata": {},
   "outputs": [],
   "source": [
    "class trainData(utils.Dataset):\n",
    "    \n",
    "    def __init__(self, X_data, y_data):\n",
    "        self.X_data = X_data\n",
    "        self.y_data = y_data\n",
    "        \n",
    "    def __getitem__(self, index):\n",
    "        return self.X_data[index], self.y_data[index]\n",
    "        \n",
    "    def __len__ (self):\n",
    "        return len(self.X_data)\n",
    "\n",
    "\n",
    "\n",
    "## test data    \n",
    "class testData(utils.Dataset):\n",
    "    \n",
    "    def __init__(self, X_data):\n",
    "        self.X_data = X_data\n",
    "        \n",
    "    def __getitem__(self, index):\n",
    "        return self.X_data[index]\n",
    "        \n",
    "    def __len__ (self):\n",
    "        return len(self.X_data)\n",
    "    \n",
    "\n"
   ]
  },
  {
   "cell_type": "code",
   "execution_count": 33,
   "metadata": {},
   "outputs": [],
   "source": [
    "train_data = trainData(torch.FloatTensor(X_train.astype(np.float)),torch.FloatTensor(y_train.astype(np.float)))\n",
    "val_data = trainData(torch.FloatTensor(X_val.astype(np.float)),torch.FloatTensor(y_val.astype(np.float)))\n",
    "test_data = testData(torch.FloatTensor(X_test.astype(np.float))) "
   ]
  },
  {
   "cell_type": "markdown",
   "metadata": {},
   "source": [
    "# Make Dataloader"
   ]
  },
  {
   "cell_type": "code",
   "execution_count": 34,
   "metadata": {},
   "outputs": [],
   "source": [
    "import torch"
   ]
  },
  {
   "cell_type": "code",
   "execution_count": 35,
   "metadata": {},
   "outputs": [
    {
     "data": {
      "text/plain": [
       "True"
      ]
     },
     "execution_count": 35,
     "metadata": {},
     "output_type": "execute_result"
    }
   ],
   "source": [
    "torch.cuda.is_available()"
   ]
  },
  {
   "cell_type": "code",
   "execution_count": 36,
   "metadata": {},
   "outputs": [
    {
     "name": "stdout",
     "output_type": "stream",
     "text": [
      "cuda:0\n"
     ]
    },
    {
     "data": {
      "text/plain": [
       "'GeForce RTX 2080 Ti'"
      ]
     },
     "execution_count": 36,
     "metadata": {},
     "output_type": "execute_result"
    }
   ],
   "source": [
    "device = torch.device(\"cuda:0\" if torch.cuda.is_available() else \"cpu\")\n",
    "print(device)\n",
    "torch.cuda.get_device_name(0)"
   ]
  },
  {
   "cell_type": "code",
   "execution_count": 37,
   "metadata": {},
   "outputs": [],
   "source": [
    "BATCH_SIZE = 1000\n",
    "N_EPOCHS = 80\n",
    "PRINT_INTERVAL = 2000\n",
    "NUM_WORKERS = 4\n",
    "LR = 1e-4"
   ]
  },
  {
   "cell_type": "markdown",
   "metadata": {},
   "source": [
    "# NN classifier"
   ]
  },
  {
   "cell_type": "code",
   "execution_count": 38,
   "metadata": {},
   "outputs": [],
   "source": [
    "class Net(nn.Module):\n",
    "\n",
    "    def __init__(self):\n",
    "        super(Net, self).__init__()\n",
    "        \n",
    "        self.linear1 = nn.Linear(14,84)\n",
    "        self.linear2 = nn.Linear(84,42)\n",
    "        self.linear3 = nn.Linear(42,21)\n",
    "        self.linear4 = nn.Linear(21,10)\n",
    "        self.linear5 = nn.Linear(10,5)\n",
    "        self.linear_out = nn.Linear(5,1)\n",
    "        \n",
    "        self.dropout = nn.Dropout(p=0.1)\n",
    "        self.batchnorm1 = nn.BatchNorm1d(84)\n",
    "        self.batchnorm2 = nn.BatchNorm1d(42)\n",
    "        self.batchnorm3 = nn.BatchNorm1d(21)\n",
    "        self.batchnorm4 = nn.BatchNorm1d(10)\n",
    "        self.batchnorm5 = nn.BatchNorm1d(5)\n",
    "        \n",
    "\n",
    "    def forward(self, x):\n",
    "        # Max pooling over a (2, 2) window\n",
    "        x = self.batchnorm1(self.linear1(x))\n",
    "        x = F.leaky_relu(x)\n",
    "        x = self.dropout(x)\n",
    "        x = self.batchnorm2(self.linear2(x))\n",
    "        x = F.leaky_relu(x)\n",
    "        x = self.dropout(x)\n",
    "        x = self.batchnorm3(self.linear3(x))\n",
    "        x = F.leaky_relu(x)\n",
    "        x = self.dropout(x)\n",
    "        x = self.batchnorm4(self.linear4(x))\n",
    "        x = F.leaky_relu(x)\n",
    "        x = self.dropout(x)\n",
    "        x = self.batchnorm5(self.linear5(x))\n",
    "        x = F.leaky_relu(x)\n",
    "        x = self.linear_out(x)\n",
    "        return x\n",
    "\n",
    "\n",
    "\n"
   ]
  },
  {
   "cell_type": "code",
   "execution_count": 39,
   "metadata": {},
   "outputs": [
    {
     "name": "stdout",
     "output_type": "stream",
     "text": [
      "Net(\n",
      "  (linear1): Linear(in_features=14, out_features=84, bias=True)\n",
      "  (linear2): Linear(in_features=84, out_features=42, bias=True)\n",
      "  (linear3): Linear(in_features=42, out_features=21, bias=True)\n",
      "  (linear4): Linear(in_features=21, out_features=10, bias=True)\n",
      "  (linear5): Linear(in_features=10, out_features=5, bias=True)\n",
      "  (linear_out): Linear(in_features=5, out_features=1, bias=True)\n",
      "  (dropout): Dropout(p=0.1, inplace=False)\n",
      "  (batchnorm1): BatchNorm1d(84, eps=1e-05, momentum=0.1, affine=True, track_running_stats=True)\n",
      "  (batchnorm2): BatchNorm1d(42, eps=1e-05, momentum=0.1, affine=True, track_running_stats=True)\n",
      "  (batchnorm3): BatchNorm1d(21, eps=1e-05, momentum=0.1, affine=True, track_running_stats=True)\n",
      "  (batchnorm4): BatchNorm1d(10, eps=1e-05, momentum=0.1, affine=True, track_running_stats=True)\n",
      "  (batchnorm5): BatchNorm1d(5, eps=1e-05, momentum=0.1, affine=True, track_running_stats=True)\n",
      ")\n"
     ]
    },
    {
     "data": {
      "text/plain": [
       "Net(\n",
       "  (linear1): Linear(in_features=14, out_features=84, bias=True)\n",
       "  (linear2): Linear(in_features=84, out_features=42, bias=True)\n",
       "  (linear3): Linear(in_features=42, out_features=21, bias=True)\n",
       "  (linear4): Linear(in_features=21, out_features=10, bias=True)\n",
       "  (linear5): Linear(in_features=10, out_features=5, bias=True)\n",
       "  (linear_out): Linear(in_features=5, out_features=1, bias=True)\n",
       "  (dropout): Dropout(p=0.1, inplace=False)\n",
       "  (batchnorm1): BatchNorm1d(84, eps=1e-05, momentum=0.1, affine=True, track_running_stats=True)\n",
       "  (batchnorm2): BatchNorm1d(42, eps=1e-05, momentum=0.1, affine=True, track_running_stats=True)\n",
       "  (batchnorm3): BatchNorm1d(21, eps=1e-05, momentum=0.1, affine=True, track_running_stats=True)\n",
       "  (batchnorm4): BatchNorm1d(10, eps=1e-05, momentum=0.1, affine=True, track_running_stats=True)\n",
       "  (batchnorm5): BatchNorm1d(5, eps=1e-05, momentum=0.1, affine=True, track_running_stats=True)\n",
       ")"
      ]
     },
     "execution_count": 39,
     "metadata": {},
     "output_type": "execute_result"
    }
   ],
   "source": [
    "model = Net()\n",
    "\n",
    "print(model)\n",
    "model.to(device)"
   ]
  },
  {
   "cell_type": "code",
   "execution_count": 56,
   "metadata": {},
   "outputs": [],
   "source": [
    "# optimizer\n",
    "lr = 1e-4\n",
    "optimizer = optim.Adam(model.parameters(), lr=1e-5)\n",
    "criterion = nn.BCEWithLogitsLoss()"
   ]
  },
  {
   "cell_type": "code",
   "execution_count": 57,
   "metadata": {},
   "outputs": [
    {
     "data": {
      "text/plain": [
       "device(type='cuda', index=0)"
      ]
     },
     "execution_count": 57,
     "metadata": {},
     "output_type": "execute_result"
    }
   ],
   "source": [
    "device"
   ]
  },
  {
   "cell_type": "code",
   "execution_count": 58,
   "metadata": {},
   "outputs": [],
   "source": [
    "train_loader = utils.DataLoader(dataset=train_data, batch_size=BATCH_SIZE, shuffle=True)\n",
    "val_loader = utils.DataLoader(dataset=val_data, batch_size=100)\n",
    "test_loader = utils.DataLoader(dataset=test_data, batch_size=100)"
   ]
  },
  {
   "cell_type": "code",
   "execution_count": 59,
   "metadata": {},
   "outputs": [],
   "source": [
    "def binary_acc(y_pred, y_test):\n",
    "    y_pred_tag = torch.round(torch.sigmoid(y_pred))\n",
    "\n",
    "    correct_results_sum = (y_pred_tag == y_test).sum().float()\n",
    "    acc = correct_results_sum/y_test.shape[0]\n",
    "    acc = torch.round(acc * 100)\n",
    "    \n",
    "    return acc"
   ]
  },
  {
   "cell_type": "code",
   "execution_count": 60,
   "metadata": {},
   "outputs": [],
   "source": [
    "def train():\n",
    "    # set the train mode\n",
    "    model.train()\n",
    "\n",
    "    # loss of the epoch\n",
    "    epoch_loss = 0\n",
    "    epoch_acc = 0\n",
    "\n",
    "    for x, y in train_loader:\n",
    "        # reshape the data into [batch_size, 784]\n",
    "        x,y = x.to(device), y.to(device)\n",
    "\n",
    "        # update the gradients to zero\n",
    "        optimizer.zero_grad()\n",
    "\n",
    "        # forward pass\n",
    "        y_pred = model(x)\n",
    "\n",
    "        # reconstruction loss\n",
    "        #recon_loss = F.binary_cross_entropy(x_sample, x, size_average=False)\n",
    "\n",
    "        # kl divergence loss\n",
    "        #kl_loss = 0.5 * torch.sum(torch.exp(z_var) + z_mu**2 - 1.0 - z_var)\n",
    "\n",
    "        # total loss\n",
    "        #loss = recon_loss + kl_loss\n",
    "\n",
    "        #BCE loss\n",
    "        loss = criterion(y_pred, y.unsqueeze(1))\n",
    "        acc = binary_acc(y_pred, y.unsqueeze(1))\n",
    "        \n",
    "        # backward pass\n",
    "        loss.backward()\n",
    "        epoch_loss += loss.item()\n",
    "        epoch_acc += acc.item()\n",
    "\n",
    "        # update the weights\n",
    "        optimizer.step()\n",
    "\n",
    "    return epoch_loss\n"
   ]
  },
  {
   "cell_type": "code",
   "execution_count": 61,
   "metadata": {},
   "outputs": [],
   "source": [
    "def test():\n",
    "    # set the evaluation mode\n",
    "    model.eval()\n",
    "\n",
    "    # test loss for the data\n",
    "    test_loss = 0\n",
    "\n",
    "    # we don't need to track the gradients, since we are not updating the parameters during evaluation / testing\n",
    "    with torch.no_grad():\n",
    "        for x, y in val_loader:\n",
    "            # reshape the data\n",
    "            #x = x.view(-1, 28 * 28)\n",
    "            x,y = x.to(device), y.to(device)\n",
    "            # forward pass\n",
    "            y_pred = model(x)\n",
    "\n",
    "            loss = criterion(y_pred, y.unsqueeze(1))\n",
    "            acc = binary_acc(y_pred, y.unsqueeze(1))\n",
    "            # total loss\n",
    "            \n",
    "            test_loss += loss.item()\n",
    "\n",
    "    return test_loss"
   ]
  },
  {
   "cell_type": "code",
   "execution_count": 65,
   "metadata": {},
   "outputs": [
    {
     "name": "stdout",
     "output_type": "stream",
     "text": [
      "Epoch 0, Train Loss: 0.0001881, Test Loss: 0.0017880\n",
      "saving model\n",
      "Epoch 1, Train Loss: 0.0001883, Test Loss: 0.0017877\n",
      "saving model\n",
      "Epoch 2, Train Loss: 0.0001882, Test Loss: 0.0017883\n",
      "NOT SAVING\n",
      "Epoch 3, Train Loss: 0.0001881, Test Loss: 0.0018008\n",
      "NOT SAVING\n",
      "Epoch 4, Train Loss: 0.0001878, Test Loss: 0.0017906\n",
      "NOT SAVING\n",
      "Epoch 5, Train Loss: 0.0001881, Test Loss: 0.0017916\n",
      "NOT SAVING\n",
      "Epoch 6, Train Loss: 0.0001882, Test Loss: 0.0017890\n",
      "NOT SAVING\n",
      "Epoch 7, Train Loss: 0.0001884, Test Loss: 0.0017884\n",
      "NOT SAVING\n",
      "Epoch 8, Train Loss: 0.0001879, Test Loss: 0.0018201\n",
      "NOT SAVING\n",
      "Epoch 9, Train Loss: 0.0001877, Test Loss: 0.0017911\n",
      "NOT SAVING\n",
      "Epoch 10, Train Loss: 0.0001881, Test Loss: 0.0017883\n",
      "NOT SAVING\n",
      "Epoch 11, Train Loss: 0.0001878, Test Loss: 0.0017966\n",
      "NOT SAVING\n",
      "patience limit reached\n"
     ]
    }
   ],
   "source": [
    "best_test_loss = float('inf')\n",
    "\n",
    "for e in range(100):\n",
    "\n",
    "    train_loss = train()\n",
    "    test_loss = test()\n",
    "\n",
    "    train_loss /= len(train_data)\n",
    "    test_loss /= len(val_data)\n",
    "\n",
    "    print(f'Epoch {e}, Train Loss: {train_loss:.7f}, Test Loss: {test_loss:.7f}')\n",
    "\n",
    "    if best_test_loss > test_loss:\n",
    "        best_test_loss = test_loss\n",
    "        torch.save(model.state_dict(), \"/data/t3home000/spark/QUASAR/weights/fully_connected_ref_tauDDT_14inputs_on_2prong.h5\")\n",
    "        patience_counter = 1\n",
    "        print('saving model')\n",
    "    else:\n",
    "        print('NOT SAVING')\n",
    "        patience_counter += 1\n",
    "\n",
    "    if patience_counter > 10:\n",
    "        print('patience limit reached')\n",
    "        break"
   ]
  },
  {
   "cell_type": "code",
   "execution_count": 67,
   "metadata": {},
   "outputs": [
    {
     "data": {
      "text/plain": [
       "<All keys matched successfully>"
      ]
     },
     "execution_count": 67,
     "metadata": {},
     "output_type": "execute_result"
    }
   ],
   "source": [
    "model.load_state_dict(torch.load(\"/data/t3home000/spark/QUASAR/weights/fully_connected_ref_tauDDT_14inputs_on_2prong.h5\"))"
   ]
  },
  {
   "cell_type": "code",
   "execution_count": 174,
   "metadata": {},
   "outputs": [],
   "source": [
    "prong_3 = pd.read_hdf(\"/data/t3home000/spark/QUASAR/preprocessing/conventional_tau_3prong_rnd.h5\")"
   ]
  },
  {
   "cell_type": "code",
   "execution_count": 175,
   "metadata": {},
   "outputs": [],
   "source": [
    "dt = prong_3.values\n",
    "correct = (dt[:,3]>0) &(dt[:,19]>0) & (dt[:,1]>0) & (dt[:,2]>0) &(dt[:,2]>0) & (dt[:,16]>0) & (dt[:,32]>0)\n",
    "dt = dt[correct]\n",
    "for i in range(13,19):\n",
    "    dt[:,i] = dt[:,i]/dt[:,3]\n",
    "\n",
    "for i in range(29,35):\n",
    "    dt[:,i] = dt[:,i]/(dt[:,19])\n",
    "\n",
    "\n",
    "correct = (dt[:,16]>0) & (dt[:,29]>=0) &(dt[:,29]<=1)&(dt[:,30]>=0) &(dt[:,30]<=1)&(dt[:,31]>=0) &(dt[:,31]<=1)&(dt[:,32]>=0) &(dt[:,32]<=1)&(dt[:,33]>=0) &(dt[:,33]<=1)&(dt[:,34]>=-0.01) &(dt[:,34]<=1)\n",
    "dt = dt[correct]\n",
    "\n",
    "\n",
    "#Y = dt[:,[3,4,5,6,11,12,19,20,21,22,27,28]]\n",
    "#Y = dt[:,[4,5,6,7,8,11,12,13,14,15,16,17,18,20,21,22,23,24,27,28,29,30,31,32,33,34]] # When no jet 1,2 raw mass included\n",
    "#Y = dt[:,[3,4,5,6,11,12,13,14,15,16,17,18,19,20,21,22,27,28,29,30,31,32,33,34]]\n",
    "idx = dt[:,-1]\n",
    "#bkg_idx = np.where(idx==0)[0]\n",
    "#signal_idx = np.where((idx==1) & (dt[:,3]>300))[0]\n",
    "##signal_idx = np.where((idx==1)) [0]\n",
    "#dt = dt[signal_idx]\n",
    "    \n",
    "#bsmlike = np.where(dt[:,16]>0.9)[0]\n",
    "#dt = dt[bsmlike]\n",
    "\n",
    "\n",
    "dt.shape\n",
    "\n",
    "j1sdb = dt[:,3]*dt[:,16]\n",
    "j2sdb = dt[:,19]*dt[:,32]\n",
    "\n",
    "pt = dt[:,1]\n",
    "m = j1sdb[:]\n",
    "m2 = j2sdb[:]\n",
    "tau21 = dt[:,4]\n",
    "tau32 = dt[:,5]\n",
    "tau43 = dt[:,6]\n",
    "tau54 = dt[:,7]\n",
    "tau65 = dt[:,8]\n",
    "massratio = dt[:,16]\n",
    "\n",
    "rho = np.log((m*m)/(pt*pt))\n",
    "rhoprime = np.log((m*m)/(pt*1))\n",
    "\n",
    "tau21prime = tau21 + rhoprime * 0.088\n",
    "tau32prime = tau32 + rhoprime * 0.025\n",
    "tau43prime = tau43 + rhoprime * 0.01\n",
    "tau54prime = tau54 + rhoprime * 0.001\n",
    "\n",
    "j2pt = dt[:,2]\n",
    "#m = j1sdb[mrange]\n",
    "j2m = j2sdb[:]\n",
    "j2tau21 = dt[:,20]\n",
    "j2tau32 = dt[:,21]\n",
    "j2tau43 = dt[:,22]\n",
    "j2tau54 = dt[:,23]\n",
    "j2tau65 = dt[:,24]\n",
    "j2massratio = dt[:,32]\n",
    "\n",
    "\n",
    "j2rho = np.log((j2m*j2m)/(j2pt*j2pt))\n",
    "j2rhoprime = np.log((j2m*j2m)/(j2pt*1))\n",
    "\n",
    "j2tau21prime = j2tau21 + j2rhoprime * 0.086\n",
    "j2tau32prime = j2tau32 + j2rhoprime * 0.025\n",
    "j2tau43prime = j2tau43 + j2rhoprime * 0.01\n",
    "j2tau54prime = j2tau54 + j2rhoprime * 0.001\n",
    "\n",
    "dt[:,4] = tau21prime\n",
    "dt[:,5] = tau32prime\n",
    "dt[:,6] = tau43prime\n",
    "dt[:,7] = tau54prime\n",
    "\n",
    "dt[:,20] = j2tau21prime \n",
    "dt[:,21] = j2tau32prime\n",
    "dt[:,22] = j2tau43prime\n",
    "dt[:,23] = j2tau54prime\n",
    "\n",
    "dt.shape\n",
    "\n",
    "X = dt[:,[4,5,6,7,8,11,12,20,21,22,23,24,27,28]]\n",
    "\n",
    "for i in range(14):\n",
    "    X[:,i] = (X[:,i]-sig_mean[i])/sig_std[i]"
   ]
  },
  {
   "cell_type": "code",
   "execution_count": null,
   "metadata": {},
   "outputs": [],
   "source": []
  },
  {
   "cell_type": "code",
   "execution_count": null,
   "metadata": {},
   "outputs": [],
   "source": []
  },
  {
   "cell_type": "code",
   "execution_count": null,
   "metadata": {},
   "outputs": [],
   "source": []
  },
  {
   "cell_type": "code",
   "execution_count": null,
   "metadata": {},
   "outputs": [],
   "source": [
    "def get_tpr_fpr_2d_new(sigae_sigloss,sigae_bkgloss,bkgae_sigloss,bkgae_bkgloss):\n",
    "    bins_sigae = np.linspace(0,10000,10000)\n",
    "    bins_bkgae = np.linspace(0,50,501)\n",
    "    tpr = []\n",
    "    fpr = []\n",
    "    for sigcut in bins_sigae:\n",
    "        compare = -0.1\n",
    "        tpr_temp = 0\n",
    "        fpr_temp = 0 \n",
    "        for bkgcut in bins_bkgae:\n",
    "            tpr_t = np.where((sigae_sigloss<sigcut)&(bkgae_sigloss>bkgcut))[0].shape[0]/len(sigae_sigloss)\n",
    "            fpr_t = np.where((sigae_bkgloss<sigcut)&(bkgae_bkgloss>bkgcut))[0].shape[0]/len(sigae_bkgloss)\n",
    "            if fpr_t == 0:\n",
    "                fpr_t = 1000000000\n",
    "            ratio = tpr_t/fpr_t\n",
    "            if ratio > compare:\n",
    "                compare = ratio\n",
    "                tpr_temp = tpr_t\n",
    "                fpr_temp = fpr_t\n",
    "        tpr.append(tpr_temp)\n",
    "        fpr.append(fpr_temp)\n",
    "                \n",
    "\n",
    "    return tpr,fpr "
   ]
  },
  {
   "cell_type": "code",
   "execution_count": null,
   "metadata": {},
   "outputs": [],
   "source": []
  },
  {
   "cell_type": "code",
   "execution_count": null,
   "metadata": {},
   "outputs": [],
   "source": []
  },
  {
   "cell_type": "code",
   "execution_count": null,
   "metadata": {},
   "outputs": [],
   "source": []
  },
  {
   "cell_type": "code",
   "execution_count": null,
   "metadata": {},
   "outputs": [],
   "source": []
  },
  {
   "cell_type": "code",
   "execution_count": null,
   "metadata": {},
   "outputs": [],
   "source": []
  },
  {
   "cell_type": "code",
   "execution_count": null,
   "metadata": {},
   "outputs": [],
   "source": []
  },
  {
   "cell_type": "code",
   "execution_count": null,
   "metadata": {},
   "outputs": [],
   "source": []
  },
  {
   "cell_type": "code",
   "execution_count": null,
   "metadata": {},
   "outputs": [],
   "source": []
  },
  {
   "cell_type": "code",
   "execution_count": null,
   "metadata": {},
   "outputs": [],
   "source": []
  },
  {
   "cell_type": "code",
   "execution_count": null,
   "metadata": {},
   "outputs": [],
   "source": []
  },
  {
   "cell_type": "code",
   "execution_count": null,
   "metadata": {},
   "outputs": [],
   "source": []
  },
  {
   "cell_type": "code",
   "execution_count": null,
   "metadata": {},
   "outputs": [],
   "source": []
  },
  {
   "cell_type": "code",
   "execution_count": null,
   "metadata": {},
   "outputs": [],
   "source": []
  },
  {
   "cell_type": "code",
   "execution_count": null,
   "metadata": {},
   "outputs": [],
   "source": []
  },
  {
   "cell_type": "code",
   "execution_count": 176,
   "metadata": {},
   "outputs": [
    {
     "data": {
      "text/plain": [
       "78223"
      ]
     },
     "execution_count": 176,
     "metadata": {},
     "output_type": "execute_result"
    }
   ],
   "source": [
    "X_wrongprior = X\n",
    "\n",
    "X.shape\n",
    "\n",
    "wrongprior_data = testData(torch.FloatTensor(X_wrongprior.astype(np.float))) \n",
    "wrongprior_loader = utils.DataLoader(dataset=wrongprior_data, batch_size=100)\n",
    "\n",
    "y_wrongpriorlist = []\n",
    "with torch.no_grad():\n",
    "    for batch_idx, X_batch in enumerate(wrongprior_loader):\n",
    "        X_batch = X_batch.to(device)\n",
    "        y_test_pred = model(X_batch)\n",
    "        #y_test_pred = torch.sigmoid(y_test_pred)\n",
    "        #y_pred_tag = torch.round(y_test_pred)\n",
    "        y_wrongpriorlist = np.append(y_wrongpriorlist,y_test_pred.cpu().numpy())\n",
    "        \n",
    "\n",
    "len(y_wrongpriorlist)"
   ]
  },
  {
   "cell_type": "code",
   "execution_count": null,
   "metadata": {},
   "outputs": [],
   "source": []
  },
  {
   "cell_type": "code",
   "execution_count": 68,
   "metadata": {},
   "outputs": [],
   "source": [
    "model.eval()\n",
    "y_pred_list = np.array([],dtype=np.float)\n",
    "with torch.no_grad():\n",
    "    for batch_idx, X_batch in enumerate(test_loader):\n",
    "        X_batch = X_batch.to(device)\n",
    "        y_test_pred = model(X_batch)\n",
    "        #y_test_pred = torch.sigmoid(y_test_pred)\n",
    "        #y_pred_tag = torch.round(y_test_pred)\n",
    "        y_pred_list = np.append(y_pred_list,y_test_pred.cpu().numpy())\n",
    "        \n"
   ]
  },
  {
   "cell_type": "code",
   "execution_count": 69,
   "metadata": {},
   "outputs": [],
   "source": [
    "truesig = np.where(y_test==1)\n",
    "truebkg = np.where(y_test==0)\n",
    "sigscore = y_pred_list[truesig]\n",
    "bkgscore = y_pred_list[truebkg]"
   ]
  },
  {
   "cell_type": "code",
   "execution_count": 70,
   "metadata": {},
   "outputs": [
    {
     "data": {
      "text/plain": [
       "(array([0.        , 0.        , 0.        , 0.        , 0.        ,\n",
       "        0.        , 0.00119119, 0.00178678, 0.00119119, 0.00506254,\n",
       "        0.01042287, 0.01727219, 0.02501489, 0.04883859, 0.04228708,\n",
       "        0.05926147, 0.11882073, 0.10810006, 0.15425849, 0.1777844 ,\n",
       "        0.14026206, 0.20905301, 0.17272186, 0.13430613, 0.18493151,\n",
       "        0.15038714, 0.1131626 , 0.07027993, 0.03275759, 0.01697439,\n",
       "        0.00327576, 0.00059559, 0.        , 0.        , 0.        ,\n",
       "        0.        , 0.        , 0.        , 0.        ]),\n",
       " array([-10. ,  -9.5,  -9. ,  -8.5,  -8. ,  -7.5,  -7. ,  -6.5,  -6. ,\n",
       "         -5.5,  -5. ,  -4.5,  -4. ,  -3.5,  -3. ,  -2.5,  -2. ,  -1.5,\n",
       "         -1. ,  -0.5,   0. ,   0.5,   1. ,   1.5,   2. ,   2.5,   3. ,\n",
       "          3.5,   4. ,   4.5,   5. ,   5.5,   6. ,   6.5,   7. ,   7.5,\n",
       "          8. ,   8.5,   9. ,   9.5]),\n",
       " <a list of 39 Patch objects>)"
      ]
     },
     "execution_count": 70,
     "metadata": {},
     "output_type": "execute_result"
    },
    {
     "data": {
      "image/png": "[encoded data removed]",
      "text/plain": [
       "<Figure size 432x288 with 1 Axes>"
      ]
     },
     "metadata": {
      "needs_background": "light"
     },
     "output_type": "display_data"
    }
   ],
   "source": [
    "plt.hist(bkgscore,bins=np.arange(-10,10,.5),alpha=.2,density=True)\n",
    "plt.hist(sigscore,bins=np.arange(-10,10,.5),alpha=.2,density=True)\n",
    "#plt.hist(y_wrongpriorlist,bins=np.arange(-10,10,.5),alpha=0.2,density=True)\n"
   ]
  },
  {
   "cell_type": "code",
   "execution_count": 76,
   "metadata": {},
   "outputs": [],
   "source": [
    "def get_tpr_fpr_supervised(sigloss,bkgloss):\n",
    "    bins = np.arange(-20,20,.01)\n",
    "    tpr = []\n",
    "    fpr = []\n",
    "    for cut in bins:\n",
    "        tpr.append(np.where(sigloss>cut)[0].shape[0]/len(sigloss))\n",
    "        fpr.append(np.where(bkgloss>cut)[0].shape[0]/len(bkgloss))\n",
    "\n",
    "    return tpr,fpr"
   ]
  },
  {
   "cell_type": "code",
   "execution_count": 78,
   "metadata": {},
   "outputs": [],
   "source": [
    "sup_tpr, sup_fpr = get_tpr_fpr_supervised(sigscore,bkgscore)"
   ]
  },
  {
   "cell_type": "code",
   "execution_count": 79,
   "metadata": {},
   "outputs": [
    {
     "data": {
      "image/png": "[encoded data removed]",
      "text/plain": [
       "<Figure size 432x288 with 1 Axes>"
      ]
     },
     "metadata": {
      "needs_background": "light"
     },
     "output_type": "display_data"
    }
   ],
   "source": [
    "plt.plot(sup_fpr,sup_tpr,label='supervised')\n",
    "#plt.plot(justlossfpr5t,justlosstpr5t,label='MSE_5taus')\n",
    "#plt.plot(VAE_bkg_40var_fpr,VAE_bkg_40var_tpr,label='Bkg VAE-Vanilla_40var')\n",
    "#plt.plot(betaVAE_bkg_fpr,betaVAE_bkg_tpr,label='Bkg betaVAE')\n",
    "\n",
    "plt.xlabel(r'$1-\\epsilon_{bkg}$',fontsize=15)\n",
    "plt.ylabel(r'$\\epsilon_{sig}$',fontsize=15)\n",
    "#plt.semilogy()\n",
    "#plt.legend(bbox_to_anchor=(1.05, 1.0), loc='upper left')\n",
    "plt.legend(loc='lower right')\n",
    "plt.xlim([0.0,1.0])\n",
    "plt.ylim([0.0,1.0])\n",
    "plt.savefig('ROC_optimalcase_approaches_FULLYSUPERVISED.png')"
   ]
  },
  {
   "cell_type": "code",
   "execution_count": 125,
   "metadata": {},
   "outputs": [],
   "source": [
    "bkgae_bkgloss = np.load('../data_strings/bkg_rndbkg_tauDDTwithm1andm1minusm2_turnoncutandj1sdbcut_MSELoss_beta1_z6f10_Justloss_rndbkg.npy')\n",
    "bkgae_sigloss = np.load('../data_strings/bkg_rndbkg_tauDDTwithm1andm1minusm2_turnoncutandj1sdbcut_MSELoss_beta1_z6f10_Justloss_2prong.npy')"
   ]
  },
  {
   "cell_type": "code",
   "execution_count": 152,
   "metadata": {},
   "outputs": [],
   "source": [
    "sigae_sigloss = np.load('../data_strings/sig_2prong_tauDDTwithoutrawmass_turnoncutandj1sdbcut0p9_MSELoss_beta1_z6f10_Justloss_2prong.npy')\n",
    "sigae_bkgloss = np.load('../data_strings/sig_2prong_tauDDTwithoutrawmass_turnoncutandj1sdbcut0p9_MSELoss_beta1_z6f10_Justloss_rndbkg.npy')"
   ]
  },
  {
   "cell_type": "code",
   "execution_count": 153,
   "metadata": {},
   "outputs": [],
   "source": [
    "def get_tpr_fpr_bkg(sigloss,bkgloss):\n",
    "    bins = np.arange(0,20,.01)\n",
    "    tpr = []\n",
    "    fpr = []\n",
    "    for cut in bins:\n",
    "        tpr.append(np.where(sigloss>cut)[0].shape[0]/len(sigloss))\n",
    "        fpr.append(np.where(bkgloss>cut)[0].shape[0]/len(bkgloss))\n",
    "\n",
    "    return fpr,tpr"
   ]
  },
  {
   "cell_type": "code",
   "execution_count": 154,
   "metadata": {},
   "outputs": [],
   "source": [
    "def get_tpr_fpr_sig(sigloss,bkgloss):\n",
    "    bins = np.arange(0,20,.01)\n",
    "    tpr = []\n",
    "    fpr = []\n",
    "    for cut in bins:\n",
    "        tpr.append(np.where(sigloss<cut)[0].shape[0]/len(sigloss))\n",
    "        fpr.append(np.where(bkgloss<cut)[0].shape[0]/len(bkgloss))\n",
    "\n",
    "    return fpr,tpr"
   ]
  },
  {
   "cell_type": "code",
   "execution_count": 155,
   "metadata": {},
   "outputs": [],
   "source": [
    "bkgae_fpr, bkgae_tpr = get_tpr_fpr_bkg(bkgae_sigloss,bkgae_bkgloss)"
   ]
  },
  {
   "cell_type": "code",
   "execution_count": 156,
   "metadata": {},
   "outputs": [],
   "source": [
    "sigae_fpr, sigae_tpr = get_tpr_fpr_sig(sigae_sigloss,sigae_bkgloss)"
   ]
  },
  {
   "cell_type": "code",
   "execution_count": 157,
   "metadata": {},
   "outputs": [
    {
     "data": {
      "image/png": "[encoded data removed]",
      "text/plain": [
       "<Figure size 432x288 with 1 Axes>"
      ]
     },
     "metadata": {
      "needs_background": "light"
     },
     "output_type": "display_data"
    }
   ],
   "source": [
    "plt.plot(sup_fpr,sup_tpr,label='supervised')\n",
    "plt.plot(bkgae_fpr,bkgae_tpr,label='bkgae')\n",
    "plt.plot(sigae_fpr,sigae_tpr,label='sigae')\n",
    "#plt.plot(justlossfpr5t,justlosstpr5t,label='MSE_5taus')\n",
    "#plt.plot(VAE_bkg_40var_fpr,VAE_bkg_40var_tpr,label='Bkg VAE-Vanilla_40var')\n",
    "#plt.plot(betaVAE_bkg_fpr,betaVAE_bkg_tpr,label='Bkg betaVAE')\n",
    "\n",
    "plt.xlabel(r'$1-\\epsilon_{bkg}$',fontsize=15)\n",
    "plt.ylabel(r'$\\epsilon_{sig}$',fontsize=15)\n",
    "#plt.semilogy()\n",
    "#plt.legend(bbox_to_anchor=(1.05, 1.0), loc='upper left')\n",
    "plt.legend(loc='lower right')\n",
    "plt.xlim([0.0,1.0])\n",
    "plt.ylim([0.0,1.0])\n",
    "plt.savefig('ROC_optimalcase_approaches_FULLYSUPERVISED.png')"
   ]
  },
  {
   "cell_type": "code",
   "execution_count": 158,
   "metadata": {},
   "outputs": [],
   "source": [
    "def get_tpr_fpr_2d_new(sigae_sigloss,sigae_bkgloss,bkgae_sigloss,bkgae_bkgloss):\n",
    "    bins_sigae = np.arange(0,0,.1)\n",
    "    bins_bkgae = np.arange(0,0,.1)\n",
    "    tpr = []\n",
    "    fpr = []\n",
    "    for sigcut in bins_sigae:\n",
    "        compare = -0.1\n",
    "        tpr_temp = 0\n",
    "        fpr_temp = 0 \n",
    "        for bkgcut in bins_bkgae:\n",
    "            tpr_t = np.where((sigae_sigloss<sigcut)&(bkgae_sigloss>bkgcut))[0].shape[0]/len(sigae_sigloss)\n",
    "            fpr_t = np.where((sigae_bkgloss<sigcut)&(bkgae_bkgloss>bkgcut))[0].shape[0]/len(sigae_bkgloss)\n",
    "            \n",
    "            if fpr_t == 0:\n",
    "                fpr_t = 1000000000\n",
    "            ratio = tpr_t/fpr_t\n",
    "            \n",
    "            if sigcut == 1.0 and bkgcut==1.0:\n",
    "                print(tpr_t,fpr_t,ratio)\n",
    "                \n",
    "            if ratio > compare:\n",
    "                compare = ratio\n",
    "                tpr_temp = tpr_t\n",
    "                fpr_temp = fpr_t\n",
    "        tpr.append(tpr_temp)\n",
    "        fpr.append(fpr_temp)\n",
    "                \n",
    "\n",
    "    return tpr,fpr  "
   ]
  },
  {
   "cell_type": "code",
   "execution_count": 133,
   "metadata": {},
   "outputs": [
    {
     "name": "stdout",
     "output_type": "stream",
     "text": [
      "0.21253533552998793 0.01684692970121687 12.61567177517434\n"
     ]
    },
    {
     "ename": "KeyboardInterrupt",
     "evalue": "",
     "output_type": "error",
     "traceback": [
      "\u001b[0;31m---------------------------------------------------------------------------\u001b[0m",
      "\u001b[0;31mKeyboardInterrupt\u001b[0m                         Traceback (most recent call last)",
      "\u001b[0;32m<ipython-input-133-8c10ba011c36>\u001b[0m in \u001b[0;36m<module>\u001b[0;34m\u001b[0m\n\u001b[0;32m----> 1\u001b[0;31m \u001b[0mscan_tpr\u001b[0m\u001b[0;34m,\u001b[0m \u001b[0mscan_fpr\u001b[0m \u001b[0;34m=\u001b[0m \u001b[0mget_tpr_fpr_2d_new\u001b[0m\u001b[0;34m(\u001b[0m\u001b[0msigae_sigloss\u001b[0m\u001b[0;34m,\u001b[0m\u001b[0msigae_bkgloss\u001b[0m\u001b[0;34m,\u001b[0m\u001b[0mbkgae_sigloss\u001b[0m\u001b[0;34m,\u001b[0m\u001b[0mbkgae_bkgloss\u001b[0m\u001b[0;34m)\u001b[0m\u001b[0;34m\u001b[0m\u001b[0;34m\u001b[0m\u001b[0m\n\u001b[0m",
      "\u001b[0;32m<ipython-input-132-40f121ba1f61>\u001b[0m in \u001b[0;36mget_tpr_fpr_2d_new\u001b[0;34m(sigae_sigloss, sigae_bkgloss, bkgae_sigloss, bkgae_bkgloss)\u001b[0m\n\u001b[1;32m     10\u001b[0m         \u001b[0;32mfor\u001b[0m \u001b[0mbkgcut\u001b[0m \u001b[0;32min\u001b[0m \u001b[0mbins_bkgae\u001b[0m\u001b[0;34m:\u001b[0m\u001b[0;34m\u001b[0m\u001b[0;34m\u001b[0m\u001b[0m\n\u001b[1;32m     11\u001b[0m             \u001b[0mtpr_t\u001b[0m \u001b[0;34m=\u001b[0m \u001b[0mnp\u001b[0m\u001b[0;34m.\u001b[0m\u001b[0mwhere\u001b[0m\u001b[0;34m(\u001b[0m\u001b[0;34m(\u001b[0m\u001b[0msigae_sigloss\u001b[0m\u001b[0;34m<\u001b[0m\u001b[0msigcut\u001b[0m\u001b[0;34m)\u001b[0m\u001b[0;34m&\u001b[0m\u001b[0;34m(\u001b[0m\u001b[0mbkgae_sigloss\u001b[0m\u001b[0;34m>\u001b[0m\u001b[0mbkgcut\u001b[0m\u001b[0;34m)\u001b[0m\u001b[0;34m)\u001b[0m\u001b[0;34m[\u001b[0m\u001b[0;36m0\u001b[0m\u001b[0;34m]\u001b[0m\u001b[0;34m.\u001b[0m\u001b[0mshape\u001b[0m\u001b[0;34m[\u001b[0m\u001b[0;36m0\u001b[0m\u001b[0;34m]\u001b[0m\u001b[0;34m/\u001b[0m\u001b[0mlen\u001b[0m\u001b[0;34m(\u001b[0m\u001b[0msigae_sigloss\u001b[0m\u001b[0;34m)\u001b[0m\u001b[0;34m\u001b[0m\u001b[0;34m\u001b[0m\u001b[0m\n\u001b[0;32m---> 12\u001b[0;31m             \u001b[0mfpr_t\u001b[0m \u001b[0;34m=\u001b[0m \u001b[0mnp\u001b[0m\u001b[0;34m.\u001b[0m\u001b[0mwhere\u001b[0m\u001b[0;34m(\u001b[0m\u001b[0;34m(\u001b[0m\u001b[0msigae_bkgloss\u001b[0m\u001b[0;34m<\u001b[0m\u001b[0msigcut\u001b[0m\u001b[0;34m)\u001b[0m\u001b[0;34m&\u001b[0m\u001b[0;34m(\u001b[0m\u001b[0mbkgae_bkgloss\u001b[0m\u001b[0;34m>\u001b[0m\u001b[0mbkgcut\u001b[0m\u001b[0;34m)\u001b[0m\u001b[0;34m)\u001b[0m\u001b[0;34m[\u001b[0m\u001b[0;36m0\u001b[0m\u001b[0;34m]\u001b[0m\u001b[0;34m.\u001b[0m\u001b[0mshape\u001b[0m\u001b[0;34m[\u001b[0m\u001b[0;36m0\u001b[0m\u001b[0;34m]\u001b[0m\u001b[0;34m/\u001b[0m\u001b[0mlen\u001b[0m\u001b[0;34m(\u001b[0m\u001b[0msigae_bkgloss\u001b[0m\u001b[0;34m)\u001b[0m\u001b[0;34m\u001b[0m\u001b[0;34m\u001b[0m\u001b[0m\n\u001b[0m\u001b[1;32m     13\u001b[0m \u001b[0;34m\u001b[0m\u001b[0m\n\u001b[1;32m     14\u001b[0m             \u001b[0;32mif\u001b[0m \u001b[0mfpr_t\u001b[0m \u001b[0;34m==\u001b[0m \u001b[0;36m0\u001b[0m\u001b[0;34m:\u001b[0m\u001b[0;34m\u001b[0m\u001b[0;34m\u001b[0m\u001b[0m\n",
      "\u001b[0;31mKeyboardInterrupt\u001b[0m: "
     ]
    }
   ],
   "source": [
    "scan_tpr, scan_fpr = get_tpr_fpr_2d_new(sigae_sigloss,sigae_bkgloss,bkgae_sigloss,bkgae_bkgloss)"
   ]
  },
  {
   "cell_type": "code",
   "execution_count": 144,
   "metadata": {},
   "outputs": [],
   "source": [
    "def get_tpr_fpr_2d(sigae_sigloss,sigae_bkgloss,bkgae_sigloss,bkgae_bkgloss):\n",
    "    bins_sigae = np.arange(0,100,.1)\n",
    "    bins_bkgae = np.arange(0,100,.1)\n",
    "    tpr = []\n",
    "    fpr = []\n",
    "    for sigcut in bins_sigae:\n",
    "        for bkgcut in bins_bkgae:\n",
    "            tpr_t = np.where((sigae_sigloss<sigcut)&(bkgae_sigloss>bkgcut))[0].shape[0]/len(sigae_sigloss)\n",
    "            fpr_t = np.where((sigae_bkgloss<sigcut)&(bkgae_bkgloss>bkgcut))[0].shape[0]/len(sigae_bkgloss)\n",
    "            tpr.append(tpr_t)\n",
    "            fpr.append(fpr_t)\n",
    "                \n",
    "\n",
    "    return tpr,fpr"
   ]
  },
  {
   "cell_type": "code",
   "execution_count": 159,
   "metadata": {},
   "outputs": [],
   "source": [
    "scan_tpr, scan_fpr = get_tpr_fpr_2d(sigae_sigloss,sigae_bkgloss,bkgae_sigloss,bkgae_bkgloss)"
   ]
  },
  {
   "cell_type": "code",
   "execution_count": 160,
   "metadata": {},
   "outputs": [],
   "source": [
    "from scipy.spatial import ConvexHull"
   ]
  },
  {
   "cell_type": "code",
   "execution_count": 161,
   "metadata": {},
   "outputs": [],
   "source": [
    "points = np.array([scan_fpr,scan_tpr])"
   ]
  },
  {
   "cell_type": "code",
   "execution_count": 162,
   "metadata": {},
   "outputs": [],
   "source": [
    "points = points.transpose()"
   ]
  },
  {
   "cell_type": "code",
   "execution_count": 163,
   "metadata": {},
   "outputs": [],
   "source": [
    "hull = ConvexHull(points)"
   ]
  },
  {
   "cell_type": "code",
   "execution_count": 164,
   "metadata": {},
   "outputs": [
    {
     "data": {
      "text/plain": [
       "[<matplotlib.lines.Line2D at 0x7ff3daf309e8>]"
      ]
     },
     "execution_count": 164,
     "metadata": {},
     "output_type": "execute_result"
    },
    {
     "data": {
      "image/png": "[encoded data removed]",
      "text/plain": [
       "<Figure size 432x288 with 1 Axes>"
      ]
     },
     "metadata": {
      "needs_background": "light"
     },
     "output_type": "display_data"
    }
   ],
   "source": [
    "plt.plot(points[hull.vertices[2:],0], points[hull.vertices[2:],1])"
   ]
  },
  {
   "cell_type": "code",
   "execution_count": null,
   "metadata": {},
   "outputs": [],
   "source": [
    "plt.plot(sup_fpr,sup_tpr,label='supervised')\n",
    "plt.plot(bkgae_fpr,bkgae_tpr,label='bkgae')\n",
    "plt.plot(sigae_fpr,sigae_tpr,label='sigae')\n",
    "plt.plot(points[hull.vertices[2:],0], points[hull.vertices[2:],1], 'b--', lw=2,label='2dscan with complete signal')\n",
    "#plt.plot(justlossfpr5t,justlosstpr5t,label='MSE_5taus')\n",
    "#plt.plot(VAE_bkg_40var_fpr,VAE_bkg_40var_tpr,label='Bkg VAE-Vanilla_40var')\n",
    "#plt.plot(betaVAE_bkg_fpr,betaVAE_bkg_tpr,label='Bkg betaVAE')\n",
    "\n",
    "plt.xlabel(r'$1-\\epsilon_{bkg}$',fontsize=15)\n",
    "plt.ylabel(r'$\\epsilon_{sig}$',fontsize=15)\n",
    "#plt.semilogy()\n",
    "#plt.legend(bbox_to_anchor=(1.05, 1.0), loc='upper left')\n",
    "plt.legend(loc='lower right')\n",
    "plt.xlim([0.0,.1])\n",
    "plt.ylim([0.0,1.0])\n",
    "plt.savefig('ROC_optimalcase_approaches_FULLYSUPERVISED.png')"
   ]
  },
  {
   "cell_type": "code",
   "execution_count": null,
   "metadata": {},
   "outputs": [],
   "source": []
  },
  {
   "cell_type": "code",
   "execution_count": null,
   "metadata": {},
   "outputs": [],
   "source": []
  },
  {
   "cell_type": "code",
   "execution_count": null,
   "metadata": {},
   "outputs": [],
   "source": []
  },
  {
   "cell_type": "code",
   "execution_count": 222,
   "metadata": {},
   "outputs": [],
   "source": [
    "bb1 = pd.read_hdf(\"/data/t3home000/spark/QUASAR/preprocessing/conventional_tau_BB1_rnd.h5\")\n",
    "\n",
    "dt = bb1.values\n",
    "correct = (dt[:,3]>0) &(dt[:,19]>0) & (dt[:,1]>0) & (dt[:,2]>0) &(dt[:,2]>0) & (dt[:,16]>0) & (dt[:,32]>0)\n",
    "dt = dt[correct]\n",
    "for i in range(13,19):\n",
    "    dt[:,i] = dt[:,i]/dt[:,3]\n",
    "\n",
    "for i in range(29,35):\n",
    "    dt[:,i] = dt[:,i]/(dt[:,19])\n",
    "\n",
    "\n",
    "correct = (dt[:,16]>0) & (dt[:,29]>=0) &(dt[:,29]<=1)&(dt[:,30]>=0) &(dt[:,30]<=1)&(dt[:,31]>=0) &(dt[:,31]<=1)&(dt[:,32]>=0) &(dt[:,32]<=1)&(dt[:,33]>=0) &(dt[:,33]<=1)&(dt[:,34]>=-0.01) &(dt[:,34]<=1)\n",
    "dt = dt[correct]\n",
    "\n",
    "\n",
    "#Y = dt[:,[3,4,5,6,11,12,19,20,21,22,27,28]]\n",
    "#Y = dt[:,[4,5,6,7,8,11,12,13,14,15,16,17,18,20,21,22,23,24,27,28,29,30,31,32,33,34]] # When no jet 1,2 raw mass included\n",
    "#Y = dt[:,[3,4,5,6,11,12,13,14,15,16,17,18,19,20,21,22,27,28,29,30,31,32,33,34]]\n",
    "idx = dt[:,-1]\n",
    "#bkg_idx = np.where(idx==0)[0]\n",
    "#signal_idx = np.where((idx==1) & (dt[:,3]>300))[0]\n",
    "##signal_idx = np.where((idx==1)) [0]\n",
    "#dt = dt[signal_idx]\n",
    "    \n",
    "bsmlike = np.where(dt[:,16]>0.9)[0]\n",
    "dt = dt[bsmlike]\n",
    "\n",
    "\n",
    "dt.shape\n",
    "\n",
    "j1sdb = dt[:,3]*dt[:,16]\n",
    "j2sdb = dt[:,19]*dt[:,32]\n",
    "\n",
    "pt = dt[:,1]\n",
    "m = j1sdb[:]\n",
    "m2 = j2sdb[:]\n",
    "tau21 = dt[:,4]\n",
    "tau32 = dt[:,5]\n",
    "tau43 = dt[:,6]\n",
    "tau54 = dt[:,7]\n",
    "tau65 = dt[:,8]\n",
    "massratio = dt[:,16]\n",
    "\n",
    "rho = np.log((m*m)/(pt*pt))\n",
    "rhoprime = np.log((m*m)/(pt*1))\n",
    "\n",
    "tau21prime = tau21 + rhoprime * 0.0775\n",
    "tau32prime = tau32 + rhoprime * 0.027\n",
    "tau43prime = tau43 + rhoprime * 0.01\n",
    "tau54prime = tau54 + rhoprime * 0.004\n",
    "\n",
    "j2pt = dt[:,2]\n",
    "#m = j1sdb[mrange]\n",
    "j2m = j2sdb[:]\n",
    "j2tau21 = dt[:,20]\n",
    "j2tau32 = dt[:,21]\n",
    "j2tau43 = dt[:,22]\n",
    "j2tau54 = dt[:,23]\n",
    "j2tau65 = dt[:,24]\n",
    "j2massratio = dt[:,32]\n",
    "\n",
    "\n",
    "j2rho = np.log((j2m*j2m)/(j2pt*j2pt))\n",
    "j2rhoprime = np.log((j2m*j2m)/(j2pt*1))\n",
    "\n",
    "j2tau21prime = j2tau21 + j2rhoprime * 0.088\n",
    "j2tau32prime = j2tau32 + j2rhoprime * 0.025\n",
    "j2tau43prime = j2tau43 + j2rhoprime * 0.01\n",
    "j2tau54prime = j2tau54 + j2rhoprime * 0.001\n",
    "\n",
    "dt[:,4] = tau21prime\n",
    "dt[:,5] = tau32prime\n",
    "dt[:,6] = tau43prime\n",
    "dt[:,7] = tau54prime\n",
    "\n",
    "dt[:,20] = j2tau21prime \n",
    "dt[:,21] = j2tau32prime\n",
    "dt[:,22] = j2tau43prime\n",
    "dt[:,23] = j2tau54prime\n",
    "\n",
    "dt.shape\n",
    "\n",
    "X = dt[:,[4,5,6,7,8,11,12,20,21,22,23,24,27,28]]\n",
    "\n",
    "for i in range(14):\n",
    "    X[:,i] = (X[:,i]-sig_mean[i])/sig_std[i]\n",
    "\n",
    "X_bb = X\n",
    "\n",
    "X_bb.shape\n",
    "\n",
    "bb_data = testData(torch.FloatTensor(X_bb.astype(np.float))) \n",
    "bb_loader = utils.DataLoader(dataset=bb_data, batch_size=100)\n",
    "\n",
    "y_bb = []\n",
    "with torch.no_grad():\n",
    "    for batch_idx, X_batch in enumerate(bb_loader):\n",
    "        X_batch = X_batch.to(device)\n",
    "        y_test_pred = model(X_batch)\n",
    "        #y_test_pred = torch.sigmoid(y_test_pred)\n",
    "        #y_pred_tag = torch.round(y_test_pred)\n",
    "        y_bb = np.append(y_bb,y_test_pred.cpu().numpy())\n",
    "        \n",
    "\n"
   ]
  },
  {
   "cell_type": "code",
   "execution_count": 223,
   "metadata": {},
   "outputs": [],
   "source": [
    "mass = dt[:,0]"
   ]
  },
  {
   "cell_type": "code",
   "execution_count": 224,
   "metadata": {},
   "outputs": [
    {
     "data": {
      "text/plain": [
       "(array([9.00000e+00, 5.58000e+02, 9.20300e+03, 3.67500e+04, 6.77230e+04,\n",
       "        1.03113e+05, 8.39410e+04, 7.20000e+04, 6.31530e+04, 4.19920e+04,\n",
       "        1.34320e+04, 5.51500e+03, 1.85400e+03, 3.30000e+02, 2.90000e+01,\n",
       "        1.00000e+00, 0.00000e+00, 0.00000e+00, 0.00000e+00]),\n",
       " array([-10,  -9,  -8,  -7,  -6,  -5,  -4,  -3,  -2,  -1,   0,   1,   2,\n",
       "          3,   4,   5,   6,   7,   8,   9]),\n",
       " <a list of 19 Patch objects>)"
      ]
     },
     "execution_count": 224,
     "metadata": {},
     "output_type": "execute_result"
    },
    {
     "data": {
      "image/png": "[encoded data removed]",
      "text/plain": [
       "<Figure size 720x720 with 1 Axes>"
      ]
     },
     "metadata": {
      "needs_background": "light"
     },
     "output_type": "display_data"
    }
   ],
   "source": [
    "plt.hist(y_bb, bins=np.arange(-10,10,1))"
   ]
  },
  {
   "cell_type": "code",
   "execution_count": 225,
   "metadata": {},
   "outputs": [
    {
     "data": {
      "text/plain": [
       "1399"
      ]
     },
     "execution_count": 225,
     "metadata": {},
     "output_type": "execute_result"
    }
   ],
   "source": [
    "len(np.where(y_bb>2.3)[0])"
   ]
  },
  {
   "cell_type": "code",
   "execution_count": 226,
   "metadata": {},
   "outputs": [],
   "source": [
    "import mplhep as hep\n",
    "import mplhep.label as label_base\n",
    "plt.style.use(hep.style.CMS)"
   ]
  },
  {
   "cell_type": "code",
   "execution_count": 227,
   "metadata": {},
   "outputs": [
    {
     "data": {
      "image/png": "[encoded data removed]",
      "text/plain": [
       "<Figure size 720x720 with 1 Axes>"
      ]
     },
     "metadata": {
      "needs_background": "light"
     },
     "output_type": "display_data"
    }
   ],
   "source": [
    "plt.hist(mass[y_bb>2.5], bins=np.arange(3000,6000,120))\n",
    "plt.axvline(x=3500)\n",
    "plt.text(3500, 60, \"x=3500, training data\",  verticalalignment='center')\n",
    "\n",
    "plt.axvline(x=3823,color='r')\n",
    "\n",
    "plt.text(3823, 30, \"x=3823, true value\",  verticalalignment='center')\n",
    "\n",
    "plt.text(5000, 20, \"Supervised\",  verticalalignment='center')\n",
    "hep.label.lumitext(\"Black Box 1\")\n",
    "label_base._exp_text(\"LHCO\")\n",
    "plt.savefig('bb1_supervised.png')\n"
   ]
  },
  {
   "cell_type": "code",
   "execution_count": 263,
   "metadata": {},
   "outputs": [],
   "source": [
    "bb1 = pd.read_hdf(\"/data/t3home000/spark/QUASAR/preprocessing/conventional_tau_BB2.h5\")\n",
    "\n",
    "dt = bb1.values\n",
    "correct = (dt[:,3]>0) &(dt[:,19]>0) & (dt[:,1]>0) & (dt[:,2]>0) &(dt[:,2]>0) & (dt[:,16]>0) & (dt[:,32]>0)\n",
    "dt = dt[correct]\n",
    "for i in range(13,19):\n",
    "    dt[:,i] = dt[:,i]/dt[:,3]\n",
    "\n",
    "for i in range(29,35):\n",
    "    dt[:,i] = dt[:,i]/(dt[:,19])\n",
    "\n",
    "\n",
    "correct = (dt[:,16]>0) & (dt[:,29]>=0) &(dt[:,29]<=1)&(dt[:,30]>=0) &(dt[:,30]<=1)&(dt[:,31]>=0) &(dt[:,31]<=1)&(dt[:,32]>=0) &(dt[:,32]<=1)&(dt[:,33]>=0) &(dt[:,33]<=1)&(dt[:,34]>=-0.01) &(dt[:,34]<=1)\n",
    "dt = dt[correct]\n",
    "\n",
    "\n",
    "#Y = dt[:,[3,4,5,6,11,12,19,20,21,22,27,28]]\n",
    "#Y = dt[:,[4,5,6,7,8,11,12,13,14,15,16,17,18,20,21,22,23,24,27,28,29,30,31,32,33,34]] # When no jet 1,2 raw mass included\n",
    "#Y = dt[:,[3,4,5,6,11,12,13,14,15,16,17,18,19,20,21,22,27,28,29,30,31,32,33,34]]\n",
    "idx = dt[:,-1]\n",
    "#bkg_idx = np.where(idx==0)[0]\n",
    "#signal_idx = np.where((idx==1) & (dt[:,3]>300))[0]\n",
    "##signal_idx = np.where((idx==1)) [0]\n",
    "#dt = dt[signal_idx]\n",
    "    \n",
    "bsmlike = np.where(dt[:,16]>0.9)[0]\n",
    "dt = dt[bsmlike]\n",
    "\n",
    "\n",
    "dt.shape\n",
    "\n",
    "j1sdb = dt[:,3]*dt[:,16]\n",
    "j2sdb = dt[:,19]*dt[:,32]\n",
    "\n",
    "pt = dt[:,1]\n",
    "m = j1sdb[:]\n",
    "m2 = j2sdb[:]\n",
    "tau21 = dt[:,4]\n",
    "tau32 = dt[:,5]\n",
    "tau43 = dt[:,6]\n",
    "tau54 = dt[:,7]\n",
    "tau65 = dt[:,8]\n",
    "massratio = dt[:,16]\n",
    "\n",
    "rho = np.log((m*m)/(pt*pt))\n",
    "rhoprime = np.log((m*m)/(pt*1))\n",
    "\n",
    "tau21prime = tau21 + rhoprime * 0.0775\n",
    "tau32prime = tau32 + rhoprime * 0.027\n",
    "tau43prime = tau43 + rhoprime * 0.01\n",
    "tau54prime = tau54 + rhoprime * 0.004\n",
    "\n",
    "j2pt = dt[:,2]\n",
    "#m = j1sdb[mrange]\n",
    "j2m = j2sdb[:]\n",
    "j2tau21 = dt[:,20]\n",
    "j2tau32 = dt[:,21]\n",
    "j2tau43 = dt[:,22]\n",
    "j2tau54 = dt[:,23]\n",
    "j2tau65 = dt[:,24]\n",
    "j2massratio = dt[:,32]\n",
    "\n",
    "\n",
    "j2rho = np.log((j2m*j2m)/(j2pt*j2pt))\n",
    "j2rhoprime = np.log((j2m*j2m)/(j2pt*1))\n",
    "\n",
    "j2tau21prime = j2tau21 + j2rhoprime * 0.088\n",
    "j2tau32prime = j2tau32 + j2rhoprime * 0.025\n",
    "j2tau43prime = j2tau43 + j2rhoprime * 0.01\n",
    "j2tau54prime = j2tau54 + j2rhoprime * 0.001\n",
    "\n",
    "dt[:,4] = tau21prime\n",
    "dt[:,5] = tau32prime\n",
    "dt[:,6] = tau43prime\n",
    "dt[:,7] = tau54prime\n",
    "\n",
    "dt[:,20] = j2tau21prime \n",
    "dt[:,21] = j2tau32prime\n",
    "dt[:,22] = j2tau43prime\n",
    "dt[:,23] = j2tau54prime\n",
    "\n",
    "dt.shape\n",
    "\n",
    "X = dt[:,[4,5,6,7,8,11,12,20,21,22,23,24,27,28]]\n",
    "\n",
    "for i in range(14):\n",
    "    X[:,i] = (X[:,i]-sig_mean[i])/sig_std[i]\n",
    "\n",
    "X_bb = X\n",
    "\n",
    "X_bb.shape\n",
    "\n",
    "bb_data = testData(torch.FloatTensor(X_bb.astype(np.float))) \n",
    "bb_loader = utils.DataLoader(dataset=bb_data, batch_size=100)\n",
    "\n",
    "y_bb = []\n",
    "with torch.no_grad():\n",
    "    for batch_idx, X_batch in enumerate(bb_loader):\n",
    "        X_batch = X_batch.to(device)\n",
    "        y_test_pred = model(X_batch)\n",
    "        #y_test_pred = torch.sigmoid(y_test_pred)\n",
    "        #y_pred_tag = torch.round(y_test_pred)\n",
    "        y_bb = np.append(y_bb,y_test_pred.cpu().numpy())\n",
    "        \n",
    "\n"
   ]
  },
  {
   "cell_type": "code",
   "execution_count": 264,
   "metadata": {},
   "outputs": [],
   "source": [
    "mass = dt[:,0]\n",
    "\n",
    "plt.hist(mass[y_bb>3.4], bins=np.arange(3000,6000,150))\n",
    "plt.axvline(x=3500)\n",
    "plt.text(3500, 20, \"x=3500, training data\",  verticalalignment='center')\n",
    "\n",
    "#plt.axvline(x=3823,color='r')\n",
    "\n",
    "#plt.text(3823, 15, \"True value unknown\",  verticalalignment='center')\n",
    "\n",
    "plt.text(5000, 10, \"Supervised\",  verticalalignment='center')\n",
    "hep.label.lumitext(\"Black Box 2\")\n",
    "label_base._exp_text(\"LHCO\")\n",
    "plt.savefig('bb2_supervised.png')"
   ]
  },
  {
   "cell_type": "code",
   "execution_count": 277,
   "metadata": {},
   "outputs": [],
   "source": [
    "bb1 = pd.read_hdf(\"/data/t3home000/spark/QUASAR/preprocessing/conventional_tau_BB3.h5\")\n",
    "\n",
    "dt = bb1.values\n",
    "correct = (dt[:,3]>0) &(dt[:,19]>0) & (dt[:,1]>0) & (dt[:,2]>0) &(dt[:,2]>0) & (dt[:,16]>0) & (dt[:,32]>0)\n",
    "dt = dt[correct]\n",
    "for i in range(13,19):\n",
    "    dt[:,i] = dt[:,i]/dt[:,3]\n",
    "\n",
    "for i in range(29,35):\n",
    "    dt[:,i] = dt[:,i]/(dt[:,19])\n",
    "\n",
    "\n",
    "correct = (dt[:,16]>0) & (dt[:,29]>=0) &(dt[:,29]<=1)&(dt[:,30]>=0) &(dt[:,30]<=1)&(dt[:,31]>=0) &(dt[:,31]<=1)&(dt[:,32]>=0) &(dt[:,32]<=1)&(dt[:,33]>=0) &(dt[:,33]<=1)&(dt[:,34]>=-0.01) &(dt[:,34]<=1)\n",
    "dt = dt[correct]\n",
    "\n",
    "\n",
    "#Y = dt[:,[3,4,5,6,11,12,19,20,21,22,27,28]]\n",
    "#Y = dt[:,[4,5,6,7,8,11,12,13,14,15,16,17,18,20,21,22,23,24,27,28,29,30,31,32,33,34]] # When no jet 1,2 raw mass included\n",
    "#Y = dt[:,[3,4,5,6,11,12,13,14,15,16,17,18,19,20,21,22,27,28,29,30,31,32,33,34]]\n",
    "idx = dt[:,-1]\n",
    "#bkg_idx = np.where(idx==0)[0]\n",
    "#signal_idx = np.where((idx==1) & (dt[:,3]>300))[0]\n",
    "##signal_idx = np.where((idx==1)) [0]\n",
    "#dt = dt[signal_idx]\n",
    "    \n",
    "bsmlike = np.where(dt[:,16]>0.9)[0]\n",
    "dt = dt[bsmlike]\n",
    "\n",
    "\n",
    "dt.shape\n",
    "\n",
    "j1sdb = dt[:,3]*dt[:,16]\n",
    "j2sdb = dt[:,19]*dt[:,32]\n",
    "\n",
    "pt = dt[:,1]\n",
    "m = j1sdb[:]\n",
    "m2 = j2sdb[:]\n",
    "tau21 = dt[:,4]\n",
    "tau32 = dt[:,5]\n",
    "tau43 = dt[:,6]\n",
    "tau54 = dt[:,7]\n",
    "tau65 = dt[:,8]\n",
    "massratio = dt[:,16]\n",
    "\n",
    "rho = np.log((m*m)/(pt*pt))\n",
    "rhoprime = np.log((m*m)/(pt*1))\n",
    "\n",
    "tau21prime = tau21 + rhoprime * 0.0775\n",
    "tau32prime = tau32 + rhoprime * 0.027\n",
    "tau43prime = tau43 + rhoprime * 0.01\n",
    "tau54prime = tau54 + rhoprime * 0.004\n",
    "\n",
    "j2pt = dt[:,2]\n",
    "#m = j1sdb[mrange]\n",
    "j2m = j2sdb[:]\n",
    "j2tau21 = dt[:,20]\n",
    "j2tau32 = dt[:,21]\n",
    "j2tau43 = dt[:,22]\n",
    "j2tau54 = dt[:,23]\n",
    "j2tau65 = dt[:,24]\n",
    "j2massratio = dt[:,32]\n",
    "\n",
    "\n",
    "j2rho = np.log((j2m*j2m)/(j2pt*j2pt))\n",
    "j2rhoprime = np.log((j2m*j2m)/(j2pt*1))\n",
    "\n",
    "j2tau21prime = j2tau21 + j2rhoprime * 0.088\n",
    "j2tau32prime = j2tau32 + j2rhoprime * 0.025\n",
    "j2tau43prime = j2tau43 + j2rhoprime * 0.01\n",
    "j2tau54prime = j2tau54 + j2rhoprime * 0.001\n",
    "\n",
    "dt[:,4] = tau21prime\n",
    "dt[:,5] = tau32prime\n",
    "dt[:,6] = tau43prime\n",
    "dt[:,7] = tau54prime\n",
    "\n",
    "dt[:,20] = j2tau21prime \n",
    "dt[:,21] = j2tau32prime\n",
    "dt[:,22] = j2tau43prime\n",
    "dt[:,23] = j2tau54prime\n",
    "\n",
    "dt.shape\n",
    "\n",
    "X = dt[:,[4,5,6,7,8,11,12,20,21,22,23,24,27,28]]\n",
    "\n",
    "for i in range(14):\n",
    "    X[:,i] = (X[:,i]-sig_mean[i])/sig_std[i]\n",
    "\n",
    "X_bb = X\n",
    "\n",
    "X_bb.shape\n",
    "\n",
    "bb_data = testData(torch.FloatTensor(X_bb.astype(np.float))) \n",
    "bb_loader = utils.DataLoader(dataset=bb_data, batch_size=100)\n",
    "\n",
    "y_bb = []\n",
    "with torch.no_grad():\n",
    "    for batch_idx, X_batch in enumerate(bb_loader):\n",
    "        X_batch = X_batch.to(device)\n",
    "        y_test_pred = model(X_batch)\n",
    "        #y_test_pred = torch.sigmoid(y_test_pred)\n",
    "        #y_pred_tag = torch.round(y_test_pred)\n",
    "        y_bb = np.append(y_bb,y_test_pred.cpu().numpy())\n",
    "        \n",
    "\n"
   ]
  },
  {
   "cell_type": "code",
   "execution_count": 318,
   "metadata": {},
   "outputs": [
    {
     "data": {
      "image/png": "[encoded data removed]",
      "text/plain": [
       "<Figure size 720x720 with 1 Axes>"
      ]
     },
     "metadata": {
      "needs_background": "light"
     },
     "output_type": "display_data"
    }
   ],
   "source": [
    "mass = dt[:,0]\n",
    "\n",
    "plt.hist(mass[y_bb>2.1], bins=np.arange(2950,6000,130))\n",
    "plt.axvline(x=3500)\n",
    "\n",
    "\n",
    "plt.text(3500, 25, \"x=3500, training data\",  verticalalignment='center')\n",
    "\n",
    "#plt.axvline(x=3823,color='r')\n",
    "\n",
    "#plt.text(3823, 15, \"True value unknown\",  verticalalignment='center')\n",
    "\n",
    "plt.text(5000, 10, \"Supervised\",  verticalalignment='center')\n",
    "\n",
    "\n",
    "\n",
    "hep.label.lumitext(\"Black Box 3\")\n",
    "label_base._exp_text(\"LHCO\")\n",
    "plt.savefig('bb3_supervised.png')"
   ]
  },
  {
   "cell_type": "code",
   "execution_count": null,
   "metadata": {},
   "outputs": [],
   "source": []
  },
  {
   "cell_type": "code",
   "execution_count": null,
   "metadata": {},
   "outputs": [],
   "source": []
  },
  {
   "cell_type": "code",
   "execution_count": 142,
   "metadata": {
    "scrolled": true
   },
   "outputs": [
    {
     "data": {
      "text/plain": [
       "(6716,)"
      ]
     },
     "execution_count": 142,
     "metadata": {},
     "output_type": "execute_result"
    }
   ],
   "source": [
    "sigscore.shape"
   ]
  },
  {
   "cell_type": "code",
   "execution_count": null,
   "metadata": {},
   "outputs": [],
   "source": []
  },
  {
   "cell_type": "code",
   "execution_count": null,
   "metadata": {},
   "outputs": [],
   "source": []
  },
  {
   "cell_type": "code",
   "execution_count": null,
   "metadata": {},
   "outputs": [],
   "source": []
  },
  {
   "cell_type": "code",
   "execution_count": null,
   "metadata": {},
   "outputs": [],
   "source": []
  },
  {
   "cell_type": "code",
   "execution_count": null,
   "metadata": {},
   "outputs": [],
   "source": []
  },
  {
   "cell_type": "code",
   "execution_count": 143,
   "metadata": {},
   "outputs": [
    {
     "name": "stdout",
     "output_type": "stream",
     "text": [
      "[-0.71345681 -0.68024683  2.09297943 ... -4.48688602  3.87274647\n",
      "  3.30166578]\n"
     ]
    }
   ],
   "source": [
    "print(sigscore)"
   ]
  },
  {
   "cell_type": "code",
   "execution_count": 70,
   "metadata": {},
   "outputs": [
    {
     "data": {
      "text/plain": [
       "(99844,)"
      ]
     },
     "execution_count": 70,
     "metadata": {},
     "output_type": "execute_result"
    }
   ],
   "source": [
    "bkgscore.shape"
   ]
  },
  {
   "cell_type": "code",
   "execution_count": 71,
   "metadata": {},
   "outputs": [
    {
     "name": "stdout",
     "output_type": "stream",
     "text": [
      "(110000,) (110000,)\n",
      "[6.01285370e-03 1.40656037e-02 6.33050862e-04 9.06132385e-02\n",
      " 4.29636799e-03 2.59291963e-04 2.91777588e-03 9.88843734e-04\n",
      " 1.93072669e-03 2.13927981e-02 2.22644396e-03 3.17776599e-03\n",
      " 7.99695496e-03 6.96382206e-03 3.63481743e-03 5.33045316e-03\n",
      " 5.50930796e-04 1.47437686e-02 5.34979522e-01 2.88454480e-02] [0. 0. 0. 0. 0. 0. 0. 0. 0. 0. 0. 0. 0. 0. 0. 0. 0. 0. 1. 0.]\n"
     ]
    }
   ],
   "source": [
    "print(y_pred_list.shape,y_test.shape)\n",
    "print(y_pred_list[:20],y_test[:20])"
   ]
  },
  {
   "cell_type": "code",
   "execution_count": 86,
   "metadata": {},
   "outputs": [],
   "source": [
    "def get_tpr_fpr(sigloss,bkgloss):\n",
    "    bins = np.linspace(0,1,100001)\n",
    "    tpr = []\n",
    "    fpr = []\n",
    "    for cut in bins:\n",
    "        tpr.append(np.where(sigloss>cut)[0].shape[0]/len(sigloss))\n",
    "        fpr.append(np.where(bkgloss>cut)[0].shape[0]/len(bkgloss))\n",
    "    \n",
    "    return tpr,fpr  "
   ]
  },
  {
   "cell_type": "code",
   "execution_count": 87,
   "metadata": {
    "scrolled": true
   },
   "outputs": [],
   "source": [
    "tpr, fpr = get_tpr_fpr(sigscore,bkgscore)"
   ]
  },
  {
   "cell_type": "code",
   "execution_count": 89,
   "metadata": {},
   "outputs": [],
   "source": [
    "np.save('supervised_ref_tpr.npy',tpr)\n",
    "np.save('supervised_ref_fpr.npy',fpr)"
   ]
  },
  {
   "cell_type": "code",
   "execution_count": 88,
   "metadata": {},
   "outputs": [
    {
     "data": {
      "text/plain": [
       "[<matplotlib.lines.Line2D at 0x7fc81555ab00>]"
      ]
     },
     "execution_count": 88,
     "metadata": {},
     "output_type": "execute_result"
    },
    {
     "data": {
      "image/png": "[encoded data removed]",
      "text/plain": [
       "<Figure size 432x288 with 1 Axes>"
      ]
     },
     "metadata": {
      "needs_background": "light"
     },
     "output_type": "display_data"
    }
   ],
   "source": [
    "plt.plot(fpr,tpr)"
   ]
  },
  {
   "cell_type": "code",
   "execution_count": 77,
   "metadata": {},
   "outputs": [
    {
     "data": {
      "text/plain": [
       "1e-06"
      ]
     },
     "execution_count": 77,
     "metadata": {},
     "output_type": "execute_result"
    }
   ],
   "source": [
    "max(0,1e-6)"
   ]
  },
  {
   "cell_type": "code",
   "execution_count": 91,
   "metadata": {},
   "outputs": [],
   "source": [
    "def get_precision_recall(sigloss,bkgloss,aetype='bkg'):\n",
    "    bins = np.linspace(0,1,100001)\n",
    "    tpr = []\n",
    "    fpr = []\n",
    "    precision = []\n",
    "    for cut in bins:\n",
    "        if aetype == 'sig':\n",
    "            tpr.append(np.where(sigloss<cut)[0].shape[0]/len(sigloss))\n",
    "            precision.append((np.where(sigloss<cut)[0].shape[0])/(np.where(bkgloss<cut)[0].shape[0]+np.where(sigloss<cut)[0].shape[0]))\n",
    "            \n",
    "        if aetype == 'bkg':\n",
    "            if (np.where(bkgloss>cut)[0].shape[0]+np.where(sigloss>cut)[0].shape[0]) != 0:\n",
    "                tpr.append(np.where(sigloss>cut)[0].shape[0]/len(sigloss))\n",
    "                precision.append((np.where(sigloss>cut)[0].shape[0])/(np.where(bkgloss>cut)[0].shape[0]+np.where(sigloss>cut)[0].shape[0]))\n",
    "    return precision,tpr      "
   ]
  },
  {
   "cell_type": "code",
   "execution_count": 92,
   "metadata": {},
   "outputs": [],
   "source": [
    "precision, recall = get_precision_recall(sigscore,bkgscore)"
   ]
  },
  {
   "cell_type": "code",
   "execution_count": 94,
   "metadata": {},
   "outputs": [],
   "source": [
    "np.save('supervised_ref_precision.npy',precision)\n",
    "np.save('supervised_ref_recall.npy',recall)"
   ]
  },
  {
   "cell_type": "code",
   "execution_count": 95,
   "metadata": {},
   "outputs": [
    {
     "data": {
      "text/plain": [
       "[<matplotlib.lines.Line2D at 0x7fc8104b0a58>]"
      ]
     },
     "execution_count": 95,
     "metadata": {},
     "output_type": "execute_result"
    },
    {
     "data": {
      "image/png": "[encoded data removed]",
      "text/plain": [
       "<Figure size 432x288 with 1 Axes>"
      ]
     },
     "metadata": {
      "needs_background": "light"
     },
     "output_type": "display_data"
    }
   ],
   "source": [
    "plt.plot(recall,precision)"
   ]
  },
  {
   "cell_type": "markdown",
   "metadata": {},
   "source": [
    "# Now time to train a simple NN"
   ]
  },
  {
   "cell_type": "code",
   "execution_count": null,
   "metadata": {},
   "outputs": [],
   "source": [
    "plt.hist(data_branches[b'vjet0_msd0'][y_pred_list>-40],1000)"
   ]
  },
  {
   "cell_type": "code",
   "execution_count": null,
   "metadata": {},
   "outputs": [],
   "source": [
    "data"
   ]
  },
  {
   "cell_type": "code",
   "execution_count": null,
   "metadata": {},
   "outputs": [],
   "source": [
    "f = uproot.update(\"data/JetHT_s.root\")"
   ]
  },
  {
   "cell_type": "code",
   "execution_count": null,
   "metadata": {},
   "outputs": [],
   "source": [
    "data   = uproot.open(\"data/JetHT_s.root\")[\"Tree\"]\n",
    "data.extend({\"NN_score\":y_pred_list})"
   ]
  },
  {
   "cell_type": "code",
   "execution_count": null,
   "metadata": {},
   "outputs": [],
   "source": [
    "import numpy as np"
   ]
  },
  {
   "cell_type": "code",
   "execution_count": null,
   "metadata": {},
   "outputs": [],
   "source": [
    "N, D_in, H, D_out = 64, 1000, 100, 10"
   ]
  },
  {
   "cell_type": "code",
   "execution_count": null,
   "metadata": {},
   "outputs": [],
   "source": [
    "x = np.random.randn(N, D_in)\n",
    "y = np.random.randn(N, D_out)"
   ]
  },
  {
   "cell_type": "code",
   "execution_count": null,
   "metadata": {},
   "outputs": [],
   "source": [
    "print(x.shape)"
   ]
  },
  {
   "cell_type": "code",
   "execution_count": null,
   "metadata": {},
   "outputs": [],
   "source": [
    "# Randomly initialize weights\n",
    "w1 = np.random.randn(D_in, H)\n",
    "w2 = np.random.randn(H, D_out)"
   ]
  },
  {
   "cell_type": "code",
   "execution_count": null,
   "metadata": {},
   "outputs": [],
   "source": [
    "learning_rate = 1e-6"
   ]
  },
  {
   "cell_type": "code",
   "execution_count": null,
   "metadata": {},
   "outputs": [],
   "source": [
    "for i in range(500):\n",
    "    #forward pass: compute predicted y\n",
    "    h = x.dot(w1)\n",
    "    h_relu = np.maximum(h,0)\n",
    "    y_pred = h_relu.dot(w2)\n",
    "    \n",
    "    loss = np.square(y_pred-y).sum()\n",
    "    print(t,loss)\n",
    "    \n",
    "    # back propagation\n",
    "    grad_y_pred = 2.0 * (y_pred - y)\n",
    "    grad_w2  = h_relu.T.dot(grad_y_pred)\n",
    "    g\n",
    "    \n",
    "    \n",
    "    "
   ]
  }
 ],
 "metadata": {
  "kernelspec": {
   "display_name": "Python 3",
   "language": "python",
   "name": "python3"
  },
  "language_info": {
   "codemirror_mode": {
    "name": "ipython",
    "version": 3
   },
   "file_extension": ".py",
   "mimetype": "text/x-python",
   "name": "python",
   "nbconvert_exporter": "python",
   "pygments_lexer": "ipython3",
   "version": "3.6.7"
  }
 },
 "nbformat": 4,
 "nbformat_minor": 4
}
