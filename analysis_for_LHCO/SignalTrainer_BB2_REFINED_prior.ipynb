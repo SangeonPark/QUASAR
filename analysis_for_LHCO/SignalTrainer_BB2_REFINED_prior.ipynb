{
 "cells": [
  {
   "cell_type": "markdown",
   "metadata": {},
   "source": [
    "# Signal Autoencoder"
   ]
  },
  {
   "cell_type": "code",
   "execution_count": null,
   "metadata": {},
   "outputs": [],
   "source": [
    "import numpy as np\n",
    "import scipy as sp\n",
    "import scipy.stats\n",
    "import itertools\n",
    "import logging\n",
    "import matplotlib.pyplot as plt\n",
    "import pandas as pd\n",
    "import torch.utils.data as utils\n",
    "import math\n",
    "import time\n",
    "import tqdm\n",
    "\n",
    "import torch\n",
    "import torch.optim as optim\n",
    "import torch.nn.functional as F\n",
    "from argparse import ArgumentParser\n",
    "from torch.distributions import MultivariateNormal\n",
    "\n",
    "import torch.nn as nn\n",
    "import torch.nn.init as init\n",
    "import sys\n",
    "sys.path.append(\"../new_flows\")\n",
    "from flows import RealNVP, Planar, MAF\n",
    "from models import NormalizingFlowModel"
   ]
  },
  {
   "cell_type": "code",
   "execution_count": 48,
   "metadata": {},
   "outputs": [],
   "source": [
    "####MAF \n",
    "class VAE_NF(nn.Module):\n",
    "    def __init__(self, K, D):\n",
    "        super().__init__()\n",
    "        self.dim = D\n",
    "        self.K = K\n",
    "        self.encoder = nn.Sequential(\n",
    "            nn.Linear(16, 50),\n",
    "            nn.LeakyReLU(True),\n",
    "            nn.Linear(50, 48),\n",
    "            nn.LeakyReLU(True),            \n",
    "            nn.Linear(48, D * 2)\n",
    "        )\n",
    "\n",
    "        self.decoder = nn.Sequential(\n",
    "            nn.Linear(D, 48),\n",
    "            nn.LeakyReLU(True),\n",
    "            nn.Linear(48, 50),\n",
    "            nn.LeakyReLU(True),\n",
    "            nn.Linear(50, 16)\n",
    "        )\n",
    "        \n",
    "        flow_init = MAF(dim=D)\n",
    "        flows_init = [flow_init for _ in range(K)]\n",
    "        prior = MultivariateNormal(torch.zeros(D).cuda(), torch.eye(D).cuda())\n",
    "        self.flows = NormalizingFlowModel(prior, flows_init)\n",
    "\n",
    "    def forward(self, x):\n",
    "        # Run Encoder and get NF params\n",
    "        enc = self.encoder(x)\n",
    "        mu = enc[:, :self.dim]\n",
    "        log_var = enc[:, self.dim: self.dim * 2]\n",
    "\n",
    "        # Re-parametrize\n",
    "        sigma = (log_var * .5).exp()\n",
    "        z = mu + sigma * torch.randn_like(sigma)\n",
    "        kl_div = -0.5 * torch.sum(1 + log_var - mu.pow(2) - log_var.exp())\n",
    "        # Construct more expressive posterior with NF\n",
    "        \n",
    "        z_k, _, sum_ladj = self.flows(z)\n",
    "        \n",
    "        kl_div = kl_div / x.size(0) - sum_ladj.mean()  # mean over batch\n",
    "\n",
    "        # Run Decoder\n",
    "        x_prime = self.decoder(z_k)\n",
    "        return x_prime, kl_div"
   ]
  },
  {
   "cell_type": "code",
   "execution_count": 49,
   "metadata": {},
   "outputs": [],
   "source": [
    "prong_2 = pd.read_hdf(\"/data/t3home000/spark/QUASAR/preprocessing/delphes_output_5000_850_450.h5\")\n",
    "#prong_3 = pd.read_hdf(\"/data/t3home000/spark/QUASAR/preprocessing/conventional_tau_3prong_rnd.h5\")"
   ]
  },
  {
   "cell_type": "code",
   "execution_count": 50,
   "metadata": {},
   "outputs": [],
   "source": [
    "columns = prong_2.columns"
   ]
  },
  {
   "cell_type": "code",
   "execution_count": 51,
   "metadata": {},
   "outputs": [
    {
     "data": {
      "text/plain": [
       "Index(['Mjj', 'j1 pT', 'j2 pT', 'Mj1', 'j1 tau21', 'j1 tau32', 'j1 tau43',\n",
       "       'j1 tau54', 'j1 tau65', 'j1 tau76', 'j1 tau87',\n",
       "       'j1 sqrt(tau^2_1)/tau^1_1', 'j1 n_trk', 'j1 M_trim', 'j1 M_prun',\n",
       "       'j1 M_mmdt', 'j1 M_sdb1', 'j1 M_sdb2', 'j1 M_sdm1', 'Mj2', 'j2 tau21',\n",
       "       'j2 tau32', 'j2 tau43', 'j2 tau54', 'j2 tau65', 'j2 tau76', 'j2 tau87',\n",
       "       'j2 sqrt(tau^2_1)/tau^1_1', 'j2 n_trk', 'j2 M_trim', 'j2 M_prun',\n",
       "       'j2 M_mmdt', 'j2 M_sdb1', 'j2 M_sdb2', 'j2 M_sdm1'],\n",
       "      dtype='object')"
      ]
     },
     "execution_count": 51,
     "metadata": {},
     "output_type": "execute_result"
    }
   ],
   "source": [
    "columns"
   ]
  },
  {
   "cell_type": "code",
   "execution_count": 52,
   "metadata": {},
   "outputs": [],
   "source": [
    "dt = prong_2.values\n",
    "correct = (dt[:,3]>0) &(dt[:,19]>0) & (dt[:,1]>0) & (dt[:,2]>0) &(dt[:,2]>0) & (dt[:,16]>0) & (dt[:,32]>0)\n",
    "dt = dt[correct]\n",
    "for i in range(13,19):\n",
    "    dt[:,i] = dt[:,i]/dt[:,3]\n",
    "\n",
    "for i in range(29,35):\n",
    "    dt[:,i] = dt[:,i]/(dt[:,19])\n",
    "\n",
    "\n",
    "correct = (dt[:,16]>0) & (dt[:,29]>=0) &(dt[:,29]<=1)&(dt[:,30]>=0) &(dt[:,30]<=1)&(dt[:,31]>=0) &(dt[:,31]<=1)&(dt[:,32]>=0) &(dt[:,32]<=1)&(dt[:,33]>=0) &(dt[:,33]<=1)&(dt[:,34]>=-0.01) &(dt[:,34]<=1)\n",
    "dt = dt[correct]\n",
    "\n",
    "\n",
    "#Y = dt[:,[3,4,5,6,11,12,19,20,21,22,27,28]]\n",
    "#Y = dt[:,[4,5,6,7,8,11,12,13,14,15,16,17,18,20,21,22,23,24,27,28,29,30,31,32,33,34]] # When no jet 1,2 raw mass included\n",
    "#Y = dt[:,[3,4,5,6,11,12,13,14,15,16,17,18,19,20,21,22,27,28,29,30,31,32,33,34]]\n",
    "#idx = dt[:,-1]\n",
    "#bkg_idx = np.where(idx==0)[0]\n",
    "#signal_idx = np.where((idx==1) & (dt[:,3]>300))[0]\n",
    "#signal_idx = np.where((idx==1)) [0]\n",
    "#dt = dt[signal_idx]\n",
    "    \n",
    "bsmlike = np.where(dt[:,16]>0.9)[0]\n",
    "dt = dt[bsmlike]\n"
   ]
  },
  {
   "cell_type": "code",
   "execution_count": 53,
   "metadata": {},
   "outputs": [
    {
     "data": {
      "text/plain": [
       "(70215, 35)"
      ]
     },
     "execution_count": 53,
     "metadata": {},
     "output_type": "execute_result"
    }
   ],
   "source": [
    "dt.shape"
   ]
  },
  {
   "cell_type": "code",
   "execution_count": 54,
   "metadata": {},
   "outputs": [],
   "source": [
    "j1sdb = dt[:,3]*dt[:,16]\n",
    "j2sdb = dt[:,19]*dt[:,32]\n",
    "\n",
    "pt = dt[:,1]\n",
    "m = j1sdb[:]\n",
    "m2 = j2sdb[:]\n",
    "tau21 = dt[:,4]\n",
    "tau32 = dt[:,5]\n",
    "tau43 = dt[:,6]\n",
    "tau54 = dt[:,7]\n",
    "tau65 = dt[:,8]\n",
    "massratio = dt[:,16]\n",
    "\n",
    "rho = np.log((m*m)/(pt*pt))\n",
    "rhoprime = np.log((m*m)/(pt*1))\n",
    "\n",
    "tau21prime = tau21 + rhoprime * 0.088\n",
    "tau32prime = tau32 + rhoprime * 0.025\n",
    "tau43prime = tau43 + rhoprime * 0.01\n",
    "tau54prime = tau54 + rhoprime * 0.001\n",
    "j2pt = dt[:,2]\n",
    "#m = j1sdb[mrange]\n",
    "j2m = j2sdb[:]\n",
    "j2tau21 = dt[:,20]\n",
    "j2tau32 = dt[:,21]\n",
    "j2tau43 = dt[:,22]\n",
    "j2tau54 = dt[:,23]\n",
    "j2tau65 = dt[:,24]\n",
    "j2massratio = dt[:,32]\n",
    "\n",
    "\n",
    "j2rho = np.log((j2m*j2m)/(j2pt*j2pt))\n",
    "j2rhoprime = np.log((j2m*j2m)/(j2pt*1))\n",
    "\n",
    "j2tau21prime = j2tau21 + j2rhoprime * 0.086\n",
    "j2tau32prime = j2tau32 + j2rhoprime * 0.025\n",
    "j2tau43prime = j2tau43 + j2rhoprime * 0.01\n",
    "j2tau54prime = j2tau54 + j2rhoprime * 0.001"
   ]
  },
  {
   "cell_type": "code",
   "execution_count": 55,
   "metadata": {},
   "outputs": [],
   "source": [
    "dt[:,4] = tau21prime\n",
    "dt[:,5] = tau32prime\n",
    "dt[:,6] = tau43prime\n",
    "dt[:,7] = tau54prime\n",
    "\n",
    "dt[:,20] = j2tau21prime \n",
    "dt[:,21] = j2tau32prime\n",
    "dt[:,22] = j2tau43prime\n",
    "dt[:,23] = j2tau54prime"
   ]
  },
  {
   "cell_type": "code",
   "execution_count": 56,
   "metadata": {},
   "outputs": [
    {
     "data": {
      "text/plain": [
       "'Mj2'"
      ]
     },
     "execution_count": 56,
     "metadata": {},
     "output_type": "execute_result"
    }
   ],
   "source": [
    "columns[19]"
   ]
  },
  {
   "cell_type": "code",
   "execution_count": 57,
   "metadata": {},
   "outputs": [],
   "source": [
    "m1minusm2 = dt[:,3] - dt[:,19] \n",
    "\n",
    "dt[:,19] = m1minusm2"
   ]
  },
  {
   "cell_type": "code",
   "execution_count": 58,
   "metadata": {},
   "outputs": [],
   "source": [
    "Y = dt[:,[3,4,5,6,7,8,11,12,19,20,21,22,23,24,27,28]]"
   ]
  },
  {
   "cell_type": "code",
   "execution_count": 59,
   "metadata": {},
   "outputs": [
    {
     "data": {
      "text/plain": [
       "(70215, 16)"
      ]
     },
     "execution_count": 59,
     "metadata": {},
     "output_type": "execute_result"
    }
   ],
   "source": [
    "Y.shape"
   ]
  },
  {
   "cell_type": "code",
   "execution_count": 60,
   "metadata": {},
   "outputs": [],
   "source": [
    "#if nprong == 3:\n",
    "#    dt = prong_3.values\n",
    "#    correct = (dt[:,3]>20) &(dt[:,19]>20)\n",
    "#    dt = dt[correct]\n",
    "#    for i in range(13,19):\n",
    "#        dt[:,i] = dt[:,i]/dt[:,3]\n",
    "    \n",
    "#    for i in range(29,35):\n",
    "#        dt[:,i] = dt[:,i]/(dt[:,19])\n",
    "        \n",
    "#    correct = (dt[:,29]>=0) &(dt[:,29]<=1)&(dt[:,30]>=0) &(dt[:,30]<=1)&(dt[:,31]>=0) &(dt[:,31]<=1)&(dt[:,32]>=0) &(dt[:,32]<=1)&(dt[:,33]>=0) &(dt[:,33]<=1)&(dt[:,34]>=-0.01) &(dt[:,34]<=1)\n",
    "#    dt = dt[correct]        \n",
    "        \n",
    "#    Y = dt[:,[4,5,6,7,8,11,12,13,14,15,16,17,18,20,21,22,23,24,27,28,29,30,31,32,33,34]]\n",
    "#    #Y = dt[:,[3,4,5,6,11,12,19,20,21,22,27,28]]\n",
    "#    idx = dt[:,-1]\n",
    "#    bkg_idx = np.where(idx==0)[0]\n",
    "#    signal_idx = np.where((idx==1) & (dt[:,3]>400))[0]\n",
    "#    #signal_idx = np.where((idx==1)) [0]\n",
    "#    Y = Y[signal_idx]"
   ]
  },
  {
   "cell_type": "code",
   "execution_count": 61,
   "metadata": {},
   "outputs": [
    {
     "data": {
      "image/png": "[encoded data removed]",
      "text/plain": [
       "<Figure size 432x288 with 1 Axes>"
      ]
     },
     "metadata": {
      "needs_background": "light"
     },
     "output_type": "display_data"
    }
   ],
   "source": [
    "bins = np.linspace(0,1,100)\n",
    "bins.shape\n",
    "column = 5\n",
    "#print(f_rnd.columns[column])\n",
    "plt.hist(dt[:,16],bins,alpha=0.5,color='b');\n",
    "#plt.hist(sigout[:,column],bins,alpha=0.5,color='r');\n",
    "#plt.hist(out2[:,column],bins,alpha=0.5,color='g');\n",
    "#plt.axvline(np.mean(Y[:,column]))"
   ]
  },
  {
   "cell_type": "code",
   "execution_count": 62,
   "metadata": {},
   "outputs": [
    {
     "data": {
      "text/plain": [
       "(70215, 16)"
      ]
     },
     "execution_count": 62,
     "metadata": {},
     "output_type": "execute_result"
    }
   ],
   "source": [
    "Y.shape"
   ]
  },
  {
   "cell_type": "code",
   "execution_count": 63,
   "metadata": {},
   "outputs": [],
   "source": [
    "sig_mean = []\n",
    "sig_std = []\n",
    "for i in range(16):\n",
    "    mean = np.mean(Y[:,i])\n",
    "    std = np.std(Y[:,i])\n",
    "    sig_mean.append(mean)\n",
    "    sig_std.append(std)\n",
    "    Y[:,i] = (Y[:,i]-mean)/std"
   ]
  },
  {
   "cell_type": "code",
   "execution_count": 64,
   "metadata": {},
   "outputs": [
    {
     "data": {
      "text/plain": [
       "[560.4673635325017,\n",
       " 0.6485325941694001,\n",
       " 0.7615410018376673,\n",
       " 0.8233203751705781,\n",
       " 0.8411926223162028,\n",
       " 0.8693572840928546,\n",
       " 1.3506804981097114,\n",
       " 263.17014882859786,\n",
       " 299.31868089997874,\n",
       " 0.6289354771347945,\n",
       " 0.7452559492605366,\n",
       " 0.8079707935585495,\n",
       " 0.8345289568434062,\n",
       " 0.8573591442105765,\n",
       " 2.080603443794753,\n",
       " 202.98768069500818]"
      ]
     },
     "execution_count": 64,
     "metadata": {},
     "output_type": "execute_result"
    }
   ],
   "source": [
    "sig_mean"
   ]
  },
  {
   "cell_type": "code",
   "execution_count": 65,
   "metadata": {},
   "outputs": [
    {
     "data": {
      "text/plain": [
       "[206.2951136688244,\n",
       " 0.13161705980546703,\n",
       " 0.15471586646041038,\n",
       " 0.09993416909916117,\n",
       " 0.07031005801722459,\n",
       " 0.053408762199321023,\n",
       " 0.33406801313127116,\n",
       " 98.30551936092819,\n",
       " 135.74319632008635,\n",
       " 0.17483708043001006,\n",
       " 0.13834978793550337,\n",
       " 0.09744719468099658,\n",
       " 0.07300203939568409,\n",
       " 0.06254134730913442,\n",
       " 1.126024138656687,\n",
       " 90.86766295216417]"
      ]
     },
     "execution_count": 65,
     "metadata": {},
     "output_type": "execute_result"
    }
   ],
   "source": [
    "sig_std"
   ]
  },
  {
   "cell_type": "code",
   "execution_count": 66,
   "metadata": {},
   "outputs": [],
   "source": [
    "total_sig = torch.tensor(Y)"
   ]
  },
  {
   "cell_type": "code",
   "execution_count": 67,
   "metadata": {},
   "outputs": [
    {
     "data": {
      "text/plain": [
       "torch.Size([70215, 16])"
      ]
     },
     "execution_count": 67,
     "metadata": {},
     "output_type": "execute_result"
    }
   ],
   "source": [
    "total_sig.shape"
   ]
  },
  {
   "cell_type": "code",
   "execution_count": 68,
   "metadata": {},
   "outputs": [
    {
     "data": {
      "image/png": "[encoded data removed]",
      "text/plain": [
       "<Figure size 432x288 with 1 Axes>"
      ]
     },
     "metadata": {
      "needs_background": "light"
     },
     "output_type": "display_data"
    }
   ],
   "source": [
    "bins = np.linspace(-3,3,100)\n",
    "bins.shape\n",
    "column = 5\n",
    "#print(f_rnd.columns[column])\n",
    "plt.hist(Y[:,1],bins,alpha=0.5,color='b');\n",
    "#plt.hist(sigout[:,column],bins,alpha=0.5,color='r');\n",
    "#plt.hist(out2[:,column],bins,alpha=0.5,color='g');\n",
    "#plt.axvline(np.mean(Y[:,column]))"
   ]
  },
  {
   "cell_type": "code",
   "execution_count": 69,
   "metadata": {},
   "outputs": [],
   "source": [
    "N_EPOCHS = 30\n",
    "PRINT_INTERVAL = 2000\n",
    "NUM_WORKERS = 4\n",
    "LR = 1e-6\n",
    "\n",
    "#N_FLOWS = 6 \n",
    "#Z_DIM = 8\n",
    "\n",
    "N_FLOWS = 10\n",
    "Z_DIM = 6\n",
    "\n",
    "n_steps = 0"
   ]
  },
  {
   "cell_type": "code",
   "execution_count": 70,
   "metadata": {},
   "outputs": [],
   "source": [
    "sigmodel = VAE_NF(N_FLOWS, Z_DIM).cuda()"
   ]
  },
  {
   "cell_type": "code",
   "execution_count": 71,
   "metadata": {},
   "outputs": [
    {
     "name": "stdout",
     "output_type": "stream",
     "text": [
      "VAE_NF(\n",
      "  (encoder): Sequential(\n",
      "    (0): Linear(in_features=16, out_features=50, bias=True)\n",
      "    (1): LeakyReLU(negative_slope=True)\n",
      "    (2): Linear(in_features=50, out_features=48, bias=True)\n",
      "    (3): LeakyReLU(negative_slope=True)\n",
      "    (4): Linear(in_features=48, out_features=12, bias=True)\n",
      "  )\n",
      "  (decoder): Sequential(\n",
      "    (0): Linear(in_features=6, out_features=48, bias=True)\n",
      "    (1): LeakyReLU(negative_slope=True)\n",
      "    (2): Linear(in_features=48, out_features=50, bias=True)\n",
      "    (3): LeakyReLU(negative_slope=True)\n",
      "    (4): Linear(in_features=50, out_features=16, bias=True)\n",
      "  )\n",
      "  (flows): NormalizingFlowModel(\n",
      "    (flows): ModuleList(\n",
      "      (0): MAF(\n",
      "        (layers): ModuleList(\n",
      "          (0): FCNN(\n",
      "            (network): Sequential(\n",
      "              (0): Linear(in_features=1, out_features=8, bias=True)\n",
      "              (1): Tanh()\n",
      "              (2): Linear(in_features=8, out_features=8, bias=True)\n",
      "              (3): Tanh()\n",
      "              (4): Linear(in_features=8, out_features=2, bias=True)\n",
      "            )\n",
      "          )\n",
      "          (1): FCNN(\n",
      "            (network): Sequential(\n",
      "              (0): Linear(in_features=2, out_features=8, bias=True)\n",
      "              (1): Tanh()\n",
      "              (2): Linear(in_features=8, out_features=8, bias=True)\n",
      "              (3): Tanh()\n",
      "              (4): Linear(in_features=8, out_features=2, bias=True)\n",
      "            )\n",
      "          )\n",
      "          (2): FCNN(\n",
      "            (network): Sequential(\n",
      "              (0): Linear(in_features=3, out_features=8, bias=True)\n",
      "              (1): Tanh()\n",
      "              (2): Linear(in_features=8, out_features=8, bias=True)\n",
      "              (3): Tanh()\n",
      "              (4): Linear(in_features=8, out_features=2, bias=True)\n",
      "            )\n",
      "          )\n",
      "          (3): FCNN(\n",
      "            (network): Sequential(\n",
      "              (0): Linear(in_features=4, out_features=8, bias=True)\n",
      "              (1): Tanh()\n",
      "              (2): Linear(in_features=8, out_features=8, bias=True)\n",
      "              (3): Tanh()\n",
      "              (4): Linear(in_features=8, out_features=2, bias=True)\n",
      "            )\n",
      "          )\n",
      "          (4): FCNN(\n",
      "            (network): Sequential(\n",
      "              (0): Linear(in_features=5, out_features=8, bias=True)\n",
      "              (1): Tanh()\n",
      "              (2): Linear(in_features=8, out_features=8, bias=True)\n",
      "              (3): Tanh()\n",
      "              (4): Linear(in_features=8, out_features=2, bias=True)\n",
      "            )\n",
      "          )\n",
      "        )\n",
      "      )\n",
      "      (1): MAF(\n",
      "        (layers): ModuleList(\n",
      "          (0): FCNN(\n",
      "            (network): Sequential(\n",
      "              (0): Linear(in_features=1, out_features=8, bias=True)\n",
      "              (1): Tanh()\n",
      "              (2): Linear(in_features=8, out_features=8, bias=True)\n",
      "              (3): Tanh()\n",
      "              (4): Linear(in_features=8, out_features=2, bias=True)\n",
      "            )\n",
      "          )\n",
      "          (1): FCNN(\n",
      "            (network): Sequential(\n",
      "              (0): Linear(in_features=2, out_features=8, bias=True)\n",
      "              (1): Tanh()\n",
      "              (2): Linear(in_features=8, out_features=8, bias=True)\n",
      "              (3): Tanh()\n",
      "              (4): Linear(in_features=8, out_features=2, bias=True)\n",
      "            )\n",
      "          )\n",
      "          (2): FCNN(\n",
      "            (network): Sequential(\n",
      "              (0): Linear(in_features=3, out_features=8, bias=True)\n",
      "              (1): Tanh()\n",
      "              (2): Linear(in_features=8, out_features=8, bias=True)\n",
      "              (3): Tanh()\n",
      "              (4): Linear(in_features=8, out_features=2, bias=True)\n",
      "            )\n",
      "          )\n",
      "          (3): FCNN(\n",
      "            (network): Sequential(\n",
      "              (0): Linear(in_features=4, out_features=8, bias=True)\n",
      "              (1): Tanh()\n",
      "              (2): Linear(in_features=8, out_features=8, bias=True)\n",
      "              (3): Tanh()\n",
      "              (4): Linear(in_features=8, out_features=2, bias=True)\n",
      "            )\n",
      "          )\n",
      "          (4): FCNN(\n",
      "            (network): Sequential(\n",
      "              (0): Linear(in_features=5, out_features=8, bias=True)\n",
      "              (1): Tanh()\n",
      "              (2): Linear(in_features=8, out_features=8, bias=True)\n",
      "              (3): Tanh()\n",
      "              (4): Linear(in_features=8, out_features=2, bias=True)\n",
      "            )\n",
      "          )\n",
      "        )\n",
      "      )\n",
      "      (2): MAF(\n",
      "        (layers): ModuleList(\n",
      "          (0): FCNN(\n",
      "            (network): Sequential(\n",
      "              (0): Linear(in_features=1, out_features=8, bias=True)\n",
      "              (1): Tanh()\n",
      "              (2): Linear(in_features=8, out_features=8, bias=True)\n",
      "              (3): Tanh()\n",
      "              (4): Linear(in_features=8, out_features=2, bias=True)\n",
      "            )\n",
      "          )\n",
      "          (1): FCNN(\n",
      "            (network): Sequential(\n",
      "              (0): Linear(in_features=2, out_features=8, bias=True)\n",
      "              (1): Tanh()\n",
      "              (2): Linear(in_features=8, out_features=8, bias=True)\n",
      "              (3): Tanh()\n",
      "              (4): Linear(in_features=8, out_features=2, bias=True)\n",
      "            )\n",
      "          )\n",
      "          (2): FCNN(\n",
      "            (network): Sequential(\n",
      "              (0): Linear(in_features=3, out_features=8, bias=True)\n",
      "              (1): Tanh()\n",
      "              (2): Linear(in_features=8, out_features=8, bias=True)\n",
      "              (3): Tanh()\n",
      "              (4): Linear(in_features=8, out_features=2, bias=True)\n",
      "            )\n",
      "          )\n",
      "          (3): FCNN(\n",
      "            (network): Sequential(\n",
      "              (0): Linear(in_features=4, out_features=8, bias=True)\n",
      "              (1): Tanh()\n",
      "              (2): Linear(in_features=8, out_features=8, bias=True)\n",
      "              (3): Tanh()\n",
      "              (4): Linear(in_features=8, out_features=2, bias=True)\n",
      "            )\n",
      "          )\n",
      "          (4): FCNN(\n",
      "            (network): Sequential(\n",
      "              (0): Linear(in_features=5, out_features=8, bias=True)\n",
      "              (1): Tanh()\n",
      "              (2): Linear(in_features=8, out_features=8, bias=True)\n",
      "              (3): Tanh()\n",
      "              (4): Linear(in_features=8, out_features=2, bias=True)\n",
      "            )\n",
      "          )\n",
      "        )\n",
      "      )\n",
      "      (3): MAF(\n",
      "        (layers): ModuleList(\n",
      "          (0): FCNN(\n",
      "            (network): Sequential(\n",
      "              (0): Linear(in_features=1, out_features=8, bias=True)\n",
      "              (1): Tanh()\n",
      "              (2): Linear(in_features=8, out_features=8, bias=True)\n",
      "              (3): Tanh()\n",
      "              (4): Linear(in_features=8, out_features=2, bias=True)\n",
      "            )\n",
      "          )\n",
      "          (1): FCNN(\n",
      "            (network): Sequential(\n",
      "              (0): Linear(in_features=2, out_features=8, bias=True)\n",
      "              (1): Tanh()\n",
      "              (2): Linear(in_features=8, out_features=8, bias=True)\n",
      "              (3): Tanh()\n",
      "              (4): Linear(in_features=8, out_features=2, bias=True)\n",
      "            )\n",
      "          )\n",
      "          (2): FCNN(\n",
      "            (network): Sequential(\n",
      "              (0): Linear(in_features=3, out_features=8, bias=True)\n",
      "              (1): Tanh()\n",
      "              (2): Linear(in_features=8, out_features=8, bias=True)\n",
      "              (3): Tanh()\n",
      "              (4): Linear(in_features=8, out_features=2, bias=True)\n",
      "            )\n",
      "          )\n",
      "          (3): FCNN(\n",
      "            (network): Sequential(\n",
      "              (0): Linear(in_features=4, out_features=8, bias=True)\n",
      "              (1): Tanh()\n",
      "              (2): Linear(in_features=8, out_features=8, bias=True)\n",
      "              (3): Tanh()\n",
      "              (4): Linear(in_features=8, out_features=2, bias=True)\n",
      "            )\n",
      "          )\n",
      "          (4): FCNN(\n",
      "            (network): Sequential(\n",
      "              (0): Linear(in_features=5, out_features=8, bias=True)\n",
      "              (1): Tanh()\n",
      "              (2): Linear(in_features=8, out_features=8, bias=True)\n",
      "              (3): Tanh()\n",
      "              (4): Linear(in_features=8, out_features=2, bias=True)\n",
      "            )\n",
      "          )\n",
      "        )\n",
      "      )\n",
      "      (4): MAF(\n",
      "        (layers): ModuleList(\n",
      "          (0): FCNN(\n",
      "            (network): Sequential(\n",
      "              (0): Linear(in_features=1, out_features=8, bias=True)\n",
      "              (1): Tanh()\n",
      "              (2): Linear(in_features=8, out_features=8, bias=True)\n",
      "              (3): Tanh()\n",
      "              (4): Linear(in_features=8, out_features=2, bias=True)\n",
      "            )\n",
      "          )\n",
      "          (1): FCNN(\n",
      "            (network): Sequential(\n",
      "              (0): Linear(in_features=2, out_features=8, bias=True)\n",
      "              (1): Tanh()\n",
      "              (2): Linear(in_features=8, out_features=8, bias=True)\n",
      "              (3): Tanh()\n",
      "              (4): Linear(in_features=8, out_features=2, bias=True)\n",
      "            )\n",
      "          )\n",
      "          (2): FCNN(\n",
      "            (network): Sequential(\n",
      "              (0): Linear(in_features=3, out_features=8, bias=True)\n",
      "              (1): Tanh()\n",
      "              (2): Linear(in_features=8, out_features=8, bias=True)\n",
      "              (3): Tanh()\n",
      "              (4): Linear(in_features=8, out_features=2, bias=True)\n",
      "            )\n",
      "          )\n",
      "          (3): FCNN(\n",
      "            (network): Sequential(\n",
      "              (0): Linear(in_features=4, out_features=8, bias=True)\n",
      "              (1): Tanh()\n",
      "              (2): Linear(in_features=8, out_features=8, bias=True)\n",
      "              (3): Tanh()\n",
      "              (4): Linear(in_features=8, out_features=2, bias=True)\n",
      "            )\n",
      "          )\n",
      "          (4): FCNN(\n",
      "            (network): Sequential(\n",
      "              (0): Linear(in_features=5, out_features=8, bias=True)\n",
      "              (1): Tanh()\n",
      "              (2): Linear(in_features=8, out_features=8, bias=True)\n",
      "              (3): Tanh()\n",
      "              (4): Linear(in_features=8, out_features=2, bias=True)\n",
      "            )\n",
      "          )\n",
      "        )\n",
      "      )\n",
      "      (5): MAF(\n",
      "        (layers): ModuleList(\n",
      "          (0): FCNN(\n",
      "            (network): Sequential(\n",
      "              (0): Linear(in_features=1, out_features=8, bias=True)\n",
      "              (1): Tanh()\n",
      "              (2): Linear(in_features=8, out_features=8, bias=True)\n",
      "              (3): Tanh()\n",
      "              (4): Linear(in_features=8, out_features=2, bias=True)\n",
      "            )\n",
      "          )\n",
      "          (1): FCNN(\n",
      "            (network): Sequential(\n",
      "              (0): Linear(in_features=2, out_features=8, bias=True)\n",
      "              (1): Tanh()\n",
      "              (2): Linear(in_features=8, out_features=8, bias=True)\n",
      "              (3): Tanh()\n",
      "              (4): Linear(in_features=8, out_features=2, bias=True)\n",
      "            )\n",
      "          )\n",
      "          (2): FCNN(\n",
      "            (network): Sequential(\n",
      "              (0): Linear(in_features=3, out_features=8, bias=True)\n",
      "              (1): Tanh()\n",
      "              (2): Linear(in_features=8, out_features=8, bias=True)\n",
      "              (3): Tanh()\n",
      "              (4): Linear(in_features=8, out_features=2, bias=True)\n",
      "            )\n",
      "          )\n",
      "          (3): FCNN(\n",
      "            (network): Sequential(\n",
      "              (0): Linear(in_features=4, out_features=8, bias=True)\n",
      "              (1): Tanh()\n",
      "              (2): Linear(in_features=8, out_features=8, bias=True)\n",
      "              (3): Tanh()\n",
      "              (4): Linear(in_features=8, out_features=2, bias=True)\n",
      "            )\n",
      "          )\n",
      "          (4): FCNN(\n",
      "            (network): Sequential(\n",
      "              (0): Linear(in_features=5, out_features=8, bias=True)\n",
      "              (1): Tanh()\n",
      "              (2): Linear(in_features=8, out_features=8, bias=True)\n",
      "              (3): Tanh()\n",
      "              (4): Linear(in_features=8, out_features=2, bias=True)\n",
      "            )\n",
      "          )\n",
      "        )\n",
      "      )\n",
      "      (6): MAF(\n",
      "        (layers): ModuleList(\n",
      "          (0): FCNN(\n",
      "            (network): Sequential(\n",
      "              (0): Linear(in_features=1, out_features=8, bias=True)\n",
      "              (1): Tanh()\n",
      "              (2): Linear(in_features=8, out_features=8, bias=True)\n",
      "              (3): Tanh()\n",
      "              (4): Linear(in_features=8, out_features=2, bias=True)\n",
      "            )\n",
      "          )\n",
      "          (1): FCNN(\n",
      "            (network): Sequential(\n",
      "              (0): Linear(in_features=2, out_features=8, bias=True)\n",
      "              (1): Tanh()\n",
      "              (2): Linear(in_features=8, out_features=8, bias=True)\n",
      "              (3): Tanh()\n",
      "              (4): Linear(in_features=8, out_features=2, bias=True)\n",
      "            )\n",
      "          )\n",
      "          (2): FCNN(\n",
      "            (network): Sequential(\n",
      "              (0): Linear(in_features=3, out_features=8, bias=True)\n",
      "              (1): Tanh()\n",
      "              (2): Linear(in_features=8, out_features=8, bias=True)\n",
      "              (3): Tanh()\n",
      "              (4): Linear(in_features=8, out_features=2, bias=True)\n",
      "            )\n",
      "          )\n",
      "          (3): FCNN(\n",
      "            (network): Sequential(\n",
      "              (0): Linear(in_features=4, out_features=8, bias=True)\n",
      "              (1): Tanh()\n",
      "              (2): Linear(in_features=8, out_features=8, bias=True)\n",
      "              (3): Tanh()\n",
      "              (4): Linear(in_features=8, out_features=2, bias=True)\n",
      "            )\n",
      "          )\n",
      "          (4): FCNN(\n",
      "            (network): Sequential(\n",
      "              (0): Linear(in_features=5, out_features=8, bias=True)\n",
      "              (1): Tanh()\n",
      "              (2): Linear(in_features=8, out_features=8, bias=True)\n",
      "              (3): Tanh()\n",
      "              (4): Linear(in_features=8, out_features=2, bias=True)\n",
      "            )\n",
      "          )\n",
      "        )\n",
      "      )\n",
      "      (7): MAF(\n",
      "        (layers): ModuleList(\n",
      "          (0): FCNN(\n",
      "            (network): Sequential(\n",
      "              (0): Linear(in_features=1, out_features=8, bias=True)\n",
      "              (1): Tanh()\n",
      "              (2): Linear(in_features=8, out_features=8, bias=True)\n",
      "              (3): Tanh()\n",
      "              (4): Linear(in_features=8, out_features=2, bias=True)\n",
      "            )\n",
      "          )\n",
      "          (1): FCNN(\n",
      "            (network): Sequential(\n",
      "              (0): Linear(in_features=2, out_features=8, bias=True)\n",
      "              (1): Tanh()\n",
      "              (2): Linear(in_features=8, out_features=8, bias=True)\n",
      "              (3): Tanh()\n",
      "              (4): Linear(in_features=8, out_features=2, bias=True)\n",
      "            )\n",
      "          )\n",
      "          (2): FCNN(\n",
      "            (network): Sequential(\n",
      "              (0): Linear(in_features=3, out_features=8, bias=True)\n",
      "              (1): Tanh()\n",
      "              (2): Linear(in_features=8, out_features=8, bias=True)\n",
      "              (3): Tanh()\n",
      "              (4): Linear(in_features=8, out_features=2, bias=True)\n",
      "            )\n",
      "          )\n",
      "          (3): FCNN(\n",
      "            (network): Sequential(\n",
      "              (0): Linear(in_features=4, out_features=8, bias=True)\n",
      "              (1): Tanh()\n",
      "              (2): Linear(in_features=8, out_features=8, bias=True)\n",
      "              (3): Tanh()\n",
      "              (4): Linear(in_features=8, out_features=2, bias=True)\n",
      "            )\n",
      "          )\n",
      "          (4): FCNN(\n",
      "            (network): Sequential(\n",
      "              (0): Linear(in_features=5, out_features=8, bias=True)\n",
      "              (1): Tanh()\n",
      "              (2): Linear(in_features=8, out_features=8, bias=True)\n",
      "              (3): Tanh()\n",
      "              (4): Linear(in_features=8, out_features=2, bias=True)\n",
      "            )\n",
      "          )\n",
      "        )\n",
      "      )\n",
      "      (8): MAF(\n",
      "        (layers): ModuleList(\n",
      "          (0): FCNN(\n",
      "            (network): Sequential(\n",
      "              (0): Linear(in_features=1, out_features=8, bias=True)\n",
      "              (1): Tanh()\n",
      "              (2): Linear(in_features=8, out_features=8, bias=True)\n",
      "              (3): Tanh()\n",
      "              (4): Linear(in_features=8, out_features=2, bias=True)\n",
      "            )\n",
      "          )\n",
      "          (1): FCNN(\n",
      "            (network): Sequential(\n",
      "              (0): Linear(in_features=2, out_features=8, bias=True)\n",
      "              (1): Tanh()\n",
      "              (2): Linear(in_features=8, out_features=8, bias=True)\n",
      "              (3): Tanh()\n",
      "              (4): Linear(in_features=8, out_features=2, bias=True)\n",
      "            )\n",
      "          )\n",
      "          (2): FCNN(\n",
      "            (network): Sequential(\n",
      "              (0): Linear(in_features=3, out_features=8, bias=True)\n",
      "              (1): Tanh()\n",
      "              (2): Linear(in_features=8, out_features=8, bias=True)\n",
      "              (3): Tanh()\n",
      "              (4): Linear(in_features=8, out_features=2, bias=True)\n",
      "            )\n",
      "          )\n",
      "          (3): FCNN(\n",
      "            (network): Sequential(\n",
      "              (0): Linear(in_features=4, out_features=8, bias=True)\n",
      "              (1): Tanh()\n",
      "              (2): Linear(in_features=8, out_features=8, bias=True)\n",
      "              (3): Tanh()\n",
      "              (4): Linear(in_features=8, out_features=2, bias=True)\n",
      "            )\n",
      "          )\n",
      "          (4): FCNN(\n",
      "            (network): Sequential(\n",
      "              (0): Linear(in_features=5, out_features=8, bias=True)\n",
      "              (1): Tanh()\n",
      "              (2): Linear(in_features=8, out_features=8, bias=True)\n",
      "              (3): Tanh()\n",
      "              (4): Linear(in_features=8, out_features=2, bias=True)\n",
      "            )\n",
      "          )\n",
      "        )\n",
      "      )\n",
      "      (9): MAF(\n",
      "        (layers): ModuleList(\n",
      "          (0): FCNN(\n",
      "            (network): Sequential(\n",
      "              (0): Linear(in_features=1, out_features=8, bias=True)\n",
      "              (1): Tanh()\n",
      "              (2): Linear(in_features=8, out_features=8, bias=True)\n",
      "              (3): Tanh()\n",
      "              (4): Linear(in_features=8, out_features=2, bias=True)\n",
      "            )\n",
      "          )\n",
      "          (1): FCNN(\n",
      "            (network): Sequential(\n",
      "              (0): Linear(in_features=2, out_features=8, bias=True)\n",
      "              (1): Tanh()\n",
      "              (2): Linear(in_features=8, out_features=8, bias=True)\n",
      "              (3): Tanh()\n",
      "              (4): Linear(in_features=8, out_features=2, bias=True)\n",
      "            )\n",
      "          )\n",
      "          (2): FCNN(\n",
      "            (network): Sequential(\n",
      "              (0): Linear(in_features=3, out_features=8, bias=True)\n",
      "              (1): Tanh()\n",
      "              (2): Linear(in_features=8, out_features=8, bias=True)\n",
      "              (3): Tanh()\n",
      "              (4): Linear(in_features=8, out_features=2, bias=True)\n",
      "            )\n",
      "          )\n",
      "          (3): FCNN(\n",
      "            (network): Sequential(\n",
      "              (0): Linear(in_features=4, out_features=8, bias=True)\n",
      "              (1): Tanh()\n",
      "              (2): Linear(in_features=8, out_features=8, bias=True)\n",
      "              (3): Tanh()\n",
      "              (4): Linear(in_features=8, out_features=2, bias=True)\n",
      "            )\n",
      "          )\n",
      "          (4): FCNN(\n",
      "            (network): Sequential(\n",
      "              (0): Linear(in_features=5, out_features=8, bias=True)\n",
      "              (1): Tanh()\n",
      "              (2): Linear(in_features=8, out_features=8, bias=True)\n",
      "              (3): Tanh()\n",
      "              (4): Linear(in_features=8, out_features=2, bias=True)\n",
      "            )\n",
      "          )\n",
      "        )\n",
      "      )\n",
      "    )\n",
      "  )\n",
      ")\n"
     ]
    }
   ],
   "source": [
    "print(sigmodel)"
   ]
  },
  {
   "cell_type": "code",
   "execution_count": 72,
   "metadata": {},
   "outputs": [],
   "source": [
    "bs = 800\n",
    "sig_train_iterator = utils.DataLoader(total_sig, batch_size=bs, shuffle=True) \n",
    "sig_test_iterator = utils.DataLoader(total_sig, batch_size=bs)"
   ]
  },
  {
   "cell_type": "code",
   "execution_count": 98,
   "metadata": {},
   "outputs": [],
   "source": [
    "sigoptimizer = optim.Adam(sigmodel.parameters(), lr=1e-6)"
   ]
  },
  {
   "cell_type": "code",
   "execution_count": 99,
   "metadata": {},
   "outputs": [],
   "source": [
    "beta = 1"
   ]
  },
  {
   "cell_type": "code",
   "execution_count": 100,
   "metadata": {},
   "outputs": [],
   "source": [
    "def sigtrain():\n",
    "    global n_steps\n",
    "    train_loss = []\n",
    "    sigmodel.train()\n",
    "\n",
    "    for batch_idx, x in enumerate(sig_train_iterator):\n",
    "        start_time = time.time()\n",
    "        \n",
    "        x = x.float().cuda()\n",
    "\n",
    "        x_tilde, kl_div = sigmodel(x)\n",
    "        mseloss = nn.MSELoss(size_average=False)\n",
    "        huberloss = nn.SmoothL1Loss(size_average=False)\n",
    "        #loss_recons = F.binary_cross_entropy(x_tilde, x, size_average=False) / x.size(0)\n",
    "        loss_recons = mseloss(x_tilde,x ) / x.size(0)\n",
    "        #loss_recons = huberloss(x_tilde,x ) / x.size(0)\n",
    "        loss = loss_recons + beta* kl_div\n",
    "\n",
    "        sigoptimizer.zero_grad()\n",
    "        loss.backward()\n",
    "        sigoptimizer.step()\n",
    "\n",
    "        train_loss.append([loss_recons.item(), kl_div.item()])\n",
    "\n",
    "        if (batch_idx + 1) % PRINT_INTERVAL == 0:\n",
    "            print('\\tIter [{}/{} ({:.0f}%)]\\tLoss: {} Time: {:5.3f} ms/batch'.format(\n",
    "                batch_idx * len(x), 50000,\n",
    "                PRINT_INTERVAL * batch_idx / 50000,\n",
    "                np.asarray(train_loss)[-PRINT_INTERVAL:].mean(0),\n",
    "                1000 * (time.time() - start_time)\n",
    "            ))\n",
    "\n",
    "        n_steps += 1"
   ]
  },
  {
   "cell_type": "code",
   "execution_count": 101,
   "metadata": {},
   "outputs": [],
   "source": [
    "def sigevaluate(split='valid'):\n",
    "    global n_steps\n",
    "    start_time = time.time()\n",
    "    val_loss = []\n",
    "    sigmodel.eval()\n",
    "\n",
    "    with torch.no_grad():\n",
    "        for batch_idx, x in enumerate(sig_test_iterator):\n",
    "            \n",
    "            x = x.float().cuda()\n",
    "\n",
    "            x_tilde, kl_div = sigmodel(x)\n",
    "            mseloss = nn.MSELoss(size_average=False)\n",
    "            huberloss = nn.SmoothL1Loss(size_average=False)\n",
    "            #loss_recons = F.binary_cross_entropy(x_tilde, x, size_average=False) / x.size(0)\n",
    "            loss_recons = mseloss(x_tilde,x ) / x.size(0)\n",
    "            #loss_recons = huberloss(x_tilde,x ) / x.size(0)\n",
    "            loss = loss_recons + beta * kl_div\n",
    "\n",
    "            val_loss.append(loss.item())\n",
    "            #writer.add_scalar('loss/{}/ELBO'.format(split), loss.item(), n_steps)\n",
    "            #writer.add_scalar('loss/{}/reconstruction'.format(split), loss_recons.item(), n_steps)\n",
    "            #writer.add_scalar('loss/{}/KL'.format(split), kl_div.item(), n_steps)\n",
    "\n",
    "    print('\\nEvaluation Completed ({})!\\tLoss: {:5.4f} Time: {:5.3f} s'.format(\n",
    "        split,\n",
    "        np.asarray(val_loss).mean(0),\n",
    "        time.time() - start_time\n",
    "    ))\n",
    "    return np.asarray(val_loss).mean(0)"
   ]
  },
  {
   "cell_type": "code",
   "execution_count": 102,
   "metadata": {},
   "outputs": [],
   "source": [
    "ae_def = {\n",
    "    \"type\":\"sig\",\n",
    "    \"trainon\":\"BB2refined\",\n",
    "    \"features\":\"tauDDTwithm1andm1minusm2\",\n",
    "    \"architecture\":\"MAF\",\n",
    "    \"selection\":\"turnoncutandj1sdbcut0p9\",\n",
    "    \"trainloss\":\"MSELoss\",\n",
    "    \"beta\":\"beta1\",\n",
    "    \"zdimnflow\":\"z6f10\",\n",
    "}"
   ]
  },
  {
   "cell_type": "code",
   "execution_count": 103,
   "metadata": {},
   "outputs": [
    {
     "data": {
      "text/plain": [
       "{'type': 'sig',\n",
       " 'trainon': 'BB2refined',\n",
       " 'features': 'tauDDTwithm1andm1minusm2',\n",
       " 'architecture': 'MAF',\n",
       " 'selection': 'turnoncutandj1sdbcut0p9',\n",
       " 'trainloss': 'MSELoss',\n",
       " 'beta': 'beta1',\n",
       " 'zdimnflow': 'z6f10'}"
      ]
     },
     "execution_count": 103,
     "metadata": {},
     "output_type": "execute_result"
    }
   ],
   "source": [
    "ae_def"
   ]
  },
  {
   "cell_type": "code",
   "execution_count": 105,
   "metadata": {},
   "outputs": [
    {
     "name": "stdout",
     "output_type": "stream",
     "text": [
      "Epoch 1:\n",
      "\n",
      "Evaluation Completed (valid)!\tLoss: -47.8154 Time: 1.032 s\n",
      "Saving model!\n",
      "Epoch 2:\n",
      "\n",
      "Evaluation Completed (valid)!\tLoss: -47.4503 Time: 1.031 s\n",
      "Not saving model! Last saved: 1\n",
      "Epoch 3:\n",
      "\n",
      "Evaluation Completed (valid)!\tLoss: -47.8960 Time: 1.031 s\n",
      "Saving model!\n",
      "Epoch 4:\n",
      "\n",
      "Evaluation Completed (valid)!\tLoss: -47.8303 Time: 1.030 s\n",
      "Not saving model! Last saved: 3\n",
      "Epoch 5:\n",
      "\n",
      "Evaluation Completed (valid)!\tLoss: -47.9257 Time: 1.049 s\n",
      "Saving model!\n",
      "Epoch 6:\n",
      "\n",
      "Evaluation Completed (valid)!\tLoss: -48.0082 Time: 1.032 s\n",
      "Saving model!\n",
      "Epoch 7:\n",
      "\n",
      "Evaluation Completed (valid)!\tLoss: -48.0262 Time: 1.072 s\n",
      "Saving model!\n",
      "Epoch 8:\n",
      "\n",
      "Evaluation Completed (valid)!\tLoss: -48.1401 Time: 1.041 s\n",
      "Saving model!\n",
      "Epoch 9:\n",
      "\n",
      "Evaluation Completed (valid)!\tLoss: -48.1069 Time: 1.042 s\n",
      "Not saving model! Last saved: 8\n",
      "Epoch 10:\n",
      "\n",
      "Evaluation Completed (valid)!\tLoss: -48.2144 Time: 1.041 s\n",
      "Saving model!\n",
      "Epoch 11:\n",
      "\n",
      "Evaluation Completed (valid)!\tLoss: -48.2063 Time: 1.068 s\n",
      "Not saving model! Last saved: 10\n",
      "Epoch 12:\n",
      "\n",
      "Evaluation Completed (valid)!\tLoss: -48.4003 Time: 1.048 s\n",
      "Saving model!\n",
      "Epoch 13:\n",
      "\n",
      "Evaluation Completed (valid)!\tLoss: -48.2114 Time: 1.041 s\n",
      "Not saving model! Last saved: 12\n",
      "Epoch 14:\n",
      "\n",
      "Evaluation Completed (valid)!\tLoss: -48.5187 Time: 1.041 s\n",
      "Saving model!\n",
      "Epoch 15:\n",
      "\n",
      "Evaluation Completed (valid)!\tLoss: -47.9232 Time: 1.045 s\n",
      "Not saving model! Last saved: 14\n",
      "Epoch 16:\n",
      "\n",
      "Evaluation Completed (valid)!\tLoss: -48.5745 Time: 1.043 s\n",
      "Saving model!\n",
      "Epoch 17:\n",
      "\n",
      "Evaluation Completed (valid)!\tLoss: -48.4923 Time: 1.042 s\n",
      "Not saving model! Last saved: 16\n",
      "Epoch 18:\n",
      "\n",
      "Evaluation Completed (valid)!\tLoss: -48.5370 Time: 1.069 s\n",
      "Not saving model! Last saved: 16\n",
      "Epoch 19:\n",
      "\n",
      "Evaluation Completed (valid)!\tLoss: -48.5957 Time: 1.042 s\n",
      "Saving model!\n",
      "Epoch 20:\n",
      "\n",
      "Evaluation Completed (valid)!\tLoss: -48.5972 Time: 1.041 s\n",
      "Saving model!\n",
      "Epoch 21:\n",
      "\n",
      "Evaluation Completed (valid)!\tLoss: -48.7011 Time: 1.040 s\n",
      "Saving model!\n",
      "Epoch 22:\n",
      "\n",
      "Evaluation Completed (valid)!\tLoss: -48.6470 Time: 1.044 s\n",
      "Not saving model! Last saved: 21\n",
      "Epoch 23:\n",
      "\n",
      "Evaluation Completed (valid)!\tLoss: -48.6748 Time: 1.042 s\n",
      "Not saving model! Last saved: 21\n",
      "Epoch 24:\n"
     ]
    },
    {
     "ename": "KeyboardInterrupt",
     "evalue": "",
     "output_type": "error",
     "traceback": [
      "\u001b[0;31m---------------------------------------------------------------------------\u001b[0m",
      "\u001b[0;31mKeyboardInterrupt\u001b[0m                         Traceback (most recent call last)",
      "\u001b[0;32m<ipython-input-105-5ec66d49b45d>\u001b[0m in \u001b[0;36m<module>\u001b[0;34m\u001b[0m\n\u001b[1;32m      6\u001b[0m \u001b[0;32mfor\u001b[0m \u001b[0mepoch\u001b[0m \u001b[0;32min\u001b[0m \u001b[0mrange\u001b[0m\u001b[0;34m(\u001b[0m\u001b[0;36m1\u001b[0m\u001b[0;34m,\u001b[0m \u001b[0;36m1000\u001b[0m\u001b[0;34m)\u001b[0m\u001b[0;34m:\u001b[0m\u001b[0;34m\u001b[0m\u001b[0;34m\u001b[0m\u001b[0m\n\u001b[1;32m      7\u001b[0m     \u001b[0mprint\u001b[0m\u001b[0;34m(\u001b[0m\u001b[0;34m\"Epoch {}:\"\u001b[0m\u001b[0;34m.\u001b[0m\u001b[0mformat\u001b[0m\u001b[0;34m(\u001b[0m\u001b[0mepoch\u001b[0m\u001b[0;34m)\u001b[0m\u001b[0;34m)\u001b[0m\u001b[0;34m\u001b[0m\u001b[0;34m\u001b[0m\u001b[0m\n\u001b[0;32m----> 8\u001b[0;31m     \u001b[0msigtrain\u001b[0m\u001b[0;34m(\u001b[0m\u001b[0;34m)\u001b[0m\u001b[0;34m\u001b[0m\u001b[0;34m\u001b[0m\u001b[0m\n\u001b[0m\u001b[1;32m      9\u001b[0m     \u001b[0mcur_loss\u001b[0m \u001b[0;34m=\u001b[0m \u001b[0msigevaluate\u001b[0m\u001b[0;34m(\u001b[0m\u001b[0;34m)\u001b[0m\u001b[0;34m\u001b[0m\u001b[0;34m\u001b[0m\u001b[0m\n\u001b[1;32m     10\u001b[0m \u001b[0;34m\u001b[0m\u001b[0m\n",
      "\u001b[0;32m<ipython-input-100-9ea67dae86ac>\u001b[0m in \u001b[0;36msigtrain\u001b[0;34m()\u001b[0m\n\u001b[1;32m     18\u001b[0m \u001b[0;34m\u001b[0m\u001b[0m\n\u001b[1;32m     19\u001b[0m         \u001b[0msigoptimizer\u001b[0m\u001b[0;34m.\u001b[0m\u001b[0mzero_grad\u001b[0m\u001b[0;34m(\u001b[0m\u001b[0;34m)\u001b[0m\u001b[0;34m\u001b[0m\u001b[0;34m\u001b[0m\u001b[0m\n\u001b[0;32m---> 20\u001b[0;31m         \u001b[0mloss\u001b[0m\u001b[0;34m.\u001b[0m\u001b[0mbackward\u001b[0m\u001b[0;34m(\u001b[0m\u001b[0;34m)\u001b[0m\u001b[0;34m\u001b[0m\u001b[0;34m\u001b[0m\u001b[0m\n\u001b[0m\u001b[1;32m     21\u001b[0m         \u001b[0msigoptimizer\u001b[0m\u001b[0;34m.\u001b[0m\u001b[0mstep\u001b[0m\u001b[0;34m(\u001b[0m\u001b[0;34m)\u001b[0m\u001b[0;34m\u001b[0m\u001b[0;34m\u001b[0m\u001b[0m\n\u001b[1;32m     22\u001b[0m \u001b[0;34m\u001b[0m\u001b[0m\n",
      "\u001b[0;32m~/miniconda3/envs/myenv/lib/python3.6/site-packages/torch/tensor.py\u001b[0m in \u001b[0;36mbackward\u001b[0;34m(self, gradient, retain_graph, create_graph)\u001b[0m\n\u001b[1;32m    164\u001b[0m                 \u001b[0mproducts\u001b[0m\u001b[0;34m.\u001b[0m \u001b[0mDefaults\u001b[0m \u001b[0mto\u001b[0m\u001b[0;31m \u001b[0m\u001b[0;31m`\u001b[0m\u001b[0;31m`\u001b[0m\u001b[0;32mFalse\u001b[0m\u001b[0;31m`\u001b[0m\u001b[0;31m`\u001b[0m\u001b[0;34m.\u001b[0m\u001b[0;34m\u001b[0m\u001b[0;34m\u001b[0m\u001b[0m\n\u001b[1;32m    165\u001b[0m         \"\"\"\n\u001b[0;32m--> 166\u001b[0;31m         \u001b[0mtorch\u001b[0m\u001b[0;34m.\u001b[0m\u001b[0mautograd\u001b[0m\u001b[0;34m.\u001b[0m\u001b[0mbackward\u001b[0m\u001b[0;34m(\u001b[0m\u001b[0mself\u001b[0m\u001b[0;34m,\u001b[0m \u001b[0mgradient\u001b[0m\u001b[0;34m,\u001b[0m \u001b[0mretain_graph\u001b[0m\u001b[0;34m,\u001b[0m \u001b[0mcreate_graph\u001b[0m\u001b[0;34m)\u001b[0m\u001b[0;34m\u001b[0m\u001b[0;34m\u001b[0m\u001b[0m\n\u001b[0m\u001b[1;32m    167\u001b[0m \u001b[0;34m\u001b[0m\u001b[0m\n\u001b[1;32m    168\u001b[0m     \u001b[0;32mdef\u001b[0m \u001b[0mregister_hook\u001b[0m\u001b[0;34m(\u001b[0m\u001b[0mself\u001b[0m\u001b[0;34m,\u001b[0m \u001b[0mhook\u001b[0m\u001b[0;34m)\u001b[0m\u001b[0;34m:\u001b[0m\u001b[0;34m\u001b[0m\u001b[0;34m\u001b[0m\u001b[0m\n",
      "\u001b[0;32m~/miniconda3/envs/myenv/lib/python3.6/site-packages/torch/autograd/__init__.py\u001b[0m in \u001b[0;36mbackward\u001b[0;34m(tensors, grad_tensors, retain_graph, create_graph, grad_variables)\u001b[0m\n\u001b[1;32m     97\u001b[0m     Variable._execution_engine.run_backward(\n\u001b[1;32m     98\u001b[0m         \u001b[0mtensors\u001b[0m\u001b[0;34m,\u001b[0m \u001b[0mgrad_tensors\u001b[0m\u001b[0;34m,\u001b[0m \u001b[0mretain_graph\u001b[0m\u001b[0;34m,\u001b[0m \u001b[0mcreate_graph\u001b[0m\u001b[0;34m,\u001b[0m\u001b[0;34m\u001b[0m\u001b[0;34m\u001b[0m\u001b[0m\n\u001b[0;32m---> 99\u001b[0;31m         allow_unreachable=True)  # allow_unreachable flag\n\u001b[0m\u001b[1;32m    100\u001b[0m \u001b[0;34m\u001b[0m\u001b[0m\n\u001b[1;32m    101\u001b[0m \u001b[0;34m\u001b[0m\u001b[0m\n",
      "\u001b[0;31mKeyboardInterrupt\u001b[0m: "
     ]
    }
   ],
   "source": [
    "N_EPOCHS = 10\n",
    "BEST_LOSS = 99\n",
    "LAST_SAVED = -1\n",
    "PATIENCE_COUNT = 0\n",
    "PATIENCE_LIMIT = 5\n",
    "for epoch in range(1, 1000):\n",
    "    print(\"Epoch {}:\".format(epoch))\n",
    "    sigtrain()\n",
    "    cur_loss = sigevaluate()\n",
    "\n",
    "    if cur_loss <= BEST_LOSS:\n",
    "        PATIENCE_COUNT = 0\n",
    "        BEST_LOSS = cur_loss\n",
    "        LAST_SAVED = epoch\n",
    "        print(\"Saving model!\")\n",
    "        torch.save(sigmodel.state_dict(),f\"/data/t3home000/spark/QUASAR/weights/{ae_def['type']}_{ae_def['trainon']}_{ae_def['features']}_{ae_def['architecture']}_{ae_def['selection']}_{ae_def['trainloss']}_{ae_def['beta']}_{ae_def['zdimnflow']}.h5\")\n",
    "        \n",
    "    else:\n",
    "        PATIENCE_COUNT += 1\n",
    "        print(\"Not saving model! Last saved: {}\".format(LAST_SAVED))\n",
    "        if PATIENCE_COUNT > 10:\n",
    "            print(\"Patience Limit Reached\")\n",
    "            break "
   ]
  },
  {
   "cell_type": "code",
   "execution_count": 106,
   "metadata": {},
   "outputs": [
    {
     "data": {
      "text/plain": [
       "<All keys matched successfully>"
      ]
     },
     "execution_count": 106,
     "metadata": {},
     "output_type": "execute_result"
    }
   ],
   "source": [
    "sigmodel.load_state_dict(torch.load(f\"/data/t3home000/spark/QUASAR/weights/{ae_def['type']}_{ae_def['trainon']}_{ae_def['features']}_{ae_def['architecture']}_{ae_def['selection']}_{ae_def['trainloss']}_{ae_def['beta']}_{ae_def['zdimnflow']}.h5\"))"
   ]
  },
  {
   "cell_type": "code",
   "execution_count": 107,
   "metadata": {},
   "outputs": [],
   "source": [
    "sigout = sigmodel(torch.tensor(Y).float().cuda())[0]\n",
    "sigout = sigout.data.cpu().numpy()"
   ]
  },
  {
   "cell_type": "code",
   "execution_count": 112,
   "metadata": {},
   "outputs": [
    {
     "data": {
      "text/plain": [
       "<matplotlib.lines.Line2D at 0x7f312caff710>"
      ]
     },
     "execution_count": 112,
     "metadata": {},
     "output_type": "execute_result"
    },
    {
     "data": {
      "image/png": "[encoded data removed]",
      "text/plain": [
       "<Figure size 432x288 with 1 Axes>"
      ]
     },
     "metadata": {
      "needs_background": "light"
     },
     "output_type": "display_data"
    }
   ],
   "source": [
    "bins = np.linspace(-3,3,100)\n",
    "bins.shape\n",
    "column = 3\n",
    "#print(f_rnd.columns[column]\n",
    "plt.hist(Y[:,column],bins,alpha=0.5,color='b');\n",
    "plt.hist(sigout[:,column],bins,alpha=0.5,color='r');\n",
    "#plt.hist(out2[:,column],bins,alpha=0.5,color='g');\n",
    "plt.axvline(np.mean(Y[:,column]))"
   ]
  },
  {
   "cell_type": "code",
   "execution_count": 117,
   "metadata": {},
   "outputs": [],
   "source": [
    "inputlist = [\n",
    "    '/data/t3home000/spark/QUASAR/preprocessing/conventional_tau_BB1_rnd.h5',\n",
    "    '/data/t3home000/spark/QUASAR/preprocessing/conventional_tau_BB2.h5',\n",
    "    '/data/t3home000/spark/QUASAR/preprocessing/conventional_tau_BB3.h5',\n",
    "    '/data/t3home000/spark/QUASAR/preprocessing/conventional_tau_background.h5',\n",
    "    '/data/t3home000/spark/QUASAR/preprocessing/conventional_tau_rnd.h5',\n",
    "    '/data/t3home000/spark/QUASAR/preprocessing/conventional_tau_rnd.h5', \n",
    "    '/data/t3home000/spark/QUASAR/preprocessing/conventional_tau_3prong_rnd.h5' \n",
    "]"
   ]
  },
  {
   "cell_type": "code",
   "execution_count": 118,
   "metadata": {},
   "outputs": [
    {
     "data": {
      "text/plain": [
       "{'type': 'sig',\n",
       " 'trainon': 'BB2refined',\n",
       " 'features': 'tauDDTwithm1andm1minusm2',\n",
       " 'architecture': 'MAF',\n",
       " 'selection': 'turnoncutandj1sdbcut0p9',\n",
       " 'trainloss': 'MSELoss',\n",
       " 'beta': 'beta1',\n",
       " 'zdimnflow': 'z6f10'}"
      ]
     },
     "execution_count": 118,
     "metadata": {},
     "output_type": "execute_result"
    }
   ],
   "source": [
    "ae_def"
   ]
  },
  {
   "cell_type": "code",
   "execution_count": 119,
   "metadata": {},
   "outputs": [],
   "source": [
    "outputlist_waic = [\n",
    "    f\"../data_strings/{ae_def['type']}_{ae_def['trainon']}_{ae_def['features']}_{ae_def['selection']}_{ae_def['trainloss']}_{ae_def['beta']}_{ae_def['zdimnflow']}_WAICloss_bb1.npy\",\n",
    "    f\"../data_strings/{ae_def['type']}_{ae_def['trainon']}_{ae_def['features']}_{ae_def['selection']}_{ae_def['trainloss']}_{ae_def['beta']}_{ae_def['zdimnflow']}_WAICloss_bb2.npy\",\n",
    "    f\"../data_strings/{ae_def['type']}_{ae_def['trainon']}_{ae_def['features']}_{ae_def['selection']}_{ae_def['trainloss']}_{ae_def['beta']}_{ae_def['zdimnflow']}_WAICloss_bb3.npy\",\n",
    "    f\"../data_strings/{ae_def['type']}_{ae_def['trainon']}_{ae_def['features']}_{ae_def['selection']}_{ae_def['trainloss']}_{ae_def['beta']}_{ae_def['zdimnflow']}_WAICloss_purebkg.npy\",\n",
    "    f\"../data_strings/{ae_def['type']}_{ae_def['trainon']}_{ae_def['features']}_{ae_def['selection']}_{ae_def['trainloss']}_{ae_def['beta']}_{ae_def['zdimnflow']}_WAICloss_rndbkg.npy\",\n",
    "    f\"../data_strings/{ae_def['type']}_{ae_def['trainon']}_{ae_def['features']}_{ae_def['selection']}_{ae_def['trainloss']}_{ae_def['beta']}_{ae_def['zdimnflow']}_WAICloss_2prong.npy\",\n",
    "    f\"../data_strings/{ae_def['type']}_{ae_def['trainon']}_{ae_def['features']}_{ae_def['selection']}_{ae_def['trainloss']}_{ae_def['beta']}_{ae_def['zdimnflow']}_WAICloss_3prong.npy\",\n",
    "]\n",
    "\n",
    "outputlist_justloss = [\n",
    "    f\"../data_strings/{ae_def['type']}_{ae_def['trainon']}_{ae_def['features']}_{ae_def['selection']}_{ae_def['trainloss']}_{ae_def['beta']}_{ae_def['zdimnflow']}_Justloss_bb1.npy\",\n",
    "    f\"../data_strings/{ae_def['type']}_{ae_def['trainon']}_{ae_def['features']}_{ae_def['selection']}_{ae_def['trainloss']}_{ae_def['beta']}_{ae_def['zdimnflow']}_Justloss_bb2.npy\",\n",
    "    f\"../data_strings/{ae_def['type']}_{ae_def['trainon']}_{ae_def['features']}_{ae_def['selection']}_{ae_def['trainloss']}_{ae_def['beta']}_{ae_def['zdimnflow']}_Justloss_bb3.npy\",\n",
    "    f\"../data_strings/{ae_def['type']}_{ae_def['trainon']}_{ae_def['features']}_{ae_def['selection']}_{ae_def['trainloss']}_{ae_def['beta']}_{ae_def['zdimnflow']}_Justloss_purebkg.npy\",\n",
    "    f\"../data_strings/{ae_def['type']}_{ae_def['trainon']}_{ae_def['features']}_{ae_def['selection']}_{ae_def['trainloss']}_{ae_def['beta']}_{ae_def['zdimnflow']}_Justloss_rndbkg.npy\",\n",
    "    f\"../data_strings/{ae_def['type']}_{ae_def['trainon']}_{ae_def['features']}_{ae_def['selection']}_{ae_def['trainloss']}_{ae_def['beta']}_{ae_def['zdimnflow']}_Justloss_2prong.npy\",\n",
    "    f\"../data_strings/{ae_def['type']}_{ae_def['trainon']}_{ae_def['features']}_{ae_def['selection']}_{ae_def['trainloss']}_{ae_def['beta']}_{ae_def['zdimnflow']}_Justloss_3prong.npy\",\n",
    "]"
   ]
  },
  {
   "cell_type": "code",
   "execution_count": 120,
   "metadata": {},
   "outputs": [],
   "source": [
    "exist_signalflag = [\n",
    "    False,\n",
    "    False,\n",
    "    False,\n",
    "    False,\n",
    "    True,\n",
    "    True,\n",
    "    True,\n",
    "]\n",
    "is_signal = [\n",
    "    False,\n",
    "    False,\n",
    "    False,\n",
    "    False,\n",
    "    False,\n",
    "    True,\n",
    "    True\n",
    "]\n",
    "\n",
    "nprong = [\n",
    "    None,\n",
    "    None,\n",
    "    None,\n",
    "    None,\n",
    "    None,\n",
    "    '2prong',\n",
    "    '3prong'\n",
    "]"
   ]
  },
  {
   "cell_type": "code",
   "execution_count": 124,
   "metadata": {},
   "outputs": [
    {
     "name": "stdout",
     "output_type": "stream",
     "text": [
      "(239348, 16)\n",
      "[0.5621231  0.7257408  1.5456731  4.4727592  1.7192183  0.63712144\n",
      " 0.87706244 1.4546484  1.1553826  0.7346349 ]\n",
      "(242090, 16)\n",
      "[2.198793   1.2428405  0.40043712 0.8065294  1.3725975  0.74437785\n",
      " 1.089239   3.7420623  0.6250814  5.131377  ]\n",
      "(231654, 16)\n",
      "[1.4239047  1.2951014  1.4519202  1.830255   0.85408366 2.79452\n",
      " 0.6290309  3.7436433  0.7428176  0.77418315]\n",
      "(232418, 16)\n",
      "[1.6825635  0.68195534 1.64975    0.54647213 0.86837137 1.2845922\n",
      " 0.64988124 6.31655    0.72260743 3.52882   ]\n",
      "(263134, 16)\n",
      "[2.3111129 1.1483724 1.552469  1.1572509 0.7856333 1.0748676 2.098085\n",
      " 1.0541561 8.431256  0.9474761]\n",
      "(55539, 16)\n",
      "[1.2590189  0.34811112 1.9349219  2.5537033  0.9885986  0.46951413\n",
      " 1.0730138  0.8460488  1.9784346  1.7014263 ]\n",
      "(56525, 16)\n",
      "[ 0.5981696  19.111599    0.5106672   1.0296744   1.4274571   1.2144661\n",
      "  0.87782335  0.80631435  2.2813685   0.97662854]\n"
     ]
    },
    {
     "data": {
      "image/png": "[encoded data removed]",
      "text/plain": [
       "<Figure size 432x288 with 1 Axes>"
      ]
     },
     "metadata": {
      "needs_background": "light"
     },
     "output_type": "display_data"
    }
   ],
   "source": [
    "for in_file, out_file_waic, out_file_justloss, sigbit_flag, is_sig, n_prong in zip(inputlist,outputlist_waic,outputlist_justloss,exist_signalflag,is_signal, nprong):    \n",
    "    \n",
    "    f_bb = pd.read_hdf(in_file)\n",
    "    dt = f_bb.values\n",
    "    correct = (dt[:,3]>0) &(dt[:,19]>0) & (dt[:,1]>0) & (dt[:,2]>0) &(dt[:,2]>0) & (dt[:,16]>0) & (dt[:,32]>0)\n",
    "    dt = dt[correct]\n",
    "    for i in range(13,19):\n",
    "        dt[:,i] = dt[:,i]/dt[:,3]\n",
    "\n",
    "    for i in range(29,35):\n",
    "        dt[:,i] = dt[:,i]/(dt[:,19])\n",
    "\n",
    "\n",
    "    correct = (dt[:,16]>0) & (dt[:,29]>=0) &(dt[:,29]<=1)&(dt[:,30]>=0) &(dt[:,30]<=1)&(dt[:,31]>=0) &(dt[:,31]<=1)&(dt[:,32]>=0) &(dt[:,32]<=1)&(dt[:,33]>=0) &(dt[:,33]<=1)&(dt[:,34]>=-0.01) &(dt[:,34]<=1)\n",
    "    dt = dt[correct]\n",
    "    correct = (dt[:,3]>100)\n",
    "    dt = dt[correct]\n",
    "\n",
    "    correct = (dt[:,19]>20)\n",
    "    dt = dt[correct]\n",
    "\n",
    "    correct = (dt[:,0]>=2800)\n",
    "    dt = dt[correct]\n",
    "\n",
    "    bsmlike = np.where(dt[:,16]>0.9)[0]\n",
    "    dt = dt[bsmlike]\n",
    "    \n",
    "    j1sdb = dt[:,3]*dt[:,16]\n",
    "    j2sdb = dt[:,19]*dt[:,32]\n",
    "\n",
    "    pt = dt[:,1]\n",
    "    m = j1sdb[:]\n",
    "    m2 = j2sdb[:]\n",
    "    tau21 = dt[:,4]\n",
    "    tau32 = dt[:,5]\n",
    "    tau43 = dt[:,6]\n",
    "    tau54 = dt[:,7]\n",
    "    tau65 = dt[:,8]\n",
    "    massratio = dt[:,16]\n",
    "\n",
    "    rho = np.log((m*m)/(pt*pt))\n",
    "    rhoprime = np.log((m*m)/(pt*1))\n",
    "\n",
    "    tau21prime = tau21 + rhoprime * 0.088\n",
    "    tau32prime = tau32 + rhoprime * 0.025\n",
    "    tau43prime = tau43 + rhoprime * 0.01\n",
    "    tau54prime = tau54 + rhoprime * 0.001\n",
    "\n",
    "    j2pt = dt[:,2]\n",
    "    #m = j1sdb[mrange]\n",
    "    j2m = j2sdb[:]\n",
    "    j2tau21 = dt[:,20]\n",
    "    j2tau32 = dt[:,21]\n",
    "    j2tau43 = dt[:,22]\n",
    "    j2tau54 = dt[:,23]\n",
    "    j2tau65 = dt[:,24]\n",
    "    j2massratio = dt[:,32]\n",
    "\n",
    "\n",
    "    j2rho = np.log((j2m*j2m)/(j2pt*j2pt))\n",
    "    j2rhoprime = np.log((j2m*j2m)/(j2pt*1))\n",
    "\n",
    "    j2tau21prime = j2tau21 + j2rhoprime * 0.086\n",
    "    j2tau32prime = j2tau32 + j2rhoprime * 0.025\n",
    "    j2tau43prime = j2tau43 + j2rhoprime * 0.01\n",
    "    j2tau54prime = j2tau54 + j2rhoprime * 0.001\n",
    "    \n",
    "    dt[:,4] = tau21prime\n",
    "    dt[:,5] = tau32prime\n",
    "    dt[:,6] = tau43prime\n",
    "    dt[:,7] = tau54prime\n",
    "\n",
    "    dt[:,20] = j2tau21prime \n",
    "    dt[:,21] = j2tau32prime\n",
    "    dt[:,22] = j2tau43prime\n",
    "    dt[:,23] = j2tau54prime\n",
    "    \n",
    "    if sigbit_flag:\n",
    "        idx = dt[:,-1]\n",
    "        sigidx = (idx == 1)\n",
    "        bkgidx = (idx == 0)\n",
    "        if is_sig:\n",
    "            dt = dt[sigidx]\n",
    "        else:\n",
    "            dt = dt[bkgidx]\n",
    "            \n",
    "    if n_prong == '2prong':\n",
    "        correct = dt[:,3] > 300\n",
    "        dt = dt[correct]\n",
    "    \n",
    "    if n_prong == '3prong':\n",
    "        correct = dt[:,3] > 400\n",
    "        dt = dt[correct]    \n",
    "    \n",
    "    m1minusm2 = dt[:,3] - dt[:,19] \n",
    "\n",
    "    dt[:,19] = m1minusm2\n",
    "    Y = dt[:,[3,4,5,6,7,8,11,12,19,20,21,22,23,24,27,28]]\n",
    "    #Y = dt[:,[3,4,5,6,11,12,13,14,15,16,17,18,19,20,21,22,27,28,29,30,31,32,33,34]]\n",
    "    #Y = dt[:,[3,4,5,6,11,12,13,14,15,16,17,18,19,20,21,22,27,28,29,30,31,32,33,34]]\n",
    "    #Y = dt[:,[3,4,5,6,11,12,19,20,21,22,27,28]]\n",
    "    \n",
    "\n",
    "        \n",
    "    \n",
    "            \n",
    "    print(Y.shape)\n",
    "    for i in range(16):\n",
    "        Y[:,i] = (Y[:,i]-sig_mean[i])/sig_std[i]\n",
    "    \n",
    "    total_bb_test = torch.tensor(Y)\n",
    "    #huberloss = nn.SmoothL1Loss(reduction='none')\n",
    "    sigae_bbloss = torch.mean((sigmodel(total_bb_test.float().cuda())[0]- total_bb_test.float().cuda())**2,dim=1).data.cpu().numpy()\n",
    "    bbvar = torch.var((sigmodel(total_bb_test.float().cuda())[0]- total_bb_test.float().cuda())**2,dim=1).data.cpu().numpy()\n",
    "    waic = sigae_bbloss + bbvar\n",
    "    #sigae_bbloss = torch.mean(huberloss(model(total_bb_test.float().cuda())[0],total_bb_test.float().cuda()),dim=1).data.cpu().numpy()\n",
    "    print(waic[0:10])\n",
    "    plt.hist(waic,bins=np.linspace(0,10,1001),density=True);\n",
    "    plt.xlim([0,2])\n",
    "    np.save(out_file_waic,waic)\n",
    "    np.save(out_file_justloss,sigae_bbloss)"
   ]
  },
  {
   "cell_type": "code",
   "execution_count": 122,
   "metadata": {},
   "outputs": [],
   "source": [
    "loss_prong3 = np.load(f\"../data_strings/{ae_def['type']}_{ae_def['trainon']}_{ae_def['features']}_{ae_def['selection']}_{ae_def['trainloss']}_{ae_def['beta']}_{ae_def['zdimnflow']}_Justloss_3prong.npy\")\n",
    "loss_prong2 = np.load(f\"../data_strings/{ae_def['type']}_{ae_def['trainon']}_{ae_def['features']}_{ae_def['selection']}_{ae_def['trainloss']}_{ae_def['beta']}_{ae_def['zdimnflow']}_Justloss_2prong.npy\")\n",
    "loss_purebkg = np.load(f\"../data_strings/{ae_def['type']}_{ae_def['trainon']}_{ae_def['features']}_{ae_def['selection']}_{ae_def['trainloss']}_{ae_def['beta']}_{ae_def['zdimnflow']}_Justloss_purebkg.npy\")\n",
    "loss_rndbkg = np.load(f\"../data_strings/{ae_def['type']}_{ae_def['trainon']}_{ae_def['features']}_{ae_def['selection']}_{ae_def['trainloss']}_{ae_def['beta']}_{ae_def['zdimnflow']}_Justloss_rndbkg.npy\")\n",
    "\n",
    "\n",
    "\n",
    "\n"
   ]
  },
  {
   "cell_type": "code",
   "execution_count": 123,
   "metadata": {},
   "outputs": [
    {
     "data": {
      "text/plain": [
       "<matplotlib.legend.Legend at 0x7f3120bf7208>"
      ]
     },
     "execution_count": 123,
     "metadata": {},
     "output_type": "execute_result"
    },
    {
     "data": {
      "image/png": "[encoded data removed]",
      "text/plain": [
       "<Figure size 432x288 with 1 Axes>"
      ]
     },
     "metadata": {
      "needs_background": "light"
     },
     "output_type": "display_data"
    }
   ],
   "source": [
    "plt.hist(loss_purebkg,bins=np.linspace(0,4,100),density=False,alpha=0.3,label='Pure Bkg');\n",
    "#plt.hist(loss_rndbkg,bins=np.linspace(0,2,100),density=False,alpha=0.3,label='(rnd) bkg');\n",
    "\n",
    "plt.hist(loss_prong2,bins=np.linspace(0,4,100),density=False,alpha=0.3,label='2prong (rnd)sig');\n",
    "plt.hist(loss_prong3,bins=np.linspace(0,4,100),density=False,alpha=0.3,label='3prong (rnd)sig');\n",
    "#plt.yscale('log')\n",
    "plt.xlabel('Loss (SigAE trained on 2prong sig)')\n",
    "plt.legend(loc='upper right')\n",
    "#plt.savefig('sigae_trained_on_2prongsig.png')"
   ]
  },
  {
   "cell_type": "code",
   "execution_count": 126,
   "metadata": {},
   "outputs": [
    {
     "data": {
      "text/plain": [
       "{'type': 'sig',\n",
       " 'trainon': 'BB2refined',\n",
       " 'features': 'tauDDTwithm1andm1minusm2',\n",
       " 'architecture': 'MAF',\n",
       " 'selection': 'turnoncutandj1sdbcut0p9',\n",
       " 'trainloss': 'MSELoss',\n",
       " 'beta': 'beta1',\n",
       " 'zdimnflow': 'z6f10'}"
      ]
     },
     "execution_count": 126,
     "metadata": {},
     "output_type": "execute_result"
    }
   ],
   "source": [
    "ae_def"
   ]
  },
  {
   "cell_type": "code",
   "execution_count": 44,
   "metadata": {
    "scrolled": true
   },
   "outputs": [
    {
     "data": {
      "text/plain": [
       "55539"
      ]
     },
     "execution_count": 44,
     "metadata": {},
     "output_type": "execute_result"
    }
   ],
   "source": [
    "len(loss_prong2)"
   ]
  },
  {
   "cell_type": "code",
   "execution_count": 41,
   "metadata": {},
   "outputs": [
    {
     "data": {
      "text/plain": [
       "['../data_strings/sig_2prong_tauDDTwithoutrawmass_turnoncutandj1sdbcut0p9_MSELoss_beta1_z6f10_WAICloss_bb1.npy',\n",
       " '../data_strings/sig_2prong_tauDDTwithoutrawmass_turnoncutandj1sdbcut0p9_MSELoss_beta1_z6f10_WAICloss_bb2.npy',\n",
       " '../data_strings/sig_2prong_tauDDTwithoutrawmass_turnoncutandj1sdbcut0p9_MSELoss_beta1_z6f10_WAICloss_bb3.npy',\n",
       " '../data_strings/sig_2prong_tauDDTwithoutrawmass_turnoncutandj1sdbcut0p9_MSELoss_beta1_z6f10_WAICloss_purebkg.npy',\n",
       " '../data_strings/sig_2prong_tauDDTwithoutrawmass_turnoncutandj1sdbcut0p9_MSELoss_beta1_z6f10_WAICloss_rndbkg.npy',\n",
       " '../data_strings/sig_2prong_tauDDTwithoutrawmass_turnoncutandj1sdbcut0p9_MSELoss_beta1_z6f10_WAICloss_2prong.npy',\n",
       " '../data_strings/sig_2prong_tauDDTwithoutrawmass_turnoncutandj1sdbcut0p9_MSELoss_beta1_z6f10_WAICloss_3prong.npy']"
      ]
     },
     "execution_count": 41,
     "metadata": {},
     "output_type": "execute_result"
    }
   ],
   "source": [
    "outputlist_waic"
   ]
  },
  {
   "cell_type": "code",
   "execution_count": 42,
   "metadata": {},
   "outputs": [
    {
     "data": {
      "text/plain": [
       "['../data_strings/sig_2prong_tauDDTwithoutrawmass_turnoncutandj1sdbcut0p9_MSELoss_beta1_z6f10_Justloss_bb1.npy',\n",
       " '../data_strings/sig_2prong_tauDDTwithoutrawmass_turnoncutandj1sdbcut0p9_MSELoss_beta1_z6f10_Justloss_bb2.npy',\n",
       " '../data_strings/sig_2prong_tauDDTwithoutrawmass_turnoncutandj1sdbcut0p9_MSELoss_beta1_z6f10_Justloss_bb3.npy',\n",
       " '../data_strings/sig_2prong_tauDDTwithoutrawmass_turnoncutandj1sdbcut0p9_MSELoss_beta1_z6f10_Justloss_purebkg.npy',\n",
       " '../data_strings/sig_2prong_tauDDTwithoutrawmass_turnoncutandj1sdbcut0p9_MSELoss_beta1_z6f10_Justloss_rndbkg.npy',\n",
       " '../data_strings/sig_2prong_tauDDTwithoutrawmass_turnoncutandj1sdbcut0p9_MSELoss_beta1_z6f10_Justloss_2prong.npy',\n",
       " '../data_strings/sig_2prong_tauDDTwithoutrawmass_turnoncutandj1sdbcut0p9_MSELoss_beta1_z6f10_Justloss_3prong.npy']"
      ]
     },
     "execution_count": 42,
     "metadata": {},
     "output_type": "execute_result"
    }
   ],
   "source": [
    "outputlist_justloss"
   ]
  },
  {
   "cell_type": "code",
   "execution_count": 34,
   "metadata": {},
   "outputs": [
    {
     "data": {
      "text/plain": [
       "array([ 2832.3672,  8125.47  , 29922.496 , ...,  2359.0386,  2635.9333,\n",
       "         640.2169], dtype=float32)"
      ]
     },
     "execution_count": 34,
     "metadata": {},
     "output_type": "execute_result"
    }
   ],
   "source": [
    "sigae_bbloss"
   ]
  },
  {
   "cell_type": "code",
   "execution_count": 140,
   "metadata": {
    "scrolled": true
   },
   "outputs": [
    {
     "data": {
      "text/plain": [
       "{'type': 'sig',\n",
       " 'trainon': '2prong',\n",
       " 'features': 'tauDDTwithoutrawmass',\n",
       " 'architecture': 'MAF',\n",
       " 'selection': 'turnoncutandj1sdbcut0p9',\n",
       " 'trainloss': 'MSELoss',\n",
       " 'beta': 'beta1',\n",
       " 'zdimnflow': 'z6f10'}"
      ]
     },
     "execution_count": 140,
     "metadata": {},
     "output_type": "execute_result"
    }
   ],
   "source": [
    "ae_def"
   ]
  },
  {
   "cell_type": "code",
   "execution_count": 141,
   "metadata": {
    "scrolled": true
   },
   "outputs": [
    {
     "data": {
      "text/plain": [
       "array([0.46685678, 1.5879018 , 0.58936137, ..., 0.59082854, 0.70994604,\n",
       "       0.70424944], dtype=float32)"
      ]
     },
     "execution_count": 141,
     "metadata": {},
     "output_type": "execute_result"
    }
   ],
   "source": [
    "sigae_bbloss"
   ]
  },
  {
   "cell_type": "code",
   "execution_count": 142,
   "metadata": {},
   "outputs": [
    {
     "data": {
      "image/png": "[encoded data removed]",
      "text/plain": [
       "<Figure size 432x288 with 1 Axes>"
      ]
     },
     "metadata": {
      "needs_background": "light"
     },
     "output_type": "display_data"
    }
   ],
   "source": [
    "plt.hist(sigae_bbloss,bins=np.linspace(0,10,1001));"
   ]
  },
  {
   "cell_type": "code",
   "execution_count": 60,
   "metadata": {},
   "outputs": [],
   "source": [
    "np.save('../data_strings/sigae_2prong_loss_bb3.npy',sigae_bbloss)"
   ]
  },
  {
   "cell_type": "code",
   "execution_count": null,
   "metadata": {},
   "outputs": [],
   "source": []
  },
  {
   "cell_type": "code",
   "execution_count": null,
   "metadata": {},
   "outputs": [],
   "source": []
  },
  {
   "cell_type": "code",
   "execution_count": 211,
   "metadata": {},
   "outputs": [],
   "source": [
    "X_bkg = dt[:,[3,4,5,6,11,12,19,20,21,22,27,28]]\n",
    "X_bkg = X_bkg[bkg_idx]"
   ]
  },
  {
   "cell_type": "code",
   "execution_count": 212,
   "metadata": {},
   "outputs": [],
   "source": [
    "for i in range(12):\n",
    "    X_bkg[:,i] = (X_bkg[:,i]-sig_mean[i])/sig_std[i]"
   ]
  },
  {
   "cell_type": "code",
   "execution_count": 161,
   "metadata": {},
   "outputs": [],
   "source": [
    "total_bkg_test = torch.tensor(X_bkg)"
   ]
  },
  {
   "cell_type": "code",
   "execution_count": 162,
   "metadata": {},
   "outputs": [],
   "source": [
    "sigae_bkgloss = torch.mean((sigmodel(total_bkg_test.float().cuda())[0]- total_bkg_test.float().cuda())**2,dim=1).data.cpu().numpy()"
   ]
  },
  {
   "cell_type": "code",
   "execution_count": 163,
   "metadata": {},
   "outputs": [],
   "source": [
    "sigae_sigloss = torch.mean((sigmodel(total_sig.float().cuda())[0]- total_sig.float().cuda())**2,dim=1).data.cpu().numpy()"
   ]
  },
  {
   "cell_type": "code",
   "execution_count": 176,
   "metadata": {},
   "outputs": [],
   "source": [
    "f_3prong = pd.read_hdf(\"/data/t3home000/spark/QUASAR/preprocessing/conventional_tau_3prong_rnd.h5\")"
   ]
  },
  {
   "cell_type": "code",
   "execution_count": null,
   "metadata": {},
   "outputs": [],
   "source": []
  },
  {
   "cell_type": "code",
   "execution_count": null,
   "metadata": {},
   "outputs": [],
   "source": []
  },
  {
   "cell_type": "code",
   "execution_count": 309,
   "metadata": {},
   "outputs": [],
   "source": [
    "f_bb1 = pd.read_hdf('/data/t3home000/spark/QUASAR/preprocessing/conventional_tau_BB1_rnd.h5')"
   ]
  },
  {
   "cell_type": "code",
   "execution_count": 310,
   "metadata": {},
   "outputs": [],
   "source": [
    "dt_bb1 = f_bb1.values"
   ]
  },
  {
   "cell_type": "code",
   "execution_count": 311,
   "metadata": {},
   "outputs": [],
   "source": [
    "X_bb1 = dt_bb1[:,[3,4,5,6,11,12,19,20,21,22,27,28]]"
   ]
  },
  {
   "cell_type": "code",
   "execution_count": 312,
   "metadata": {},
   "outputs": [
    {
     "data": {
      "text/plain": [
       "(1000000, 12)"
      ]
     },
     "execution_count": 312,
     "metadata": {},
     "output_type": "execute_result"
    }
   ],
   "source": [
    "X_bb1.shape"
   ]
  },
  {
   "cell_type": "code",
   "execution_count": 313,
   "metadata": {},
   "outputs": [
    {
     "data": {
      "text/plain": [
       "[416.4436327724198,\n",
       " 0.259460143970101,\n",
       " 0.6475599434564594,\n",
       " 0.7747571031756559,\n",
       " 1.4414801240204307,\n",
       " 232.28881387172063,\n",
       " 115.19219609387073,\n",
       " 0.4000458937255977,\n",
       " 0.6497184345343743,\n",
       " 0.7592483240780288,\n",
       " 1.5724873295094448,\n",
       " 139.77741938715204]"
      ]
     },
     "execution_count": 313,
     "metadata": {},
     "output_type": "execute_result"
    }
   ],
   "source": [
    "sig_mean"
   ]
  },
  {
   "cell_type": "code",
   "execution_count": 314,
   "metadata": {},
   "outputs": [
    {
     "data": {
      "text/plain": [
       "[154.19379540115423,\n",
       " 0.17056704944179107,\n",
       " 0.14978212617036485,\n",
       " 0.09894407762923978,\n",
       " 0.4886539241053714,\n",
       " 87.70941099970253,\n",
       " 49.68849330603538,\n",
       " 0.1622952691607605,\n",
       " 0.14863130231138283,\n",
       " 0.10503384225762816,\n",
       " 0.6713928483438475,\n",
       " 48.672440905600446]"
      ]
     },
     "execution_count": 314,
     "metadata": {},
     "output_type": "execute_result"
    }
   ],
   "source": [
    "sig_std"
   ]
  },
  {
   "cell_type": "code",
   "execution_count": 315,
   "metadata": {},
   "outputs": [],
   "source": [
    "for i in range(12):\n",
    "    X_bb1[:,i] = (X_bb1[:,i]-sig_mean[i])/sig_std[i]"
   ]
  },
  {
   "cell_type": "code",
   "execution_count": 317,
   "metadata": {},
   "outputs": [
    {
     "data": {
      "text/plain": [
       "(array([246458., 189649., 134796.,  95188.,  64278.,  40409.,  20912.,\n",
       "          9337.,   4219.]),\n",
       " array([-2.        , -1.55555556, -1.11111111, -0.66666667, -0.22222222,\n",
       "         0.22222222,  0.66666667,  1.11111111,  1.55555556,  2.        ]),\n",
       " <a list of 9 Patch objects>)"
      ]
     },
     "execution_count": 317,
     "metadata": {},
     "output_type": "execute_result"
    },
    {
     "data": {
      "image/png": "[encoded data removed]",
      "text/plain": [
       "<Figure size 720x720 with 1 Axes>"
      ]
     },
     "metadata": {
      "needs_background": "light"
     },
     "output_type": "display_data"
    }
   ],
   "source": [
    "plt.hist(X_bb1[:,0],bins = np.linspace(-2,2,10))"
   ]
  },
  {
   "cell_type": "code",
   "execution_count": null,
   "metadata": {},
   "outputs": [],
   "source": []
  },
  {
   "cell_type": "code",
   "execution_count": 318,
   "metadata": {},
   "outputs": [
    {
     "ename": "TypeError",
     "evalue": "'type' object is not iterable",
     "output_type": "error",
     "traceback": [
      "\u001b[0;31m---------------------------------------------------------------------------\u001b[0m",
      "\u001b[0;31mTypeError\u001b[0m                                 Traceback (most recent call last)",
      "\u001b[0;32m<ipython-input-318-3425ef769b7f>\u001b[0m in \u001b[0;36m<module>\u001b[0;34m\u001b[0m\n\u001b[0;32m----> 1\u001b[0;31m \u001b[0;34m(\u001b[0m\u001b[0mtorch\u001b[0m\u001b[0;34m.\u001b[0m\u001b[0mtensor\u001b[0m\u001b[0;34m(\u001b[0m\u001b[0mdt\u001b[0m\u001b[0;34m[\u001b[0m\u001b[0mi\u001b[0m \u001b[0;34m*\u001b[0m \u001b[0mchunk_size\u001b[0m\u001b[0;34m:\u001b[0m\u001b[0;34m(\u001b[0m\u001b[0mi\u001b[0m \u001b[0;34m+\u001b[0m \u001b[0;36m1\u001b[0m\u001b[0;34m)\u001b[0m \u001b[0;34m*\u001b[0m \u001b[0mchunk_size\u001b[0m\u001b[0;34m]\u001b[0m\u001b[0;34m)\u001b[0m \u001b[0;32mfor\u001b[0m \u001b[0mi\u001b[0m \u001b[0;32min\u001b[0m \u001b[0mrange\u001b[0m \u001b[0;34m)\u001b[0m\u001b[0;34m\u001b[0m\u001b[0;34m\u001b[0m\u001b[0m\n\u001b[0m",
      "\u001b[0;31mTypeError\u001b[0m: 'type' object is not iterable"
     ]
    }
   ],
   "source": [
    "(torch.tensor(dt[i * chunk_size:(i + 1) * chunk_size]) for i in range ) "
   ]
  },
  {
   "cell_type": "code",
   "execution_count": 319,
   "metadata": {},
   "outputs": [],
   "source": [
    "def get_loss(dt):\n",
    "    \n",
    "    chunk_size=5000 \n",
    "    total_size=1000000\n",
    "    i = 0\n",
    "    i_max = total_size // chunk_size\n",
    "\n",
    "    print(i_max)\n",
    "    \n",
    "    \n",
    "    \n",
    "    gen = (torch.tensor(dt[i*chunk_size: (i + 1) * chunk_size]) for i in range(i_max)) \n",
    "\n",
    "        \n",
    "    with torch.no_grad():\n",
    "        \n",
    "        loss = [\n",
    "            n\n",
    "            for total_in_selection in gen\n",
    "            for n in torch.mean((sigmodel(total_in_selection.float().cuda())[0]- total_in_selection.float().cuda())**2,dim=1).data.cpu().numpy()\n",
    "        ]\n",
    "        \n",
    "    return loss"
   ]
  },
  {
   "cell_type": "code",
   "execution_count": 287,
   "metadata": {},
   "outputs": [],
   "source": [
    "def get_loss(dt):\n",
    "    \n",
    "    def generator(dt, chunk_size=5000, total_size=1000000):\n",
    "\n",
    "        i = 0\n",
    "        i_max = total_size // chunk_size\n",
    "        print(i_max)\n",
    "    \n",
    "        for i in range(i_max):\n",
    "            start=i * chunk_size\n",
    "            stop=(i + 1) * chunk_size\n",
    "            yield torch.tensor(dt[start:stop])\n",
    "        \n",
    "    loss = []\n",
    "\n",
    "    \n",
    "    with torch.no_grad():\n",
    "        \n",
    "        for total_in_selection in generator(dt,chunk_size=5000, total_size=1000000):\n",
    "            loss.extend(torch.mean((sigmodel(total_in_selection.float().cuda())[0]- total_in_selection.float().cuda())**2,dim=1).data.cpu().numpy())\n",
    "    \n",
    "    return loss"
   ]
  },
  {
   "cell_type": "code",
   "execution_count": 320,
   "metadata": {},
   "outputs": [
    {
     "name": "stdout",
     "output_type": "stream",
     "text": [
      "200\n"
     ]
    }
   ],
   "source": [
    "bb1_loss_sig = get_loss(X_bb1)"
   ]
  },
  {
   "cell_type": "code",
   "execution_count": 321,
   "metadata": {},
   "outputs": [],
   "source": [
    "bb1_loss_sig = np.array(bb1_loss_sig,dtype=np.float)"
   ]
  },
  {
   "cell_type": "code",
   "execution_count": 322,
   "metadata": {},
   "outputs": [
    {
     "name": "stdout",
     "output_type": "stream",
     "text": [
      "[1.90564466 0.96934295 1.35960376 ... 0.59359992 2.21692467 2.44283652]\n"
     ]
    }
   ],
   "source": [
    "print(bb1_loss_sig)"
   ]
  },
  {
   "cell_type": "code",
   "execution_count": 323,
   "metadata": {},
   "outputs": [
    {
     "data": {
      "image/png": "[encoded data removed]",
      "text/plain": [
       "<Figure size 720x720 with 1 Axes>"
      ]
     },
     "metadata": {
      "needs_background": "light"
     },
     "output_type": "display_data"
    }
   ],
   "source": [
    "plt.hist(bb1_loss_sig,bins=np.linspace(0,100,1001));"
   ]
  },
  {
   "cell_type": "code",
   "execution_count": 324,
   "metadata": {},
   "outputs": [],
   "source": [
    "np.save('../data_strings/sigaeloss_bb1.npy',bb1_loss_sig)"
   ]
  },
  {
   "cell_type": "code",
   "execution_count": null,
   "metadata": {},
   "outputs": [],
   "source": []
  },
  {
   "cell_type": "code",
   "execution_count": null,
   "metadata": {},
   "outputs": [],
   "source": []
  },
  {
   "cell_type": "code",
   "execution_count": 177,
   "metadata": {},
   "outputs": [],
   "source": [
    "dt_3prong = f_3prong.values"
   ]
  },
  {
   "cell_type": "code",
   "execution_count": 178,
   "metadata": {},
   "outputs": [],
   "source": [
    "Z = dt_3prong[:,[3,4,5,6,11,12,19,20,21,22,27,28]]"
   ]
  },
  {
   "cell_type": "code",
   "execution_count": 179,
   "metadata": {},
   "outputs": [
    {
     "data": {
      "text/plain": [
       "(100000, 12)"
      ]
     },
     "execution_count": 179,
     "metadata": {},
     "output_type": "execute_result"
    }
   ],
   "source": [
    "Z.shape"
   ]
  },
  {
   "cell_type": "code",
   "execution_count": 180,
   "metadata": {},
   "outputs": [],
   "source": [
    "for i in range(12):\n",
    "    Z[:,i] = (Z[:,i]-sig_mean[i])/sig_std[i]"
   ]
  },
  {
   "cell_type": "code",
   "execution_count": 181,
   "metadata": {},
   "outputs": [],
   "source": [
    "total_3prong = torch.tensor(Z)"
   ]
  },
  {
   "cell_type": "code",
   "execution_count": null,
   "metadata": {},
   "outputs": [],
   "source": []
  },
  {
   "cell_type": "code",
   "execution_count": 199,
   "metadata": {},
   "outputs": [],
   "source": [
    "bkgae_bkgloss = torch.mean((model(total_bkg_test.float().cuda())[0]- total_bkg_test.float().cuda())**2,dim=1).data.cpu().numpy()"
   ]
  },
  {
   "cell_type": "code",
   "execution_count": null,
   "metadata": {},
   "outputs": [],
   "source": [
    "bkgae_3prongloss = torch.mean((model(total_3prong.float().cuda())[0]- total_3prong.float().cuda())**2,dim=1).data.cpu().numpy()"
   ]
  },
  {
   "cell_type": "code",
   "execution_count": 182,
   "metadata": {},
   "outputs": [],
   "source": [
    "sigae_3prongloss = torch.mean((sigmodel(total_3prong.float().cuda())[0]- total_3prong.float().cuda())**2,dim=1).data.cpu().numpy()"
   ]
  },
  {
   "cell_type": "code",
   "execution_count": 183,
   "metadata": {},
   "outputs": [
    {
     "data": {
      "text/plain": [
       "(100000,)"
      ]
     },
     "execution_count": 183,
     "metadata": {},
     "output_type": "execute_result"
    }
   ],
   "source": [
    "sigae_3prongloss.shape"
   ]
  },
  {
   "cell_type": "code",
   "execution_count": 216,
   "metadata": {},
   "outputs": [
    {
     "data": {
      "text/plain": [
       "Text(0.5, 0, 'Signal AE Loss')"
      ]
     },
     "execution_count": 216,
     "metadata": {},
     "output_type": "execute_result"
    },
    {
     "data": {
      "image/png": "[encoded data removed]",
      "text/plain": [
       "<Figure size 720x720 with 1 Axes>"
      ]
     },
     "metadata": {
      "needs_background": "light"
     },
     "output_type": "display_data"
    }
   ],
   "source": [
    "bins = np.linspace(0,10,1001)\n",
    "plt.hist(sigae_sigloss,bins,weights = np.ones(len(signal_idx))*10,alpha=0.4,color='r',label='2 prong signal');\n",
    "plt.hist(sigae_3prongloss,bins,weights = np.ones(100000)*10,alpha=0.5,color='g',label='3 prong signal');\n",
    "plt.hist(sigae_bkgloss,bins,alpha=0.4,color='b',label='background');\n",
    "#plt.legend(bbox_to_anchor=(1.05, 1.0), loc='upper left')\n",
    "plt.legend(loc='upper right')\n",
    "plt.xlabel('Signal AE Loss',fontsize=15)\n",
    "\n"
   ]
  },
  {
   "cell_type": "code",
   "execution_count": 193,
   "metadata": {},
   "outputs": [],
   "source": [
    "def get_tpr_fpr(sigloss,bkgloss,aetype='sig'):\n",
    "    bins = np.linspace(0,50,1001)\n",
    "    tpr = []\n",
    "    fpr = []\n",
    "    for cut in bins:\n",
    "        if aetype == 'sig':\n",
    "            tpr.append(np.where(sigloss<cut)[0].shape[0]/len(sigloss))\n",
    "            fpr.append(np.where(bkgloss<cut)[0].shape[0]/len(bkgloss))\n",
    "        if aetype == 'bkg':\n",
    "            tpr.append(np.where(sigloss>cut)[0].shape[0]/len(sigloss))\n",
    "            fpr.append(np.where(bkgloss>cut)[0].shape[0]/len(bkgloss))\n",
    "    return tpr,fpr      "
   ]
  },
  {
   "cell_type": "code",
   "execution_count": 194,
   "metadata": {},
   "outputs": [],
   "source": [
    "def get_precision_recall(sigloss,bkgloss,aetype='bkg'):\n",
    "    bins = np.linspace(0,100,1001)\n",
    "    tpr = []\n",
    "    fpr = []\n",
    "    precision = []\n",
    "    for cut in bins:\n",
    "        if aetype == 'sig':\n",
    "            tpr.append(np.where(sigloss<cut)[0].shape[0]/len(sigloss))\n",
    "            precision.append((np.where(sigloss<cut)[0].shape[0])/(np.where(bkgloss<cut)[0].shape[0]+np.where(sigloss<cut)[0].shape[0]))\n",
    "            \n",
    "        if aetype == 'bkg':\n",
    "            tpr.append(np.where(sigloss>cut)[0].shape[0]/len(sigloss))\n",
    "            precision.append((np.where(sigloss>cut)[0].shape[0])/(np.where(bkgloss>cut)[0].shape[0]+np.where(sigloss>cut)[0].shape[0]))\n",
    "    return precision,tpr      "
   ]
  },
  {
   "cell_type": "code",
   "execution_count": 196,
   "metadata": {},
   "outputs": [],
   "source": [
    "tpr_2prong, fpr_2prong = get_tpr_fpr(sigae_sigloss,sigae_bkgloss,'sig')\n",
    "tpr_3prong, fpr_3prong = get_tpr_fpr(sigae_3prongloss,sigae_bkgloss,'sig')"
   ]
  },
  {
   "cell_type": "code",
   "execution_count": 217,
   "metadata": {},
   "outputs": [
    {
     "data": {
      "image/png": "[encoded data removed]",
      "text/plain": [
       "<Figure size 720x720 with 1 Axes>"
      ]
     },
     "metadata": {
      "needs_background": "light"
     },
     "output_type": "display_data"
    }
   ],
   "source": [
    "plt.plot(fpr_2prong,tpr_2prong,label='signal AE')\n",
    "#plt.plot(VAE_bkg_fpr,VAE_bkg_tpr,label='Bkg VAE-Vanilla')\n",
    "plt.plot(bkg_fpr4,bkg_tpr4,label='Bkg NFlowVAE-Planar')\n",
    "\n",
    "plt.xlabel(r'$1-\\epsilon_{bkg}$',fontsize=15)\n",
    "plt.ylabel(r'$\\epsilon_{sig}$',fontsize=15)\n",
    "#plt.semilogy()\n",
    "#plt.legend(bbox_to_anchor=(1.05, 1.0), loc='upper left')\n",
    "plt.legend(loc='lower right')\n",
    "plt.xlim([0.0,1.0])\n",
    "plt.ylim([0.0,1.0])\n",
    "plt.savefig('ROC_Curve_sigae.png')"
   ]
  },
  {
   "cell_type": "code",
   "execution_count": null,
   "metadata": {},
   "outputs": [],
   "source": []
  },
  {
   "cell_type": "code",
   "execution_count": null,
   "metadata": {},
   "outputs": [],
   "source": []
  },
  {
   "cell_type": "code",
   "execution_count": null,
   "metadata": {},
   "outputs": [],
   "source": [
    "precision,recall = get_precision_recall(loss_sig,loss_bkg,aetype='bkg')"
   ]
  },
  {
   "cell_type": "code",
   "execution_count": null,
   "metadata": {},
   "outputs": [],
   "source": [
    "np.save('NFLOWVAE_PlanarNEW_22var_sigloss.npy',loss_sig)\n",
    "np.save('NFLOWVAE_PlanarNEW_22var_bkgloss.npy',loss_bkg)"
   ]
  },
  {
   "cell_type": "code",
   "execution_count": null,
   "metadata": {},
   "outputs": [],
   "source": [
    "np.save('NFLOWVAE_PlanarNEW_precision.npy',precision)\n",
    "np.save('NFLOWVAE_PlanarNEW_recall.npy',recall)\n",
    "np.save('NFLOWVAE_PlanarNEW_bkgAE_fpr.npy',bkg_fpr)\n",
    "np.save('NFLOWVAE_PlanarNEW_bkgAE_tpr.npy',bkg_tpr)\n",
    "np.save('NFLOWVAE_PlanarNEW_sigloss.npy',loss_sig)\n",
    "np.save('NFLOWVAE_PlanarNEW_bkgloss.npy',loss_bkg)"
   ]
  },
  {
   "cell_type": "code",
   "execution_count": null,
   "metadata": {},
   "outputs": [],
   "source": [
    "plt.plot(recall,precision)"
   ]
  },
  {
   "cell_type": "code",
   "execution_count": null,
   "metadata": {},
   "outputs": [],
   "source": [
    "flows = [1,2,3,4,5,6]\n",
    "zdim = [1,2,3,4,5]\n",
    "\n",
    "for N_flows in flows:\n",
    "    for Z_DIM in zdim:\n",
    "        model = VAE_NF(N_FLOWS, Z_DIM).cuda()\n",
    "        optimizer = optim.Adam(model.parameters(), lr=LR)\n",
    "        BEST_LOSS = 99999\n",
    "        LAST_SAVED = -1\n",
    "        PATIENCE_COUNT = 0\n",
    "        PATIENCE_LIMIT = 5\n",
    "        for epoch in range(1, N_EPOCHS):\n",
    "            print(\"Epoch {}:\".format(epoch))\n",
    "            train()\n",
    "            cur_loss = evaluate()\n",
    "\n",
    "            if cur_loss <= BEST_LOSS:\n",
    "                PATIENCE_COUNT = 0\n",
    "                BEST_LOSS = cur_loss\n",
    "                LAST_SAVED = epoch\n",
    "                print(\"Saving model!\")\n",
    "                if mode == 'ROC':\n",
    "                    torch.save(model.state_dict(),f\"/data/t3home000/spark/QUASAR/weights/bkg_vae_NF_planar_RND_22var_z{Z_DIM}_f{N_FLOWS}.h5\")\n",
    "                else:\n",
    "                    torch.save(model.state_dict(), f\"/data/t3home000/spark/QUASAR/weights/bkg_vae_NF_planar_PureBkg_22var_z{Z_DIM}_f{N_FLOWS}.h5\")\n",
    "            else:\n",
    "                PATIENCE_COUNT += 1\n",
    "                print(\"Not saving model! Last saved: {}\".format(LAST_SAVED))\n",
    "                if PATIENCE_COUNT > 3:\n",
    "                    print(\"Patience Limit Reached\")\n",
    "                    break \n",
    "                    \n",
    "        loss_bkg = get_loss(dt_PureBkg[bkg_idx])\n",
    "        loss_sig = get_loss(dt_PureBkg[signal_idx])\n",
    "        np.save(f'NFLOWVAE_PlanarNEW_22var_z{Z_DIM}_f{N_flows}_sigloss.npy',loss_sig)\n",
    "        np.save(f'NFLOWVAE_PlanarNEW_22var_z{Z_DIM}_f{N_flows}_bkgloss.npy',loss_bkg)"
   ]
  },
  {
   "cell_type": "code",
   "execution_count": null,
   "metadata": {},
   "outputs": [],
   "source": []
  }
 ],
 "metadata": {
  "kernelspec": {
   "display_name": "Python 3",
   "language": "python",
   "name": "python3"
  },
  "language_info": {
   "codemirror_mode": {
    "name": "ipython",
    "version": 3
   },
   "file_extension": ".py",
   "mimetype": "text/x-python",
   "name": "python",
   "nbconvert_exporter": "python",
   "pygments_lexer": "ipython3",
   "version": "3.6.7"
  }
 },
 "nbformat": 4,
 "nbformat_minor": 2
}
