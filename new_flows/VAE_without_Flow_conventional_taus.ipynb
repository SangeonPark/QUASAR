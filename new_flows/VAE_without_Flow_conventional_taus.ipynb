{
 "cells": [
  {
   "cell_type": "code",
   "execution_count": 1,
   "metadata": {},
   "outputs": [],
   "source": [
    "import time\n",
    "import tqdm\n",
    "import numpy as np \n",
    "import matplotlib.pyplot as plt\n",
    "import pandas as pd\n",
    "import torch \n",
    "import torch.nn as nn \n",
    "import torch.nn.functional as F \n",
    "import torch.optim as optim \n",
    "import torch.utils.data as utils\n",
    "import torch.nn.init as init\n",
    "from torch.autograd import Variable"
   ]
  },
  {
   "cell_type": "code",
   "execution_count": 2,
   "metadata": {},
   "outputs": [],
   "source": [
    "pd.set_option('display.max_columns', None)  "
   ]
  },
  {
   "cell_type": "code",
   "execution_count": 3,
   "metadata": {},
   "outputs": [],
   "source": [
    "mode = 'ROC'"
   ]
  },
  {
   "cell_type": "code",
   "execution_count": 4,
   "metadata": {},
   "outputs": [],
   "source": [
    "f_rnd = pd.read_hdf(\"/data/t3home000/spark/QUASAR/preprocessing/conventional_tau_rnd.h5\")"
   ]
  },
  {
   "cell_type": "code",
   "execution_count": 5,
   "metadata": {},
   "outputs": [
    {
     "data": {
      "text/plain": [
       "Index(['Mjj', 'j1 pT', 'j2 pT', 'Mj1', 'j1 tau21', 'j1 tau32', 'j1 tau43',\n",
       "       'j1 tau54', 'j1 tau65', 'j1 tau76', 'j1 tau87',\n",
       "       'j1 sqrt(tau^2_1)/tau^1_1', 'j1 n_trk', 'j1 M_trim', 'j1 M_prun',\n",
       "       'j1 M_mmdt', 'j1 M_sdb1', 'j1 M_sdb2', 'j1 M_sdm1', 'Mj2', 'j2 tau21',\n",
       "       'j2 tau32', 'j2 tau43', 'j2 tau54', 'j2 tau65', 'j2 tau76', 'j2 tau87',\n",
       "       'j2 sqrt(tau^2_1)/tau^1_1', 'j2 n_trk', 'j2 M_trim', 'j2 M_prun',\n",
       "       'j2 M_mmdt', 'j2 M_sdb1', 'j2 M_sdb2', 'j2 M_sdm1', 'isSignal'],\n",
       "      dtype='object')"
      ]
     },
     "execution_count": 5,
     "metadata": {},
     "output_type": "execute_result"
    }
   ],
   "source": [
    "f_rnd.columns"
   ]
  },
  {
   "cell_type": "code",
   "execution_count": 6,
   "metadata": {},
   "outputs": [],
   "source": [
    "if mode == 'ROC':\n",
    "    dt = f_rnd.values\n",
    "else:\n",
    "    dt_PureBkg = f_PureBkg.values"
   ]
  },
  {
   "cell_type": "code",
   "execution_count": 7,
   "metadata": {},
   "outputs": [
    {
     "data": {
      "text/html": [
       "<div>\n",
       "<style scoped>\n",
       "    .dataframe tbody tr th:only-of-type {\n",
       "        vertical-align: middle;\n",
       "    }\n",
       "\n",
       "    .dataframe tbody tr th {\n",
       "        vertical-align: top;\n",
       "    }\n",
       "\n",
       "    .dataframe thead th {\n",
       "        text-align: right;\n",
       "    }\n",
       "</style>\n",
       "<table border=\"1\" class=\"dataframe\">\n",
       "  <thead>\n",
       "    <tr style=\"text-align: right;\">\n",
       "      <th></th>\n",
       "      <th>Mjj</th>\n",
       "      <th>j1 pT</th>\n",
       "      <th>j2 pT</th>\n",
       "      <th>Mj1</th>\n",
       "      <th>j1 tau21</th>\n",
       "      <th>j1 tau32</th>\n",
       "      <th>j1 tau43</th>\n",
       "      <th>j1 tau54</th>\n",
       "      <th>j1 tau65</th>\n",
       "      <th>j1 tau76</th>\n",
       "      <th>j1 tau87</th>\n",
       "      <th>j1 sqrt(tau^2_1)/tau^1_1</th>\n",
       "      <th>j1 n_trk</th>\n",
       "      <th>j1 M_trim</th>\n",
       "      <th>j1 M_prun</th>\n",
       "      <th>j1 M_mmdt</th>\n",
       "      <th>j1 M_sdb1</th>\n",
       "      <th>j1 M_sdb2</th>\n",
       "      <th>j1 M_sdm1</th>\n",
       "      <th>Mj2</th>\n",
       "      <th>j2 tau21</th>\n",
       "      <th>j2 tau32</th>\n",
       "      <th>j2 tau43</th>\n",
       "      <th>j2 tau54</th>\n",
       "      <th>j2 tau65</th>\n",
       "      <th>j2 tau76</th>\n",
       "      <th>j2 tau87</th>\n",
       "      <th>j2 sqrt(tau^2_1)/tau^1_1</th>\n",
       "      <th>j2 n_trk</th>\n",
       "      <th>j2 M_trim</th>\n",
       "      <th>j2 M_prun</th>\n",
       "      <th>j2 M_mmdt</th>\n",
       "      <th>j2 M_sdb1</th>\n",
       "      <th>j2 M_sdb2</th>\n",
       "      <th>j2 M_sdm1</th>\n",
       "      <th>isSignal</th>\n",
       "    </tr>\n",
       "  </thead>\n",
       "  <tbody>\n",
       "    <tr>\n",
       "      <th>0</th>\n",
       "      <td>2577.571899</td>\n",
       "      <td>1285.895950</td>\n",
       "      <td>1282.286017</td>\n",
       "      <td>98.677270</td>\n",
       "      <td>0.528903</td>\n",
       "      <td>0.788281</td>\n",
       "      <td>0.904471</td>\n",
       "      <td>0.881570</td>\n",
       "      <td>0.911651</td>\n",
       "      <td>0.869766</td>\n",
       "      <td>0.878583</td>\n",
       "      <td>4.241889</td>\n",
       "      <td>136.0</td>\n",
       "      <td>18.881765</td>\n",
       "      <td>9.797733</td>\n",
       "      <td>0.544032</td>\n",
       "      <td>9.797733</td>\n",
       "      <td>93.763971</td>\n",
       "      <td>0.000000</td>\n",
       "      <td>53.519023</td>\n",
       "      <td>0.668562</td>\n",
       "      <td>0.735745</td>\n",
       "      <td>0.755674</td>\n",
       "      <td>0.820585</td>\n",
       "      <td>0.886242</td>\n",
       "      <td>0.871922</td>\n",
       "      <td>0.865858</td>\n",
       "      <td>1.895988</td>\n",
       "      <td>128.0</td>\n",
       "      <td>42.162664</td>\n",
       "      <td>18.466533</td>\n",
       "      <td>18.466533</td>\n",
       "      <td>31.845136</td>\n",
       "      <td>42.162664</td>\n",
       "      <td>0.000000</td>\n",
       "      <td>0.0</td>\n",
       "    </tr>\n",
       "    <tr>\n",
       "      <th>1</th>\n",
       "      <td>3807.507389</td>\n",
       "      <td>1334.493332</td>\n",
       "      <td>1306.137883</td>\n",
       "      <td>584.595432</td>\n",
       "      <td>0.345626</td>\n",
       "      <td>0.463461</td>\n",
       "      <td>0.865982</td>\n",
       "      <td>0.892948</td>\n",
       "      <td>0.843223</td>\n",
       "      <td>0.939763</td>\n",
       "      <td>0.941340</td>\n",
       "      <td>1.069972</td>\n",
       "      <td>320.0</td>\n",
       "      <td>556.665923</td>\n",
       "      <td>562.607897</td>\n",
       "      <td>584.595432</td>\n",
       "      <td>584.595432</td>\n",
       "      <td>584.595432</td>\n",
       "      <td>584.595432</td>\n",
       "      <td>405.034096</td>\n",
       "      <td>0.264362</td>\n",
       "      <td>0.793461</td>\n",
       "      <td>0.830032</td>\n",
       "      <td>0.799293</td>\n",
       "      <td>0.884729</td>\n",
       "      <td>0.890205</td>\n",
       "      <td>0.934968</td>\n",
       "      <td>1.377217</td>\n",
       "      <td>348.0</td>\n",
       "      <td>395.226881</td>\n",
       "      <td>393.309512</td>\n",
       "      <td>405.034096</td>\n",
       "      <td>405.034096</td>\n",
       "      <td>405.034096</td>\n",
       "      <td>405.034096</td>\n",
       "      <td>0.0</td>\n",
       "    </tr>\n",
       "    <tr>\n",
       "      <th>2</th>\n",
       "      <td>1710.965414</td>\n",
       "      <td>1072.462085</td>\n",
       "      <td>678.557182</td>\n",
       "      <td>159.597526</td>\n",
       "      <td>0.677692</td>\n",
       "      <td>0.690707</td>\n",
       "      <td>0.695322</td>\n",
       "      <td>0.823351</td>\n",
       "      <td>0.861655</td>\n",
       "      <td>0.909383</td>\n",
       "      <td>0.933325</td>\n",
       "      <td>1.310040</td>\n",
       "      <td>332.0</td>\n",
       "      <td>144.351550</td>\n",
       "      <td>142.366275</td>\n",
       "      <td>160.536659</td>\n",
       "      <td>160.536659</td>\n",
       "      <td>160.536659</td>\n",
       "      <td>0.000000</td>\n",
       "      <td>113.768840</td>\n",
       "      <td>0.713481</td>\n",
       "      <td>0.922610</td>\n",
       "      <td>0.782783</td>\n",
       "      <td>0.771806</td>\n",
       "      <td>0.843528</td>\n",
       "      <td>0.897504</td>\n",
       "      <td>0.902637</td>\n",
       "      <td>1.887494</td>\n",
       "      <td>236.0</td>\n",
       "      <td>54.235070</td>\n",
       "      <td>41.967840</td>\n",
       "      <td>41.352112</td>\n",
       "      <td>51.721630</td>\n",
       "      <td>70.442364</td>\n",
       "      <td>-0.000003</td>\n",
       "      <td>0.0</td>\n",
       "    </tr>\n",
       "    <tr>\n",
       "      <th>3</th>\n",
       "      <td>2603.379037</td>\n",
       "      <td>1284.020224</td>\n",
       "      <td>1217.031950</td>\n",
       "      <td>515.237299</td>\n",
       "      <td>0.091038</td>\n",
       "      <td>0.784454</td>\n",
       "      <td>0.860716</td>\n",
       "      <td>0.887306</td>\n",
       "      <td>0.885916</td>\n",
       "      <td>0.950761</td>\n",
       "      <td>0.886242</td>\n",
       "      <td>1.102743</td>\n",
       "      <td>248.0</td>\n",
       "      <td>501.564320</td>\n",
       "      <td>506.727622</td>\n",
       "      <td>514.767435</td>\n",
       "      <td>514.767435</td>\n",
       "      <td>514.767435</td>\n",
       "      <td>514.767435</td>\n",
       "      <td>161.648798</td>\n",
       "      <td>0.727507</td>\n",
       "      <td>0.719564</td>\n",
       "      <td>0.870109</td>\n",
       "      <td>0.862819</td>\n",
       "      <td>0.890846</td>\n",
       "      <td>0.941229</td>\n",
       "      <td>0.924068</td>\n",
       "      <td>1.997360</td>\n",
       "      <td>352.0</td>\n",
       "      <td>81.842001</td>\n",
       "      <td>60.307703</td>\n",
       "      <td>60.307703</td>\n",
       "      <td>72.423677</td>\n",
       "      <td>84.480859</td>\n",
       "      <td>0.000003</td>\n",
       "      <td>0.0</td>\n",
       "    </tr>\n",
       "    <tr>\n",
       "      <th>4</th>\n",
       "      <td>3294.162200</td>\n",
       "      <td>1205.343324</td>\n",
       "      <td>1087.658980</td>\n",
       "      <td>142.420213</td>\n",
       "      <td>0.507714</td>\n",
       "      <td>0.522686</td>\n",
       "      <td>0.904070</td>\n",
       "      <td>0.908468</td>\n",
       "      <td>0.918753</td>\n",
       "      <td>0.928911</td>\n",
       "      <td>0.901751</td>\n",
       "      <td>1.853319</td>\n",
       "      <td>220.0</td>\n",
       "      <td>129.146700</td>\n",
       "      <td>36.160229</td>\n",
       "      <td>25.685066</td>\n",
       "      <td>133.248335</td>\n",
       "      <td>133.248335</td>\n",
       "      <td>0.000011</td>\n",
       "      <td>105.721163</td>\n",
       "      <td>0.344534</td>\n",
       "      <td>0.614579</td>\n",
       "      <td>0.863765</td>\n",
       "      <td>0.819546</td>\n",
       "      <td>0.893619</td>\n",
       "      <td>0.872585</td>\n",
       "      <td>0.906367</td>\n",
       "      <td>1.113248</td>\n",
       "      <td>204.0</td>\n",
       "      <td>103.456059</td>\n",
       "      <td>99.817788</td>\n",
       "      <td>103.456059</td>\n",
       "      <td>103.456059</td>\n",
       "      <td>103.456059</td>\n",
       "      <td>0.000008</td>\n",
       "      <td>1.0</td>\n",
       "    </tr>\n",
       "  </tbody>\n",
       "</table>\n",
       "</div>"
      ],
      "text/plain": [
       "           Mjj        j1 pT        j2 pT         Mj1  j1 tau21  j1 tau32  \\\n",
       "0  2577.571899  1285.895950  1282.286017   98.677270  0.528903  0.788281   \n",
       "1  3807.507389  1334.493332  1306.137883  584.595432  0.345626  0.463461   \n",
       "2  1710.965414  1072.462085   678.557182  159.597526  0.677692  0.690707   \n",
       "3  2603.379037  1284.020224  1217.031950  515.237299  0.091038  0.784454   \n",
       "4  3294.162200  1205.343324  1087.658980  142.420213  0.507714  0.522686   \n",
       "\n",
       "   j1 tau43  j1 tau54  j1 tau65  j1 tau76  j1 tau87  j1 sqrt(tau^2_1)/tau^1_1  \\\n",
       "0  0.904471  0.881570  0.911651  0.869766  0.878583                  4.241889   \n",
       "1  0.865982  0.892948  0.843223  0.939763  0.941340                  1.069972   \n",
       "2  0.695322  0.823351  0.861655  0.909383  0.933325                  1.310040   \n",
       "3  0.860716  0.887306  0.885916  0.950761  0.886242                  1.102743   \n",
       "4  0.904070  0.908468  0.918753  0.928911  0.901751                  1.853319   \n",
       "\n",
       "   j1 n_trk   j1 M_trim   j1 M_prun   j1 M_mmdt   j1 M_sdb1   j1 M_sdb2  \\\n",
       "0     136.0   18.881765    9.797733    0.544032    9.797733   93.763971   \n",
       "1     320.0  556.665923  562.607897  584.595432  584.595432  584.595432   \n",
       "2     332.0  144.351550  142.366275  160.536659  160.536659  160.536659   \n",
       "3     248.0  501.564320  506.727622  514.767435  514.767435  514.767435   \n",
       "4     220.0  129.146700   36.160229   25.685066  133.248335  133.248335   \n",
       "\n",
       "    j1 M_sdm1         Mj2  j2 tau21  j2 tau32  j2 tau43  j2 tau54  j2 tau65  \\\n",
       "0    0.000000   53.519023  0.668562  0.735745  0.755674  0.820585  0.886242   \n",
       "1  584.595432  405.034096  0.264362  0.793461  0.830032  0.799293  0.884729   \n",
       "2    0.000000  113.768840  0.713481  0.922610  0.782783  0.771806  0.843528   \n",
       "3  514.767435  161.648798  0.727507  0.719564  0.870109  0.862819  0.890846   \n",
       "4    0.000011  105.721163  0.344534  0.614579  0.863765  0.819546  0.893619   \n",
       "\n",
       "   j2 tau76  j2 tau87  j2 sqrt(tau^2_1)/tau^1_1  j2 n_trk   j2 M_trim  \\\n",
       "0  0.871922  0.865858                  1.895988     128.0   42.162664   \n",
       "1  0.890205  0.934968                  1.377217     348.0  395.226881   \n",
       "2  0.897504  0.902637                  1.887494     236.0   54.235070   \n",
       "3  0.941229  0.924068                  1.997360     352.0   81.842001   \n",
       "4  0.872585  0.906367                  1.113248     204.0  103.456059   \n",
       "\n",
       "    j2 M_prun   j2 M_mmdt   j2 M_sdb1   j2 M_sdb2   j2 M_sdm1  isSignal  \n",
       "0   18.466533   18.466533   31.845136   42.162664    0.000000       0.0  \n",
       "1  393.309512  405.034096  405.034096  405.034096  405.034096       0.0  \n",
       "2   41.967840   41.352112   51.721630   70.442364   -0.000003       0.0  \n",
       "3   60.307703   60.307703   72.423677   84.480859    0.000003       0.0  \n",
       "4   99.817788  103.456059  103.456059  103.456059    0.000008       1.0  "
      ]
     },
     "execution_count": 7,
     "metadata": {},
     "output_type": "execute_result"
    }
   ],
   "source": [
    "f_rnd.head()"
   ]
  },
  {
   "cell_type": "code",
   "execution_count": 8,
   "metadata": {},
   "outputs": [],
   "source": [
    "correct = (dt[:,19]>0) & (dt[:, 4] > 0)& (dt[:, 5] > 0)& (dt[:, 6] > 0)& (dt[:, 7] > 0)& (dt[:, 8] > 0) & (dt[:, 20] > 0)& (dt[:, 21] > 0)& (dt[:, 22] > 0)& (dt[:, 23] > 0)& (dt[:, 24] > 0) & (dt[:, 25] > 0)& (dt[:, 26] > 0)\n",
    "\n"
   ]
  },
  {
   "cell_type": "code",
   "execution_count": 9,
   "metadata": {},
   "outputs": [],
   "source": [
    "dt = dt[correct]"
   ]
  },
  {
   "cell_type": "code",
   "execution_count": 10,
   "metadata": {},
   "outputs": [
    {
     "data": {
      "text/plain": [
       "(1097897, 36)"
      ]
     },
     "execution_count": 10,
     "metadata": {},
     "output_type": "execute_result"
    }
   ],
   "source": [
    "dt.shape"
   ]
  },
  {
   "cell_type": "code",
   "execution_count": 11,
   "metadata": {},
   "outputs": [],
   "source": [
    "for i in [4,5,6,7,8,9,10, 20, 21, 22, 23, 24, 25,26]:\n",
    "    #X[:,i] = (X[:,i]-np.mean(X[:,i]))/np.std(X[:,i])\n",
    "    dt[:,i] = ((dt[:,i]-np.min(dt[:,i]))/(np.max(dt[:,i])-np.min(dt[:,i])))"
   ]
  },
  {
   "cell_type": "code",
   "execution_count": 12,
   "metadata": {},
   "outputs": [
    {
     "data": {
      "image/png": "[encoded data removed]",
      "text/plain": [
       "<Figure size 432x288 with 1 Axes>"
      ]
     },
     "metadata": {
      "needs_background": "light"
     },
     "output_type": "display_data"
    }
   ],
   "source": [
    "bins = np.linspace(0,1,101)\n",
    "plt.hist(dt[:,27],bins,alpha=0.5,color='b');"
   ]
  },
  {
   "cell_type": "code",
   "execution_count": 13,
   "metadata": {},
   "outputs": [],
   "source": [
    "for i in range(13,19):\n",
    "    dt[:,i] = dt[:,i]/dt[:,3]"
   ]
  },
  {
   "cell_type": "code",
   "execution_count": 14,
   "metadata": {},
   "outputs": [
    {
     "data": {
      "text/plain": [
       "(1097897, 36)"
      ]
     },
     "execution_count": 14,
     "metadata": {},
     "output_type": "execute_result"
    }
   ],
   "source": [
    "dt.shape"
   ]
  },
  {
   "cell_type": "code",
   "execution_count": 15,
   "metadata": {
    "scrolled": true
   },
   "outputs": [],
   "source": [
    "for i in range(29,35):\n",
    "    dt[:,i] = dt[:,i]/(dt[:,19])"
   ]
  },
  {
   "cell_type": "code",
   "execution_count": 16,
   "metadata": {},
   "outputs": [
    {
     "data": {
      "text/plain": [
       "'j2 sqrt(tau^2_1)/tau^1_1'"
      ]
     },
     "execution_count": 16,
     "metadata": {},
     "output_type": "execute_result"
    }
   ],
   "source": [
    "f_rnd.columns[27]"
   ]
  },
  {
   "cell_type": "code",
   "execution_count": 17,
   "metadata": {
    "scrolled": true
   },
   "outputs": [
    {
     "data": {
      "text/plain": [
       "20"
      ]
     },
     "execution_count": 17,
     "metadata": {},
     "output_type": "execute_result"
    }
   ],
   "source": [
    "f_rnd.columns.get_loc(\"j2 tau21\")\n"
   ]
  },
  {
   "cell_type": "code",
   "execution_count": 18,
   "metadata": {},
   "outputs": [
    {
     "data": {
      "text/plain": [
       "18"
      ]
     },
     "execution_count": 18,
     "metadata": {},
     "output_type": "execute_result"
    }
   ],
   "source": [
    "f_rnd.columns.get_loc('j1 M_sdm1')\n"
   ]
  },
  {
   "cell_type": "code",
   "execution_count": 19,
   "metadata": {},
   "outputs": [],
   "source": [
    "idx = dt[:,-1]\n",
    "bkg_idx = np.where(idx==0)[0]\n",
    "sig_idx = np.where(idx==1)[0]"
   ]
  },
  {
   "cell_type": "code",
   "execution_count": 20,
   "metadata": {},
   "outputs": [
    {
     "data": {
      "text/plain": [
       "array([      0,       1,       2, ..., 1097894, 1097895, 1097896])"
      ]
     },
     "execution_count": 20,
     "metadata": {},
     "output_type": "execute_result"
    }
   ],
   "source": [
    "bkg_idx"
   ]
  },
  {
   "cell_type": "code",
   "execution_count": 21,
   "metadata": {},
   "outputs": [
    {
     "data": {
      "text/plain": [
       "1.0"
      ]
     },
     "execution_count": 21,
     "metadata": {},
     "output_type": "execute_result"
    }
   ],
   "source": [
    "np.max(dt[:,8])"
   ]
  },
  {
   "cell_type": "code",
   "execution_count": 22,
   "metadata": {},
   "outputs": [
    {
     "data": {
      "text/plain": [
       "0.0"
      ]
     },
     "execution_count": 22,
     "metadata": {},
     "output_type": "execute_result"
    }
   ],
   "source": [
    "np.min(dt[:,8])"
   ]
  },
  {
   "cell_type": "code",
   "execution_count": 23,
   "metadata": {},
   "outputs": [
    {
     "data": {
      "image/png": "[encoded data removed]",
      "text/plain": [
       "<Figure size 432x288 with 1 Axes>"
      ]
     },
     "metadata": {
      "needs_background": "light"
     },
     "output_type": "display_data"
    }
   ],
   "source": [
    "bins = np.linspace(0,1,101)\n",
    "plt.hist(dt[:,1],bins,alpha=0.5,color='b');"
   ]
  },
  {
   "cell_type": "code",
   "execution_count": 24,
   "metadata": {},
   "outputs": [],
   "source": [
    "for i in [11,27,12,28,3,19]:\n",
    "    dt[:,i] = (dt[:,i]-np.min(dt[:,i]))/(np.max(dt[:,i])-np.min(dt[:,i]))"
   ]
  },
  {
   "cell_type": "code",
   "execution_count": 25,
   "metadata": {},
   "outputs": [],
   "source": [
    "#dt[:,11] = (dt[:,11])/(0.2)"
   ]
  },
  {
   "cell_type": "code",
   "execution_count": 26,
   "metadata": {},
   "outputs": [],
   "source": [
    "#dt[:,27] = (dt[:,27])/(0.12)"
   ]
  },
  {
   "cell_type": "code",
   "execution_count": 27,
   "metadata": {},
   "outputs": [],
   "source": [
    "#dt[:,3] = (dt[:,3])/(0.44)"
   ]
  },
  {
   "cell_type": "code",
   "execution_count": 28,
   "metadata": {},
   "outputs": [],
   "source": [
    "#dt[:,19] = (dt[:,19])/(0.44)"
   ]
  },
  {
   "cell_type": "code",
   "execution_count": 29,
   "metadata": {},
   "outputs": [
    {
     "name": "stdout",
     "output_type": "stream",
     "text": [
      "j1 M_sdm1\n"
     ]
    },
    {
     "data": {
      "image/png": "[encoded data removed]",
      "text/plain": [
       "<Figure size 432x288 with 1 Axes>"
      ]
     },
     "metadata": {
      "needs_background": "light"
     },
     "output_type": "display_data"
    }
   ],
   "source": [
    "bins = np.linspace(0,1,101)\n",
    "bins.shape\n",
    "column = 18\n",
    "print(f_rnd.columns[column])\n",
    "plt.hist(dt[bkg_idx,column],bins,alpha=0.5,color='b');\n",
    "plt.hist(dt[sig_idx,column],bins=bins,weights=np.ones(len(sig_idx))*10,alpha=0.5,color='r');"
   ]
  },
  {
   "cell_type": "code",
   "execution_count": 30,
   "metadata": {},
   "outputs": [
    {
     "data": {
      "text/html": [
       "<div>\n",
       "<style scoped>\n",
       "    .dataframe tbody tr th:only-of-type {\n",
       "        vertical-align: middle;\n",
       "    }\n",
       "\n",
       "    .dataframe tbody tr th {\n",
       "        vertical-align: top;\n",
       "    }\n",
       "\n",
       "    .dataframe thead th {\n",
       "        text-align: right;\n",
       "    }\n",
       "</style>\n",
       "<table border=\"1\" class=\"dataframe\">\n",
       "  <thead>\n",
       "    <tr style=\"text-align: right;\">\n",
       "      <th></th>\n",
       "      <th>Mjj</th>\n",
       "      <th>j1 pT</th>\n",
       "      <th>j2 pT</th>\n",
       "      <th>Mj1</th>\n",
       "      <th>j1 tau21</th>\n",
       "      <th>j1 tau32</th>\n",
       "      <th>j1 tau43</th>\n",
       "      <th>j1 tau54</th>\n",
       "      <th>j1 tau65</th>\n",
       "      <th>j1 tau76</th>\n",
       "      <th>j1 tau87</th>\n",
       "      <th>j1 sqrt(tau^2_1)/tau^1_1</th>\n",
       "      <th>j1 n_trk</th>\n",
       "      <th>j1 M_trim</th>\n",
       "      <th>j1 M_prun</th>\n",
       "      <th>j1 M_mmdt</th>\n",
       "      <th>j1 M_sdb1</th>\n",
       "      <th>j1 M_sdb2</th>\n",
       "      <th>j1 M_sdm1</th>\n",
       "      <th>Mj2</th>\n",
       "      <th>j2 tau21</th>\n",
       "      <th>j2 tau32</th>\n",
       "      <th>j2 tau43</th>\n",
       "      <th>j2 tau54</th>\n",
       "      <th>j2 tau65</th>\n",
       "      <th>j2 tau76</th>\n",
       "      <th>j2 tau87</th>\n",
       "      <th>j2 sqrt(tau^2_1)/tau^1_1</th>\n",
       "      <th>j2 n_trk</th>\n",
       "      <th>j2 M_trim</th>\n",
       "      <th>j2 M_prun</th>\n",
       "      <th>j2 M_mmdt</th>\n",
       "      <th>j2 M_sdb1</th>\n",
       "      <th>j2 M_sdb2</th>\n",
       "      <th>j2 M_sdm1</th>\n",
       "      <th>isSignal</th>\n",
       "    </tr>\n",
       "  </thead>\n",
       "  <tbody>\n",
       "    <tr>\n",
       "      <th>0</th>\n",
       "      <td>2577.571899</td>\n",
       "      <td>1285.895950</td>\n",
       "      <td>1282.286017</td>\n",
       "      <td>98.677270</td>\n",
       "      <td>0.528903</td>\n",
       "      <td>0.788281</td>\n",
       "      <td>0.904471</td>\n",
       "      <td>0.881570</td>\n",
       "      <td>0.911651</td>\n",
       "      <td>0.869766</td>\n",
       "      <td>0.878583</td>\n",
       "      <td>4.241889</td>\n",
       "      <td>136.0</td>\n",
       "      <td>18.881765</td>\n",
       "      <td>9.797733</td>\n",
       "      <td>0.544032</td>\n",
       "      <td>9.797733</td>\n",
       "      <td>93.763971</td>\n",
       "      <td>0.000000</td>\n",
       "      <td>53.519023</td>\n",
       "      <td>0.668562</td>\n",
       "      <td>0.735745</td>\n",
       "      <td>0.755674</td>\n",
       "      <td>0.820585</td>\n",
       "      <td>0.886242</td>\n",
       "      <td>0.871922</td>\n",
       "      <td>0.865858</td>\n",
       "      <td>1.895988</td>\n",
       "      <td>128.0</td>\n",
       "      <td>42.162664</td>\n",
       "      <td>18.466533</td>\n",
       "      <td>18.466533</td>\n",
       "      <td>31.845136</td>\n",
       "      <td>42.162664</td>\n",
       "      <td>0.000000</td>\n",
       "      <td>0.0</td>\n",
       "    </tr>\n",
       "    <tr>\n",
       "      <th>1</th>\n",
       "      <td>3807.507389</td>\n",
       "      <td>1334.493332</td>\n",
       "      <td>1306.137883</td>\n",
       "      <td>584.595432</td>\n",
       "      <td>0.345626</td>\n",
       "      <td>0.463461</td>\n",
       "      <td>0.865982</td>\n",
       "      <td>0.892948</td>\n",
       "      <td>0.843223</td>\n",
       "      <td>0.939763</td>\n",
       "      <td>0.941340</td>\n",
       "      <td>1.069972</td>\n",
       "      <td>320.0</td>\n",
       "      <td>556.665923</td>\n",
       "      <td>562.607897</td>\n",
       "      <td>584.595432</td>\n",
       "      <td>584.595432</td>\n",
       "      <td>584.595432</td>\n",
       "      <td>584.595432</td>\n",
       "      <td>405.034096</td>\n",
       "      <td>0.264362</td>\n",
       "      <td>0.793461</td>\n",
       "      <td>0.830032</td>\n",
       "      <td>0.799293</td>\n",
       "      <td>0.884729</td>\n",
       "      <td>0.890205</td>\n",
       "      <td>0.934968</td>\n",
       "      <td>1.377217</td>\n",
       "      <td>348.0</td>\n",
       "      <td>395.226881</td>\n",
       "      <td>393.309512</td>\n",
       "      <td>405.034096</td>\n",
       "      <td>405.034096</td>\n",
       "      <td>405.034096</td>\n",
       "      <td>405.034096</td>\n",
       "      <td>0.0</td>\n",
       "    </tr>\n",
       "    <tr>\n",
       "      <th>2</th>\n",
       "      <td>1710.965414</td>\n",
       "      <td>1072.462085</td>\n",
       "      <td>678.557182</td>\n",
       "      <td>159.597526</td>\n",
       "      <td>0.677692</td>\n",
       "      <td>0.690707</td>\n",
       "      <td>0.695322</td>\n",
       "      <td>0.823351</td>\n",
       "      <td>0.861655</td>\n",
       "      <td>0.909383</td>\n",
       "      <td>0.933325</td>\n",
       "      <td>1.310040</td>\n",
       "      <td>332.0</td>\n",
       "      <td>144.351550</td>\n",
       "      <td>142.366275</td>\n",
       "      <td>160.536659</td>\n",
       "      <td>160.536659</td>\n",
       "      <td>160.536659</td>\n",
       "      <td>0.000000</td>\n",
       "      <td>113.768840</td>\n",
       "      <td>0.713481</td>\n",
       "      <td>0.922610</td>\n",
       "      <td>0.782783</td>\n",
       "      <td>0.771806</td>\n",
       "      <td>0.843528</td>\n",
       "      <td>0.897504</td>\n",
       "      <td>0.902637</td>\n",
       "      <td>1.887494</td>\n",
       "      <td>236.0</td>\n",
       "      <td>54.235070</td>\n",
       "      <td>41.967840</td>\n",
       "      <td>41.352112</td>\n",
       "      <td>51.721630</td>\n",
       "      <td>70.442364</td>\n",
       "      <td>-0.000003</td>\n",
       "      <td>0.0</td>\n",
       "    </tr>\n",
       "    <tr>\n",
       "      <th>3</th>\n",
       "      <td>2603.379037</td>\n",
       "      <td>1284.020224</td>\n",
       "      <td>1217.031950</td>\n",
       "      <td>515.237299</td>\n",
       "      <td>0.091038</td>\n",
       "      <td>0.784454</td>\n",
       "      <td>0.860716</td>\n",
       "      <td>0.887306</td>\n",
       "      <td>0.885916</td>\n",
       "      <td>0.950761</td>\n",
       "      <td>0.886242</td>\n",
       "      <td>1.102743</td>\n",
       "      <td>248.0</td>\n",
       "      <td>501.564320</td>\n",
       "      <td>506.727622</td>\n",
       "      <td>514.767435</td>\n",
       "      <td>514.767435</td>\n",
       "      <td>514.767435</td>\n",
       "      <td>514.767435</td>\n",
       "      <td>161.648798</td>\n",
       "      <td>0.727507</td>\n",
       "      <td>0.719564</td>\n",
       "      <td>0.870109</td>\n",
       "      <td>0.862819</td>\n",
       "      <td>0.890846</td>\n",
       "      <td>0.941229</td>\n",
       "      <td>0.924068</td>\n",
       "      <td>1.997360</td>\n",
       "      <td>352.0</td>\n",
       "      <td>81.842001</td>\n",
       "      <td>60.307703</td>\n",
       "      <td>60.307703</td>\n",
       "      <td>72.423677</td>\n",
       "      <td>84.480859</td>\n",
       "      <td>0.000003</td>\n",
       "      <td>0.0</td>\n",
       "    </tr>\n",
       "    <tr>\n",
       "      <th>4</th>\n",
       "      <td>3294.162200</td>\n",
       "      <td>1205.343324</td>\n",
       "      <td>1087.658980</td>\n",
       "      <td>142.420213</td>\n",
       "      <td>0.507714</td>\n",
       "      <td>0.522686</td>\n",
       "      <td>0.904070</td>\n",
       "      <td>0.908468</td>\n",
       "      <td>0.918753</td>\n",
       "      <td>0.928911</td>\n",
       "      <td>0.901751</td>\n",
       "      <td>1.853319</td>\n",
       "      <td>220.0</td>\n",
       "      <td>129.146700</td>\n",
       "      <td>36.160229</td>\n",
       "      <td>25.685066</td>\n",
       "      <td>133.248335</td>\n",
       "      <td>133.248335</td>\n",
       "      <td>0.000011</td>\n",
       "      <td>105.721163</td>\n",
       "      <td>0.344534</td>\n",
       "      <td>0.614579</td>\n",
       "      <td>0.863765</td>\n",
       "      <td>0.819546</td>\n",
       "      <td>0.893619</td>\n",
       "      <td>0.872585</td>\n",
       "      <td>0.906367</td>\n",
       "      <td>1.113248</td>\n",
       "      <td>204.0</td>\n",
       "      <td>103.456059</td>\n",
       "      <td>99.817788</td>\n",
       "      <td>103.456059</td>\n",
       "      <td>103.456059</td>\n",
       "      <td>103.456059</td>\n",
       "      <td>0.000008</td>\n",
       "      <td>1.0</td>\n",
       "    </tr>\n",
       "  </tbody>\n",
       "</table>\n",
       "</div>"
      ],
      "text/plain": [
       "           Mjj        j1 pT        j2 pT         Mj1  j1 tau21  j1 tau32  \\\n",
       "0  2577.571899  1285.895950  1282.286017   98.677270  0.528903  0.788281   \n",
       "1  3807.507389  1334.493332  1306.137883  584.595432  0.345626  0.463461   \n",
       "2  1710.965414  1072.462085   678.557182  159.597526  0.677692  0.690707   \n",
       "3  2603.379037  1284.020224  1217.031950  515.237299  0.091038  0.784454   \n",
       "4  3294.162200  1205.343324  1087.658980  142.420213  0.507714  0.522686   \n",
       "\n",
       "   j1 tau43  j1 tau54  j1 tau65  j1 tau76  j1 tau87  j1 sqrt(tau^2_1)/tau^1_1  \\\n",
       "0  0.904471  0.881570  0.911651  0.869766  0.878583                  4.241889   \n",
       "1  0.865982  0.892948  0.843223  0.939763  0.941340                  1.069972   \n",
       "2  0.695322  0.823351  0.861655  0.909383  0.933325                  1.310040   \n",
       "3  0.860716  0.887306  0.885916  0.950761  0.886242                  1.102743   \n",
       "4  0.904070  0.908468  0.918753  0.928911  0.901751                  1.853319   \n",
       "\n",
       "   j1 n_trk   j1 M_trim   j1 M_prun   j1 M_mmdt   j1 M_sdb1   j1 M_sdb2  \\\n",
       "0     136.0   18.881765    9.797733    0.544032    9.797733   93.763971   \n",
       "1     320.0  556.665923  562.607897  584.595432  584.595432  584.595432   \n",
       "2     332.0  144.351550  142.366275  160.536659  160.536659  160.536659   \n",
       "3     248.0  501.564320  506.727622  514.767435  514.767435  514.767435   \n",
       "4     220.0  129.146700   36.160229   25.685066  133.248335  133.248335   \n",
       "\n",
       "    j1 M_sdm1         Mj2  j2 tau21  j2 tau32  j2 tau43  j2 tau54  j2 tau65  \\\n",
       "0    0.000000   53.519023  0.668562  0.735745  0.755674  0.820585  0.886242   \n",
       "1  584.595432  405.034096  0.264362  0.793461  0.830032  0.799293  0.884729   \n",
       "2    0.000000  113.768840  0.713481  0.922610  0.782783  0.771806  0.843528   \n",
       "3  514.767435  161.648798  0.727507  0.719564  0.870109  0.862819  0.890846   \n",
       "4    0.000011  105.721163  0.344534  0.614579  0.863765  0.819546  0.893619   \n",
       "\n",
       "   j2 tau76  j2 tau87  j2 sqrt(tau^2_1)/tau^1_1  j2 n_trk   j2 M_trim  \\\n",
       "0  0.871922  0.865858                  1.895988     128.0   42.162664   \n",
       "1  0.890205  0.934968                  1.377217     348.0  395.226881   \n",
       "2  0.897504  0.902637                  1.887494     236.0   54.235070   \n",
       "3  0.941229  0.924068                  1.997360     352.0   81.842001   \n",
       "4  0.872585  0.906367                  1.113248     204.0  103.456059   \n",
       "\n",
       "    j2 M_prun   j2 M_mmdt   j2 M_sdb1   j2 M_sdb2   j2 M_sdm1  isSignal  \n",
       "0   18.466533   18.466533   31.845136   42.162664    0.000000       0.0  \n",
       "1  393.309512  405.034096  405.034096  405.034096  405.034096       0.0  \n",
       "2   41.967840   41.352112   51.721630   70.442364   -0.000003       0.0  \n",
       "3   60.307703   60.307703   72.423677   84.480859    0.000003       0.0  \n",
       "4   99.817788  103.456059  103.456059  103.456059    0.000008       1.0  "
      ]
     },
     "execution_count": 30,
     "metadata": {},
     "output_type": "execute_result"
    }
   ],
   "source": [
    "f_rnd.head()"
   ]
  },
  {
   "cell_type": "code",
   "execution_count": 31,
   "metadata": {},
   "outputs": [],
   "source": [
    "#X = dt[:,3:29]\n",
    "# just the nsubjettiness\n",
    "#X = np.concatenate((dt[:,3:13], dt[:,19:29]), axis=1\n",
    "\n",
    "#X = dt[:,3:34]\n",
    "#X = np.concatenate((dt[:,3:18], dt[:,19:34]), axis=1)\n",
    "\n",
    "X = dt[:,3:34]"
   ]
  },
  {
   "cell_type": "code",
   "execution_count": 32,
   "metadata": {},
   "outputs": [
    {
     "data": {
      "text/plain": [
       "(1097897, 31)"
      ]
     },
     "execution_count": 32,
     "metadata": {},
     "output_type": "execute_result"
    }
   ],
   "source": [
    "X.shape"
   ]
  },
  {
   "cell_type": "code",
   "execution_count": 33,
   "metadata": {},
   "outputs": [
    {
     "data": {
      "text/plain": [
       "(1097897, 31)"
      ]
     },
     "execution_count": 33,
     "metadata": {},
     "output_type": "execute_result"
    }
   ],
   "source": [
    "X.shape"
   ]
  },
  {
   "cell_type": "code",
   "execution_count": 34,
   "metadata": {},
   "outputs": [],
   "source": [
    "X[:,0] = (X[:,0]-np.mean(X[:,0]))/np.std(X[:,0])"
   ]
  },
  {
   "cell_type": "code",
   "execution_count": 45,
   "metadata": {},
   "outputs": [],
   "source": [
    "for i in range(31):\n",
    "    X[:,i] = (X[:,i]-np.mean(X[:,i]))/np.std(X[:,i])\n",
    "    #X[:,i] = ((X[:,i]-np.min(X[:,i]))/(np.max(X[:,i])-np.min(X[:,i])))"
   ]
  },
  {
   "cell_type": "code",
   "execution_count": 46,
   "metadata": {},
   "outputs": [
    {
     "name": "stdout",
     "output_type": "stream",
     "text": [
      "Mjj\n"
     ]
    },
    {
     "data": {
      "image/png": "[encoded data removed]",
      "text/plain": [
       "<Figure size 432x288 with 1 Axes>"
      ]
     },
     "metadata": {
      "needs_background": "light"
     },
     "output_type": "display_data"
    }
   ],
   "source": [
    "bins = np.linspace(-3,3,101)\n",
    "bins.shape\n",
    "column = 0\n",
    "print(f_rnd.columns[column])\n",
    "plt.hist(X[:,column],bins,alpha=0.5,color='b');\n",
    "#plt.hist(dt[sig_idx,column],bins=bins,weights=np.ones(len(sig_idx))*10,alpha=0.5,color='r');"
   ]
  },
  {
   "cell_type": "code",
   "execution_count": 47,
   "metadata": {},
   "outputs": [
    {
     "name": "stdout",
     "output_type": "stream",
     "text": [
      "[      0       1       2 ... 1097894 1097895 1097896]\n"
     ]
    }
   ],
   "source": [
    "print(bkg_idx)"
   ]
  },
  {
   "cell_type": "code",
   "execution_count": 48,
   "metadata": {},
   "outputs": [],
   "source": [
    "total_PureBkg = torch.tensor(X[bkg_idx])\n",
    "\n",
    "total_PureBkg_selection = total_PureBkg"
   ]
  },
  {
   "cell_type": "code",
   "execution_count": 49,
   "metadata": {},
   "outputs": [
    {
     "data": {
      "text/plain": [
       "torch.Size([998007, 31])"
      ]
     },
     "execution_count": 49,
     "metadata": {},
     "output_type": "execute_result"
    }
   ],
   "source": [
    "total_PureBkg_selection.shape"
   ]
  },
  {
   "cell_type": "code",
   "execution_count": 50,
   "metadata": {},
   "outputs": [],
   "source": [
    "bs = 1000\n",
    "bkgAE_train_iterator = utils.DataLoader(total_PureBkg_selection, batch_size=bs, shuffle=True)\n",
    "bkgAE_test_iterator = utils.DataLoader(total_PureBkg_selection, batch_size=bs)"
   ]
  },
  {
   "cell_type": "code",
   "execution_count": 51,
   "metadata": {},
   "outputs": [],
   "source": [
    "class Encoder(nn.Module):\n",
    "    ''' This the encoder part of VAE\n",
    "\n",
    "    '''\n",
    "    def __init__(self, z_dim):\n",
    "        '''\n",
    "        Args:\n",
    "            input_dim: A integer indicating the size of input (in case of MNIST 28 * 28).\n",
    "            hidden_dim: A integer indicating the size of hidden dimension.\n",
    "            z_dim: A integer indicating the latent dimension.\n",
    "        '''\n",
    "        super().__init__()\n",
    "\n",
    "        self.linear1 = nn.Linear(31, 30)\n",
    "        self.linear2 = nn.Linear(30, 30)\n",
    "        #self.linear3 = nn.Linear(30, 20)\n",
    "        #self.linear4 = nn.Linear(20, 10)\n",
    "        #self.linear5 = nn.Linear(60, 30)\n",
    "        hidden_dim = 30\n",
    "        self.mu = nn.Linear(hidden_dim, z_dim)\n",
    "        self.var = nn.Linear(hidden_dim, z_dim)\n",
    "\n",
    "    def forward(self, x):\n",
    "        # x is of shape [batch_size, input_dim]\n",
    "        x = F.leaky_relu(self.linear1(x))\n",
    "        x = F.leaky_relu(self.linear2(x))\n",
    "        #x = F.leaky_relu(self.linear3(x))\n",
    "        #x = F.leaky_relu(self.linear4(x))\n",
    "        #x = F.leaky_relu(self.linear5(x))\n",
    "\n",
    "        #hidden = F.relu(self.linear(x))\n",
    "        # hidden is of shape [batch_size, hidden_dim]\n",
    "        \n",
    "        z_mu = self.mu(x)\n",
    "        # z_mu is of shape [batch_size, latent_dim]\n",
    "        z_var = self.var(x)\n",
    "        # z_var is of shape [batch_size, latent_dim]\n",
    "\n",
    "        return z_mu, z_var\n"
   ]
  },
  {
   "cell_type": "code",
   "execution_count": 52,
   "metadata": {},
   "outputs": [],
   "source": [
    "class Decoder(nn.Module):\n",
    "    ''' This the decoder part of VAE\n",
    "\n",
    "    '''\n",
    "    def __init__(self, z_dim):\n",
    "        '''\n",
    "        Args:\n",
    "            z_dim: A integer indicating the latent size.\n",
    "            hidden_dim: A integer indicating the size of hidden dimension.\n",
    "            output_dim: A integer indicating the output dimension (in case of MNIST it is 28 * 28)\n",
    "        '''\n",
    "        super().__init__()\n",
    "\n",
    "        self.linear1 = nn.Linear(z_dim, 30)\n",
    "        self.linear2 = nn.Linear(30, 30)\n",
    "        #self.linear3 = nn.Linear(20, 30)\n",
    "        #self.linear4 = nn.Linear(30, 40)\n",
    "        #self.linear5 = nn.Linear(100, 160)\n",
    "        self.out = nn.Linear(30, 1)\n",
    "\n",
    "    def forward(self, x):\n",
    "        # x is of shape [batch_size, latent_dim]\n",
    "        x = F.leaky_relu(self.linear1(x))\n",
    "        x = F.leaky_relu(self.linear2(x))\n",
    "        #x = F.leaky_relu(self.linear3(x))\n",
    "        #x = F.leaky_relu(self.linear4(x))\n",
    "        #x = F.leaky_relu(self.linear5(x))\n",
    "\n",
    "        #hidden = F.relu(self.linear(x))\n",
    "        # hidden is of shape [batch_size, hidden_dim]\n",
    "\n",
    "        #predicted = torch.sigmoid(self.out(x))\n",
    "        predicted = self.out(x)\n",
    "        #predicted is of shape [batch_size, output_dim]\n",
    "\n",
    "        return predicted\n"
   ]
  },
  {
   "cell_type": "code",
   "execution_count": 40,
   "metadata": {},
   "outputs": [],
   "source": [
    "class VAE(nn.Module):\n",
    "    ''' This the VAE, which takes a encoder and decoder.\n",
    "\n",
    "    '''\n",
    "    def __init__(self, enc, dec):\n",
    "        super().__init__()\n",
    "\n",
    "        self.enc = enc\n",
    "        self.dec = dec\n",
    "\n",
    "    def forward(self, x):\n",
    "        # encode\n",
    "        z_mu, z_var = self.enc(x)\n",
    "\n",
    "        # sample from the distribution having latent parameters z_mu, z_var\n",
    "        # reparameterize\n",
    "        std = torch.exp(z_var / 2)\n",
    "        eps = torch.randn_like(std)\n",
    "        x_sample = eps.mul(std).add_(z_mu)\n",
    "\n",
    "        # decode\n",
    "        predicted = self.dec(x_sample)\n",
    "        return predicted, z_mu, z_var\n"
   ]
  },
  {
   "cell_type": "code",
   "execution_count": 41,
   "metadata": {},
   "outputs": [
    {
     "name": "stdout",
     "output_type": "stream",
     "text": [
      "cuda:0\n"
     ]
    },
    {
     "data": {
      "text/plain": [
       "'GeForce RTX 2080 Ti'"
      ]
     },
     "execution_count": 41,
     "metadata": {},
     "output_type": "execute_result"
    }
   ],
   "source": [
    "device = torch.device(\"cuda:0\" if torch.cuda.is_available() else \"cpu\")\n",
    "print(device)\n",
    "torch.cuda.get_device_name(0)"
   ]
  },
  {
   "cell_type": "code",
   "execution_count": 55,
   "metadata": {},
   "outputs": [],
   "source": [
    "# encoder\n",
    "encoder = Encoder(30)\n",
    "\n",
    "# decoder\n",
    "decoder = Decoder(30)\n",
    "\n",
    "# vae\n",
    "model = VAE(encoder, decoder).to(device)\n",
    "\n",
    "# optimizer\n",
    "lr = 1e-6\n",
    "optimizer = optim.Adam(model.parameters(), lr=lr)"
   ]
  },
  {
   "cell_type": "code",
   "execution_count": 56,
   "metadata": {},
   "outputs": [
    {
     "name": "stdout",
     "output_type": "stream",
     "text": [
      "VAE(\n",
      "  (enc): Encoder(\n",
      "    (linear1): Linear(in_features=1, out_features=30, bias=True)\n",
      "    (linear2): Linear(in_features=30, out_features=30, bias=True)\n",
      "    (mu): Linear(in_features=30, out_features=30, bias=True)\n",
      "    (var): Linear(in_features=30, out_features=30, bias=True)\n",
      "  )\n",
      "  (dec): Decoder(\n",
      "    (linear1): Linear(in_features=30, out_features=30, bias=True)\n",
      "    (linear2): Linear(in_features=30, out_features=30, bias=True)\n",
      "    (out): Linear(in_features=30, out_features=1, bias=True)\n",
      "  )\n",
      ")\n",
      "cuda:0\n"
     ]
    }
   ],
   "source": [
    "print(model)\n",
    "print(device)"
   ]
  },
  {
   "cell_type": "code",
   "execution_count": 57,
   "metadata": {},
   "outputs": [],
   "source": [
    "def train():\n",
    "    # set the train mode\n",
    "    model.train()\n",
    "\n",
    "    # loss of the epoch\n",
    "    train_loss = 0\n",
    "\n",
    "    for i, x in enumerate(bkgAE_train_iterator):\n",
    "        # reshape the data into [batch_size, 784]\n",
    "        x = x.float().cuda()\n",
    "\n",
    "        # update the gradients to zero\n",
    "        optimizer.zero_grad()\n",
    "\n",
    "        # forward pass\n",
    "        x_sample, z_mu, z_var = model(x)\n",
    "\n",
    "        # reconstruction loss\n",
    "        recon_loss = F.binary_cross_entropy(x_sample, x, size_average=False)\n",
    "\n",
    "        # kl divergence loss\n",
    "        kl_loss = 0.5 * torch.sum(torch.exp(z_var) + z_mu**2 - 1.0 - z_var)\n",
    "\n",
    "        # total loss\n",
    "        loss = recon_loss + kl_loss\n",
    "\n",
    "        # backward pass\n",
    "        loss.backward()\n",
    "        train_loss += loss.item()\n",
    "\n",
    "        # update the weights\n",
    "        optimizer.step()\n",
    "\n",
    "    return train_loss\n"
   ]
  },
  {
   "cell_type": "code",
   "execution_count": 58,
   "metadata": {},
   "outputs": [],
   "source": [
    "def test():\n",
    "    # set the evaluation mode\n",
    "    model.eval()\n",
    "\n",
    "    # test loss for the data\n",
    "    test_loss = 0\n",
    "\n",
    "    # we don't need to track the gradients, since we are not updating the parameters during evaluation / testing\n",
    "    with torch.no_grad():\n",
    "        for i, x in enumerate(bkgAE_test_iterator):\n",
    "            # reshape the data\n",
    "            #x = x.view(-1, 28 * 28)\n",
    "            x = x.float().cuda()\n",
    "            # forward pass\n",
    "            x_sample, z_mu, z_var = model(x)\n",
    "\n",
    "            # reconstruction loss\n",
    "            recon_loss = F.binary_cross_entropy(x_sample, x, size_average=False)\n",
    "\n",
    "            # kl divergence loss\n",
    "            kl_loss = 0.5 * torch.sum(torch.exp(z_var) + z_mu**2 - 1.0 - z_var)\n",
    "\n",
    "            # total loss\n",
    "            loss = recon_loss + kl_loss\n",
    "            test_loss += loss.item()\n",
    "\n",
    "    return test_loss"
   ]
  },
  {
   "cell_type": "code",
   "execution_count": 67,
   "metadata": {},
   "outputs": [
    {
     "name": "stdout",
     "output_type": "stream",
     "text": [
      "Epoch 0, Train Loss: 0.694422, Test Loss: 0.694353\n",
      "Saving model!\n",
      "Epoch 1, Train Loss: 0.694312, Test Loss: 0.694240\n",
      "Saving model!\n",
      "Epoch 2, Train Loss: 0.694192, Test Loss: 0.694132\n",
      "Saving model!\n",
      "Epoch 3, Train Loss: 0.694086, Test Loss: 0.694034\n",
      "Saving model!\n",
      "Epoch 4, Train Loss: 0.693996, Test Loss: 0.693938\n",
      "Saving model!\n",
      "Epoch 5, Train Loss: 0.693898, Test Loss: 0.693851\n",
      "Saving model!\n",
      "Epoch 6, Train Loss: 0.693811, Test Loss: 0.693778\n",
      "Saving model!\n",
      "Epoch 7, Train Loss: 0.693734, Test Loss: 0.693686\n",
      "Saving model!\n",
      "Epoch 8, Train Loss: 0.693645, Test Loss: 0.693617\n",
      "Saving model!\n",
      "Epoch 9, Train Loss: 0.693573, Test Loss: 0.693534\n",
      "Saving model!\n",
      "Epoch 10, Train Loss: 0.693515, Test Loss: 0.693480\n",
      "Saving model!\n",
      "Epoch 11, Train Loss: 0.693451, Test Loss: 0.693416\n",
      "Saving model!\n",
      "Epoch 12, Train Loss: 0.693387, Test Loss: 0.693364\n",
      "Saving model!\n",
      "Epoch 13, Train Loss: 0.693338, Test Loss: 0.693315\n",
      "Saving model!\n",
      "Epoch 14, Train Loss: 0.693290, Test Loss: 0.693244\n",
      "Saving model!\n",
      "Epoch 15, Train Loss: 0.693225, Test Loss: 0.693208\n",
      "Saving model!\n",
      "Epoch 16, Train Loss: 0.693184, Test Loss: 0.693162\n",
      "Saving model!\n",
      "Epoch 17, Train Loss: 0.693150, Test Loss: 0.693112\n",
      "Saving model!\n",
      "Epoch 18, Train Loss: 0.693104, Test Loss: 0.693101\n",
      "Saving model!\n",
      "Epoch 19, Train Loss: 0.693082, Test Loss: 0.693063\n",
      "Saving model!\n",
      "Epoch 20, Train Loss: 0.693043, Test Loss: 0.693034\n",
      "Saving model!\n",
      "Epoch 21, Train Loss: 0.693014, Test Loss: 0.692991\n",
      "Saving model!\n",
      "Epoch 22, Train Loss: 0.692982, Test Loss: 0.692976\n",
      "Saving model!\n",
      "Epoch 23, Train Loss: 0.692948, Test Loss: 0.692942\n",
      "Saving model!\n",
      "Epoch 24, Train Loss: 0.692936, Test Loss: 0.692930\n",
      "Saving model!\n",
      "Epoch 25, Train Loss: 0.692907, Test Loss: 0.692908\n",
      "Saving model!\n",
      "Epoch 26, Train Loss: 0.692895, Test Loss: 0.692887\n",
      "Saving model!\n",
      "Epoch 27, Train Loss: 0.692872, Test Loss: 0.692858\n",
      "Saving model!\n",
      "Epoch 28, Train Loss: 0.692859, Test Loss: 0.692861\n",
      "Not saving model!\n",
      "Epoch 29, Train Loss: 0.692842, Test Loss: 0.692834\n",
      "Saving model!\n",
      "Epoch 30, Train Loss: 0.692838, Test Loss: 0.692832\n",
      "Saving model!\n",
      "Epoch 31, Train Loss: 0.692829, Test Loss: 0.692822\n",
      "Saving model!\n",
      "Epoch 32, Train Loss: 0.692803, Test Loss: 0.692800\n",
      "Saving model!\n",
      "Epoch 33, Train Loss: 0.692796, Test Loss: 0.692783\n",
      "Saving model!\n",
      "Epoch 34, Train Loss: 0.692793, Test Loss: 0.692786\n",
      "Not saving model!\n",
      "Epoch 35, Train Loss: 0.692788, Test Loss: 0.692778\n",
      "Saving model!\n",
      "Epoch 36, Train Loss: 0.692772, Test Loss: 0.692771\n",
      "Saving model!\n",
      "Epoch 37, Train Loss: 0.692774, Test Loss: 0.692766\n",
      "Saving model!\n",
      "Epoch 38, Train Loss: 0.692770, Test Loss: 0.692755\n",
      "Saving model!\n",
      "Epoch 39, Train Loss: 0.692754, Test Loss: 0.692751\n",
      "Saving model!\n",
      "Epoch 40, Train Loss: 0.692752, Test Loss: 0.692749\n",
      "Saving model!\n",
      "Epoch 41, Train Loss: 0.692744, Test Loss: 0.692749\n",
      "Saving model!\n",
      "Epoch 42, Train Loss: 0.692742, Test Loss: 0.692744\n",
      "Saving model!\n",
      "Epoch 43, Train Loss: 0.692752, Test Loss: 0.692733\n",
      "Saving model!\n",
      "Epoch 44, Train Loss: 0.692739, Test Loss: 0.692737\n",
      "Not saving model!\n",
      "Epoch 45, Train Loss: 0.692731, Test Loss: 0.692738\n",
      "Not saving model!\n",
      "Epoch 46, Train Loss: 0.692734, Test Loss: 0.692732\n",
      "Saving model!\n",
      "Epoch 47, Train Loss: 0.692739, Test Loss: 0.692730\n",
      "Saving model!\n",
      "Epoch 48, Train Loss: 0.692731, Test Loss: 0.692729\n",
      "Saving model!\n",
      "Epoch 49, Train Loss: 0.692731, Test Loss: 0.692730\n",
      "Not saving model!\n",
      "Epoch 50, Train Loss: 0.692737, Test Loss: 0.692726\n",
      "Saving model!\n",
      "Epoch 51, Train Loss: 0.692730, Test Loss: 0.692725\n",
      "Saving model!\n",
      "Epoch 52, Train Loss: 0.692727, Test Loss: 0.692718\n",
      "Saving model!\n",
      "Epoch 53, Train Loss: 0.692732, Test Loss: 0.692719\n",
      "Not saving model!\n",
      "Epoch 54, Train Loss: 0.692722, Test Loss: 0.692713\n",
      "Saving model!\n",
      "Epoch 55, Train Loss: 0.692723, Test Loss: 0.692725\n",
      "Not saving model!\n",
      "Epoch 56, Train Loss: 0.692721, Test Loss: 0.692714\n",
      "Not saving model!\n",
      "Epoch 57, Train Loss: 0.692724, Test Loss: 0.692712\n",
      "Saving model!\n",
      "Epoch 58, Train Loss: 0.692715, Test Loss: 0.692718\n",
      "Not saving model!\n",
      "Epoch 59, Train Loss: 0.692714, Test Loss: 0.692712\n",
      "Not saving model!\n",
      "Epoch 60, Train Loss: 0.692717, Test Loss: 0.692715\n",
      "Not saving model!\n",
      "Epoch 61, Train Loss: 0.692717, Test Loss: 0.692714\n",
      "Not saving model!\n",
      "Epoch 62, Train Loss: 0.692711, Test Loss: 0.692718\n",
      "Not saving model!\n",
      "Epoch 63, Train Loss: 0.692709, Test Loss: 0.692707\n",
      "Saving model!\n",
      "Epoch 64, Train Loss: 0.692710, Test Loss: 0.692710\n",
      "Not saving model!\n",
      "Epoch 65, Train Loss: 0.692709, Test Loss: 0.692714\n",
      "Not saving model!\n",
      "Epoch 66, Train Loss: 0.692710, Test Loss: 0.692707\n",
      "Saving model!\n",
      "Epoch 67, Train Loss: 0.692711, Test Loss: 0.692702\n",
      "Saving model!\n",
      "Epoch 68, Train Loss: 0.692714, Test Loss: 0.692702\n",
      "Saving model!\n",
      "Epoch 69, Train Loss: 0.692697, Test Loss: 0.692700\n",
      "Saving model!\n",
      "Epoch 70, Train Loss: 0.692707, Test Loss: 0.692703\n",
      "Not saving model!\n",
      "Epoch 71, Train Loss: 0.692700, Test Loss: 0.692709\n",
      "Not saving model!\n",
      "Epoch 72, Train Loss: 0.692701, Test Loss: 0.692700\n",
      "Not saving model!\n",
      "Epoch 73, Train Loss: 0.692708, Test Loss: 0.692708\n",
      "Not saving model!\n",
      "Epoch 74, Train Loss: 0.692700, Test Loss: 0.692709\n",
      "Not saving model!\n",
      "Epoch 75, Train Loss: 0.692703, Test Loss: 0.692709\n",
      "Not saving model!\n",
      "Epoch 76, Train Loss: 0.692706, Test Loss: 0.692702\n",
      "Not saving model!\n",
      "Epoch 77, Train Loss: 0.692703, Test Loss: 0.692700\n",
      "Not saving model!\n",
      "Epoch 78, Train Loss: 0.692702, Test Loss: 0.692698\n",
      "Saving model!\n",
      "Epoch 79, Train Loss: 0.692694, Test Loss: 0.692698\n",
      "Saving model!\n",
      "Epoch 80, Train Loss: 0.692697, Test Loss: 0.692701\n",
      "Not saving model!\n",
      "Epoch 81, Train Loss: 0.692703, Test Loss: 0.692688\n",
      "Saving model!\n",
      "Epoch 82, Train Loss: 0.692698, Test Loss: 0.692698\n",
      "Not saving model!\n",
      "Epoch 83, Train Loss: 0.692695, Test Loss: 0.692700\n",
      "Not saving model!\n",
      "Epoch 84, Train Loss: 0.692696, Test Loss: 0.692702\n",
      "Not saving model!\n",
      "Epoch 85, Train Loss: 0.692697, Test Loss: 0.692698\n",
      "Not saving model!\n",
      "Epoch 86, Train Loss: 0.692703, Test Loss: 0.692693\n",
      "Not saving model!\n",
      "Epoch 87, Train Loss: 0.692696, Test Loss: 0.692702\n",
      "Not saving model!\n",
      "Epoch 88, Train Loss: 0.692695, Test Loss: 0.692690\n",
      "Not saving model!\n",
      "Epoch 89, Train Loss: 0.692701, Test Loss: 0.692689\n",
      "Not saving model!\n",
      "Epoch 90, Train Loss: 0.692697, Test Loss: 0.692695\n",
      "Not saving model!\n",
      "Epoch 91, Train Loss: 0.692696, Test Loss: 0.692696\n",
      "Not saving model!\n",
      "Patience Limit Reached\n"
     ]
    }
   ],
   "source": [
    "best_test_loss = float('inf')\n",
    "\n",
    "for e in range(1000):\n",
    "\n",
    "    train_loss = train()\n",
    "    test_loss = test()\n",
    "\n",
    "    train_loss /= len(total_PureBkg_selection)\n",
    "    test_loss /= len(total_PureBkg_selection)\n",
    "\n",
    "    print(f'Epoch {e}, Train Loss: {train_loss:.6f}, Test Loss: {test_loss:.6f}')\n",
    "\n",
    "    if best_test_loss > test_loss:\n",
    "        best_test_loss = test_loss\n",
    "        patience_counter = 1\n",
    "        print(\"Saving model!\")\n",
    "        if mode == 'ROC':\n",
    "            torch.save(model.state_dict(),\"/data/t3home000/spark/QUASAR/weights/_bkg_vae_Vanilla_RND_conventionaltauswithmassratio_zdim3.h5\")\n",
    "        else:\n",
    "            torch.save(model.state_dict(), \"/data/t3home000/spark/QUASAR/weights/bkg_vae_Vanilla_PureBkg.h5\")\n",
    "    else:\n",
    "        patience_counter += 1\n",
    "        print(\"Not saving model!\")\n",
    "\n",
    "    if patience_counter > 10:\n",
    "        print(\"Patience Limit Reached\")\n",
    "        break"
   ]
  },
  {
   "cell_type": "code",
   "execution_count": null,
   "metadata": {},
   "outputs": [],
   "source": [
    "print(mode)"
   ]
  },
  {
   "cell_type": "code",
   "execution_count": 91,
   "metadata": {},
   "outputs": [],
   "source": [
    "torch.save(model.state_dict(),\"/data/t3home000/spark/QUASAR/weights/medianlearn_bkg_vae_Vanilla_RND_conventionaltauswithmassratio_zdim3.h5\")"
   ]
  },
  {
   "cell_type": "code",
   "execution_count": 90,
   "metadata": {},
   "outputs": [
    {
     "ename": "FileNotFoundError",
     "evalue": "[Errno 2] No such file or directory: '/data/t3home000/spark/QUASAR/weights/medianlearn_bkg_vae_Vanilla_RND_conventionaltauswithmassratio_zdim3.h5'",
     "output_type": "error",
     "traceback": [
      "\u001b[0;31m---------------------------------------------------------------------------\u001b[0m",
      "\u001b[0;31mFileNotFoundError\u001b[0m                         Traceback (most recent call last)",
      "\u001b[0;32m<ipython-input-90-a43c7d10e1a7>\u001b[0m in \u001b[0;36m<module>\u001b[0;34m\u001b[0m\n\u001b[0;32m----> 1\u001b[0;31m \u001b[0mmodel\u001b[0m\u001b[0;34m.\u001b[0m\u001b[0mload_state_dict\u001b[0m\u001b[0;34m(\u001b[0m\u001b[0mtorch\u001b[0m\u001b[0;34m.\u001b[0m\u001b[0mload\u001b[0m\u001b[0;34m(\u001b[0m\u001b[0;34m\"/data/t3home000/spark/QUASAR/weights/medianlearn_bkg_vae_Vanilla_RND_conventionaltauswithmassratio_zdim3.h5\"\u001b[0m\u001b[0;34m)\u001b[0m\u001b[0;34m)\u001b[0m\u001b[0;34m\u001b[0m\u001b[0;34m\u001b[0m\u001b[0m\n\u001b[0m",
      "\u001b[0;32m~/miniconda3/envs/myenv/lib/python3.6/site-packages/torch/serialization.py\u001b[0m in \u001b[0;36mload\u001b[0;34m(f, map_location, pickle_module, **pickle_load_args)\u001b[0m\n\u001b[1;32m    417\u001b[0m             \u001b[0;34m(\u001b[0m\u001b[0msys\u001b[0m\u001b[0;34m.\u001b[0m\u001b[0mversion_info\u001b[0m\u001b[0;34m[\u001b[0m\u001b[0;36m0\u001b[0m\u001b[0;34m]\u001b[0m \u001b[0;34m==\u001b[0m \u001b[0;36m2\u001b[0m \u001b[0;32mand\u001b[0m \u001b[0misinstance\u001b[0m\u001b[0;34m(\u001b[0m\u001b[0mf\u001b[0m\u001b[0;34m,\u001b[0m \u001b[0municode\u001b[0m\u001b[0;34m)\u001b[0m\u001b[0;34m)\u001b[0m\u001b[0;34m:\u001b[0m\u001b[0;34m\u001b[0m\u001b[0;34m\u001b[0m\u001b[0m\n\u001b[1;32m    418\u001b[0m         \u001b[0mnew_fd\u001b[0m \u001b[0;34m=\u001b[0m \u001b[0;32mTrue\u001b[0m\u001b[0;34m\u001b[0m\u001b[0;34m\u001b[0m\u001b[0m\n\u001b[0;32m--> 419\u001b[0;31m         \u001b[0mf\u001b[0m \u001b[0;34m=\u001b[0m \u001b[0mopen\u001b[0m\u001b[0;34m(\u001b[0m\u001b[0mf\u001b[0m\u001b[0;34m,\u001b[0m \u001b[0;34m'rb'\u001b[0m\u001b[0;34m)\u001b[0m\u001b[0;34m\u001b[0m\u001b[0;34m\u001b[0m\u001b[0m\n\u001b[0m\u001b[1;32m    420\u001b[0m     \u001b[0;32melif\u001b[0m \u001b[0;34m(\u001b[0m\u001b[0msys\u001b[0m\u001b[0;34m.\u001b[0m\u001b[0mversion_info\u001b[0m\u001b[0;34m[\u001b[0m\u001b[0;36m0\u001b[0m\u001b[0;34m]\u001b[0m \u001b[0;34m==\u001b[0m \u001b[0;36m3\u001b[0m \u001b[0;32mand\u001b[0m \u001b[0misinstance\u001b[0m\u001b[0;34m(\u001b[0m\u001b[0mf\u001b[0m\u001b[0;34m,\u001b[0m \u001b[0mpathlib\u001b[0m\u001b[0;34m.\u001b[0m\u001b[0mPath\u001b[0m\u001b[0;34m)\u001b[0m\u001b[0;34m)\u001b[0m\u001b[0;34m:\u001b[0m\u001b[0;34m\u001b[0m\u001b[0;34m\u001b[0m\u001b[0m\n\u001b[1;32m    421\u001b[0m         \u001b[0mnew_fd\u001b[0m \u001b[0;34m=\u001b[0m \u001b[0;32mTrue\u001b[0m\u001b[0;34m\u001b[0m\u001b[0;34m\u001b[0m\u001b[0m\n",
      "\u001b[0;31mFileNotFoundError\u001b[0m: [Errno 2] No such file or directory: '/data/t3home000/spark/QUASAR/weights/medianlearn_bkg_vae_Vanilla_RND_conventionaltauswithmassratio_zdim3.h5'"
     ]
    }
   ],
   "source": [
    "model.load_state_dict(torch.load(\"/data/t3home000/spark/QUASAR/weights/_bkg_vae_Vanilla_RND_conventionaltauswithmassratio_zdim3.h5\"))"
   ]
  },
  {
   "cell_type": "code",
   "execution_count": 74,
   "metadata": {},
   "outputs": [],
   "source": [
    "def get_loss(dt):\n",
    "    print(dt.shape)\n",
    "    \n",
    "    #for i in index_list:\n",
    "    #    print(i)\n",
    "    #    dt[:,i] = (dt[:,i]-np.mean(dt[:,i]))/np.std(dt[:,i])\n",
    "  \n",
    "    \n",
    "    total_in = torch.tensor(dt)\n",
    "    #total_in_train_x_1 = total_in.t()[0:6].t()\n",
    "    #total_in_train_x_3 = total_in.t()[7:13].t()\n",
    "    total_in_selection = total_in\n",
    "    #z_mu, z_var  = model.enc(total_in_selection.float().cuda())\n",
    "    #x_sample, z_mu, z_var = model(total_in_selection.float().cuda())\n",
    "    #std = torch.exp(z_var / 2)\n",
    "    #eps = torch.randn_like(std)\n",
    "    #x_sample = eps.mul(std).add_(z_mu)\n",
    "    #decoded_bkg = model.dec(x_sample)\n",
    "    #recon_loss = np.zeros(len(dt),dtype=np.float)\n",
    "    #for i in range(len(dt)):\n",
    "    #    recon_loss[i] = F.binary_cross_entropy(x_sample[i].float().cuda(), total_in_selection[i].float().cuda(), size_average=False).data.cpu().numpy()\n",
    "    \n",
    "    #loss_bkg = torch.mean((x_sample.float().cuda()-total_in_selection.float().cuda())**2,dim=1).data.cpu().numpy()\n",
    "\n",
    "\n",
    "    \n",
    "    with torch.no_grad():\n",
    "         #reconstruction loss\n",
    "        #x_sample, z_mu, z_var = model(total_in_selection.float().cuda())\n",
    "        #recon_loss = F.binary_cross_entropy(x_sample, total_in_selection.float().cuda(), size_average=False, reduce=None)\n",
    "        \n",
    "\n",
    "        #kl divergence loss\n",
    "        #kl_loss = 0.5 * torch.sum(torch.exp(z_var) + z_mu**2 - 1.0 - z_var)\n",
    "\n",
    "        #total loss\n",
    "        #loss = recon_loss + kl_loss\n",
    "        loss = torch.mean((model(total_in_selection.float().cuda())[0]- total_in_selection.float().cuda())**2,dim=1).data.cpu().numpy()\n",
    "    \n",
    "    return loss"
   ]
  },
  {
   "cell_type": "code",
   "execution_count": 83,
   "metadata": {},
   "outputs": [],
   "source": [
    "out = model(torch.tensor(X[bkg_idx]).float().cuda())[0]"
   ]
  },
  {
   "cell_type": "code",
   "execution_count": 84,
   "metadata": {},
   "outputs": [],
   "source": [
    "out = out.data.cpu().numpy()"
   ]
  },
  {
   "cell_type": "code",
   "execution_count": 85,
   "metadata": {},
   "outputs": [
    {
     "data": {
      "text/plain": [
       "(998007, 1)"
      ]
     },
     "execution_count": 85,
     "metadata": {},
     "output_type": "execute_result"
    }
   ],
   "source": [
    "out.shape"
   ]
  },
  {
   "cell_type": "code",
   "execution_count": 86,
   "metadata": {},
   "outputs": [
    {
     "data": {
      "text/plain": [
       "array([0.53089414, 0.34416556, 0.68248449, ..., 0.64950578, 0.48112917,\n",
       "       0.46698525])"
      ]
     },
     "execution_count": 86,
     "metadata": {},
     "output_type": "execute_result"
    }
   ],
   "source": [
    "X[:,0]"
   ]
  },
  {
   "cell_type": "code",
   "execution_count": 87,
   "metadata": {},
   "outputs": [
    {
     "data": {
      "text/plain": [
       "array([0.4984136 , 0.5222034 , 0.5232027 , ..., 0.5128679 , 0.5205478 ,\n",
       "       0.52101964], dtype=float32)"
      ]
     },
     "execution_count": 87,
     "metadata": {},
     "output_type": "execute_result"
    }
   ],
   "source": [
    "out[:,0]"
   ]
  },
  {
   "cell_type": "code",
   "execution_count": 88,
   "metadata": {},
   "outputs": [
    {
     "data": {
      "text/plain": [
       "<matplotlib.lines.Line2D at 0x7fc49c259470>"
      ]
     },
     "execution_count": 88,
     "metadata": {},
     "output_type": "execute_result"
    },
    {
     "data": {
      "image/png": "[encoded data removed]",
      "text/plain": [
       "<Figure size 432x288 with 1 Axes>"
      ]
     },
     "metadata": {
      "needs_background": "light"
     },
     "output_type": "display_data"
    }
   ],
   "source": [
    "bins = np.linspace(0,1,100)\n",
    "bins.shape\n",
    "column = 0\n",
    "#print(f_rnd.columns[column])\n",
    "plt.hist(X[bkg_idx,column],bins,alpha=0.5,color='b');\n",
    "plt.hist(out[:,column],bins,alpha=0.5,color='r');\n",
    "plt.axvline(np.mean(X[bkg_idx,column]))"
   ]
  },
  {
   "cell_type": "code",
   "execution_count": 137,
   "metadata": {},
   "outputs": [
    {
     "data": {
      "text/plain": [
       "(99890, 30)"
      ]
     },
     "execution_count": 137,
     "metadata": {},
     "output_type": "execute_result"
    }
   ],
   "source": [
    "X[sig_idx].shape"
   ]
  },
  {
   "cell_type": "code",
   "execution_count": 138,
   "metadata": {},
   "outputs": [
    {
     "name": "stdout",
     "output_type": "stream",
     "text": [
      "(998007, 30)\n",
      "(99890, 30)\n"
     ]
    }
   ],
   "source": [
    "loss_bkg = get_loss(X[bkg_idx])\n",
    "loss_sig = get_loss(X[sig_idx])"
   ]
  },
  {
   "cell_type": "code",
   "execution_count": 139,
   "metadata": {},
   "outputs": [
    {
     "data": {
      "text/plain": [
       "99890"
      ]
     },
     "execution_count": 139,
     "metadata": {},
     "output_type": "execute_result"
    }
   ],
   "source": [
    "len(loss_sig)"
   ]
  },
  {
   "cell_type": "code",
   "execution_count": 140,
   "metadata": {},
   "outputs": [
    {
     "data": {
      "image/png": "[encoded data removed]",
      "text/plain": [
       "<Figure size 720x720 with 1 Axes>"
      ]
     },
     "metadata": {
      "needs_background": "light"
     },
     "output_type": "display_data"
    }
   ],
   "source": [
    "plt.rcParams[\"figure.figsize\"] = (10,10)\n",
    "\n",
    "bins = np.linspace(0,0.05,1000)\n",
    "plt.hist(loss_bkg,bins=bins,alpha=0.3,color='b',label='bkg');\n",
    "plt.hist(loss_sig,bins=bins,weights=np.ones(len(loss_sig))*1,alpha=0.3,color='r',label='sig');\n",
    "plt.xlabel(r'Autoencoder Loss')\n",
    "plt.ylabel('Count')\n",
    "plt.legend(loc='upper right')\n",
    "plt.show()"
   ]
  },
  {
   "cell_type": "markdown",
   "metadata": {},
   "source": [
    "### ROC\n"
   ]
  },
  {
   "cell_type": "code",
   "execution_count": 63,
   "metadata": {},
   "outputs": [],
   "source": [
    "def get_tpr_fpr(sigloss,bkgloss,aetype='bkg'):\n",
    "    bins = np.linspace(0,0.05,1001)\n",
    "    tpr = []\n",
    "    fpr = []\n",
    "    for cut in bins:\n",
    "        if aetype == 'sig':\n",
    "            tpr.append(np.where(sigloss<cut)[0].shape[0]/len(sigloss))\n",
    "            fpr.append(np.where(bkgloss<cut)[0].shape[0]/len(bkgloss))\n",
    "        if aetype == 'bkg':\n",
    "            tpr.append(np.where(sigloss>cut)[0].shape[0]/len(sigloss))\n",
    "            fpr.append(np.where(bkgloss>cut)[0].shape[0]/len(bkgloss))\n",
    "    return tpr,fpr  "
   ]
  },
  {
   "cell_type": "code",
   "execution_count": 64,
   "metadata": {},
   "outputs": [],
   "source": [
    "tpr, fpr = get_tpr_fpr(loss_sig,loss_bkg)"
   ]
  },
  {
   "cell_type": "code",
   "execution_count": 65,
   "metadata": {
    "scrolled": true
   },
   "outputs": [
    {
     "data": {
      "text/plain": [
       "[<matplotlib.lines.Line2D at 0x7fe7c5fe8a90>]"
      ]
     },
     "execution_count": 65,
     "metadata": {},
     "output_type": "execute_result"
    },
    {
     "data": {
      "image/png": "[encoded data removed]",
      "text/plain": [
       "<Figure size 720x720 with 1 Axes>"
      ]
     },
     "metadata": {
      "needs_background": "light"
     },
     "output_type": "display_data"
    }
   ],
   "source": [
    "plt.plot(fpr,tpr)"
   ]
  },
  {
   "cell_type": "code",
   "execution_count": null,
   "metadata": {},
   "outputs": [],
   "source": [
    "np.save('VanillaVAE_conventionaltau_zdim3_sigloss.npy',loss_sig)\n",
    "np.save('VanillaVAE_conventionaltau_zdim3_bkgloss.npy',loss_bkg)"
   ]
  },
  {
   "cell_type": "markdown",
   "metadata": {},
   "source": [
    "### PRECISION - RECALL"
   ]
  },
  {
   "cell_type": "code",
   "execution_count": null,
   "metadata": {},
   "outputs": [],
   "source": [
    "def get_precision_recall(sigloss,bkgloss,aetype='bkg'):\n",
    "    bins = np.linspace(0,2,1001)\n",
    "    tpr = []\n",
    "    fpr = []\n",
    "    precision = []\n",
    "    for cut in bins:\n",
    "        if aetype == 'sig':\n",
    "            tpr.append(np.where(sigloss<cut)[0].shape[0]/len(sigloss))\n",
    "            precision.append((np.where(sigloss<cut)[0].shape[0])/(np.where(bkgloss<cut)[0].shape[0]+np.where(sigloss<cut)[0].shape[0]))\n",
    "            \n",
    "        if aetype == 'bkg':\n",
    "            tpr.append(np.where(sigloss>cut)[0].shape[0]/len(sigloss))\n",
    "            precision.append((np.where(sigloss>cut)[0].shape[0])/(np.where(bkgloss>cut)[0].shape[0]+np.where(sigloss>cut)[0].shape[0]))\n",
    "    return precision,tpr      "
   ]
  },
  {
   "cell_type": "code",
   "execution_count": null,
   "metadata": {},
   "outputs": [],
   "source": [
    "prec, rec = get_precision_recall(loss_sig,loss_bkg)"
   ]
  },
  {
   "cell_type": "code",
   "execution_count": null,
   "metadata": {},
   "outputs": [],
   "source": [
    "plt.plot(rec,prec)"
   ]
  },
  {
   "cell_type": "code",
   "execution_count": null,
   "metadata": {},
   "outputs": [],
   "source": []
  },
  {
   "cell_type": "code",
   "execution_count": null,
   "metadata": {},
   "outputs": [],
   "source": [
    "jnm"
   ]
  }
 ],
 "metadata": {
  "kernelspec": {
   "display_name": "Python 3",
   "language": "python",
   "name": "python3"
  },
  "language_info": {
   "codemirror_mode": {
    "name": "ipython",
    "version": 3
   },
   "file_extension": ".py",
   "mimetype": "text/x-python",
   "name": "python",
   "nbconvert_exporter": "python",
   "pygments_lexer": "ipython3",
   "version": "3.6.7"
  }
 },
 "nbformat": 4,
 "nbformat_minor": 4
}
