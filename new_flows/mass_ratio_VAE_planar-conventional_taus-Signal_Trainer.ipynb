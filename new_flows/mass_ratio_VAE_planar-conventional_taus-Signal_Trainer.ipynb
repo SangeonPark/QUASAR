{
 "cells": [
  {
   "cell_type": "code",
   "execution_count": 1,
   "metadata": {},
   "outputs": [],
   "source": [
    "import numpy as np\n",
    "import scipy as sp\n",
    "import scipy.stats\n",
    "import itertools\n",
    "import logging\n",
    "import matplotlib.pyplot as plt\n",
    "import pandas as pd\n",
    "import torch.utils.data as utils\n",
    "import math\n",
    "import time\n",
    "import tqdm\n",
    "\n",
    "import torch\n",
    "import torch.optim as optim\n",
    "import torch.nn.functional as F\n",
    "from argparse import ArgumentParser\n",
    "from torch.distributions import MultivariateNormal\n",
    "\n",
    "import torch.nn as nn\n",
    "import torch.nn.init as init\n",
    "\n",
    "from flows import RealNVP, Planar, MAF\n",
    "from models import NormalizingFlowModel"
   ]
  },
  {
   "cell_type": "markdown",
   "metadata": {},
   "source": [
    "## Load and process the data"
   ]
  },
  {
   "cell_type": "code",
   "execution_count": 1,
   "metadata": {},
   "outputs": [],
   "source": [
    "mode = 'ROC'"
   ]
  },
  {
   "cell_type": "code",
   "execution_count": 3,
   "metadata": {},
   "outputs": [],
   "source": [
    "f_rnd = pd.read_hdf(\"/data/t3home000/spark/QUASAR/preprocessing/conventional_tau_rnd.h5\")"
   ]
  },
  {
   "cell_type": "code",
   "execution_count": 4,
   "metadata": {},
   "outputs": [],
   "source": [
    "columns = f_rnd.columns"
   ]
  },
  {
   "cell_type": "code",
   "execution_count": 5,
   "metadata": {},
   "outputs": [
    {
     "data": {
      "text/plain": [
       "Index(['Mj1', 'j1 tau21', 'j1 tau32', 'j1 tau43', 'j1 sqrt(tau^2_1)/tau^1_1',\n",
       "       'j1 n_trk', 'j1 M_trim', 'j1 M_prun', 'j1 M_mmdt', 'j1 M_sdb1',\n",
       "       'j1 M_sdb2', 'j1 M_sdm1', 'Mj2', 'j2 tau21', 'j2 tau32', 'j2 tau43',\n",
       "       'j2 sqrt(tau^2_1)/tau^1_1', 'j2 n_trk', 'j2 M_trim', 'j2 M_prun',\n",
       "       'j2 M_mmdt', 'j2 M_sdb1', 'j2 M_sdb2', 'j2 M_sdm1'],\n",
       "      dtype='object')"
      ]
     },
     "execution_count": 5,
     "metadata": {},
     "output_type": "execute_result"
    }
   ],
   "source": [
    "columns[[3,4,5,6,11,12,13,14,15,16,17,18,19,20,21,22,27,28,29,30,31,32,33,34]]"
   ]
  },
  {
   "cell_type": "code",
   "execution_count": 49,
   "metadata": {},
   "outputs": [
    {
     "data": {
      "text/plain": [
       "'j1 M_sdm1'"
      ]
     },
     "execution_count": 49,
     "metadata": {},
     "output_type": "execute_result"
    }
   ],
   "source": [
    "columns[18]"
   ]
  },
  {
   "cell_type": "code",
   "execution_count": 50,
   "metadata": {},
   "outputs": [
    {
     "data": {
      "text/html": [
       "<div>\n",
       "<style scoped>\n",
       "    .dataframe tbody tr th:only-of-type {\n",
       "        vertical-align: middle;\n",
       "    }\n",
       "\n",
       "    .dataframe tbody tr th {\n",
       "        vertical-align: top;\n",
       "    }\n",
       "\n",
       "    .dataframe thead th {\n",
       "        text-align: right;\n",
       "    }\n",
       "</style>\n",
       "<table border=\"1\" class=\"dataframe\">\n",
       "  <thead>\n",
       "    <tr style=\"text-align: right;\">\n",
       "      <th></th>\n",
       "      <th>Mjj</th>\n",
       "      <th>j1 pT</th>\n",
       "      <th>j2 pT</th>\n",
       "      <th>Mj1</th>\n",
       "      <th>j1 tau21</th>\n",
       "      <th>j1 tau32</th>\n",
       "      <th>j1 tau43</th>\n",
       "      <th>j1 tau54</th>\n",
       "      <th>j1 tau65</th>\n",
       "      <th>j1 tau76</th>\n",
       "      <th>...</th>\n",
       "      <th>j2 tau87</th>\n",
       "      <th>j2 sqrt(tau^2_1)/tau^1_1</th>\n",
       "      <th>j2 n_trk</th>\n",
       "      <th>j2 M_trim</th>\n",
       "      <th>j2 M_prun</th>\n",
       "      <th>j2 M_mmdt</th>\n",
       "      <th>j2 M_sdb1</th>\n",
       "      <th>j2 M_sdb2</th>\n",
       "      <th>j2 M_sdm1</th>\n",
       "      <th>isSignal</th>\n",
       "    </tr>\n",
       "  </thead>\n",
       "  <tbody>\n",
       "    <tr>\n",
       "      <th>0</th>\n",
       "      <td>2577.571899</td>\n",
       "      <td>1285.895950</td>\n",
       "      <td>1282.286017</td>\n",
       "      <td>98.677270</td>\n",
       "      <td>0.528903</td>\n",
       "      <td>0.788281</td>\n",
       "      <td>0.904471</td>\n",
       "      <td>0.881570</td>\n",
       "      <td>0.911651</td>\n",
       "      <td>0.869766</td>\n",
       "      <td>...</td>\n",
       "      <td>0.865858</td>\n",
       "      <td>1.895988</td>\n",
       "      <td>128.0</td>\n",
       "      <td>42.162664</td>\n",
       "      <td>18.466533</td>\n",
       "      <td>18.466533</td>\n",
       "      <td>31.845136</td>\n",
       "      <td>42.162664</td>\n",
       "      <td>0.000000</td>\n",
       "      <td>0.0</td>\n",
       "    </tr>\n",
       "    <tr>\n",
       "      <th>1</th>\n",
       "      <td>3807.507389</td>\n",
       "      <td>1334.493332</td>\n",
       "      <td>1306.137883</td>\n",
       "      <td>584.595432</td>\n",
       "      <td>0.345626</td>\n",
       "      <td>0.463461</td>\n",
       "      <td>0.865982</td>\n",
       "      <td>0.892948</td>\n",
       "      <td>0.843223</td>\n",
       "      <td>0.939763</td>\n",
       "      <td>...</td>\n",
       "      <td>0.934968</td>\n",
       "      <td>1.377217</td>\n",
       "      <td>348.0</td>\n",
       "      <td>395.226881</td>\n",
       "      <td>393.309512</td>\n",
       "      <td>405.034096</td>\n",
       "      <td>405.034096</td>\n",
       "      <td>405.034096</td>\n",
       "      <td>405.034096</td>\n",
       "      <td>0.0</td>\n",
       "    </tr>\n",
       "    <tr>\n",
       "      <th>2</th>\n",
       "      <td>1710.965414</td>\n",
       "      <td>1072.462085</td>\n",
       "      <td>678.557182</td>\n",
       "      <td>159.597526</td>\n",
       "      <td>0.677692</td>\n",
       "      <td>0.690707</td>\n",
       "      <td>0.695322</td>\n",
       "      <td>0.823351</td>\n",
       "      <td>0.861655</td>\n",
       "      <td>0.909383</td>\n",
       "      <td>...</td>\n",
       "      <td>0.902637</td>\n",
       "      <td>1.887494</td>\n",
       "      <td>236.0</td>\n",
       "      <td>54.235070</td>\n",
       "      <td>41.967840</td>\n",
       "      <td>41.352112</td>\n",
       "      <td>51.721630</td>\n",
       "      <td>70.442364</td>\n",
       "      <td>-0.000003</td>\n",
       "      <td>0.0</td>\n",
       "    </tr>\n",
       "    <tr>\n",
       "      <th>3</th>\n",
       "      <td>2603.379037</td>\n",
       "      <td>1284.020224</td>\n",
       "      <td>1217.031950</td>\n",
       "      <td>515.237299</td>\n",
       "      <td>0.091038</td>\n",
       "      <td>0.784454</td>\n",
       "      <td>0.860716</td>\n",
       "      <td>0.887306</td>\n",
       "      <td>0.885916</td>\n",
       "      <td>0.950761</td>\n",
       "      <td>...</td>\n",
       "      <td>0.924068</td>\n",
       "      <td>1.997360</td>\n",
       "      <td>352.0</td>\n",
       "      <td>81.842001</td>\n",
       "      <td>60.307703</td>\n",
       "      <td>60.307703</td>\n",
       "      <td>72.423677</td>\n",
       "      <td>84.480859</td>\n",
       "      <td>0.000003</td>\n",
       "      <td>0.0</td>\n",
       "    </tr>\n",
       "    <tr>\n",
       "      <th>4</th>\n",
       "      <td>3294.162200</td>\n",
       "      <td>1205.343324</td>\n",
       "      <td>1087.658980</td>\n",
       "      <td>142.420213</td>\n",
       "      <td>0.507714</td>\n",
       "      <td>0.522686</td>\n",
       "      <td>0.904070</td>\n",
       "      <td>0.908468</td>\n",
       "      <td>0.918753</td>\n",
       "      <td>0.928911</td>\n",
       "      <td>...</td>\n",
       "      <td>0.906367</td>\n",
       "      <td>1.113248</td>\n",
       "      <td>204.0</td>\n",
       "      <td>103.456059</td>\n",
       "      <td>99.817788</td>\n",
       "      <td>103.456059</td>\n",
       "      <td>103.456059</td>\n",
       "      <td>103.456059</td>\n",
       "      <td>0.000008</td>\n",
       "      <td>1.0</td>\n",
       "    </tr>\n",
       "  </tbody>\n",
       "</table>\n",
       "<p>5 rows × 36 columns</p>\n",
       "</div>"
      ],
      "text/plain": [
       "           Mjj        j1 pT        j2 pT         Mj1  j1 tau21  j1 tau32  \\\n",
       "0  2577.571899  1285.895950  1282.286017   98.677270  0.528903  0.788281   \n",
       "1  3807.507389  1334.493332  1306.137883  584.595432  0.345626  0.463461   \n",
       "2  1710.965414  1072.462085   678.557182  159.597526  0.677692  0.690707   \n",
       "3  2603.379037  1284.020224  1217.031950  515.237299  0.091038  0.784454   \n",
       "4  3294.162200  1205.343324  1087.658980  142.420213  0.507714  0.522686   \n",
       "\n",
       "   j1 tau43  j1 tau54  j1 tau65  j1 tau76  ...  j2 tau87  \\\n",
       "0  0.904471  0.881570  0.911651  0.869766  ...  0.865858   \n",
       "1  0.865982  0.892948  0.843223  0.939763  ...  0.934968   \n",
       "2  0.695322  0.823351  0.861655  0.909383  ...  0.902637   \n",
       "3  0.860716  0.887306  0.885916  0.950761  ...  0.924068   \n",
       "4  0.904070  0.908468  0.918753  0.928911  ...  0.906367   \n",
       "\n",
       "   j2 sqrt(tau^2_1)/tau^1_1  j2 n_trk   j2 M_trim   j2 M_prun   j2 M_mmdt  \\\n",
       "0                  1.895988     128.0   42.162664   18.466533   18.466533   \n",
       "1                  1.377217     348.0  395.226881  393.309512  405.034096   \n",
       "2                  1.887494     236.0   54.235070   41.967840   41.352112   \n",
       "3                  1.997360     352.0   81.842001   60.307703   60.307703   \n",
       "4                  1.113248     204.0  103.456059   99.817788  103.456059   \n",
       "\n",
       "    j2 M_sdb1   j2 M_sdb2   j2 M_sdm1  isSignal  \n",
       "0   31.845136   42.162664    0.000000       0.0  \n",
       "1  405.034096  405.034096  405.034096       0.0  \n",
       "2   51.721630   70.442364   -0.000003       0.0  \n",
       "3   72.423677   84.480859    0.000003       0.0  \n",
       "4  103.456059  103.456059    0.000008       1.0  \n",
       "\n",
       "[5 rows x 36 columns]"
      ]
     },
     "execution_count": 50,
     "metadata": {},
     "output_type": "execute_result"
    }
   ],
   "source": [
    "f_rnd.head()"
   ]
  },
  {
   "cell_type": "code",
   "execution_count": 51,
   "metadata": {},
   "outputs": [],
   "source": [
    "if mode == 'ROC':\n",
    "    dt = f_rnd.values\n",
    "else:\n",
    "    dt_PureBkg = dt_PureBkg = f_PureBkg.values"
   ]
  },
  {
   "cell_type": "code",
   "execution_count": 52,
   "metadata": {},
   "outputs": [],
   "source": [
    "idx = dt[:,-1]\n",
    "bkg_idx = np.where(idx==0)[0]\n",
    "signal_idx = np.where(idx==1)[0]"
   ]
  },
  {
   "cell_type": "code",
   "execution_count": 53,
   "metadata": {},
   "outputs": [
    {
     "data": {
      "image/png": "[encoded data removed]",
      "text/plain": [
       "<Figure size 432x288 with 1 Axes>"
      ]
     },
     "metadata": {
      "needs_background": "light"
     },
     "output_type": "display_data"
    }
   ],
   "source": [
    "bins = np.linspace(0,1,101)\n",
    "plt.hist(dt[signal_idx,33],bins,weights = np.ones(len(signal_idx))*(len(bkg_idx)/len(signal_idx)),alpha=0.2,color='r');\n",
    "plt.hist(dt[bkg_idx,33],bins,alpha=0.2,color='b');"
   ]
  },
  {
   "cell_type": "code",
   "execution_count": 54,
   "metadata": {},
   "outputs": [],
   "source": [
    "correct = (dt[:,3]>0) &(dt[:,19]>0)"
   ]
  },
  {
   "cell_type": "code",
   "execution_count": 55,
   "metadata": {},
   "outputs": [],
   "source": [
    "dt = dt[correct]"
   ]
  },
  {
   "cell_type": "code",
   "execution_count": 56,
   "metadata": {},
   "outputs": [
    {
     "data": {
      "text/plain": [
       "(1099885, 36)"
      ]
     },
     "execution_count": 56,
     "metadata": {},
     "output_type": "execute_result"
    }
   ],
   "source": [
    "dt.shape"
   ]
  },
  {
   "cell_type": "code",
   "execution_count": 14,
   "metadata": {},
   "outputs": [],
   "source": [
    "idx = dt[:,-1]\n",
    "bkg_idx = np.where(idx==0)[0]\n",
    "signal_idx = np.where((idx==1) & (dt[:,3]>300)) [0]"
   ]
  },
  {
   "cell_type": "code",
   "execution_count": 15,
   "metadata": {},
   "outputs": [
    {
     "data": {
      "text/plain": [
       "(77119,)"
      ]
     },
     "execution_count": 15,
     "metadata": {},
     "output_type": "execute_result"
    }
   ],
   "source": [
    "signal_idx.shape"
   ]
  },
  {
   "cell_type": "code",
   "execution_count": 16,
   "metadata": {},
   "outputs": [
    {
     "data": {
      "image/png": "[encoded data removed]",
      "text/plain": [
       "<Figure size 432x288 with 1 Axes>"
      ]
     },
     "metadata": {
      "needs_background": "light"
     },
     "output_type": "display_data"
    }
   ],
   "source": [
    "bins = np.linspace(-2,19,200)\n",
    "plt.hist(dt[signal_idx,17],bins,weights = np.ones(len(signal_idx))*10,alpha=0.2,color='r');\n",
    "plt.hist(dt[bkg_idx,17],bins,alpha=0.2,color='b');"
   ]
  },
  {
   "cell_type": "code",
   "execution_count": 17,
   "metadata": {},
   "outputs": [],
   "source": [
    "correct = (dt[:,3]>200) &(dt[:,19]>20) & (dt[:, 4] > 0)& (dt[:, 5] > 0)& (dt[:, 6] > 0)& (dt[:, 7] > 0)& (dt[:, 8] > 0) & (dt[:, 20] > 0)& (dt[:, 21] > 0)& (dt[:, 22] > 0)& (dt[:, 23] > 0)& (dt[:, 24] > 0) & (dt[:, 25] > 0)& (dt[:, 26] > 0)\n"
   ]
  },
  {
   "cell_type": "code",
   "execution_count": 18,
   "metadata": {},
   "outputs": [],
   "source": [
    "dt = dt[correct]"
   ]
  },
  {
   "cell_type": "code",
   "execution_count": 19,
   "metadata": {},
   "outputs": [
    {
     "data": {
      "text/plain": [
       "(534018, 36)"
      ]
     },
     "execution_count": 19,
     "metadata": {},
     "output_type": "execute_result"
    }
   ],
   "source": [
    "dt.shape"
   ]
  },
  {
   "cell_type": "code",
   "execution_count": 27,
   "metadata": {},
   "outputs": [],
   "source": [
    "idx = dt[:,-1]\n",
    "bkg_idx = np.where(idx==0)[0]\n",
    "signal_idx = np.where(idx==1)[0]"
   ]
  },
  {
   "cell_type": "code",
   "execution_count": 50,
   "metadata": {},
   "outputs": [
    {
     "data": {
      "image/png": "[encoded data removed]",
      "text/plain": [
       "<Figure size 432x288 with 1 Axes>"
      ]
     },
     "metadata": {
      "needs_background": "light"
     },
     "output_type": "display_data"
    }
   ],
   "source": [
    "bins = np.linspace(0,2,101)\n",
    "plt.hist(dt[signal_idx,32],bins,weights = np.ones(len(signal_idx))*10,alpha=0.2,color='r');\n",
    "plt.hist(dt[bkg_idx,32],bins,alpha=0.2,color='b');"
   ]
  },
  {
   "cell_type": "code",
   "execution_count": 14,
   "metadata": {},
   "outputs": [],
   "source": [
    "#for i in [4,5,6,7,8,9,10, 20, 21, 22, 23, 24, 25,26]:\n",
    "    #X[:,i] = (X[:,i]-np.mean(X[:,i]))/np.std(X[:,i])\n",
    "    #dt[:,i] = ((dt[:,i]-np.min(dt[:,i]))/(np.max(dt[:,i])-np.min(dt[:,i])))"
   ]
  },
  {
   "cell_type": "code",
   "execution_count": 50,
   "metadata": {},
   "outputs": [],
   "source": [
    "for i in range(13,19):\n",
    "    dt[:,i] = dt[:,i]/dt[:,3]\n",
    "    \n",
    "for i in range(29,35):\n",
    "    dt[:,i] = dt[:,i]/(dt[:,19])"
   ]
  },
  {
   "cell_type": "code",
   "execution_count": 17,
   "metadata": {},
   "outputs": [],
   "source": [
    "#for i in [11,27,12,28,3,19]:\n",
    "#    dt[:,i] = (dt[:,i]-np.min(dt[:,i]))/(np.max(dt[:,i])-np.min(dt[:,i]))"
   ]
  },
  {
   "cell_type": "code",
   "execution_count": 15,
   "metadata": {},
   "outputs": [],
   "source": [
    "#X = np.concatenate((dt[:,3:18], dt[:,19:34]), axis=1)"
   ]
  },
  {
   "cell_type": "code",
   "execution_count": 16,
   "metadata": {},
   "outputs": [],
   "source": [
    "#X = dt[:,3:34]"
   ]
  },
  {
   "cell_type": "code",
   "execution_count": 95,
   "metadata": {},
   "outputs": [],
   "source": [
    "#CWoLa Variables\n",
    "X = dt[:,[3,4,5,6,11,12,13,14,15,16,17,18,19,20,21,22,27,28,29,30,31,32,33,34]]"
   ]
  },
  {
   "cell_type": "code",
   "execution_count": 96,
   "metadata": {},
   "outputs": [
    {
     "data": {
      "text/plain": [
       "(1099885, 24)"
      ]
     },
     "execution_count": 96,
     "metadata": {},
     "output_type": "execute_result"
    }
   ],
   "source": [
    "X.shape"
   ]
  },
  {
   "cell_type": "code",
   "execution_count": 111,
   "metadata": {},
   "outputs": [],
   "source": [
    "bkg_mean = []\n",
    "bkg_std = []"
   ]
  },
  {
   "cell_type": "code",
   "execution_count": 112,
   "metadata": {},
   "outputs": [],
   "source": [
    "for i in range(24):\n",
    "    bkg_mean.append(np.mean(X[:,i]))\n",
    "    bkg_std.append(np.std(X[:,i]))\n",
    "    X[:,i] = (X[:,i]-np.mean(X[:,i]))/np.std(X[:,i])"
   ]
  },
  {
   "cell_type": "code",
   "execution_count": 113,
   "metadata": {},
   "outputs": [
    {
     "data": {
      "text/plain": [
       "'j1 M_trim'"
      ]
     },
     "execution_count": 113,
     "metadata": {},
     "output_type": "execute_result"
    }
   ],
   "source": [
    "columns[13]"
   ]
  },
  {
   "cell_type": "code",
   "execution_count": null,
   "metadata": {},
   "outputs": [],
   "source": []
  },
  {
   "cell_type": "code",
   "execution_count": 121,
   "metadata": {},
   "outputs": [
    {
     "data": {
      "image/png": "[encoded data removed]",
      "text/plain": [
       "<Figure size 432x288 with 1 Axes>"
      ]
     },
     "metadata": {
      "needs_background": "light"
     },
     "output_type": "display_data"
    }
   ],
   "source": [
    "bins = np.linspace(-3,3,101)\n",
    "plt.hist(X[signal_idx,9],bins,weights = np.ones(len(X[signal_idx,15]))*10,alpha=0.2,color='r');\n",
    "plt.hist(X[bkg_idx,9],bins,alpha=0.2,color='b');"
   ]
  },
  {
   "cell_type": "code",
   "execution_count": 27,
   "metadata": {},
   "outputs": [],
   "source": [
    "total_PureBkg = torch.tensor(X[bkg_idx])\n",
    "\n",
    "total_PureBkg_selection = total_PureBkg"
   ]
  },
  {
   "cell_type": "code",
   "execution_count": 39,
   "metadata": {},
   "outputs": [
    {
     "data": {
      "text/plain": [
       "torch.Size([992924, 12])"
      ]
     },
     "execution_count": 39,
     "metadata": {},
     "output_type": "execute_result"
    }
   ],
   "source": [
    "total_PureBkg_selection.shape"
   ]
  },
  {
   "cell_type": "code",
   "execution_count": 40,
   "metadata": {},
   "outputs": [],
   "source": [
    "bs = 2000\n",
    "bkgAE_train_iterator = utils.DataLoader(total_PureBkg_selection, batch_size=bs, shuffle=True) \n",
    "bkgAE_test_iterator = utils.DataLoader(total_PureBkg_selection, batch_size=bs)"
   ]
  },
  {
   "cell_type": "markdown",
   "metadata": {},
   "source": [
    "## Build the model"
   ]
  },
  {
   "cell_type": "code",
   "execution_count": 49,
   "metadata": {},
   "outputs": [],
   "source": [
    "def init_weights(m):\n",
    "    if type(m) == nn.Linear:\n",
    "        torch.nn.init.xavier_uniform_(m.weight)\n",
    "        m.bias.data.fill_(0.01)"
   ]
  },
  {
   "cell_type": "code",
   "execution_count": null,
   "metadata": {},
   "outputs": [],
   "source": []
  },
  {
   "cell_type": "code",
   "execution_count": null,
   "metadata": {},
   "outputs": [],
   "source": []
  },
  {
   "cell_type": "code",
   "execution_count": 2,
   "metadata": {},
   "outputs": [],
   "source": [
    "####MAF \n",
    "class VAE_NF(nn.Module):\n",
    "    def __init__(self, K, D):\n",
    "        super().__init__()\n",
    "        self.dim = D\n",
    "        self.K = K\n",
    "        self.encoder = nn.Sequential(\n",
    "            nn.Linear(22, 50),\n",
    "            nn.LeakyReLU(True),\n",
    "            nn.Linear(50, 48),\n",
    "            nn.LeakyReLU(True),            \n",
    "            nn.Linear(48, D * 2)\n",
    "        )\n",
    "\n",
    "        self.decoder = nn.Sequential(\n",
    "            nn.Linear(D, 48),\n",
    "            nn.LeakyReLU(True),\n",
    "            nn.Linear(48, 50),\n",
    "            nn.LeakyReLU(True),\n",
    "            nn.Linear(50, 22)\n",
    "        )\n",
    "        \n",
    "        flow_init = MAF(dim=D)\n",
    "        flows_init = [flow_init for _ in range(K)]\n",
    "        prior = MultivariateNormal(torch.zeros(D).cuda(), torch.eye(D).cuda())\n",
    "        self.flows = NormalizingFlowModel(prior, flows_init)\n",
    "\n",
    "    def forward(self, x):\n",
    "        # Run Encoder and get NF params\n",
    "        enc = self.encoder(x)\n",
    "        mu = enc[:, :self.dim]\n",
    "        log_var = enc[:, self.dim: self.dim * 2]\n",
    "\n",
    "        # Re-parametrize\n",
    "        sigma = (log_var * .5).exp()\n",
    "        z = mu + sigma * torch.randn_like(sigma)\n",
    "        kl_div = -0.5 * torch.sum(1 + log_var - mu.pow(2) - log_var.exp())\n",
    "        # Construct more expressive posterior with NF\n",
    "        \n",
    "        z_k, _, sum_ladj = self.flows(z)\n",
    "        \n",
    "        kl_div = kl_div / x.size(0) - sum_ladj.mean()  # mean over batch\n",
    "\n",
    "        # Run Decoder\n",
    "        x_prime = self.decoder(z_k)\n",
    "        return x_prime, kl_div"
   ]
  },
  {
   "cell_type": "code",
   "execution_count": 2,
   "metadata": {},
   "outputs": [],
   "source": [
    "class VAE_NF(nn.Module):\n",
    "    def __init__(self, K, D):\n",
    "        super().__init__()\n",
    "        self.dim = D\n",
    "        self.K = K\n",
    "        self.encoder = nn.Sequential(\n",
    "            nn.Linear(24, 64),\n",
    "            nn.LeakyReLU(True),\n",
    "            nn.Linear(64, 48),\n",
    "            nn.LeakyReLU(True),            \n",
    "            nn.Linear(48, D * 2)\n",
    "        )\n",
    "\n",
    "        self.decoder = nn.Sequential(\n",
    "            nn.Linear(D, 48),\n",
    "            nn.LeakyReLU(True),\n",
    "            nn.Linear(48, 64),\n",
    "            nn.LeakyReLU(True),\n",
    "            nn.Linear(64, 24)\n",
    "        )\n",
    "        \n",
    "        #self.encoder.apply(init_weights)\n",
    "        #self.decoder.apply(init_weights)\n",
    "        \n",
    "        \n",
    "        \n",
    "        flow_init = Planar(dim=D)\n",
    "        flows_init = [flow_init for _ in range(K)]\n",
    "        prior = MultivariateNormal(torch.zeros(D).cuda(), torch.eye(D).cuda())\n",
    "        self.flows = NormalizingFlowModel(prior, flows_init)\n",
    "\n",
    "    def forward(self, x):\n",
    "        # Run Encoder and get NF params\n",
    "        enc = self.encoder(x)\n",
    "        mu = enc[:, :self.dim]\n",
    "        log_var = enc[:, self.dim: self.dim * 2]\n",
    "\n",
    "        # Re-parametrize\n",
    "        sigma = (log_var * .5).exp()\n",
    "        z = mu + sigma * torch.randn_like(sigma)\n",
    "        kl_div = -0.5 * torch.sum(1 + log_var - mu.pow(2) - log_var.exp())\n",
    "        # Construct more expressive posterior with NF\n",
    "        \n",
    "        z_k, _, sum_ladj = self.flows(z)\n",
    "        \n",
    "        kl_div = kl_div / x.size(0) - sum_ladj.mean()  # mean over batch\n",
    "\n",
    "        # Run Decoder\n",
    "        x_prime = self.decoder(z_k)\n",
    "        return x_prime, kl_div"
   ]
  },
  {
   "cell_type": "markdown",
   "metadata": {},
   "source": [
    "## Creating Instance¶"
   ]
  },
  {
   "cell_type": "code",
   "execution_count": 58,
   "metadata": {},
   "outputs": [],
   "source": [
    "N_EPOCHS = 30\n",
    "PRINT_INTERVAL = 2000\n",
    "NUM_WORKERS = 4\n",
    "LR = 1e-4\n",
    "\n",
    "N_FLOWS = 6 \n",
    "Z_DIM = 8\n",
    "\n",
    "n_steps = 0"
   ]
  },
  {
   "cell_type": "code",
   "execution_count": 59,
   "metadata": {},
   "outputs": [],
   "source": [
    "model = VAE_NF(N_FLOWS, Z_DIM).cuda()"
   ]
  },
  {
   "cell_type": "code",
   "execution_count": 60,
   "metadata": {},
   "outputs": [],
   "source": [
    "optimizer = optim.Adam(model.parameters(), lr=LR)"
   ]
  },
  {
   "cell_type": "code",
   "execution_count": 18,
   "metadata": {},
   "outputs": [],
   "source": [
    "def train():\n",
    "    global n_steps\n",
    "    train_loss = []\n",
    "    model.train()\n",
    "\n",
    "    for batch_idx, x in enumerate(bkgAE_train_iterator):\n",
    "        start_time = time.time()\n",
    "        \n",
    "        x = x.float().cuda()\n",
    "\n",
    "        x_tilde, kl_div = model(x)\n",
    "        mseloss = nn.MSELoss(size_average=False)\n",
    "        #loss_recons = F.binary_cross_entropy(x_tilde, x, size_average=False) / x.size(0)\n",
    "        loss_recons = mseloss(x_tilde,x ) / x.size(0)\n",
    "        loss = loss_recons + kl_div\n",
    "\n",
    "        optimizer.zero_grad()\n",
    "        loss.backward()\n",
    "        optimizer.step()\n",
    "\n",
    "        train_loss.append([loss_recons.item(), kl_div.item()])\n",
    "\n",
    "        if (batch_idx + 1) % PRINT_INTERVAL == 0:\n",
    "            print('\\tIter [{}/{} ({:.0f}%)]\\tLoss: {} Time: {:5.3f} ms/batch'.format(\n",
    "                batch_idx * len(x), 50000,\n",
    "                PRINT_INTERVAL * batch_idx / 50000,\n",
    "                np.asarray(train_loss)[-PRINT_INTERVAL:].mean(0),\n",
    "                1000 * (time.time() - start_time)\n",
    "            ))\n",
    "\n",
    "        n_steps += 1"
   ]
  },
  {
   "cell_type": "code",
   "execution_count": 19,
   "metadata": {},
   "outputs": [],
   "source": [
    "def evaluate(split='valid'):\n",
    "    global n_steps\n",
    "    start_time = time.time()\n",
    "    val_loss = []\n",
    "    model.eval()\n",
    "\n",
    "    with torch.no_grad():\n",
    "        for batch_idx, x in enumerate(bkgAE_test_iterator):\n",
    "            \n",
    "            x = x.float().cuda()\n",
    "\n",
    "            x_tilde, kl_div = model(x)\n",
    "            mseloss = nn.MSELoss(size_average=False)\n",
    "            #loss_recons = F.binary_cross_entropy(x_tilde, x, size_average=False) / x.size(0)\n",
    "            loss_recons = mseloss(x_tilde,x ) / x.size(0)\n",
    "            loss = loss_recons + kl_div\n",
    "\n",
    "            val_loss.append(loss.item())\n",
    "            #writer.add_scalar('loss/{}/ELBO'.format(split), loss.item(), n_steps)\n",
    "            #writer.add_scalar('loss/{}/reconstruction'.format(split), loss_recons.item(), n_steps)\n",
    "            #writer.add_scalar('loss/{}/KL'.format(split), kl_div.item(), n_steps)\n",
    "\n",
    "    print('\\nEvaluation Completed ({})!\\tLoss: {:5.4f} Time: {:5.3f} s'.format(\n",
    "        split,\n",
    "        np.asarray(val_loss).mean(0),\n",
    "        time.time() - start_time\n",
    "    ))\n",
    "    return np.asarray(val_loss).mean(0)"
   ]
  },
  {
   "cell_type": "code",
   "execution_count": 20,
   "metadata": {},
   "outputs": [
    {
     "ename": "NameError",
     "evalue": "name 'model' is not defined",
     "output_type": "error",
     "traceback": [
      "\u001b[0;31m---------------------------------------------------------------------------\u001b[0m",
      "\u001b[0;31mNameError\u001b[0m                                 Traceback (most recent call last)",
      "\u001b[0;32m<ipython-input-20-a87813ffe34d>\u001b[0m in \u001b[0;36m<module>\u001b[0;34m\u001b[0m\n\u001b[0;32m----> 1\u001b[0;31m \u001b[0mprint\u001b[0m\u001b[0;34m(\u001b[0m\u001b[0mmodel\u001b[0m\u001b[0;34m)\u001b[0m\u001b[0;34m\u001b[0m\u001b[0;34m\u001b[0m\u001b[0m\n\u001b[0m",
      "\u001b[0;31mNameError\u001b[0m: name 'model' is not defined"
     ]
    }
   ],
   "source": [
    "print(model)"
   ]
  },
  {
   "cell_type": "code",
   "execution_count": 48,
   "metadata": {},
   "outputs": [],
   "source": [
    "optimizer = optim.Adam(model.parameters(), lr=1e-4)"
   ]
  },
  {
   "cell_type": "code",
   "execution_count": 65,
   "metadata": {
    "scrolled": true
   },
   "outputs": [
    {
     "name": "stdout",
     "output_type": "stream",
     "text": [
      "Epoch 1:\n"
     ]
    },
    {
     "ename": "NameError",
     "evalue": "name 'model' is not defined",
     "output_type": "error",
     "traceback": [
      "\u001b[0;31m---------------------------------------------------------------------------\u001b[0m",
      "\u001b[0;31mNameError\u001b[0m                                 Traceback (most recent call last)",
      "\u001b[0;32m<ipython-input-65-d6420c8b9bbb>\u001b[0m in \u001b[0;36m<module>\u001b[0;34m\u001b[0m\n\u001b[1;32m      6\u001b[0m \u001b[0;32mfor\u001b[0m \u001b[0mepoch\u001b[0m \u001b[0;32min\u001b[0m \u001b[0mrange\u001b[0m\u001b[0;34m(\u001b[0m\u001b[0;36m1\u001b[0m\u001b[0;34m,\u001b[0m \u001b[0;36m1000\u001b[0m\u001b[0;34m)\u001b[0m\u001b[0;34m:\u001b[0m\u001b[0;34m\u001b[0m\u001b[0;34m\u001b[0m\u001b[0m\n\u001b[1;32m      7\u001b[0m     \u001b[0mprint\u001b[0m\u001b[0;34m(\u001b[0m\u001b[0;34m\"Epoch {}:\"\u001b[0m\u001b[0;34m.\u001b[0m\u001b[0mformat\u001b[0m\u001b[0;34m(\u001b[0m\u001b[0mepoch\u001b[0m\u001b[0;34m)\u001b[0m\u001b[0;34m)\u001b[0m\u001b[0;34m\u001b[0m\u001b[0;34m\u001b[0m\u001b[0m\n\u001b[0;32m----> 8\u001b[0;31m     \u001b[0mtrain\u001b[0m\u001b[0;34m(\u001b[0m\u001b[0;34m)\u001b[0m\u001b[0;34m\u001b[0m\u001b[0;34m\u001b[0m\u001b[0m\n\u001b[0m\u001b[1;32m      9\u001b[0m     \u001b[0mcur_loss\u001b[0m \u001b[0;34m=\u001b[0m \u001b[0mevaluate\u001b[0m\u001b[0;34m(\u001b[0m\u001b[0;34m)\u001b[0m\u001b[0;34m\u001b[0m\u001b[0;34m\u001b[0m\u001b[0m\n\u001b[1;32m     10\u001b[0m \u001b[0;34m\u001b[0m\u001b[0m\n",
      "\u001b[0;32m<ipython-input-18-62d0b2709614>\u001b[0m in \u001b[0;36mtrain\u001b[0;34m()\u001b[0m\n\u001b[1;32m      2\u001b[0m     \u001b[0;32mglobal\u001b[0m \u001b[0mn_steps\u001b[0m\u001b[0;34m\u001b[0m\u001b[0;34m\u001b[0m\u001b[0m\n\u001b[1;32m      3\u001b[0m     \u001b[0mtrain_loss\u001b[0m \u001b[0;34m=\u001b[0m \u001b[0;34m[\u001b[0m\u001b[0;34m]\u001b[0m\u001b[0;34m\u001b[0m\u001b[0;34m\u001b[0m\u001b[0m\n\u001b[0;32m----> 4\u001b[0;31m     \u001b[0mmodel\u001b[0m\u001b[0;34m.\u001b[0m\u001b[0mtrain\u001b[0m\u001b[0;34m(\u001b[0m\u001b[0;34m)\u001b[0m\u001b[0;34m\u001b[0m\u001b[0;34m\u001b[0m\u001b[0m\n\u001b[0m\u001b[1;32m      5\u001b[0m \u001b[0;34m\u001b[0m\u001b[0m\n\u001b[1;32m      6\u001b[0m     \u001b[0;32mfor\u001b[0m \u001b[0mbatch_idx\u001b[0m\u001b[0;34m,\u001b[0m \u001b[0mx\u001b[0m \u001b[0;32min\u001b[0m \u001b[0menumerate\u001b[0m\u001b[0;34m(\u001b[0m\u001b[0mbkgAE_train_iterator\u001b[0m\u001b[0;34m)\u001b[0m\u001b[0;34m:\u001b[0m\u001b[0;34m\u001b[0m\u001b[0;34m\u001b[0m\u001b[0m\n",
      "\u001b[0;31mNameError\u001b[0m: name 'model' is not defined"
     ]
    }
   ],
   "source": [
    "N_EPOCHS = 10\n",
    "BEST_LOSS = 99999999\n",
    "LAST_SAVED = -1\n",
    "PATIENCE_COUNT = 0\n",
    "PATIENCE_LIMIT = 5\n",
    "for epoch in range(1, 1000):\n",
    "    print(\"Epoch {}:\".format(epoch))\n",
    "    train()\n",
    "    cur_loss = evaluate()\n",
    "\n",
    "    if cur_loss <= BEST_LOSS:\n",
    "        PATIENCE_COUNT = 0\n",
    "        BEST_LOSS = cur_loss\n",
    "        LAST_SAVED = epoch\n",
    "        print(\"Saving model!\")\n",
    "        if mode == 'ROC':\n",
    "            torch.save(model.state_dict(),\"/data/t3home000/spark/QUASAR/weights/bkg_vae_NF_planar_RND_cwola.h5\")\n",
    "        else:\n",
    "            torch.save(model.state_dict(), \"/data/t3home000/spark/QUASAR/weights/bkg_vae_NF_planar_PureBkg_22var.h5\")\n",
    "    else:\n",
    "        PATIENCE_COUNT += 1\n",
    "        print(\"Not saving model! Last saved: {}\".format(LAST_SAVED))\n",
    "        if PATIENCE_COUNT > 5:\n",
    "            print(\"Patience Limit Reached\")\n",
    "            break "
   ]
  },
  {
   "cell_type": "code",
   "execution_count": 64,
   "metadata": {},
   "outputs": [
    {
     "data": {
      "text/plain": [
       "<All keys matched successfully>"
      ]
     },
     "execution_count": 64,
     "metadata": {},
     "output_type": "execute_result"
    }
   ],
   "source": [
    "model.load_state_dict(torch.load(\"/data/t3home000/spark/QUASAR/weights/bkg_vae_NF_planar_RND_cwola.h5\"))"
   ]
  },
  {
   "cell_type": "markdown",
   "metadata": {},
   "source": [
    "## Testing with the trained model"
   ]
  },
  {
   "cell_type": "code",
   "execution_count": 22,
   "metadata": {},
   "outputs": [],
   "source": [
    "def get_loss(dt):\n",
    "    print(dt.shape)\n",
    "    \n",
    "    #for i in index_list:\n",
    "    #    print(i)\n",
    "    #    dt[:,i] = (dt[:,i]-np.mean(dt[:,i]))/np.std(dt[:,i])\n",
    "  \n",
    "    \n",
    "    total_in = torch.tensor(dt)\n",
    "    #total_in_train_x_1 = total_in.t()[0:6].t()\n",
    "    #total_in_train_x_3 = total_in.t()[7:13].t()\n",
    "    total_in_selection = total_in\n",
    "    #z_mu, z_var  = model.enc(total_in_selection.float().cuda())\n",
    "    #x_sample, z_mu, z_var = model(total_in_selection.float().cuda())\n",
    "    #std = torch.exp(z_var / 2)\n",
    "    #eps = torch.randn_like(std)\n",
    "    #x_sample = eps.mul(std).add_(z_mu)\n",
    "    #decoded_bkg = model.dec(x_sample)\n",
    "    #recon_loss = np.zeros(len(dt),dtype=np.float)\n",
    "    #for i in range(len(dt)):\n",
    "    #    recon_loss[i] = F.binary_cross_entropy(x_sample[i].float().cuda(), total_in_selection[i].float().cuda(), size_average=False).data.cpu().numpy()\n",
    "    \n",
    "    #loss_bkg = torch.mean((x_sample.float().cuda()-total_in_selection.float().cuda())**2,dim=1).data.cpu().numpy()\n",
    "\n",
    "\n",
    "    \n",
    "    with torch.no_grad():\n",
    "         #reconstruction loss\n",
    "        #x_sample, z_mu, z_var = model(total_in_selection.float().cuda())\n",
    "        #recon_loss = F.binary_cross_entropy(x_sample, total_in_selection.float().cuda(), size_average=False, reduce=None)\n",
    "        \n",
    "\n",
    "        #kl divergence loss\n",
    "        #kl_loss = 0.5 * torch.sum(torch.exp(z_var) + z_mu**2 - 1.0 - z_var)\n",
    "\n",
    "        #total loss\n",
    "        #loss = recon_loss + kl_loss\n",
    "        loss = torch.mean((model(total_in_selection.float().cuda())[0]- total_in_selection.float().cuda())**2,dim=1).data.cpu().numpy()\n",
    "    \n",
    "    return loss"
   ]
  },
  {
   "cell_type": "code",
   "execution_count": 23,
   "metadata": {},
   "outputs": [
    {
     "ename": "NameError",
     "evalue": "name 'model' is not defined",
     "output_type": "error",
     "traceback": [
      "\u001b[0;31m---------------------------------------------------------------------------\u001b[0m",
      "\u001b[0;31mNameError\u001b[0m                                 Traceback (most recent call last)",
      "\u001b[0;32m<ipython-input-23-67514feead22>\u001b[0m in \u001b[0;36m<module>\u001b[0;34m\u001b[0m\n\u001b[0;32m----> 1\u001b[0;31m \u001b[0mout\u001b[0m \u001b[0;34m=\u001b[0m \u001b[0mmodel\u001b[0m\u001b[0;34m(\u001b[0m\u001b[0mtorch\u001b[0m\u001b[0;34m.\u001b[0m\u001b[0mtensor\u001b[0m\u001b[0;34m(\u001b[0m\u001b[0mX\u001b[0m\u001b[0;34m[\u001b[0m\u001b[0mbkg_idx\u001b[0m\u001b[0;34m]\u001b[0m\u001b[0;34m)\u001b[0m\u001b[0;34m.\u001b[0m\u001b[0mfloat\u001b[0m\u001b[0;34m(\u001b[0m\u001b[0;34m)\u001b[0m\u001b[0;34m.\u001b[0m\u001b[0mcuda\u001b[0m\u001b[0;34m(\u001b[0m\u001b[0;34m)\u001b[0m\u001b[0;34m)\u001b[0m\u001b[0;34m[\u001b[0m\u001b[0;36m0\u001b[0m\u001b[0;34m]\u001b[0m\u001b[0;34m\u001b[0m\u001b[0;34m\u001b[0m\u001b[0m\n\u001b[0m\u001b[1;32m      2\u001b[0m \u001b[0mout\u001b[0m \u001b[0;34m=\u001b[0m \u001b[0mout\u001b[0m\u001b[0;34m.\u001b[0m\u001b[0mdata\u001b[0m\u001b[0;34m.\u001b[0m\u001b[0mcpu\u001b[0m\u001b[0;34m(\u001b[0m\u001b[0;34m)\u001b[0m\u001b[0;34m.\u001b[0m\u001b[0mnumpy\u001b[0m\u001b[0;34m(\u001b[0m\u001b[0;34m)\u001b[0m\u001b[0;34m\u001b[0m\u001b[0;34m\u001b[0m\u001b[0m\n",
      "\u001b[0;31mNameError\u001b[0m: name 'model' is not defined"
     ]
    }
   ],
   "source": [
    "out = model(torch.tensor(X[bkg_idx]).float().cuda())[0]\n",
    "out = out.data.cpu().numpy()"
   ]
  },
  {
   "cell_type": "code",
   "execution_count": 24,
   "metadata": {},
   "outputs": [
    {
     "ename": "NameError",
     "evalue": "name 'out' is not defined",
     "output_type": "error",
     "traceback": [
      "\u001b[0;31m---------------------------------------------------------------------------\u001b[0m",
      "\u001b[0;31mNameError\u001b[0m                                 Traceback (most recent call last)",
      "\u001b[0;32m<ipython-input-24-0c414b0cb4b4>\u001b[0m in \u001b[0;36m<module>\u001b[0;34m\u001b[0m\n\u001b[0;32m----> 1\u001b[0;31m \u001b[0mout\u001b[0m\u001b[0;34m.\u001b[0m\u001b[0mshape\u001b[0m\u001b[0;34m\u001b[0m\u001b[0;34m\u001b[0m\u001b[0m\n\u001b[0m",
      "\u001b[0;31mNameError\u001b[0m: name 'out' is not defined"
     ]
    }
   ],
   "source": [
    "out.shape"
   ]
  },
  {
   "cell_type": "code",
   "execution_count": 25,
   "metadata": {},
   "outputs": [
    {
     "ename": "NameError",
     "evalue": "name 'model' is not defined",
     "output_type": "error",
     "traceback": [
      "\u001b[0;31m---------------------------------------------------------------------------\u001b[0m",
      "\u001b[0;31mNameError\u001b[0m                                 Traceback (most recent call last)",
      "\u001b[0;32m<ipython-input-25-cd85fef2ce6c>\u001b[0m in \u001b[0;36m<module>\u001b[0;34m\u001b[0m\n\u001b[0;32m----> 1\u001b[0;31m \u001b[0mout2\u001b[0m \u001b[0;34m=\u001b[0m \u001b[0mmodel\u001b[0m\u001b[0;34m(\u001b[0m\u001b[0mtorch\u001b[0m\u001b[0;34m.\u001b[0m\u001b[0mtensor\u001b[0m\u001b[0;34m(\u001b[0m\u001b[0mX\u001b[0m\u001b[0;34m[\u001b[0m\u001b[0msignal_idx\u001b[0m\u001b[0;34m]\u001b[0m\u001b[0;34m)\u001b[0m\u001b[0;34m.\u001b[0m\u001b[0mfloat\u001b[0m\u001b[0;34m(\u001b[0m\u001b[0;34m)\u001b[0m\u001b[0;34m.\u001b[0m\u001b[0mcuda\u001b[0m\u001b[0;34m(\u001b[0m\u001b[0;34m)\u001b[0m\u001b[0;34m)\u001b[0m\u001b[0;34m[\u001b[0m\u001b[0;36m0\u001b[0m\u001b[0;34m]\u001b[0m\u001b[0;34m\u001b[0m\u001b[0;34m\u001b[0m\u001b[0m\n\u001b[0m",
      "\u001b[0;31mNameError\u001b[0m: name 'model' is not defined"
     ]
    }
   ],
   "source": [
    "out2 = model(torch.tensor(X[signal_idx]).float().cuda())[0]"
   ]
  },
  {
   "cell_type": "code",
   "execution_count": 70,
   "metadata": {},
   "outputs": [],
   "source": [
    "out2 = out2.data.cpu().numpy()"
   ]
  },
  {
   "cell_type": "code",
   "execution_count": 77,
   "metadata": {},
   "outputs": [
    {
     "name": "stdout",
     "output_type": "stream",
     "text": [
      "j1 tau54\n"
     ]
    },
    {
     "data": {
      "text/plain": [
       "<matplotlib.lines.Line2D at 0x7f5fb06396a0>"
      ]
     },
     "execution_count": 77,
     "metadata": {},
     "output_type": "execute_result"
    },
    {
     "data": {
      "image/png": "[encoded data removed]",
      "text/plain": [
       "<Figure size 432x288 with 1 Axes>"
      ]
     },
     "metadata": {
      "needs_background": "light"
     },
     "output_type": "display_data"
    }
   ],
   "source": [
    "bins = np.linspace(-3,3,100)\n",
    "bins.shape\n",
    "column = 7\n",
    "print(f_rnd.columns[column])\n",
    "plt.hist(X[bkg_idx,column],bins,alpha=0.5,color='b');\n",
    "plt.hist(out[:,column],bins,alpha=0.5,color='r');\n",
    "plt.hist(out2[:,column],bins,alpha=0.5,color='g');\n",
    "plt.axvline(np.mean(X[bkg_idx,column]))"
   ]
  },
  {
   "cell_type": "code",
   "execution_count": null,
   "metadata": {},
   "outputs": [],
   "source": []
  },
  {
   "cell_type": "code",
   "execution_count": 78,
   "metadata": {},
   "outputs": [
    {
     "data": {
      "text/plain": [
       "(99829, 12)"
      ]
     },
     "execution_count": 78,
     "metadata": {},
     "output_type": "execute_result"
    }
   ],
   "source": [
    "X[signal_idx].shape"
   ]
  },
  {
   "cell_type": "code",
   "execution_count": 89,
   "metadata": {},
   "outputs": [
    {
     "name": "stdout",
     "output_type": "stream",
     "text": [
      "(992924, 12)\n",
      "(99829, 12)\n"
     ]
    }
   ],
   "source": [
    "loss_bkg = get_loss(X[bkg_idx])\n",
    "loss_sig = get_loss(X[signal_idx])"
   ]
  },
  {
   "cell_type": "code",
   "execution_count": 90,
   "metadata": {},
   "outputs": [
    {
     "data": {
      "text/plain": [
       "array([0.3900876 , 0.8378627 , 0.5801927 , ..., 0.4310437 , 0.18108658,\n",
       "       0.6342451 ], dtype=float32)"
      ]
     },
     "execution_count": 90,
     "metadata": {},
     "output_type": "execute_result"
    }
   ],
   "source": [
    "loss_bkg"
   ]
  },
  {
   "cell_type": "code",
   "execution_count": 91,
   "metadata": {},
   "outputs": [
    {
     "data": {
      "image/png": "[encoded data removed]",
      "text/plain": [
       "<Figure size 720x720 with 1 Axes>"
      ]
     },
     "metadata": {
      "needs_background": "light"
     },
     "output_type": "display_data"
    }
   ],
   "source": [
    "plt.rcParams[\"figure.figsize\"] = (10,10)\n",
    "bins = np.linspace(0,5,100)\n",
    "plt.hist(loss_bkg,bins=bins,alpha=0.3,color='b',label='bkg')\n",
    "plt.hist(loss_sig,bins=bins,weights=np.ones(len(loss_sig))*1,alpha=0.3,color='r',label='sig')\n",
    "plt.xlabel(r'Autoencoder Loss')\n",
    "plt.ylabel('Count')\n",
    "plt.legend(loc='upper right')\n",
    "plt.show()"
   ]
  },
  {
   "cell_type": "code",
   "execution_count": 92,
   "metadata": {},
   "outputs": [],
   "source": [
    "def get_tpr_fpr(sigloss,bkgloss,aetype='sig'):\n",
    "    bins = np.linspace(0,50,1001)\n",
    "    tpr = []\n",
    "    fpr = []\n",
    "    for cut in bins:\n",
    "        if aetype == 'sig':\n",
    "            tpr.append(np.where(sigloss<cut)[0].shape[0]/len(sigloss))\n",
    "            fpr.append(np.where(bkgloss<cut)[0].shape[0]/len(bkgloss))\n",
    "        if aetype == 'bkg':\n",
    "            tpr.append(np.where(sigloss>cut)[0].shape[0]/len(sigloss))\n",
    "            fpr.append(np.where(bkgloss>cut)[0].shape[0]/len(bkgloss))\n",
    "    return tpr,fpr        "
   ]
  },
  {
   "cell_type": "code",
   "execution_count": 93,
   "metadata": {},
   "outputs": [],
   "source": [
    "bkg_tpr5, bkg_fpr5 = get_tpr_fpr(loss_sig,loss_bkg,aetype='bkg')"
   ]
  },
  {
   "cell_type": "code",
   "execution_count": 85,
   "metadata": {},
   "outputs": [
    {
     "ename": "NameError",
     "evalue": "name 'bkg_fpr' is not defined",
     "output_type": "error",
     "traceback": [
      "\u001b[0;31m---------------------------------------------------------------------------\u001b[0m",
      "\u001b[0;31mNameError\u001b[0m                                 Traceback (most recent call last)",
      "\u001b[0;32m<ipython-input-85-88dbc1057e6e>\u001b[0m in \u001b[0;36m<module>\u001b[0;34m\u001b[0m\n\u001b[0;32m----> 1\u001b[0;31m \u001b[0mnp\u001b[0m\u001b[0;34m.\u001b[0m\u001b[0msave\u001b[0m\u001b[0;34m(\u001b[0m\u001b[0;34m'NFLOWVAE_PlanarNEW_bkgAE_fpr.npy'\u001b[0m\u001b[0;34m,\u001b[0m\u001b[0mbkg_fpr\u001b[0m\u001b[0;34m)\u001b[0m\u001b[0;34m\u001b[0m\u001b[0;34m\u001b[0m\u001b[0m\n\u001b[0m\u001b[1;32m      2\u001b[0m \u001b[0mnp\u001b[0m\u001b[0;34m.\u001b[0m\u001b[0msave\u001b[0m\u001b[0;34m(\u001b[0m\u001b[0;34m'NFLOWVAE_PlanarNEW_bkgAE_tpr.npy'\u001b[0m\u001b[0;34m,\u001b[0m\u001b[0mbkg_tpr\u001b[0m\u001b[0;34m)\u001b[0m\u001b[0;34m\u001b[0m\u001b[0;34m\u001b[0m\u001b[0m\n",
      "\u001b[0;31mNameError\u001b[0m: name 'bkg_fpr' is not defined"
     ]
    }
   ],
   "source": [
    "np.save('NFLOWVAE_PlanarNEW_bkgAE_fpr.npy',bkg_fpr)\n",
    "np.save('NFLOWVAE_PlanarNEW_bkgAE_tpr.npy',bkg_tpr)"
   ]
  },
  {
   "cell_type": "code",
   "execution_count": 94,
   "metadata": {},
   "outputs": [
    {
     "data": {
      "text/plain": [
       "[<matplotlib.lines.Line2D at 0x7f5fa4267208>]"
      ]
     },
     "execution_count": 94,
     "metadata": {},
     "output_type": "execute_result"
    },
    {
     "data": {
      "image/png": "[encoded data removed]",
      "text/plain": [
       "<Figure size 720x720 with 1 Axes>"
      ]
     },
     "metadata": {
      "needs_background": "light"
     },
     "output_type": "display_data"
    }
   ],
   "source": [
    "#plt.plot(bkg_fpr,bkg_tpr,label='Bkg NFlowVAE-Planar')\n",
    "#plt.plot(bkg_fpr2,bkg_tpr2,label='Bkg NFlowVAE-Planar (w/mass)')\n",
    "#plt.plot(bkg_fpr3,bkg_tpr3,label='Bkg NFlowVAE-Planar (w/mass)')\n",
    "plt.plot(bkg_fpr4,bkg_tpr4,label='Bkg NFlowVAE-Planar cwola')\n",
    "plt.plot(bkg_fpr5,bkg_tpr5,label='Bkg NFlowVAE-Planar cwola(mean)')"
   ]
  },
  {
   "cell_type": "markdown",
   "metadata": {},
   "source": [
    "# Signal Autoencoder"
   ]
  },
  {
   "cell_type": "code",
   "execution_count": 4,
   "metadata": {},
   "outputs": [],
   "source": [
    "prong_2 = pd.read_hdf(\"/data/t3home000/spark/QUASAR/preprocessing/conventional_tau_rnd.h5\")\n",
    "prong_3 = pd.read_hdf(\"/data/t3home000/spark/QUASAR/preprocessing/conventional_tau_3prong_rnd.h5\")"
   ]
  },
  {
   "cell_type": "code",
   "execution_count": 5,
   "metadata": {},
   "outputs": [],
   "source": [
    "#nprong = 2\n",
    "nprong = 3"
   ]
  },
  {
   "cell_type": "code",
   "execution_count": 6,
   "metadata": {},
   "outputs": [
    {
     "data": {
      "text/plain": [
       "3"
      ]
     },
     "execution_count": 6,
     "metadata": {},
     "output_type": "execute_result"
    }
   ],
   "source": [
    "nprong"
   ]
  },
  {
   "cell_type": "code",
   "execution_count": 7,
   "metadata": {},
   "outputs": [],
   "source": [
    "if nprong == 2:\n",
    "    dt = prong_2.values\n",
    "    correct = (dt[:,3]>0) &(dt[:,19]>0)\n",
    "    dt = dt[correct]\n",
    "    for i in range(13,19):\n",
    "        dt[:,i] = dt[:,i]/dt[:,3]\n",
    "    \n",
    "    for i in range(29,35):\n",
    "        dt[:,i] = dt[:,i]/(dt[:,19])\n",
    "\n",
    "    correct = (dt[:,29]>=0) &(dt[:,29]<=1)&(dt[:,30]>=0) &(dt[:,30]<=1)&(dt[:,31]>=0) &(dt[:,31]<=1)&(dt[:,32]>=0) &(dt[:,32]<=1)&(dt[:,33]>=0) &(dt[:,33]<=1)&(dt[:,34]>=-0.01) &(dt[:,34]<=1)\n",
    "    dt = dt[correct]\n",
    "    \n",
    "    \n",
    "    #Y = dt[:,[3,4,5,6,11,12,19,20,21,22,27,28]]\n",
    "    Y = dt[:,[4,5,6,11,12,13,14,15,16,17,18,20,21,22,27,28,29,30,31,32,33,34]] # When no jet 1,2 raw mass included\n",
    "    #Y = dt[:,[3,4,5,6,11,12,13,14,15,16,17,18,19,20,21,22,27,28,29,30,31,32,33,34]]\n",
    "    idx = dt[:,-1]\n",
    "    bkg_idx = np.where(idx==0)[0]\n",
    "    signal_idx = np.where((idx==1) & (dt[:,3]>300)) [0]\n",
    "    #signal_idx = np.where((idx==1)) [0]\n",
    "    Y = Y[signal_idx]\n",
    "    \n",
    "    \n",
    "if nprong == 3:\n",
    "    dt = prong_3.values\n",
    "    correct = (dt[:,3]>20) &(dt[:,19]>20)\n",
    "    dt = dt[correct]\n",
    "    for i in range(13,19):\n",
    "        dt[:,i] = dt[:,i]/dt[:,3]\n",
    "    \n",
    "    for i in range(29,35):\n",
    "        dt[:,i] = dt[:,i]/(dt[:,19])\n",
    "        \n",
    "    correct = (dt[:,29]>=0) &(dt[:,29]<=1)&(dt[:,30]>=0) &(dt[:,30]<=1)&(dt[:,31]>=0) &(dt[:,31]<=1)&(dt[:,32]>=0) &(dt[:,32]<=1)&(dt[:,33]>=0) &(dt[:,33]<=1)&(dt[:,34]>=-0.01) &(dt[:,34]<=1)\n",
    "    dt = dt[correct]        \n",
    "        \n",
    "    Y = dt[:,[4,5,6,11,12,13,14,15,16,17,18,20,21,22,27,28,29,30,31,32,33,34]]\n",
    "    #Y = dt[:,[3,4,5,6,11,12,19,20,21,22,27,28]]\n",
    "    idx = dt[:,-1]\n",
    "    bkg_idx = np.where(idx==0)[0]\n",
    "    signal_idx = np.where((idx==1) & (dt[:,3]>400))[0]\n",
    "    Y = Y[signal_idx]\n",
    "    \n"
   ]
  },
  {
   "cell_type": "code",
   "execution_count": 8,
   "metadata": {},
   "outputs": [
    {
     "data": {
      "text/plain": [
       "(58817, 22)"
      ]
     },
     "execution_count": 8,
     "metadata": {},
     "output_type": "execute_result"
    }
   ],
   "source": [
    "Y.shape"
   ]
  },
  {
   "cell_type": "code",
   "execution_count": 9,
   "metadata": {},
   "outputs": [
    {
     "data": {
      "image/png": "[encoded data removed]",
      "text/plain": [
       "<Figure size 432x288 with 1 Axes>"
      ]
     },
     "metadata": {
      "needs_background": "light"
     },
     "output_type": "display_data"
    }
   ],
   "source": [
    "bins = np.linspace(0,1,100)\n",
    "bins.shape\n",
    "column = 1\n",
    "#print(f_rnd.columns[column])\n",
    "plt.hist(Y[:,column],bins,alpha=0.5,color='b');\n",
    "#plt.hist(sigout[:,column],bins,alpha=0.5,color='r');\n",
    "#plt.hist(out2[:,column],bins,alpha=0.5,color='g');\n",
    "#plt.axvline(np.mean(Y[:,column]))"
   ]
  },
  {
   "cell_type": "code",
   "execution_count": 10,
   "metadata": {},
   "outputs": [
    {
     "data": {
      "text/plain": [
       "(58817, 22)"
      ]
     },
     "execution_count": 10,
     "metadata": {},
     "output_type": "execute_result"
    }
   ],
   "source": [
    "Y.shape"
   ]
  },
  {
   "cell_type": "code",
   "execution_count": 11,
   "metadata": {},
   "outputs": [
    {
     "data": {
      "image/png": "[encoded data removed]",
      "text/plain": [
       "<Figure size 432x288 with 1 Axes>"
      ]
     },
     "metadata": {
      "needs_background": "light"
     },
     "output_type": "display_data"
    }
   ],
   "source": [
    "bins = np.linspace(0,1000,100)\n",
    "bins.shape\n",
    "column = 0\n",
    "#print(f_rnd.columns[column])\n",
    "plt.hist(dt[:,19],bins,alpha=0.5,color='b');\n",
    "#plt.hist(sigout[:,column],bins,alpha=0.5,color='r');\n",
    "#plt.hist(out2[:,column],bins,alpha=0.5,color='g');\n",
    "#plt.axvline(np.mean(Y[:,column]))"
   ]
  },
  {
   "cell_type": "code",
   "execution_count": 12,
   "metadata": {},
   "outputs": [],
   "source": [
    "sig_mean = []\n",
    "sig_std = []\n",
    "for i in range(22):\n",
    "    mean = np.mean(Y[:,i])\n",
    "    std = np.std(Y[:,i])\n",
    "    sig_mean.append(mean)\n",
    "    sig_std.append(std)\n",
    "    Y[:,i] = (Y[:,i]-mean)/std"
   ]
  },
  {
   "cell_type": "code",
   "execution_count": 13,
   "metadata": {},
   "outputs": [
    {
     "data": {
      "text/plain": [
       "[0.387220838556547,\n",
       " 0.4550481395999832,\n",
       " 0.7410030509654335,\n",
       " 1.2460849327388506,\n",
       " 323.683220837513,\n",
       " 0.9721762372503185,\n",
       " 0.962817098477744,\n",
       " 0.9785325654730389,\n",
       " 0.9905189535098495,\n",
       " 0.9946359132255161,\n",
       " 0.9149130859612646,\n",
       " 0.5280381573160862,\n",
       " 0.654425383481654,\n",
       " 0.7590377626963312,\n",
       " 1.5639366470592968,\n",
       " 179.78230783616982,\n",
       " 0.8880956437559158,\n",
       " 0.7102234639174522,\n",
       " 0.7281219620654653,\n",
       " 0.8658417851464313,\n",
       " 0.9054291606677237,\n",
       " 0.009230746538430614]"
      ]
     },
     "execution_count": 13,
     "metadata": {},
     "output_type": "execute_result"
    }
   ],
   "source": [
    "sig_mean"
   ]
  },
  {
   "cell_type": "code",
   "execution_count": 14,
   "metadata": {},
   "outputs": [
    {
     "data": {
      "text/plain": [
       "[0.1297745644783695,\n",
       " 0.1654354420637481,\n",
       " 0.11762066755360992,\n",
       " 0.1868880203297905,\n",
       " 87.70554645676953,\n",
       " 0.029742918766739204,\n",
       " 0.07741156763615237,\n",
       " 0.07607878292762893,\n",
       " 0.03963969626411011,\n",
       " 0.023319004816736356,\n",
       " 0.22062860793880676,\n",
       " 0.13613612930963886,\n",
       " 0.12473186192522633,\n",
       " 0.10128216462797296,\n",
       " 0.4520952413970693,\n",
       " 51.46734609359927,\n",
       " 0.1509736948976022,\n",
       " 0.244853004137407,\n",
       " 0.26993650798423124,\n",
       " 0.16761592487490215,\n",
       " 0.13193608703006593,\n",
       " 0.09364734760555429]"
      ]
     },
     "execution_count": 14,
     "metadata": {},
     "output_type": "execute_result"
    }
   ],
   "source": [
    "sig_std"
   ]
  },
  {
   "cell_type": "code",
   "execution_count": 15,
   "metadata": {},
   "outputs": [],
   "source": [
    "total_sig = torch.tensor(Y)"
   ]
  },
  {
   "cell_type": "code",
   "execution_count": 16,
   "metadata": {},
   "outputs": [
    {
     "data": {
      "text/plain": [
       "torch.Size([58817, 22])"
      ]
     },
     "execution_count": 16,
     "metadata": {},
     "output_type": "execute_result"
    }
   ],
   "source": [
    "total_sig.shape"
   ]
  },
  {
   "cell_type": "code",
   "execution_count": 17,
   "metadata": {},
   "outputs": [],
   "source": [
    "N_EPOCHS = 30\n",
    "PRINT_INTERVAL = 2000\n",
    "NUM_WORKERS = 4\n",
    "LR = 1e-6\n",
    "\n",
    "N_FLOWS = 6 \n",
    "Z_DIM = 8\n",
    "\n",
    "#N_FLOWS = 3 \n",
    "#Z_DIM = 6\n",
    "\n",
    "n_steps = 0"
   ]
  },
  {
   "cell_type": "code",
   "execution_count": 18,
   "metadata": {},
   "outputs": [],
   "source": [
    "sigmodel = VAE_NF(N_FLOWS, Z_DIM).cuda()"
   ]
  },
  {
   "cell_type": "code",
   "execution_count": 19,
   "metadata": {},
   "outputs": [
    {
     "name": "stdout",
     "output_type": "stream",
     "text": [
      "VAE_NF(\n",
      "  (encoder): Sequential(\n",
      "    (0): Linear(in_features=22, out_features=50, bias=True)\n",
      "    (1): LeakyReLU(negative_slope=True)\n",
      "    (2): Linear(in_features=50, out_features=48, bias=True)\n",
      "    (3): LeakyReLU(negative_slope=True)\n",
      "    (4): Linear(in_features=48, out_features=16, bias=True)\n",
      "  )\n",
      "  (decoder): Sequential(\n",
      "    (0): Linear(in_features=8, out_features=48, bias=True)\n",
      "    (1): LeakyReLU(negative_slope=True)\n",
      "    (2): Linear(in_features=48, out_features=50, bias=True)\n",
      "    (3): LeakyReLU(negative_slope=True)\n",
      "    (4): Linear(in_features=50, out_features=22, bias=True)\n",
      "  )\n",
      "  (flows): NormalizingFlowModel(\n",
      "    (flows): ModuleList(\n",
      "      (0): MAF(\n",
      "        (layers): ModuleList(\n",
      "          (0): FCNN(\n",
      "            (network): Sequential(\n",
      "              (0): Linear(in_features=1, out_features=8, bias=True)\n",
      "              (1): Tanh()\n",
      "              (2): Linear(in_features=8, out_features=8, bias=True)\n",
      "              (3): Tanh()\n",
      "              (4): Linear(in_features=8, out_features=2, bias=True)\n",
      "            )\n",
      "          )\n",
      "          (1): FCNN(\n",
      "            (network): Sequential(\n",
      "              (0): Linear(in_features=2, out_features=8, bias=True)\n",
      "              (1): Tanh()\n",
      "              (2): Linear(in_features=8, out_features=8, bias=True)\n",
      "              (3): Tanh()\n",
      "              (4): Linear(in_features=8, out_features=2, bias=True)\n",
      "            )\n",
      "          )\n",
      "          (2): FCNN(\n",
      "            (network): Sequential(\n",
      "              (0): Linear(in_features=3, out_features=8, bias=True)\n",
      "              (1): Tanh()\n",
      "              (2): Linear(in_features=8, out_features=8, bias=True)\n",
      "              (3): Tanh()\n",
      "              (4): Linear(in_features=8, out_features=2, bias=True)\n",
      "            )\n",
      "          )\n",
      "          (3): FCNN(\n",
      "            (network): Sequential(\n",
      "              (0): Linear(in_features=4, out_features=8, bias=True)\n",
      "              (1): Tanh()\n",
      "              (2): Linear(in_features=8, out_features=8, bias=True)\n",
      "              (3): Tanh()\n",
      "              (4): Linear(in_features=8, out_features=2, bias=True)\n",
      "            )\n",
      "          )\n",
      "          (4): FCNN(\n",
      "            (network): Sequential(\n",
      "              (0): Linear(in_features=5, out_features=8, bias=True)\n",
      "              (1): Tanh()\n",
      "              (2): Linear(in_features=8, out_features=8, bias=True)\n",
      "              (3): Tanh()\n",
      "              (4): Linear(in_features=8, out_features=2, bias=True)\n",
      "            )\n",
      "          )\n",
      "          (5): FCNN(\n",
      "            (network): Sequential(\n",
      "              (0): Linear(in_features=6, out_features=8, bias=True)\n",
      "              (1): Tanh()\n",
      "              (2): Linear(in_features=8, out_features=8, bias=True)\n",
      "              (3): Tanh()\n",
      "              (4): Linear(in_features=8, out_features=2, bias=True)\n",
      "            )\n",
      "          )\n",
      "          (6): FCNN(\n",
      "            (network): Sequential(\n",
      "              (0): Linear(in_features=7, out_features=8, bias=True)\n",
      "              (1): Tanh()\n",
      "              (2): Linear(in_features=8, out_features=8, bias=True)\n",
      "              (3): Tanh()\n",
      "              (4): Linear(in_features=8, out_features=2, bias=True)\n",
      "            )\n",
      "          )\n",
      "        )\n",
      "      )\n",
      "      (1): MAF(\n",
      "        (layers): ModuleList(\n",
      "          (0): FCNN(\n",
      "            (network): Sequential(\n",
      "              (0): Linear(in_features=1, out_features=8, bias=True)\n",
      "              (1): Tanh()\n",
      "              (2): Linear(in_features=8, out_features=8, bias=True)\n",
      "              (3): Tanh()\n",
      "              (4): Linear(in_features=8, out_features=2, bias=True)\n",
      "            )\n",
      "          )\n",
      "          (1): FCNN(\n",
      "            (network): Sequential(\n",
      "              (0): Linear(in_features=2, out_features=8, bias=True)\n",
      "              (1): Tanh()\n",
      "              (2): Linear(in_features=8, out_features=8, bias=True)\n",
      "              (3): Tanh()\n",
      "              (4): Linear(in_features=8, out_features=2, bias=True)\n",
      "            )\n",
      "          )\n",
      "          (2): FCNN(\n",
      "            (network): Sequential(\n",
      "              (0): Linear(in_features=3, out_features=8, bias=True)\n",
      "              (1): Tanh()\n",
      "              (2): Linear(in_features=8, out_features=8, bias=True)\n",
      "              (3): Tanh()\n",
      "              (4): Linear(in_features=8, out_features=2, bias=True)\n",
      "            )\n",
      "          )\n",
      "          (3): FCNN(\n",
      "            (network): Sequential(\n",
      "              (0): Linear(in_features=4, out_features=8, bias=True)\n",
      "              (1): Tanh()\n",
      "              (2): Linear(in_features=8, out_features=8, bias=True)\n",
      "              (3): Tanh()\n",
      "              (4): Linear(in_features=8, out_features=2, bias=True)\n",
      "            )\n",
      "          )\n",
      "          (4): FCNN(\n",
      "            (network): Sequential(\n",
      "              (0): Linear(in_features=5, out_features=8, bias=True)\n",
      "              (1): Tanh()\n",
      "              (2): Linear(in_features=8, out_features=8, bias=True)\n",
      "              (3): Tanh()\n",
      "              (4): Linear(in_features=8, out_features=2, bias=True)\n",
      "            )\n",
      "          )\n",
      "          (5): FCNN(\n",
      "            (network): Sequential(\n",
      "              (0): Linear(in_features=6, out_features=8, bias=True)\n",
      "              (1): Tanh()\n",
      "              (2): Linear(in_features=8, out_features=8, bias=True)\n",
      "              (3): Tanh()\n",
      "              (4): Linear(in_features=8, out_features=2, bias=True)\n",
      "            )\n",
      "          )\n",
      "          (6): FCNN(\n",
      "            (network): Sequential(\n",
      "              (0): Linear(in_features=7, out_features=8, bias=True)\n",
      "              (1): Tanh()\n",
      "              (2): Linear(in_features=8, out_features=8, bias=True)\n",
      "              (3): Tanh()\n",
      "              (4): Linear(in_features=8, out_features=2, bias=True)\n",
      "            )\n",
      "          )\n",
      "        )\n",
      "      )\n",
      "      (2): MAF(\n",
      "        (layers): ModuleList(\n",
      "          (0): FCNN(\n",
      "            (network): Sequential(\n",
      "              (0): Linear(in_features=1, out_features=8, bias=True)\n",
      "              (1): Tanh()\n",
      "              (2): Linear(in_features=8, out_features=8, bias=True)\n",
      "              (3): Tanh()\n",
      "              (4): Linear(in_features=8, out_features=2, bias=True)\n",
      "            )\n",
      "          )\n",
      "          (1): FCNN(\n",
      "            (network): Sequential(\n",
      "              (0): Linear(in_features=2, out_features=8, bias=True)\n",
      "              (1): Tanh()\n",
      "              (2): Linear(in_features=8, out_features=8, bias=True)\n",
      "              (3): Tanh()\n",
      "              (4): Linear(in_features=8, out_features=2, bias=True)\n",
      "            )\n",
      "          )\n",
      "          (2): FCNN(\n",
      "            (network): Sequential(\n",
      "              (0): Linear(in_features=3, out_features=8, bias=True)\n",
      "              (1): Tanh()\n",
      "              (2): Linear(in_features=8, out_features=8, bias=True)\n",
      "              (3): Tanh()\n",
      "              (4): Linear(in_features=8, out_features=2, bias=True)\n",
      "            )\n",
      "          )\n",
      "          (3): FCNN(\n",
      "            (network): Sequential(\n",
      "              (0): Linear(in_features=4, out_features=8, bias=True)\n",
      "              (1): Tanh()\n",
      "              (2): Linear(in_features=8, out_features=8, bias=True)\n",
      "              (3): Tanh()\n",
      "              (4): Linear(in_features=8, out_features=2, bias=True)\n",
      "            )\n",
      "          )\n",
      "          (4): FCNN(\n",
      "            (network): Sequential(\n",
      "              (0): Linear(in_features=5, out_features=8, bias=True)\n",
      "              (1): Tanh()\n",
      "              (2): Linear(in_features=8, out_features=8, bias=True)\n",
      "              (3): Tanh()\n",
      "              (4): Linear(in_features=8, out_features=2, bias=True)\n",
      "            )\n",
      "          )\n",
      "          (5): FCNN(\n",
      "            (network): Sequential(\n",
      "              (0): Linear(in_features=6, out_features=8, bias=True)\n",
      "              (1): Tanh()\n",
      "              (2): Linear(in_features=8, out_features=8, bias=True)\n",
      "              (3): Tanh()\n",
      "              (4): Linear(in_features=8, out_features=2, bias=True)\n",
      "            )\n",
      "          )\n",
      "          (6): FCNN(\n",
      "            (network): Sequential(\n",
      "              (0): Linear(in_features=7, out_features=8, bias=True)\n",
      "              (1): Tanh()\n",
      "              (2): Linear(in_features=8, out_features=8, bias=True)\n",
      "              (3): Tanh()\n",
      "              (4): Linear(in_features=8, out_features=2, bias=True)\n",
      "            )\n",
      "          )\n",
      "        )\n",
      "      )\n",
      "      (3): MAF(\n",
      "        (layers): ModuleList(\n",
      "          (0): FCNN(\n",
      "            (network): Sequential(\n",
      "              (0): Linear(in_features=1, out_features=8, bias=True)\n",
      "              (1): Tanh()\n",
      "              (2): Linear(in_features=8, out_features=8, bias=True)\n",
      "              (3): Tanh()\n",
      "              (4): Linear(in_features=8, out_features=2, bias=True)\n",
      "            )\n",
      "          )\n",
      "          (1): FCNN(\n",
      "            (network): Sequential(\n",
      "              (0): Linear(in_features=2, out_features=8, bias=True)\n",
      "              (1): Tanh()\n",
      "              (2): Linear(in_features=8, out_features=8, bias=True)\n",
      "              (3): Tanh()\n",
      "              (4): Linear(in_features=8, out_features=2, bias=True)\n",
      "            )\n",
      "          )\n",
      "          (2): FCNN(\n",
      "            (network): Sequential(\n",
      "              (0): Linear(in_features=3, out_features=8, bias=True)\n",
      "              (1): Tanh()\n",
      "              (2): Linear(in_features=8, out_features=8, bias=True)\n",
      "              (3): Tanh()\n",
      "              (4): Linear(in_features=8, out_features=2, bias=True)\n",
      "            )\n",
      "          )\n",
      "          (3): FCNN(\n",
      "            (network): Sequential(\n",
      "              (0): Linear(in_features=4, out_features=8, bias=True)\n",
      "              (1): Tanh()\n",
      "              (2): Linear(in_features=8, out_features=8, bias=True)\n",
      "              (3): Tanh()\n",
      "              (4): Linear(in_features=8, out_features=2, bias=True)\n",
      "            )\n",
      "          )\n",
      "          (4): FCNN(\n",
      "            (network): Sequential(\n",
      "              (0): Linear(in_features=5, out_features=8, bias=True)\n",
      "              (1): Tanh()\n",
      "              (2): Linear(in_features=8, out_features=8, bias=True)\n",
      "              (3): Tanh()\n",
      "              (4): Linear(in_features=8, out_features=2, bias=True)\n",
      "            )\n",
      "          )\n",
      "          (5): FCNN(\n",
      "            (network): Sequential(\n",
      "              (0): Linear(in_features=6, out_features=8, bias=True)\n",
      "              (1): Tanh()\n",
      "              (2): Linear(in_features=8, out_features=8, bias=True)\n",
      "              (3): Tanh()\n",
      "              (4): Linear(in_features=8, out_features=2, bias=True)\n",
      "            )\n",
      "          )\n",
      "          (6): FCNN(\n",
      "            (network): Sequential(\n",
      "              (0): Linear(in_features=7, out_features=8, bias=True)\n",
      "              (1): Tanh()\n",
      "              (2): Linear(in_features=8, out_features=8, bias=True)\n",
      "              (3): Tanh()\n",
      "              (4): Linear(in_features=8, out_features=2, bias=True)\n",
      "            )\n",
      "          )\n",
      "        )\n",
      "      )\n",
      "      (4): MAF(\n",
      "        (layers): ModuleList(\n",
      "          (0): FCNN(\n",
      "            (network): Sequential(\n",
      "              (0): Linear(in_features=1, out_features=8, bias=True)\n",
      "              (1): Tanh()\n",
      "              (2): Linear(in_features=8, out_features=8, bias=True)\n",
      "              (3): Tanh()\n",
      "              (4): Linear(in_features=8, out_features=2, bias=True)\n",
      "            )\n",
      "          )\n",
      "          (1): FCNN(\n",
      "            (network): Sequential(\n",
      "              (0): Linear(in_features=2, out_features=8, bias=True)\n",
      "              (1): Tanh()\n",
      "              (2): Linear(in_features=8, out_features=8, bias=True)\n",
      "              (3): Tanh()\n",
      "              (4): Linear(in_features=8, out_features=2, bias=True)\n",
      "            )\n",
      "          )\n",
      "          (2): FCNN(\n",
      "            (network): Sequential(\n",
      "              (0): Linear(in_features=3, out_features=8, bias=True)\n",
      "              (1): Tanh()\n",
      "              (2): Linear(in_features=8, out_features=8, bias=True)\n",
      "              (3): Tanh()\n",
      "              (4): Linear(in_features=8, out_features=2, bias=True)\n",
      "            )\n",
      "          )\n",
      "          (3): FCNN(\n",
      "            (network): Sequential(\n",
      "              (0): Linear(in_features=4, out_features=8, bias=True)\n",
      "              (1): Tanh()\n",
      "              (2): Linear(in_features=8, out_features=8, bias=True)\n",
      "              (3): Tanh()\n",
      "              (4): Linear(in_features=8, out_features=2, bias=True)\n",
      "            )\n",
      "          )\n",
      "          (4): FCNN(\n",
      "            (network): Sequential(\n",
      "              (0): Linear(in_features=5, out_features=8, bias=True)\n",
      "              (1): Tanh()\n",
      "              (2): Linear(in_features=8, out_features=8, bias=True)\n",
      "              (3): Tanh()\n",
      "              (4): Linear(in_features=8, out_features=2, bias=True)\n",
      "            )\n",
      "          )\n",
      "          (5): FCNN(\n",
      "            (network): Sequential(\n",
      "              (0): Linear(in_features=6, out_features=8, bias=True)\n",
      "              (1): Tanh()\n",
      "              (2): Linear(in_features=8, out_features=8, bias=True)\n",
      "              (3): Tanh()\n",
      "              (4): Linear(in_features=8, out_features=2, bias=True)\n",
      "            )\n",
      "          )\n",
      "          (6): FCNN(\n",
      "            (network): Sequential(\n",
      "              (0): Linear(in_features=7, out_features=8, bias=True)\n",
      "              (1): Tanh()\n",
      "              (2): Linear(in_features=8, out_features=8, bias=True)\n",
      "              (3): Tanh()\n",
      "              (4): Linear(in_features=8, out_features=2, bias=True)\n",
      "            )\n",
      "          )\n",
      "        )\n",
      "      )\n",
      "      (5): MAF(\n",
      "        (layers): ModuleList(\n",
      "          (0): FCNN(\n",
      "            (network): Sequential(\n",
      "              (0): Linear(in_features=1, out_features=8, bias=True)\n",
      "              (1): Tanh()\n",
      "              (2): Linear(in_features=8, out_features=8, bias=True)\n",
      "              (3): Tanh()\n",
      "              (4): Linear(in_features=8, out_features=2, bias=True)\n",
      "            )\n",
      "          )\n",
      "          (1): FCNN(\n",
      "            (network): Sequential(\n",
      "              (0): Linear(in_features=2, out_features=8, bias=True)\n",
      "              (1): Tanh()\n",
      "              (2): Linear(in_features=8, out_features=8, bias=True)\n",
      "              (3): Tanh()\n",
      "              (4): Linear(in_features=8, out_features=2, bias=True)\n",
      "            )\n",
      "          )\n",
      "          (2): FCNN(\n",
      "            (network): Sequential(\n",
      "              (0): Linear(in_features=3, out_features=8, bias=True)\n",
      "              (1): Tanh()\n",
      "              (2): Linear(in_features=8, out_features=8, bias=True)\n",
      "              (3): Tanh()\n",
      "              (4): Linear(in_features=8, out_features=2, bias=True)\n",
      "            )\n",
      "          )\n",
      "          (3): FCNN(\n",
      "            (network): Sequential(\n",
      "              (0): Linear(in_features=4, out_features=8, bias=True)\n",
      "              (1): Tanh()\n",
      "              (2): Linear(in_features=8, out_features=8, bias=True)\n",
      "              (3): Tanh()\n",
      "              (4): Linear(in_features=8, out_features=2, bias=True)\n",
      "            )\n",
      "          )\n",
      "          (4): FCNN(\n",
      "            (network): Sequential(\n",
      "              (0): Linear(in_features=5, out_features=8, bias=True)\n",
      "              (1): Tanh()\n",
      "              (2): Linear(in_features=8, out_features=8, bias=True)\n",
      "              (3): Tanh()\n",
      "              (4): Linear(in_features=8, out_features=2, bias=True)\n",
      "            )\n",
      "          )\n",
      "          (5): FCNN(\n",
      "            (network): Sequential(\n",
      "              (0): Linear(in_features=6, out_features=8, bias=True)\n",
      "              (1): Tanh()\n",
      "              (2): Linear(in_features=8, out_features=8, bias=True)\n",
      "              (3): Tanh()\n",
      "              (4): Linear(in_features=8, out_features=2, bias=True)\n",
      "            )\n",
      "          )\n",
      "          (6): FCNN(\n",
      "            (network): Sequential(\n",
      "              (0): Linear(in_features=7, out_features=8, bias=True)\n",
      "              (1): Tanh()\n",
      "              (2): Linear(in_features=8, out_features=8, bias=True)\n",
      "              (3): Tanh()\n",
      "              (4): Linear(in_features=8, out_features=2, bias=True)\n",
      "            )\n",
      "          )\n",
      "        )\n",
      "      )\n",
      "    )\n",
      "  )\n",
      ")\n"
     ]
    }
   ],
   "source": [
    "print(sigmodel)"
   ]
  },
  {
   "cell_type": "code",
   "execution_count": 20,
   "metadata": {},
   "outputs": [],
   "source": [
    "bs = 800\n",
    "sig_train_iterator = utils.DataLoader(total_sig, batch_size=bs, shuffle=True) \n",
    "sig_test_iterator = utils.DataLoader(total_sig, batch_size=bs)"
   ]
  },
  {
   "cell_type": "code",
   "execution_count": 21,
   "metadata": {},
   "outputs": [],
   "source": [
    "sigoptimizer = optim.Adam(sigmodel.parameters(), lr=1e-4)"
   ]
  },
  {
   "cell_type": "code",
   "execution_count": 23,
   "metadata": {},
   "outputs": [],
   "source": [
    "beta = 0.1"
   ]
  },
  {
   "cell_type": "code",
   "execution_count": 24,
   "metadata": {},
   "outputs": [],
   "source": [
    "def sigtrain():\n",
    "    global n_steps\n",
    "    train_loss = []\n",
    "    sigmodel.train()\n",
    "\n",
    "    for batch_idx, x in enumerate(sig_train_iterator):\n",
    "        start_time = time.time()\n",
    "        \n",
    "        x = x.float().cuda()\n",
    "\n",
    "        x_tilde, kl_div = sigmodel(x)\n",
    "        mseloss = nn.MSELoss(size_average=False)\n",
    "        huberloss = nn.SmoothL1Loss(size_average=False)\n",
    "        #loss_recons = F.binary_cross_entropy(x_tilde, x, size_average=False) / x.size(0)\n",
    "        loss_recons = mseloss(x_tilde,x ) / x.size(0)\n",
    "        #loss_recons = huberloss(x_tilde,x ) / x.size(0)\n",
    "        loss = loss_recons + beta* kl_div\n",
    "\n",
    "        sigoptimizer.zero_grad()\n",
    "        loss.backward()\n",
    "        sigoptimizer.step()\n",
    "\n",
    "        train_loss.append([loss_recons.item(), kl_div.item()])\n",
    "\n",
    "        if (batch_idx + 1) % PRINT_INTERVAL == 0:\n",
    "            print('\\tIter [{}/{} ({:.0f}%)]\\tLoss: {} Time: {:5.3f} ms/batch'.format(\n",
    "                batch_idx * len(x), 50000,\n",
    "                PRINT_INTERVAL * batch_idx / 50000,\n",
    "                np.asarray(train_loss)[-PRINT_INTERVAL:].mean(0),\n",
    "                1000 * (time.time() - start_time)\n",
    "            ))\n",
    "\n",
    "        n_steps += 1"
   ]
  },
  {
   "cell_type": "code",
   "execution_count": 25,
   "metadata": {},
   "outputs": [],
   "source": [
    "def sigevaluate(split='valid'):\n",
    "    global n_steps\n",
    "    start_time = time.time()\n",
    "    val_loss = []\n",
    "    sigmodel.eval()\n",
    "\n",
    "    with torch.no_grad():\n",
    "        for batch_idx, x in enumerate(sig_test_iterator):\n",
    "            \n",
    "            x = x.float().cuda()\n",
    "\n",
    "            x_tilde, kl_div = sigmodel(x)\n",
    "            mseloss = nn.MSELoss(size_average=False)\n",
    "            huberloss = nn.SmoothL1Loss(size_average=False)\n",
    "            #loss_recons = F.binary_cross_entropy(x_tilde, x, size_average=False) / x.size(0)\n",
    "            loss_recons = mseloss(x_tilde,x ) / x.size(0)\n",
    "            #loss_recons = huberloss(x_tilde,x ) / x.size(0)\n",
    "            loss = loss_recons + beta * kl_div\n",
    "\n",
    "            val_loss.append(loss.item())\n",
    "            #writer.add_scalar('loss/{}/ELBO'.format(split), loss.item(), n_steps)\n",
    "            #writer.add_scalar('loss/{}/reconstruction'.format(split), loss_recons.item(), n_steps)\n",
    "            #writer.add_scalar('loss/{}/KL'.format(split), kl_div.item(), n_steps)\n",
    "\n",
    "    print('\\nEvaluation Completed ({})!\\tLoss: {:5.4f} Time: {:5.3f} s'.format(\n",
    "        split,\n",
    "        np.asarray(val_loss).mean(0),\n",
    "        time.time() - start_time\n",
    "    ))\n",
    "    return np.asarray(val_loss).mean(0)"
   ]
  },
  {
   "cell_type": "code",
   "execution_count": 26,
   "metadata": {},
   "outputs": [],
   "source": [
    "ae_def = {\n",
    "    \"type\":\"sig\",\n",
    "    \"trainon\":\"3prong\",\n",
    "    \"features\":\"CwolaMassRatioNoRawMass\",\n",
    "    \"architecture\":\"MAF\",\n",
    "    \"selection\":\"withturnoncuts\",\n",
    "    \"trainloss\":\"MSELoss\",\n",
    "    \"beta\":\"beta0p1\",\n",
    "}"
   ]
  },
  {
   "cell_type": "code",
   "execution_count": 27,
   "metadata": {},
   "outputs": [
    {
     "data": {
      "text/plain": [
       "{'type': 'sig',\n",
       " 'trainon': '3prong',\n",
       " 'features': 'CwolaMassRatioNoRawMass',\n",
       " 'architecture': 'MAF',\n",
       " 'selection': 'withturnoncuts',\n",
       " 'trainloss': 'MSELoss',\n",
       " 'beta': 'beta0p1'}"
      ]
     },
     "execution_count": 27,
     "metadata": {},
     "output_type": "execute_result"
    }
   ],
   "source": [
    "ae_def"
   ]
  },
  {
   "cell_type": "code",
   "execution_count": 28,
   "metadata": {},
   "outputs": [
    {
     "name": "stdout",
     "output_type": "stream",
     "text": [
      "Epoch 1:\n"
     ]
    },
    {
     "name": "stderr",
     "output_type": "stream",
     "text": [
      "/home/spark/miniconda3/envs/myenv/lib/python3.6/site-packages/torch/nn/_reduction.py:43: UserWarning: size_average and reduce args will be deprecated, please use reduction='sum' instead.\n",
      "  warnings.warn(warning.format(ret))\n"
     ]
    },
    {
     "name": "stdout",
     "output_type": "stream",
     "text": [
      "\n",
      "Evaluation Completed (valid)!\tLoss: 22.5944 Time: 0.744 s\n",
      "Saving model!\n",
      "Epoch 2:\n",
      "\n",
      "Evaluation Completed (valid)!\tLoss: 18.8046 Time: 0.743 s\n",
      "Saving model!\n",
      "Epoch 3:\n",
      "\n",
      "Evaluation Completed (valid)!\tLoss: 16.5812 Time: 0.780 s\n",
      "Saving model!\n",
      "Epoch 4:\n",
      "\n",
      "Evaluation Completed (valid)!\tLoss: 15.6863 Time: 0.747 s\n",
      "Saving model!\n",
      "Epoch 5:\n",
      "\n",
      "Evaluation Completed (valid)!\tLoss: 14.8993 Time: 0.748 s\n",
      "Saving model!\n",
      "Epoch 6:\n",
      "\n",
      "Evaluation Completed (valid)!\tLoss: 14.1331 Time: 0.748 s\n",
      "Saving model!\n",
      "Epoch 7:\n",
      "\n",
      "Evaluation Completed (valid)!\tLoss: 13.4494 Time: 0.748 s\n",
      "Saving model!\n",
      "Epoch 8:\n",
      "\n",
      "Evaluation Completed (valid)!\tLoss: 12.7568 Time: 0.747 s\n",
      "Saving model!\n",
      "Epoch 9:\n",
      "\n",
      "Evaluation Completed (valid)!\tLoss: 12.0180 Time: 0.745 s\n",
      "Saving model!\n",
      "Epoch 10:\n",
      "\n",
      "Evaluation Completed (valid)!\tLoss: 11.1869 Time: 0.751 s\n",
      "Saving model!\n",
      "Epoch 11:\n",
      "\n",
      "Evaluation Completed (valid)!\tLoss: 10.4634 Time: 0.748 s\n",
      "Saving model!\n",
      "Epoch 12:\n",
      "\n",
      "Evaluation Completed (valid)!\tLoss: 9.8114 Time: 0.779 s\n",
      "Saving model!\n",
      "Epoch 13:\n",
      "\n",
      "Evaluation Completed (valid)!\tLoss: 9.0915 Time: 0.746 s\n",
      "Saving model!\n",
      "Epoch 14:\n",
      "\n",
      "Evaluation Completed (valid)!\tLoss: 8.5227 Time: 0.749 s\n",
      "Saving model!\n",
      "Epoch 15:\n",
      "\n",
      "Evaluation Completed (valid)!\tLoss: 8.1687 Time: 0.748 s\n",
      "Saving model!\n",
      "Epoch 16:\n",
      "\n",
      "Evaluation Completed (valid)!\tLoss: 7.8652 Time: 0.775 s\n",
      "Saving model!\n",
      "Epoch 17:\n",
      "\n",
      "Evaluation Completed (valid)!\tLoss: 7.6305 Time: 0.747 s\n",
      "Saving model!\n",
      "Epoch 18:\n",
      "\n",
      "Evaluation Completed (valid)!\tLoss: 7.4241 Time: 0.747 s\n",
      "Saving model!\n",
      "Epoch 19:\n",
      "\n",
      "Evaluation Completed (valid)!\tLoss: 7.1837 Time: 0.750 s\n",
      "Saving model!\n",
      "Epoch 20:\n",
      "\n",
      "Evaluation Completed (valid)!\tLoss: 7.0020 Time: 0.748 s\n",
      "Saving model!\n",
      "Epoch 21:\n",
      "\n",
      "Evaluation Completed (valid)!\tLoss: 6.8174 Time: 0.749 s\n",
      "Saving model!\n",
      "Epoch 22:\n",
      "\n",
      "Evaluation Completed (valid)!\tLoss: 6.6413 Time: 0.747 s\n",
      "Saving model!\n",
      "Epoch 23:\n",
      "\n",
      "Evaluation Completed (valid)!\tLoss: 6.4720 Time: 0.747 s\n",
      "Saving model!\n",
      "Epoch 24:\n",
      "\n",
      "Evaluation Completed (valid)!\tLoss: 6.3374 Time: 0.751 s\n",
      "Saving model!\n",
      "Epoch 25:\n",
      "\n",
      "Evaluation Completed (valid)!\tLoss: 6.1326 Time: 0.775 s\n",
      "Saving model!\n",
      "Epoch 26:\n",
      "\n",
      "Evaluation Completed (valid)!\tLoss: 6.0600 Time: 0.748 s\n",
      "Saving model!\n",
      "Epoch 27:\n",
      "\n",
      "Evaluation Completed (valid)!\tLoss: 5.9788 Time: 0.748 s\n",
      "Saving model!\n",
      "Epoch 28:\n",
      "\n",
      "Evaluation Completed (valid)!\tLoss: 5.7973 Time: 0.748 s\n",
      "Saving model!\n",
      "Epoch 29:\n",
      "\n",
      "Evaluation Completed (valid)!\tLoss: 5.6557 Time: 0.776 s\n",
      "Saving model!\n",
      "Epoch 30:\n",
      "\n",
      "Evaluation Completed (valid)!\tLoss: 5.5933 Time: 0.752 s\n",
      "Saving model!\n",
      "Epoch 31:\n",
      "\n",
      "Evaluation Completed (valid)!\tLoss: 5.4267 Time: 0.748 s\n",
      "Saving model!\n",
      "Epoch 32:\n",
      "\n",
      "Evaluation Completed (valid)!\tLoss: 5.4136 Time: 0.748 s\n",
      "Saving model!\n",
      "Epoch 33:\n",
      "\n",
      "Evaluation Completed (valid)!\tLoss: 5.2049 Time: 0.748 s\n",
      "Saving model!\n",
      "Epoch 34:\n",
      "\n",
      "Evaluation Completed (valid)!\tLoss: 5.1827 Time: 0.748 s\n",
      "Saving model!\n",
      "Epoch 35:\n",
      "\n",
      "Evaluation Completed (valid)!\tLoss: 5.1230 Time: 0.751 s\n",
      "Saving model!\n",
      "Epoch 36:\n",
      "\n",
      "Evaluation Completed (valid)!\tLoss: 5.0199 Time: 0.748 s\n",
      "Saving model!\n",
      "Epoch 37:\n",
      "\n",
      "Evaluation Completed (valid)!\tLoss: 4.9944 Time: 0.747 s\n",
      "Saving model!\n",
      "Epoch 38:\n",
      "\n",
      "Evaluation Completed (valid)!\tLoss: 4.8911 Time: 0.747 s\n",
      "Saving model!\n",
      "Epoch 39:\n",
      "\n",
      "Evaluation Completed (valid)!\tLoss: 4.9641 Time: 0.750 s\n",
      "Not saving model! Last saved: 38\n",
      "Epoch 40:\n",
      "\n",
      "Evaluation Completed (valid)!\tLoss: 4.8586 Time: 0.750 s\n",
      "Saving model!\n",
      "Epoch 41:\n",
      "\n",
      "Evaluation Completed (valid)!\tLoss: 4.8185 Time: 0.747 s\n",
      "Saving model!\n",
      "Epoch 42:\n",
      "\n",
      "Evaluation Completed (valid)!\tLoss: 4.7876 Time: 0.775 s\n",
      "Saving model!\n",
      "Epoch 43:\n",
      "\n",
      "Evaluation Completed (valid)!\tLoss: 4.7430 Time: 0.752 s\n",
      "Saving model!\n",
      "Epoch 44:\n",
      "\n",
      "Evaluation Completed (valid)!\tLoss: 4.7060 Time: 0.748 s\n",
      "Saving model!\n",
      "Epoch 45:\n",
      "\n",
      "Evaluation Completed (valid)!\tLoss: 4.6148 Time: 0.750 s\n",
      "Saving model!\n",
      "Epoch 46:\n",
      "\n",
      "Evaluation Completed (valid)!\tLoss: 4.6714 Time: 0.749 s\n",
      "Not saving model! Last saved: 45\n",
      "Epoch 47:\n",
      "\n",
      "Evaluation Completed (valid)!\tLoss: 4.6547 Time: 0.748 s\n",
      "Not saving model! Last saved: 45\n",
      "Epoch 48:\n",
      "\n",
      "Evaluation Completed (valid)!\tLoss: 4.4778 Time: 0.748 s\n",
      "Saving model!\n",
      "Epoch 49:\n",
      "\n",
      "Evaluation Completed (valid)!\tLoss: 4.5541 Time: 0.747 s\n",
      "Not saving model! Last saved: 48\n",
      "Epoch 50:\n",
      "\n",
      "Evaluation Completed (valid)!\tLoss: 4.4332 Time: 0.747 s\n",
      "Saving model!\n",
      "Epoch 51:\n",
      "\n",
      "Evaluation Completed (valid)!\tLoss: 4.3991 Time: 0.747 s\n",
      "Saving model!\n",
      "Epoch 52:\n",
      "\n",
      "Evaluation Completed (valid)!\tLoss: 4.4772 Time: 0.747 s\n",
      "Not saving model! Last saved: 51\n",
      "Epoch 53:\n",
      "\n",
      "Evaluation Completed (valid)!\tLoss: 4.3885 Time: 0.749 s\n",
      "Saving model!\n",
      "Epoch 54:\n",
      "\n",
      "Evaluation Completed (valid)!\tLoss: 4.3151 Time: 0.748 s\n",
      "Saving model!\n",
      "Epoch 55:\n",
      "\n",
      "Evaluation Completed (valid)!\tLoss: 4.3582 Time: 0.773 s\n",
      "Not saving model! Last saved: 54\n",
      "Epoch 56:\n",
      "\n",
      "Evaluation Completed (valid)!\tLoss: 4.3078 Time: 0.747 s\n",
      "Saving model!\n",
      "Epoch 57:\n",
      "\n",
      "Evaluation Completed (valid)!\tLoss: 4.3036 Time: 0.746 s\n",
      "Saving model!\n",
      "Epoch 58:\n",
      "\n",
      "Evaluation Completed (valid)!\tLoss: 4.2037 Time: 0.749 s\n",
      "Saving model!\n",
      "Epoch 59:\n",
      "\n",
      "Evaluation Completed (valid)!\tLoss: 4.2889 Time: 0.747 s\n",
      "Not saving model! Last saved: 58\n",
      "Epoch 60:\n",
      "\n",
      "Evaluation Completed (valid)!\tLoss: 4.1277 Time: 0.747 s\n",
      "Saving model!\n",
      "Epoch 61:\n",
      "\n",
      "Evaluation Completed (valid)!\tLoss: 4.1714 Time: 0.740 s\n",
      "Not saving model! Last saved: 60\n",
      "Epoch 62:\n",
      "\n",
      "Evaluation Completed (valid)!\tLoss: 4.2222 Time: 0.741 s\n",
      "Not saving model! Last saved: 60\n",
      "Epoch 63:\n",
      "\n",
      "Evaluation Completed (valid)!\tLoss: 4.0932 Time: 0.742 s\n",
      "Saving model!\n",
      "Epoch 64:\n",
      "\n",
      "Evaluation Completed (valid)!\tLoss: 4.0522 Time: 0.941 s\n",
      "Saving model!\n",
      "Epoch 65:\n",
      "\n",
      "Evaluation Completed (valid)!\tLoss: 4.0259 Time: 0.751 s\n",
      "Saving model!\n",
      "Epoch 66:\n",
      "\n",
      "Evaluation Completed (valid)!\tLoss: 4.0658 Time: 0.741 s\n",
      "Not saving model! Last saved: 65\n",
      "Epoch 67:\n",
      "\n",
      "Evaluation Completed (valid)!\tLoss: 3.9471 Time: 0.741 s\n",
      "Saving model!\n",
      "Epoch 68:\n",
      "\n",
      "Evaluation Completed (valid)!\tLoss: 4.0607 Time: 0.765 s\n",
      "Not saving model! Last saved: 67\n",
      "Epoch 69:\n",
      "\n",
      "Evaluation Completed (valid)!\tLoss: 3.9161 Time: 0.740 s\n",
      "Saving model!\n",
      "Epoch 70:\n",
      "\n",
      "Evaluation Completed (valid)!\tLoss: 3.9035 Time: 0.740 s\n",
      "Saving model!\n",
      "Epoch 71:\n",
      "\n",
      "Evaluation Completed (valid)!\tLoss: 3.9656 Time: 0.739 s\n",
      "Not saving model! Last saved: 70\n",
      "Epoch 72:\n",
      "\n",
      "Evaluation Completed (valid)!\tLoss: 3.8728 Time: 0.739 s\n",
      "Saving model!\n",
      "Epoch 73:\n",
      "\n",
      "Evaluation Completed (valid)!\tLoss: 3.9721 Time: 0.744 s\n",
      "Not saving model! Last saved: 72\n",
      "Epoch 74:\n",
      "\n",
      "Evaluation Completed (valid)!\tLoss: 3.7664 Time: 0.738 s\n",
      "Saving model!\n",
      "Epoch 75:\n",
      "\n",
      "Evaluation Completed (valid)!\tLoss: 3.8570 Time: 0.740 s\n",
      "Not saving model! Last saved: 74\n",
      "Epoch 76:\n",
      "\n",
      "Evaluation Completed (valid)!\tLoss: 3.7437 Time: 0.739 s\n",
      "Saving model!\n",
      "Epoch 77:\n",
      "\n",
      "Evaluation Completed (valid)!\tLoss: 3.8551 Time: 0.739 s\n",
      "Not saving model! Last saved: 76\n",
      "Epoch 78:\n",
      "\n",
      "Evaluation Completed (valid)!\tLoss: 3.8041 Time: 0.739 s\n",
      "Not saving model! Last saved: 76\n",
      "Epoch 79:\n",
      "\n",
      "Evaluation Completed (valid)!\tLoss: 3.7384 Time: 0.740 s\n",
      "Saving model!\n",
      "Epoch 80:\n",
      "\n",
      "Evaluation Completed (valid)!\tLoss: 3.7148 Time: 0.740 s\n",
      "Saving model!\n",
      "Epoch 81:\n",
      "\n",
      "Evaluation Completed (valid)!\tLoss: 3.6080 Time: 0.766 s\n",
      "Saving model!\n",
      "Epoch 82:\n",
      "\n",
      "Evaluation Completed (valid)!\tLoss: 3.8940 Time: 0.738 s\n",
      "Not saving model! Last saved: 81\n",
      "Epoch 83:\n",
      "\n",
      "Evaluation Completed (valid)!\tLoss: 3.6053 Time: 0.740 s\n",
      "Saving model!\n",
      "Epoch 84:\n",
      "\n",
      "Evaluation Completed (valid)!\tLoss: 3.9378 Time: 0.740 s\n",
      "Not saving model! Last saved: 83\n",
      "Epoch 85:\n",
      "\n",
      "Evaluation Completed (valid)!\tLoss: 3.5735 Time: 0.741 s\n",
      "Saving model!\n",
      "Epoch 86:\n",
      "\n",
      "Evaluation Completed (valid)!\tLoss: 3.6815 Time: 0.741 s\n",
      "Not saving model! Last saved: 85\n",
      "Epoch 87:\n",
      "\n",
      "Evaluation Completed (valid)!\tLoss: 3.6111 Time: 0.740 s\n",
      "Not saving model! Last saved: 85\n",
      "Epoch 88:\n",
      "\n",
      "Evaluation Completed (valid)!\tLoss: 3.6611 Time: 0.741 s\n",
      "Not saving model! Last saved: 85\n",
      "Epoch 89:\n",
      "\n",
      "Evaluation Completed (valid)!\tLoss: 3.6847 Time: 0.741 s\n",
      "Not saving model! Last saved: 85\n",
      "Epoch 90:\n",
      "\n",
      "Evaluation Completed (valid)!\tLoss: 3.6657 Time: 0.741 s\n",
      "Not saving model! Last saved: 85\n",
      "Epoch 91:\n",
      "\n",
      "Evaluation Completed (valid)!\tLoss: 3.6098 Time: 0.739 s\n",
      "Not saving model! Last saved: 85\n",
      "Epoch 92:\n",
      "\n",
      "Evaluation Completed (valid)!\tLoss: 3.5898 Time: 0.740 s\n",
      "Not saving model! Last saved: 85\n",
      "Epoch 93:\n",
      "\n",
      "Evaluation Completed (valid)!\tLoss: 3.4517 Time: 0.743 s\n",
      "Saving model!\n",
      "Epoch 94:\n",
      "\n",
      "Evaluation Completed (valid)!\tLoss: 3.6177 Time: 0.767 s\n",
      "Not saving model! Last saved: 93\n",
      "Epoch 95:\n"
     ]
    },
    {
     "name": "stdout",
     "output_type": "stream",
     "text": [
      "\n",
      "Evaluation Completed (valid)!\tLoss: 3.6009 Time: 0.739 s\n",
      "Not saving model! Last saved: 93\n",
      "Epoch 96:\n",
      "\n",
      "Evaluation Completed (valid)!\tLoss: 3.5834 Time: 0.740 s\n",
      "Not saving model! Last saved: 93\n",
      "Epoch 97:\n",
      "\n",
      "Evaluation Completed (valid)!\tLoss: 3.5816 Time: 0.740 s\n",
      "Not saving model! Last saved: 93\n",
      "Epoch 98:\n",
      "\n",
      "Evaluation Completed (valid)!\tLoss: 3.4430 Time: 0.741 s\n",
      "Saving model!\n",
      "Epoch 99:\n",
      "\n",
      "Evaluation Completed (valid)!\tLoss: 3.3980 Time: 0.739 s\n",
      "Saving model!\n",
      "Epoch 100:\n",
      "\n",
      "Evaluation Completed (valid)!\tLoss: 3.5859 Time: 0.738 s\n",
      "Not saving model! Last saved: 99\n",
      "Epoch 101:\n",
      "\n",
      "Evaluation Completed (valid)!\tLoss: 3.5356 Time: 0.739 s\n",
      "Not saving model! Last saved: 99\n",
      "Epoch 102:\n",
      "\n",
      "Evaluation Completed (valid)!\tLoss: 3.4384 Time: 0.739 s\n",
      "Not saving model! Last saved: 99\n",
      "Epoch 103:\n",
      "\n",
      "Evaluation Completed (valid)!\tLoss: 3.6288 Time: 0.741 s\n",
      "Not saving model! Last saved: 99\n",
      "Epoch 104:\n",
      "\n",
      "Evaluation Completed (valid)!\tLoss: 3.3972 Time: 0.749 s\n",
      "Saving model!\n",
      "Epoch 105:\n",
      "\n",
      "Evaluation Completed (valid)!\tLoss: 3.4734 Time: 0.751 s\n",
      "Not saving model! Last saved: 104\n",
      "Epoch 106:\n",
      "\n",
      "Evaluation Completed (valid)!\tLoss: 3.4837 Time: 0.748 s\n",
      "Not saving model! Last saved: 104\n",
      "Epoch 107:\n",
      "\n",
      "Evaluation Completed (valid)!\tLoss: 3.5154 Time: 0.774 s\n",
      "Not saving model! Last saved: 104\n",
      "Epoch 108:\n",
      "\n",
      "Evaluation Completed (valid)!\tLoss: 3.4894 Time: 0.754 s\n",
      "Not saving model! Last saved: 104\n",
      "Epoch 109:\n",
      "\n",
      "Evaluation Completed (valid)!\tLoss: 3.6265 Time: 0.748 s\n",
      "Not saving model! Last saved: 104\n",
      "Epoch 110:\n",
      "\n",
      "Evaluation Completed (valid)!\tLoss: 3.4605 Time: 0.743 s\n",
      "Not saving model! Last saved: 104\n",
      "Epoch 111:\n",
      "\n",
      "Evaluation Completed (valid)!\tLoss: 3.3310 Time: 0.739 s\n",
      "Saving model!\n",
      "Epoch 112:\n",
      "\n",
      "Evaluation Completed (valid)!\tLoss: 3.4317 Time: 0.742 s\n",
      "Not saving model! Last saved: 111\n",
      "Epoch 113:\n",
      "\n",
      "Evaluation Completed (valid)!\tLoss: 3.5451 Time: 0.739 s\n",
      "Not saving model! Last saved: 111\n",
      "Epoch 114:\n",
      "\n",
      "Evaluation Completed (valid)!\tLoss: 3.4112 Time: 0.741 s\n",
      "Not saving model! Last saved: 111\n",
      "Epoch 115:\n",
      "\n",
      "Evaluation Completed (valid)!\tLoss: 3.3955 Time: 0.740 s\n",
      "Not saving model! Last saved: 111\n",
      "Epoch 116:\n",
      "\n",
      "Evaluation Completed (valid)!\tLoss: 3.4781 Time: 0.739 s\n",
      "Not saving model! Last saved: 111\n",
      "Epoch 117:\n",
      "\n",
      "Evaluation Completed (valid)!\tLoss: 3.4717 Time: 0.748 s\n",
      "Not saving model! Last saved: 111\n",
      "Epoch 118:\n",
      "\n",
      "Evaluation Completed (valid)!\tLoss: 3.3538 Time: 0.750 s\n",
      "Not saving model! Last saved: 111\n",
      "Epoch 119:\n",
      "\n",
      "Evaluation Completed (valid)!\tLoss: 3.4606 Time: 0.748 s\n",
      "Not saving model! Last saved: 111\n",
      "Epoch 120:\n",
      "\n",
      "Evaluation Completed (valid)!\tLoss: 3.4386 Time: 0.774 s\n",
      "Not saving model! Last saved: 111\n",
      "Epoch 121:\n",
      "\n",
      "Evaluation Completed (valid)!\tLoss: 3.4155 Time: 0.749 s\n",
      "Not saving model! Last saved: 111\n",
      "Epoch 122:\n",
      "\n",
      "Evaluation Completed (valid)!\tLoss: 3.4215 Time: 1.059 s\n",
      "Not saving model! Last saved: 111\n",
      "Patience Limit Reached\n"
     ]
    }
   ],
   "source": [
    "N_EPOCHS = 10\n",
    "BEST_LOSS = 999\n",
    "LAST_SAVED = -1\n",
    "PATIENCE_COUNT = 0\n",
    "PATIENCE_LIMIT = 5\n",
    "for epoch in range(1, 1000):\n",
    "    print(\"Epoch {}:\".format(epoch))\n",
    "    sigtrain()\n",
    "    cur_loss = sigevaluate()\n",
    "\n",
    "    if cur_loss <= BEST_LOSS:\n",
    "        PATIENCE_COUNT = 0\n",
    "        BEST_LOSS = cur_loss\n",
    "        LAST_SAVED = epoch\n",
    "        print(\"Saving model!\")\n",
    "        torch.save(sigmodel.state_dict(),f\"/data/t3home000/spark/QUASAR/weights/{ae_def['type']}_{ae_def['trainon']}_{ae_def['features']}_{ae_def['architecture']}_{ae_def['selection']}_{ae_def['trainloss']}_{ae_def['beta']}.h5\")\n",
    "        \n",
    "    else:\n",
    "        PATIENCE_COUNT += 1\n",
    "        print(\"Not saving model! Last saved: {}\".format(LAST_SAVED))\n",
    "        if PATIENCE_COUNT > 10:\n",
    "            print(\"Patience Limit Reached\")\n",
    "            break "
   ]
  },
  {
   "cell_type": "code",
   "execution_count": 43,
   "metadata": {},
   "outputs": [
    {
     "data": {
      "text/plain": [
       "<All keys matched successfully>"
      ]
     },
     "execution_count": 43,
     "metadata": {},
     "output_type": "execute_result"
    }
   ],
   "source": [
    "sigmodel.load_state_dict(torch.load(f\"/data/t3home000/spark/QUASAR/weights/{ae_def['type']}_{ae_def['trainon']}_{ae_def['features']}_{ae_def['architecture']}_{ae_def['selection']}_{ae_def['trainloss']}_{ae_def['beta']}.h5\"))"
   ]
  },
  {
   "cell_type": "code",
   "execution_count": 44,
   "metadata": {},
   "outputs": [],
   "source": [
    "sigout = sigmodel(torch.tensor(Y).float().cuda())[0]\n",
    "sigout = sigout.data.cpu().numpy()"
   ]
  },
  {
   "cell_type": "code",
   "execution_count": 61,
   "metadata": {},
   "outputs": [
    {
     "data": {
      "text/plain": [
       "<matplotlib.lines.Line2D at 0x7fc47d0cbe80>"
      ]
     },
     "execution_count": 61,
     "metadata": {},
     "output_type": "execute_result"
    },
    {
     "data": {
      "image/png": "[encoded data removed]",
      "text/plain": [
       "<Figure size 432x288 with 1 Axes>"
      ]
     },
     "metadata": {
      "needs_background": "light"
     },
     "output_type": "display_data"
    }
   ],
   "source": [
    "bins = np.linspace(-3,3,100)\n",
    "bins.shape\n",
    "column = 13\n",
    "#print(f_rnd.columns[column]\n",
    "plt.hist(Y[:,column],bins,alpha=0.5,color='b');\n",
    "plt.hist(sigout[:,column],bins,alpha=0.5,color='r');\n",
    "#plt.hist(out2[:,column],bins,alpha=0.5,color='g');\n",
    "plt.axvline(np.mean(Y[:,column]))"
   ]
  },
  {
   "cell_type": "code",
   "execution_count": 62,
   "metadata": {},
   "outputs": [],
   "source": [
    "inputlist = [\n",
    "    '/data/t3home000/spark/QUASAR/preprocessing/conventional_tau_BB1_rnd.h5',\n",
    "    '/data/t3home000/spark/QUASAR/preprocessing/conventional_tau_BB2.h5',\n",
    "    '/data/t3home000/spark/QUASAR/preprocessing/conventional_tau_BB3.h5',\n",
    "    '/data/t3home000/spark/QUASAR/preprocessing/conventional_tau_background.h5',\n",
    "    '/data/t3home000/spark/QUASAR/preprocessing/conventional_tau_rnd.h5',\n",
    "    '/data/t3home000/spark/QUASAR/preprocessing/conventional_tau_rnd.h5', \n",
    "    '/data/t3home000/spark/QUASAR/preprocessing/conventional_tau_3prong_rnd.h5' \n",
    "]"
   ]
  },
  {
   "cell_type": "code",
   "execution_count": 63,
   "metadata": {},
   "outputs": [],
   "source": [
    "outputlist = [\n",
    "    '../data_strings/sigae_3prong_withmassNORAWJETMASS_turnonselection_Huberloss_beta1_WAICloss_bb1.npy',\n",
    "    '../data_strings/sigae_3prong_withmassNORAWJETMASS_turnonselection_Huberloss_beta1_WAICloss_bb2.npy',\n",
    "    '../data_strings/sigae_3prong_withmassNORAWJETMASS_turnonselection_Huberloss_beta1_WAICloss_bb3.npy',\n",
    "    '../data_strings/sigae_3prong_withmassNORAWJETMASS_turnonselection_Huberloss_beta1_WAICloss_purebkg.npy',\n",
    "    '../data_strings/sigae_3prong_withmassNORAWJETMASS_turnonselection_Huberloss_beta1_WAICloss_rndbkg.npy',\n",
    "    '../data_strings/sigae_3prong_withmassNORAWJETMASS_turnonselection_Huberloss_beta1_WAICloss_2prong.npy',\n",
    "    '../data_strings/sigae_3prong_withmassNORAWJETMASS_turnonselection_Huberloss_beta1_WAICloss_3prong.npy',\n",
    "]"
   ]
  },
  {
   "cell_type": "code",
   "execution_count": 64,
   "metadata": {},
   "outputs": [],
   "source": [
    "exist_signalflag = [\n",
    "    False,\n",
    "    False,\n",
    "    False,\n",
    "    False,\n",
    "    True,\n",
    "    True,\n",
    "    True,\n",
    "]\n",
    "is_signal = [\n",
    "    False,\n",
    "    False,\n",
    "    False,\n",
    "    False,\n",
    "    False,\n",
    "    True,\n",
    "    True\n",
    "]\n",
    "\n",
    "nprong = [\n",
    "    None,\n",
    "    None,\n",
    "    None,\n",
    "    None,\n",
    "    None,\n",
    "    '2prong',\n",
    "    '3prong'\n",
    "]"
   ]
  },
  {
   "cell_type": "code",
   "execution_count": 65,
   "metadata": {},
   "outputs": [
    {
     "name": "stdout",
     "output_type": "stream",
     "text": [
      "(914617, 22)\n",
      "[ 0.8393213  1.8810232  2.356104   0.8825512  1.7487564 17.712952\n",
      " 27.551426  40.08393    3.3866887  8.730786 ]\n",
      "(902602, 22)\n",
      "[ 6.8991404  5.7540126 14.433657   2.0291429 65.7177     8.218711\n",
      " 61.73116   54.045055  81.01951    6.0470285]\n",
      "(938250, 22)\n",
      "[16.658262  64.237976   5.7001877  1.2812992  1.5830371  2.6877186\n",
      "  8.365374   7.9900765  5.258966   2.9627826]\n",
      "(930647, 22)\n",
      "[ 1.7457403 22.05825    9.129873  14.333065  37.89096   16.518042\n",
      " 36.73714    3.9526708  1.3841065 27.603506 ]\n",
      "(938331, 22)\n",
      "[75.53003    2.4559917  2.3027852  4.2289796  2.689762   3.648775\n",
      " 13.365385  71.755165   1.4970752 52.240833 ]\n",
      "(0, 22)\n",
      "[]\n",
      "(0, 22)\n",
      "[]\n"
     ]
    },
    {
     "data": {
      "image/png": "[encoded data removed]",
      "text/plain": [
       "<Figure size 432x288 with 1 Axes>"
      ]
     },
     "metadata": {
      "needs_background": "light"
     },
     "output_type": "display_data"
    }
   ],
   "source": [
    "for in_file, out_file, sigbit_flag, is_sig, n_prong in zip(inputlist,outputlist,exist_signalflag,is_signal, nprong):\n",
    "    f_bb = pd.read_hdf(in_file)\n",
    "    dt = f_bb.values\n",
    "\n",
    "    correct = (dt[:,3]>0) &(dt[:,19]>0)\n",
    "    dt = dt[correct]\n",
    "    for i in range(13,19):\n",
    "        dt[:,i] = dt[:,i]/dt[:,3]\n",
    "    \n",
    "    for i in range(29,35):\n",
    "        dt[:,i] = dt[:,i]/(dt[:,19])\n",
    "        \n",
    "        \n",
    "    correct = (dt[:,29]>=0) &(dt[:,29]<=1)&(dt[:,30]>=0) &(dt[:,30]<=1)&(dt[:,31]>=0) &(dt[:,31]<=1)&(dt[:,32]>=0) &(dt[:,32]<=1)&(dt[:,33]>=0) &(dt[:,33]<=1)&(dt[:,34]>=-0.01) &(dt[:,34]<=1)\n",
    "    dt = dt[correct]\n",
    "    Y = dt[:,[4,5,6,11,12,13,14,15,16,17,18,20,21,22,27,28,29,30,31,32,33,34]]\n",
    "    #Y = dt[:,[3,4,5,6,11,12,13,14,15,16,17,18,19,20,21,22,27,28,29,30,31,32,33,34]]\n",
    "    #Y = dt[:,[3,4,5,6,11,12,19,20,21,22,27,28]]\n",
    "    if sigbit_flag:\n",
    "        idx = dt[:,-1]\n",
    "        sigidx = (idx == 1)\n",
    "        bkgidx = (idx == 0)\n",
    "        if is_sig:\n",
    "            Y = Y[sigidx]\n",
    "        else:\n",
    "            Y = Y[bkgidx]\n",
    "            \n",
    "    if n_prong == '2prong':\n",
    "        correct = Y[:,0] > 300\n",
    "        Y = Y[correct]\n",
    "    \n",
    "    if n_prong == '3prong':\n",
    "        correct = Y[:,0] > 400\n",
    "        Y = Y[correct]\n",
    "        \n",
    "    \n",
    "            \n",
    "    print(Y.shape)\n",
    "    for i in range(22):\n",
    "        Y[:,i] = (Y[:,i]-sig_mean[i])/sig_std[i]\n",
    "    \n",
    "    total_bb_test = torch.tensor(Y)\n",
    "    sigae_bbloss = torch.mean((sigmodel(total_bb_test.float().cuda())[0]- total_bb_test.float().cuda())**2,dim=1).data.cpu().numpy()\n",
    "    bbvar = torch.var((sigmodel(total_bb_test.float().cuda())[0]- total_bb_test.float().cuda())**2,dim=1).data.cpu().numpy()\n",
    "    waic = sigae_bbloss + bbvar\n",
    "    print(sigae_bbloss[0:10])\n",
    "    plt.hist(sigae_bbloss,bins=np.linspace(0,10,1001));\n",
    "    np.save(out_file,sigae_bbloss)"
   ]
  },
  {
   "cell_type": "code",
   "execution_count": 53,
   "metadata": {},
   "outputs": [],
   "source": [
    "loss_prong3 = np.load('../data_strings/sigae_2prong_withmassNORAWJETMASS_turnonselection_MSEloss_beta1_WAICloss_3prong.npy')\n",
    "loss_prong2 = np.load('../data_strings/sigae_2prong_withmassNORAWJETMASS_turnonselection_MSEloss_beta1_WAICloss_2prong.npy')\n",
    "loss_purebkg = np.load('../data_strings/sigae_2prong_withmassNORAWJETMASS_turnonselection_MSEloss_beta1_WAICloss_purebkg.npy')\n",
    "loss_rndbkg = np.load('../data_strings/sigae_2prong_withmassNORAWJETMASS_turnonselection_MSEloss_beta1_WAICloss_rndbkg.npy')"
   ]
  },
  {
   "cell_type": "code",
   "execution_count": 56,
   "metadata": {},
   "outputs": [
    {
     "data": {
      "image/png": "[encoded data removed]",
      "text/plain": [
       "<Figure size 432x288 with 1 Axes>"
      ]
     },
     "metadata": {
      "needs_background": "light"
     },
     "output_type": "display_data"
    }
   ],
   "source": [
    "plt.hist(loss_purebkg,bins=np.linspace(0,10,100),density=False,alpha=0.3,label='Pure Bkg');\n",
    "#plt.hist(loss_rndbkg,bins=np.linspace(0,30,100),density=True,alpha=0.3,label='(rnd) bkg');\n",
    "\n",
    "plt.hist(loss_prong2,bins=np.linspace(0,10,100),density=False,alpha=0.3,label='2prong (rnd)sig');\n",
    "plt.hist(loss_prong3,bins=np.linspace(0,10,100),density=False,alpha=0.3,label='3prong (rnd)sig');\n",
    "#plt.yscale('log')\n",
    "plt.xlabel('WAIC (SigAE trained on 2prong sig)')\n",
    "plt.legend(loc='upper right')\n",
    "plt.savefig('sigae_trained_on_2prongsig_onlybkg.png')"
   ]
  },
  {
   "cell_type": "code",
   "execution_count": null,
   "metadata": {},
   "outputs": [],
   "source": []
  },
  {
   "cell_type": "code",
   "execution_count": null,
   "metadata": {},
   "outputs": [],
   "source": []
  },
  {
   "cell_type": "code",
   "execution_count": 34,
   "metadata": {},
   "outputs": [
    {
     "data": {
      "text/plain": [
       "array([ 2832.3672,  8125.47  , 29922.496 , ...,  2359.0386,  2635.9333,\n",
       "         640.2169], dtype=float32)"
      ]
     },
     "execution_count": 34,
     "metadata": {},
     "output_type": "execute_result"
    }
   ],
   "source": [
    "sigae_bbloss"
   ]
  },
  {
   "cell_type": "code",
   "execution_count": null,
   "metadata": {},
   "outputs": [],
   "source": []
  },
  {
   "cell_type": "code",
   "execution_count": 27,
   "metadata": {
    "scrolled": true
   },
   "outputs": [
    {
     "data": {
      "text/plain": [
       "array([  13148.348 , 1877521.2   ,   10748.764 , ...,    9332.388 ,\n",
       "          3072.496 ,    3093.0527], dtype=float32)"
      ]
     },
     "execution_count": 27,
     "metadata": {},
     "output_type": "execute_result"
    }
   ],
   "source": [
    "sigae_bbloss"
   ]
  },
  {
   "cell_type": "code",
   "execution_count": 59,
   "metadata": {},
   "outputs": [
    {
     "data": {
      "image/png": "[encoded data removed]",
      "text/plain": [
       "<Figure size 432x288 with 1 Axes>"
      ]
     },
     "metadata": {
      "needs_background": "light"
     },
     "output_type": "display_data"
    }
   ],
   "source": [
    "plt.hist(sigae_bbloss,bins=np.linspace(0,10,1001));"
   ]
  },
  {
   "cell_type": "code",
   "execution_count": 60,
   "metadata": {},
   "outputs": [],
   "source": [
    "np.save('../data_strings/sigae_2prong_loss_bb3.npy',sigae_bbloss)"
   ]
  },
  {
   "cell_type": "code",
   "execution_count": null,
   "metadata": {},
   "outputs": [],
   "source": []
  },
  {
   "cell_type": "code",
   "execution_count": null,
   "metadata": {},
   "outputs": [],
   "source": []
  },
  {
   "cell_type": "code",
   "execution_count": 211,
   "metadata": {},
   "outputs": [],
   "source": [
    "X_bkg = dt[:,[3,4,5,6,11,12,19,20,21,22,27,28]]\n",
    "X_bkg = X_bkg[bkg_idx]"
   ]
  },
  {
   "cell_type": "code",
   "execution_count": 212,
   "metadata": {},
   "outputs": [],
   "source": [
    "for i in range(12):\n",
    "    X_bkg[:,i] = (X_bkg[:,i]-sig_mean[i])/sig_std[i]"
   ]
  },
  {
   "cell_type": "code",
   "execution_count": 161,
   "metadata": {},
   "outputs": [],
   "source": [
    "total_bkg_test = torch.tensor(X_bkg)"
   ]
  },
  {
   "cell_type": "code",
   "execution_count": 162,
   "metadata": {},
   "outputs": [],
   "source": [
    "sigae_bkgloss = torch.mean((sigmodel(total_bkg_test.float().cuda())[0]- total_bkg_test.float().cuda())**2,dim=1).data.cpu().numpy()"
   ]
  },
  {
   "cell_type": "code",
   "execution_count": 163,
   "metadata": {},
   "outputs": [],
   "source": [
    "sigae_sigloss = torch.mean((sigmodel(total_sig.float().cuda())[0]- total_sig.float().cuda())**2,dim=1).data.cpu().numpy()"
   ]
  },
  {
   "cell_type": "code",
   "execution_count": 176,
   "metadata": {},
   "outputs": [],
   "source": [
    "f_3prong = pd.read_hdf(\"/data/t3home000/spark/QUASAR/preprocessing/conventional_tau_3prong_rnd.h5\")"
   ]
  },
  {
   "cell_type": "code",
   "execution_count": null,
   "metadata": {},
   "outputs": [],
   "source": []
  },
  {
   "cell_type": "code",
   "execution_count": null,
   "metadata": {},
   "outputs": [],
   "source": []
  },
  {
   "cell_type": "code",
   "execution_count": 309,
   "metadata": {},
   "outputs": [],
   "source": [
    "f_bb1 = pd.read_hdf('/data/t3home000/spark/QUASAR/preprocessing/conventional_tau_BB1_rnd.h5')"
   ]
  },
  {
   "cell_type": "code",
   "execution_count": 310,
   "metadata": {},
   "outputs": [],
   "source": [
    "dt_bb1 = f_bb1.values"
   ]
  },
  {
   "cell_type": "code",
   "execution_count": 311,
   "metadata": {},
   "outputs": [],
   "source": [
    "X_bb1 = dt_bb1[:,[3,4,5,6,11,12,19,20,21,22,27,28]]"
   ]
  },
  {
   "cell_type": "code",
   "execution_count": 312,
   "metadata": {},
   "outputs": [
    {
     "data": {
      "text/plain": [
       "(1000000, 12)"
      ]
     },
     "execution_count": 312,
     "metadata": {},
     "output_type": "execute_result"
    }
   ],
   "source": [
    "X_bb1.shape"
   ]
  },
  {
   "cell_type": "code",
   "execution_count": 313,
   "metadata": {},
   "outputs": [
    {
     "data": {
      "text/plain": [
       "[416.4436327724198,\n",
       " 0.259460143970101,\n",
       " 0.6475599434564594,\n",
       " 0.7747571031756559,\n",
       " 1.4414801240204307,\n",
       " 232.28881387172063,\n",
       " 115.19219609387073,\n",
       " 0.4000458937255977,\n",
       " 0.6497184345343743,\n",
       " 0.7592483240780288,\n",
       " 1.5724873295094448,\n",
       " 139.77741938715204]"
      ]
     },
     "execution_count": 313,
     "metadata": {},
     "output_type": "execute_result"
    }
   ],
   "source": [
    "sig_mean"
   ]
  },
  {
   "cell_type": "code",
   "execution_count": 314,
   "metadata": {},
   "outputs": [
    {
     "data": {
      "text/plain": [
       "[154.19379540115423,\n",
       " 0.17056704944179107,\n",
       " 0.14978212617036485,\n",
       " 0.09894407762923978,\n",
       " 0.4886539241053714,\n",
       " 87.70941099970253,\n",
       " 49.68849330603538,\n",
       " 0.1622952691607605,\n",
       " 0.14863130231138283,\n",
       " 0.10503384225762816,\n",
       " 0.6713928483438475,\n",
       " 48.672440905600446]"
      ]
     },
     "execution_count": 314,
     "metadata": {},
     "output_type": "execute_result"
    }
   ],
   "source": [
    "sig_std"
   ]
  },
  {
   "cell_type": "code",
   "execution_count": 315,
   "metadata": {},
   "outputs": [],
   "source": [
    "for i in range(12):\n",
    "    X_bb1[:,i] = (X_bb1[:,i]-sig_mean[i])/sig_std[i]"
   ]
  },
  {
   "cell_type": "code",
   "execution_count": 317,
   "metadata": {},
   "outputs": [
    {
     "data": {
      "text/plain": [
       "(array([246458., 189649., 134796.,  95188.,  64278.,  40409.,  20912.,\n",
       "          9337.,   4219.]),\n",
       " array([-2.        , -1.55555556, -1.11111111, -0.66666667, -0.22222222,\n",
       "         0.22222222,  0.66666667,  1.11111111,  1.55555556,  2.        ]),\n",
       " <a list of 9 Patch objects>)"
      ]
     },
     "execution_count": 317,
     "metadata": {},
     "output_type": "execute_result"
    },
    {
     "data": {
      "image/png": "[encoded data removed]",
      "text/plain": [
       "<Figure size 720x720 with 1 Axes>"
      ]
     },
     "metadata": {
      "needs_background": "light"
     },
     "output_type": "display_data"
    }
   ],
   "source": [
    "plt.hist(X_bb1[:,0],bins = np.linspace(-2,2,10))"
   ]
  },
  {
   "cell_type": "code",
   "execution_count": null,
   "metadata": {},
   "outputs": [],
   "source": []
  },
  {
   "cell_type": "code",
   "execution_count": 318,
   "metadata": {},
   "outputs": [
    {
     "ename": "TypeError",
     "evalue": "'type' object is not iterable",
     "output_type": "error",
     "traceback": [
      "\u001b[0;31m---------------------------------------------------------------------------\u001b[0m",
      "\u001b[0;31mTypeError\u001b[0m                                 Traceback (most recent call last)",
      "\u001b[0;32m<ipython-input-318-3425ef769b7f>\u001b[0m in \u001b[0;36m<module>\u001b[0;34m\u001b[0m\n\u001b[0;32m----> 1\u001b[0;31m \u001b[0;34m(\u001b[0m\u001b[0mtorch\u001b[0m\u001b[0;34m.\u001b[0m\u001b[0mtensor\u001b[0m\u001b[0;34m(\u001b[0m\u001b[0mdt\u001b[0m\u001b[0;34m[\u001b[0m\u001b[0mi\u001b[0m \u001b[0;34m*\u001b[0m \u001b[0mchunk_size\u001b[0m\u001b[0;34m:\u001b[0m\u001b[0;34m(\u001b[0m\u001b[0mi\u001b[0m \u001b[0;34m+\u001b[0m \u001b[0;36m1\u001b[0m\u001b[0;34m)\u001b[0m \u001b[0;34m*\u001b[0m \u001b[0mchunk_size\u001b[0m\u001b[0;34m]\u001b[0m\u001b[0;34m)\u001b[0m \u001b[0;32mfor\u001b[0m \u001b[0mi\u001b[0m \u001b[0;32min\u001b[0m \u001b[0mrange\u001b[0m \u001b[0;34m)\u001b[0m\u001b[0;34m\u001b[0m\u001b[0;34m\u001b[0m\u001b[0m\n\u001b[0m",
      "\u001b[0;31mTypeError\u001b[0m: 'type' object is not iterable"
     ]
    }
   ],
   "source": [
    "(torch.tensor(dt[i * chunk_size:(i + 1) * chunk_size]) for i in range ) "
   ]
  },
  {
   "cell_type": "code",
   "execution_count": 319,
   "metadata": {},
   "outputs": [],
   "source": [
    "def get_loss(dt):\n",
    "    \n",
    "    chunk_size=5000 \n",
    "    total_size=1000000\n",
    "    i = 0\n",
    "    i_max = total_size // chunk_size\n",
    "\n",
    "    print(i_max)\n",
    "    \n",
    "    \n",
    "    \n",
    "    gen = (torch.tensor(dt[i*chunk_size: (i + 1) * chunk_size]) for i in range(i_max)) \n",
    "\n",
    "        \n",
    "    with torch.no_grad():\n",
    "        \n",
    "        loss = [\n",
    "            n\n",
    "            for total_in_selection in gen\n",
    "            for n in torch.mean((sigmodel(total_in_selection.float().cuda())[0]- total_in_selection.float().cuda())**2,dim=1).data.cpu().numpy()\n",
    "        ]\n",
    "        \n",
    "    return loss"
   ]
  },
  {
   "cell_type": "code",
   "execution_count": 287,
   "metadata": {},
   "outputs": [],
   "source": [
    "def get_loss(dt):\n",
    "    \n",
    "    def generator(dt, chunk_size=5000, total_size=1000000):\n",
    "\n",
    "        i = 0\n",
    "        i_max = total_size // chunk_size\n",
    "        print(i_max)\n",
    "    \n",
    "        for i in range(i_max):\n",
    "            start=i * chunk_size\n",
    "            stop=(i + 1) * chunk_size\n",
    "            yield torch.tensor(dt[start:stop])\n",
    "        \n",
    "    loss = []\n",
    "\n",
    "    \n",
    "    with torch.no_grad():\n",
    "        \n",
    "        for total_in_selection in generator(dt,chunk_size=5000, total_size=1000000):\n",
    "            loss.extend(torch.mean((sigmodel(total_in_selection.float().cuda())[0]- total_in_selection.float().cuda())**2,dim=1).data.cpu().numpy())\n",
    "    \n",
    "    return loss"
   ]
  },
  {
   "cell_type": "code",
   "execution_count": 320,
   "metadata": {},
   "outputs": [
    {
     "name": "stdout",
     "output_type": "stream",
     "text": [
      "200\n"
     ]
    }
   ],
   "source": [
    "bb1_loss_sig = get_loss(X_bb1)"
   ]
  },
  {
   "cell_type": "code",
   "execution_count": 321,
   "metadata": {},
   "outputs": [],
   "source": [
    "bb1_loss_sig = np.array(bb1_loss_sig,dtype=np.float)"
   ]
  },
  {
   "cell_type": "code",
   "execution_count": 322,
   "metadata": {},
   "outputs": [
    {
     "name": "stdout",
     "output_type": "stream",
     "text": [
      "[1.90564466 0.96934295 1.35960376 ... 0.59359992 2.21692467 2.44283652]\n"
     ]
    }
   ],
   "source": [
    "print(bb1_loss_sig)"
   ]
  },
  {
   "cell_type": "code",
   "execution_count": 323,
   "metadata": {},
   "outputs": [
    {
     "data": {
      "image/png": "[encoded data removed]",
      "text/plain": [
       "<Figure size 720x720 with 1 Axes>"
      ]
     },
     "metadata": {
      "needs_background": "light"
     },
     "output_type": "display_data"
    }
   ],
   "source": [
    "plt.hist(bb1_loss_sig,bins=np.linspace(0,100,1001));"
   ]
  },
  {
   "cell_type": "code",
   "execution_count": 324,
   "metadata": {},
   "outputs": [],
   "source": [
    "np.save('../data_strings/sigaeloss_bb1.npy',bb1_loss_sig)"
   ]
  },
  {
   "cell_type": "code",
   "execution_count": null,
   "metadata": {},
   "outputs": [],
   "source": []
  },
  {
   "cell_type": "code",
   "execution_count": null,
   "metadata": {},
   "outputs": [],
   "source": []
  },
  {
   "cell_type": "code",
   "execution_count": 177,
   "metadata": {},
   "outputs": [],
   "source": [
    "dt_3prong = f_3prong.values"
   ]
  },
  {
   "cell_type": "code",
   "execution_count": 178,
   "metadata": {},
   "outputs": [],
   "source": [
    "Z = dt_3prong[:,[3,4,5,6,11,12,19,20,21,22,27,28]]"
   ]
  },
  {
   "cell_type": "code",
   "execution_count": 179,
   "metadata": {},
   "outputs": [
    {
     "data": {
      "text/plain": [
       "(100000, 12)"
      ]
     },
     "execution_count": 179,
     "metadata": {},
     "output_type": "execute_result"
    }
   ],
   "source": [
    "Z.shape"
   ]
  },
  {
   "cell_type": "code",
   "execution_count": 180,
   "metadata": {},
   "outputs": [],
   "source": [
    "for i in range(12):\n",
    "    Z[:,i] = (Z[:,i]-sig_mean[i])/sig_std[i]"
   ]
  },
  {
   "cell_type": "code",
   "execution_count": 181,
   "metadata": {},
   "outputs": [],
   "source": [
    "total_3prong = torch.tensor(Z)"
   ]
  },
  {
   "cell_type": "code",
   "execution_count": null,
   "metadata": {},
   "outputs": [],
   "source": []
  },
  {
   "cell_type": "code",
   "execution_count": 199,
   "metadata": {},
   "outputs": [],
   "source": [
    "bkgae_bkgloss = torch.mean((model(total_bkg_test.float().cuda())[0]- total_bkg_test.float().cuda())**2,dim=1).data.cpu().numpy()"
   ]
  },
  {
   "cell_type": "code",
   "execution_count": null,
   "metadata": {},
   "outputs": [],
   "source": [
    "bkgae_3prongloss = torch.mean((model(total_3prong.float().cuda())[0]- total_3prong.float().cuda())**2,dim=1).data.cpu().numpy()"
   ]
  },
  {
   "cell_type": "code",
   "execution_count": 182,
   "metadata": {},
   "outputs": [],
   "source": [
    "sigae_3prongloss = torch.mean((sigmodel(total_3prong.float().cuda())[0]- total_3prong.float().cuda())**2,dim=1).data.cpu().numpy()"
   ]
  },
  {
   "cell_type": "code",
   "execution_count": 183,
   "metadata": {},
   "outputs": [
    {
     "data": {
      "text/plain": [
       "(100000,)"
      ]
     },
     "execution_count": 183,
     "metadata": {},
     "output_type": "execute_result"
    }
   ],
   "source": [
    "sigae_3prongloss.shape"
   ]
  },
  {
   "cell_type": "code",
   "execution_count": 216,
   "metadata": {},
   "outputs": [
    {
     "data": {
      "text/plain": [
       "Text(0.5, 0, 'Signal AE Loss')"
      ]
     },
     "execution_count": 216,
     "metadata": {},
     "output_type": "execute_result"
    },
    {
     "data": {
      "image/png": "[encoded data removed]",
      "text/plain": [
       "<Figure size 720x720 with 1 Axes>"
      ]
     },
     "metadata": {
      "needs_background": "light"
     },
     "output_type": "display_data"
    }
   ],
   "source": [
    "bins = np.linspace(0,10,1001)\n",
    "plt.hist(sigae_sigloss,bins,weights = np.ones(len(signal_idx))*10,alpha=0.4,color='r',label='2 prong signal');\n",
    "plt.hist(sigae_3prongloss,bins,weights = np.ones(100000)*10,alpha=0.5,color='g',label='3 prong signal');\n",
    "plt.hist(sigae_bkgloss,bins,alpha=0.4,color='b',label='background');\n",
    "#plt.legend(bbox_to_anchor=(1.05, 1.0), loc='upper left')\n",
    "plt.legend(loc='upper right')\n",
    "plt.xlabel('Signal AE Loss',fontsize=15)\n",
    "\n"
   ]
  },
  {
   "cell_type": "code",
   "execution_count": 193,
   "metadata": {},
   "outputs": [],
   "source": [
    "def get_tpr_fpr(sigloss,bkgloss,aetype='sig'):\n",
    "    bins = np.linspace(0,50,1001)\n",
    "    tpr = []\n",
    "    fpr = []\n",
    "    for cut in bins:\n",
    "        if aetype == 'sig':\n",
    "            tpr.append(np.where(sigloss<cut)[0].shape[0]/len(sigloss))\n",
    "            fpr.append(np.where(bkgloss<cut)[0].shape[0]/len(bkgloss))\n",
    "        if aetype == 'bkg':\n",
    "            tpr.append(np.where(sigloss>cut)[0].shape[0]/len(sigloss))\n",
    "            fpr.append(np.where(bkgloss>cut)[0].shape[0]/len(bkgloss))\n",
    "    return tpr,fpr      "
   ]
  },
  {
   "cell_type": "code",
   "execution_count": 194,
   "metadata": {},
   "outputs": [],
   "source": [
    "def get_precision_recall(sigloss,bkgloss,aetype='bkg'):\n",
    "    bins = np.linspace(0,100,1001)\n",
    "    tpr = []\n",
    "    fpr = []\n",
    "    precision = []\n",
    "    for cut in bins:\n",
    "        if aetype == 'sig':\n",
    "            tpr.append(np.where(sigloss<cut)[0].shape[0]/len(sigloss))\n",
    "            precision.append((np.where(sigloss<cut)[0].shape[0])/(np.where(bkgloss<cut)[0].shape[0]+np.where(sigloss<cut)[0].shape[0]))\n",
    "            \n",
    "        if aetype == 'bkg':\n",
    "            tpr.append(np.where(sigloss>cut)[0].shape[0]/len(sigloss))\n",
    "            precision.append((np.where(sigloss>cut)[0].shape[0])/(np.where(bkgloss>cut)[0].shape[0]+np.where(sigloss>cut)[0].shape[0]))\n",
    "    return precision,tpr      "
   ]
  },
  {
   "cell_type": "code",
   "execution_count": 196,
   "metadata": {},
   "outputs": [],
   "source": [
    "tpr_2prong, fpr_2prong = get_tpr_fpr(sigae_sigloss,sigae_bkgloss,'sig')\n",
    "tpr_3prong, fpr_3prong = get_tpr_fpr(sigae_3prongloss,sigae_bkgloss,'sig')"
   ]
  },
  {
   "cell_type": "code",
   "execution_count": 217,
   "metadata": {},
   "outputs": [
    {
     "data": {
      "image/png": "[encoded data removed]",
      "text/plain": [
       "<Figure size 720x720 with 1 Axes>"
      ]
     },
     "metadata": {
      "needs_background": "light"
     },
     "output_type": "display_data"
    }
   ],
   "source": [
    "plt.plot(fpr_2prong,tpr_2prong,label='signal AE')\n",
    "#plt.plot(VAE_bkg_fpr,VAE_bkg_tpr,label='Bkg VAE-Vanilla')\n",
    "plt.plot(bkg_fpr4,bkg_tpr4,label='Bkg NFlowVAE-Planar')\n",
    "\n",
    "plt.xlabel(r'$1-\\epsilon_{bkg}$',fontsize=15)\n",
    "plt.ylabel(r'$\\epsilon_{sig}$',fontsize=15)\n",
    "#plt.semilogy()\n",
    "#plt.legend(bbox_to_anchor=(1.05, 1.0), loc='upper left')\n",
    "plt.legend(loc='lower right')\n",
    "plt.xlim([0.0,1.0])\n",
    "plt.ylim([0.0,1.0])\n",
    "plt.savefig('ROC_Curve_sigae.png')"
   ]
  },
  {
   "cell_type": "code",
   "execution_count": null,
   "metadata": {},
   "outputs": [],
   "source": []
  },
  {
   "cell_type": "code",
   "execution_count": null,
   "metadata": {},
   "outputs": [],
   "source": []
  },
  {
   "cell_type": "code",
   "execution_count": null,
   "metadata": {},
   "outputs": [],
   "source": [
    "precision,recall = get_precision_recall(loss_sig,loss_bkg,aetype='bkg')"
   ]
  },
  {
   "cell_type": "code",
   "execution_count": null,
   "metadata": {},
   "outputs": [],
   "source": [
    "np.save('NFLOWVAE_PlanarNEW_22var_sigloss.npy',loss_sig)\n",
    "np.save('NFLOWVAE_PlanarNEW_22var_bkgloss.npy',loss_bkg)"
   ]
  },
  {
   "cell_type": "code",
   "execution_count": null,
   "metadata": {},
   "outputs": [],
   "source": [
    "np.save('NFLOWVAE_PlanarNEW_precision.npy',precision)\n",
    "np.save('NFLOWVAE_PlanarNEW_recall.npy',recall)\n",
    "np.save('NFLOWVAE_PlanarNEW_bkgAE_fpr.npy',bkg_fpr)\n",
    "np.save('NFLOWVAE_PlanarNEW_bkgAE_tpr.npy',bkg_tpr)\n",
    "np.save('NFLOWVAE_PlanarNEW_sigloss.npy',loss_sig)\n",
    "np.save('NFLOWVAE_PlanarNEW_bkgloss.npy',loss_bkg)"
   ]
  },
  {
   "cell_type": "code",
   "execution_count": null,
   "metadata": {},
   "outputs": [],
   "source": [
    "plt.plot(recall,precision)"
   ]
  },
  {
   "cell_type": "code",
   "execution_count": null,
   "metadata": {},
   "outputs": [],
   "source": [
    "flows = [1,2,3,4,5,6]\n",
    "zdim = [1,2,3,4,5]\n",
    "\n",
    "for N_flows in flows:\n",
    "    for Z_DIM in zdim:\n",
    "        model = VAE_NF(N_FLOWS, Z_DIM).cuda()\n",
    "        optimizer = optim.Adam(model.parameters(), lr=LR)\n",
    "        BEST_LOSS = 99999\n",
    "        LAST_SAVED = -1\n",
    "        PATIENCE_COUNT = 0\n",
    "        PATIENCE_LIMIT = 5\n",
    "        for epoch in range(1, N_EPOCHS):\n",
    "            print(\"Epoch {}:\".format(epoch))\n",
    "            train()\n",
    "            cur_loss = evaluate()\n",
    "\n",
    "            if cur_loss <= BEST_LOSS:\n",
    "                PATIENCE_COUNT = 0\n",
    "                BEST_LOSS = cur_loss\n",
    "                LAST_SAVED = epoch\n",
    "                print(\"Saving model!\")\n",
    "                if mode == 'ROC':\n",
    "                    torch.save(model.state_dict(),f\"/data/t3home000/spark/QUASAR/weights/bkg_vae_NF_planar_RND_22var_z{Z_DIM}_f{N_FLOWS}.h5\")\n",
    "                else:\n",
    "                    torch.save(model.state_dict(), f\"/data/t3home000/spark/QUASAR/weights/bkg_vae_NF_planar_PureBkg_22var_z{Z_DIM}_f{N_FLOWS}.h5\")\n",
    "            else:\n",
    "                PATIENCE_COUNT += 1\n",
    "                print(\"Not saving model! Last saved: {}\".format(LAST_SAVED))\n",
    "                if PATIENCE_COUNT > 3:\n",
    "                    print(\"Patience Limit Reached\")\n",
    "                    break \n",
    "                    \n",
    "        loss_bkg = get_loss(dt_PureBkg[bkg_idx])\n",
    "        loss_sig = get_loss(dt_PureBkg[signal_idx])\n",
    "        np.save(f'NFLOWVAE_PlanarNEW_22var_z{Z_DIM}_f{N_flows}_sigloss.npy',loss_sig)\n",
    "        np.save(f'NFLOWVAE_PlanarNEW_22var_z{Z_DIM}_f{N_flows}_bkgloss.npy',loss_bkg)"
   ]
  },
  {
   "cell_type": "code",
   "execution_count": null,
   "metadata": {},
   "outputs": [],
   "source": []
  }
 ],
 "metadata": {
  "kernelspec": {
   "display_name": "Python 3",
   "language": "python",
   "name": "python3"
  },
  "language_info": {
   "codemirror_mode": {
    "name": "ipython",
    "version": 3
   },
   "file_extension": ".py",
   "mimetype": "text/x-python",
   "name": "python",
   "nbconvert_exporter": "python",
   "pygments_lexer": "ipython3",
   "version": "3.6.7"
  }
 },
 "nbformat": 4,
 "nbformat_minor": 2
}
