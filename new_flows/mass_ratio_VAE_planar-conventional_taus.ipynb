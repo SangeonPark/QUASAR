{
 "cells": [
  {
   "cell_type": "code",
   "execution_count": 2,
   "metadata": {},
   "outputs": [],
   "source": [
    "import numpy as np\n",
    "import scipy as sp\n",
    "import scipy.stats\n",
    "import itertools\n",
    "import logging\n",
    "import matplotlib.pyplot as plt\n",
    "import pandas as pd\n",
    "import torch.utils.data as utils\n",
    "import math\n",
    "import time\n",
    "import tqdm\n",
    "\n",
    "import torch\n",
    "import torch.optim as optim\n",
    "import torch.nn.functional as F\n",
    "from argparse import ArgumentParser\n",
    "from torch.distributions import MultivariateNormal\n",
    "\n",
    "import torch.nn as nn\n",
    "import torch.nn.init as init\n",
    "\n",
    "from flows import RealNVP, Planar\n",
    "from models import NormalizingFlowModel"
   ]
  },
  {
   "cell_type": "markdown",
   "metadata": {},
   "source": [
    "## Load and process the data"
   ]
  },
  {
   "cell_type": "code",
   "execution_count": 2,
   "metadata": {},
   "outputs": [],
   "source": [
    "mode = 'ROC'"
   ]
  },
  {
   "cell_type": "code",
   "execution_count": 202,
   "metadata": {},
   "outputs": [],
   "source": [
    "f_rnd = pd.read_hdf(\"/data/t3home000/spark/QUASAR/preprocessing/conventional_tau_rnd.h5\")"
   ]
  },
  {
   "cell_type": "code",
   "execution_count": 4,
   "metadata": {},
   "outputs": [],
   "source": [
    "columns = f_rnd.columns"
   ]
  },
  {
   "cell_type": "code",
   "execution_count": 15,
   "metadata": {},
   "outputs": [
    {
     "data": {
      "text/plain": [
       "Index(['Mj1', 'j1 tau21', 'j1 tau32', 'j1 tau43', 'j1 sqrt(tau^2_1)/tau^1_1',\n",
       "       'j1 n_trk', 'Mj2', 'j2 tau21', 'j2 tau32', 'j2 tau43',\n",
       "       'j2 sqrt(tau^2_1)/tau^1_1', 'j2 n_trk'],\n",
       "      dtype='object')"
      ]
     },
     "execution_count": 15,
     "metadata": {},
     "output_type": "execute_result"
    }
   ],
   "source": [
    "columns[[3,4,5,6,11,12,19,20,21,22,27,28]]"
   ]
  },
  {
   "cell_type": "code",
   "execution_count": 4,
   "metadata": {},
   "outputs": [
    {
     "data": {
      "text/html": [
       "<div>\n",
       "<style scoped>\n",
       "    .dataframe tbody tr th:only-of-type {\n",
       "        vertical-align: middle;\n",
       "    }\n",
       "\n",
       "    .dataframe tbody tr th {\n",
       "        vertical-align: top;\n",
       "    }\n",
       "\n",
       "    .dataframe thead th {\n",
       "        text-align: right;\n",
       "    }\n",
       "</style>\n",
       "<table border=\"1\" class=\"dataframe\">\n",
       "  <thead>\n",
       "    <tr style=\"text-align: right;\">\n",
       "      <th></th>\n",
       "      <th>Mjj</th>\n",
       "      <th>j1 pT</th>\n",
       "      <th>j2 pT</th>\n",
       "      <th>Mj1</th>\n",
       "      <th>j1 tau21</th>\n",
       "      <th>j1 tau32</th>\n",
       "      <th>j1 tau43</th>\n",
       "      <th>j1 tau54</th>\n",
       "      <th>j1 tau65</th>\n",
       "      <th>j1 tau76</th>\n",
       "      <th>...</th>\n",
       "      <th>j2 tau87</th>\n",
       "      <th>j2 sqrt(tau^2_1)/tau^1_1</th>\n",
       "      <th>j2 n_trk</th>\n",
       "      <th>j2 M_trim</th>\n",
       "      <th>j2 M_prun</th>\n",
       "      <th>j2 M_mmdt</th>\n",
       "      <th>j2 M_sdb1</th>\n",
       "      <th>j2 M_sdb2</th>\n",
       "      <th>j2 M_sdm1</th>\n",
       "      <th>isSignal</th>\n",
       "    </tr>\n",
       "  </thead>\n",
       "  <tbody>\n",
       "    <tr>\n",
       "      <th>0</th>\n",
       "      <td>2577.571899</td>\n",
       "      <td>1285.895950</td>\n",
       "      <td>1282.286017</td>\n",
       "      <td>98.677270</td>\n",
       "      <td>0.528903</td>\n",
       "      <td>0.788281</td>\n",
       "      <td>0.904471</td>\n",
       "      <td>0.881570</td>\n",
       "      <td>0.911651</td>\n",
       "      <td>0.869766</td>\n",
       "      <td>...</td>\n",
       "      <td>0.865858</td>\n",
       "      <td>1.895988</td>\n",
       "      <td>128.0</td>\n",
       "      <td>42.162664</td>\n",
       "      <td>18.466533</td>\n",
       "      <td>18.466533</td>\n",
       "      <td>31.845136</td>\n",
       "      <td>42.162664</td>\n",
       "      <td>0.000000</td>\n",
       "      <td>0.0</td>\n",
       "    </tr>\n",
       "    <tr>\n",
       "      <th>1</th>\n",
       "      <td>3807.507389</td>\n",
       "      <td>1334.493332</td>\n",
       "      <td>1306.137883</td>\n",
       "      <td>584.595432</td>\n",
       "      <td>0.345626</td>\n",
       "      <td>0.463461</td>\n",
       "      <td>0.865982</td>\n",
       "      <td>0.892948</td>\n",
       "      <td>0.843223</td>\n",
       "      <td>0.939763</td>\n",
       "      <td>...</td>\n",
       "      <td>0.934968</td>\n",
       "      <td>1.377217</td>\n",
       "      <td>348.0</td>\n",
       "      <td>395.226881</td>\n",
       "      <td>393.309512</td>\n",
       "      <td>405.034096</td>\n",
       "      <td>405.034096</td>\n",
       "      <td>405.034096</td>\n",
       "      <td>405.034096</td>\n",
       "      <td>0.0</td>\n",
       "    </tr>\n",
       "    <tr>\n",
       "      <th>2</th>\n",
       "      <td>1710.965414</td>\n",
       "      <td>1072.462085</td>\n",
       "      <td>678.557182</td>\n",
       "      <td>159.597526</td>\n",
       "      <td>0.677692</td>\n",
       "      <td>0.690707</td>\n",
       "      <td>0.695322</td>\n",
       "      <td>0.823351</td>\n",
       "      <td>0.861655</td>\n",
       "      <td>0.909383</td>\n",
       "      <td>...</td>\n",
       "      <td>0.902637</td>\n",
       "      <td>1.887494</td>\n",
       "      <td>236.0</td>\n",
       "      <td>54.235070</td>\n",
       "      <td>41.967840</td>\n",
       "      <td>41.352112</td>\n",
       "      <td>51.721630</td>\n",
       "      <td>70.442364</td>\n",
       "      <td>-0.000003</td>\n",
       "      <td>0.0</td>\n",
       "    </tr>\n",
       "    <tr>\n",
       "      <th>3</th>\n",
       "      <td>2603.379037</td>\n",
       "      <td>1284.020224</td>\n",
       "      <td>1217.031950</td>\n",
       "      <td>515.237299</td>\n",
       "      <td>0.091038</td>\n",
       "      <td>0.784454</td>\n",
       "      <td>0.860716</td>\n",
       "      <td>0.887306</td>\n",
       "      <td>0.885916</td>\n",
       "      <td>0.950761</td>\n",
       "      <td>...</td>\n",
       "      <td>0.924068</td>\n",
       "      <td>1.997360</td>\n",
       "      <td>352.0</td>\n",
       "      <td>81.842001</td>\n",
       "      <td>60.307703</td>\n",
       "      <td>60.307703</td>\n",
       "      <td>72.423677</td>\n",
       "      <td>84.480859</td>\n",
       "      <td>0.000003</td>\n",
       "      <td>0.0</td>\n",
       "    </tr>\n",
       "    <tr>\n",
       "      <th>4</th>\n",
       "      <td>3294.162200</td>\n",
       "      <td>1205.343324</td>\n",
       "      <td>1087.658980</td>\n",
       "      <td>142.420213</td>\n",
       "      <td>0.507714</td>\n",
       "      <td>0.522686</td>\n",
       "      <td>0.904070</td>\n",
       "      <td>0.908468</td>\n",
       "      <td>0.918753</td>\n",
       "      <td>0.928911</td>\n",
       "      <td>...</td>\n",
       "      <td>0.906367</td>\n",
       "      <td>1.113248</td>\n",
       "      <td>204.0</td>\n",
       "      <td>103.456059</td>\n",
       "      <td>99.817788</td>\n",
       "      <td>103.456059</td>\n",
       "      <td>103.456059</td>\n",
       "      <td>103.456059</td>\n",
       "      <td>0.000008</td>\n",
       "      <td>1.0</td>\n",
       "    </tr>\n",
       "  </tbody>\n",
       "</table>\n",
       "<p>5 rows × 36 columns</p>\n",
       "</div>"
      ],
      "text/plain": [
       "           Mjj        j1 pT        j2 pT         Mj1  j1 tau21  j1 tau32  \\\n",
       "0  2577.571899  1285.895950  1282.286017   98.677270  0.528903  0.788281   \n",
       "1  3807.507389  1334.493332  1306.137883  584.595432  0.345626  0.463461   \n",
       "2  1710.965414  1072.462085   678.557182  159.597526  0.677692  0.690707   \n",
       "3  2603.379037  1284.020224  1217.031950  515.237299  0.091038  0.784454   \n",
       "4  3294.162200  1205.343324  1087.658980  142.420213  0.507714  0.522686   \n",
       "\n",
       "   j1 tau43  j1 tau54  j1 tau65  j1 tau76  ...  j2 tau87  \\\n",
       "0  0.904471  0.881570  0.911651  0.869766  ...  0.865858   \n",
       "1  0.865982  0.892948  0.843223  0.939763  ...  0.934968   \n",
       "2  0.695322  0.823351  0.861655  0.909383  ...  0.902637   \n",
       "3  0.860716  0.887306  0.885916  0.950761  ...  0.924068   \n",
       "4  0.904070  0.908468  0.918753  0.928911  ...  0.906367   \n",
       "\n",
       "   j2 sqrt(tau^2_1)/tau^1_1  j2 n_trk   j2 M_trim   j2 M_prun   j2 M_mmdt  \\\n",
       "0                  1.895988     128.0   42.162664   18.466533   18.466533   \n",
       "1                  1.377217     348.0  395.226881  393.309512  405.034096   \n",
       "2                  1.887494     236.0   54.235070   41.967840   41.352112   \n",
       "3                  1.997360     352.0   81.842001   60.307703   60.307703   \n",
       "4                  1.113248     204.0  103.456059   99.817788  103.456059   \n",
       "\n",
       "    j2 M_sdb1   j2 M_sdb2   j2 M_sdm1  isSignal  \n",
       "0   31.845136   42.162664    0.000000       0.0  \n",
       "1  405.034096  405.034096  405.034096       0.0  \n",
       "2   51.721630   70.442364   -0.000003       0.0  \n",
       "3   72.423677   84.480859    0.000003       0.0  \n",
       "4  103.456059  103.456059    0.000008       1.0  \n",
       "\n",
       "[5 rows x 36 columns]"
      ]
     },
     "execution_count": 4,
     "metadata": {},
     "output_type": "execute_result"
    }
   ],
   "source": [
    "f_rnd.head()"
   ]
  },
  {
   "cell_type": "code",
   "execution_count": 203,
   "metadata": {},
   "outputs": [],
   "source": [
    "if mode == 'ROC':\n",
    "    dt = f_rnd.values\n",
    "else:\n",
    "    dt_PureBkg = dt_PureBkg = f_PureBkg.values"
   ]
  },
  {
   "cell_type": "code",
   "execution_count": 204,
   "metadata": {},
   "outputs": [],
   "source": [
    "correct = (dt[:,3]>20) &(dt[:,19]>20) & (dt[:, 4] > 0)& (dt[:, 5] > 0)& (dt[:, 6] > 0)& (dt[:, 7] > 0)& (dt[:, 8] > 0) & (dt[:, 20] > 0)& (dt[:, 21] > 0)& (dt[:, 22] > 0)& (dt[:, 23] > 0)& (dt[:, 24] > 0) & (dt[:, 25] > 0)& (dt[:, 26] > 0)\n"
   ]
  },
  {
   "cell_type": "code",
   "execution_count": 205,
   "metadata": {},
   "outputs": [],
   "source": [
    "dt = dt[correct]"
   ]
  },
  {
   "cell_type": "code",
   "execution_count": 206,
   "metadata": {},
   "outputs": [
    {
     "data": {
      "text/plain": [
       "(1092753, 36)"
      ]
     },
     "execution_count": 206,
     "metadata": {},
     "output_type": "execute_result"
    }
   ],
   "source": [
    "dt.shape"
   ]
  },
  {
   "cell_type": "code",
   "execution_count": 9,
   "metadata": {},
   "outputs": [],
   "source": [
    "for i in [4,5,6,7,8,9,10, 20, 21, 22, 23, 24, 25,26]:\n",
    "    #X[:,i] = (X[:,i]-np.mean(X[:,i]))/np.std(X[:,i])\n",
    "    dt[:,i] = ((dt[:,i]-np.min(dt[:,i]))/(np.max(dt[:,i])-np.min(dt[:,i])))"
   ]
  },
  {
   "cell_type": "code",
   "execution_count": 60,
   "metadata": {},
   "outputs": [],
   "source": [
    "for i in range(13,19):\n",
    "    dt[:,i] = dt[:,i]/dt[:,3]"
   ]
  },
  {
   "cell_type": "code",
   "execution_count": 11,
   "metadata": {},
   "outputs": [],
   "source": [
    "for i in range(29,35):\n",
    "    dt[:,i] = dt[:,i]/(dt[:,19])"
   ]
  },
  {
   "cell_type": "code",
   "execution_count": 12,
   "metadata": {},
   "outputs": [],
   "source": [
    "for i in [11,27,12,28,3,19]:\n",
    "    dt[:,i] = (dt[:,i]-np.min(dt[:,i]))/(np.max(dt[:,i])-np.min(dt[:,i]))"
   ]
  },
  {
   "cell_type": "code",
   "execution_count": 13,
   "metadata": {},
   "outputs": [],
   "source": [
    "#X = np.concatenate((dt[:,3:18], dt[:,19:34]), axis=1)"
   ]
  },
  {
   "cell_type": "code",
   "execution_count": 14,
   "metadata": {},
   "outputs": [],
   "source": [
    "#X = dt[:,3:34]"
   ]
  },
  {
   "cell_type": "code",
   "execution_count": 207,
   "metadata": {},
   "outputs": [],
   "source": [
    "#CWoLa Variables\n",
    "X = dt[:,[3,4,5,6,11,12,19,20,21,22,27,28]]"
   ]
  },
  {
   "cell_type": "code",
   "execution_count": 208,
   "metadata": {},
   "outputs": [
    {
     "data": {
      "text/plain": [
       "(1092753, 12)"
      ]
     },
     "execution_count": 208,
     "metadata": {},
     "output_type": "execute_result"
    }
   ],
   "source": [
    "X.shape"
   ]
  },
  {
   "cell_type": "code",
   "execution_count": 214,
   "metadata": {},
   "outputs": [],
   "source": [
    "bkg_mean = []\n",
    "bkg_std = []"
   ]
  },
  {
   "cell_type": "code",
   "execution_count": null,
   "metadata": {},
   "outputs": [],
   "source": [
    "X = "
   ]
  },
  {
   "cell_type": "code",
   "execution_count": 215,
   "metadata": {},
   "outputs": [],
   "source": [
    "for i in range(12):\n",
    "    bkg_mean.append(np.mean(X[:,i]))\n",
    "    bkg_std.append(np.std(X[:,i]))\n",
    "    X[:,i] = (X[:,i]-np.mean(X[:,i]))/np.std(X[:,i])"
   ]
  },
  {
   "cell_type": "code",
   "execution_count": 52,
   "metadata": {},
   "outputs": [
    {
     "data": {
      "text/plain": [
       "'j1 M_trim'"
      ]
     },
     "execution_count": 52,
     "metadata": {},
     "output_type": "execute_result"
    }
   ],
   "source": [
    "columns[13]"
   ]
  },
  {
   "cell_type": "code",
   "execution_count": 62,
   "metadata": {},
   "outputs": [
    {
     "data": {
      "image/png": "[encoded data removed]",
      "text/plain": [
       "<Figure size 432x288 with 1 Axes>"
      ]
     },
     "metadata": {
      "needs_background": "light"
     },
     "output_type": "display_data"
    }
   ],
   "source": [
    "bins = np.linspace(-3,3,101)\n",
    "plt.hist(dt[signal_idx,13],bins,weights = np.ones(len(signal_idx))*10,alpha=0.2,color='r');\n",
    "plt.hist(dt[bkg_idx,13],bins,alpha=0.2,color='b');"
   ]
  },
  {
   "cell_type": "code",
   "execution_count": 26,
   "metadata": {},
   "outputs": [],
   "source": [
    "idx = dt[:,-1]\n",
    "bkg_idx = np.where(idx==0)[0]\n",
    "signal_idx = np.where(idx==1)[0]"
   ]
  },
  {
   "cell_type": "code",
   "execution_count": 27,
   "metadata": {},
   "outputs": [],
   "source": [
    "total_PureBkg = torch.tensor(X[bkg_idx])\n",
    "\n",
    "total_PureBkg_selection = total_PureBkg"
   ]
  },
  {
   "cell_type": "code",
   "execution_count": 39,
   "metadata": {},
   "outputs": [
    {
     "data": {
      "text/plain": [
       "torch.Size([992924, 12])"
      ]
     },
     "execution_count": 39,
     "metadata": {},
     "output_type": "execute_result"
    }
   ],
   "source": [
    "total_PureBkg_selection.shape"
   ]
  },
  {
   "cell_type": "code",
   "execution_count": 40,
   "metadata": {},
   "outputs": [],
   "source": [
    "bs = 2000\n",
    "bkgAE_train_iterator = utils.DataLoader(total_PureBkg_selection, batch_size=bs, shuffle=True) \n",
    "bkgAE_test_iterator = utils.DataLoader(total_PureBkg_selection, batch_size=bs)"
   ]
  },
  {
   "cell_type": "markdown",
   "metadata": {},
   "source": [
    "## Build the model"
   ]
  },
  {
   "cell_type": "code",
   "execution_count": 41,
   "metadata": {},
   "outputs": [],
   "source": [
    "class VAE_NF(nn.Module):\n",
    "    def __init__(self, K, D):\n",
    "        super().__init__()\n",
    "        self.dim = D\n",
    "        self.K = K\n",
    "        self.encoder = nn.Sequential(\n",
    "            nn.Linear(12, 64),\n",
    "            nn.LeakyReLU(True),\n",
    "            nn.Linear(64, 48),\n",
    "            nn.LeakyReLU(True),            \n",
    "            nn.Linear(48, D * 2)\n",
    "        )\n",
    "\n",
    "        self.decoder = nn.Sequential(\n",
    "            nn.Linear(D, 48),\n",
    "            nn.LeakyReLU(True),\n",
    "            nn.Linear(48, 64),\n",
    "            nn.LeakyReLU(True),\n",
    "            nn.Linear(64, 12)\n",
    "        )\n",
    "        \n",
    "        flow_init = Planar(dim=D)\n",
    "        flows_init = [flow_init for _ in range(K)]\n",
    "        prior = MultivariateNormal(torch.zeros(D).cuda(), torch.eye(D).cuda())\n",
    "        self.flows = NormalizingFlowModel(prior, flows_init)\n",
    "\n",
    "    def forward(self, x):\n",
    "        # Run Encoder and get NF params\n",
    "        enc = self.encoder(x)\n",
    "        mu = enc[:, :self.dim]\n",
    "        log_var = enc[:, self.dim: self.dim * 2]\n",
    "\n",
    "        # Re-parametrize\n",
    "        sigma = (log_var * .5).exp()\n",
    "        z = mu + sigma * torch.randn_like(sigma)\n",
    "        kl_div = -0.5 * torch.sum(1 + log_var - mu.pow(2) - log_var.exp())\n",
    "        # Construct more expressive posterior with NF\n",
    "        \n",
    "        z_k, _, sum_ladj = self.flows(z)\n",
    "        \n",
    "        kl_div = kl_div / x.size(0) - sum_ladj.mean()  # mean over batch\n",
    "\n",
    "        # Run Decoder\n",
    "        x_prime = self.decoder(z_k)\n",
    "        return x_prime, kl_div"
   ]
  },
  {
   "cell_type": "markdown",
   "metadata": {},
   "source": [
    "## Creating Instance¶"
   ]
  },
  {
   "cell_type": "code",
   "execution_count": 42,
   "metadata": {},
   "outputs": [],
   "source": [
    "N_EPOCHS = 30\n",
    "PRINT_INTERVAL = 2000\n",
    "NUM_WORKERS = 4\n",
    "LR = 1e-4\n",
    "\n",
    "N_FLOWS = 6 \n",
    "Z_DIM = 8\n",
    "\n",
    "n_steps = 0"
   ]
  },
  {
   "cell_type": "code",
   "execution_count": 43,
   "metadata": {},
   "outputs": [],
   "source": [
    "model = VAE_NF(N_FLOWS, Z_DIM).cuda()"
   ]
  },
  {
   "cell_type": "code",
   "execution_count": 44,
   "metadata": {},
   "outputs": [],
   "source": [
    "optimizer = optim.Adam(model.parameters(), lr=LR)"
   ]
  },
  {
   "cell_type": "code",
   "execution_count": 45,
   "metadata": {},
   "outputs": [],
   "source": [
    "def train():\n",
    "    global n_steps\n",
    "    train_loss = []\n",
    "    model.train()\n",
    "\n",
    "    for batch_idx, x in enumerate(bkgAE_train_iterator):\n",
    "        start_time = time.time()\n",
    "        \n",
    "        x = x.float().cuda()\n",
    "\n",
    "        x_tilde, kl_div = model(x)\n",
    "        mseloss = nn.MSELoss(size_average=False)\n",
    "        #loss_recons = F.binary_cross_entropy(x_tilde, x, size_average=False) / x.size(0)\n",
    "        loss_recons = mseloss(x_tilde,x ) / x.size(0)\n",
    "        loss = loss_recons + kl_div\n",
    "\n",
    "        optimizer.zero_grad()\n",
    "        loss.backward()\n",
    "        optimizer.step()\n",
    "\n",
    "        train_loss.append([loss_recons.item(), kl_div.item()])\n",
    "\n",
    "        if (batch_idx + 1) % PRINT_INTERVAL == 0:\n",
    "            print('\\tIter [{}/{} ({:.0f}%)]\\tLoss: {} Time: {:5.3f} ms/batch'.format(\n",
    "                batch_idx * len(x), 50000,\n",
    "                PRINT_INTERVAL * batch_idx / 50000,\n",
    "                np.asarray(train_loss)[-PRINT_INTERVAL:].mean(0),\n",
    "                1000 * (time.time() - start_time)\n",
    "            ))\n",
    "\n",
    "        n_steps += 1"
   ]
  },
  {
   "cell_type": "code",
   "execution_count": 46,
   "metadata": {},
   "outputs": [],
   "source": [
    "def evaluate(split='valid'):\n",
    "    global n_steps\n",
    "    start_time = time.time()\n",
    "    val_loss = []\n",
    "    model.eval()\n",
    "\n",
    "    with torch.no_grad():\n",
    "        for batch_idx, x in enumerate(bkgAE_test_iterator):\n",
    "            \n",
    "            x = x.float().cuda()\n",
    "\n",
    "            x_tilde, kl_div = model(x)\n",
    "            mseloss = nn.MSELoss(size_average=False)\n",
    "            #loss_recons = F.binary_cross_entropy(x_tilde, x, size_average=False) / x.size(0)\n",
    "            loss_recons = mseloss(x_tilde,x ) / x.size(0)\n",
    "            loss = loss_recons + kl_div\n",
    "\n",
    "            val_loss.append(loss.item())\n",
    "            #writer.add_scalar('loss/{}/ELBO'.format(split), loss.item(), n_steps)\n",
    "            #writer.add_scalar('loss/{}/reconstruction'.format(split), loss_recons.item(), n_steps)\n",
    "            #writer.add_scalar('loss/{}/KL'.format(split), kl_div.item(), n_steps)\n",
    "\n",
    "    print('\\nEvaluation Completed ({})!\\tLoss: {:5.4f} Time: {:5.3f} s'.format(\n",
    "        split,\n",
    "        np.asarray(val_loss).mean(0),\n",
    "        time.time() - start_time\n",
    "    ))\n",
    "    return np.asarray(val_loss).mean(0)"
   ]
  },
  {
   "cell_type": "code",
   "execution_count": 47,
   "metadata": {},
   "outputs": [
    {
     "name": "stdout",
     "output_type": "stream",
     "text": [
      "VAE_NF(\n",
      "  (encoder): Sequential(\n",
      "    (0): Linear(in_features=12, out_features=64, bias=True)\n",
      "    (1): LeakyReLU(negative_slope=True)\n",
      "    (2): Linear(in_features=64, out_features=48, bias=True)\n",
      "    (3): LeakyReLU(negative_slope=True)\n",
      "    (4): Linear(in_features=48, out_features=16, bias=True)\n",
      "  )\n",
      "  (decoder): Sequential(\n",
      "    (0): Linear(in_features=8, out_features=48, bias=True)\n",
      "    (1): LeakyReLU(negative_slope=True)\n",
      "    (2): Linear(in_features=48, out_features=64, bias=True)\n",
      "    (3): LeakyReLU(negative_slope=True)\n",
      "    (4): Linear(in_features=64, out_features=12, bias=True)\n",
      "  )\n",
      "  (flows): NormalizingFlowModel(\n",
      "    (flows): ModuleList(\n",
      "      (0): Planar()\n",
      "      (1): Planar()\n",
      "      (2): Planar()\n",
      "      (3): Planar()\n",
      "      (4): Planar()\n",
      "      (5): Planar()\n",
      "    )\n",
      "  )\n",
      ")\n"
     ]
    }
   ],
   "source": [
    "print(model)"
   ]
  },
  {
   "cell_type": "code",
   "execution_count": 48,
   "metadata": {},
   "outputs": [],
   "source": [
    "optimizer = optim.Adam(model.parameters(), lr=1e-4)"
   ]
  },
  {
   "cell_type": "code",
   "execution_count": 63,
   "metadata": {
    "scrolled": true
   },
   "outputs": [
    {
     "name": "stdout",
     "output_type": "stream",
     "text": [
      "Epoch 1:\n",
      "\n",
      "Evaluation Completed (valid)!\tLoss: 6.1367 Time: 3.382 s\n",
      "Saving model!\n",
      "Epoch 2:\n",
      "\n",
      "Evaluation Completed (valid)!\tLoss: 6.1223 Time: 3.331 s\n",
      "Saving model!\n",
      "Epoch 3:\n",
      "\n",
      "Evaluation Completed (valid)!\tLoss: 6.1054 Time: 3.332 s\n",
      "Saving model!\n",
      "Epoch 4:\n",
      "\n",
      "Evaluation Completed (valid)!\tLoss: 6.0969 Time: 3.342 s\n",
      "Saving model!\n",
      "Epoch 5:\n",
      "\n",
      "Evaluation Completed (valid)!\tLoss: 6.0787 Time: 3.327 s\n",
      "Saving model!\n",
      "Epoch 6:\n",
      "\n",
      "Evaluation Completed (valid)!\tLoss: 6.0641 Time: 3.301 s\n",
      "Saving model!\n",
      "Epoch 7:\n",
      "\n",
      "Evaluation Completed (valid)!\tLoss: 6.0465 Time: 3.321 s\n",
      "Saving model!\n",
      "Epoch 8:\n",
      "\n",
      "Evaluation Completed (valid)!\tLoss: 6.0382 Time: 3.293 s\n",
      "Saving model!\n",
      "Epoch 9:\n",
      "\n",
      "Evaluation Completed (valid)!\tLoss: 6.0271 Time: 3.301 s\n",
      "Saving model!\n",
      "Epoch 10:\n",
      "\n",
      "Evaluation Completed (valid)!\tLoss: 6.0103 Time: 3.313 s\n",
      "Saving model!\n",
      "Epoch 11:\n",
      "\n",
      "Evaluation Completed (valid)!\tLoss: 5.9988 Time: 3.297 s\n",
      "Saving model!\n",
      "Epoch 12:\n",
      "\n",
      "Evaluation Completed (valid)!\tLoss: 5.9872 Time: 3.369 s\n",
      "Saving model!\n",
      "Epoch 13:\n",
      "\n",
      "Evaluation Completed (valid)!\tLoss: 5.9746 Time: 3.349 s\n",
      "Saving model!\n",
      "Epoch 14:\n",
      "\n",
      "Evaluation Completed (valid)!\tLoss: 5.9652 Time: 3.329 s\n",
      "Saving model!\n",
      "Epoch 15:\n",
      "\n",
      "Evaluation Completed (valid)!\tLoss: 5.9507 Time: 3.395 s\n",
      "Saving model!\n",
      "Epoch 16:\n",
      "\n",
      "Evaluation Completed (valid)!\tLoss: 5.9408 Time: 3.344 s\n",
      "Saving model!\n",
      "Epoch 17:\n",
      "\n",
      "Evaluation Completed (valid)!\tLoss: 5.9281 Time: 3.400 s\n",
      "Saving model!\n",
      "Epoch 18:\n",
      "\n",
      "Evaluation Completed (valid)!\tLoss: 5.9215 Time: 3.345 s\n",
      "Saving model!\n",
      "Epoch 19:\n",
      "\n",
      "Evaluation Completed (valid)!\tLoss: 5.9102 Time: 3.364 s\n",
      "Saving model!\n",
      "Epoch 20:\n",
      "\n",
      "Evaluation Completed (valid)!\tLoss: 5.8989 Time: 3.351 s\n",
      "Saving model!\n",
      "Epoch 21:\n",
      "\n",
      "Evaluation Completed (valid)!\tLoss: 5.8893 Time: 3.364 s\n",
      "Saving model!\n",
      "Epoch 22:\n",
      "\n",
      "Evaluation Completed (valid)!\tLoss: 5.8792 Time: 3.316 s\n",
      "Saving model!\n",
      "Epoch 23:\n",
      "\n",
      "Evaluation Completed (valid)!\tLoss: 5.8690 Time: 3.290 s\n",
      "Saving model!\n",
      "Epoch 24:\n",
      "\n",
      "Evaluation Completed (valid)!\tLoss: 5.8604 Time: 3.356 s\n",
      "Saving model!\n",
      "Epoch 25:\n",
      "\n",
      "Evaluation Completed (valid)!\tLoss: 5.8550 Time: 3.357 s\n",
      "Saving model!\n",
      "Epoch 26:\n",
      "\n",
      "Evaluation Completed (valid)!\tLoss: 5.8440 Time: 3.367 s\n",
      "Saving model!\n",
      "Epoch 27:\n",
      "\n",
      "Evaluation Completed (valid)!\tLoss: 5.8316 Time: 3.315 s\n",
      "Saving model!\n",
      "Epoch 28:\n",
      "\n",
      "Evaluation Completed (valid)!\tLoss: 5.8256 Time: 3.336 s\n",
      "Saving model!\n",
      "Epoch 29:\n",
      "\n",
      "Evaluation Completed (valid)!\tLoss: 5.8180 Time: 3.327 s\n",
      "Saving model!\n",
      "Epoch 30:\n",
      "\n",
      "Evaluation Completed (valid)!\tLoss: 5.8100 Time: 3.301 s\n",
      "Saving model!\n",
      "Epoch 31:\n",
      "\n",
      "Evaluation Completed (valid)!\tLoss: 5.7990 Time: 3.325 s\n",
      "Saving model!\n",
      "Epoch 32:\n",
      "\n",
      "Evaluation Completed (valid)!\tLoss: 5.7927 Time: 3.301 s\n",
      "Saving model!\n",
      "Epoch 33:\n",
      "\n",
      "Evaluation Completed (valid)!\tLoss: 5.7837 Time: 3.336 s\n",
      "Saving model!\n",
      "Epoch 34:\n",
      "\n",
      "Evaluation Completed (valid)!\tLoss: 5.7726 Time: 3.316 s\n",
      "Saving model!\n",
      "Epoch 35:\n",
      "\n",
      "Evaluation Completed (valid)!\tLoss: 5.7694 Time: 3.294 s\n",
      "Saving model!\n",
      "Epoch 36:\n",
      "\n",
      "Evaluation Completed (valid)!\tLoss: 5.7631 Time: 3.315 s\n",
      "Saving model!\n",
      "Epoch 37:\n",
      "\n",
      "Evaluation Completed (valid)!\tLoss: 5.7535 Time: 3.305 s\n",
      "Saving model!\n",
      "Epoch 38:\n",
      "\n",
      "Evaluation Completed (valid)!\tLoss: 5.7468 Time: 3.321 s\n",
      "Saving model!\n",
      "Epoch 39:\n",
      "\n",
      "Evaluation Completed (valid)!\tLoss: 5.7363 Time: 3.307 s\n",
      "Saving model!\n",
      "Epoch 40:\n",
      "\n",
      "Evaluation Completed (valid)!\tLoss: 5.7317 Time: 3.376 s\n",
      "Saving model!\n",
      "Epoch 41:\n",
      "\n",
      "Evaluation Completed (valid)!\tLoss: 5.7251 Time: 3.354 s\n",
      "Saving model!\n",
      "Epoch 42:\n",
      "\n",
      "Evaluation Completed (valid)!\tLoss: 5.7175 Time: 3.304 s\n",
      "Saving model!\n",
      "Epoch 43:\n",
      "\n",
      "Evaluation Completed (valid)!\tLoss: 5.7095 Time: 3.327 s\n",
      "Saving model!\n",
      "Epoch 44:\n",
      "\n",
      "Evaluation Completed (valid)!\tLoss: 5.6995 Time: 3.312 s\n",
      "Saving model!\n",
      "Epoch 45:\n",
      "\n",
      "Evaluation Completed (valid)!\tLoss: 5.6964 Time: 3.326 s\n",
      "Saving model!\n",
      "Epoch 46:\n",
      "\n",
      "Evaluation Completed (valid)!\tLoss: 5.6900 Time: 3.375 s\n",
      "Saving model!\n",
      "Epoch 47:\n",
      "\n",
      "Evaluation Completed (valid)!\tLoss: 5.6869 Time: 3.370 s\n",
      "Saving model!\n",
      "Epoch 48:\n",
      "\n",
      "Evaluation Completed (valid)!\tLoss: 5.6757 Time: 3.360 s\n",
      "Saving model!\n",
      "Epoch 49:\n",
      "\n",
      "Evaluation Completed (valid)!\tLoss: 5.6666 Time: 3.307 s\n",
      "Saving model!\n",
      "Epoch 50:\n",
      "\n",
      "Evaluation Completed (valid)!\tLoss: 5.6623 Time: 3.363 s\n",
      "Saving model!\n",
      "Epoch 51:\n",
      "\n",
      "Evaluation Completed (valid)!\tLoss: 5.6562 Time: 3.349 s\n",
      "Saving model!\n",
      "Epoch 52:\n",
      "\n",
      "Evaluation Completed (valid)!\tLoss: 5.6526 Time: 3.348 s\n",
      "Saving model!\n",
      "Epoch 53:\n",
      "\n",
      "Evaluation Completed (valid)!\tLoss: 5.6441 Time: 3.345 s\n",
      "Saving model!\n",
      "Epoch 54:\n",
      "\n",
      "Evaluation Completed (valid)!\tLoss: 5.6362 Time: 3.350 s\n",
      "Saving model!\n",
      "Epoch 55:\n",
      "\n",
      "Evaluation Completed (valid)!\tLoss: 5.6351 Time: 3.342 s\n",
      "Saving model!\n",
      "Epoch 56:\n",
      "\n",
      "Evaluation Completed (valid)!\tLoss: 5.6286 Time: 3.347 s\n",
      "Saving model!\n",
      "Epoch 57:\n",
      "\n",
      "Evaluation Completed (valid)!\tLoss: 5.6251 Time: 3.354 s\n",
      "Saving model!\n",
      "Epoch 58:\n",
      "\n",
      "Evaluation Completed (valid)!\tLoss: 5.6176 Time: 3.344 s\n",
      "Saving model!\n",
      "Epoch 59:\n",
      "\n",
      "Evaluation Completed (valid)!\tLoss: 5.6086 Time: 3.370 s\n",
      "Saving model!\n",
      "Epoch 60:\n",
      "\n",
      "Evaluation Completed (valid)!\tLoss: 5.6049 Time: 3.351 s\n",
      "Saving model!\n",
      "Epoch 61:\n",
      "\n",
      "Evaluation Completed (valid)!\tLoss: 5.5984 Time: 3.367 s\n",
      "Saving model!\n",
      "Epoch 62:\n",
      "\n",
      "Evaluation Completed (valid)!\tLoss: 5.5964 Time: 3.349 s\n",
      "Saving model!\n",
      "Epoch 63:\n",
      "\n",
      "Evaluation Completed (valid)!\tLoss: 5.5846 Time: 3.348 s\n",
      "Saving model!\n",
      "Epoch 64:\n",
      "\n",
      "Evaluation Completed (valid)!\tLoss: 5.5791 Time: 3.344 s\n",
      "Saving model!\n",
      "Epoch 65:\n",
      "\n",
      "Evaluation Completed (valid)!\tLoss: 5.5805 Time: 3.345 s\n",
      "Not saving model! Last saved: 64\n",
      "Epoch 66:\n",
      "\n",
      "Evaluation Completed (valid)!\tLoss: 5.5751 Time: 3.356 s\n",
      "Saving model!\n",
      "Epoch 67:\n",
      "\n",
      "Evaluation Completed (valid)!\tLoss: 5.5646 Time: 3.356 s\n",
      "Saving model!\n",
      "Epoch 68:\n",
      "\n",
      "Evaluation Completed (valid)!\tLoss: 5.5608 Time: 3.372 s\n",
      "Saving model!\n",
      "Epoch 69:\n",
      "\n",
      "Evaluation Completed (valid)!\tLoss: 5.5594 Time: 3.344 s\n",
      "Saving model!\n",
      "Epoch 70:\n",
      "\n",
      "Evaluation Completed (valid)!\tLoss: 5.5497 Time: 3.345 s\n",
      "Saving model!\n",
      "Epoch 71:\n",
      "\n",
      "Evaluation Completed (valid)!\tLoss: 5.5447 Time: 3.330 s\n",
      "Saving model!\n",
      "Epoch 72:\n",
      "\n",
      "Evaluation Completed (valid)!\tLoss: 5.5415 Time: 3.346 s\n",
      "Saving model!\n",
      "Epoch 73:\n",
      "\n",
      "Evaluation Completed (valid)!\tLoss: 5.5365 Time: 3.349 s\n",
      "Saving model!\n",
      "Epoch 74:\n",
      "\n",
      "Evaluation Completed (valid)!\tLoss: 5.5299 Time: 3.350 s\n",
      "Saving model!\n",
      "Epoch 75:\n",
      "\n",
      "Evaluation Completed (valid)!\tLoss: 5.5268 Time: 3.330 s\n",
      "Saving model!\n",
      "Epoch 76:\n",
      "\n",
      "Evaluation Completed (valid)!\tLoss: 5.5228 Time: 3.345 s\n",
      "Saving model!\n",
      "Epoch 77:\n",
      "\n",
      "Evaluation Completed (valid)!\tLoss: 5.5193 Time: 3.360 s\n",
      "Saving model!\n",
      "Epoch 78:\n",
      "\n",
      "Evaluation Completed (valid)!\tLoss: 5.5134 Time: 3.573 s\n",
      "Saving model!\n",
      "Epoch 79:\n",
      "\n",
      "Evaluation Completed (valid)!\tLoss: 5.5074 Time: 3.332 s\n",
      "Saving model!\n",
      "Epoch 80:\n",
      "\n",
      "Evaluation Completed (valid)!\tLoss: 5.5059 Time: 3.361 s\n",
      "Saving model!\n",
      "Epoch 81:\n",
      "\n",
      "Evaluation Completed (valid)!\tLoss: 5.4969 Time: 3.301 s\n",
      "Saving model!\n",
      "Epoch 82:\n",
      "\n",
      "Evaluation Completed (valid)!\tLoss: 5.4938 Time: 3.332 s\n",
      "Saving model!\n",
      "Epoch 83:\n",
      "\n",
      "Evaluation Completed (valid)!\tLoss: 5.4871 Time: 3.312 s\n",
      "Saving model!\n",
      "Epoch 84:\n",
      "\n",
      "Evaluation Completed (valid)!\tLoss: 5.4913 Time: 3.287 s\n",
      "Not saving model! Last saved: 83\n",
      "Epoch 85:\n",
      "\n",
      "Evaluation Completed (valid)!\tLoss: 5.4829 Time: 3.569 s\n",
      "Saving model!\n",
      "Epoch 86:\n",
      "\n",
      "Evaluation Completed (valid)!\tLoss: 5.4788 Time: 3.298 s\n",
      "Saving model!\n",
      "Epoch 87:\n",
      "\n",
      "Evaluation Completed (valid)!\tLoss: 5.4696 Time: 3.325 s\n",
      "Saving model!\n",
      "Epoch 88:\n",
      "\n",
      "Evaluation Completed (valid)!\tLoss: 5.4686 Time: 3.312 s\n",
      "Saving model!\n",
      "Epoch 89:\n",
      "\n",
      "Evaluation Completed (valid)!\tLoss: 5.4668 Time: 3.337 s\n",
      "Saving model!\n",
      "Epoch 90:\n",
      "\n",
      "Evaluation Completed (valid)!\tLoss: 5.4601 Time: 3.313 s\n",
      "Saving model!\n",
      "Epoch 91:\n",
      "\n",
      "Evaluation Completed (valid)!\tLoss: 5.4553 Time: 3.327 s\n",
      "Saving model!\n",
      "Epoch 92:\n",
      "\n",
      "Evaluation Completed (valid)!\tLoss: 5.4535 Time: 3.342 s\n",
      "Saving model!\n",
      "Epoch 93:\n",
      "\n",
      "Evaluation Completed (valid)!\tLoss: 5.4469 Time: 3.350 s\n",
      "Saving model!\n",
      "Epoch 94:\n",
      "\n",
      "Evaluation Completed (valid)!\tLoss: 5.4419 Time: 3.330 s\n",
      "Saving model!\n",
      "Epoch 95:\n",
      "\n",
      "Evaluation Completed (valid)!\tLoss: 5.4430 Time: 3.326 s\n",
      "Not saving model! Last saved: 94\n",
      "Epoch 96:\n",
      "\n",
      "Evaluation Completed (valid)!\tLoss: 5.4336 Time: 3.331 s\n",
      "Saving model!\n",
      "Epoch 97:\n",
      "\n",
      "Evaluation Completed (valid)!\tLoss: 5.4360 Time: 3.331 s\n",
      "Not saving model! Last saved: 96\n",
      "Epoch 98:\n",
      "\n",
      "Evaluation Completed (valid)!\tLoss: 5.4264 Time: 3.332 s\n",
      "Saving model!\n",
      "Epoch 99:\n",
      "\n",
      "Evaluation Completed (valid)!\tLoss: 5.4244 Time: 3.329 s\n",
      "Saving model!\n",
      "Epoch 100:\n"
     ]
    },
    {
     "name": "stdout",
     "output_type": "stream",
     "text": [
      "\n",
      "Evaluation Completed (valid)!\tLoss: 5.4205 Time: 3.332 s\n",
      "Saving model!\n",
      "Epoch 101:\n",
      "\n",
      "Evaluation Completed (valid)!\tLoss: 5.4162 Time: 3.333 s\n",
      "Saving model!\n",
      "Epoch 102:\n",
      "\n",
      "Evaluation Completed (valid)!\tLoss: 5.4167 Time: 3.324 s\n",
      "Not saving model! Last saved: 101\n",
      "Epoch 103:\n",
      "\n",
      "Evaluation Completed (valid)!\tLoss: 5.4141 Time: 3.329 s\n",
      "Saving model!\n",
      "Epoch 104:\n",
      "\n",
      "Evaluation Completed (valid)!\tLoss: 5.4080 Time: 3.328 s\n",
      "Saving model!\n",
      "Epoch 105:\n",
      "\n",
      "Evaluation Completed (valid)!\tLoss: 5.4066 Time: 3.352 s\n",
      "Saving model!\n",
      "Epoch 106:\n",
      "\n",
      "Evaluation Completed (valid)!\tLoss: 5.3939 Time: 3.328 s\n",
      "Saving model!\n",
      "Epoch 107:\n",
      "\n",
      "Evaluation Completed (valid)!\tLoss: 5.3932 Time: 3.329 s\n",
      "Saving model!\n",
      "Epoch 108:\n",
      "\n",
      "Evaluation Completed (valid)!\tLoss: 5.3909 Time: 3.334 s\n",
      "Saving model!\n",
      "Epoch 109:\n",
      "\n",
      "Evaluation Completed (valid)!\tLoss: 5.3884 Time: 3.330 s\n",
      "Saving model!\n",
      "Epoch 110:\n",
      "\n",
      "Evaluation Completed (valid)!\tLoss: 5.3885 Time: 3.322 s\n",
      "Not saving model! Last saved: 109\n",
      "Epoch 111:\n",
      "\n",
      "Evaluation Completed (valid)!\tLoss: 5.3850 Time: 3.330 s\n",
      "Saving model!\n",
      "Epoch 112:\n",
      "\n",
      "Evaluation Completed (valid)!\tLoss: 5.3778 Time: 3.325 s\n",
      "Saving model!\n",
      "Epoch 113:\n",
      "\n",
      "Evaluation Completed (valid)!\tLoss: 5.3780 Time: 3.337 s\n",
      "Not saving model! Last saved: 112\n",
      "Epoch 114:\n",
      "\n",
      "Evaluation Completed (valid)!\tLoss: 5.3707 Time: 3.300 s\n",
      "Saving model!\n",
      "Epoch 115:\n",
      "\n",
      "Evaluation Completed (valid)!\tLoss: 5.3675 Time: 3.320 s\n",
      "Saving model!\n",
      "Epoch 116:\n",
      "\n",
      "Evaluation Completed (valid)!\tLoss: 5.3622 Time: 3.305 s\n",
      "Saving model!\n",
      "Epoch 117:\n",
      "\n",
      "Evaluation Completed (valid)!\tLoss: 5.3571 Time: 3.410 s\n",
      "Saving model!\n",
      "Epoch 118:\n",
      "\n",
      "Evaluation Completed (valid)!\tLoss: 5.3562 Time: 3.308 s\n",
      "Saving model!\n",
      "Epoch 119:\n",
      "\n",
      "Evaluation Completed (valid)!\tLoss: 5.3540 Time: 3.293 s\n",
      "Saving model!\n",
      "Epoch 120:\n",
      "\n",
      "Evaluation Completed (valid)!\tLoss: 5.3496 Time: 3.296 s\n",
      "Saving model!\n",
      "Epoch 121:\n",
      "\n",
      "Evaluation Completed (valid)!\tLoss: 5.3447 Time: 3.329 s\n",
      "Saving model!\n",
      "Epoch 122:\n",
      "\n",
      "Evaluation Completed (valid)!\tLoss: 5.3399 Time: 3.331 s\n",
      "Saving model!\n",
      "Epoch 123:\n",
      "\n",
      "Evaluation Completed (valid)!\tLoss: 5.3430 Time: 3.402 s\n",
      "Not saving model! Last saved: 122\n",
      "Epoch 124:\n",
      "\n",
      "Evaluation Completed (valid)!\tLoss: 5.3360 Time: 3.359 s\n",
      "Saving model!\n",
      "Epoch 125:\n",
      "\n",
      "Evaluation Completed (valid)!\tLoss: 5.3321 Time: 3.318 s\n",
      "Saving model!\n",
      "Epoch 126:\n",
      "\n",
      "Evaluation Completed (valid)!\tLoss: 5.3305 Time: 3.300 s\n",
      "Saving model!\n",
      "Epoch 127:\n",
      "\n",
      "Evaluation Completed (valid)!\tLoss: 5.3282 Time: 3.321 s\n",
      "Saving model!\n",
      "Epoch 128:\n",
      "\n",
      "Evaluation Completed (valid)!\tLoss: 5.3224 Time: 3.328 s\n",
      "Saving model!\n",
      "Epoch 129:\n",
      "\n",
      "Evaluation Completed (valid)!\tLoss: 5.3237 Time: 3.349 s\n",
      "Not saving model! Last saved: 128\n",
      "Epoch 130:\n",
      "\n",
      "Evaluation Completed (valid)!\tLoss: 5.3209 Time: 3.398 s\n",
      "Saving model!\n",
      "Epoch 131:\n",
      "\n",
      "Evaluation Completed (valid)!\tLoss: 5.3138 Time: 3.291 s\n",
      "Saving model!\n",
      "Epoch 132:\n",
      "\n",
      "Evaluation Completed (valid)!\tLoss: 5.3131 Time: 3.345 s\n",
      "Saving model!\n",
      "Epoch 133:\n",
      "\n",
      "Evaluation Completed (valid)!\tLoss: 5.3065 Time: 3.301 s\n",
      "Saving model!\n",
      "Epoch 134:\n",
      "\n",
      "Evaluation Completed (valid)!\tLoss: 5.3057 Time: 3.336 s\n",
      "Saving model!\n",
      "Epoch 135:\n",
      "\n",
      "Evaluation Completed (valid)!\tLoss: 5.3026 Time: 3.303 s\n",
      "Saving model!\n",
      "Epoch 136:\n",
      "\n",
      "Evaluation Completed (valid)!\tLoss: 5.3023 Time: 3.330 s\n",
      "Saving model!\n",
      "Epoch 137:\n",
      "\n",
      "Evaluation Completed (valid)!\tLoss: 5.2991 Time: 3.316 s\n",
      "Saving model!\n",
      "Epoch 138:\n",
      "\n",
      "Evaluation Completed (valid)!\tLoss: 5.2946 Time: 3.300 s\n",
      "Saving model!\n",
      "Epoch 139:\n",
      "\n",
      "Evaluation Completed (valid)!\tLoss: 5.2935 Time: 3.296 s\n",
      "Saving model!\n",
      "Epoch 140:\n",
      "\n",
      "Evaluation Completed (valid)!\tLoss: 5.2892 Time: 3.307 s\n",
      "Saving model!\n",
      "Epoch 141:\n",
      "\n",
      "Evaluation Completed (valid)!\tLoss: 5.2866 Time: 3.329 s\n",
      "Saving model!\n",
      "Epoch 142:\n",
      "\n",
      "Evaluation Completed (valid)!\tLoss: 5.2835 Time: 3.310 s\n",
      "Saving model!\n",
      "Epoch 143:\n",
      "\n",
      "Evaluation Completed (valid)!\tLoss: 5.2790 Time: 3.296 s\n",
      "Saving model!\n",
      "Epoch 144:\n",
      "\n",
      "Evaluation Completed (valid)!\tLoss: 5.2766 Time: 3.323 s\n",
      "Saving model!\n",
      "Epoch 145:\n",
      "\n",
      "Evaluation Completed (valid)!\tLoss: 5.2783 Time: 3.310 s\n",
      "Not saving model! Last saved: 144\n",
      "Epoch 146:\n",
      "\n",
      "Evaluation Completed (valid)!\tLoss: 5.2687 Time: 3.329 s\n",
      "Saving model!\n",
      "Epoch 147:\n",
      "\n",
      "Evaluation Completed (valid)!\tLoss: 5.2673 Time: 3.315 s\n",
      "Saving model!\n",
      "Epoch 148:\n",
      "\n",
      "Evaluation Completed (valid)!\tLoss: 5.2683 Time: 3.323 s\n",
      "Not saving model! Last saved: 147\n",
      "Epoch 149:\n",
      "\n",
      "Evaluation Completed (valid)!\tLoss: 5.2653 Time: 3.324 s\n",
      "Saving model!\n",
      "Epoch 150:\n",
      "\n",
      "Evaluation Completed (valid)!\tLoss: 5.2630 Time: 3.303 s\n",
      "Saving model!\n",
      "Epoch 151:\n",
      "\n",
      "Evaluation Completed (valid)!\tLoss: 5.2593 Time: 3.331 s\n",
      "Saving model!\n",
      "Epoch 152:\n",
      "\n",
      "Evaluation Completed (valid)!\tLoss: 5.2521 Time: 3.311 s\n",
      "Saving model!\n",
      "Epoch 153:\n",
      "\n",
      "Evaluation Completed (valid)!\tLoss: 5.2535 Time: 3.338 s\n",
      "Not saving model! Last saved: 152\n",
      "Epoch 154:\n",
      "\n",
      "Evaluation Completed (valid)!\tLoss: 5.2553 Time: 3.319 s\n",
      "Not saving model! Last saved: 152\n",
      "Epoch 155:\n",
      "\n",
      "Evaluation Completed (valid)!\tLoss: 5.2467 Time: 3.296 s\n",
      "Saving model!\n",
      "Epoch 156:\n",
      "\n",
      "Evaluation Completed (valid)!\tLoss: 5.2433 Time: 3.327 s\n",
      "Saving model!\n",
      "Epoch 157:\n",
      "\n",
      "Evaluation Completed (valid)!\tLoss: 5.2481 Time: 3.307 s\n",
      "Not saving model! Last saved: 156\n",
      "Epoch 158:\n",
      "\n",
      "Evaluation Completed (valid)!\tLoss: 5.2384 Time: 3.328 s\n",
      "Saving model!\n",
      "Epoch 159:\n",
      "\n",
      "Evaluation Completed (valid)!\tLoss: 5.2361 Time: 3.315 s\n",
      "Saving model!\n",
      "Epoch 160:\n",
      "\n",
      "Evaluation Completed (valid)!\tLoss: 5.2400 Time: 3.299 s\n",
      "Not saving model! Last saved: 159\n",
      "Epoch 161:\n",
      "\n",
      "Evaluation Completed (valid)!\tLoss: 5.2294 Time: 3.326 s\n",
      "Saving model!\n",
      "Epoch 162:\n",
      "\n",
      "Evaluation Completed (valid)!\tLoss: 5.2274 Time: 3.338 s\n",
      "Saving model!\n",
      "Epoch 163:\n",
      "\n",
      "Evaluation Completed (valid)!\tLoss: 5.2261 Time: 3.613 s\n",
      "Saving model!\n",
      "Epoch 164:\n",
      "\n",
      "Evaluation Completed (valid)!\tLoss: 5.2253 Time: 3.306 s\n",
      "Saving model!\n",
      "Epoch 165:\n",
      "\n",
      "Evaluation Completed (valid)!\tLoss: 5.2232 Time: 3.332 s\n",
      "Saving model!\n",
      "Epoch 166:\n",
      "\n",
      "Evaluation Completed (valid)!\tLoss: 5.2184 Time: 3.310 s\n",
      "Saving model!\n",
      "Epoch 167:\n",
      "\n",
      "Evaluation Completed (valid)!\tLoss: 5.2158 Time: 3.325 s\n",
      "Saving model!\n",
      "Epoch 168:\n",
      "\n",
      "Evaluation Completed (valid)!\tLoss: 5.2127 Time: 3.338 s\n",
      "Saving model!\n",
      "Epoch 169:\n",
      "\n",
      "Evaluation Completed (valid)!\tLoss: 5.2098 Time: 3.340 s\n",
      "Saving model!\n",
      "Epoch 170:\n",
      "\n",
      "Evaluation Completed (valid)!\tLoss: 5.2137 Time: 3.345 s\n",
      "Not saving model! Last saved: 169\n",
      "Epoch 171:\n",
      "\n",
      "Evaluation Completed (valid)!\tLoss: 5.2073 Time: 3.865 s\n",
      "Saving model!\n",
      "Epoch 172:\n",
      "\n",
      "Evaluation Completed (valid)!\tLoss: 5.1997 Time: 3.860 s\n",
      "Saving model!\n",
      "Epoch 173:\n",
      "\n",
      "Evaluation Completed (valid)!\tLoss: 5.2013 Time: 3.861 s\n",
      "Not saving model! Last saved: 172\n",
      "Epoch 174:\n",
      "\n",
      "Evaluation Completed (valid)!\tLoss: 5.1981 Time: 3.357 s\n",
      "Saving model!\n",
      "Epoch 175:\n",
      "\n",
      "Evaluation Completed (valid)!\tLoss: 5.1982 Time: 3.647 s\n",
      "Not saving model! Last saved: 174\n",
      "Epoch 176:\n",
      "\n",
      "Evaluation Completed (valid)!\tLoss: 5.1965 Time: 3.750 s\n",
      "Saving model!\n",
      "Epoch 177:\n",
      "\n",
      "Evaluation Completed (valid)!\tLoss: 5.1948 Time: 3.618 s\n",
      "Saving model!\n",
      "Epoch 178:\n",
      "\n",
      "Evaluation Completed (valid)!\tLoss: 5.1899 Time: 3.301 s\n",
      "Saving model!\n",
      "Epoch 179:\n",
      "\n",
      "Evaluation Completed (valid)!\tLoss: 5.1916 Time: 3.327 s\n",
      "Not saving model! Last saved: 178\n",
      "Epoch 180:\n",
      "\n",
      "Evaluation Completed (valid)!\tLoss: 5.1852 Time: 3.316 s\n",
      "Saving model!\n",
      "Epoch 181:\n",
      "\n",
      "Evaluation Completed (valid)!\tLoss: 5.1827 Time: 3.318 s\n",
      "Saving model!\n",
      "Epoch 182:\n",
      "\n",
      "Evaluation Completed (valid)!\tLoss: 5.1826 Time: 3.319 s\n",
      "Saving model!\n",
      "Epoch 183:\n",
      "\n",
      "Evaluation Completed (valid)!\tLoss: 5.1819 Time: 3.303 s\n",
      "Saving model!\n",
      "Epoch 184:\n",
      "\n",
      "Evaluation Completed (valid)!\tLoss: 5.1731 Time: 3.321 s\n",
      "Saving model!\n",
      "Epoch 185:\n",
      "\n",
      "Evaluation Completed (valid)!\tLoss: 5.1754 Time: 3.323 s\n",
      "Not saving model! Last saved: 184\n",
      "Epoch 186:\n",
      "\n",
      "Evaluation Completed (valid)!\tLoss: 5.1740 Time: 3.329 s\n",
      "Not saving model! Last saved: 184\n",
      "Epoch 187:\n",
      "\n",
      "Evaluation Completed (valid)!\tLoss: 5.1737 Time: 3.312 s\n",
      "Not saving model! Last saved: 184\n",
      "Epoch 188:\n",
      "\n",
      "Evaluation Completed (valid)!\tLoss: 5.1696 Time: 3.326 s\n",
      "Saving model!\n",
      "Epoch 189:\n",
      "\n",
      "Evaluation Completed (valid)!\tLoss: 5.1655 Time: 3.317 s\n",
      "Saving model!\n",
      "Epoch 190:\n",
      "\n",
      "Evaluation Completed (valid)!\tLoss: 5.1630 Time: 3.300 s\n",
      "Saving model!\n",
      "Epoch 191:\n",
      "\n",
      "Evaluation Completed (valid)!\tLoss: 5.1605 Time: 3.328 s\n",
      "Saving model!\n",
      "Epoch 192:\n",
      "\n",
      "Evaluation Completed (valid)!\tLoss: 5.1587 Time: 3.303 s\n",
      "Saving model!\n",
      "Epoch 193:\n",
      "\n",
      "Evaluation Completed (valid)!\tLoss: 5.1579 Time: 3.332 s\n",
      "Saving model!\n",
      "Epoch 194:\n",
      "\n",
      "Evaluation Completed (valid)!\tLoss: 5.1593 Time: 3.319 s\n",
      "Not saving model! Last saved: 193\n",
      "Epoch 195:\n"
     ]
    },
    {
     "name": "stdout",
     "output_type": "stream",
     "text": [
      "\n",
      "Evaluation Completed (valid)!\tLoss: 5.1501 Time: 3.302 s\n",
      "Saving model!\n",
      "Epoch 196:\n",
      "\n",
      "Evaluation Completed (valid)!\tLoss: 5.1519 Time: 3.326 s\n",
      "Not saving model! Last saved: 195\n",
      "Epoch 197:\n",
      "\n",
      "Evaluation Completed (valid)!\tLoss: 5.1479 Time: 3.306 s\n",
      "Saving model!\n",
      "Epoch 198:\n",
      "\n",
      "Evaluation Completed (valid)!\tLoss: 5.1468 Time: 3.332 s\n",
      "Saving model!\n",
      "Epoch 199:\n",
      "\n",
      "Evaluation Completed (valid)!\tLoss: 5.1458 Time: 3.319 s\n",
      "Saving model!\n",
      "Epoch 200:\n",
      "\n",
      "Evaluation Completed (valid)!\tLoss: 5.1426 Time: 3.302 s\n",
      "Saving model!\n",
      "Epoch 201:\n",
      "\n",
      "Evaluation Completed (valid)!\tLoss: 5.1411 Time: 3.322 s\n",
      "Saving model!\n",
      "Epoch 202:\n",
      "\n",
      "Evaluation Completed (valid)!\tLoss: 5.1342 Time: 3.305 s\n",
      "Saving model!\n",
      "Epoch 203:\n",
      "\n",
      "Evaluation Completed (valid)!\tLoss: 5.1413 Time: 3.329 s\n",
      "Not saving model! Last saved: 202\n",
      "Epoch 204:\n",
      "\n",
      "Evaluation Completed (valid)!\tLoss: 5.1333 Time: 3.309 s\n",
      "Saving model!\n",
      "Epoch 205:\n",
      "\n",
      "Evaluation Completed (valid)!\tLoss: 5.1321 Time: 3.329 s\n",
      "Saving model!\n",
      "Epoch 206:\n",
      "\n",
      "Evaluation Completed (valid)!\tLoss: 5.1315 Time: 3.321 s\n",
      "Saving model!\n",
      "Epoch 207:\n",
      "\n",
      "Evaluation Completed (valid)!\tLoss: 5.1307 Time: 3.301 s\n",
      "Saving model!\n",
      "Epoch 208:\n",
      "\n",
      "Evaluation Completed (valid)!\tLoss: 5.1278 Time: 3.326 s\n",
      "Saving model!\n",
      "Epoch 209:\n",
      "\n",
      "Evaluation Completed (valid)!\tLoss: 5.1210 Time: 3.312 s\n",
      "Saving model!\n",
      "Epoch 210:\n",
      "\n",
      "Evaluation Completed (valid)!\tLoss: 5.1181 Time: 3.330 s\n",
      "Saving model!\n",
      "Epoch 211:\n",
      "\n",
      "Evaluation Completed (valid)!\tLoss: 5.1176 Time: 3.331 s\n",
      "Saving model!\n",
      "Epoch 212:\n",
      "\n",
      "Evaluation Completed (valid)!\tLoss: 5.1194 Time: 3.347 s\n",
      "Not saving model! Last saved: 211\n",
      "Epoch 213:\n",
      "\n",
      "Evaluation Completed (valid)!\tLoss: 5.1162 Time: 3.354 s\n",
      "Saving model!\n",
      "Epoch 214:\n",
      "\n",
      "Evaluation Completed (valid)!\tLoss: 5.1111 Time: 3.334 s\n",
      "Saving model!\n",
      "Epoch 215:\n",
      "\n",
      "Evaluation Completed (valid)!\tLoss: 5.1109 Time: 3.331 s\n",
      "Saving model!\n",
      "Epoch 216:\n",
      "\n",
      "Evaluation Completed (valid)!\tLoss: 5.1093 Time: 3.308 s\n",
      "Saving model!\n",
      "Epoch 217:\n",
      "\n",
      "Evaluation Completed (valid)!\tLoss: 5.1090 Time: 3.347 s\n",
      "Saving model!\n",
      "Epoch 218:\n",
      "\n",
      "Evaluation Completed (valid)!\tLoss: 5.1018 Time: 3.413 s\n",
      "Saving model!\n",
      "Epoch 219:\n",
      "\n",
      "Evaluation Completed (valid)!\tLoss: 5.1091 Time: 3.364 s\n",
      "Not saving model! Last saved: 218\n",
      "Epoch 220:\n",
      "\n",
      "Evaluation Completed (valid)!\tLoss: 5.1055 Time: 3.351 s\n",
      "Not saving model! Last saved: 218\n",
      "Epoch 221:\n",
      "\n",
      "Evaluation Completed (valid)!\tLoss: 5.0971 Time: 3.337 s\n",
      "Saving model!\n",
      "Epoch 222:\n",
      "\n",
      "Evaluation Completed (valid)!\tLoss: 5.0947 Time: 3.356 s\n",
      "Saving model!\n",
      "Epoch 223:\n",
      "\n",
      "Evaluation Completed (valid)!\tLoss: 5.0986 Time: 3.333 s\n",
      "Not saving model! Last saved: 222\n",
      "Epoch 224:\n",
      "\n",
      "Evaluation Completed (valid)!\tLoss: 5.0947 Time: 3.369 s\n",
      "Saving model!\n",
      "Epoch 225:\n",
      "\n",
      "Evaluation Completed (valid)!\tLoss: 5.0896 Time: 3.337 s\n",
      "Saving model!\n",
      "Epoch 226:\n",
      "\n",
      "Evaluation Completed (valid)!\tLoss: 5.0892 Time: 3.326 s\n",
      "Saving model!\n",
      "Epoch 227:\n",
      "\n",
      "Evaluation Completed (valid)!\tLoss: 5.0880 Time: 3.320 s\n",
      "Saving model!\n",
      "Epoch 228:\n",
      "\n",
      "Evaluation Completed (valid)!\tLoss: 5.0857 Time: 3.314 s\n",
      "Saving model!\n",
      "Epoch 229:\n",
      "\n",
      "Evaluation Completed (valid)!\tLoss: 5.0848 Time: 3.335 s\n",
      "Saving model!\n",
      "Epoch 230:\n",
      "\n",
      "Evaluation Completed (valid)!\tLoss: 5.0806 Time: 3.314 s\n",
      "Saving model!\n",
      "Epoch 231:\n",
      "\n",
      "Evaluation Completed (valid)!\tLoss: 5.0820 Time: 3.333 s\n",
      "Not saving model! Last saved: 230\n",
      "Epoch 232:\n",
      "\n",
      "Evaluation Completed (valid)!\tLoss: 5.0784 Time: 3.326 s\n",
      "Saving model!\n",
      "Epoch 233:\n",
      "\n",
      "Evaluation Completed (valid)!\tLoss: 5.0777 Time: 3.297 s\n",
      "Saving model!\n",
      "Epoch 234:\n",
      "\n",
      "Evaluation Completed (valid)!\tLoss: 5.0714 Time: 3.319 s\n",
      "Saving model!\n",
      "Epoch 235:\n",
      "\n",
      "Evaluation Completed (valid)!\tLoss: 5.0731 Time: 3.299 s\n",
      "Not saving model! Last saved: 234\n",
      "Epoch 236:\n",
      "\n",
      "Evaluation Completed (valid)!\tLoss: 5.0724 Time: 3.296 s\n",
      "Not saving model! Last saved: 234\n",
      "Epoch 237:\n",
      "\n",
      "Evaluation Completed (valid)!\tLoss: 5.0692 Time: 3.298 s\n",
      "Saving model!\n",
      "Epoch 238:\n",
      "\n",
      "Evaluation Completed (valid)!\tLoss: 5.0679 Time: 3.291 s\n",
      "Saving model!\n",
      "Epoch 239:\n",
      "\n",
      "Evaluation Completed (valid)!\tLoss: 5.0664 Time: 3.290 s\n",
      "Saving model!\n",
      "Epoch 240:\n",
      "\n",
      "Evaluation Completed (valid)!\tLoss: 5.0685 Time: 3.304 s\n",
      "Not saving model! Last saved: 239\n",
      "Epoch 241:\n",
      "\n",
      "Evaluation Completed (valid)!\tLoss: 5.0621 Time: 3.294 s\n",
      "Saving model!\n",
      "Epoch 242:\n",
      "\n",
      "Evaluation Completed (valid)!\tLoss: 5.0595 Time: 3.269 s\n",
      "Saving model!\n",
      "Epoch 243:\n",
      "\n",
      "Evaluation Completed (valid)!\tLoss: 5.0550 Time: 3.294 s\n",
      "Saving model!\n",
      "Epoch 244:\n",
      "\n",
      "Evaluation Completed (valid)!\tLoss: 5.0556 Time: 3.293 s\n",
      "Not saving model! Last saved: 243\n",
      "Epoch 245:\n",
      "\n",
      "Evaluation Completed (valid)!\tLoss: 5.0574 Time: 3.290 s\n",
      "Not saving model! Last saved: 243\n",
      "Epoch 246:\n",
      "\n",
      "Evaluation Completed (valid)!\tLoss: 5.0519 Time: 3.286 s\n",
      "Saving model!\n",
      "Epoch 247:\n",
      "\n",
      "Evaluation Completed (valid)!\tLoss: 5.0473 Time: 3.291 s\n",
      "Saving model!\n",
      "Epoch 248:\n",
      "\n",
      "Evaluation Completed (valid)!\tLoss: 5.0508 Time: 3.297 s\n",
      "Not saving model! Last saved: 247\n",
      "Epoch 249:\n",
      "\n",
      "Evaluation Completed (valid)!\tLoss: 5.0508 Time: 3.299 s\n",
      "Not saving model! Last saved: 247\n",
      "Epoch 250:\n",
      "\n",
      "Evaluation Completed (valid)!\tLoss: 5.0450 Time: 3.299 s\n",
      "Saving model!\n",
      "Epoch 251:\n",
      "\n",
      "Evaluation Completed (valid)!\tLoss: 5.0443 Time: 3.288 s\n",
      "Saving model!\n",
      "Epoch 252:\n",
      "\n",
      "Evaluation Completed (valid)!\tLoss: 5.0437 Time: 3.283 s\n",
      "Saving model!\n",
      "Epoch 253:\n",
      "\n",
      "Evaluation Completed (valid)!\tLoss: 5.0415 Time: 3.964 s\n",
      "Saving model!\n",
      "Epoch 254:\n",
      "\n",
      "Evaluation Completed (valid)!\tLoss: 5.0415 Time: 3.648 s\n",
      "Not saving model! Last saved: 253\n",
      "Epoch 255:\n",
      "\n",
      "Evaluation Completed (valid)!\tLoss: 5.0447 Time: 3.967 s\n",
      "Not saving model! Last saved: 253\n",
      "Epoch 256:\n",
      "\n",
      "Evaluation Completed (valid)!\tLoss: 5.0328 Time: 3.420 s\n",
      "Saving model!\n",
      "Epoch 257:\n",
      "\n",
      "Evaluation Completed (valid)!\tLoss: 5.0372 Time: 3.338 s\n",
      "Not saving model! Last saved: 256\n",
      "Epoch 258:\n",
      "\n",
      "Evaluation Completed (valid)!\tLoss: 5.0387 Time: 3.372 s\n",
      "Not saving model! Last saved: 256\n",
      "Epoch 259:\n",
      "\n",
      "Evaluation Completed (valid)!\tLoss: 5.0318 Time: 3.407 s\n",
      "Saving model!\n",
      "Epoch 260:\n",
      "\n",
      "Evaluation Completed (valid)!\tLoss: 5.0267 Time: 3.935 s\n",
      "Saving model!\n",
      "Epoch 261:\n",
      "\n",
      "Evaluation Completed (valid)!\tLoss: 5.0245 Time: 3.916 s\n",
      "Saving model!\n",
      "Epoch 262:\n",
      "\n",
      "Evaluation Completed (valid)!\tLoss: 5.0284 Time: 3.409 s\n",
      "Not saving model! Last saved: 261\n",
      "Epoch 263:\n",
      "\n",
      "Evaluation Completed (valid)!\tLoss: 5.0252 Time: 3.982 s\n",
      "Not saving model! Last saved: 261\n",
      "Epoch 264:\n",
      "\n",
      "Evaluation Completed (valid)!\tLoss: 5.0218 Time: 3.980 s\n",
      "Saving model!\n",
      "Epoch 265:\n",
      "\n",
      "Evaluation Completed (valid)!\tLoss: 5.0227 Time: 3.987 s\n",
      "Not saving model! Last saved: 264\n",
      "Epoch 266:\n",
      "\n",
      "Evaluation Completed (valid)!\tLoss: 5.0199 Time: 3.935 s\n",
      "Saving model!\n",
      "Epoch 267:\n",
      "\n",
      "Evaluation Completed (valid)!\tLoss: 5.0179 Time: 3.688 s\n",
      "Saving model!\n",
      "Epoch 268:\n",
      "\n",
      "Evaluation Completed (valid)!\tLoss: 5.0149 Time: 3.691 s\n",
      "Saving model!\n",
      "Epoch 269:\n",
      "\n",
      "Evaluation Completed (valid)!\tLoss: 5.0117 Time: 3.360 s\n",
      "Saving model!\n",
      "Epoch 270:\n",
      "\n",
      "Evaluation Completed (valid)!\tLoss: 5.0133 Time: 3.983 s\n",
      "Not saving model! Last saved: 269\n",
      "Epoch 271:\n",
      "\n",
      "Evaluation Completed (valid)!\tLoss: 5.0131 Time: 3.936 s\n",
      "Not saving model! Last saved: 269\n",
      "Epoch 272:\n",
      "\n",
      "Evaluation Completed (valid)!\tLoss: 5.0135 Time: 3.965 s\n",
      "Not saving model! Last saved: 269\n",
      "Epoch 273:\n",
      "\n",
      "Evaluation Completed (valid)!\tLoss: 5.0107 Time: 3.975 s\n",
      "Saving model!\n",
      "Epoch 274:\n",
      "\n",
      "Evaluation Completed (valid)!\tLoss: 5.0108 Time: 3.935 s\n",
      "Not saving model! Last saved: 273\n",
      "Epoch 275:\n",
      "\n",
      "Evaluation Completed (valid)!\tLoss: 5.0074 Time: 3.464 s\n",
      "Saving model!\n",
      "Epoch 276:\n",
      "\n",
      "Evaluation Completed (valid)!\tLoss: 5.0011 Time: 3.936 s\n",
      "Saving model!\n",
      "Epoch 277:\n",
      "\n",
      "Evaluation Completed (valid)!\tLoss: 5.0059 Time: 3.700 s\n",
      "Not saving model! Last saved: 276\n",
      "Epoch 278:\n",
      "\n",
      "Evaluation Completed (valid)!\tLoss: 5.0027 Time: 3.973 s\n",
      "Not saving model! Last saved: 276\n",
      "Epoch 279:\n",
      "\n",
      "Evaluation Completed (valid)!\tLoss: 5.0038 Time: 3.560 s\n",
      "Not saving model! Last saved: 276\n",
      "Epoch 280:\n",
      "\n",
      "Evaluation Completed (valid)!\tLoss: 4.9989 Time: 3.696 s\n",
      "Saving model!\n",
      "Epoch 281:\n",
      "\n",
      "Evaluation Completed (valid)!\tLoss: 4.9948 Time: 3.657 s\n",
      "Saving model!\n",
      "Epoch 282:\n",
      "\n",
      "Evaluation Completed (valid)!\tLoss: 4.9917 Time: 3.364 s\n",
      "Saving model!\n",
      "Epoch 283:\n",
      "\n",
      "Evaluation Completed (valid)!\tLoss: 4.9931 Time: 3.376 s\n",
      "Not saving model! Last saved: 282\n",
      "Epoch 284:\n",
      "\n",
      "Evaluation Completed (valid)!\tLoss: 4.9921 Time: 3.815 s\n",
      "Not saving model! Last saved: 282\n",
      "Epoch 285:\n",
      "\n",
      "Evaluation Completed (valid)!\tLoss: 4.9897 Time: 3.609 s\n",
      "Saving model!\n",
      "Epoch 286:\n",
      "\n",
      "Evaluation Completed (valid)!\tLoss: 4.9903 Time: 3.994 s\n",
      "Not saving model! Last saved: 285\n",
      "Epoch 287:\n"
     ]
    },
    {
     "name": "stdout",
     "output_type": "stream",
     "text": [
      "\n",
      "Evaluation Completed (valid)!\tLoss: 4.9833 Time: 3.874 s\n",
      "Saving model!\n",
      "Epoch 288:\n",
      "\n",
      "Evaluation Completed (valid)!\tLoss: 4.9853 Time: 3.875 s\n",
      "Not saving model! Last saved: 287\n",
      "Epoch 289:\n",
      "\n",
      "Evaluation Completed (valid)!\tLoss: 4.9822 Time: 3.887 s\n",
      "Saving model!\n",
      "Epoch 290:\n",
      "\n",
      "Evaluation Completed (valid)!\tLoss: 4.9804 Time: 3.944 s\n",
      "Saving model!\n",
      "Epoch 291:\n",
      "\n",
      "Evaluation Completed (valid)!\tLoss: 4.9838 Time: 3.965 s\n",
      "Not saving model! Last saved: 290\n",
      "Epoch 292:\n",
      "\n",
      "Evaluation Completed (valid)!\tLoss: 4.9787 Time: 3.904 s\n",
      "Saving model!\n",
      "Epoch 293:\n",
      "\n",
      "Evaluation Completed (valid)!\tLoss: 4.9779 Time: 4.422 s\n",
      "Saving model!\n",
      "Epoch 294:\n",
      "\n",
      "Evaluation Completed (valid)!\tLoss: 4.9765 Time: 3.930 s\n",
      "Saving model!\n",
      "Epoch 295:\n",
      "\n",
      "Evaluation Completed (valid)!\tLoss: 4.9724 Time: 3.778 s\n",
      "Saving model!\n",
      "Epoch 296:\n",
      "\n",
      "Evaluation Completed (valid)!\tLoss: 4.9756 Time: 3.522 s\n",
      "Not saving model! Last saved: 295\n",
      "Epoch 297:\n",
      "\n",
      "Evaluation Completed (valid)!\tLoss: 4.9728 Time: 3.859 s\n",
      "Not saving model! Last saved: 295\n",
      "Epoch 298:\n",
      "\n",
      "Evaluation Completed (valid)!\tLoss: 4.9707 Time: 3.998 s\n",
      "Saving model!\n",
      "Epoch 299:\n",
      "\n",
      "Evaluation Completed (valid)!\tLoss: 4.9662 Time: 4.515 s\n",
      "Saving model!\n",
      "Epoch 300:\n",
      "\n",
      "Evaluation Completed (valid)!\tLoss: 4.9636 Time: 4.510 s\n",
      "Saving model!\n",
      "Epoch 301:\n",
      "\n",
      "Evaluation Completed (valid)!\tLoss: 4.9641 Time: 3.956 s\n",
      "Not saving model! Last saved: 300\n",
      "Epoch 302:\n",
      "\n",
      "Evaluation Completed (valid)!\tLoss: 4.9661 Time: 3.511 s\n",
      "Not saving model! Last saved: 300\n",
      "Epoch 303:\n",
      "\n",
      "Evaluation Completed (valid)!\tLoss: 4.9622 Time: 3.330 s\n",
      "Saving model!\n",
      "Epoch 304:\n",
      "\n",
      "Evaluation Completed (valid)!\tLoss: 4.9615 Time: 3.323 s\n",
      "Saving model!\n",
      "Epoch 305:\n",
      "\n",
      "Evaluation Completed (valid)!\tLoss: 4.9636 Time: 3.331 s\n",
      "Not saving model! Last saved: 304\n",
      "Epoch 306:\n",
      "\n",
      "Evaluation Completed (valid)!\tLoss: 4.9537 Time: 3.330 s\n",
      "Saving model!\n",
      "Epoch 307:\n",
      "\n",
      "Evaluation Completed (valid)!\tLoss: 4.9573 Time: 3.331 s\n",
      "Not saving model! Last saved: 306\n",
      "Epoch 308:\n",
      "\n",
      "Evaluation Completed (valid)!\tLoss: 4.9567 Time: 3.329 s\n",
      "Not saving model! Last saved: 306\n",
      "Epoch 309:\n",
      "\n",
      "Evaluation Completed (valid)!\tLoss: 4.9545 Time: 3.326 s\n",
      "Not saving model! Last saved: 306\n",
      "Epoch 310:\n",
      "\n",
      "Evaluation Completed (valid)!\tLoss: 4.9496 Time: 3.325 s\n",
      "Saving model!\n",
      "Epoch 311:\n",
      "\n",
      "Evaluation Completed (valid)!\tLoss: 4.9499 Time: 3.328 s\n",
      "Not saving model! Last saved: 310\n",
      "Epoch 312:\n",
      "\n",
      "Evaluation Completed (valid)!\tLoss: 4.9479 Time: 3.323 s\n",
      "Saving model!\n",
      "Epoch 313:\n",
      "\n",
      "Evaluation Completed (valid)!\tLoss: 4.9477 Time: 3.327 s\n",
      "Saving model!\n",
      "Epoch 314:\n",
      "\n",
      "Evaluation Completed (valid)!\tLoss: 4.9438 Time: 3.328 s\n",
      "Saving model!\n",
      "Epoch 315:\n",
      "\n",
      "Evaluation Completed (valid)!\tLoss: 4.9417 Time: 3.322 s\n",
      "Saving model!\n",
      "Epoch 316:\n",
      "\n",
      "Evaluation Completed (valid)!\tLoss: 4.9442 Time: 3.326 s\n",
      "Not saving model! Last saved: 315\n",
      "Epoch 317:\n",
      "\n",
      "Evaluation Completed (valid)!\tLoss: 4.9425 Time: 3.328 s\n",
      "Not saving model! Last saved: 315\n",
      "Epoch 318:\n",
      "\n",
      "Evaluation Completed (valid)!\tLoss: 4.9412 Time: 3.330 s\n",
      "Saving model!\n",
      "Epoch 319:\n",
      "\n",
      "Evaluation Completed (valid)!\tLoss: 4.9429 Time: 3.448 s\n",
      "Not saving model! Last saved: 318\n",
      "Epoch 320:\n",
      "\n",
      "Evaluation Completed (valid)!\tLoss: 4.9388 Time: 3.724 s\n",
      "Saving model!\n",
      "Epoch 321:\n",
      "\n",
      "Evaluation Completed (valid)!\tLoss: 4.9335 Time: 3.858 s\n",
      "Saving model!\n",
      "Epoch 322:\n",
      "\n",
      "Evaluation Completed (valid)!\tLoss: 4.9352 Time: 3.887 s\n",
      "Not saving model! Last saved: 321\n",
      "Epoch 323:\n",
      "\n",
      "Evaluation Completed (valid)!\tLoss: 4.9385 Time: 3.862 s\n",
      "Not saving model! Last saved: 321\n",
      "Epoch 324:\n",
      "\n",
      "Evaluation Completed (valid)!\tLoss: 4.9320 Time: 3.783 s\n",
      "Saving model!\n",
      "Epoch 325:\n",
      "\n",
      "Evaluation Completed (valid)!\tLoss: 4.9289 Time: 3.472 s\n",
      "Saving model!\n",
      "Epoch 326:\n",
      "\n",
      "Evaluation Completed (valid)!\tLoss: 4.9334 Time: 3.291 s\n",
      "Not saving model! Last saved: 325\n",
      "Epoch 327:\n",
      "\n",
      "Evaluation Completed (valid)!\tLoss: 4.9290 Time: 3.292 s\n",
      "Not saving model! Last saved: 325\n",
      "Epoch 328:\n",
      "\n",
      "Evaluation Completed (valid)!\tLoss: 4.9247 Time: 3.295 s\n",
      "Saving model!\n",
      "Epoch 329:\n",
      "\n",
      "Evaluation Completed (valid)!\tLoss: 4.9214 Time: 3.294 s\n",
      "Saving model!\n",
      "Epoch 330:\n",
      "\n",
      "Evaluation Completed (valid)!\tLoss: 4.9229 Time: 3.298 s\n",
      "Not saving model! Last saved: 329\n",
      "Epoch 331:\n",
      "\n",
      "Evaluation Completed (valid)!\tLoss: 4.9232 Time: 3.290 s\n",
      "Not saving model! Last saved: 329\n",
      "Epoch 332:\n",
      "\n",
      "Evaluation Completed (valid)!\tLoss: 4.9204 Time: 3.297 s\n",
      "Saving model!\n",
      "Epoch 333:\n",
      "\n",
      "Evaluation Completed (valid)!\tLoss: 4.9194 Time: 3.295 s\n",
      "Saving model!\n",
      "Epoch 334:\n",
      "\n",
      "Evaluation Completed (valid)!\tLoss: 4.9257 Time: 3.293 s\n",
      "Not saving model! Last saved: 333\n",
      "Epoch 335:\n",
      "\n",
      "Evaluation Completed (valid)!\tLoss: 4.9141 Time: 3.296 s\n",
      "Saving model!\n",
      "Epoch 336:\n",
      "\n",
      "Evaluation Completed (valid)!\tLoss: 4.9153 Time: 3.290 s\n",
      "Not saving model! Last saved: 335\n",
      "Epoch 337:\n",
      "\n",
      "Evaluation Completed (valid)!\tLoss: 4.9136 Time: 3.299 s\n",
      "Saving model!\n",
      "Epoch 338:\n",
      "\n",
      "Evaluation Completed (valid)!\tLoss: 4.9133 Time: 3.296 s\n",
      "Saving model!\n",
      "Epoch 339:\n",
      "\n",
      "Evaluation Completed (valid)!\tLoss: 4.9113 Time: 3.294 s\n",
      "Saving model!\n",
      "Epoch 340:\n",
      "\n",
      "Evaluation Completed (valid)!\tLoss: 4.9107 Time: 3.293 s\n",
      "Saving model!\n",
      "Epoch 341:\n",
      "\n",
      "Evaluation Completed (valid)!\tLoss: 4.9085 Time: 3.294 s\n",
      "Saving model!\n",
      "Epoch 342:\n",
      "\n",
      "Evaluation Completed (valid)!\tLoss: 4.9087 Time: 3.288 s\n",
      "Not saving model! Last saved: 341\n",
      "Epoch 343:\n",
      "\n",
      "Evaluation Completed (valid)!\tLoss: 4.9063 Time: 3.296 s\n",
      "Saving model!\n",
      "Epoch 344:\n",
      "\n",
      "Evaluation Completed (valid)!\tLoss: 4.9109 Time: 3.301 s\n",
      "Not saving model! Last saved: 343\n",
      "Epoch 345:\n",
      "\n",
      "Evaluation Completed (valid)!\tLoss: 4.9050 Time: 3.302 s\n",
      "Saving model!\n",
      "Epoch 346:\n",
      "\n",
      "Evaluation Completed (valid)!\tLoss: 4.8988 Time: 3.344 s\n",
      "Saving model!\n",
      "Epoch 347:\n",
      "\n",
      "Evaluation Completed (valid)!\tLoss: 4.8998 Time: 3.316 s\n",
      "Not saving model! Last saved: 346\n",
      "Epoch 348:\n",
      "\n",
      "Evaluation Completed (valid)!\tLoss: 4.8990 Time: 3.306 s\n",
      "Not saving model! Last saved: 346\n",
      "Epoch 349:\n",
      "\n",
      "Evaluation Completed (valid)!\tLoss: 4.8989 Time: 3.307 s\n",
      "Not saving model! Last saved: 346\n",
      "Epoch 350:\n",
      "\n",
      "Evaluation Completed (valid)!\tLoss: 4.8963 Time: 3.309 s\n",
      "Saving model!\n",
      "Epoch 351:\n"
     ]
    },
    {
     "ename": "KeyboardInterrupt",
     "evalue": "",
     "output_type": "error",
     "traceback": [
      "\u001b[0;31m---------------------------------------------------------------------------\u001b[0m",
      "\u001b[0;31mKeyboardInterrupt\u001b[0m                         Traceback (most recent call last)",
      "\u001b[0;32m<ipython-input-63-d6420c8b9bbb>\u001b[0m in \u001b[0;36m<module>\u001b[0;34m\u001b[0m\n\u001b[1;32m      7\u001b[0m     \u001b[0mprint\u001b[0m\u001b[0;34m(\u001b[0m\u001b[0;34m\"Epoch {}:\"\u001b[0m\u001b[0;34m.\u001b[0m\u001b[0mformat\u001b[0m\u001b[0;34m(\u001b[0m\u001b[0mepoch\u001b[0m\u001b[0;34m)\u001b[0m\u001b[0;34m)\u001b[0m\u001b[0;34m\u001b[0m\u001b[0;34m\u001b[0m\u001b[0m\n\u001b[1;32m      8\u001b[0m     \u001b[0mtrain\u001b[0m\u001b[0;34m(\u001b[0m\u001b[0;34m)\u001b[0m\u001b[0;34m\u001b[0m\u001b[0;34m\u001b[0m\u001b[0m\n\u001b[0;32m----> 9\u001b[0;31m     \u001b[0mcur_loss\u001b[0m \u001b[0;34m=\u001b[0m \u001b[0mevaluate\u001b[0m\u001b[0;34m(\u001b[0m\u001b[0;34m)\u001b[0m\u001b[0;34m\u001b[0m\u001b[0;34m\u001b[0m\u001b[0m\n\u001b[0m\u001b[1;32m     10\u001b[0m \u001b[0;34m\u001b[0m\u001b[0m\n\u001b[1;32m     11\u001b[0m     \u001b[0;32mif\u001b[0m \u001b[0mcur_loss\u001b[0m \u001b[0;34m<=\u001b[0m \u001b[0mBEST_LOSS\u001b[0m\u001b[0;34m:\u001b[0m\u001b[0;34m\u001b[0m\u001b[0;34m\u001b[0m\u001b[0m\n",
      "\u001b[0;32m<ipython-input-46-3d27e0ec4f11>\u001b[0m in \u001b[0;36mevaluate\u001b[0;34m(split)\u001b[0m\n\u001b[1;32m      6\u001b[0m \u001b[0;34m\u001b[0m\u001b[0m\n\u001b[1;32m      7\u001b[0m     \u001b[0;32mwith\u001b[0m \u001b[0mtorch\u001b[0m\u001b[0;34m.\u001b[0m\u001b[0mno_grad\u001b[0m\u001b[0;34m(\u001b[0m\u001b[0;34m)\u001b[0m\u001b[0;34m:\u001b[0m\u001b[0;34m\u001b[0m\u001b[0;34m\u001b[0m\u001b[0m\n\u001b[0;32m----> 8\u001b[0;31m         \u001b[0;32mfor\u001b[0m \u001b[0mbatch_idx\u001b[0m\u001b[0;34m,\u001b[0m \u001b[0mx\u001b[0m \u001b[0;32min\u001b[0m \u001b[0menumerate\u001b[0m\u001b[0;34m(\u001b[0m\u001b[0mbkgAE_test_iterator\u001b[0m\u001b[0;34m)\u001b[0m\u001b[0;34m:\u001b[0m\u001b[0;34m\u001b[0m\u001b[0;34m\u001b[0m\u001b[0m\n\u001b[0m\u001b[1;32m      9\u001b[0m \u001b[0;34m\u001b[0m\u001b[0m\n\u001b[1;32m     10\u001b[0m             \u001b[0mx\u001b[0m \u001b[0;34m=\u001b[0m \u001b[0mx\u001b[0m\u001b[0;34m.\u001b[0m\u001b[0mfloat\u001b[0m\u001b[0;34m(\u001b[0m\u001b[0;34m)\u001b[0m\u001b[0;34m.\u001b[0m\u001b[0mcuda\u001b[0m\u001b[0;34m(\u001b[0m\u001b[0;34m)\u001b[0m\u001b[0;34m\u001b[0m\u001b[0;34m\u001b[0m\u001b[0m\n",
      "\u001b[0;32m~/miniconda3/envs/myenv/lib/python3.6/site-packages/torch/utils/data/dataloader.py\u001b[0m in \u001b[0;36m__next__\u001b[0;34m(self)\u001b[0m\n\u001b[1;32m    344\u001b[0m     \u001b[0;32mdef\u001b[0m \u001b[0m__next__\u001b[0m\u001b[0;34m(\u001b[0m\u001b[0mself\u001b[0m\u001b[0;34m)\u001b[0m\u001b[0;34m:\u001b[0m\u001b[0;34m\u001b[0m\u001b[0;34m\u001b[0m\u001b[0m\n\u001b[1;32m    345\u001b[0m         \u001b[0mindex\u001b[0m \u001b[0;34m=\u001b[0m \u001b[0mself\u001b[0m\u001b[0;34m.\u001b[0m\u001b[0m_next_index\u001b[0m\u001b[0;34m(\u001b[0m\u001b[0;34m)\u001b[0m  \u001b[0;31m# may raise StopIteration\u001b[0m\u001b[0;34m\u001b[0m\u001b[0;34m\u001b[0m\u001b[0m\n\u001b[0;32m--> 346\u001b[0;31m         \u001b[0mdata\u001b[0m \u001b[0;34m=\u001b[0m \u001b[0mself\u001b[0m\u001b[0;34m.\u001b[0m\u001b[0m_dataset_fetcher\u001b[0m\u001b[0;34m.\u001b[0m\u001b[0mfetch\u001b[0m\u001b[0;34m(\u001b[0m\u001b[0mindex\u001b[0m\u001b[0;34m)\u001b[0m  \u001b[0;31m# may raise StopIteration\u001b[0m\u001b[0;34m\u001b[0m\u001b[0;34m\u001b[0m\u001b[0m\n\u001b[0m\u001b[1;32m    347\u001b[0m         \u001b[0;32mif\u001b[0m \u001b[0mself\u001b[0m\u001b[0;34m.\u001b[0m\u001b[0m_pin_memory\u001b[0m\u001b[0;34m:\u001b[0m\u001b[0;34m\u001b[0m\u001b[0;34m\u001b[0m\u001b[0m\n\u001b[1;32m    348\u001b[0m             \u001b[0mdata\u001b[0m \u001b[0;34m=\u001b[0m \u001b[0m_utils\u001b[0m\u001b[0;34m.\u001b[0m\u001b[0mpin_memory\u001b[0m\u001b[0;34m.\u001b[0m\u001b[0mpin_memory\u001b[0m\u001b[0;34m(\u001b[0m\u001b[0mdata\u001b[0m\u001b[0;34m)\u001b[0m\u001b[0;34m\u001b[0m\u001b[0;34m\u001b[0m\u001b[0m\n",
      "\u001b[0;32m~/miniconda3/envs/myenv/lib/python3.6/site-packages/torch/utils/data/_utils/fetch.py\u001b[0m in \u001b[0;36mfetch\u001b[0;34m(self, possibly_batched_index)\u001b[0m\n\u001b[1;32m     45\u001b[0m         \u001b[0;32melse\u001b[0m\u001b[0;34m:\u001b[0m\u001b[0;34m\u001b[0m\u001b[0;34m\u001b[0m\u001b[0m\n\u001b[1;32m     46\u001b[0m             \u001b[0mdata\u001b[0m \u001b[0;34m=\u001b[0m \u001b[0mself\u001b[0m\u001b[0;34m.\u001b[0m\u001b[0mdataset\u001b[0m\u001b[0;34m[\u001b[0m\u001b[0mpossibly_batched_index\u001b[0m\u001b[0;34m]\u001b[0m\u001b[0;34m\u001b[0m\u001b[0;34m\u001b[0m\u001b[0m\n\u001b[0;32m---> 47\u001b[0;31m         \u001b[0;32mreturn\u001b[0m \u001b[0mself\u001b[0m\u001b[0;34m.\u001b[0m\u001b[0mcollate_fn\u001b[0m\u001b[0;34m(\u001b[0m\u001b[0mdata\u001b[0m\u001b[0;34m)\u001b[0m\u001b[0;34m\u001b[0m\u001b[0;34m\u001b[0m\u001b[0m\n\u001b[0m",
      "\u001b[0;32m~/miniconda3/envs/myenv/lib/python3.6/site-packages/torch/utils/data/_utils/collate.py\u001b[0m in \u001b[0;36mdefault_collate\u001b[0;34m(batch)\u001b[0m\n\u001b[1;32m     53\u001b[0m             \u001b[0mstorage\u001b[0m \u001b[0;34m=\u001b[0m \u001b[0melem\u001b[0m\u001b[0;34m.\u001b[0m\u001b[0mstorage\u001b[0m\u001b[0;34m(\u001b[0m\u001b[0;34m)\u001b[0m\u001b[0;34m.\u001b[0m\u001b[0m_new_shared\u001b[0m\u001b[0;34m(\u001b[0m\u001b[0mnumel\u001b[0m\u001b[0;34m)\u001b[0m\u001b[0;34m\u001b[0m\u001b[0;34m\u001b[0m\u001b[0m\n\u001b[1;32m     54\u001b[0m             \u001b[0mout\u001b[0m \u001b[0;34m=\u001b[0m \u001b[0melem\u001b[0m\u001b[0;34m.\u001b[0m\u001b[0mnew\u001b[0m\u001b[0;34m(\u001b[0m\u001b[0mstorage\u001b[0m\u001b[0;34m)\u001b[0m\u001b[0;34m\u001b[0m\u001b[0;34m\u001b[0m\u001b[0m\n\u001b[0;32m---> 55\u001b[0;31m         \u001b[0;32mreturn\u001b[0m \u001b[0mtorch\u001b[0m\u001b[0;34m.\u001b[0m\u001b[0mstack\u001b[0m\u001b[0;34m(\u001b[0m\u001b[0mbatch\u001b[0m\u001b[0;34m,\u001b[0m \u001b[0;36m0\u001b[0m\u001b[0;34m,\u001b[0m \u001b[0mout\u001b[0m\u001b[0;34m=\u001b[0m\u001b[0mout\u001b[0m\u001b[0;34m)\u001b[0m\u001b[0;34m\u001b[0m\u001b[0;34m\u001b[0m\u001b[0m\n\u001b[0m\u001b[1;32m     56\u001b[0m     \u001b[0;32melif\u001b[0m \u001b[0melem_type\u001b[0m\u001b[0;34m.\u001b[0m\u001b[0m__module__\u001b[0m \u001b[0;34m==\u001b[0m \u001b[0;34m'numpy'\u001b[0m \u001b[0;32mand\u001b[0m \u001b[0melem_type\u001b[0m\u001b[0;34m.\u001b[0m\u001b[0m__name__\u001b[0m \u001b[0;34m!=\u001b[0m \u001b[0;34m'str_'\u001b[0m\u001b[0;31m \u001b[0m\u001b[0;31m\\\u001b[0m\u001b[0;34m\u001b[0m\u001b[0;34m\u001b[0m\u001b[0m\n\u001b[1;32m     57\u001b[0m             \u001b[0;32mand\u001b[0m \u001b[0melem_type\u001b[0m\u001b[0;34m.\u001b[0m\u001b[0m__name__\u001b[0m \u001b[0;34m!=\u001b[0m \u001b[0;34m'string_'\u001b[0m\u001b[0;34m:\u001b[0m\u001b[0;34m\u001b[0m\u001b[0;34m\u001b[0m\u001b[0m\n",
      "\u001b[0;31mKeyboardInterrupt\u001b[0m: "
     ]
    }
   ],
   "source": [
    "N_EPOCHS = 10\n",
    "BEST_LOSS = 99999999\n",
    "LAST_SAVED = -1\n",
    "PATIENCE_COUNT = 0\n",
    "PATIENCE_LIMIT = 5\n",
    "for epoch in range(1, 1000):\n",
    "    print(\"Epoch {}:\".format(epoch))\n",
    "    train()\n",
    "    cur_loss = evaluate()\n",
    "\n",
    "    if cur_loss <= BEST_LOSS:\n",
    "        PATIENCE_COUNT = 0\n",
    "        BEST_LOSS = cur_loss\n",
    "        LAST_SAVED = epoch\n",
    "        print(\"Saving model!\")\n",
    "        if mode == 'ROC':\n",
    "            torch.save(model.state_dict(),\"/data/t3home000/spark/QUASAR/weights/bkg_vae_NF_planar_RND_cwola.h5\")\n",
    "        else:\n",
    "            torch.save(model.state_dict(), \"/data/t3home000/spark/QUASAR/weights/bkg_vae_NF_planar_PureBkg_22var.h5\")\n",
    "    else:\n",
    "        PATIENCE_COUNT += 1\n",
    "        print(\"Not saving model! Last saved: {}\".format(LAST_SAVED))\n",
    "        if PATIENCE_COUNT > 5:\n",
    "            print(\"Patience Limit Reached\")\n",
    "            break "
   ]
  },
  {
   "cell_type": "code",
   "execution_count": 64,
   "metadata": {},
   "outputs": [
    {
     "data": {
      "text/plain": [
       "<All keys matched successfully>"
      ]
     },
     "execution_count": 64,
     "metadata": {},
     "output_type": "execute_result"
    }
   ],
   "source": [
    "model.load_state_dict(torch.load(\"/data/t3home000/spark/QUASAR/weights/bkg_vae_NF_planar_RND_cwola.h5\"))"
   ]
  },
  {
   "cell_type": "markdown",
   "metadata": {},
   "source": [
    "## Testing with the trained model"
   ]
  },
  {
   "cell_type": "code",
   "execution_count": 198,
   "metadata": {},
   "outputs": [],
   "source": [
    "def get_loss(dt):\n",
    "    print(dt.shape)\n",
    "    \n",
    "    #for i in index_list:\n",
    "    #    print(i)\n",
    "    #    dt[:,i] = (dt[:,i]-np.mean(dt[:,i]))/np.std(dt[:,i])\n",
    "  \n",
    "    \n",
    "    total_in = torch.tensor(dt)\n",
    "    #total_in_train_x_1 = total_in.t()[0:6].t()\n",
    "    #total_in_train_x_3 = total_in.t()[7:13].t()\n",
    "    total_in_selection = total_in\n",
    "    #z_mu, z_var  = model.enc(total_in_selection.float().cuda())\n",
    "    #x_sample, z_mu, z_var = model(total_in_selection.float().cuda())\n",
    "    #std = torch.exp(z_var / 2)\n",
    "    #eps = torch.randn_like(std)\n",
    "    #x_sample = eps.mul(std).add_(z_mu)\n",
    "    #decoded_bkg = model.dec(x_sample)\n",
    "    #recon_loss = np.zeros(len(dt),dtype=np.float)\n",
    "    #for i in range(len(dt)):\n",
    "    #    recon_loss[i] = F.binary_cross_entropy(x_sample[i].float().cuda(), total_in_selection[i].float().cuda(), size_average=False).data.cpu().numpy()\n",
    "    \n",
    "    #loss_bkg = torch.mean((x_sample.float().cuda()-total_in_selection.float().cuda())**2,dim=1).data.cpu().numpy()\n",
    "\n",
    "\n",
    "    \n",
    "    with torch.no_grad():\n",
    "         #reconstruction loss\n",
    "        #x_sample, z_mu, z_var = model(total_in_selection.float().cuda())\n",
    "        #recon_loss = F.binary_cross_entropy(x_sample, total_in_selection.float().cuda(), size_average=False, reduce=None)\n",
    "        \n",
    "\n",
    "        #kl divergence loss\n",
    "        #kl_loss = 0.5 * torch.sum(torch.exp(z_var) + z_mu**2 - 1.0 - z_var)\n",
    "\n",
    "        #total loss\n",
    "        #loss = recon_loss + kl_loss\n",
    "        loss = torch.mean((model(total_in_selection.float().cuda())[0]- total_in_selection.float().cuda())**2,dim=1).data.cpu().numpy()\n",
    "    \n",
    "    return loss"
   ]
  },
  {
   "cell_type": "code",
   "execution_count": 66,
   "metadata": {},
   "outputs": [],
   "source": [
    "out = model(torch.tensor(X[bkg_idx]).float().cuda())[0]\n",
    "out = out.data.cpu().numpy()"
   ]
  },
  {
   "cell_type": "code",
   "execution_count": 68,
   "metadata": {},
   "outputs": [
    {
     "data": {
      "text/plain": [
       "(992924, 12)"
      ]
     },
     "execution_count": 68,
     "metadata": {},
     "output_type": "execute_result"
    }
   ],
   "source": [
    "out.shape"
   ]
  },
  {
   "cell_type": "code",
   "execution_count": 69,
   "metadata": {},
   "outputs": [],
   "source": [
    "out2 = model(torch.tensor(X[signal_idx]).float().cuda())[0]"
   ]
  },
  {
   "cell_type": "code",
   "execution_count": 70,
   "metadata": {},
   "outputs": [],
   "source": [
    "out2 = out2.data.cpu().numpy()"
   ]
  },
  {
   "cell_type": "code",
   "execution_count": 77,
   "metadata": {},
   "outputs": [
    {
     "name": "stdout",
     "output_type": "stream",
     "text": [
      "j1 tau54\n"
     ]
    },
    {
     "data": {
      "text/plain": [
       "<matplotlib.lines.Line2D at 0x7f5fb06396a0>"
      ]
     },
     "execution_count": 77,
     "metadata": {},
     "output_type": "execute_result"
    },
    {
     "data": {
      "image/png": "[encoded data removed]",
      "text/plain": [
       "<Figure size 432x288 with 1 Axes>"
      ]
     },
     "metadata": {
      "needs_background": "light"
     },
     "output_type": "display_data"
    }
   ],
   "source": [
    "bins = np.linspace(-3,3,100)\n",
    "bins.shape\n",
    "column = 7\n",
    "print(f_rnd.columns[column])\n",
    "plt.hist(X[bkg_idx,column],bins,alpha=0.5,color='b');\n",
    "plt.hist(out[:,column],bins,alpha=0.5,color='r');\n",
    "plt.hist(out2[:,column],bins,alpha=0.5,color='g');\n",
    "plt.axvline(np.mean(X[bkg_idx,column]))"
   ]
  },
  {
   "cell_type": "code",
   "execution_count": null,
   "metadata": {},
   "outputs": [],
   "source": []
  },
  {
   "cell_type": "code",
   "execution_count": 78,
   "metadata": {},
   "outputs": [
    {
     "data": {
      "text/plain": [
       "(99829, 12)"
      ]
     },
     "execution_count": 78,
     "metadata": {},
     "output_type": "execute_result"
    }
   ],
   "source": [
    "X[signal_idx].shape"
   ]
  },
  {
   "cell_type": "code",
   "execution_count": 89,
   "metadata": {},
   "outputs": [
    {
     "name": "stdout",
     "output_type": "stream",
     "text": [
      "(992924, 12)\n",
      "(99829, 12)\n"
     ]
    }
   ],
   "source": [
    "loss_bkg = get_loss(X[bkg_idx])\n",
    "loss_sig = get_loss(X[signal_idx])"
   ]
  },
  {
   "cell_type": "code",
   "execution_count": 90,
   "metadata": {},
   "outputs": [
    {
     "data": {
      "text/plain": [
       "array([0.3900876 , 0.8378627 , 0.5801927 , ..., 0.4310437 , 0.18108658,\n",
       "       0.6342451 ], dtype=float32)"
      ]
     },
     "execution_count": 90,
     "metadata": {},
     "output_type": "execute_result"
    }
   ],
   "source": [
    "loss_bkg"
   ]
  },
  {
   "cell_type": "code",
   "execution_count": 91,
   "metadata": {},
   "outputs": [
    {
     "data": {
      "image/png": "[encoded data removed]",
      "text/plain": [
       "<Figure size 720x720 with 1 Axes>"
      ]
     },
     "metadata": {
      "needs_background": "light"
     },
     "output_type": "display_data"
    }
   ],
   "source": [
    "plt.rcParams[\"figure.figsize\"] = (10,10)\n",
    "bins = np.linspace(0,5,100)\n",
    "plt.hist(loss_bkg,bins=bins,alpha=0.3,color='b',label='bkg')\n",
    "plt.hist(loss_sig,bins=bins,weights=np.ones(len(loss_sig))*1,alpha=0.3,color='r',label='sig')\n",
    "plt.xlabel(r'Autoencoder Loss')\n",
    "plt.ylabel('Count')\n",
    "plt.legend(loc='upper right')\n",
    "plt.show()"
   ]
  },
  {
   "cell_type": "code",
   "execution_count": 92,
   "metadata": {},
   "outputs": [],
   "source": [
    "def get_tpr_fpr(sigloss,bkgloss,aetype='sig'):\n",
    "    bins = np.linspace(0,50,1001)\n",
    "    tpr = []\n",
    "    fpr = []\n",
    "    for cut in bins:\n",
    "        if aetype == 'sig':\n",
    "            tpr.append(np.where(sigloss<cut)[0].shape[0]/len(sigloss))\n",
    "            fpr.append(np.where(bkgloss<cut)[0].shape[0]/len(bkgloss))\n",
    "        if aetype == 'bkg':\n",
    "            tpr.append(np.where(sigloss>cut)[0].shape[0]/len(sigloss))\n",
    "            fpr.append(np.where(bkgloss>cut)[0].shape[0]/len(bkgloss))\n",
    "    return tpr,fpr        "
   ]
  },
  {
   "cell_type": "code",
   "execution_count": 93,
   "metadata": {},
   "outputs": [],
   "source": [
    "bkg_tpr5, bkg_fpr5 = get_tpr_fpr(loss_sig,loss_bkg,aetype='bkg')"
   ]
  },
  {
   "cell_type": "code",
   "execution_count": 85,
   "metadata": {},
   "outputs": [
    {
     "ename": "NameError",
     "evalue": "name 'bkg_fpr' is not defined",
     "output_type": "error",
     "traceback": [
      "\u001b[0;31m---------------------------------------------------------------------------\u001b[0m",
      "\u001b[0;31mNameError\u001b[0m                                 Traceback (most recent call last)",
      "\u001b[0;32m<ipython-input-85-88dbc1057e6e>\u001b[0m in \u001b[0;36m<module>\u001b[0;34m\u001b[0m\n\u001b[0;32m----> 1\u001b[0;31m \u001b[0mnp\u001b[0m\u001b[0;34m.\u001b[0m\u001b[0msave\u001b[0m\u001b[0;34m(\u001b[0m\u001b[0;34m'NFLOWVAE_PlanarNEW_bkgAE_fpr.npy'\u001b[0m\u001b[0;34m,\u001b[0m\u001b[0mbkg_fpr\u001b[0m\u001b[0;34m)\u001b[0m\u001b[0;34m\u001b[0m\u001b[0;34m\u001b[0m\u001b[0m\n\u001b[0m\u001b[1;32m      2\u001b[0m \u001b[0mnp\u001b[0m\u001b[0;34m.\u001b[0m\u001b[0msave\u001b[0m\u001b[0;34m(\u001b[0m\u001b[0;34m'NFLOWVAE_PlanarNEW_bkgAE_tpr.npy'\u001b[0m\u001b[0;34m,\u001b[0m\u001b[0mbkg_tpr\u001b[0m\u001b[0;34m)\u001b[0m\u001b[0;34m\u001b[0m\u001b[0;34m\u001b[0m\u001b[0m\n",
      "\u001b[0;31mNameError\u001b[0m: name 'bkg_fpr' is not defined"
     ]
    }
   ],
   "source": [
    "np.save('NFLOWVAE_PlanarNEW_bkgAE_fpr.npy',bkg_fpr)\n",
    "np.save('NFLOWVAE_PlanarNEW_bkgAE_tpr.npy',bkg_tpr)"
   ]
  },
  {
   "cell_type": "code",
   "execution_count": 94,
   "metadata": {},
   "outputs": [
    {
     "data": {
      "text/plain": [
       "[<matplotlib.lines.Line2D at 0x7f5fa4267208>]"
      ]
     },
     "execution_count": 94,
     "metadata": {},
     "output_type": "execute_result"
    },
    {
     "data": {
      "image/png": "[encoded data removed]",
      "text/plain": [
       "<Figure size 720x720 with 1 Axes>"
      ]
     },
     "metadata": {
      "needs_background": "light"
     },
     "output_type": "display_data"
    }
   ],
   "source": [
    "#plt.plot(bkg_fpr,bkg_tpr,label='Bkg NFlowVAE-Planar')\n",
    "#plt.plot(bkg_fpr2,bkg_tpr2,label='Bkg NFlowVAE-Planar (w/mass)')\n",
    "#plt.plot(bkg_fpr3,bkg_tpr3,label='Bkg NFlowVAE-Planar (w/mass)')\n",
    "plt.plot(bkg_fpr4,bkg_tpr4,label='Bkg NFlowVAE-Planar cwola')\n",
    "plt.plot(bkg_fpr5,bkg_tpr5,label='Bkg NFlowVAE-Planar cwola(mean)')"
   ]
  },
  {
   "cell_type": "markdown",
   "metadata": {},
   "source": [
    "# Signal Autoencoder"
   ]
  },
  {
   "cell_type": "code",
   "execution_count": null,
   "metadata": {},
   "outputs": [],
   "source": [
    "prong_2 = pd.read_hdf(\"/data/t3home000/spark/QUASAR/preprocessing/conventional_tau_rnd.h5\")\n",
    "prong_3 = pd.read_hdf(\"/data/t3home000/spark/QUASAR/preprocessing/conventional_tau_3prong_rnd.h5\")"
   ]
  },
  {
   "cell_type": "code",
   "execution_count": null,
   "metadata": {},
   "outputs": [],
   "source": [
    "#nprong = 2\n",
    "#nprong = 3"
   ]
  },
  {
   "cell_type": "code",
   "execution_count": 1,
   "metadata": {},
   "outputs": [
    {
     "ename": "NameError",
     "evalue": "name 'nprong' is not defined",
     "output_type": "error",
     "traceback": [
      "\u001b[0;31m---------------------------------------------------------------------------\u001b[0m",
      "\u001b[0;31mNameError\u001b[0m                                 Traceback (most recent call last)",
      "\u001b[0;32m<ipython-input-1-fa676f72548d>\u001b[0m in \u001b[0;36m<module>\u001b[0;34m\u001b[0m\n\u001b[0;32m----> 1\u001b[0;31m \u001b[0;32mif\u001b[0m \u001b[0mnprong\u001b[0m \u001b[0;34m==\u001b[0m \u001b[0;36m2\u001b[0m\u001b[0;34m:\u001b[0m\u001b[0;34m\u001b[0m\u001b[0;34m\u001b[0m\u001b[0m\n\u001b[0m\u001b[1;32m      2\u001b[0m     \u001b[0mdt\u001b[0m \u001b[0;34m=\u001b[0m \u001b[0mprong_2\u001b[0m\u001b[0;34m.\u001b[0m\u001b[0mvalues\u001b[0m\u001b[0;34m\u001b[0m\u001b[0;34m\u001b[0m\u001b[0m\n",
      "\u001b[0;31mNameError\u001b[0m: name 'nprong' is not defined"
     ]
    }
   ],
   "source": [
    "if nprong == 2:\n",
    "    dt = prong_2.values\n",
    "    "
   ]
  },
  {
   "cell_type": "code",
   "execution_count": null,
   "metadata": {},
   "outputs": [],
   "source": [
    "#nprong = 2\n",
    "#nprong = 3\n"
   ]
  },
  {
   "cell_type": "code",
   "execution_count": null,
   "metadata": {},
   "outputs": [],
   "source": []
  },
  {
   "cell_type": "code",
   "execution_count": null,
   "metadata": {},
   "outputs": [],
   "source": [
    " = pd.read_hdf(\"/data/t3home000/spark/QUASAR/preprocessing/conventional_tau_rnd.h5\")"
   ]
  },
  {
   "cell_type": "code",
   "execution_count": null,
   "metadata": {},
   "outputs": [],
   "source": []
  },
  {
   "cell_type": "code",
   "execution_count": null,
   "metadata": {},
   "outputs": [],
   "source": []
  },
  {
   "cell_type": "code",
   "execution_count": null,
   "metadata": {},
   "outputs": [],
   "source": []
  },
  {
   "cell_type": "code",
   "execution_count": null,
   "metadata": {},
   "outputs": [],
   "source": []
  },
  {
   "cell_type": "code",
   "execution_count": 1,
   "metadata": {},
   "outputs": [
    {
     "ename": "NameError",
     "evalue": "name 'dt' is not defined",
     "output_type": "error",
     "traceback": [
      "\u001b[0;31m---------------------------------------------------------------------------\u001b[0m",
      "\u001b[0;31mNameError\u001b[0m                                 Traceback (most recent call last)",
      "\u001b[0;32m<ipython-input-1-6b0c1fddf2ca>\u001b[0m in \u001b[0;36m<module>\u001b[0;34m\u001b[0m\n\u001b[0;32m----> 1\u001b[0;31m \u001b[0mdt\u001b[0m\u001b[0;34m.\u001b[0m\u001b[0mshape\u001b[0m\u001b[0;34m\u001b[0m\u001b[0;34m\u001b[0m\u001b[0m\n\u001b[0m",
      "\u001b[0;31mNameError\u001b[0m: name 'dt' is not defined"
     ]
    }
   ],
   "source": [
    "dt.shape"
   ]
  },
  {
   "cell_type": "code",
   "execution_count": 113,
   "metadata": {},
   "outputs": [
    {
     "data": {
      "text/plain": [
       "array([      4,       8,      19, ..., 1092706, 1092712, 1092720])"
      ]
     },
     "execution_count": 113,
     "metadata": {},
     "output_type": "execute_result"
    }
   ],
   "source": [
    "signal_idx"
   ]
  },
  {
   "cell_type": "code",
   "execution_count": 114,
   "metadata": {},
   "outputs": [],
   "source": [
    "Y = dt[:,[3,4,5,6,11,12,19,20,21,22,27,28]]\n",
    "Y = Y[signal_idx]"
   ]
  },
  {
   "cell_type": "code",
   "execution_count": 115,
   "metadata": {},
   "outputs": [
    {
     "data": {
      "text/plain": [
       "(99829, 12)"
      ]
     },
     "execution_count": 115,
     "metadata": {},
     "output_type": "execute_result"
    }
   ],
   "source": [
    "Y.shape"
   ]
  },
  {
   "cell_type": "code",
   "execution_count": 116,
   "metadata": {},
   "outputs": [],
   "source": [
    "sig_mean = []\n",
    "sig_std = []"
   ]
  },
  {
   "cell_type": "code",
   "execution_count": 221,
   "metadata": {},
   "outputs": [
    {
     "data": {
      "text/plain": [
       "[416.4436327724198,\n",
       " 0.259460143970101,\n",
       " 0.6475599434564594,\n",
       " 0.7747571031756559,\n",
       " 1.4414801240204307,\n",
       " 232.28881387172063,\n",
       " 115.19219609387073,\n",
       " 0.4000458937255977,\n",
       " 0.6497184345343743,\n",
       " 0.7592483240780288,\n",
       " 1.5724873295094448,\n",
       " 139.77741938715204]"
      ]
     },
     "execution_count": 221,
     "metadata": {},
     "output_type": "execute_result"
    }
   ],
   "source": [
    "sig_mean"
   ]
  },
  {
   "cell_type": "code",
   "execution_count": 117,
   "metadata": {},
   "outputs": [],
   "source": [
    "for i in range(12):\n",
    "    mean = np.mean(Y[:,i])\n",
    "    std = np.std(Y[:,i])\n",
    "    sig_mean.append(mean)\n",
    "    sig_std.append(std)\n",
    "    Y[:,i] = (Y[:,i]-mean)/std"
   ]
  },
  {
   "cell_type": "code",
   "execution_count": 118,
   "metadata": {},
   "outputs": [
    {
     "data": {
      "text/plain": [
       "[416.4436327724198,\n",
       " 0.259460143970101,\n",
       " 0.6475599434564594,\n",
       " 0.7747571031756559,\n",
       " 1.4414801240204307,\n",
       " 232.28881387172063,\n",
       " 115.19219609387073,\n",
       " 0.4000458937255977,\n",
       " 0.6497184345343743,\n",
       " 0.7592483240780288,\n",
       " 1.5724873295094448,\n",
       " 139.77741938715204]"
      ]
     },
     "execution_count": 118,
     "metadata": {},
     "output_type": "execute_result"
    }
   ],
   "source": [
    "sig_mean"
   ]
  },
  {
   "cell_type": "code",
   "execution_count": 119,
   "metadata": {},
   "outputs": [
    {
     "data": {
      "text/plain": [
       "[154.19379540115423,\n",
       " 0.17056704944179107,\n",
       " 0.14978212617036485,\n",
       " 0.09894407762923978,\n",
       " 0.4886539241053714,\n",
       " 87.70941099970253,\n",
       " 49.68849330603538,\n",
       " 0.1622952691607605,\n",
       " 0.14863130231138283,\n",
       " 0.10503384225762816,\n",
       " 0.6713928483438475,\n",
       " 48.672440905600446]"
      ]
     },
     "execution_count": 119,
     "metadata": {},
     "output_type": "execute_result"
    }
   ],
   "source": [
    "sig_std"
   ]
  },
  {
   "cell_type": "code",
   "execution_count": 120,
   "metadata": {},
   "outputs": [],
   "source": [
    "total_sig = torch.tensor(Y)"
   ]
  },
  {
   "cell_type": "code",
   "execution_count": 121,
   "metadata": {},
   "outputs": [
    {
     "data": {
      "text/plain": [
       "torch.Size([99829, 12])"
      ]
     },
     "execution_count": 121,
     "metadata": {},
     "output_type": "execute_result"
    }
   ],
   "source": [
    "total_sig.shape"
   ]
  },
  {
   "cell_type": "code",
   "execution_count": 122,
   "metadata": {},
   "outputs": [],
   "source": [
    "sigmodel = VAE_NF(N_FLOWS, Z_DIM).cuda()"
   ]
  },
  {
   "cell_type": "code",
   "execution_count": 126,
   "metadata": {},
   "outputs": [],
   "source": [
    "bs = 2000\n",
    "sig_train_iterator = utils.DataLoader(total_sig, batch_size=bs, shuffle=True) \n",
    "sig_test_iterator = utils.DataLoader(total_sig, batch_size=bs)"
   ]
  },
  {
   "cell_type": "code",
   "execution_count": 152,
   "metadata": {},
   "outputs": [],
   "source": [
    "sigoptimizer = optim.Adam(sigmodel.parameters(), lr=1e-5)"
   ]
  },
  {
   "cell_type": "code",
   "execution_count": 128,
   "metadata": {},
   "outputs": [],
   "source": [
    "def sigtrain():\n",
    "    global n_steps\n",
    "    train_loss = []\n",
    "    sigmodel.train()\n",
    "\n",
    "    for batch_idx, x in enumerate(sig_train_iterator):\n",
    "        start_time = time.time()\n",
    "        \n",
    "        x = x.float().cuda()\n",
    "\n",
    "        x_tilde, kl_div = sigmodel(x)\n",
    "        mseloss = nn.MSELoss(size_average=False)\n",
    "        #loss_recons = F.binary_cross_entropy(x_tilde, x, size_average=False) / x.size(0)\n",
    "        loss_recons = mseloss(x_tilde,x ) / x.size(0)\n",
    "        loss = loss_recons + kl_div\n",
    "\n",
    "        sigoptimizer.zero_grad()\n",
    "        loss.backward()\n",
    "        sigoptimizer.step()\n",
    "\n",
    "        train_loss.append([loss_recons.item(), kl_div.item()])\n",
    "\n",
    "        if (batch_idx + 1) % PRINT_INTERVAL == 0:\n",
    "            print('\\tIter [{}/{} ({:.0f}%)]\\tLoss: {} Time: {:5.3f} ms/batch'.format(\n",
    "                batch_idx * len(x), 50000,\n",
    "                PRINT_INTERVAL * batch_idx / 50000,\n",
    "                np.asarray(train_loss)[-PRINT_INTERVAL:].mean(0),\n",
    "                1000 * (time.time() - start_time)\n",
    "            ))\n",
    "\n",
    "        n_steps += 1"
   ]
  },
  {
   "cell_type": "code",
   "execution_count": 129,
   "metadata": {},
   "outputs": [],
   "source": [
    "def sigevaluate(split='valid'):\n",
    "    global n_steps\n",
    "    start_time = time.time()\n",
    "    val_loss = []\n",
    "    sigmodel.eval()\n",
    "\n",
    "    with torch.no_grad():\n",
    "        for batch_idx, x in enumerate(sig_test_iterator):\n",
    "            \n",
    "            x = x.float().cuda()\n",
    "\n",
    "            x_tilde, kl_div = sigmodel(x)\n",
    "            mseloss = nn.MSELoss(size_average=False)\n",
    "            #loss_recons = F.binary_cross_entropy(x_tilde, x, size_average=False) / x.size(0)\n",
    "            loss_recons = mseloss(x_tilde,x ) / x.size(0)\n",
    "            loss = loss_recons + kl_div\n",
    "\n",
    "            val_loss.append(loss.item())\n",
    "            #writer.add_scalar('loss/{}/ELBO'.format(split), loss.item(), n_steps)\n",
    "            #writer.add_scalar('loss/{}/reconstruction'.format(split), loss_recons.item(), n_steps)\n",
    "            #writer.add_scalar('loss/{}/KL'.format(split), kl_div.item(), n_steps)\n",
    "\n",
    "    print('\\nEvaluation Completed ({})!\\tLoss: {:5.4f} Time: {:5.3f} s'.format(\n",
    "        split,\n",
    "        np.asarray(val_loss).mean(0),\n",
    "        time.time() - start_time\n",
    "    ))\n",
    "    return np.asarray(val_loss).mean(0)"
   ]
  },
  {
   "cell_type": "code",
   "execution_count": 130,
   "metadata": {},
   "outputs": [
    {
     "data": {
      "text/plain": [
       "'ROC'"
      ]
     },
     "execution_count": 130,
     "metadata": {},
     "output_type": "execute_result"
    }
   ],
   "source": [
    "mode"
   ]
  },
  {
   "cell_type": "code",
   "execution_count": 153,
   "metadata": {},
   "outputs": [
    {
     "name": "stdout",
     "output_type": "stream",
     "text": [
      "Epoch 1:\n",
      "\n",
      "Evaluation Completed (valid)!\tLoss: 4.7576 Time: 3.229 s\n",
      "Saving model!\n",
      "Epoch 2:\n",
      "\n",
      "Evaluation Completed (valid)!\tLoss: 4.7536 Time: 3.242 s\n",
      "Saving model!\n",
      "Epoch 3:\n",
      "\n",
      "Evaluation Completed (valid)!\tLoss: 4.7520 Time: 3.336 s\n",
      "Saving model!\n",
      "Epoch 4:\n",
      "\n",
      "Evaluation Completed (valid)!\tLoss: 4.7520 Time: 3.309 s\n",
      "Saving model!\n",
      "Epoch 5:\n",
      "\n",
      "Evaluation Completed (valid)!\tLoss: 4.7511 Time: 3.344 s\n",
      "Saving model!\n",
      "Epoch 6:\n",
      "\n",
      "Evaluation Completed (valid)!\tLoss: 4.7500 Time: 3.296 s\n",
      "Saving model!\n",
      "Epoch 7:\n",
      "\n",
      "Evaluation Completed (valid)!\tLoss: 4.7476 Time: 3.310 s\n",
      "Saving model!\n",
      "Epoch 8:\n",
      "\n",
      "Evaluation Completed (valid)!\tLoss: 4.7479 Time: 3.284 s\n",
      "Not saving model! Last saved: 7\n",
      "Epoch 9:\n",
      "\n",
      "Evaluation Completed (valid)!\tLoss: 4.7508 Time: 3.183 s\n",
      "Not saving model! Last saved: 7\n",
      "Epoch 10:\n",
      "\n",
      "Evaluation Completed (valid)!\tLoss: 4.7474 Time: 3.321 s\n",
      "Saving model!\n",
      "Epoch 11:\n",
      "\n",
      "Evaluation Completed (valid)!\tLoss: 4.7450 Time: 3.379 s\n",
      "Saving model!\n",
      "Epoch 12:\n",
      "\n",
      "Evaluation Completed (valid)!\tLoss: 4.7435 Time: 3.275 s\n",
      "Saving model!\n",
      "Epoch 13:\n",
      "\n",
      "Evaluation Completed (valid)!\tLoss: 4.7472 Time: 3.310 s\n",
      "Not saving model! Last saved: 12\n",
      "Epoch 14:\n",
      "\n",
      "Evaluation Completed (valid)!\tLoss: 4.7441 Time: 3.190 s\n",
      "Not saving model! Last saved: 12\n",
      "Epoch 15:\n",
      "\n",
      "Evaluation Completed (valid)!\tLoss: 4.7408 Time: 3.319 s\n",
      "Saving model!\n",
      "Epoch 16:\n",
      "\n",
      "Evaluation Completed (valid)!\tLoss: 4.7446 Time: 3.295 s\n",
      "Not saving model! Last saved: 15\n",
      "Epoch 17:\n",
      "\n",
      "Evaluation Completed (valid)!\tLoss: 4.7443 Time: 3.272 s\n",
      "Not saving model! Last saved: 15\n",
      "Epoch 18:\n",
      "\n",
      "Evaluation Completed (valid)!\tLoss: 4.7387 Time: 3.206 s\n",
      "Saving model!\n",
      "Epoch 19:\n",
      "\n",
      "Evaluation Completed (valid)!\tLoss: 4.7370 Time: 3.200 s\n",
      "Saving model!\n",
      "Epoch 20:\n",
      "\n",
      "Evaluation Completed (valid)!\tLoss: 4.7343 Time: 3.223 s\n",
      "Saving model!\n",
      "Epoch 21:\n",
      "\n",
      "Evaluation Completed (valid)!\tLoss: 4.7365 Time: 3.283 s\n",
      "Not saving model! Last saved: 20\n",
      "Epoch 22:\n",
      "\n",
      "Evaluation Completed (valid)!\tLoss: 4.7395 Time: 3.290 s\n",
      "Not saving model! Last saved: 20\n",
      "Epoch 23:\n",
      "\n",
      "Evaluation Completed (valid)!\tLoss: 4.7397 Time: 3.324 s\n",
      "Not saving model! Last saved: 20\n",
      "Epoch 24:\n",
      "\n",
      "Evaluation Completed (valid)!\tLoss: 4.7344 Time: 3.209 s\n",
      "Not saving model! Last saved: 20\n",
      "Epoch 25:\n",
      "\n",
      "Evaluation Completed (valid)!\tLoss: 4.7352 Time: 3.282 s\n",
      "Not saving model! Last saved: 20\n",
      "Epoch 26:\n",
      "\n",
      "Evaluation Completed (valid)!\tLoss: 4.7330 Time: 3.313 s\n",
      "Saving model!\n",
      "Epoch 27:\n",
      "\n",
      "Evaluation Completed (valid)!\tLoss: 4.7362 Time: 3.287 s\n",
      "Not saving model! Last saved: 26\n",
      "Epoch 28:\n",
      "\n",
      "Evaluation Completed (valid)!\tLoss: 4.7298 Time: 3.323 s\n",
      "Saving model!\n",
      "Epoch 29:\n",
      "\n",
      "Evaluation Completed (valid)!\tLoss: 4.7324 Time: 3.316 s\n",
      "Not saving model! Last saved: 28\n",
      "Epoch 30:\n",
      "\n",
      "Evaluation Completed (valid)!\tLoss: 4.7293 Time: 3.308 s\n",
      "Saving model!\n",
      "Epoch 31:\n",
      "\n",
      "Evaluation Completed (valid)!\tLoss: 4.7252 Time: 3.311 s\n",
      "Saving model!\n",
      "Epoch 32:\n",
      "\n",
      "Evaluation Completed (valid)!\tLoss: 4.7269 Time: 3.306 s\n",
      "Not saving model! Last saved: 31\n",
      "Epoch 33:\n",
      "\n",
      "Evaluation Completed (valid)!\tLoss: 4.7249 Time: 3.210 s\n",
      "Saving model!\n",
      "Epoch 34:\n",
      "\n",
      "Evaluation Completed (valid)!\tLoss: 4.7296 Time: 3.333 s\n",
      "Not saving model! Last saved: 33\n",
      "Epoch 35:\n",
      "\n",
      "Evaluation Completed (valid)!\tLoss: 4.7299 Time: 3.245 s\n",
      "Not saving model! Last saved: 33\n",
      "Epoch 36:\n",
      "\n",
      "Evaluation Completed (valid)!\tLoss: 4.7247 Time: 3.405 s\n",
      "Saving model!\n",
      "Epoch 37:\n",
      "\n",
      "Evaluation Completed (valid)!\tLoss: 4.7243 Time: 3.224 s\n",
      "Saving model!\n",
      "Epoch 38:\n",
      "\n",
      "Evaluation Completed (valid)!\tLoss: 4.7263 Time: 3.328 s\n",
      "Not saving model! Last saved: 37\n",
      "Epoch 39:\n",
      "\n",
      "Evaluation Completed (valid)!\tLoss: 4.7180 Time: 3.232 s\n",
      "Saving model!\n",
      "Epoch 40:\n",
      "\n",
      "Evaluation Completed (valid)!\tLoss: 4.7237 Time: 3.325 s\n",
      "Not saving model! Last saved: 39\n",
      "Epoch 41:\n",
      "\n",
      "Evaluation Completed (valid)!\tLoss: 4.7270 Time: 3.226 s\n",
      "Not saving model! Last saved: 39\n",
      "Epoch 42:\n",
      "\n",
      "Evaluation Completed (valid)!\tLoss: 4.7177 Time: 3.327 s\n",
      "Saving model!\n",
      "Epoch 43:\n",
      "\n",
      "Evaluation Completed (valid)!\tLoss: 4.7177 Time: 3.250 s\n",
      "Saving model!\n",
      "Epoch 44:\n",
      "\n",
      "Evaluation Completed (valid)!\tLoss: 4.7206 Time: 3.332 s\n",
      "Not saving model! Last saved: 43\n",
      "Epoch 45:\n",
      "\n",
      "Evaluation Completed (valid)!\tLoss: 4.7125 Time: 3.241 s\n",
      "Saving model!\n",
      "Epoch 46:\n",
      "\n",
      "Evaluation Completed (valid)!\tLoss: 4.7159 Time: 3.319 s\n",
      "Not saving model! Last saved: 45\n",
      "Epoch 47:\n",
      "\n",
      "Evaluation Completed (valid)!\tLoss: 4.7149 Time: 3.235 s\n",
      "Not saving model! Last saved: 45\n",
      "Epoch 48:\n",
      "\n",
      "Evaluation Completed (valid)!\tLoss: 4.7103 Time: 3.328 s\n",
      "Saving model!\n",
      "Epoch 49:\n",
      "\n",
      "Evaluation Completed (valid)!\tLoss: 4.7149 Time: 3.236 s\n",
      "Not saving model! Last saved: 48\n",
      "Epoch 50:\n",
      "\n",
      "Evaluation Completed (valid)!\tLoss: 4.7109 Time: 3.324 s\n",
      "Not saving model! Last saved: 48\n",
      "Epoch 51:\n",
      "\n",
      "Evaluation Completed (valid)!\tLoss: 4.7110 Time: 3.306 s\n",
      "Not saving model! Last saved: 48\n",
      "Epoch 52:\n",
      "\n",
      "Evaluation Completed (valid)!\tLoss: 4.7112 Time: 3.195 s\n",
      "Not saving model! Last saved: 48\n",
      "Epoch 53:\n",
      "\n",
      "Evaluation Completed (valid)!\tLoss: 4.7120 Time: 3.341 s\n",
      "Not saving model! Last saved: 48\n",
      "Epoch 54:\n",
      "\n",
      "Evaluation Completed (valid)!\tLoss: 4.7080 Time: 3.308 s\n",
      "Saving model!\n",
      "Epoch 55:\n",
      "\n",
      "Evaluation Completed (valid)!\tLoss: 4.7078 Time: 3.340 s\n",
      "Saving model!\n",
      "Epoch 56:\n",
      "\n",
      "Evaluation Completed (valid)!\tLoss: 4.7068 Time: 3.335 s\n",
      "Saving model!\n",
      "Epoch 57:\n",
      "\n",
      "Evaluation Completed (valid)!\tLoss: 4.7071 Time: 3.358 s\n",
      "Not saving model! Last saved: 56\n",
      "Epoch 58:\n",
      "\n",
      "Evaluation Completed (valid)!\tLoss: 4.7002 Time: 3.231 s\n",
      "Saving model!\n",
      "Epoch 59:\n",
      "\n",
      "Evaluation Completed (valid)!\tLoss: 4.7025 Time: 3.310 s\n",
      "Not saving model! Last saved: 58\n",
      "Epoch 60:\n",
      "\n",
      "Evaluation Completed (valid)!\tLoss: 4.7035 Time: 3.251 s\n",
      "Not saving model! Last saved: 58\n",
      "Epoch 61:\n",
      "\n",
      "Evaluation Completed (valid)!\tLoss: 4.7045 Time: 3.298 s\n",
      "Not saving model! Last saved: 58\n",
      "Epoch 62:\n",
      "\n",
      "Evaluation Completed (valid)!\tLoss: 4.6988 Time: 3.316 s\n",
      "Saving model!\n",
      "Epoch 63:\n",
      "\n",
      "Evaluation Completed (valid)!\tLoss: 4.7029 Time: 3.326 s\n",
      "Not saving model! Last saved: 62\n",
      "Epoch 64:\n",
      "\n",
      "Evaluation Completed (valid)!\tLoss: 4.6985 Time: 3.215 s\n",
      "Saving model!\n",
      "Epoch 65:\n",
      "\n",
      "Evaluation Completed (valid)!\tLoss: 4.6970 Time: 3.321 s\n",
      "Saving model!\n",
      "Epoch 66:\n",
      "\n",
      "Evaluation Completed (valid)!\tLoss: 4.6987 Time: 3.300 s\n",
      "Not saving model! Last saved: 65\n",
      "Epoch 67:\n",
      "\n",
      "Evaluation Completed (valid)!\tLoss: 4.7001 Time: 3.185 s\n",
      "Not saving model! Last saved: 65\n",
      "Epoch 68:\n",
      "\n",
      "Evaluation Completed (valid)!\tLoss: 4.6959 Time: 3.313 s\n",
      "Saving model!\n",
      "Epoch 69:\n",
      "\n",
      "Evaluation Completed (valid)!\tLoss: 4.6924 Time: 3.198 s\n",
      "Saving model!\n",
      "Epoch 70:\n",
      "\n",
      "Evaluation Completed (valid)!\tLoss: 4.6943 Time: 3.317 s\n",
      "Not saving model! Last saved: 69\n",
      "Epoch 71:\n",
      "\n",
      "Evaluation Completed (valid)!\tLoss: 4.6930 Time: 3.209 s\n",
      "Not saving model! Last saved: 69\n",
      "Epoch 72:\n",
      "\n",
      "Evaluation Completed (valid)!\tLoss: 4.6907 Time: 3.296 s\n",
      "Saving model!\n",
      "Epoch 73:\n",
      "\n",
      "Evaluation Completed (valid)!\tLoss: 4.6904 Time: 3.231 s\n",
      "Saving model!\n",
      "Epoch 74:\n",
      "\n",
      "Evaluation Completed (valid)!\tLoss: 4.6849 Time: 3.303 s\n",
      "Saving model!\n",
      "Epoch 75:\n",
      "\n",
      "Evaluation Completed (valid)!\tLoss: 4.6883 Time: 3.287 s\n",
      "Not saving model! Last saved: 74\n",
      "Epoch 76:\n",
      "\n",
      "Evaluation Completed (valid)!\tLoss: 4.6876 Time: 3.276 s\n",
      "Not saving model! Last saved: 74\n",
      "Epoch 77:\n",
      "\n",
      "Evaluation Completed (valid)!\tLoss: 4.6858 Time: 3.289 s\n",
      "Not saving model! Last saved: 74\n",
      "Epoch 78:\n",
      "\n",
      "Evaluation Completed (valid)!\tLoss: 4.6838 Time: 3.269 s\n",
      "Saving model!\n",
      "Epoch 79:\n",
      "\n",
      "Evaluation Completed (valid)!\tLoss: 4.6852 Time: 3.317 s\n",
      "Not saving model! Last saved: 78\n",
      "Epoch 80:\n",
      "\n",
      "Evaluation Completed (valid)!\tLoss: 4.6852 Time: 3.219 s\n",
      "Not saving model! Last saved: 78\n",
      "Epoch 81:\n",
      "\n",
      "Evaluation Completed (valid)!\tLoss: 4.6841 Time: 3.371 s\n",
      "Not saving model! Last saved: 78\n",
      "Epoch 82:\n",
      "\n",
      "Evaluation Completed (valid)!\tLoss: 4.6842 Time: 3.202 s\n",
      "Not saving model! Last saved: 78\n",
      "Epoch 83:\n",
      "\n",
      "Evaluation Completed (valid)!\tLoss: 4.6802 Time: 3.313 s\n",
      "Saving model!\n",
      "Epoch 84:\n",
      "\n",
      "Evaluation Completed (valid)!\tLoss: 4.6776 Time: 3.305 s\n",
      "Saving model!\n",
      "Epoch 85:\n",
      "\n",
      "Evaluation Completed (valid)!\tLoss: 4.6802 Time: 3.295 s\n",
      "Not saving model! Last saved: 84\n",
      "Epoch 86:\n",
      "\n",
      "Evaluation Completed (valid)!\tLoss: 4.6788 Time: 3.236 s\n",
      "Not saving model! Last saved: 84\n",
      "Epoch 87:\n",
      "\n",
      "Evaluation Completed (valid)!\tLoss: 4.6767 Time: 3.333 s\n",
      "Saving model!\n",
      "Epoch 88:\n",
      "\n",
      "Evaluation Completed (valid)!\tLoss: 4.6773 Time: 3.239 s\n",
      "Not saving model! Last saved: 87\n",
      "Epoch 89:\n",
      "\n",
      "Evaluation Completed (valid)!\tLoss: 4.6782 Time: 3.289 s\n",
      "Not saving model! Last saved: 87\n",
      "Epoch 90:\n",
      "\n",
      "Evaluation Completed (valid)!\tLoss: 4.6752 Time: 3.217 s\n",
      "Saving model!\n",
      "Epoch 91:\n"
     ]
    },
    {
     "name": "stdout",
     "output_type": "stream",
     "text": [
      "\n",
      "Evaluation Completed (valid)!\tLoss: 4.6742 Time: 3.344 s\n",
      "Saving model!\n",
      "Epoch 92:\n",
      "\n",
      "Evaluation Completed (valid)!\tLoss: 4.6695 Time: 3.315 s\n",
      "Saving model!\n",
      "Epoch 93:\n",
      "\n",
      "Evaluation Completed (valid)!\tLoss: 4.6739 Time: 3.319 s\n",
      "Not saving model! Last saved: 92\n",
      "Epoch 94:\n",
      "\n",
      "Evaluation Completed (valid)!\tLoss: 4.6719 Time: 3.223 s\n",
      "Not saving model! Last saved: 92\n",
      "Epoch 95:\n",
      "\n",
      "Evaluation Completed (valid)!\tLoss: 4.6696 Time: 3.328 s\n",
      "Not saving model! Last saved: 92\n",
      "Epoch 96:\n",
      "\n",
      "Evaluation Completed (valid)!\tLoss: 4.6702 Time: 3.217 s\n",
      "Not saving model! Last saved: 92\n",
      "Epoch 97:\n",
      "\n",
      "Evaluation Completed (valid)!\tLoss: 4.6675 Time: 3.312 s\n",
      "Saving model!\n",
      "Epoch 98:\n",
      "\n",
      "Evaluation Completed (valid)!\tLoss: 4.6685 Time: 3.360 s\n",
      "Not saving model! Last saved: 97\n",
      "Epoch 99:\n",
      "\n",
      "Evaluation Completed (valid)!\tLoss: 4.6651 Time: 3.262 s\n",
      "Saving model!\n",
      "Epoch 100:\n",
      "\n",
      "Evaluation Completed (valid)!\tLoss: 4.6710 Time: 3.306 s\n",
      "Not saving model! Last saved: 99\n",
      "Epoch 101:\n",
      "\n",
      "Evaluation Completed (valid)!\tLoss: 4.6638 Time: 3.222 s\n",
      "Saving model!\n",
      "Epoch 102:\n",
      "\n",
      "Evaluation Completed (valid)!\tLoss: 4.6693 Time: 3.312 s\n",
      "Not saving model! Last saved: 101\n",
      "Epoch 103:\n",
      "\n",
      "Evaluation Completed (valid)!\tLoss: 4.6651 Time: 3.207 s\n",
      "Not saving model! Last saved: 101\n",
      "Epoch 104:\n",
      "\n",
      "Evaluation Completed (valid)!\tLoss: 4.6611 Time: 3.300 s\n",
      "Saving model!\n",
      "Epoch 105:\n",
      "\n",
      "Evaluation Completed (valid)!\tLoss: 4.6649 Time: 3.217 s\n",
      "Not saving model! Last saved: 104\n",
      "Epoch 106:\n",
      "\n",
      "Evaluation Completed (valid)!\tLoss: 4.6652 Time: 3.301 s\n",
      "Not saving model! Last saved: 104\n",
      "Epoch 107:\n",
      "\n",
      "Evaluation Completed (valid)!\tLoss: 4.6677 Time: 3.336 s\n",
      "Not saving model! Last saved: 104\n",
      "Epoch 108:\n",
      "\n",
      "Evaluation Completed (valid)!\tLoss: 4.6673 Time: 3.218 s\n",
      "Not saving model! Last saved: 104\n",
      "Epoch 109:\n",
      "\n",
      "Evaluation Completed (valid)!\tLoss: 4.6613 Time: 3.301 s\n",
      "Not saving model! Last saved: 104\n",
      "Epoch 110:\n",
      "\n",
      "Evaluation Completed (valid)!\tLoss: 4.6593 Time: 3.339 s\n",
      "Saving model!\n",
      "Epoch 111:\n",
      "\n",
      "Evaluation Completed (valid)!\tLoss: 4.6631 Time: 3.317 s\n",
      "Not saving model! Last saved: 110\n",
      "Epoch 112:\n",
      "\n",
      "Evaluation Completed (valid)!\tLoss: 4.6590 Time: 3.200 s\n",
      "Saving model!\n",
      "Epoch 113:\n",
      "\n",
      "Evaluation Completed (valid)!\tLoss: 4.6602 Time: 3.319 s\n",
      "Not saving model! Last saved: 112\n",
      "Epoch 114:\n",
      "\n",
      "Evaluation Completed (valid)!\tLoss: 4.6585 Time: 3.206 s\n",
      "Saving model!\n",
      "Epoch 115:\n",
      "\n",
      "Evaluation Completed (valid)!\tLoss: 4.6558 Time: 3.326 s\n",
      "Saving model!\n",
      "Epoch 116:\n",
      "\n",
      "Evaluation Completed (valid)!\tLoss: 4.6538 Time: 3.374 s\n",
      "Saving model!\n",
      "Epoch 117:\n",
      "\n",
      "Evaluation Completed (valid)!\tLoss: 4.6538 Time: 3.361 s\n",
      "Not saving model! Last saved: 116\n",
      "Epoch 118:\n",
      "\n",
      "Evaluation Completed (valid)!\tLoss: 4.6507 Time: 3.234 s\n",
      "Saving model!\n",
      "Epoch 119:\n",
      "\n",
      "Evaluation Completed (valid)!\tLoss: 4.6549 Time: 3.361 s\n",
      "Not saving model! Last saved: 118\n",
      "Epoch 120:\n",
      "\n",
      "Evaluation Completed (valid)!\tLoss: 4.6481 Time: 3.229 s\n",
      "Saving model!\n",
      "Epoch 121:\n",
      "\n",
      "Evaluation Completed (valid)!\tLoss: 4.6521 Time: 3.288 s\n",
      "Not saving model! Last saved: 120\n",
      "Epoch 122:\n",
      "\n",
      "Evaluation Completed (valid)!\tLoss: 4.6507 Time: 3.217 s\n",
      "Not saving model! Last saved: 120\n",
      "Epoch 123:\n",
      "\n",
      "Evaluation Completed (valid)!\tLoss: 4.6519 Time: 3.283 s\n",
      "Not saving model! Last saved: 120\n",
      "Epoch 124:\n",
      "\n",
      "Evaluation Completed (valid)!\tLoss: 4.6468 Time: 3.288 s\n",
      "Saving model!\n",
      "Epoch 125:\n",
      "\n",
      "Evaluation Completed (valid)!\tLoss: 4.6527 Time: 3.299 s\n",
      "Not saving model! Last saved: 124\n",
      "Epoch 126:\n",
      "\n",
      "Evaluation Completed (valid)!\tLoss: 4.6514 Time: 3.241 s\n",
      "Not saving model! Last saved: 124\n",
      "Epoch 127:\n",
      "\n",
      "Evaluation Completed (valid)!\tLoss: 4.6476 Time: 3.311 s\n",
      "Not saving model! Last saved: 124\n",
      "Epoch 128:\n",
      "\n",
      "Evaluation Completed (valid)!\tLoss: 4.6474 Time: 3.316 s\n",
      "Not saving model! Last saved: 124\n",
      "Epoch 129:\n",
      "\n",
      "Evaluation Completed (valid)!\tLoss: 4.6427 Time: 3.278 s\n",
      "Saving model!\n",
      "Epoch 130:\n",
      "\n",
      "Evaluation Completed (valid)!\tLoss: 4.6475 Time: 3.319 s\n",
      "Not saving model! Last saved: 129\n",
      "Epoch 131:\n",
      "\n",
      "Evaluation Completed (valid)!\tLoss: 4.6466 Time: 3.205 s\n",
      "Not saving model! Last saved: 129\n",
      "Epoch 132:\n",
      "\n",
      "Evaluation Completed (valid)!\tLoss: 4.6375 Time: 3.354 s\n",
      "Saving model!\n",
      "Epoch 133:\n",
      "\n",
      "Evaluation Completed (valid)!\tLoss: 4.6427 Time: 3.258 s\n",
      "Not saving model! Last saved: 132\n",
      "Epoch 134:\n",
      "\n",
      "Evaluation Completed (valid)!\tLoss: 4.6482 Time: 3.321 s\n",
      "Not saving model! Last saved: 132\n",
      "Epoch 135:\n",
      "\n",
      "Evaluation Completed (valid)!\tLoss: 4.6411 Time: 3.332 s\n",
      "Not saving model! Last saved: 132\n",
      "Epoch 136:\n",
      "\n",
      "Evaluation Completed (valid)!\tLoss: 4.6440 Time: 3.209 s\n",
      "Not saving model! Last saved: 132\n",
      "Epoch 137:\n",
      "\n",
      "Evaluation Completed (valid)!\tLoss: 4.6383 Time: 3.336 s\n",
      "Not saving model! Last saved: 132\n",
      "Epoch 138:\n",
      "\n",
      "Evaluation Completed (valid)!\tLoss: 4.6411 Time: 3.374 s\n",
      "Not saving model! Last saved: 132\n",
      "Patience Limit Reached\n"
     ]
    }
   ],
   "source": [
    "N_EPOCHS = 10\n",
    "BEST_LOSS = 99999999\n",
    "LAST_SAVED = -1\n",
    "PATIENCE_COUNT = 0\n",
    "PATIENCE_LIMIT = 5\n",
    "for epoch in range(1, 1000):\n",
    "    print(\"Epoch {}:\".format(epoch))\n",
    "    train()\n",
    "    cur_loss = evaluate()\n",
    "\n",
    "    if cur_loss <= BEST_LOSS:\n",
    "        PATIENCE_COUNT = 0\n",
    "        BEST_LOSS = cur_loss\n",
    "        LAST_SAVED = epoch\n",
    "        print(\"Saving model!\")\n",
    "        if mode == 'ROC':\n",
    "            torch.save(sigmodel.state_dict(),\"/data/t3home000/spark/QUASAR/weights/sig_NF_planar_rnd_2prong_cwola.h5\")\n",
    "        else:\n",
    "            torch.save(sigmodel.state_dict(), \"/data/t3home000/spark/QUASAR/weights/bkg_vae_NF_planar_PureBkg_22var.h5\")\n",
    "    else:\n",
    "        PATIENCE_COUNT += 1\n",
    "        print(\"Not saving model! Last saved: {}\".format(LAST_SAVED))\n",
    "        if PATIENCE_COUNT > 5:\n",
    "            print(\"Patience Limit Reached\")\n",
    "            break "
   ]
  },
  {
   "cell_type": "code",
   "execution_count": null,
   "metadata": {},
   "outputs": [],
   "source": []
  },
  {
   "cell_type": "code",
   "execution_count": 154,
   "metadata": {},
   "outputs": [],
   "source": [
    "sigout = sigmodel(torch.tensor(Y).float().cuda())[0]\n",
    "sigout = sigout.data.cpu().numpy()"
   ]
  },
  {
   "cell_type": "code",
   "execution_count": 159,
   "metadata": {},
   "outputs": [
    {
     "data": {
      "text/plain": [
       "<matplotlib.lines.Line2D at 0x7f5f95e424a8>"
      ]
     },
     "execution_count": 159,
     "metadata": {},
     "output_type": "execute_result"
    },
    {
     "data": {
      "image/png": "[encoded data removed]",
      "text/plain": [
       "<Figure size 720x720 with 1 Axes>"
      ]
     },
     "metadata": {
      "needs_background": "light"
     },
     "output_type": "display_data"
    }
   ],
   "source": [
    "bins = np.linspace(-3,3,100)\n",
    "bins.shape\n",
    "column = 3\n",
    "#print(f_rnd.columns[column])\n",
    "plt.hist(Y[:,column],bins,alpha=0.5,color='b');\n",
    "plt.hist(sigout[:,column],bins,alpha=0.5,color='r');\n",
    "#plt.hist(out2[:,column],bins,alpha=0.5,color='g');\n",
    "plt.axvline(np.mean(X[bkg_idx,column]))"
   ]
  },
  {
   "cell_type": "code",
   "execution_count": 211,
   "metadata": {},
   "outputs": [],
   "source": [
    "X_bkg = dt[:,[3,4,5,6,11,12,19,20,21,22,27,28]]\n",
    "X_bkg = X_bkg[bkg_idx]"
   ]
  },
  {
   "cell_type": "code",
   "execution_count": 212,
   "metadata": {},
   "outputs": [],
   "source": [
    "for i in range(12):\n",
    "    X_bkg[:,i] = (X_bkg[:,i]-sig_mean[i])/sig_std[i]"
   ]
  },
  {
   "cell_type": "code",
   "execution_count": 161,
   "metadata": {},
   "outputs": [],
   "source": [
    "total_bkg_test = torch.tensor(X_bkg)"
   ]
  },
  {
   "cell_type": "code",
   "execution_count": 162,
   "metadata": {},
   "outputs": [],
   "source": [
    "sigae_bkgloss = torch.mean((sigmodel(total_bkg_test.float().cuda())[0]- total_bkg_test.float().cuda())**2,dim=1).data.cpu().numpy()"
   ]
  },
  {
   "cell_type": "code",
   "execution_count": 163,
   "metadata": {},
   "outputs": [],
   "source": [
    "sigae_sigloss = torch.mean((sigmodel(total_sig.float().cuda())[0]- total_sig.float().cuda())**2,dim=1).data.cpu().numpy()"
   ]
  },
  {
   "cell_type": "code",
   "execution_count": 176,
   "metadata": {},
   "outputs": [],
   "source": [
    "f_3prong = pd.read_hdf(\"/data/t3home000/spark/QUASAR/preprocessing/conventional_tau_3prong_rnd.h5\")"
   ]
  },
  {
   "cell_type": "code",
   "execution_count": null,
   "metadata": {},
   "outputs": [],
   "source": []
  },
  {
   "cell_type": "code",
   "execution_count": null,
   "metadata": {},
   "outputs": [],
   "source": []
  },
  {
   "cell_type": "code",
   "execution_count": 309,
   "metadata": {},
   "outputs": [],
   "source": [
    "f_bb1 = pd.read_hdf('/data/t3home000/spark/QUASAR/preprocessing/conventional_tau_BB1_rnd.h5')"
   ]
  },
  {
   "cell_type": "code",
   "execution_count": 310,
   "metadata": {},
   "outputs": [],
   "source": [
    "dt_bb1 = f_bb1.values"
   ]
  },
  {
   "cell_type": "code",
   "execution_count": 311,
   "metadata": {},
   "outputs": [],
   "source": [
    "X_bb1 = dt_bb1[:,[3,4,5,6,11,12,19,20,21,22,27,28]]"
   ]
  },
  {
   "cell_type": "code",
   "execution_count": 312,
   "metadata": {},
   "outputs": [
    {
     "data": {
      "text/plain": [
       "(1000000, 12)"
      ]
     },
     "execution_count": 312,
     "metadata": {},
     "output_type": "execute_result"
    }
   ],
   "source": [
    "X_bb1.shape"
   ]
  },
  {
   "cell_type": "code",
   "execution_count": 313,
   "metadata": {},
   "outputs": [
    {
     "data": {
      "text/plain": [
       "[416.4436327724198,\n",
       " 0.259460143970101,\n",
       " 0.6475599434564594,\n",
       " 0.7747571031756559,\n",
       " 1.4414801240204307,\n",
       " 232.28881387172063,\n",
       " 115.19219609387073,\n",
       " 0.4000458937255977,\n",
       " 0.6497184345343743,\n",
       " 0.7592483240780288,\n",
       " 1.5724873295094448,\n",
       " 139.77741938715204]"
      ]
     },
     "execution_count": 313,
     "metadata": {},
     "output_type": "execute_result"
    }
   ],
   "source": [
    "sig_mean"
   ]
  },
  {
   "cell_type": "code",
   "execution_count": 314,
   "metadata": {},
   "outputs": [
    {
     "data": {
      "text/plain": [
       "[154.19379540115423,\n",
       " 0.17056704944179107,\n",
       " 0.14978212617036485,\n",
       " 0.09894407762923978,\n",
       " 0.4886539241053714,\n",
       " 87.70941099970253,\n",
       " 49.68849330603538,\n",
       " 0.1622952691607605,\n",
       " 0.14863130231138283,\n",
       " 0.10503384225762816,\n",
       " 0.6713928483438475,\n",
       " 48.672440905600446]"
      ]
     },
     "execution_count": 314,
     "metadata": {},
     "output_type": "execute_result"
    }
   ],
   "source": [
    "sig_std"
   ]
  },
  {
   "cell_type": "code",
   "execution_count": 315,
   "metadata": {},
   "outputs": [],
   "source": [
    "for i in range(12):\n",
    "    X_bb1[:,i] = (X_bb1[:,i]-sig_mean[i])/sig_std[i]"
   ]
  },
  {
   "cell_type": "code",
   "execution_count": 317,
   "metadata": {},
   "outputs": [
    {
     "data": {
      "text/plain": [
       "(array([246458., 189649., 134796.,  95188.,  64278.,  40409.,  20912.,\n",
       "          9337.,   4219.]),\n",
       " array([-2.        , -1.55555556, -1.11111111, -0.66666667, -0.22222222,\n",
       "         0.22222222,  0.66666667,  1.11111111,  1.55555556,  2.        ]),\n",
       " <a list of 9 Patch objects>)"
      ]
     },
     "execution_count": 317,
     "metadata": {},
     "output_type": "execute_result"
    },
    {
     "data": {
      "image/png": "[encoded data removed]",
      "text/plain": [
       "<Figure size 720x720 with 1 Axes>"
      ]
     },
     "metadata": {
      "needs_background": "light"
     },
     "output_type": "display_data"
    }
   ],
   "source": [
    "plt.hist(X_bb1[:,0],bins = np.linspace(-2,2,10))"
   ]
  },
  {
   "cell_type": "code",
   "execution_count": null,
   "metadata": {},
   "outputs": [],
   "source": []
  },
  {
   "cell_type": "code",
   "execution_count": 318,
   "metadata": {},
   "outputs": [
    {
     "ename": "TypeError",
     "evalue": "'type' object is not iterable",
     "output_type": "error",
     "traceback": [
      "\u001b[0;31m---------------------------------------------------------------------------\u001b[0m",
      "\u001b[0;31mTypeError\u001b[0m                                 Traceback (most recent call last)",
      "\u001b[0;32m<ipython-input-318-3425ef769b7f>\u001b[0m in \u001b[0;36m<module>\u001b[0;34m\u001b[0m\n\u001b[0;32m----> 1\u001b[0;31m \u001b[0;34m(\u001b[0m\u001b[0mtorch\u001b[0m\u001b[0;34m.\u001b[0m\u001b[0mtensor\u001b[0m\u001b[0;34m(\u001b[0m\u001b[0mdt\u001b[0m\u001b[0;34m[\u001b[0m\u001b[0mi\u001b[0m \u001b[0;34m*\u001b[0m \u001b[0mchunk_size\u001b[0m\u001b[0;34m:\u001b[0m\u001b[0;34m(\u001b[0m\u001b[0mi\u001b[0m \u001b[0;34m+\u001b[0m \u001b[0;36m1\u001b[0m\u001b[0;34m)\u001b[0m \u001b[0;34m*\u001b[0m \u001b[0mchunk_size\u001b[0m\u001b[0;34m]\u001b[0m\u001b[0;34m)\u001b[0m \u001b[0;32mfor\u001b[0m \u001b[0mi\u001b[0m \u001b[0;32min\u001b[0m \u001b[0mrange\u001b[0m \u001b[0;34m)\u001b[0m\u001b[0;34m\u001b[0m\u001b[0;34m\u001b[0m\u001b[0m\n\u001b[0m",
      "\u001b[0;31mTypeError\u001b[0m: 'type' object is not iterable"
     ]
    }
   ],
   "source": [
    "(torch.tensor(dt[i * chunk_size:(i + 1) * chunk_size]) for i in range ) "
   ]
  },
  {
   "cell_type": "code",
   "execution_count": 319,
   "metadata": {},
   "outputs": [],
   "source": [
    "def get_loss(dt):\n",
    "    \n",
    "    chunk_size=5000 \n",
    "    total_size=1000000\n",
    "    i = 0\n",
    "    i_max = total_size // chunk_size\n",
    "\n",
    "    print(i_max)\n",
    "    \n",
    "    \n",
    "    \n",
    "    gen = (torch.tensor(dt[i*chunk_size: (i + 1) * chunk_size]) for i in range(i_max)) \n",
    "\n",
    "        \n",
    "    with torch.no_grad():\n",
    "        \n",
    "        loss = [\n",
    "            n\n",
    "            for total_in_selection in gen\n",
    "            for n in torch.mean((sigmodel(total_in_selection.float().cuda())[0]- total_in_selection.float().cuda())**2,dim=1).data.cpu().numpy()\n",
    "        ]\n",
    "        \n",
    "    return loss"
   ]
  },
  {
   "cell_type": "code",
   "execution_count": 287,
   "metadata": {},
   "outputs": [],
   "source": [
    "def get_loss(dt):\n",
    "    \n",
    "    def generator(dt, chunk_size=5000, total_size=1000000):\n",
    "\n",
    "        i = 0\n",
    "        i_max = total_size // chunk_size\n",
    "        print(i_max)\n",
    "    \n",
    "        for i in range(i_max):\n",
    "            start=i * chunk_size\n",
    "            stop=(i + 1) * chunk_size\n",
    "            yield torch.tensor(dt[start:stop])\n",
    "        \n",
    "    loss = []\n",
    "\n",
    "    \n",
    "    with torch.no_grad():\n",
    "        \n",
    "        for total_in_selection in generator(dt,chunk_size=5000, total_size=1000000):\n",
    "            loss.extend(torch.mean((sigmodel(total_in_selection.float().cuda())[0]- total_in_selection.float().cuda())**2,dim=1).data.cpu().numpy())\n",
    "    \n",
    "    return loss"
   ]
  },
  {
   "cell_type": "code",
   "execution_count": 320,
   "metadata": {},
   "outputs": [
    {
     "name": "stdout",
     "output_type": "stream",
     "text": [
      "200\n"
     ]
    }
   ],
   "source": [
    "bb1_loss_sig = get_loss(X_bb1)"
   ]
  },
  {
   "cell_type": "code",
   "execution_count": 321,
   "metadata": {},
   "outputs": [],
   "source": [
    "bb1_loss_sig = np.array(bb1_loss_sig,dtype=np.float)"
   ]
  },
  {
   "cell_type": "code",
   "execution_count": 322,
   "metadata": {},
   "outputs": [
    {
     "name": "stdout",
     "output_type": "stream",
     "text": [
      "[1.90564466 0.96934295 1.35960376 ... 0.59359992 2.21692467 2.44283652]\n"
     ]
    }
   ],
   "source": [
    "print(bb1_loss_sig)"
   ]
  },
  {
   "cell_type": "code",
   "execution_count": 323,
   "metadata": {},
   "outputs": [
    {
     "data": {
      "image/png": "[encoded data removed]",
      "text/plain": [
       "<Figure size 720x720 with 1 Axes>"
      ]
     },
     "metadata": {
      "needs_background": "light"
     },
     "output_type": "display_data"
    }
   ],
   "source": [
    "plt.hist(bb1_loss_sig,bins=np.linspace(0,100,1001));"
   ]
  },
  {
   "cell_type": "code",
   "execution_count": 324,
   "metadata": {},
   "outputs": [],
   "source": [
    "np.save('../data_strings/sigaeloss_bb1.npy',bb1_loss_sig)"
   ]
  },
  {
   "cell_type": "code",
   "execution_count": null,
   "metadata": {},
   "outputs": [],
   "source": []
  },
  {
   "cell_type": "code",
   "execution_count": null,
   "metadata": {},
   "outputs": [],
   "source": []
  },
  {
   "cell_type": "code",
   "execution_count": 177,
   "metadata": {},
   "outputs": [],
   "source": [
    "dt_3prong = f_3prong.values"
   ]
  },
  {
   "cell_type": "code",
   "execution_count": 178,
   "metadata": {},
   "outputs": [],
   "source": [
    "Z = dt_3prong[:,[3,4,5,6,11,12,19,20,21,22,27,28]]"
   ]
  },
  {
   "cell_type": "code",
   "execution_count": 179,
   "metadata": {},
   "outputs": [
    {
     "data": {
      "text/plain": [
       "(100000, 12)"
      ]
     },
     "execution_count": 179,
     "metadata": {},
     "output_type": "execute_result"
    }
   ],
   "source": [
    "Z.shape"
   ]
  },
  {
   "cell_type": "code",
   "execution_count": 180,
   "metadata": {},
   "outputs": [],
   "source": [
    "for i in range(12):\n",
    "    Z[:,i] = (Z[:,i]-sig_mean[i])/sig_std[i]"
   ]
  },
  {
   "cell_type": "code",
   "execution_count": 181,
   "metadata": {},
   "outputs": [],
   "source": [
    "total_3prong = torch.tensor(Z)"
   ]
  },
  {
   "cell_type": "code",
   "execution_count": null,
   "metadata": {},
   "outputs": [],
   "source": []
  },
  {
   "cell_type": "code",
   "execution_count": 199,
   "metadata": {},
   "outputs": [],
   "source": [
    "bkgae_bkgloss = torch.mean((model(total_bkg_test.float().cuda())[0]- total_bkg_test.float().cuda())**2,dim=1).data.cpu().numpy()"
   ]
  },
  {
   "cell_type": "code",
   "execution_count": null,
   "metadata": {},
   "outputs": [],
   "source": [
    "bkgae_3prongloss = torch.mean((model(total_3prong.float().cuda())[0]- total_3prong.float().cuda())**2,dim=1).data.cpu().numpy()"
   ]
  },
  {
   "cell_type": "code",
   "execution_count": 182,
   "metadata": {},
   "outputs": [],
   "source": [
    "sigae_3prongloss = torch.mean((sigmodel(total_3prong.float().cuda())[0]- total_3prong.float().cuda())**2,dim=1).data.cpu().numpy()"
   ]
  },
  {
   "cell_type": "code",
   "execution_count": 183,
   "metadata": {},
   "outputs": [
    {
     "data": {
      "text/plain": [
       "(100000,)"
      ]
     },
     "execution_count": 183,
     "metadata": {},
     "output_type": "execute_result"
    }
   ],
   "source": [
    "sigae_3prongloss.shape"
   ]
  },
  {
   "cell_type": "code",
   "execution_count": 216,
   "metadata": {},
   "outputs": [
    {
     "data": {
      "text/plain": [
       "Text(0.5, 0, 'Signal AE Loss')"
      ]
     },
     "execution_count": 216,
     "metadata": {},
     "output_type": "execute_result"
    },
    {
     "data": {
      "image/png": "[encoded data removed]",
      "text/plain": [
       "<Figure size 720x720 with 1 Axes>"
      ]
     },
     "metadata": {
      "needs_background": "light"
     },
     "output_type": "display_data"
    }
   ],
   "source": [
    "bins = np.linspace(0,10,1001)\n",
    "plt.hist(sigae_sigloss,bins,weights = np.ones(len(signal_idx))*10,alpha=0.4,color='r',label='2 prong signal');\n",
    "plt.hist(sigae_3prongloss,bins,weights = np.ones(100000)*10,alpha=0.5,color='g',label='3 prong signal');\n",
    "plt.hist(sigae_bkgloss,bins,alpha=0.4,color='b',label='background');\n",
    "#plt.legend(bbox_to_anchor=(1.05, 1.0), loc='upper left')\n",
    "plt.legend(loc='upper right')\n",
    "plt.xlabel('Signal AE Loss',fontsize=15)\n",
    "\n"
   ]
  },
  {
   "cell_type": "code",
   "execution_count": 193,
   "metadata": {},
   "outputs": [],
   "source": [
    "def get_tpr_fpr(sigloss,bkgloss,aetype='sig'):\n",
    "    bins = np.linspace(0,50,1001)\n",
    "    tpr = []\n",
    "    fpr = []\n",
    "    for cut in bins:\n",
    "        if aetype == 'sig':\n",
    "            tpr.append(np.where(sigloss<cut)[0].shape[0]/len(sigloss))\n",
    "            fpr.append(np.where(bkgloss<cut)[0].shape[0]/len(bkgloss))\n",
    "        if aetype == 'bkg':\n",
    "            tpr.append(np.where(sigloss>cut)[0].shape[0]/len(sigloss))\n",
    "            fpr.append(np.where(bkgloss>cut)[0].shape[0]/len(bkgloss))\n",
    "    return tpr,fpr      "
   ]
  },
  {
   "cell_type": "code",
   "execution_count": 194,
   "metadata": {},
   "outputs": [],
   "source": [
    "def get_precision_recall(sigloss,bkgloss,aetype='bkg'):\n",
    "    bins = np.linspace(0,100,1001)\n",
    "    tpr = []\n",
    "    fpr = []\n",
    "    precision = []\n",
    "    for cut in bins:\n",
    "        if aetype == 'sig':\n",
    "            tpr.append(np.where(sigloss<cut)[0].shape[0]/len(sigloss))\n",
    "            precision.append((np.where(sigloss<cut)[0].shape[0])/(np.where(bkgloss<cut)[0].shape[0]+np.where(sigloss<cut)[0].shape[0]))\n",
    "            \n",
    "        if aetype == 'bkg':\n",
    "            tpr.append(np.where(sigloss>cut)[0].shape[0]/len(sigloss))\n",
    "            precision.append((np.where(sigloss>cut)[0].shape[0])/(np.where(bkgloss>cut)[0].shape[0]+np.where(sigloss>cut)[0].shape[0]))\n",
    "    return precision,tpr      "
   ]
  },
  {
   "cell_type": "code",
   "execution_count": 196,
   "metadata": {},
   "outputs": [],
   "source": [
    "tpr_2prong, fpr_2prong = get_tpr_fpr(sigae_sigloss,sigae_bkgloss,'sig')\n",
    "tpr_3prong, fpr_3prong = get_tpr_fpr(sigae_3prongloss,sigae_bkgloss,'sig')"
   ]
  },
  {
   "cell_type": "code",
   "execution_count": 217,
   "metadata": {},
   "outputs": [
    {
     "data": {
      "image/png": "[encoded data removed]",
      "text/plain": [
       "<Figure size 720x720 with 1 Axes>"
      ]
     },
     "metadata": {
      "needs_background": "light"
     },
     "output_type": "display_data"
    }
   ],
   "source": [
    "plt.plot(fpr_2prong,tpr_2prong,label='signal AE')\n",
    "#plt.plot(VAE_bkg_fpr,VAE_bkg_tpr,label='Bkg VAE-Vanilla')\n",
    "plt.plot(bkg_fpr4,bkg_tpr4,label='Bkg NFlowVAE-Planar')\n",
    "\n",
    "plt.xlabel(r'$1-\\epsilon_{bkg}$',fontsize=15)\n",
    "plt.ylabel(r'$\\epsilon_{sig}$',fontsize=15)\n",
    "#plt.semilogy()\n",
    "#plt.legend(bbox_to_anchor=(1.05, 1.0), loc='upper left')\n",
    "plt.legend(loc='lower right')\n",
    "plt.xlim([0.0,1.0])\n",
    "plt.ylim([0.0,1.0])\n",
    "plt.savefig('ROC_Curve_sigae.png')"
   ]
  },
  {
   "cell_type": "code",
   "execution_count": null,
   "metadata": {},
   "outputs": [],
   "source": []
  },
  {
   "cell_type": "code",
   "execution_count": null,
   "metadata": {},
   "outputs": [],
   "source": []
  },
  {
   "cell_type": "code",
   "execution_count": null,
   "metadata": {},
   "outputs": [],
   "source": [
    "precision,recall = get_precision_recall(loss_sig,loss_bkg,aetype='bkg')"
   ]
  },
  {
   "cell_type": "code",
   "execution_count": null,
   "metadata": {},
   "outputs": [],
   "source": [
    "np.save('NFLOWVAE_PlanarNEW_22var_sigloss.npy',loss_sig)\n",
    "np.save('NFLOWVAE_PlanarNEW_22var_bkgloss.npy',loss_bkg)"
   ]
  },
  {
   "cell_type": "code",
   "execution_count": null,
   "metadata": {},
   "outputs": [],
   "source": [
    "np.save('NFLOWVAE_PlanarNEW_precision.npy',precision)\n",
    "np.save('NFLOWVAE_PlanarNEW_recall.npy',recall)\n",
    "np.save('NFLOWVAE_PlanarNEW_bkgAE_fpr.npy',bkg_fpr)\n",
    "np.save('NFLOWVAE_PlanarNEW_bkgAE_tpr.npy',bkg_tpr)\n",
    "np.save('NFLOWVAE_PlanarNEW_sigloss.npy',loss_sig)\n",
    "np.save('NFLOWVAE_PlanarNEW_bkgloss.npy',loss_bkg)"
   ]
  },
  {
   "cell_type": "code",
   "execution_count": null,
   "metadata": {},
   "outputs": [],
   "source": [
    "plt.plot(recall,precision)"
   ]
  },
  {
   "cell_type": "code",
   "execution_count": null,
   "metadata": {},
   "outputs": [],
   "source": [
    "flows = [1,2,3,4,5,6]\n",
    "zdim = [1,2,3,4,5]\n",
    "\n",
    "for N_flows in flows:\n",
    "    for Z_DIM in zdim:\n",
    "        model = VAE_NF(N_FLOWS, Z_DIM).cuda()\n",
    "        optimizer = optim.Adam(model.parameters(), lr=LR)\n",
    "        BEST_LOSS = 99999\n",
    "        LAST_SAVED = -1\n",
    "        PATIENCE_COUNT = 0\n",
    "        PATIENCE_LIMIT = 5\n",
    "        for epoch in range(1, N_EPOCHS):\n",
    "            print(\"Epoch {}:\".format(epoch))\n",
    "            train()\n",
    "            cur_loss = evaluate()\n",
    "\n",
    "            if cur_loss <= BEST_LOSS:\n",
    "                PATIENCE_COUNT = 0\n",
    "                BEST_LOSS = cur_loss\n",
    "                LAST_SAVED = epoch\n",
    "                print(\"Saving model!\")\n",
    "                if mode == 'ROC':\n",
    "                    torch.save(model.state_dict(),f\"/data/t3home000/spark/QUASAR/weights/bkg_vae_NF_planar_RND_22var_z{Z_DIM}_f{N_FLOWS}.h5\")\n",
    "                else:\n",
    "                    torch.save(model.state_dict(), f\"/data/t3home000/spark/QUASAR/weights/bkg_vae_NF_planar_PureBkg_22var_z{Z_DIM}_f{N_FLOWS}.h5\")\n",
    "            else:\n",
    "                PATIENCE_COUNT += 1\n",
    "                print(\"Not saving model! Last saved: {}\".format(LAST_SAVED))\n",
    "                if PATIENCE_COUNT > 3:\n",
    "                    print(\"Patience Limit Reached\")\n",
    "                    break \n",
    "                    \n",
    "        loss_bkg = get_loss(dt_PureBkg[bkg_idx])\n",
    "        loss_sig = get_loss(dt_PureBkg[signal_idx])\n",
    "        np.save(f'NFLOWVAE_PlanarNEW_22var_z{Z_DIM}_f{N_flows}_sigloss.npy',loss_sig)\n",
    "        np.save(f'NFLOWVAE_PlanarNEW_22var_z{Z_DIM}_f{N_flows}_bkgloss.npy',loss_bkg)"
   ]
  },
  {
   "cell_type": "code",
   "execution_count": null,
   "metadata": {},
   "outputs": [],
   "source": []
  }
 ],
 "metadata": {
  "kernelspec": {
   "display_name": "Python 3",
   "language": "python",
   "name": "python3"
  },
  "language_info": {
   "codemirror_mode": {
    "name": "ipython",
    "version": 3
   },
   "file_extension": ".py",
   "mimetype": "text/x-python",
   "name": "python",
   "nbconvert_exporter": "python",
   "pygments_lexer": "ipython3",
   "version": "3.6.7"
  }
 },
 "nbformat": 4,
 "nbformat_minor": 2
}
