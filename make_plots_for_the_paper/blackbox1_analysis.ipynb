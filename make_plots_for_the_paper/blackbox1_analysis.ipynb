{
 "cells": [
  {
   "cell_type": "code",
   "execution_count": 1,
   "metadata": {},
   "outputs": [],
   "source": [
    "import numpy as np\n",
    "import matplotlib.pyplot as plt\n"
   ]
  },
  {
   "cell_type": "code",
   "execution_count": 2,
   "metadata": {},
   "outputs": [],
   "source": [
    "bb_mass  = np.load('blackbox_mass.npy')\n",
    "bb_sigloss = np.load('blackbox_sigloss.npy')\n",
    "bb_bkgloss = np.load('blackbox_bkgloss.npy')\n",
    "qcd_mass = np.load('QCDMC_mass.npy')\n",
    "qcd_sigloss = np.load('QCDMC_sigloss.npy')\n",
    "qcd_bkgloss = np.load('QCDMC_bkgloss.npy')"
   ]
  },
  {
   "cell_type": "markdown",
   "metadata": {},
   "source": [
    "# Loss shape"
   ]
  },
  {
   "cell_type": "code",
   "execution_count": 5,
   "metadata": {},
   "outputs": [
    {
     "data": {
      "image/png": "[encoded data removed]",
      "text/plain": [
       "<Figure size 432x288 with 1 Axes>"
      ]
     },
     "metadata": {
      "needs_background": "light"
     },
     "output_type": "display_data"
    }
   ],
   "source": [
    "plt.hist(bb_bkgloss,bins=np.arange(0,10,0.01));"
   ]
  },
  {
   "cell_type": "code",
   "execution_count": 6,
   "metadata": {},
   "outputs": [
    {
     "data": {
      "image/png": "[encoded data removed]",
      "text/plain": [
       "<Figure size 432x288 with 1 Axes>"
      ]
     },
     "metadata": {
      "needs_background": "light"
     },
     "output_type": "display_data"
    }
   ],
   "source": [
    "plt.hist(bb_sigloss,bins=np.arange(0,10,0.01));"
   ]
  },
  {
   "cell_type": "markdown",
   "metadata": {},
   "source": [
    "# Determine the cuts and plot the mass"
   ]
  },
  {
   "cell_type": "code",
   "execution_count": 11,
   "metadata": {},
   "outputs": [],
   "source": [
    "bins = np.arange(2800,8000,200)"
   ]
  },
  {
   "cell_type": "code",
   "execution_count": 24,
   "metadata": {},
   "outputs": [
    {
     "data": {
      "text/plain": [
       "<matplotlib.lines.Line2D at 0x7fa3224c9c50>"
      ]
     },
     "execution_count": 24,
     "metadata": {},
     "output_type": "execute_result"
    },
    {
     "data": {
      "image/png": "[encoded data removed]",
      "text/plain": [
       "<Figure size 432x288 with 1 Axes>"
      ]
     },
     "metadata": {
      "needs_background": "light"
     },
     "output_type": "display_data"
    }
   ],
   "source": [
    "bbidx = np.where( (bb_bkgloss > 5.8) & (bb_sigloss<8))[0]\n",
    "obs_hist = plt.hist(bb_mass[bbidx], bins = bins);\n",
    "\n",
    "bkgidx = np.where( (qcd_bkgloss > 5.8) & (qcd_sigloss<8))[0]\n",
    "bkg_hist = plt.hist(qcd_mass[bkgidx], bins = bins,color='orange');\n",
    "\n",
    "plt.axvline(x=3823,color='r')\n",
    "\n"
   ]
  },
  {
   "cell_type": "markdown",
   "metadata": {},
   "source": [
    "# Export to ROOT"
   ]
  },
  {
   "cell_type": "code",
   "execution_count": 25,
   "metadata": {},
   "outputs": [
    {
     "name": "stdout",
     "output_type": "stream",
     "text": [
      "Welcome to JupyROOT 6.20/02\n"
     ]
    }
   ],
   "source": [
    "import ROOT as r\n",
    "\n",
    "xlow, xhigh = bins[0],bins[-1]\n",
    "BINS = len(bins)-1\n",
    "\n",
    "\n",
    "roothist_obs = r.TH1F('data_obs','data_obs',BINS,xlow,xhigh)\n",
    "roothist_bkg = r.TH1F('bkgestimate','bkgestimate',BINS,xlow,xhigh)\n",
    "\n",
    "for i in range(0,BINS):\n",
    "    roothist_obs.SetBinContent(i+1,obs_hist[0][i])\n",
    "    roothist_bkg.SetBinContent(i+1,bkg_hist[0][i])\n",
    "    #print(bkg_hist[0][i])\n",
    "\n",
    "    \n",
    "f = r.TFile.Open(\"blackbox1.root\",'recreate')\n",
    "roothist_obs.Write()\n",
    "roothist_bkg.Write()\n",
    "f.Close()    "
   ]
  }
 ],
 "metadata": {
  "kernelspec": {
   "display_name": "Python 3",
   "language": "python",
   "name": "python3"
  },
  "language_info": {
   "codemirror_mode": {
    "name": "ipython",
    "version": 3
   },
   "file_extension": ".py",
   "mimetype": "text/x-python",
   "name": "python",
   "nbconvert_exporter": "python",
   "pygments_lexer": "ipython3",
   "version": "3.6.7"
  }
 },
 "nbformat": 4,
 "nbformat_minor": 4
}
