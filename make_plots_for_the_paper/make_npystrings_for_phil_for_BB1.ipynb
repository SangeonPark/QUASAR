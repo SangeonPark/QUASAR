{
 "cells": [
  {
   "cell_type": "code",
   "execution_count": 1,
   "metadata": {},
   "outputs": [],
   "source": [
    "import time\n",
    "import tqdm\n",
    "import numpy as np \n",
    "import matplotlib.pyplot as plt\n",
    "import pandas as pd\n",
    "import torch \n",
    "import torch.nn as nn \n",
    "import torch.nn.functional as F \n",
    "import torch.optim as optim \n",
    "import torch.utils.data as utils\n",
    "import torch.nn.init as init\n",
    "from torch.autograd import Variable\n",
    "import sys\n",
    "sys.path.append(\"../new_flows\")\n",
    "from flows import RealNVP, Planar, MAF\n",
    "from models import NormalizingFlowModel"
   ]
  },
  {
   "cell_type": "code",
   "execution_count": 2,
   "metadata": {},
   "outputs": [],
   "source": [
    "import torch\n",
    "import torch.optim as optim\n",
    "import torch.nn.functional as F\n",
    "from argparse import ArgumentParser\n",
    "from torch.distributions import MultivariateNormal\n",
    "from models import NormalizingFlowModel"
   ]
  },
  {
   "cell_type": "code",
   "execution_count": 3,
   "metadata": {},
   "outputs": [],
   "source": [
    "####MAF \n",
    "class VAE_NF(nn.Module):\n",
    "    def __init__(self, K, D):\n",
    "        super().__init__()\n",
    "        self.dim = D\n",
    "        self.K = K\n",
    "        self.encoder = nn.Sequential(\n",
    "            nn.Linear(10, 50),\n",
    "            nn.LeakyReLU(True),\n",
    "            nn.Linear(50, 30),\n",
    "            nn.LeakyReLU(True),\n",
    "            nn.Linear(30, 20),\n",
    "            nn.LeakyReLU(True),\n",
    "            nn.Linear(20, D * 2)\n",
    "        )\n",
    "\n",
    "        self.decoder = nn.Sequential(\n",
    "            nn.Linear(D, 20),\n",
    "            nn.LeakyReLU(True),\n",
    "            nn.Linear(20, 30),\n",
    "            nn.LeakyReLU(True),\n",
    "            nn.Linear(30, 50),\n",
    "            nn.LeakyReLU(True),\n",
    "            nn.Linear(50, 10)\n",
    "        )\n",
    "        \n",
    "        flow_init = MAF(dim=D)\n",
    "        flows_init = [flow_init for _ in range(K)]\n",
    "        prior = MultivariateNormal(torch.zeros(D).cuda(), torch.eye(D).cuda())\n",
    "        self.flows = NormalizingFlowModel(prior, flows_init)\n",
    "\n",
    "    def forward(self, x):\n",
    "        # Run Encoder and get NF params\n",
    "        enc = self.encoder(x)\n",
    "        mu = enc[:, :self.dim]\n",
    "        log_var = enc[:, self.dim: self.dim * 2]\n",
    "\n",
    "        # Re-parametrize\n",
    "        sigma = (log_var * .5).exp()\n",
    "        z = mu + sigma * torch.randn_like(sigma)\n",
    "        kl_div = -0.5 * torch.sum(1 + log_var - mu.pow(2) - log_var.exp())\n",
    "        # Construct more expressive posterior with NF\n",
    "        \n",
    "        z_k, _, sum_ladj = self.flows(z)\n",
    "        \n",
    "        kl_div = kl_div / x.size(0) - sum_ladj.mean()  # mean over batch\n",
    "\n",
    "        # Run Decoder\n",
    "        x_prime = self.decoder(z_k)\n",
    "        return x_prime, kl_div\n",
    "\n",
    "class VAE_NF_12feat(nn.Module):\n",
    "    def __init__(self, K, D):\n",
    "        super().__init__()\n",
    "        self.dim = D\n",
    "        self.K = K\n",
    "        self.encoder = nn.Sequential(\n",
    "            nn.Linear(12, 50),\n",
    "            nn.LeakyReLU(True),\n",
    "            nn.Linear(50, 30),\n",
    "            nn.LeakyReLU(True),\n",
    "            nn.Linear(30, 20),\n",
    "            nn.LeakyReLU(True),\n",
    "            nn.Linear(20, D * 2)\n",
    "        )\n",
    "\n",
    "        self.decoder = nn.Sequential(\n",
    "            nn.Linear(D, 20),\n",
    "            nn.LeakyReLU(True),\n",
    "            nn.Linear(20, 30),\n",
    "            nn.LeakyReLU(True),\n",
    "            nn.Linear(30, 50),\n",
    "            nn.LeakyReLU(True),\n",
    "            nn.Linear(50, 12)\n",
    "        )\n",
    "        \n",
    "        flow_init = MAF(dim=D)\n",
    "        flows_init = [flow_init for _ in range(K)]\n",
    "        prior = MultivariateNormal(torch.zeros(D).cuda(), torch.eye(D).cuda())\n",
    "        self.flows = NormalizingFlowModel(prior, flows_init)\n",
    "\n",
    "    def forward(self, x):\n",
    "        # Run Encoder and get NF params\n",
    "        enc = self.encoder(x)\n",
    "        mu = enc[:, :self.dim]\n",
    "        log_var = enc[:, self.dim: self.dim * 2]\n",
    "\n",
    "        # Re-parametrize\n",
    "        sigma = (log_var * .5).exp()\n",
    "        z = mu + sigma * torch.randn_like(sigma)\n",
    "        kl_div = -0.5 * torch.sum(1 + log_var - mu.pow(2) - log_var.exp())\n",
    "        # Construct more expressive posterior with NF\n",
    "        \n",
    "        z_k, _, sum_ladj = self.flows(z)\n",
    "        \n",
    "        kl_div = kl_div / x.size(0) - sum_ladj.mean()  # mean over batch\n",
    "\n",
    "        # Run Decoder\n",
    "        x_prime = self.decoder(z_k)\n",
    "        return x_prime, kl_div\n",
    "    \n",
    "\n",
    "#sigmodel = VAE_NF(N_FLOWS, Z_DIM).cuda()\n",
    "\n",
    "sigmodel = VAE_NF_12feat(10, 4).cuda()\n",
    "bkgmodel = VAE_NF_12feat(10, 4).cuda()\n",
    "bkgmodel2 = VAE_NF_12feat(10, 8).cuda()\n",
    "\n",
    "sigae_def = {\n",
    "                        \"type\":\"sig\",\n",
    "                        \"trainon\":\"2prong\",\n",
    "                        \"features\":\"12features\",\n",
    "                        \"architecture\":\"MAF\",\n",
    "                        \"selection\":\"mjjcut\",\n",
    "                        \"trainloss\":\"MSELoss\",\n",
    "                        \"beta\":f\"beta10p0\",\n",
    "                        \"zdimnflow\":f\"z4f10\",\n",
    "                        \"version\":f\"ver0\"\n",
    "\n",
    "                     }\n",
    "\n",
    "bkgae_def = {\n",
    "                        \"type\":\"bkg\",\n",
    "                        \"trainon\":\"rndbkg\",\n",
    "                        \"features\":\"12features\",\n",
    "                        \"architecture\":\"MAF\",\n",
    "                        \"selection\":\"mjjcut\",\n",
    "                        \"trainloss\":\"MSELoss\",\n",
    "                        \"beta\":f\"beta10p0\",\n",
    "                        \"zdimnflow\":f\"z4f10\",\n",
    "                        \"version\":f\"ver0\"\n",
    "\n",
    "                     }\n",
    "\n",
    "sigae3prong_def = {\n",
    "                        \"type\":\"sig\",\n",
    "                        \"trainon\":\"3prong\",\n",
    "                        \"features\":\"12features\",\n",
    "                        \"architecture\":\"MAF\",\n",
    "                        \"selection\":\"mjjcut\",\n",
    "                        \"trainloss\":\"MSELoss\",\n",
    "                        \"beta\":f\"beta10p0\",\n",
    "                        \"zdimnflow\":f\"z4f10\",\n",
    "                        \"version\":f\"ver0\"\n",
    "\n",
    "                     }\n",
    "\n",
    "\n",
    "directory = '/data/t3home000/spark/QUASAR/weights'\n",
    "bkgmodel.load_state_dict(torch.load(f\"{directory}/{bkgae_def['type']}_{bkgae_def['trainon']}_{bkgae_def['features']}_{bkgae_def['architecture']}_{bkgae_def['selection']}_{bkgae_def['trainloss']}_{bkgae_def['beta']}_{bkgae_def['zdimnflow']}_{bkgae_def['version']}.h5\"))\n",
    "sigmodel.load_state_dict(torch.load(f\"{directory}/{sigae_def['type']}_{sigae_def['trainon']}_{sigae_def['features']}_{sigae_def['architecture']}_{sigae_def['selection']}_{sigae_def['trainloss']}_{sigae_def['beta']}_{sigae_def['zdimnflow']}_{sigae_def['version']}.h5\"))\n",
    "bkgloss_rndbkg = np.load(f\"../data_strings/{bkgae_def['type']}_{bkgae_def['trainon']}_{bkgae_def['features']}_{bkgae_def['architecture']}_{bkgae_def['selection']}_{bkgae_def['trainloss']}_{bkgae_def['beta']}_{bkgae_def['zdimnflow']}_{bkgae_def['version']}_bkgloss.npy\")\n",
    "sigloss_rndbkg = np.load(f\"../data_strings/{sigae_def['type']}_{sigae_def['trainon']}_{sigae_def['features']}_{sigae_def['architecture']}_{sigae_def['selection']}_{sigae_def['trainloss']}_{sigae_def['beta']}_{sigae_def['zdimnflow']}_{sigae_def['version']}_bkgloss.npy\")\n",
    "bkgloss_prong2 = np.load(f\"../data_strings/{bkgae_def['type']}_{bkgae_def['trainon']}_{bkgae_def['features']}_{bkgae_def['architecture']}_{bkgae_def['selection']}_{bkgae_def['trainloss']}_{bkgae_def['beta']}_{bkgae_def['zdimnflow']}_{bkgae_def['version']}_sigloss.npy\")\n",
    "sigloss_prong2 = np.load(f\"../data_strings/{sigae_def['type']}_{sigae_def['trainon']}_{sigae_def['features']}_{sigae_def['architecture']}_{sigae_def['selection']}_{sigae_def['trainloss']}_{sigae_def['beta']}_{sigae_def['zdimnflow']}_{sigae_def['version']}_sigloss.npy\")\n",
    "\n",
    "\n",
    "sig2loss_rndbkg = np.load(f\"../data_strings/{sigae3prong_def['type']}_{sigae3prong_def['trainon']}_{sigae3prong_def['features']}_{sigae3prong_def['architecture']}_{sigae3prong_def['selection']}_{sigae3prong_def['trainloss']}_{sigae3prong_def['beta']}_{sigae3prong_def['zdimnflow']}_{sigae3prong_def['version']}_bkgloss.npy\")\n",
    "sig2loss_prong2 = np.load(f\"../data_strings/{sigae3prong_def['type']}_{sigae3prong_def['trainon']}_{sigae3prong_def['features']}_{sigae3prong_def['architecture']}_{sigae3prong_def['selection']}_{sigae3prong_def['trainloss']}_{sigae3prong_def['beta']}_{sigae3prong_def['zdimnflow']}_{sigae3prong_def['version']}_sigloss.npy\")\n",
    "\n",
    "\n"
   ]
  },
  {
   "cell_type": "code",
   "execution_count": 8,
   "metadata": {},
   "outputs": [],
   "source": [
    "def get_mass_and_loss(filename):\n",
    "    \n",
    "    bkg_mean = [229.63703733315916,\n",
    " 0.5040889514020693,\n",
    " 0.7057013083107537,\n",
    " 0.7997482828680078,\n",
    " 1.962088799505638,\n",
    " 255.28311110430732,\n",
    " 104.75378636669201,\n",
    " 0.5826962213587913,\n",
    " 0.7337977883611374,\n",
    " 0.7995755223103627,\n",
    " 2.4171146383976034,\n",
    " 159.75951298419648]\n",
    "    \n",
    "    bkg_std = [131.99460164832075,\n",
    " 0.1849760683347428,\n",
    " 0.12816197632833803,\n",
    " 0.0865553075423761,\n",
    " 0.7978444985340304,\n",
    " 111.36202699158525,\n",
    " 68.17314726646633,\n",
    " 0.17458368821556094,\n",
    " 0.11581000682757887,\n",
    " 0.08481896882883566,\n",
    " 1.1084488583498446,\n",
    " 83.52566008451547]\n",
    "    \n",
    "    sig_mean = [489.6699791129437,\n",
    " 0.22463354907052815,\n",
    " 0.639679230886038,\n",
    " 0.7742464847783065,\n",
    " 1.4122267488712905,\n",
    " 253.95296492556145,\n",
    " 167.8782919951573,\n",
    " 0.3429350853771621,\n",
    " 0.6460772390759577,\n",
    " 0.7653966882661628,\n",
    " 1.4541020071952622,\n",
    " 165.34100428967955]\n",
    "    \n",
    "    sig_std = [66.87936517220672,\n",
    " 0.1361910116638729,\n",
    " 0.15309413231859276,\n",
    " 0.10054671892302457,\n",
    " 0.3833027691949484,\n",
    " 87.45977372109115,\n",
    " 50.53622336909848,\n",
    " 0.14930126292179366,\n",
    " 0.15096516491915418,\n",
    " 0.10415175051343364,\n",
    " 0.44297590229588857,\n",
    " 55.44436453890166]\n",
    "    \n",
    "    \n",
    "    sig2_mean = [539.8230906175115,\n",
    " 0.3093919504152834,\n",
    " 0.5743852002513076,\n",
    " 0.7250999951321894,\n",
    " 1.3980643297136106,\n",
    " 305.10717416378316,\n",
    " 417.50598164552935,\n",
    " 0.3423973996112709,\n",
    " 0.5859205785605542,\n",
    " 0.7492831266044925,\n",
    " 1.6350968023267969,\n",
    " 261.31617070357555]\n",
    "    \n",
    "    sig2_std = [104.54956422929888,\n",
    " 0.12679648500311186,\n",
    " 0.13543619747203547,\n",
    " 0.11808533829680096,\n",
    " 0.34103400809131684,\n",
    " 100.12586819876644,\n",
    " 88.97967256083908,\n",
    " 0.1495063860755517,\n",
    " 0.14289850921322486,\n",
    " 0.11224475793826029,\n",
    " 0.5509216479879365,\n",
    " 82.84269505360622]\n",
    "    \n",
    "    #supervised_loss_list = []\n",
    "    #sigae_loss_list = []\n",
    "    #bkgae_loss_list = []\n",
    "\n",
    "    \n",
    "    f = pd.read_hdf(filename)\n",
    "    dt = f.values\n",
    "    correct = (dt[:,3]>0) &(dt[:,19]>0) & (dt[:,1]>0) & (dt[:,2]>0)\n",
    "    dt = dt[correct]\n",
    "    for i in range(13,19):\n",
    "        dt[:,i] = dt[:,i]/dt[:,3]\n",
    "\n",
    "    for i in range(29,35):\n",
    "        dt[:,i] = dt[:,i]/(dt[:,19])\n",
    "        \n",
    "    correct = (dt[:,0]>=2800)\n",
    "    dt = dt[correct]\n",
    "\n",
    "    correct = (dt[:,3]>100)\n",
    "    dt = dt[correct]\n",
    "\n",
    "    correct = (dt[:,19]>20)\n",
    "    dt = dt[correct]\n",
    "    \n",
    "    X_no_jetmass = dt[:,[4,5,6,11,12,20,21,22,27,28]]\n",
    "    X_with_jetmass = dt[:,[3,4,5,6,11,12,19,20,21,22,27,28]]\n",
    "    X_sig = dt[:,[3,4,5,6,11,12,19,20,21,22,27,28]]\n",
    "    X_bkg = dt[:,[3,4,5,6,11,12,19,20,21,22,27,28]]\n",
    "        \n",
    "    for i, (bkgmean,bkgstd,sigmean,sigstd) in enumerate(zip(bkg_mean,bkg_std,sig_mean, sig_std)):\n",
    "        X_bkg[:,i] = (X_with_jetmass[:,i]-bkgmean)/bkgstd\n",
    "        X_sig[:,i] = (X_with_jetmass[:,i]-sigmean)/sigstd\n",
    "        #print(bkgmean,bkgstd)\n",
    "        \n",
    "    bkgae_test = torch.tensor(X_bkg)\n",
    "    sigae_test = torch.tensor(X_sig)\n",
    "    \n",
    "    \n",
    "    sigmodel.eval()\n",
    "    bkgmodel.eval()\n",
    "    sigae_loss = torch.mean((sigmodel(sigae_test.float().cuda())[0]- sigae_test.float().cuda())**2,dim=1).data.cpu().numpy()\n",
    "    bkgae_loss = torch.mean((bkgmodel(bkgae_test.float().cuda())[0]- bkgae_test.float().cuda())**2,dim=1).data.cpu().numpy()\n",
    "    \n",
    "\n",
    "    return dt[:,0], sigae_loss, bkgae_loss\n",
    "\n",
    "        \n",
    "    \n",
    "    "
   ]
  },
  {
   "cell_type": "code",
   "execution_count": 9,
   "metadata": {},
   "outputs": [],
   "source": [
    "mass, sigloss, bkgloss = get_mass_and_loss('/data/t3home000/spark/QUASAR/preprocessing/conventional_tau_BB1_rnd.h5')"
   ]
  },
  {
   "cell_type": "code",
   "execution_count": 208,
   "metadata": {},
   "outputs": [],
   "source": [
    "bkg_mass, bkg_sigloss, bkg_bkgloss = get_mass_and_loss('/data/t3home000/spark/QUASAR/preprocessing/conventional_tau_background.h5')"
   ]
  },
  {
   "cell_type": "code",
   "execution_count": 219,
   "metadata": {},
   "outputs": [],
   "source": []
  },
  {
   "cell_type": "code",
   "execution_count": 220,
   "metadata": {},
   "outputs": [],
   "source": [
    "bb_mass  = np.load('blackbox_mass.npy')\n",
    "bb_sigloss = np.load('blackbox_sigloss.npy')\n",
    "bb_bkgloss = np.load('blackbox_bkgloss.npy')\n",
    "qcd_mass = np.load('QCDMC_mass.npy')\n",
    "qcd_sigloss = np.load('QCDMC_sigloss.npy')\n",
    "qcd_bkgloss = np.load('QCDMC_bkgloss.npy')"
   ]
  },
  {
   "cell_type": "code",
   "execution_count": null,
   "metadata": {},
   "outputs": [],
   "source": []
  },
  {
   "cell_type": "code",
   "execution_count": null,
   "metadata": {},
   "outputs": [],
   "source": []
  },
  {
   "cell_type": "code",
   "execution_count": null,
   "metadata": {},
   "outputs": [],
   "source": []
  },
  {
   "cell_type": "code",
   "execution_count": null,
   "metadata": {},
   "outputs": [],
   "source": []
  },
  {
   "cell_type": "code",
   "execution_count": null,
   "metadata": {},
   "outputs": [],
   "source": []
  },
  {
   "cell_type": "code",
   "execution_count": null,
   "metadata": {},
   "outputs": [],
   "source": []
  },
  {
   "cell_type": "code",
   "execution_count": 210,
   "metadata": {},
   "outputs": [
    {
     "data": {
      "image/png": "[encoded data removed]",
      "text/plain": [
       "<Figure size 432x288 with 1 Axes>"
      ]
     },
     "metadata": {
      "needs_background": "light"
     },
     "output_type": "display_data"
    }
   ],
   "source": [
    "plt.hist(bkg_mass[], bins = np.arange(2800,8000,100));"
   ]
  },
  {
   "cell_type": "code",
   "execution_count": 11,
   "metadata": {},
   "outputs": [
    {
     "data": {
      "image/png": "[encoded data removed]",
      "text/plain": [
       "<Figure size 432x288 with 1 Axes>"
      ]
     },
     "metadata": {
      "needs_background": "light"
     },
     "output_type": "display_data"
    }
   ],
   "source": [
    "plt.hist(mass, bins = np.arange(2800,8000,100));"
   ]
  },
  {
   "cell_type": "code",
   "execution_count": 34,
   "metadata": {},
   "outputs": [
    {
     "data": {
      "image/png": "[encoded data removed]",
      "text/plain": [
       "<Figure size 432x288 with 1 Axes>"
      ]
     },
     "metadata": {
      "needs_background": "light"
     },
     "output_type": "display_data"
    }
   ],
   "source": [
    "plt.hist(bkgloss,bins=np.arange(0,10,0.01));"
   ]
  },
  {
   "cell_type": "code",
   "execution_count": 191,
   "metadata": {},
   "outputs": [
    {
     "data": {
      "image/png": "[encoded data removed]",
      "text/plain": [
       "<Figure size 432x288 with 1 Axes>"
      ]
     },
     "metadata": {
      "needs_background": "light"
     },
     "output_type": "display_data"
    }
   ],
   "source": [
    "plt.hist(sigloss,bins=np.arange(0,2,0.01));"
   ]
  },
  {
   "cell_type": "code",
   "execution_count": 145,
   "metadata": {},
   "outputs": [],
   "source": [
    "bbidx = np.where( (bkgloss > 5) & (sigloss<8))[0]"
   ]
  },
  {
   "cell_type": "code",
   "execution_count": 223,
   "metadata": {},
   "outputs": [
    {
     "data": {
      "text/plain": [
       "<matplotlib.lines.Line2D at 0x7ff5acc9ba90>"
      ]
     },
     "execution_count": 223,
     "metadata": {},
     "output_type": "execute_result"
    },
    {
     "data": {
      "image/png": "[encoded data removed]",
      "text/plain": [
       "<Figure size 432x288 with 1 Axes>"
      ]
     },
     "metadata": {
      "needs_background": "light"
     },
     "output_type": "display_data"
    }
   ],
   "source": [
    "bbidx = np.where( (bkgloss > 5) & (sigloss<6))[0]\n",
    "plt.hist(mass[bbidx], bins = np.arange(2800,8000,150));\n",
    "plt.axvline(x=3823,color='r')"
   ]
  },
  {
   "cell_type": "code",
   "execution_count": 149,
   "metadata": {},
   "outputs": [
    {
     "data": {
      "text/plain": [
       "<matplotlib.lines.Line2D at 0x7ff5b131e7b8>"
      ]
     },
     "execution_count": 149,
     "metadata": {},
     "output_type": "execute_result"
    },
    {
     "data": {
      "image/png": "[encoded data removed]",
      "text/plain": [
       "<Figure size 432x288 with 1 Axes>"
      ]
     },
     "metadata": {
      "needs_background": "light"
     },
     "output_type": "display_data"
    }
   ],
   "source": [
    "bbidx = np.where( (bkgloss > 4) & (sigloss<7.5))[0]\n",
    "plt.hist(mass[bbidx], bins = np.arange(2800,8000,150));\n",
    "plt.axvline(x=3823,color='r')"
   ]
  },
  {
   "cell_type": "code",
   "execution_count": 153,
   "metadata": {},
   "outputs": [
    {
     "data": {
      "text/plain": [
       "<matplotlib.lines.Line2D at 0x7ff5b0b983c8>"
      ]
     },
     "execution_count": 153,
     "metadata": {},
     "output_type": "execute_result"
    },
    {
     "data": {
      "image/png": "[encoded data removed]",
      "text/plain": [
       "<Figure size 432x288 with 1 Axes>"
      ]
     },
     "metadata": {
      "needs_background": "light"
     },
     "output_type": "display_data"
    }
   ],
   "source": [
    "bbidx = np.where( (bkgloss > 3.7) & (sigloss<5))[0]\n",
    "plt.hist(mass[bbidx], bins = np.arange(2800,8000,150));\n",
    "plt.axvline(x=3823,color='r')"
   ]
  },
  {
   "cell_type": "code",
   "execution_count": 158,
   "metadata": {},
   "outputs": [
    {
     "data": {
      "text/plain": [
       "<matplotlib.lines.Line2D at 0x7ff5b0388518>"
      ]
     },
     "execution_count": 158,
     "metadata": {},
     "output_type": "execute_result"
    },
    {
     "data": {
      "image/png": "[encoded data removed]",
      "text/plain": [
       "<Figure size 432x288 with 1 Axes>"
      ]
     },
     "metadata": {
      "needs_background": "light"
     },
     "output_type": "display_data"
    }
   ],
   "source": [
    "bbidx = np.where( (bkgloss > 4.5) & (sigloss<7))[0]\n",
    "plt.hist(mass[bbidx], bins = np.arange(2800,8000,100));\n",
    "plt.axvline(x=3823,color='r')"
   ]
  },
  {
   "cell_type": "code",
   "execution_count": 176,
   "metadata": {},
   "outputs": [
    {
     "data": {
      "text/plain": [
       "<matplotlib.lines.Line2D at 0x7ff5aef52f98>"
      ]
     },
     "execution_count": 176,
     "metadata": {},
     "output_type": "execute_result"
    },
    {
     "data": {
      "image/png": "[encoded data removed]",
      "text/plain": [
       "<Figure size 432x288 with 1 Axes>"
      ]
     },
     "metadata": {
      "needs_background": "light"
     },
     "output_type": "display_data"
    }
   ],
   "source": [
    "bbidx = np.where( (bkgloss > 4) & (sigloss<5.5))[0]\n",
    "plt.hist(mass[bbidx], bins = np.arange(2800,8000,150));\n",
    "plt.axvline(x=3823,color='r')"
   ]
  },
  {
   "cell_type": "code",
   "execution_count": 211,
   "metadata": {},
   "outputs": [
    {
     "data": {
      "text/plain": [
       "<matplotlib.lines.Line2D at 0x7ff5ad64a828>"
      ]
     },
     "execution_count": 211,
     "metadata": {},
     "output_type": "execute_result"
    },
    {
     "data": {
      "image/png": "[encoded data removed]",
      "text/plain": [
       "<Figure size 432x288 with 1 Axes>"
      ]
     },
     "metadata": {
      "needs_background": "light"
     },
     "output_type": "display_data"
    }
   ],
   "source": [
    "bkg_bbidx = np.where( (bkg_bkgloss > 5.8) & (bkg_sigloss<8))[0]\n",
    "plt.hist(bkg_mass[bkg_bbidx], bins = np.arange(2800,8000,150));\n",
    "plt.axvline(x=3823,color='r')"
   ]
  },
  {
   "cell_type": "code",
   "execution_count": 226,
   "metadata": {},
   "outputs": [
    {
     "data": {
      "image/png": "[encoded data removed]",
      "text/plain": [
       "<Figure size 432x288 with 1 Axes>"
      ]
     },
     "metadata": {
      "needs_background": "light"
     },
     "output_type": "display_data"
    }
   ],
   "source": [
    "bbidx = np.where( (bkgloss > 5.8) & (sigloss<8))[0]\n",
    "plt.hist(mass[bbidx], bins = np.arange(2800,8000,200));\n",
    "plt.axvline(x=3823,color='r')\n",
    "\n",
    "bkg_bbidx = np.where( (bkg_bkgloss > 5.8) & (bkg_sigloss<8))[0]\n",
    "plt.hist(bkg_mass[bkg_bbidx], bins = np.arange(2800,8000,200),color='orange');\n"
   ]
  },
  {
   "cell_type": "code",
   "execution_count": 207,
   "metadata": {},
   "outputs": [
    {
     "data": {
      "text/plain": [
       "<matplotlib.lines.Line2D at 0x7ff5ad809f60>"
      ]
     },
     "execution_count": 207,
     "metadata": {},
     "output_type": "execute_result"
    },
    {
     "data": {
      "image/png": "[encoded data removed]",
      "text/plain": [
       "<Figure size 432x288 with 1 Axes>"
      ]
     },
     "metadata": {
      "needs_background": "light"
     },
     "output_type": "display_data"
    }
   ],
   "source": [
    "bbidx = np.where( (bkgloss > 3.3) & (sigloss<3.6))[0]\n",
    "plt.hist(mass[bbidx], bins = np.arange(2800,8000,150));\n",
    "plt.axvline(x=3823,color='r')"
   ]
  },
  {
   "cell_type": "code",
   "execution_count": null,
   "metadata": {},
   "outputs": [],
   "source": []
  }
 ],
 "metadata": {
  "kernelspec": {
   "display_name": "Python 3",
   "language": "python",
   "name": "python3"
  },
  "language_info": {
   "codemirror_mode": {
    "name": "ipython",
    "version": 3
   },
   "file_extension": ".py",
   "mimetype": "text/x-python",
   "name": "python",
   "nbconvert_exporter": "python",
   "pygments_lexer": "ipython3",
   "version": "3.6.7"
  }
 },
 "nbformat": 4,
 "nbformat_minor": 4
}
