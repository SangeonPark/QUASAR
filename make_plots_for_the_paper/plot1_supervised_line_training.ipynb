{
 "cells": [
  {
   "cell_type": "code",
   "execution_count": 1,
   "metadata": {},
   "outputs": [],
   "source": [
    "import time\n",
    "import tqdm\n",
    "import numpy as np \n",
    "import matplotlib.pyplot as plt\n",
    "import pandas as pd\n",
    "import torch \n",
    "import torch.nn as nn \n",
    "import torch.nn.functional as F \n",
    "import torch.optim as optim \n",
    "import torch.utils.data as utils\n",
    "import torch.nn.init as init\n",
    "from torch.autograd import Variable\n",
    "import sys\n",
    "sys.path.append(\"../new_flows\")\n",
    "from flows import RealNVP, Planar, MAF\n",
    "from models import NormalizingFlowModel"
   ]
  },
  {
   "cell_type": "code",
   "execution_count": 2,
   "metadata": {},
   "outputs": [],
   "source": [
    "import torch\n",
    "import torch.optim as optim\n",
    "import torch.nn.functional as F\n",
    "from argparse import ArgumentParser\n",
    "from torch.distributions import MultivariateNormal\n",
    "from models import NormalizingFlowModel"
   ]
  },
  {
   "cell_type": "code",
   "execution_count": 3,
   "metadata": {},
   "outputs": [],
   "source": [
    "rnd_data = pd.read_hdf(\"/data/t3home000/spark/QUASAR/preprocessing/conventional_tau_rnd.h5\")\n",
    "\n",
    "testprior_data = pd.read_hdf(\"/data/t3home000/spark/QUASAR/preprocessing/ThreeProng_5000_500_500.h5\")"
   ]
  },
  {
   "cell_type": "code",
   "execution_count": 4,
   "metadata": {},
   "outputs": [
    {
     "data": {
      "text/plain": [
       "Index(['Mjj', 'j1 pT', 'j2 pT', 'Mj1', 'j1 tau21', 'j1 tau32', 'j1 tau43',\n",
       "       'j1 tau54', 'j1 tau65', 'j1 tau76', 'j1 tau87',\n",
       "       'j1 sqrt(tau^2_1)/tau^1_1', 'j1 n_trk', 'j1 M_trim', 'j1 M_prun',\n",
       "       'j1 M_mmdt', 'j1 M_sdb1', 'j1 M_sdb2', 'j1 M_sdm1', 'Mj2', 'j2 tau21',\n",
       "       'j2 tau32', 'j2 tau43', 'j2 tau54', 'j2 tau65', 'j2 tau76', 'j2 tau87',\n",
       "       'j2 sqrt(tau^2_1)/tau^1_1', 'j2 n_trk', 'j2 M_trim', 'j2 M_prun',\n",
       "       'j2 M_mmdt', 'j2 M_sdb1', 'j2 M_sdb2', 'j2 M_sdm1', 'isSignal'],\n",
       "      dtype='object')"
      ]
     },
     "execution_count": 4,
     "metadata": {},
     "output_type": "execute_result"
    }
   ],
   "source": [
    "rnd_data.columns"
   ]
  },
  {
   "cell_type": "code",
   "execution_count": 5,
   "metadata": {},
   "outputs": [],
   "source": [
    "dt = rnd_data.values\n",
    "dt_prior = testprior_data.values\n",
    "\n",
    "correct = (dt[:,3]>0) &(dt[:,19]>0) & (dt[:,1]>0) & (dt[:,2]>0)\n",
    "dt = dt[correct]\n",
    "\n",
    "correct = (dt_prior[:,3]>0) &(dt_prior[:,19]>0) & (dt_prior[:,1]>0) & (dt_prior[:,2]>0)\n",
    "dt_prior = dt_prior[correct]\n",
    "\n",
    "for i in range(13,19):\n",
    "    dt[:,i] = dt[:,i]/dt[:,3]\n",
    "\n",
    "for i in range(29,35):\n",
    "    dt[:,i] = dt[:,i]/(dt[:,19])\n",
    "\n",
    "for i in range(13,19):\n",
    "    dt_prior[:,i] = dt_prior[:,i]/dt_prior[:,3]\n",
    "\n",
    "for i in range(29,35):\n",
    "    dt_prior[:,i] = dt_prior[:,i]/(dt_prior[:,19])\n",
    "#correct = (dt[:,16]>0) & (dt[:,29]>=0) & (dt[:,29]<=1)&(dt[:,30]>=0) &(dt[:,30]<=1)&(dt[:,31]>=0) &(dt[:,31]<=1)&(dt[:,32]>=0) &(dt[:,32]<=1)&(dt[:,33]>=0) &(dt[:,33]<=1)&(dt[:,34]>=-0.01) &(dt[:,34]<=1)\n",
    "#dt = dt[correct]\n",
    "\n",
    "\n",
    "#Y = dt[:,[3,4,5,6,11,12,19,20,21,22,27,28]]\n",
    "#Y = dt[:,[4,5,6,7,8,11,12,13,14,15,16,17,18,20,21,22,23,24,27,28,29,30,31,32,33,34]] # When no jet 1,2 raw mass included\n",
    "#Y = dt[:,[3,4,5,6,11,12,13,14,15,16,17,18,19,20,21,22,27,28,29,30,31,32,33,34]]\n",
    "#bkg_idx = np.where(idx==0)[0]\n",
    "##signal_idx = np.where((idx==1)) [0]\n",
    "#dt = dt[signal_idx]\n",
    "correct = (dt[:,0]>=2800)\n",
    "dt = dt[correct]   \n",
    "\n",
    "correct = (dt_prior[:,0]>=2800)\n",
    "dt_prior = dt_prior[correct] \n",
    "\n",
    "idx = dt[:,-1]\n",
    "sig_idx = np.where((dt_prior[:,3]>400) & (dt_prior[:,3]<600) & (dt_prior[:,19]>400) & (dt_prior[:,19]<600) & (dt_prior[:,0]>4500) & (dt_prior[:,0]<5300))[0]\n",
    "bkg_idx = np.where(idx==0)[0]\n",
    "#bsmlike = np.where(dt[:,16]>0.9)[0]\n",
    "#dt = dt[bsmlike]\n",
    "\n",
    "dt_sig = dt_prior[sig_idx]\n",
    "dt_bkg = dt[bkg_idx]"
   ]
  },
  {
   "cell_type": "code",
   "execution_count": 6,
   "metadata": {},
   "outputs": [
    {
     "data": {
      "image/png": "[encoded data removed]",
      "text/plain": [
       "<Figure size 432x288 with 1 Axes>"
      ]
     },
     "metadata": {
      "needs_background": "light"
     },
     "output_type": "display_data"
    }
   ],
   "source": [
    "plt.hist(dt_sig[:,0],bins=np.arange(2800,8000,25));"
   ]
  },
  {
   "cell_type": "code",
   "execution_count": 7,
   "metadata": {},
   "outputs": [
    {
     "data": {
      "image/png": "[encoded data removed]",
      "text/plain": [
       "<Figure size 432x288 with 1 Axes>"
      ]
     },
     "metadata": {
      "needs_background": "light"
     },
     "output_type": "display_data"
    }
   ],
   "source": [
    "plt.hist(dt_sig[:,3],bins=np.arange(0,800,10));"
   ]
  },
  {
   "cell_type": "code",
   "execution_count": 8,
   "metadata": {},
   "outputs": [
    {
     "data": {
      "image/png": "[encoded data removed]",
      "text/plain": [
       "<Figure size 432x288 with 1 Axes>"
      ]
     },
     "metadata": {
      "needs_background": "light"
     },
     "output_type": "display_data"
    }
   ],
   "source": [
    "plt.hist(dt_sig[:,19],bins=np.arange(0,800,10));"
   ]
  },
  {
   "cell_type": "code",
   "execution_count": 9,
   "metadata": {},
   "outputs": [
    {
     "data": {
      "text/plain": [
       "(12774, 35)"
      ]
     },
     "execution_count": 9,
     "metadata": {},
     "output_type": "execute_result"
    }
   ],
   "source": [
    "dt_sig.shape"
   ]
  },
  {
   "cell_type": "code",
   "execution_count": 10,
   "metadata": {},
   "outputs": [],
   "source": [
    "X_12feats = np.concatenate((dt_sig[:,[3,4,5,6,11,12,19,20,21,22,27,28]],dt_bkg[:,[3,4,5,6,11,12,19,20,21,22,27,28]]),axis=0)\n",
    "\n",
    "X = np.concatenate((dt_sig[:,[4,5,6,11,12,20,21,22,27,28]],dt_bkg[:,[4,5,6,11,12,20,21,22,27,28]]),axis=0)\n",
    "\n",
    "X_12feats.shape\n",
    "\n",
    "X.shape\n",
    "\n",
    "mean_10feats = []\n",
    "std_10feats = []\n",
    "for i in range(10):\n",
    "    mean = np.mean(X[:,i])\n",
    "    std = np.std(X[:,i])\n",
    "    mean_10feats.append(mean)\n",
    "    std_10feats.append(std)\n",
    "    X[:,i] = (X[:,i]-mean)/std\n",
    "\n",
    "mean_12feats = []\n",
    "std_12feats = []\n",
    "for i in range(12):\n",
    "    mean = np.mean(X_12feats[:,i])\n",
    "    std = np.std(X_12feats[:,i])\n",
    "    mean_12feats.append(mean)\n",
    "    std_12feats.append(std)\n",
    "    X_12feats[:,i] = (X_12feats[:,i]-mean)/std\n",
    "\n",
    "mean_10feats\n",
    "\n",
    "mean_12feats\n",
    "\n",
    "idx = dt[:,-1]\n",
    "bkg_idx = np.where(idx==0)[0]\n",
    "signal_idx = np.where(idx==1)[0]\n",
    "\n",
    "X.shape\n",
    "\n",
    "y = np.concatenate((np.ones(len(dt_sig[:,0])),np.zeros(len(dt_bkg[:,0]))))"
   ]
  },
  {
   "cell_type": "code",
   "execution_count": 11,
   "metadata": {},
   "outputs": [
    {
     "data": {
      "text/plain": [
       "(600681,)"
      ]
     },
     "execution_count": 11,
     "metadata": {},
     "output_type": "execute_result"
    }
   ],
   "source": [
    "y.shape"
   ]
  },
  {
   "cell_type": "code",
   "execution_count": 12,
   "metadata": {},
   "outputs": [
    {
     "data": {
      "text/plain": [
       "(600681, 10)"
      ]
     },
     "execution_count": 12,
     "metadata": {},
     "output_type": "execute_result"
    }
   ],
   "source": [
    "X.shape"
   ]
  },
  {
   "cell_type": "code",
   "execution_count": 13,
   "metadata": {},
   "outputs": [
    {
     "data": {
      "text/plain": [
       "(600681, 12)"
      ]
     },
     "execution_count": 13,
     "metadata": {},
     "output_type": "execute_result"
    }
   ],
   "source": [
    "X_12feats.shape"
   ]
  },
  {
   "cell_type": "code",
   "execution_count": 14,
   "metadata": {},
   "outputs": [],
   "source": [
    "from sklearn.model_selection import train_test_split"
   ]
  },
  {
   "cell_type": "code",
   "execution_count": 15,
   "metadata": {},
   "outputs": [],
   "source": [
    "X_train, X_val, y_train, y_val = train_test_split(\n",
    "    X, y, test_size=0.2, random_state=42)\n",
    "\n",
    "X_val, X_test, y_val, y_test = train_test_split(\n",
    "    X_val, y_val, test_size=0.5, random_state=42)"
   ]
  },
  {
   "cell_type": "code",
   "execution_count": 16,
   "metadata": {},
   "outputs": [
    {
     "name": "stdout",
     "output_type": "stream",
     "text": [
      "(480544, 10) (60068, 10) (60069, 10)\n"
     ]
    }
   ],
   "source": [
    "print(X_train.shape, X_val.shape, X_test.shape)"
   ]
  },
  {
   "cell_type": "code",
   "execution_count": 17,
   "metadata": {},
   "outputs": [],
   "source": [
    "class trainData(utils.Dataset):\n",
    "    \n",
    "    def __init__(self, X_data, y_data):\n",
    "        self.X_data = X_data\n",
    "        self.y_data = y_data\n",
    "        \n",
    "    def __getitem__(self, index):\n",
    "        return self.X_data[index], self.y_data[index]\n",
    "        \n",
    "    def __len__ (self):\n",
    "        return len(self.X_data)\n",
    "\n",
    "\n",
    "\n",
    "## test data    \n",
    "class testData(utils.Dataset):\n",
    "    \n",
    "    def __init__(self, X_data):\n",
    "        self.X_data = X_data\n",
    "        \n",
    "    def __getitem__(self, index):\n",
    "        return self.X_data[index]\n",
    "        \n",
    "    def __len__ (self):\n",
    "        return len(self.X_data)\n",
    "    \n",
    "\n"
   ]
  },
  {
   "cell_type": "code",
   "execution_count": 18,
   "metadata": {},
   "outputs": [],
   "source": [
    "train_data = trainData(torch.FloatTensor(X_train.astype(np.float)),torch.FloatTensor(y_train.astype(np.float)))\n",
    "val_data = trainData(torch.FloatTensor(X_val.astype(np.float)),torch.FloatTensor(y_val.astype(np.float)))\n",
    "test_data = testData(torch.FloatTensor(X_test.astype(np.float))) "
   ]
  },
  {
   "cell_type": "code",
   "execution_count": 19,
   "metadata": {},
   "outputs": [],
   "source": [
    "import torch"
   ]
  },
  {
   "cell_type": "code",
   "execution_count": 20,
   "metadata": {},
   "outputs": [
    {
     "data": {
      "text/plain": [
       "True"
      ]
     },
     "execution_count": 20,
     "metadata": {},
     "output_type": "execute_result"
    }
   ],
   "source": [
    "torch.cuda.is_available()"
   ]
  },
  {
   "cell_type": "code",
   "execution_count": 21,
   "metadata": {},
   "outputs": [
    {
     "name": "stdout",
     "output_type": "stream",
     "text": [
      "cuda:0\n"
     ]
    },
    {
     "data": {
      "text/plain": [
       "'GeForce GTX 1080 Ti'"
      ]
     },
     "execution_count": 21,
     "metadata": {},
     "output_type": "execute_result"
    }
   ],
   "source": [
    "device = torch.device(\"cuda:0\" if torch.cuda.is_available() else \"cpu\")\n",
    "print(device)\n",
    "torch.cuda.get_device_name(0)"
   ]
  },
  {
   "cell_type": "code",
   "execution_count": 22,
   "metadata": {},
   "outputs": [],
   "source": [
    "BATCH_SIZE = 1000\n",
    "N_EPOCHS = 80\n",
    "PRINT_INTERVAL = 2000\n",
    "NUM_WORKERS = 4\n",
    "LR = 1e-4"
   ]
  },
  {
   "cell_type": "code",
   "execution_count": 23,
   "metadata": {},
   "outputs": [],
   "source": [
    "class Net(nn.Module):\n",
    "\n",
    "    def __init__(self):\n",
    "        super(Net, self).__init__()\n",
    "        \n",
    "        self.linear1 = nn.Linear(10,84)\n",
    "        self.linear2 = nn.Linear(84,42)\n",
    "        self.linear3 = nn.Linear(42,21)\n",
    "        self.linear4 = nn.Linear(21,10)\n",
    "        self.linear5 = nn.Linear(10,5)\n",
    "        self.linear_out = nn.Linear(5,1)\n",
    "        \n",
    "        self.dropout = nn.Dropout(p=0.1)\n",
    "        self.batchnorm1 = nn.BatchNorm1d(84)\n",
    "        self.batchnorm2 = nn.BatchNorm1d(42)\n",
    "        self.batchnorm3 = nn.BatchNorm1d(21)\n",
    "        self.batchnorm4 = nn.BatchNorm1d(10)\n",
    "        self.batchnorm5 = nn.BatchNorm1d(5)\n",
    "        \n",
    "\n",
    "    def forward(self, x):\n",
    "        x = self.batchnorm1(self.linear1(x))\n",
    "        x = F.leaky_relu(x)\n",
    "        x = self.dropout(x)\n",
    "        x = self.batchnorm2(self.linear2(x))\n",
    "        x = F.leaky_relu(x)\n",
    "        x = self.dropout(x)\n",
    "        x = self.batchnorm3(self.linear3(x))\n",
    "        x = F.leaky_relu(x)\n",
    "        x = self.dropout(x)\n",
    "        x = self.batchnorm4(self.linear4(x))\n",
    "        x = F.leaky_relu(x)\n",
    "        x = self.dropout(x)\n",
    "        x = self.batchnorm5(self.linear5(x))\n",
    "        x = F.leaky_relu(x)\n",
    "        x = self.linear_out(x)\n",
    "        return x\n",
    "\n",
    "\n",
    "\n"
   ]
  },
  {
   "cell_type": "code",
   "execution_count": 24,
   "metadata": {},
   "outputs": [
    {
     "name": "stdout",
     "output_type": "stream",
     "text": [
      "Net(\n",
      "  (linear1): Linear(in_features=10, out_features=84, bias=True)\n",
      "  (linear2): Linear(in_features=84, out_features=42, bias=True)\n",
      "  (linear3): Linear(in_features=42, out_features=21, bias=True)\n",
      "  (linear4): Linear(in_features=21, out_features=10, bias=True)\n",
      "  (linear5): Linear(in_features=10, out_features=5, bias=True)\n",
      "  (linear_out): Linear(in_features=5, out_features=1, bias=True)\n",
      "  (dropout): Dropout(p=0.1, inplace=False)\n",
      "  (batchnorm1): BatchNorm1d(84, eps=1e-05, momentum=0.1, affine=True, track_running_stats=True)\n",
      "  (batchnorm2): BatchNorm1d(42, eps=1e-05, momentum=0.1, affine=True, track_running_stats=True)\n",
      "  (batchnorm3): BatchNorm1d(21, eps=1e-05, momentum=0.1, affine=True, track_running_stats=True)\n",
      "  (batchnorm4): BatchNorm1d(10, eps=1e-05, momentum=0.1, affine=True, track_running_stats=True)\n",
      "  (batchnorm5): BatchNorm1d(5, eps=1e-05, momentum=0.1, affine=True, track_running_stats=True)\n",
      ")\n"
     ]
    },
    {
     "data": {
      "text/plain": [
       "Net(\n",
       "  (linear1): Linear(in_features=10, out_features=84, bias=True)\n",
       "  (linear2): Linear(in_features=84, out_features=42, bias=True)\n",
       "  (linear3): Linear(in_features=42, out_features=21, bias=True)\n",
       "  (linear4): Linear(in_features=21, out_features=10, bias=True)\n",
       "  (linear5): Linear(in_features=10, out_features=5, bias=True)\n",
       "  (linear_out): Linear(in_features=5, out_features=1, bias=True)\n",
       "  (dropout): Dropout(p=0.1, inplace=False)\n",
       "  (batchnorm1): BatchNorm1d(84, eps=1e-05, momentum=0.1, affine=True, track_running_stats=True)\n",
       "  (batchnorm2): BatchNorm1d(42, eps=1e-05, momentum=0.1, affine=True, track_running_stats=True)\n",
       "  (batchnorm3): BatchNorm1d(21, eps=1e-05, momentum=0.1, affine=True, track_running_stats=True)\n",
       "  (batchnorm4): BatchNorm1d(10, eps=1e-05, momentum=0.1, affine=True, track_running_stats=True)\n",
       "  (batchnorm5): BatchNorm1d(5, eps=1e-05, momentum=0.1, affine=True, track_running_stats=True)\n",
       ")"
      ]
     },
     "execution_count": 24,
     "metadata": {},
     "output_type": "execute_result"
    }
   ],
   "source": [
    "model = Net()\n",
    "\n",
    "print(model)\n",
    "model.to(device)"
   ]
  },
  {
   "cell_type": "code",
   "execution_count": 25,
   "metadata": {},
   "outputs": [],
   "source": [
    "from torchsummary import summary\n"
   ]
  },
  {
   "cell_type": "code",
   "execution_count": 27,
   "metadata": {},
   "outputs": [
    {
     "name": "stdout",
     "output_type": "stream",
     "text": [
      "----------------------------------------------------------------\n",
      "        Layer (type)               Output Shape         Param #\n",
      "================================================================\n",
      "            Linear-1                   [-1, 84]             924\n",
      "       BatchNorm1d-2                   [-1, 84]             168\n",
      "           Dropout-3                   [-1, 84]               0\n",
      "            Linear-4                   [-1, 42]           3,570\n",
      "       BatchNorm1d-5                   [-1, 42]              84\n",
      "           Dropout-6                   [-1, 42]               0\n",
      "            Linear-7                   [-1, 21]             903\n",
      "       BatchNorm1d-8                   [-1, 21]              42\n",
      "           Dropout-9                   [-1, 21]               0\n",
      "           Linear-10                   [-1, 10]             220\n",
      "      BatchNorm1d-11                   [-1, 10]              20\n",
      "          Dropout-12                   [-1, 10]               0\n",
      "           Linear-13                    [-1, 5]              55\n",
      "      BatchNorm1d-14                    [-1, 5]              10\n",
      "           Linear-15                    [-1, 1]               6\n",
      "================================================================\n",
      "Total params: 6,002\n",
      "Trainable params: 6,002\n",
      "Non-trainable params: 0\n",
      "----------------------------------------------------------------\n",
      "Input size (MB): 0.00\n",
      "Forward/backward pass size (MB): 0.00\n",
      "Params size (MB): 0.02\n",
      "Estimated Total Size (MB): 0.03\n",
      "----------------------------------------------------------------\n"
     ]
    }
   ],
   "source": [
    "summary(model,(10,))"
   ]
  },
  {
   "cell_type": "code",
   "execution_count": 28,
   "metadata": {},
   "outputs": [],
   "source": [
    "# optimizer\n",
    "#lr = 1e-4\n",
    "optimizer = optim.Adam(model.parameters(), lr=1e-4)\n",
    "criterion = nn.BCEWithLogitsLoss()"
   ]
  },
  {
   "cell_type": "code",
   "execution_count": 29,
   "metadata": {},
   "outputs": [],
   "source": [
    "train_loader = utils.DataLoader(dataset=train_data, batch_size=BATCH_SIZE, shuffle=True)\n",
    "val_loader = utils.DataLoader(dataset=val_data, batch_size=100)\n",
    "test_loader = utils.DataLoader(dataset=test_data, batch_size=100)"
   ]
  },
  {
   "cell_type": "code",
   "execution_count": 30,
   "metadata": {},
   "outputs": [],
   "source": [
    "def binary_acc(y_pred, y_test):\n",
    "    y_pred_tag = torch.round(torch.sigmoid(y_pred))\n",
    "\n",
    "    correct_results_sum = (y_pred_tag == y_test).sum().float()\n",
    "    acc = correct_results_sum/y_test.shape[0]\n",
    "    acc = torch.round(acc * 100)\n",
    "    \n",
    "    return acc"
   ]
  },
  {
   "cell_type": "code",
   "execution_count": 31,
   "metadata": {},
   "outputs": [],
   "source": [
    "def train():\n",
    "    # set the train mode\n",
    "    model.train()\n",
    "\n",
    "    # loss of the epoch\n",
    "    epoch_loss = 0\n",
    "    epoch_acc = 0\n",
    "\n",
    "    for x, y in train_loader:\n",
    "        # reshape the data into [batch_size, 784]\n",
    "        x,y = x.to(device), y.to(device)\n",
    "\n",
    "        # update the gradients to zero\n",
    "        optimizer.zero_grad()\n",
    "\n",
    "        # forward pass\n",
    "        y_pred = model(x)\n",
    "\n",
    "        # reconstruction loss\n",
    "        #recon_loss = F.binary_cross_entropy(x_sample, x, size_average=False)\n",
    "\n",
    "        # kl divergence loss\n",
    "        #kl_loss = 0.5 * torch.sum(torch.exp(z_var) + z_mu**2 - 1.0 - z_var)\n",
    "\n",
    "        # total loss\n",
    "        #loss = recon_loss + kl_loss\n",
    "\n",
    "        #BCE loss\n",
    "        loss = criterion(y_pred, y.unsqueeze(1))\n",
    "        acc = binary_acc(y_pred, y.unsqueeze(1))\n",
    "        \n",
    "        # backward pass\n",
    "        loss.backward()\n",
    "        epoch_loss += loss.item()\n",
    "        epoch_acc += acc.item()\n",
    "\n",
    "        # update the weights\n",
    "        optimizer.step()\n",
    "\n",
    "    return epoch_loss\n"
   ]
  },
  {
   "cell_type": "code",
   "execution_count": 32,
   "metadata": {},
   "outputs": [],
   "source": [
    "def test():\n",
    "    # set the evaluation mode\n",
    "    model.eval()\n",
    "\n",
    "    # test loss for the data\n",
    "    test_loss = 0\n",
    "\n",
    "    # we don't need to track the gradients, since we are not updating the parameters during evaluation / testing\n",
    "    with torch.no_grad():\n",
    "        for x, y in val_loader:\n",
    "            # reshape the data\n",
    "            #x = x.view(-1, 28 * 28)\n",
    "            x,y = x.to(device), y.to(device)\n",
    "            # forward pass\n",
    "            y_pred = model(x)\n",
    "\n",
    "            loss = criterion(y_pred, y.unsqueeze(1))\n",
    "            acc = binary_acc(y_pred, y.unsqueeze(1))\n",
    "            # total loss\n",
    "            \n",
    "            test_loss += loss.item()\n",
    "\n",
    "    return test_loss"
   ]
  },
  {
   "cell_type": "code",
   "execution_count": 33,
   "metadata": {},
   "outputs": [
    {
     "data": {
      "text/plain": [
       "<All keys matched successfully>"
      ]
     },
     "execution_count": 33,
     "metadata": {},
     "output_type": "execute_result"
    }
   ],
   "source": [
    "model.load_state_dict(torch.load(\"/data/t3home000/spark/QUASAR/weights/supervised_ThreeProng5000_500_500_10inputs.h5\"))"
   ]
  },
  {
   "cell_type": "code",
   "execution_count": 56,
   "metadata": {},
   "outputs": [],
   "source": [
    "# optimizer\n",
    "#lr = 1e-4\n",
    "optimizer = optim.Adam(model.parameters(), lr=1e-5)\n",
    "criterion = nn.BCEWithLogitsLoss()"
   ]
  },
  {
   "cell_type": "code",
   "execution_count": 57,
   "metadata": {},
   "outputs": [
    {
     "name": "stdout",
     "output_type": "stream",
     "text": [
      "Epoch 0, Train Loss: 0.0000205, Test Loss: 0.0001832\n",
      "saving model\n",
      "Epoch 1, Train Loss: 0.0000204, Test Loss: 0.0001834\n",
      "NOT SAVING\n",
      "Epoch 2, Train Loss: 0.0000204, Test Loss: 0.0001838\n",
      "NOT SAVING\n",
      "Epoch 3, Train Loss: 0.0000204, Test Loss: 0.0001840\n",
      "NOT SAVING\n",
      "Epoch 4, Train Loss: 0.0000204, Test Loss: 0.0001839\n",
      "NOT SAVING\n",
      "Epoch 5, Train Loss: 0.0000205, Test Loss: 0.0001847\n",
      "NOT SAVING\n",
      "Epoch 6, Train Loss: 0.0000204, Test Loss: 0.0001838\n",
      "NOT SAVING\n",
      "Epoch 7, Train Loss: 0.0000206, Test Loss: 0.0001839\n",
      "NOT SAVING\n",
      "Epoch 8, Train Loss: 0.0000205, Test Loss: 0.0001836\n",
      "NOT SAVING\n",
      "Epoch 9, Train Loss: 0.0000203, Test Loss: 0.0001838\n",
      "NOT SAVING\n",
      "Epoch 10, Train Loss: 0.0000203, Test Loss: 0.0001845\n",
      "NOT SAVING\n",
      "patience limit reached\n"
     ]
    }
   ],
   "source": [
    "best_test_loss = 999\n",
    "patience_counter = 0\n",
    "for e in range(500):\n",
    "\n",
    "    train_loss = train()\n",
    "    test_loss = test()\n",
    "\n",
    "    train_loss /= len(train_data)\n",
    "    test_loss /= len(val_data)\n",
    "\n",
    "    print(f'Epoch {e}, Train Loss: {train_loss:.7f}, Test Loss: {test_loss:.7f}')\n",
    "\n",
    "    if best_test_loss > test_loss:\n",
    "        best_test_loss = test_loss\n",
    "        torch.save(model.state_dict(), \"/data/t3home000/spark/QUASAR/weights/supervised_ThreeProng5000_500_500_12inputs.h5\")\n",
    "        patience_counter = 1\n",
    "        print('saving model')\n",
    "    else:\n",
    "        print('NOT SAVING')\n",
    "        patience_counter += 1\n",
    "\n",
    "    if patience_counter > 10:\n",
    "        print('patience limit reached')\n",
    "        break"
   ]
  },
  {
   "cell_type": "code",
   "execution_count": 58,
   "metadata": {},
   "outputs": [
    {
     "data": {
      "text/plain": [
       "<All keys matched successfully>"
      ]
     },
     "execution_count": 58,
     "metadata": {},
     "output_type": "execute_result"
    }
   ],
   "source": [
    "model.load_state_dict(torch.load(\"/data/t3home000/spark/QUASAR/weights/supervised_ThreeProng5000_500_500_10inputs.h5\"))"
   ]
  },
  {
   "cell_type": "code",
   "execution_count": 93,
   "metadata": {},
   "outputs": [],
   "source": [
    "from sklearn import metrics"
   ]
  },
  {
   "cell_type": "code",
   "execution_count": 36,
   "metadata": {},
   "outputs": [
    {
     "ename": "NameError",
     "evalue": "name 'y_pred_list' is not defined",
     "output_type": "error",
     "traceback": [
      "\u001b[0;31m---------------------------------------------------------------------------\u001b[0m",
      "\u001b[0;31mNameError\u001b[0m                                 Traceback (most recent call last)",
      "\u001b[0;32m<ipython-input-36-627af1a14960>\u001b[0m in \u001b[0;36m<module>\u001b[0;34m\u001b[0m\n\u001b[0;32m----> 1\u001b[0;31m \u001b[0mfpr\u001b[0m\u001b[0;34m,\u001b[0m \u001b[0mtpr\u001b[0m\u001b[0;34m,\u001b[0m \u001b[0mthresholds\u001b[0m \u001b[0;34m=\u001b[0m \u001b[0mmetrics\u001b[0m\u001b[0;34m.\u001b[0m\u001b[0mroc_curve\u001b[0m\u001b[0;34m(\u001b[0m\u001b[0my_test\u001b[0m\u001b[0;34m,\u001b[0m \u001b[0my_pred_list\u001b[0m\u001b[0;34m,\u001b[0m \u001b[0mpos_label\u001b[0m\u001b[0;34m=\u001b[0m\u001b[0;36m1\u001b[0m\u001b[0;34m)\u001b[0m\u001b[0;34m\u001b[0m\u001b[0;34m\u001b[0m\u001b[0m\n\u001b[0m",
      "\u001b[0;31mNameError\u001b[0m: name 'y_pred_list' is not defined"
     ]
    }
   ],
   "source": [
    "fpr, tpr, thresholds = metrics.roc_curve(y_test, y_pred_list, pos_label=1)"
   ]
  },
  {
   "cell_type": "code",
   "execution_count": 105,
   "metadata": {},
   "outputs": [
    {
     "ename": "NameError",
     "evalue": "name 'tpr' is not defined",
     "output_type": "error",
     "traceback": [
      "\u001b[0;31m---------------------------------------------------------------------------\u001b[0m",
      "\u001b[0;31mNameError\u001b[0m                                 Traceback (most recent call last)",
      "\u001b[0;32m<ipython-input-105-e74cfb166e16>\u001b[0m in \u001b[0;36m<module>\u001b[0;34m\u001b[0m\n\u001b[0;32m----> 1\u001b[0;31m \u001b[0msup_tpr_np\u001b[0m\u001b[0;34m,\u001b[0m \u001b[0msup_fpr_np\u001b[0m \u001b[0;34m=\u001b[0m \u001b[0mnp\u001b[0m\u001b[0;34m.\u001b[0m\u001b[0marray\u001b[0m\u001b[0;34m(\u001b[0m\u001b[0mtpr\u001b[0m\u001b[0;34m)\u001b[0m\u001b[0;34m,\u001b[0m \u001b[0mnp\u001b[0m\u001b[0;34m.\u001b[0m\u001b[0marray\u001b[0m\u001b[0;34m(\u001b[0m\u001b[0mfpr\u001b[0m\u001b[0;34m)\u001b[0m\u001b[0;34m\u001b[0m\u001b[0;34m\u001b[0m\u001b[0m\n\u001b[0m\u001b[1;32m      2\u001b[0m \u001b[0mnonzero_idx\u001b[0m \u001b[0;34m=\u001b[0m \u001b[0mnp\u001b[0m\u001b[0;34m.\u001b[0m\u001b[0mnonzero\u001b[0m\u001b[0;34m(\u001b[0m\u001b[0msup_fpr_np\u001b[0m\u001b[0;34m)\u001b[0m\u001b[0;34m\u001b[0m\u001b[0;34m\u001b[0m\u001b[0m\n\u001b[1;32m      3\u001b[0m \u001b[0msup_tpr_inv\u001b[0m \u001b[0;34m=\u001b[0m \u001b[0msup_tpr_np\u001b[0m\u001b[0;34m[\u001b[0m\u001b[0mnonzero_idx\u001b[0m\u001b[0;34m]\u001b[0m\u001b[0;34m\u001b[0m\u001b[0;34m\u001b[0m\u001b[0m\n\u001b[1;32m      4\u001b[0m \u001b[0msup_fpr_inv\u001b[0m \u001b[0;34m=\u001b[0m \u001b[0;36m1\u001b[0m\u001b[0;34m/\u001b[0m\u001b[0msup_fpr_np\u001b[0m\u001b[0;34m[\u001b[0m\u001b[0mnonzero_idx\u001b[0m\u001b[0;34m]\u001b[0m\u001b[0;34m\u001b[0m\u001b[0;34m\u001b[0m\u001b[0m\n",
      "\u001b[0;31mNameError\u001b[0m: name 'tpr' is not defined"
     ]
    }
   ],
   "source": [
    "sup_tpr_np, sup_fpr_np = np.array(tpr), np.array(fpr)\n",
    "nonzero_idx = np.nonzero(sup_fpr_np)\n",
    "sup_tpr_inv = sup_tpr_np[nonzero_idx]\n",
    "sup_fpr_inv = 1/sup_fpr_np[nonzero_idx]"
   ]
  },
  {
   "cell_type": "code",
   "execution_count": null,
   "metadata": {},
   "outputs": [],
   "source": []
  },
  {
   "cell_type": "code",
   "execution_count": 34,
   "metadata": {},
   "outputs": [
    {
     "data": {
      "image/png": "[encoded data removed]",
      "text/plain": [
       "<Figure size 432x288 with 1 Axes>"
      ]
     },
     "metadata": {},
     "output_type": "display_data"
    }
   ],
   "source": [
    "model.eval()\n",
    "y_pred_list = np.array([],dtype=np.float)\n",
    "with torch.no_grad():\n",
    "    for batch_idx, X_batch in enumerate(test_loader):\n",
    "        X_batch = X_batch.to(device)\n",
    "        y_test_pred = model(X_batch)\n",
    "        #y_test_pred = torch.sigmoid(y_test_pred)\n",
    "        #y_pred_tag = torch.round(y_test_pred)\n",
    "        y_pred_list = np.append(y_pred_list,y_test_pred.cpu().numpy())\n",
    "        \n",
    "\n",
    "truesig = np.where(y_test==1)\n",
    "truebkg = np.where(y_test==0)\n",
    "sigscore = y_pred_list[truesig]\n",
    "bkgscore = y_pred_list[truebkg]\n",
    "\n",
    "plt.style.use('ggplot')\n",
    "\n",
    "plt.hist(bkgscore,bins=np.linspace(-20,12,101),alpha=.5,density=True);\n",
    "plt.hist(sigscore,bins=np.linspace(-20,12,101),alpha=.5,density=True);"
   ]
  },
  {
   "cell_type": "code",
   "execution_count": null,
   "metadata": {},
   "outputs": [],
   "source": []
  },
  {
   "cell_type": "code",
   "execution_count": 38,
   "metadata": {},
   "outputs": [
    {
     "data": {
      "image/png": "[encoded data removed]",
      "text/plain": [
       "<Figure size 432x288 with 1 Axes>"
      ]
     },
     "metadata": {},
     "output_type": "display_data"
    }
   ],
   "source": [
    "plt.hist(sigscore,bins=np.linspace(-10,10,101),alpha=.5,density=False);"
   ]
  },
  {
   "cell_type": "code",
   "execution_count": 43,
   "metadata": {},
   "outputs": [],
   "source": [
    "def get_tpr_fpr(sigscore,bkgscore):\n",
    "    bins = np.linspace(-20,12,10001)\n",
    "    tpr = []\n",
    "    fpr = []\n",
    "    for cut in bins:\n",
    "        tpr.append(np.where(sigscore>cut)[0].shape[0]/len(sigscore))\n",
    "        fpr.append(np.where(bkgscore>cut)[0].shape[0]/len(bkgscore))\n",
    "\n",
    "    return tpr,fpr"
   ]
  },
  {
   "cell_type": "code",
   "execution_count": 40,
   "metadata": {},
   "outputs": [],
   "source": [
    "sup_tpr, sup_fpr = get_tpr_fpr(sigscore,bkgscore)\n",
    "sup_tpr_np, sup_fpr_np = np.array(sup_tpr), np.array(sup_fpr)\n",
    "nonzero_idx = np.nonzero(sup_fpr_np)\n",
    "sup_tpr_inv = sup_tpr_np[nonzero_idx]\n",
    "sup_fpr_inv = 1/sup_fpr_np[nonzero_idx]"
   ]
  },
  {
   "cell_type": "code",
   "execution_count": 41,
   "metadata": {},
   "outputs": [
    {
     "data": {
      "text/plain": [
       "(1, 1000000.0)"
      ]
     },
     "execution_count": 41,
     "metadata": {},
     "output_type": "execute_result"
    },
    {
     "data": {
      "image/png": "[encoded data removed]",
      "text/plain": [
       "<Figure size 432x288 with 1 Axes>"
      ]
     },
     "metadata": {},
     "output_type": "display_data"
    }
   ],
   "source": [
    "######threeprong\n",
    "plt.plot(sup_tpr_inv,sup_fpr_inv,label='2prong 4500 500 150 (correct)')\n",
    "#threeprong_wps = ([4500,300,300],[5000,500,500],[5500,700,700],[6000, 900, 900])\n",
    "#plt.plot(tprlistsupj1mass_forinverse[4],fprinverselistsupj1mass[4],label='mjj 4000 j1mass 650')\n",
    "#plt.plot(tprlistsupj1mass_forinverse[5],fprinverselistsupj1mass[5],label='mjj 4000 j1mass 700')\n",
    "#plt.plot(fprlistsigaej1mass[6],tprlistsigaej1mass[6],label='j1mass 850')\n",
    "\n",
    "#plt.plot(fprlist[2],tprlist[2],label='Bkg VAE-Vanilla')\n",
    "#plt.plot(fprlist[3],tprlist[3],label='Bkg VAE-Vanilla')\n",
    "#plt.plot(fprlist[4],tprlist[4],label='mjj 5500')\n",
    "#plt.plot(fprlist[5],tprlist[5],label='mjj 6000')\n",
    "#plt.title('supervised classifiers on 2 prong signal')\n",
    "plt.yscale('log')\n",
    "plt.xlabel(r'$\\epsilon_{sig}$',fontsize=15)\n",
    "plt.ylabel(r'$1/\\epsilon_{bkg}$',fontsize=15)\n",
    "#plt.semilogy()\n",
    "plt.legend(loc='upper right')\n",
    "plt.xlim([0.0,1.0])\n",
    "plt.ylim([1,1e6])\n",
    "#plt.savefig('ROC_Curve_zdim_fnum.png')"
   ]
  },
  {
   "cell_type": "code",
   "execution_count": 43,
   "metadata": {},
   "outputs": [],
   "source": [
    "import pickle"
   ]
  },
  {
   "cell_type": "code",
   "execution_count": 45,
   "metadata": {},
   "outputs": [],
   "source": [
    "with open('plot1_supervised_arrays_withmass.pkl','wb') as handle:\n",
    "    pickle.dump(sup_tpr_inv,handle)\n",
    "    pickle.dump(sup_fpr_inv,handle)\n",
    "\n",
    "    "
   ]
  },
  {
   "cell_type": "code",
   "execution_count": 35,
   "metadata": {},
   "outputs": [],
   "source": [
    "threeprong_wps = ([4500,300,300],[5000,500,500],[5500,700,700],[6000, 900, 900])\n"
   ]
  },
  {
   "cell_type": "code",
   "execution_count": null,
   "metadata": {},
   "outputs": [],
   "source": []
  },
  {
   "cell_type": "code",
   "execution_count": 38,
   "metadata": {},
   "outputs": [],
   "source": [
    "supervised_loss_list = []\n",
    "for mjj, j1mass, j2mass in threeprong_wps:\n",
    "    supervised_loss = get_loss_from_priors('3prong', mjj, j1mass, j2mass)\n",
    "    supervised_loss_list.append(supervised_loss)    \n"
   ]
  },
  {
   "cell_type": "code",
   "execution_count": 37,
   "metadata": {},
   "outputs": [],
   "source": [
    "def get_loss_from_priors(which_prong, mjj, j1mass, j2mass):\n",
    "    \n",
    "   \n",
    "    filename = {\n",
    "        \n",
    "        '2prong':'/data/t3home000/spark/QUASAR/preprocessing/delphes_output',\n",
    "        '3prong':'/data/t3home000/spark/QUASAR/preprocessing/ThreeProng'            \n",
    "    \n",
    "    }\n",
    "    \n",
    "    f = pd.read_hdf(f\"{filename[which_prong]}_{mjj}_{j1mass}_{j2mass}.h5\")\n",
    "    dt = f.values\n",
    "    correct = (dt[:,3]>0) &(dt[:,19]>0) & (dt[:,1]>0) & (dt[:,2]>0)\n",
    "    dt = dt[correct]\n",
    "    for i in range(13,19):\n",
    "        dt[:,i] = dt[:,i]/dt[:,3]\n",
    "\n",
    "    for i in range(29,35):\n",
    "        dt[:,i] = dt[:,i]/(dt[:,19])\n",
    "        \n",
    "    correct = (dt[:,0]>mjj-300) & (dt[:,0]<mjj+300)\n",
    "    dt = dt[correct]\n",
    "\n",
    "    correct = (dt[:,3]>j1mass-100) & (dt[:,3]<j1mass+100) & (dt[:,19]>j2mass-100) & (dt[:,19]<j2mass+100)\n",
    "    dt = dt[correct]\n",
    "    X_no_jetmass = dt[:,[4,5,6,11,12,20,21,22,27,28]]\n",
    "    X_with_jetmass = dt[:,[3,4,5,6,11,12,19,20,21,22,27,28]]\n",
    "\n",
    "\n",
    "    for i, (mean, std) in enumerate(zip(mean_10feats, std_10feats)):\n",
    "        X_no_jetmass[:,i] = (X_no_jetmass[:,i]-mean)/std\n",
    "    \n",
    "    for i, (mean, std) in enumerate(zip(mean_12feats, std_12feats)):\n",
    "        X_with_jetmass[:,i] = (X_with_jetmass[:,i]-mean)/std\n",
    "        \n",
    "\n",
    "    \n",
    "    testprior_data = testData(torch.FloatTensor(X_no_jetmass.astype(np.float))) \n",
    "    testprior_loader = utils.DataLoader(dataset=testprior_data, batch_size=100)\n",
    "\n",
    "    tprlist = []\n",
    "    fprlist = []\n",
    "    \n",
    "    y_testpriorlist = []\n",
    "    \n",
    "\n",
    "    with torch.no_grad():\n",
    "        for batch_idx, X_batch in enumerate(testprior_loader):\n",
    "            X_batch = X_batch.to(device)\n",
    "            model.eval()\n",
    "            y_test_pred = model(X_batch)\n",
    "            #y_test_pred = torch.sigmoid(y_test_pred)\n",
    "            #y_pred_tag = torch.round(y_test_pred)\n",
    "            y_testpriorlist = np.append(y_testpriorlist,y_test_pred.cpu().numpy())\n",
    "        \n",
    "\n",
    "    return y_testpriorlist"
   ]
  },
  {
   "cell_type": "code",
   "execution_count": 41,
   "metadata": {},
   "outputs": [
    {
     "data": {
      "image/png": "[encoded data removed]",
      "text/plain": [
       "<Figure size 432x288 with 1 Axes>"
      ]
     },
     "metadata": {},
     "output_type": "display_data"
    }
   ],
   "source": [
    "plt.hist(bkgscore,bins=np.linspace(-20,12,101));\n",
    "plt.hist(supervised_loss_list[0],bins=np.linspace(-20,12,101));"
   ]
  },
  {
   "cell_type": "code",
   "execution_count": 47,
   "metadata": {},
   "outputs": [],
   "source": [
    "tprlist, fprlist = [], []\n",
    "for a in supervised_loss_list:\n",
    "    sup_tpr, sup_fpr = get_tpr_fpr(a,bkgscore)\n",
    "    sup_tpr_np, sup_fpr_np = np.array(sup_tpr), np.array(sup_fpr)\n",
    "    nonzero_idx = np.nonzero(sup_fpr_np)\n",
    "    sup_tpr_inv = sup_tpr_np[nonzero_idx]\n",
    "    sup_fpr_inv = 1/sup_fpr_np[nonzero_idx]\n",
    "    tprlist.append(sup_tpr_inv)\n",
    "    fprlist.append(sup_fpr_inv)\n",
    "    "
   ]
  },
  {
   "cell_type": "code",
   "execution_count": 45,
   "metadata": {},
   "outputs": [
    {
     "data": {
      "text/plain": [
       "([4500, 300, 300], [5000, 500, 500], [5500, 700, 700], [6000, 900, 900])"
      ]
     },
     "execution_count": 45,
     "metadata": {},
     "output_type": "execute_result"
    }
   ],
   "source": [
    "threeprong_wps\n"
   ]
  },
  {
   "cell_type": "code",
   "execution_count": 54,
   "metadata": {},
   "outputs": [],
   "source": [
    "plt.rcParams[\"figure.figsize\"] = (8,8)\n",
    "plt.style.use('seaborn-bright')"
   ]
  },
  {
   "cell_type": "code",
   "execution_count": 55,
   "metadata": {},
   "outputs": [
    {
     "data": {
      "text/plain": [
       "(1, 1000000.0)"
      ]
     },
     "execution_count": 55,
     "metadata": {},
     "output_type": "execute_result"
    },
    {
     "data": {
      "image/png": "[encoded data removed]",
      "text/plain": [
       "<Figure size 800x800 with 1 Axes>"
      ]
     },
     "metadata": {},
     "output_type": "display_data"
    }
   ],
   "source": [
    "######threeprong\n",
    "plt.plot(tprlist[1],fprlist[1],label='3prong 5000,500,500 (correct)')\n",
    "plt.plot(tprlist[0],fprlist[0],label='3prong 4500,300,300')\n",
    "plt.plot(tprlist[3],fprlist[3],label='3prong 5500,700,700')\n",
    "\n",
    "\n",
    "#threeprong_wps = ([4500,300,300],[5000,500,500],[5500,700,700],[6000, 900, 900])\n",
    "#plt.plot(tprlistsupj1mass_forinverse[4],fprinverselistsupj1mass[4],label='mjj 4000 j1mass 650')\n",
    "#plt.plot(tprlistsupj1mass_forinverse[5],fprinverselistsupj1mass[5],label='mjj 4000 j1mass 700')\n",
    "#plt.plot(fprlistsigaej1mass[6],tprlistsigaej1mass[6],label='j1mass 850')\n",
    "\n",
    "#plt.plot(fprlist[2],tprlist[2],label='Bkg VAE-Vanilla')\n",
    "#plt.plot(fprlist[3],tprlist[3],label='Bkg VAE-Vanilla')\n",
    "#plt.plot(fprlist[4],tprlist[4],label='mjj 5500')\n",
    "#plt.plot(fprlist[5],tprlist[5],label='mjj 6000')\n",
    "#plt.title('supervised classifiers on 2 prong signal')\n",
    "plt.yscale('log')\n",
    "plt.xlabel(r'$\\epsilon_{sig}$',fontsize=15)\n",
    "plt.ylabel(r'$1/\\epsilon_{bkg}$',fontsize=15)\n",
    "#plt.semilogy()\n",
    "plt.legend(loc='upper right')\n",
    "plt.xlim([0.0,1.0])\n",
    "plt.ylim([1,1e6])\n",
    "#plt.savefig('ROC_Curve_zdim_fnum.png')"
   ]
  },
  {
   "cell_type": "code",
   "execution_count": 73,
   "metadata": {},
   "outputs": [
    {
     "data": {
      "text/plain": [
       "(1, 1000000.0)"
      ]
     },
     "execution_count": 73,
     "metadata": {},
     "output_type": "execute_result"
    },
    {
     "data": {
      "image/png": "[encoded data removed]",
      "text/plain": [
       "<Figure size 800x800 with 1 Axes>"
      ]
     },
     "metadata": {},
     "output_type": "display_data"
    }
   ],
   "source": [
    "######threeprong\n",
    "plt.plot(tprlist[1],fprlist[1],label='3prong 5000,500,500 (correct)')\n",
    "plt.plot(tprlist[0],fprlist[0],label='3prong 4500,300,300')\n",
    "plt.plot(tprlist[3],fprlist[3],label='3prong 5500,700,700')\n",
    "\n",
    "\n",
    "#threeprong_wps = ([4500,300,300],[5000,500,500],[5500,700,700],[6000, 900, 900])\n",
    "#plt.plot(tprlistsupj1mass_forinverse[4],fprinverselistsupj1mass[4],label='mjj 4000 j1mass 650')\n",
    "#plt.plot(tprlistsupj1mass_forinverse[5],fprinverselistsupj1mass[5],label='mjj 4000 j1mass 700')\n",
    "#plt.plot(fprlistsigaej1mass[6],tprlistsigaej1mass[6],label='j1mass 850')\n",
    "\n",
    "#plt.plot(fprlist[2],tprlist[2],label='Bkg VAE-Vanilla')\n",
    "#plt.plot(fprlist[3],tprlist[3],label='Bkg VAE-Vanilla')\n",
    "#plt.plot(fprlist[4],tprlist[4],label='mjj 5500')\n",
    "#plt.plot(fprlist[5],tprlist[5],label='mjj 6000')\n",
    "#plt.title('supervised classifiers on 2 prong signal')\n",
    "plt.yscale('log')\n",
    "plt.xlabel(r'$\\epsilon_{sig}$',fontsize=15)\n",
    "plt.ylabel(r'$1/\\epsilon_{bkg}$',fontsize=15)\n",
    "#plt.semilogy()\n",
    "plt.legend(loc='upper right')\n",
    "plt.xlim([0.0,1.0])\n",
    "plt.ylim([1,1e6])\n",
    "#plt.savefig('ROC_Curve_zdim_fnum.png')"
   ]
  },
  {
   "cell_type": "code",
   "execution_count": null,
   "metadata": {},
   "outputs": [],
   "source": []
  }
 ],
 "metadata": {
  "kernelspec": {
   "display_name": "Python 3",
   "language": "python",
   "name": "python3"
  },
  "language_info": {
   "codemirror_mode": {
    "name": "ipython",
    "version": 3
   },
   "file_extension": ".py",
   "mimetype": "text/x-python",
   "name": "python",
   "nbconvert_exporter": "python",
   "pygments_lexer": "ipython3",
   "version": "3.6.7"
  }
 },
 "nbformat": 4,
 "nbformat_minor": 4
}
