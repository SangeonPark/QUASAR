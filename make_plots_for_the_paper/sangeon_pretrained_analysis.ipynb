{
 "cells": [
  {
   "cell_type": "code",
   "execution_count": 1,
   "metadata": {},
   "outputs": [],
   "source": [
    "%matplotlib inline\n",
    "%reload_ext autoreload\n",
    "%autoreload 2"
   ]
  },
  {
   "cell_type": "code",
   "execution_count": 2,
   "metadata": {},
   "outputs": [],
   "source": [
    "import numpy as np \n",
    "import matplotlib.pyplot as plt\n",
    "import pandas as pd\n",
    "import torch \n",
    "import torch.nn as nn \n",
    "import torch.nn.functional as F \n",
    "import torch.optim as optim \n",
    "import torch.utils.data as utils"
   ]
  },
  {
   "cell_type": "code",
   "execution_count": 3,
   "metadata": {},
   "outputs": [],
   "source": [
    "import time\n",
    "import tqdm\n",
    "import numpy as np \n",
    "import matplotlib.pyplot as plt\n",
    "import pandas as pd\n",
    "import torch \n",
    "import torch.nn as nn \n",
    "import torch.nn.functional as F \n",
    "import torch.optim as optim \n",
    "import torch.utils.data as utils\n",
    "import torch.nn.init as init\n",
    "from torch.autograd import Variable\n",
    "import sys\n",
    "sys.path.append(\"../new_flows\")\n",
    "from flows import RealNVP, Planar, MAF\n",
    "from models import NormalizingFlowModel\n",
    "import torch\n",
    "import torch.optim as optim\n",
    "import torch.nn.functional as F\n",
    "from argparse import ArgumentParser\n",
    "from torch.distributions import MultivariateNormal\n",
    "from models import NormalizingFlowModel"
   ]
  },
  {
   "cell_type": "code",
   "execution_count": 5,
   "metadata": {},
   "outputs": [],
   "source": [
    "import multiprocessing\n",
    "num_available_cpus = multiprocessing.cpu_count()"
   ]
  },
  {
   "cell_type": "code",
   "execution_count": 6,
   "metadata": {},
   "outputs": [
    {
     "name": "stdout",
     "output_type": "stream",
     "text": [
      "Device = cuda:0\n",
      "16\n",
      "8\n"
     ]
    }
   ],
   "source": [
    "device = torch.device(\"cuda:0\" if torch.cuda.is_available() else \"cpu\")\n",
    "print(\"Device =\", device)\n",
    "torch.set_default_tensor_type('torch.cuda.FloatTensor') if torch.cuda.is_available() else print ('cpu')\n",
    "\n",
    "torch.set_num_threads(num_available_cpus)\n",
    "\n",
    "print(torch.get_num_threads())\n",
    "print(torch.get_num_interop_threads())"
   ]
  },
  {
   "cell_type": "code",
   "execution_count": 7,
   "metadata": {},
   "outputs": [],
   "source": [
    "#plt.style.use('ggplot')"
   ]
  },
  {
   "cell_type": "code",
   "execution_count": 8,
   "metadata": {},
   "outputs": [],
   "source": [
    "class model_result():\n",
    "    \n",
    "    def __init__(self, prefix, sigloss, bkgloss, aetype):\n",
    "        self.sigloss = np.load(prefix+'_'+sigloss+'.npy')\n",
    "        self.bkgloss = np.load(prefix+'_'+bkgloss+'.npy')\n",
    "        self.aetype = aetype\n",
    "\n",
    "        \n",
    "    def get_tpr_fpr(self):\n",
    "        bins = np.linspace(0,10000,100001)\n",
    "        tpr = []\n",
    "        fpr = []\n",
    "        for cut in bins:\n",
    "            if self.aetype == 'sig':\n",
    "                tpr.append(np.where(self.sigloss<cut)[0].shape[0]/len(self.sigloss))\n",
    "                fpr.append(np.where(self.bkgloss<cut)[0].shape[0]/len(self.bkgloss))\n",
    "            if self.aetype == 'bkg':\n",
    "                tpr.append(np.where(self.sigloss>cut)[0].shape[0]/len(self.sigloss))\n",
    "                fpr.append(np.where(self.bkgloss>cut)[0].shape[0]/len(self.bkgloss))\n",
    "        \n",
    "\n",
    "        return tpr,fpr\n",
    "    \n",
    "    def get_precision_recall(self):\n",
    "        bins = np.linspace(0,1000,10001)\n",
    "        tpr = []\n",
    "        fpr = []\n",
    "        precision = []\n",
    "        for cut in bins:\n",
    "            if self.aetype == 'sig':\n",
    "                tpr.append(np.where(self.sigloss<cut)[0].shape[0]/len(self.sigloss))\n",
    "                precision.append((np.where(self.sigloss<cut)[0].shape[0])/(np.where(self.bkgloss<cut)[0].shape[0]+np.where(self.sigloss<cut)[0].shape[0]))\n",
    "            \n",
    "            if self.aetype == 'bkg':\n",
    "                tpr.append(np.where(self.sigloss>cut)[0].shape[0]/len(self.sigloss))\n",
    "                precision.append((np.where(self.sigloss>cut)[0].shape[0])/(np.where(self.bkgloss>cut)[0].shape[0]+np.where(self.sigloss>cut)[0].shape[0]))\n",
    "        \n",
    "\n",
    "        return precision,tpr  \n",
    "\n",
    "    def FPRat95TPR(self):\n",
    "        tprs, fprs = get_tpr_fpr(self)\n",
    "        for i in range(len(tprs)-1):\n",
    "            if (tprs[i] < 0.95) and (tprs[i+1] >= 0.95):\n",
    "                return fprs[i+1]\n",
    "\n",
    "    def FPRat99TPR(self):\n",
    "        tprs, fprs = get_tpr_fpr(self)\n",
    "        for i in range(len(tprs) - 1):\n",
    "            if (tprs[i] < 0.99) and (tprs[i + 1] >= 0.99):\n",
    "                return fprs[i+1]    "
   ]
  },
  {
   "cell_type": "code",
   "execution_count": 9,
   "metadata": {},
   "outputs": [],
   "source": [
    "num_features = 12\n",
    "NS_hidden_features = 48\n",
    "flow_type = 'MAF' #Options are 'MAF', 'Planar' (not recommended), 'NSQUAD', and 'NSRATQUAD'"
   ]
  },
  {
   "cell_type": "code",
   "execution_count": 10,
   "metadata": {},
   "outputs": [
    {
     "name": "stdout",
     "output_type": "stream",
     "text": [
      "Device = cuda:0\n"
     ]
    }
   ],
   "source": [
    "device = torch.device(\"cuda:0\" if torch.cuda.is_available() else \"cpu\")\n",
    "print(\"Device =\", device)"
   ]
  },
  {
   "cell_type": "code",
   "execution_count": 11,
   "metadata": {},
   "outputs": [],
   "source": [
    "#### MAF / Planar / NSQUAD / NSRATQUAD\n",
    "class VAE_NF(nn.Module):\n",
    "    def __init__(self, K, D):\n",
    "        super().__init__()\n",
    "        self.dim = D\n",
    "        self.K = K\n",
    "        self.encoder = nn.Sequential(\n",
    "            nn.Linear(12, 50),\n",
    "            nn.LeakyReLU(True),\n",
    "            nn.Linear(50, 30),\n",
    "            nn.LeakyReLU(True),\n",
    "            nn.Linear(30, 20),\n",
    "            nn.LeakyReLU(True),\n",
    "            nn.Linear(20, D * 2)\n",
    "        )\n",
    "\n",
    "        self.decoder = nn.Sequential(\n",
    "            nn.Linear(D, 20),\n",
    "            nn.LeakyReLU(True),\n",
    "            nn.Linear(20, 30),\n",
    "            nn.LeakyReLU(True),\n",
    "            nn.Linear(30, 50),\n",
    "            nn.LeakyReLU(True),\n",
    "            nn.Linear(50, 12)\n",
    "        )\n",
    "        \n",
    "        if flow_type == 'NSQUAD' or flow_type == 'NSRATQUAD': \n",
    "            #----- BEGIN NEW NEURAL SPLINE CODE\n",
    "            \n",
    "            bkg_transforms = []\n",
    "            for _ in range(K):\n",
    "                bkg_transforms.append(ReversePermutation(features=D))\n",
    "                if flow_type == 'NSQUAD': \n",
    "                    bkg_transforms.append(MaskedPiecewiseQuadraticAutoregressiveTransform(features=D, \n",
    "                                                                      hidden_features=NS_hidden_features, tail_bound = 3.0, tails='linear'))\n",
    "                elif flow_type == 'NSRATQUAD': \n",
    "                    bkg_transforms.append(MaskedPiecewiseRationalQuadraticAutoregressiveTransform(features=D, \n",
    "                                                                      hidden_features=NS_hidden_features, tail_bound = 3.0, tails='linear'))\n",
    "\n",
    "            #bkg_transform = CompositeTransform(bkg_transforms)\n",
    "            bkg_base_dist = MultivariateNormal(torch.zeros(D).cuda(), torch.eye(D).cuda())\n",
    "            self.flows = NormalizingFlowModel(bkg_base_dist, bkg_transforms)\n",
    "            #print(self.flows)\n",
    "            \n",
    "            #----- END NEW NEURAL SPLINE CODE\n",
    "        \n",
    "        elif flow_type == 'MAF' or flow_type == 'Planar': \n",
    "            if flow_type == 'MAF': \n",
    "                flow_init = MAF(dim=D)\n",
    "            elif flow_type == 'Planar': \n",
    "                flow_init = Planar(dim=D)\n",
    "            flows_init = [flow_init for _ in range(K)]\n",
    "            prior = MultivariateNormal(torch.zeros(D).cuda(), torch.eye(D).cuda())\n",
    "            self.flows = NormalizingFlowModel(prior, flows_init)\n",
    "            #print(self.flows)\n",
    "        \n",
    "        else: \n",
    "            print('ERROR: Flow Type not properly specified.')\n",
    "\n",
    "    def forward(self, x):\n",
    "        # Run Encoder and get NF params\n",
    "        enc = self.encoder(x)\n",
    "        mu = enc[:, :self.dim]\n",
    "        log_var = enc[:, self.dim: self.dim * 2]\n",
    "\n",
    "        # Re-parametrize\n",
    "        sigma = (log_var * .5).exp()\n",
    "        z = mu + sigma * torch.randn_like(sigma)\n",
    "        kl_div = -0.5 * torch.sum(1 + log_var - mu.pow(2) - log_var.exp())\n",
    "        # Construct more expressive posterior with NF\n",
    "        \n",
    "        z_k, _, sum_ladj = self.flows(z)\n",
    "        \n",
    "        kl_div = kl_div / x.size(0) - sum_ladj.mean()  # mean over batch\n",
    "\n",
    "        # Run Decoder\n",
    "        x_prime = self.decoder(z_k)\n",
    "        return x_prime, kl_div"
   ]
  },
  {
   "cell_type": "markdown",
   "metadata": {},
   "source": [
    "# PARAMETER OPTIMIZATION"
   ]
  },
  {
   "cell_type": "code",
   "execution_count": 12,
   "metadata": {},
   "outputs": [],
   "source": [
    "class model_result(object):\n",
    "    \n",
    "    def __init__(self, prefix, aetype):\n",
    "        self.sigloss = np.load(prefix+'_'+sigloss+'.npy')\n",
    "        self.bkgloss = np.load(prefix+'_'+bkgloss+'.npy')\n",
    "        self.aetype = aetype\n",
    "\n",
    "        \n",
    "    def get_tpr_fpr(self):\n",
    "        bins = np.linspace(0,10000,100001)\n",
    "        tpr = []\n",
    "        fpr = []\n",
    "        for cut in bins:\n",
    "            if self.aetype == 'sig':\n",
    "                tpr.append(np.where(self.sigloss<cut)[0].shape[0]/len(self.sigloss))\n",
    "                fpr.append(np.where(self.bkgloss<cut)[0].shape[0]/len(self.bkgloss))\n",
    "            if self.aetype == 'bkg':\n",
    "                tpr.append(np.where(self.sigloss>cut)[0].shape[0]/len(self.sigloss))\n",
    "                fpr.append(np.where(self.bkgloss>cut)[0].shape[0]/len(self.bkgloss))\n",
    "        \n",
    "\n",
    "        return tpr,fpr\n",
    "    \n",
    "    def get_precision_recall(self):\n",
    "        bins = np.linspace(0,1000,10001)\n",
    "        tpr = []\n",
    "        fpr = []\n",
    "        precision = []\n",
    "        for cut in bins:\n",
    "            if self.aetype == 'sig':\n",
    "                tpr.append(np.where(self.sigloss<cut)[0].shape[0]/len(self.sigloss))\n",
    "                precision.append((np.where(self.sigloss<cut)[0].shape[0])/(np.where(self.bkgloss<cut)[0].shape[0]+np.where(self.sigloss<cut)[0].shape[0]))\n",
    "            \n",
    "            if self.aetype == 'bkg':\n",
    "                tpr.append(np.where(self.sigloss>cut)[0].shape[0]/len(self.sigloss))\n",
    "                precision.append((np.where(self.sigloss>cut)[0].shape[0])/(np.where(self.bkgloss>cut)[0].shape[0]+np.where(self.sigloss>cut)[0].shape[0]))\n",
    "        \n",
    "\n",
    "        return precision,tpr  \n",
    "\n",
    "    def FPRat95TPR(self):\n",
    "        tprs, fprs = get_tpr_fpr(self)\n",
    "        for i in range(len(tprs)-1):\n",
    "            if (tprs[i] < 0.95) and (tprs[i+1] >= 0.95):\n",
    "                return fprs[i+1]\n",
    "\n",
    "    def FPRat99TPR(self):\n",
    "        tprs, fprs = get_tpr_fpr(self)\n",
    "        for i in range(len(tprs) - 1):\n",
    "            if (tprs[i] < 0.99) and (tprs[i + 1] >= 0.99):\n",
    "                return fprs[i+1]    "
   ]
  },
  {
   "cell_type": "code",
   "execution_count": 13,
   "metadata": {},
   "outputs": [],
   "source": [
    "version = 0\n",
    "#lrs = [5e-3, 1e-3,5e-4, 1e-4,1e-5,1e-6,1e-7]"
   ]
  },
  {
   "cell_type": "code",
   "execution_count": 14,
   "metadata": {},
   "outputs": [],
   "source": [
    "\n",
    "bkg_mean = [229.63703733315916,\n",
    " 0.5040889514020693,\n",
    " 0.7057013083107537,\n",
    " 0.7997482828680078,\n",
    " 1.962088799505638,\n",
    " 255.28311110430732,\n",
    " 104.75378636669201,\n",
    " 0.5826962213587913,\n",
    " 0.7337977883611374,\n",
    " 0.7995755223103627,\n",
    " 2.4171146383976034,\n",
    " 159.75951298419648]\n",
    "\n",
    "bkg_std = [131.99460164832075,\n",
    " 0.1849760683347428,\n",
    " 0.12816197632833803,\n",
    " 0.0865553075423761,\n",
    " 0.7978444985340304,\n",
    " 111.36202699158525,\n",
    " 68.17314726646633,\n",
    " 0.17458368821556094,\n",
    " 0.11581000682757887,\n",
    " 0.08481896882883566,\n",
    " 1.1084488583498446,\n",
    " 83.52566008451547]\n"
   ]
  },
  {
   "cell_type": "markdown",
   "metadata": {},
   "source": [
    "# Prepping test dataset"
   ]
  },
  {
   "cell_type": "code",
   "execution_count": 16,
   "metadata": {},
   "outputs": [],
   "source": [
    "#f_bkg = pd.read_hdf('~/QUASAR/preprocessing/conventional_tau_rnd.h5')\n",
    "#f_sig = pd.read_hdf('~/QUASAR/preprocessing/delphes_output_4500_500_150.h5')\n",
    "f_bb = pd.read_hdf('/data/t3home000/spark/QUASAR/preprocessing/conventional_tau_BB1_rnd.h5')"
   ]
  },
  {
   "cell_type": "code",
   "execution_count": 16,
   "metadata": {},
   "outputs": [
    {
     "name": "stdout",
     "output_type": "stream",
     "text": [
      "[3807.507389467033, 2934.55791415029, 2951.902185699044, 3165.060459635266, 4033.2203792627615, 2897.629887620787, 3643.5097776813154, 3260.180625454622, 3023.248904055104, 3031.1493493613248, 3169.6200525717927, 4028.9677578619117, 3837.250861068567, 3324.948755924668, 3052.2607115189753, 4188.232597231751, 2802.8896721529118, 2878.186919180534, 2840.490579923818, 4255.72071198218, 3297.2048452651698, 3125.412526967946, 2999.841780655154, 3708.696377676113, 3655.570259947979]\n",
      "(587907, 12)\n"
     ]
    }
   ],
   "source": [
    "dt = f_bkg.values\n",
    "correct = (dt[:,3]>0) &(dt[:,19]>0) & (dt[:,1]>0) & (dt[:,2]>0)\n",
    "dt = dt[correct]\n",
    "\n",
    "correct = (dt[:,0]>=2800)\n",
    "dt = dt[correct]   \n",
    "\n",
    "for i in range(13,19):\n",
    "    dt[:,i] = dt[:,i]/dt[:,3]\n",
    "\n",
    "for i in range(29,35):\n",
    "    dt[:,i] = dt[:,i]/(dt[:,19])\n",
    "    \n",
    "idx = dt[:,-1]\n",
    "bkgidx = (idx == 0)\n",
    "dt = dt[bkgidx]\n",
    "\n",
    "bkg_mass = np.ndarray.tolist(dt[:,0])\n",
    "print(bkg_mass[:25])\n",
    "df = pd.DataFrame(bkg_mass) \n",
    "df.to_csv('csv_files/bkg_mass.csv')\n",
    "\n",
    "Y = dt[:,[3,4,5,6,11,12,19,20,21,22,27,28]] \n",
    "\n",
    "print(Y.shape)\n",
    "\n",
    "#for i in range(12):\n",
    "#    Y[:,i] = (Y[:,i]-bkg_mean[i])/bkg_std[i]\n",
    "\n",
    "bkg_mean = []\n",
    "bkg_std = []\n",
    "\n",
    "for i in range(12):\n",
    "    mean = np.mean(Y[:,i])\n",
    "    std = np.std(Y[:,i])\n",
    "    bkg_mean.append(mean)\n",
    "    bkg_std.append(std)\n",
    "    Y[:,i] = (Y[:,i]-mean)/std\n",
    "\n",
    "bkg_test = torch.tensor(Y)"
   ]
  },
  {
   "cell_type": "code",
   "execution_count": 17,
   "metadata": {},
   "outputs": [
    {
     "data": {
      "text/plain": [
       "[229.63703733315916,\n",
       " 0.5040889514020693,\n",
       " 0.7057013083107537,\n",
       " 0.7997482828680078,\n",
       " 1.962088799505638,\n",
       " 255.28311110430732,\n",
       " 104.75378636669201,\n",
       " 0.5826962213587913,\n",
       " 0.7337977883611374,\n",
       " 0.7995755223103627,\n",
       " 2.4171146383976034,\n",
       " 159.75951298419648]"
      ]
     },
     "execution_count": 17,
     "metadata": {},
     "output_type": "execute_result"
    }
   ],
   "source": [
    "bkg_mean"
   ]
  },
  {
   "cell_type": "code",
   "execution_count": 18,
   "metadata": {},
   "outputs": [
    {
     "data": {
      "text/plain": [
       "[131.99460164832075,\n",
       " 0.1849760683347428,\n",
       " 0.12816197632833803,\n",
       " 0.0865553075423761,\n",
       " 0.7978444985340304,\n",
       " 111.36202699158525,\n",
       " 68.17314726646633,\n",
       " 0.17458368821556094,\n",
       " 0.11581000682757887,\n",
       " 0.08481896882883566,\n",
       " 1.1084488583498446,\n",
       " 83.52566008451547]"
      ]
     },
     "execution_count": 18,
     "metadata": {},
     "output_type": "execute_result"
    }
   ],
   "source": [
    "bkg_std"
   ]
  },
  {
   "cell_type": "code",
   "execution_count": 19,
   "metadata": {},
   "outputs": [
    {
     "name": "stdout",
     "output_type": "stream",
     "text": [
      "[4285.984789956599, 4377.503176278464, 4485.604240957131, 4294.785162475908, 4385.016801440671, 4331.648288525545, 4448.66013835033, 4439.320723336695, 4483.770951908371, 4580.19838395949, 4544.99690558516, 4410.356462341254, 4538.491213300887, 4563.461686230372, 4287.965054991883, 4568.4185164827595, 4320.374991178084, 4535.262800196654, 4478.906126136756, 4441.925936527397, 4611.62557562622, 4606.102888989514, 4289.232616721781, 4518.506040766013, 4286.761411276158]\n",
      "(39630, 12)\n"
     ]
    }
   ],
   "source": [
    "dt = f_sig.values\n",
    "correct = (dt[:,3]>0) &(dt[:,19]>0) & (dt[:,1]>0) & (dt[:,2]>0)\n",
    "dt = dt[correct]\n",
    "\n",
    "correct = (dt[:,0]>=2800)\n",
    "dt = dt[correct]   \n",
    "\n",
    "for i in range(13,19):\n",
    "    dt[:,i] = dt[:,i]/dt[:,3]\n",
    "\n",
    "for i in range(29,35):\n",
    "    dt[:,i] = dt[:,i]/(dt[:,19])\n",
    "\n",
    "correct = (dt[:,3]>200)  & (dt[:,19]>50) & (dt[:,0]>4200) & (dt[:,0]<4800)\n",
    "#correct = (dt[:,3]>450) & (dt[:,3]<550) & (dt[:,19]>100) & (dt[:,19]<200) & (dt[:,0]>4200) & (dt[:,0]<4800)\n",
    "dt = dt[correct]  \n",
    "\n",
    "sig_mass = np.ndarray.tolist(dt[:,0])\n",
    "print(sig_mass[:25])\n",
    "df = pd.DataFrame(sig_mass) \n",
    "df.to_csv('csv_files/sig_mass.csv')\n",
    "\n",
    "Y = dt[:,[3,4,5,6,11,12,19,20,21,22,27,28]]\n",
    "\n",
    "print(Y.shape)\n",
    "#for i in range(12):\n",
    "#    Y[:,i] = (Y[:,i]-bkg_mean[i])/bkg_std[i]\n",
    "\n",
    "for i in range(12):\n",
    "    Y[:,i] = (Y[:,i]-bkg_mean[i])/bkg_std[i]\n",
    "\n",
    "sig_test = torch.tensor(Y)"
   ]
  },
  {
   "cell_type": "code",
   "execution_count": 20,
   "metadata": {},
   "outputs": [],
   "source": [
    "def get_tpr_fpr(sigloss,bkgloss):\n",
    "    bins = np.linspace(0,100,1001)\n",
    "    tpr = []\n",
    "    fpr = []\n",
    "    for cut in bins:\n",
    "        tpr.append(np.where(sigloss>cut)[0].shape[0]/len(sigloss))\n",
    "        fpr.append(np.where(bkgloss>cut)[0].shape[0]/len(bkgloss))\n",
    "\n",
    "\n",
    "    return tpr,fpr"
   ]
  },
  {
   "cell_type": "code",
   "execution_count": 21,
   "metadata": {},
   "outputs": [],
   "source": [
    "import re"
   ]
  },
  {
   "cell_type": "code",
   "execution_count": 22,
   "metadata": {},
   "outputs": [],
   "source": [
    "Z_DIM = 4\n",
    "N_FLOWS = 10\n",
    "betas = [10.0]\n",
    "beta = betas[0]"
   ]
  },
  {
   "cell_type": "code",
   "execution_count": 23,
   "metadata": {},
   "outputs": [],
   "source": [
    "tprlist = []\n",
    "fprlist = []\n",
    "namelist = []\n",
    "bkgtr_siglosslist = []\n",
    "bkgtr_bkglosslist = []\n",
    "tprlist_forinverse = []\n",
    "fprinverselist = []\n",
    "\n",
    "model = VAE_NF(N_FLOWS, Z_DIM).cuda()\n",
    "model.load_state_dict(torch.load(f\"/home/mikaeelyunus/QUASAR/weights/sangeon_bkg_model.h5\"), strict=False)\n",
    "#NOTE: Replace the /home/mikaeelyunus/ above with the directory in which QUASAR resides.\n",
    "ae_def = {\n",
    "            \"type\":\"bkg\",\n",
    "            \"trainon\":\"rndbkg\",\n",
    "            \"features\":\"12features\",\n",
    "            \"architecture\":flow_type,\n",
    "            \"selection\":\"mjjcut\",\n",
    "            \"trainloss\":\"MSELoss\",\n",
    "            \"beta\":f\"beta{re.sub('[.,]', 'p', str(beta))}\",\n",
    "            \"zdimnflow\":f\"z{Z_DIM}f{N_FLOWS}\",\n",
    "            \"version\":f\"ver{version}\"\n",
    "\n",
    "         }\n",
    "model.eval()\n",
    "with torch.no_grad():\n",
    "    sig_loss = torch.mean((model(sig_test.float().cuda())[0]- sig_test.float().cuda())**2,dim=1).data.cpu().numpy()\n",
    "    bkg_loss = torch.mean((model(bkg_test.float().cuda())[0]- bkg_test.float().cuda())**2,dim=1).data.cpu().numpy()\n",
    "    #sig_loss = torch.mean((model(sig_test.float().cuda())[0]- sig_test.float().cuda())**2,dim=1).data.cpu().numpy() + beta * F.kl_div(model(sig_test.float().cuda())[0], sig_test.float().cuda()).cpu().numpy()\n",
    "    #bkg_loss = torch.mean((model(bkg_test.float().cuda())[0]- bkg_test.float().cuda())**2,dim=1).data.cpu().numpy() + beta * F.kl_div(model(bkg_test.float().cuda())[0], bkg_test.float().cuda()).cpu().numpy()\n",
    "\n",
    "np.save(f\"/home/mikaeelyunus/QUASAR/data_strings/sangeon_bkg_model_sigloss.npy\",sig_loss)\n",
    "#NOTE: Replace the /home/mikaeelyunus/ above with the directory in which QUASAR resides.\n",
    "np.save(f\"/home/mikaeelyunus/QUASAR/data_strings/sangeon_bkg_model_bkgloss.npy\",bkg_loss)\n",
    "#NOTE: Replace the /home/mikaeelyunus/ above with the directory in which QUASAR resides.\n",
    "\n",
    "namelist.append(ae_def)\n",
    "tpr, fpr = get_tpr_fpr(sig_loss,bkg_loss)\n",
    "tprlist.append(tpr)\n",
    "fprlist.append(fpr)\n",
    "tpr_np, fpr_np = np.array(tpr), np.array(fpr)\n",
    "\n",
    "nonzero_idx = np.nonzero(fpr_np)\n",
    "\n",
    "\n",
    "bkgtr_siglosslist.append(sig_loss)\n",
    "bkgtr_bkglosslist.append(bkg_loss)\n",
    "\n",
    "tprlist_forinverse.append(tpr_np[nonzero_idx])\n",
    "fprinverselist.append(1/fpr_np[nonzero_idx])\n",
    "\n"
   ]
  },
  {
   "cell_type": "code",
   "execution_count": 24,
   "metadata": {},
   "outputs": [
    {
     "data": {
      "text/plain": [
       "[{'type': 'bkg',\n",
       "  'trainon': 'rndbkg',\n",
       "  'features': '12features',\n",
       "  'architecture': 'MAF',\n",
       "  'selection': 'mjjcut',\n",
       "  'trainloss': 'MSELoss',\n",
       "  'beta': 'beta10p0',\n",
       "  'zdimnflow': 'z4f10',\n",
       "  'version': 'ver0'}]"
      ]
     },
     "execution_count": 24,
     "metadata": {},
     "output_type": "execute_result"
    }
   ],
   "source": [
    "namelist"
   ]
  },
  {
   "cell_type": "code",
   "execution_count": 25,
   "metadata": {},
   "outputs": [],
   "source": [
    "for index in range(len(betas)): \n",
    "        \n",
    "    bkgtr_bkgloss = bkgtr_bkglosslist[index]\n",
    "    bkgtr_sigloss = bkgtr_siglosslist[index]\n",
    "    \n",
    "    df_bkgloss = pd.DataFrame(bkgtr_bkgloss)\n",
    "    df_sigloss = pd.DataFrame(bkgtr_sigloss)\n",
    "    df_bkgloss.to_csv('csv_files/sangeon_bkg_model_bkgloss.csv') \n",
    "    df_sigloss.to_csv('csv_files/sangeon_bkg_model_sigloss.csv')  "
   ]
  },
  {
   "cell_type": "code",
   "execution_count": 26,
   "metadata": {},
   "outputs": [],
   "source": [
    "plt.rcParams[\"figure.figsize\"] = (8,8)\n",
    "from sklearn import metrics"
   ]
  },
  {
   "cell_type": "code",
   "execution_count": 27,
   "metadata": {},
   "outputs": [
    {
     "name": "stdout",
     "output_type": "stream",
     "text": [
      "beta10p0_z4f10 17.27422634924233\n"
     ]
    },
    {
     "data": {
      "text/plain": [
       "(0.0, 1.0)"
      ]
     },
     "execution_count": 27,
     "metadata": {},
     "output_type": "execute_result"
    },
    {
     "data": {
      "image/png": "[encoded data removed]",
      "text/plain": [
       "<Figure size 576x576 with 1 Axes>"
      ]
     },
     "metadata": {
      "needs_background": "light"
     },
     "output_type": "display_data"
    }
   ],
   "source": [
    "for tpr, fpr, name,sigloss,bkgloss in zip(tprlist_forinverse,fprinverselist, namelist,bkgtr_siglosslist,bkgtr_bkglosslist):\n",
    "    #if name['beta'] == 'beta10p0' or name['beta'] == 'beta2p0':\n",
    "    if name['zdimnflow'] == 'z4f10':\n",
    "        #print(tpr, fpr)\n",
    "        plt.plot(tpr,fpr, label=f\"{name['beta']}_{name['zdimnflow']}\")\n",
    "        print(f\"{name['beta']}_{name['zdimnflow']}\",metrics.auc(fpr,tpr))\n",
    "        #plt.hist(sigloss,np.arange(0,10,0.1),alpha=0.2, density=True, label=f\"{name['beta']}_{name['zdimnflow']}\")\n",
    "        #plt.hist(bkgloss,np.arange(0,10,0.1),alpha=0.2, density=True, label=f\"{name['beta']}_{name['zdimnflow']}\")\n",
    "plt.xlabel(r'$\\epsilon_{sig}$',fontsize=15)\n",
    "plt.ylabel(r'$1/\\epsilon_{bkg}$',fontsize=15)\n",
    "#plt.semilogy()\n",
    "plt.yscale('log')\n",
    "\n",
    "plt.title('Background Prior')\n",
    "#plt.legend(bbox_to_anchor=(1.05, 1.0), loc='upper left')\n",
    "plt.legend(loc='upper right')\n",
    "plt.xlim([0.0,1.0])\n",
    "#plt.ylim([0.0,1.0])\n",
    "#plt.savefig('ROC_effectiveness_of_quak.png')"
   ]
  },
  {
   "cell_type": "code",
   "execution_count": 28,
   "metadata": {},
   "outputs": [
    {
     "name": "stdout",
     "output_type": "stream",
     "text": [
      "beta10p0_z4f10 0.8382966581302318\n"
     ]
    },
    {
     "data": {
      "text/plain": [
       "<matplotlib.legend.Legend at 0x7f7bc3cd8cf8>"
      ]
     },
     "execution_count": 28,
     "metadata": {},
     "output_type": "execute_result"
    },
    {
     "data": {
      "image/png": "[encoded data removed]",
      "text/plain": [
       "<Figure size 576x576 with 1 Axes>"
      ]
     },
     "metadata": {
      "needs_background": "light"
     },
     "output_type": "display_data"
    }
   ],
   "source": [
    "for tpr, fpr, name,sigloss,bkgloss in zip(tprlist,fprlist, namelist,bkgtr_siglosslist,bkgtr_bkglosslist):\n",
    "    #if name['beta'] == 'beta10p0' or name['beta'] == 'beta2p0':\n",
    "    if name['zdimnflow'] == 'z4f10':\n",
    "        plt.plot(fpr,tpr, label=f\"{name['beta']}_{name['zdimnflow']}\")\n",
    "        print(f\"{name['beta']}_{name['zdimnflow']}\",metrics.auc(fpr,tpr))\n",
    "        #plt.hist(sigloss,np.arange(0,10,0.1),alpha=0.2, density=True, label=f\"{name['beta']}_{name['zdimnflow']}\")\n",
    "        #plt.hist(bkgloss,np.arange(0,10,0.1),alpha=0.2, density=True, label=f\"{name['beta']}_{name['zdimnflow']}\")\n",
    "plt.xlabel(r'$\\epsilon_{bkg}$',fontsize=15)\n",
    "plt.ylabel(r'$\\epsilon_{sig}$',fontsize=15)\n",
    "#plt.semilogy()\n",
    "#plt.yscale('log')\n",
    "\n",
    "plt.legend(bbox_to_anchor=(1.05, 1.0), loc='upper left')\n",
    "#plt.legend(loc='lower right')\n",
    "#plt.xlim([0.05,1.0])\n",
    "#plt.ylim([0.0,1.0])\n",
    "#plt.savefig('ROC_effectiveness_of_quak.png')"
   ]
  },
  {
   "cell_type": "markdown",
   "metadata": {},
   "source": [
    "# NOW SIGNAL AE"
   ]
  },
  {
   "cell_type": "code",
   "execution_count": 29,
   "metadata": {},
   "outputs": [],
   "source": [
    "f_bkg = pd.read_hdf('~/QUASAR/preprocessing/conventional_tau_rnd.h5')\n",
    "f_sig = pd.read_hdf('~/QUASAR/preprocessing/delphes_output_4500_500_150.h5')\n",
    "f_bb = pd.read_hdf('~/QUASAR/preprocessing/conventional_tau_BB1_rnd.h5')"
   ]
  },
  {
   "cell_type": "code",
   "execution_count": 30,
   "metadata": {},
   "outputs": [
    {
     "data": {
      "text/plain": [
       "'\\nsig_mean = [489.6699791129437,\\n 0.22463354907052815,\\n 0.639679230886038,\\n 0.7742464847783065,\\n 1.4122267488712905,\\n 253.95296492556145,\\n 167.8782919951573,\\n 0.3429350853771621,\\n 0.6460772390759577,\\n 0.7653966882661628,\\n 1.4541020071952622,\\n 165.34100428967955]\\n\\nsig_std = [66.87936517220672,\\n 0.1361910116638729,\\n 0.15309413231859276,\\n 0.10054671892302457,\\n 0.3833027691949484,\\n 87.45977372109115,\\n 50.53622336909848,\\n 0.14930126292179366,\\n 0.15096516491915418,\\n 0.10415175051343364,\\n 0.44297590229588857,\\n 55.44436453890166]\\n'"
      ]
     },
     "execution_count": 30,
     "metadata": {},
     "output_type": "execute_result"
    }
   ],
   "source": [
    "'''\n",
    "sig_mean = [489.6699791129437,\n",
    " 0.22463354907052815,\n",
    " 0.639679230886038,\n",
    " 0.7742464847783065,\n",
    " 1.4122267488712905,\n",
    " 253.95296492556145,\n",
    " 167.8782919951573,\n",
    " 0.3429350853771621,\n",
    " 0.6460772390759577,\n",
    " 0.7653966882661628,\n",
    " 1.4541020071952622,\n",
    " 165.34100428967955]\n",
    "\n",
    "sig_std = [66.87936517220672,\n",
    " 0.1361910116638729,\n",
    " 0.15309413231859276,\n",
    " 0.10054671892302457,\n",
    " 0.3833027691949484,\n",
    " 87.45977372109115,\n",
    " 50.53622336909848,\n",
    " 0.14930126292179366,\n",
    " 0.15096516491915418,\n",
    " 0.10415175051343364,\n",
    " 0.44297590229588857,\n",
    " 55.44436453890166]\n",
    "'''"
   ]
  },
  {
   "cell_type": "code",
   "execution_count": 31,
   "metadata": {},
   "outputs": [
    {
     "name": "stdout",
     "output_type": "stream",
     "text": [
      "(39630, 12)\n"
     ]
    }
   ],
   "source": [
    "dt = f_sig.values\n",
    "correct = (dt[:,3]>0) &(dt[:,19]>0) & (dt[:,1]>0) & (dt[:,2]>0)\n",
    "dt = dt[correct]\n",
    "\n",
    "correct = (dt[:,0]>=2800)\n",
    "dt = dt[correct]   \n",
    "\n",
    "for i in range(13,19):\n",
    "    dt[:,i] = dt[:,i]/dt[:,3]\n",
    "\n",
    "for i in range(29,35):\n",
    "    dt[:,i] = dt[:,i]/(dt[:,19])\n",
    "\n",
    "correct = (dt[:,3]>200)  & (dt[:,19]>50) & (dt[:,0]>4200) & (dt[:,0]<4800)\n",
    "#correct = (dt[:,3]>450) & (dt[:,3]<550) & (dt[:,19]>100) & (dt[:,19]<200) & (dt[:,0]>4200) & (dt[:,0]<4800)\n",
    "dt = dt[correct]  \n",
    "\n",
    "Y = dt[:,[3,4,5,6,11,12,19,20,21,22,27,28]]\n",
    "\n",
    "#for i in range(12):\n",
    "#    Y[:,i] = (Y[:,i]-sig_mean[i])/sig_std[i]\n",
    "\n",
    "sig_mean = []\n",
    "sig_std = []\n",
    "\n",
    "for i in range(12):\n",
    "    mean = np.mean(Y[:,i])\n",
    "    std = np.std(Y[:,i])\n",
    "    sig_mean.append(mean)\n",
    "    sig_std.append(std)\n",
    "    Y[:,i] = (Y[:,i]-mean)/std\n",
    "\n",
    "print(Y.shape)\n",
    "\n",
    "sig_test = torch.tensor(Y)"
   ]
  },
  {
   "cell_type": "code",
   "execution_count": 32,
   "metadata": {},
   "outputs": [
    {
     "data": {
      "text/plain": [
       "[489.6699791129437,\n",
       " 0.22463354907052815,\n",
       " 0.639679230886038,\n",
       " 0.7742464847783065,\n",
       " 1.4122267488712905,\n",
       " 253.95296492556145,\n",
       " 167.8782919951573,\n",
       " 0.3429350853771621,\n",
       " 0.6460772390759577,\n",
       " 0.7653966882661628,\n",
       " 1.4541020071952622,\n",
       " 165.34100428967955]"
      ]
     },
     "execution_count": 32,
     "metadata": {},
     "output_type": "execute_result"
    }
   ],
   "source": [
    "sig_mean"
   ]
  },
  {
   "cell_type": "code",
   "execution_count": 33,
   "metadata": {},
   "outputs": [
    {
     "data": {
      "text/plain": [
       "[66.87936517220672,\n",
       " 0.1361910116638729,\n",
       " 0.15309413231859276,\n",
       " 0.10054671892302457,\n",
       " 0.3833027691949484,\n",
       " 87.45977372109115,\n",
       " 50.53622336909848,\n",
       " 0.14930126292179366,\n",
       " 0.15096516491915418,\n",
       " 0.10415175051343364,\n",
       " 0.44297590229588857,\n",
       " 55.44436453890166]"
      ]
     },
     "execution_count": 33,
     "metadata": {},
     "output_type": "execute_result"
    }
   ],
   "source": [
    "sig_std"
   ]
  },
  {
   "cell_type": "code",
   "execution_count": 34,
   "metadata": {},
   "outputs": [],
   "source": [
    "dt = f_bkg.values\n",
    "correct = (dt[:,3]>0) &(dt[:,19]>0) & (dt[:,1]>0) & (dt[:,2]>0)\n",
    "dt = dt[correct]\n",
    "\n",
    "correct = (dt[:,0]>=2800)\n",
    "dt = dt[correct]   \n",
    "\n",
    "for i in range(13,19):\n",
    "    dt[:,i] = dt[:,i]/dt[:,3]\n",
    "\n",
    "for i in range(29,35):\n",
    "    dt[:,i] = dt[:,i]/(dt[:,19])\n",
    "\n",
    "\n",
    "idx = dt[:,-1]\n",
    "bkgidx = (idx == 0)\n",
    "dt = dt[bkgidx]\n",
    "\n",
    "Y = dt[:,[3,4,5,6,11,12,19,20,21,22,27,28]]\n",
    "\n",
    "#for i in range(12):\n",
    "#    Y[:,i] = (Y[:,i]-sig_mean[i])/sig_std[i]\n",
    "\n",
    "for i in range(12):\n",
    "    Y[:,i] = (Y[:,i]-sig_mean[i])/sig_std[i]\n",
    "\n",
    "bkg_test = torch.tensor(Y)"
   ]
  },
  {
   "cell_type": "code",
   "execution_count": 35,
   "metadata": {},
   "outputs": [
    {
     "name": "stdout",
     "output_type": "stream",
     "text": [
      "tensor([[-0.0676,  0.2178,  0.3771,  ..., -0.3123,  0.8996, -1.3949],\n",
      "        [-0.4486, -0.7038,  0.9860,  ...,  1.3597, -0.0731, -0.8899],\n",
      "        [ 0.6613, -1.0283,  1.0687,  ..., -0.2467, -0.7173,  0.1201],\n",
      "        ...,\n",
      "        [ 0.1977,  0.8943, -0.8374,  ...,  0.3510,  9.2257, -1.3949],\n",
      "        [-0.6551,  0.8781, -0.7417,  ...,  0.4030, -0.6633,  1.7073],\n",
      "        [-0.1513, -1.0322,  0.8679,  ..., -1.5917,  1.6032, -1.6835]],\n",
      "       dtype=torch.float64)\n"
     ]
    }
   ],
   "source": [
    "print(sig_test)"
   ]
  },
  {
   "cell_type": "code",
   "execution_count": 36,
   "metadata": {},
   "outputs": [],
   "source": [
    "def get_tpr_fpr(sigloss,bkgloss):\n",
    "    bins = np.linspace(0,200,4001)\n",
    "    tpr = []\n",
    "    fpr = []\n",
    "    for cut in bins:\n",
    "        tpr.append(np.where(sigloss<cut)[0].shape[0]/len(sigloss))\n",
    "        fpr.append(np.where(bkgloss<cut)[0].shape[0]/len(bkgloss))\n",
    "\n",
    "\n",
    "    return tpr,fpr"
   ]
  },
  {
   "cell_type": "code",
   "execution_count": 37,
   "metadata": {},
   "outputs": [],
   "source": [
    "tprlist = []\n",
    "fprlist = []\n",
    "namelist = []\n",
    "sigtr_siglosslist = []\n",
    "sigtr_bkglosslist = []\n",
    "tprlist_forinverse = []\n",
    "fprinverselist = []\n",
    "\n",
    "model = VAE_NF(N_FLOWS, Z_DIM).cuda()\n",
    "#NOTE: The \"architecture\" key below can be set to \"MAF\", \"Planar\" (not recommended), \"NSQUAD\", or \"NSRATQUAD\". \n",
    "ae_def = {\n",
    "            \"type\":\"sig\",\n",
    "            \"trainon\":\"2prong\",\n",
    "            \"features\":\"12features\",\n",
    "            \"architecture\":flow_type,\n",
    "            \"selection\":\"mjjcut\",\n",
    "            \"trainloss\":\"MSELoss\",\n",
    "            \"beta\":f\"beta{re.sub('[.,]', 'p', str(beta))}\",\n",
    "            \"zdimnflow\":f\"z{Z_DIM}f{N_FLOWS}\",\n",
    "            \"version\":f\"ver{version}\"\n",
    "\n",
    "         }\n",
    "\n",
    "model.load_state_dict(torch.load(f\"/home/mikaeelyunus/QUASAR/weights/sangeon_sig_model.h5\"), strict=False)\n",
    "#NOTE: Replace the /home/mikaeelyunus/ above with the directory in which QUASAR resides.\n",
    "model.eval()\n",
    "with torch.no_grad():\n",
    "    sig_loss = torch.mean((model(sig_test.float().cuda())[0]- sig_test.float().cuda())**2,dim=1).data.cpu().numpy()\n",
    "    bkg_loss = torch.mean((model(bkg_test.float().cuda())[0]- bkg_test.float().cuda())**2,dim=1).data.cpu().numpy()\n",
    "    #sig_loss = torch.mean((model(sig_test.float().cuda())[0]- sig_test.float().cuda())**2,dim=1).data.cpu().numpy() + beta * F.kl_div(model(sig_test.float().cuda())[0], sig_test.float().cuda()).cpu().numpy()\n",
    "    #bkg_loss = torch.mean((model(bkg_test.float().cuda())[0]- bkg_test.float().cuda())**2,dim=1).data.cpu().numpy() + beta * F.kl_div(model(bkg_test.float().cuda())[0], bkg_test.float().cuda()).cpu().numpy()\n",
    "\n",
    "\n",
    "np.save(f\"/home/mikaeelyunus/QUASAR/data_strings/sangeon_sig_model_sigloss.npy\",sig_loss)\n",
    "#NOTE: Replace the /home/mikaeelyunus/ above with the directory in which QUASAR resides.\n",
    "np.save(f\"/home/mikaeelyunus/QUASAR/data_strings/sangeon_sig_model_bkgloss.npy\",bkg_loss)\n",
    "#NOTE: Replace the /home/mikaeelyunus/ above with the directory in which QUASAR resides.\n",
    "\n",
    "namelist.append(ae_def)\n",
    "tpr, fpr = get_tpr_fpr(sig_loss,bkg_loss)\n",
    "tprlist.append(tpr)\n",
    "fprlist.append(fpr)\n",
    "tpr_np, fpr_np = np.array(tpr), np.array(fpr)\n",
    "\n",
    "nonzero_idx = np.nonzero(fpr_np)\n",
    "\n",
    "\n",
    "sigtr_siglosslist.append(sig_loss)\n",
    "sigtr_bkglosslist.append(bkg_loss)\n",
    "\n",
    "tprlist_forinverse.append(tpr_np[nonzero_idx])\n",
    "fprinverselist.append(1/fpr_np[nonzero_idx])"
   ]
  },
  {
   "cell_type": "code",
   "execution_count": 38,
   "metadata": {},
   "outputs": [],
   "source": [
    "for index in range(len(betas)): \n",
    "        \n",
    "    sigtr_bkgloss = sigtr_bkglosslist[index]\n",
    "    sigtr_sigloss = sigtr_siglosslist[index]\n",
    "    \n",
    "    df_bkgloss = pd.DataFrame(sigtr_bkgloss)\n",
    "    df_sigloss = pd.DataFrame(sigtr_sigloss)\n",
    "    df_bkgloss.to_csv('csv_files/sangeon_sig_model_bkgloss.csv') \n",
    "    df_sigloss.to_csv('csv_files/sangeon_sig_model_sigloss.csv')"
   ]
  },
  {
   "cell_type": "code",
   "execution_count": 39,
   "metadata": {},
   "outputs": [
    {
     "name": "stdout",
     "output_type": "stream",
     "text": [
      "beta10p0_z4f10 3363.7414912254044\n"
     ]
    },
    {
     "data": {
      "text/plain": [
       "(0.0, 1.0)"
      ]
     },
     "execution_count": 39,
     "metadata": {},
     "output_type": "execute_result"
    },
    {
     "data": {
      "image/png": "[encoded data removed]",
      "text/plain": [
       "<Figure size 576x576 with 1 Axes>"
      ]
     },
     "metadata": {
      "needs_background": "light"
     },
     "output_type": "display_data"
    }
   ],
   "source": [
    "for tpr, fpr, name,sigloss,bkgloss in zip(tprlist_forinverse,fprinverselist, namelist,sigtr_siglosslist,sigtr_bkglosslist):\n",
    "    #if name['beta'] == 'beta10p0' or name['beta'] == 'beta2p0':\n",
    "    if name['zdimnflow'] == 'z4f10':\n",
    "        #print(tpr, fpr)\n",
    "        plt.plot(tpr,fpr, label=f\"{name['beta']}_{name['zdimnflow']}\")\n",
    "        print(f\"{name['beta']}_{name['zdimnflow']}\",metrics.auc(fpr,tpr))\n",
    "        #plt.hist(sigloss,np.arange(0,10,0.1),alpha=0.2, density=True, label=f\"{name['beta']}_{name['zdimnflow']}\")\n",
    "        #plt.hist(bkgloss,np.arange(0,10,0.1),alpha=0.2, density=True, label=f\"{name['beta']}_{name['zdimnflow']}\")\n",
    "plt.xlabel(r'$\\epsilon_{sig}$',fontsize=15)\n",
    "plt.ylabel(r'$1/\\epsilon_{bkg}$',fontsize=15)\n",
    "#plt.semilogy()\n",
    "plt.yscale('log')\n",
    "\n",
    "plt.title('Signal Prior')\n",
    "#plt.legend(bbox_to_anchor=(1.05, 1.0), loc='upper left')\n",
    "plt.legend(loc='upper right')\n",
    "plt.xlim([0.0,1.0])\n",
    "#plt.ylim([0.0,1.0])\n",
    "#plt.savefig('ROC_effectiveness_of_quak.png')"
   ]
  },
  {
   "cell_type": "code",
   "execution_count": 40,
   "metadata": {},
   "outputs": [
    {
     "name": "stdout",
     "output_type": "stream",
     "text": [
      "beta10p0_z4f10 0.9607194372971632\n"
     ]
    },
    {
     "data": {
      "text/plain": [
       "<matplotlib.legend.Legend at 0x7f7bc3c460f0>"
      ]
     },
     "execution_count": 40,
     "metadata": {},
     "output_type": "execute_result"
    },
    {
     "data": {
      "image/png": "[encoded data removed]",
      "text/plain": [
       "<Figure size 576x576 with 1 Axes>"
      ]
     },
     "metadata": {
      "needs_background": "light"
     },
     "output_type": "display_data"
    }
   ],
   "source": [
    "for tpr, fpr, name,sigloss,bkgloss in zip(tprlist,fprlist, namelist,sigtr_siglosslist,sigtr_bkglosslist):\n",
    "    #if name['beta'] == 'beta10p0' or name['beta'] == 'beta2p0':\n",
    "    if name['zdimnflow'] == 'z4f10':\n",
    "        plt.plot(fpr,tpr, label=f\"{name['beta']}_{name['zdimnflow']}\")\n",
    "        print(f\"{name['beta']}_{name['zdimnflow']}\",metrics.auc(fpr,tpr))\n",
    "        #plt.hist(sigloss,np.arange(0,10,0.1),alpha=0.2, density=True, label=f\"{name['beta']}_{name['zdimnflow']}\")\n",
    "        #plt.hist(bkgloss,np.arange(0,10,0.1),alpha=0.2, density=True, label=f\"{name['beta']}_{name['zdimnflow']}\")\n",
    "plt.xlabel(r'$\\epsilon_{bkg}$',fontsize=15)\n",
    "plt.ylabel(r'$\\epsilon_{sig}$',fontsize=15)\n",
    "#plt.semilogy()\n",
    "#plt.yscale('log')\n",
    "\n",
    "plt.legend(bbox_to_anchor=(1.05, 1.0), loc='upper left')\n",
    "#plt.legend(loc='lower right')\n",
    "#plt.xlim([0.05,1.0])\n",
    "#plt.ylim([0.0,1.0])\n",
    "#plt.savefig('ROC_effectiveness_of_quak.png')"
   ]
  },
  {
   "cell_type": "markdown",
   "metadata": {},
   "source": [
    "# Black Box Testing"
   ]
  },
  {
   "cell_type": "code",
   "execution_count": 39,
   "metadata": {},
   "outputs": [],
   "source": [
    "#f_bkg = pd.read_hdf('~/QUASAR/preprocessing/conventional_tau_rnd.h5')\n",
    "#f_sig = pd.read_hdf('~/QUASAR/preprocessing/delphes_output_4500_500_150.h5')\n",
    "f_bb = pd.read_hdf('/data/t3home000/spark/QUASAR/preprocessing/conventional_tau_BB1_rnd.h5')"
   ]
  },
  {
   "cell_type": "code",
   "execution_count": 40,
   "metadata": {},
   "outputs": [],
   "source": [
    "dt = f_bb.values\n"
   ]
  },
  {
   "cell_type": "code",
   "execution_count": 41,
   "metadata": {},
   "outputs": [
    {
     "data": {
      "text/plain": [
       "(1000000, 35)"
      ]
     },
     "execution_count": 41,
     "metadata": {},
     "output_type": "execute_result"
    }
   ],
   "source": [
    "dt.shape"
   ]
  },
  {
   "cell_type": "code",
   "execution_count": 32,
   "metadata": {},
   "outputs": [],
   "source": [
    "dt = f_bb.values\n",
    "correct = (dt[:,3]>0) &(dt[:,19]>0) & (dt[:,1]>0) & (dt[:,2]>0)\n",
    "dt = dt[correct]\n",
    "\n",
    "correct = (dt[:,0]>=2800)\n",
    "dt = dt[correct]   \n",
    "\n",
    "for i in range(13,19):\n",
    "    dt[:,i] = dt[:,i]/dt[:,3]\n",
    "\n",
    "for i in range(29,35):\n",
    "    dt[:,i] = dt[:,i]/(dt[:,19])"
   ]
  },
  {
   "cell_type": "code",
   "execution_count": 33,
   "metadata": {},
   "outputs": [],
   "source": [
    "idx = dt[:,-1]\n"
   ]
  },
  {
   "cell_type": "code",
   "execution_count": 34,
   "metadata": {},
   "outputs": [
    {
     "data": {
      "text/plain": [
       "array([0.00000000e+00, 5.94765825e-08, 1.15256917e-07, ...,\n",
       "       0.00000000e+00, 9.06531874e-08, 0.00000000e+00])"
      ]
     },
     "execution_count": 34,
     "metadata": {},
     "output_type": "execute_result"
    }
   ],
   "source": [
    "idx"
   ]
  },
  {
   "cell_type": "code",
   "execution_count": 35,
   "metadata": {},
   "outputs": [],
   "source": [
    "bbidx = (idx == 0)\n"
   ]
  },
  {
   "cell_type": "code",
   "execution_count": 36,
   "metadata": {},
   "outputs": [
    {
     "data": {
      "text/plain": [
       "(488280,)"
      ]
     },
     "execution_count": 36,
     "metadata": {},
     "output_type": "execute_result"
    }
   ],
   "source": [
    "bbidx.shape"
   ]
  },
  {
   "cell_type": "code",
   "execution_count": 37,
   "metadata": {},
   "outputs": [],
   "source": [
    "dt = dt[bbidx]\n"
   ]
  },
  {
   "cell_type": "code",
   "execution_count": 38,
   "metadata": {},
   "outputs": [
    {
     "data": {
      "text/plain": [
       "(106650, 35)"
      ]
     },
     "execution_count": 38,
     "metadata": {},
     "output_type": "execute_result"
    }
   ],
   "source": [
    "dt.shape"
   ]
  },
  {
   "cell_type": "code",
   "execution_count": 17,
   "metadata": {},
   "outputs": [
    {
     "name": "stdout",
     "output_type": "stream",
     "text": [
      "[3104.289128268278, 2843.8911922174857, 4160.290640349415, 4010.3573932424247, 3658.9887004344037, 3078.4289358916562, 3089.8179491089636, 3140.3669442866835, 4475.023899126603, 2998.71630953236, 3788.515501098005, 2916.6248780117794, 3357.162734415298, 3648.856204216617, 3190.971403974984, 2897.412974546544, 3322.0740764537854, 3419.7639604502983, 3195.6886349838956, 2993.8815252846457, 3441.8762574948473, 4868.554315322869, 3004.737205729325, 4163.025638413199, 3389.541400308394]\n"
     ]
    },
    {
     "ename": "FileNotFoundError",
     "evalue": "[Errno 2] No such file or directory: 'csv_files/bb_mass.csv'",
     "output_type": "error",
     "traceback": [
      "\u001b[0;31m---------------------------------------------------------------------------\u001b[0m",
      "\u001b[0;31mFileNotFoundError\u001b[0m                         Traceback (most recent call last)",
      "\u001b[0;32m<ipython-input-17-20d795853f77>\u001b[0m in \u001b[0;36m<module>\u001b[0;34m\u001b[0m\n\u001b[1;32m     19\u001b[0m \u001b[0mprint\u001b[0m\u001b[0;34m(\u001b[0m\u001b[0mbb_mass\u001b[0m\u001b[0;34m[\u001b[0m\u001b[0;34m:\u001b[0m\u001b[0;36m25\u001b[0m\u001b[0;34m]\u001b[0m\u001b[0;34m)\u001b[0m\u001b[0;34m\u001b[0m\u001b[0;34m\u001b[0m\u001b[0m\n\u001b[1;32m     20\u001b[0m \u001b[0mdf\u001b[0m \u001b[0;34m=\u001b[0m \u001b[0mpd\u001b[0m\u001b[0;34m.\u001b[0m\u001b[0mDataFrame\u001b[0m\u001b[0;34m(\u001b[0m\u001b[0mbb_mass\u001b[0m\u001b[0;34m)\u001b[0m\u001b[0;34m\u001b[0m\u001b[0;34m\u001b[0m\u001b[0m\n\u001b[0;32m---> 21\u001b[0;31m \u001b[0mdf\u001b[0m\u001b[0;34m.\u001b[0m\u001b[0mto_csv\u001b[0m\u001b[0;34m(\u001b[0m\u001b[0;34m'csv_files/bb_mass.csv'\u001b[0m\u001b[0;34m)\u001b[0m\u001b[0;34m\u001b[0m\u001b[0;34m\u001b[0m\u001b[0m\n\u001b[0m\u001b[1;32m     22\u001b[0m \u001b[0;34m\u001b[0m\u001b[0m\n\u001b[1;32m     23\u001b[0m \u001b[0mY\u001b[0m \u001b[0;34m=\u001b[0m \u001b[0mdt\u001b[0m\u001b[0;34m[\u001b[0m\u001b[0;34m:\u001b[0m\u001b[0;34m,\u001b[0m\u001b[0;34m[\u001b[0m\u001b[0;36m3\u001b[0m\u001b[0;34m,\u001b[0m\u001b[0;36m4\u001b[0m\u001b[0;34m,\u001b[0m\u001b[0;36m5\u001b[0m\u001b[0;34m,\u001b[0m\u001b[0;36m6\u001b[0m\u001b[0;34m,\u001b[0m\u001b[0;36m11\u001b[0m\u001b[0;34m,\u001b[0m\u001b[0;36m12\u001b[0m\u001b[0;34m,\u001b[0m\u001b[0;36m19\u001b[0m\u001b[0;34m,\u001b[0m\u001b[0;36m20\u001b[0m\u001b[0;34m,\u001b[0m\u001b[0;36m21\u001b[0m\u001b[0;34m,\u001b[0m\u001b[0;36m22\u001b[0m\u001b[0;34m,\u001b[0m\u001b[0;36m27\u001b[0m\u001b[0;34m,\u001b[0m\u001b[0;36m28\u001b[0m\u001b[0;34m]\u001b[0m\u001b[0;34m]\u001b[0m\u001b[0;34m\u001b[0m\u001b[0;34m\u001b[0m\u001b[0m\n",
      "\u001b[0;32m/data/t3home000/spark/miniconda3/envs/fewshot/lib/python3.7/site-packages/pandas/core/generic.py\u001b[0m in \u001b[0;36mto_csv\u001b[0;34m(self, path_or_buf, sep, na_rep, float_format, columns, header, index, index_label, mode, encoding, compression, quoting, quotechar, line_terminator, chunksize, date_format, doublequote, escapechar, decimal)\u001b[0m\n\u001b[1;32m   3226\u001b[0m             \u001b[0mdecimal\u001b[0m\u001b[0;34m=\u001b[0m\u001b[0mdecimal\u001b[0m\u001b[0;34m,\u001b[0m\u001b[0;34m\u001b[0m\u001b[0;34m\u001b[0m\u001b[0m\n\u001b[1;32m   3227\u001b[0m         )\n\u001b[0;32m-> 3228\u001b[0;31m         \u001b[0mformatter\u001b[0m\u001b[0;34m.\u001b[0m\u001b[0msave\u001b[0m\u001b[0;34m(\u001b[0m\u001b[0;34m)\u001b[0m\u001b[0;34m\u001b[0m\u001b[0;34m\u001b[0m\u001b[0m\n\u001b[0m\u001b[1;32m   3229\u001b[0m \u001b[0;34m\u001b[0m\u001b[0m\n\u001b[1;32m   3230\u001b[0m         \u001b[0;32mif\u001b[0m \u001b[0mpath_or_buf\u001b[0m \u001b[0;32mis\u001b[0m \u001b[0;32mNone\u001b[0m\u001b[0;34m:\u001b[0m\u001b[0;34m\u001b[0m\u001b[0;34m\u001b[0m\u001b[0m\n",
      "\u001b[0;32m/data/t3home000/spark/miniconda3/envs/fewshot/lib/python3.7/site-packages/pandas/io/formats/csvs.py\u001b[0m in \u001b[0;36msave\u001b[0;34m(self)\u001b[0m\n\u001b[1;32m    181\u001b[0m                 \u001b[0mself\u001b[0m\u001b[0;34m.\u001b[0m\u001b[0mmode\u001b[0m\u001b[0;34m,\u001b[0m\u001b[0;34m\u001b[0m\u001b[0;34m\u001b[0m\u001b[0m\n\u001b[1;32m    182\u001b[0m                 \u001b[0mencoding\u001b[0m\u001b[0;34m=\u001b[0m\u001b[0mself\u001b[0m\u001b[0;34m.\u001b[0m\u001b[0mencoding\u001b[0m\u001b[0;34m,\u001b[0m\u001b[0;34m\u001b[0m\u001b[0;34m\u001b[0m\u001b[0m\n\u001b[0;32m--> 183\u001b[0;31m                 \u001b[0mcompression\u001b[0m\u001b[0;34m=\u001b[0m\u001b[0mself\u001b[0m\u001b[0;34m.\u001b[0m\u001b[0mcompression\u001b[0m\u001b[0;34m,\u001b[0m\u001b[0;34m\u001b[0m\u001b[0;34m\u001b[0m\u001b[0m\n\u001b[0m\u001b[1;32m    184\u001b[0m             )\n\u001b[1;32m    185\u001b[0m             \u001b[0mclose\u001b[0m \u001b[0;34m=\u001b[0m \u001b[0;32mTrue\u001b[0m\u001b[0;34m\u001b[0m\u001b[0;34m\u001b[0m\u001b[0m\n",
      "\u001b[0;32m/data/t3home000/spark/miniconda3/envs/fewshot/lib/python3.7/site-packages/pandas/io/common.py\u001b[0m in \u001b[0;36m_get_handle\u001b[0;34m(path_or_buf, mode, encoding, compression, memory_map, is_text)\u001b[0m\n\u001b[1;32m    397\u001b[0m         \u001b[0;32mif\u001b[0m \u001b[0mencoding\u001b[0m\u001b[0;34m:\u001b[0m\u001b[0;34m\u001b[0m\u001b[0;34m\u001b[0m\u001b[0m\n\u001b[1;32m    398\u001b[0m             \u001b[0;31m# Encoding\u001b[0m\u001b[0;34m\u001b[0m\u001b[0;34m\u001b[0m\u001b[0;34m\u001b[0m\u001b[0m\n\u001b[0;32m--> 399\u001b[0;31m             \u001b[0mf\u001b[0m \u001b[0;34m=\u001b[0m \u001b[0mopen\u001b[0m\u001b[0;34m(\u001b[0m\u001b[0mpath_or_buf\u001b[0m\u001b[0;34m,\u001b[0m \u001b[0mmode\u001b[0m\u001b[0;34m,\u001b[0m \u001b[0mencoding\u001b[0m\u001b[0;34m=\u001b[0m\u001b[0mencoding\u001b[0m\u001b[0;34m,\u001b[0m \u001b[0mnewline\u001b[0m\u001b[0;34m=\u001b[0m\u001b[0;34m\"\"\u001b[0m\u001b[0;34m)\u001b[0m\u001b[0;34m\u001b[0m\u001b[0;34m\u001b[0m\u001b[0m\n\u001b[0m\u001b[1;32m    400\u001b[0m         \u001b[0;32melif\u001b[0m \u001b[0mis_text\u001b[0m\u001b[0;34m:\u001b[0m\u001b[0;34m\u001b[0m\u001b[0;34m\u001b[0m\u001b[0m\n\u001b[1;32m    401\u001b[0m             \u001b[0;31m# No explicit encoding\u001b[0m\u001b[0;34m\u001b[0m\u001b[0;34m\u001b[0m\u001b[0;34m\u001b[0m\u001b[0m\n",
      "\u001b[0;31mFileNotFoundError\u001b[0m: [Errno 2] No such file or directory: 'csv_files/bb_mass.csv'"
     ]
    }
   ],
   "source": [
    "dt = f_bb.values\n",
    "correct = (dt[:,3]>0) &(dt[:,19]>0) & (dt[:,1]>0) & (dt[:,2]>0)\n",
    "dt = dt[correct]\n",
    "\n",
    "correct = (dt[:,0]>=2800)\n",
    "dt = dt[correct]   \n",
    "\n",
    "for i in range(13,19):\n",
    "    dt[:,i] = dt[:,i]/dt[:,3]\n",
    "\n",
    "for i in range(29,35):\n",
    "    dt[:,i] = dt[:,i]/(dt[:,19])\n",
    "\n",
    "idx = dt[:,-1]\n",
    "bbidx = (idx == 0)\n",
    "dt = dt[bbidx]\n",
    "\n",
    "\n",
    "Y = dt[:,[3,4,5,6,11,12,19,20,21,22,27,28]] \n",
    "\n",
    "for i in range(12):\n",
    "    Y[:,i] = (Y[:,i]-bkg_mean[i])/bkg_std[i]\n",
    "\n",
    "print(Y.shape)\n",
    "\n",
    "print(Y[:25])\n",
    "bb_test = torch.tensor(Y)"
   ]
  },
  {
   "cell_type": "code",
   "execution_count": 43,
   "metadata": {},
   "outputs": [],
   "source": [
    "namelist = []\n",
    "bkgtr_bblosslist = []\n",
    "\n",
    "model = VAE_NF(N_FLOWS, Z_DIM).cuda()\n",
    "#NOTE: The \"architecture\" key below can be set to \"MAF\", \"Planar\" (not recommended), \"NSQUAD\", or \"NSRATQUAD\". \n",
    "ae_def = {\n",
    "            \"type\":\"bkg\",\n",
    "            \"trainon\":\"rndbkg\",\n",
    "            \"features\":\"12features\",\n",
    "            \"architecture\":flow_type,\n",
    "            \"selection\":\"mjjcut\",\n",
    "            \"trainloss\":\"MSELoss\",\n",
    "            \"beta\":f\"beta{re.sub('[.,]', 'p', str(beta))}\",\n",
    "            \"zdimnflow\":f\"z{Z_DIM}f{N_FLOWS}\",\n",
    "            \"version\":f\"ver{version}\"\n",
    "\n",
    "         }\n",
    "model.load_state_dict(torch.load(f\"/home/mikaeelyunus/QUASAR/weights/sangeon_bkg_model.h5\"), strict=False)\n",
    "#NOTE: Replace the /home/mikaeelyunus/ above with the directory in which QUASAR resides.\n",
    "model.eval()\n",
    "with torch.no_grad():\n",
    "    bb_loss = torch.mean((model(bb_test.float().cuda())[0]- bb_test.float().cuda())**2,dim=1).data.cpu().numpy() \n",
    "    #bb_loss = torch.mean((model(bb_test.float().cuda())[0]- bb_test.float().cuda())**2,dim=1).data.cpu().numpy() + beta * F.kl_div(model(bb_test.float().cuda())[0], bb_test.float().cuda()).cpu().numpy()\n",
    "\n",
    "np.save(f\"/home/mikaeelyunus/QUASAR/data_strings/sangeon_bkg_model_bbloss.npy\",bb_loss)\n",
    "#NOTE: Replace the /home/mikaeelyunus/ above with the directory in which QUASAR resides.\n",
    "\n",
    "namelist.append(ae_def)\n",
    "\n",
    "bkgtr_bblosslist.append(bb_loss)  \n",
    "            "
   ]
  },
  {
   "cell_type": "code",
   "execution_count": 44,
   "metadata": {},
   "outputs": [],
   "source": [
    "for index in range(len(betas)): \n",
    "        \n",
    "    bkgtr_bbloss = bkgtr_bblosslist[index]\n",
    "    \n",
    "    df_bbloss = pd.DataFrame(bkgtr_bbloss)\n",
    "    df_bbloss.to_csv('csv_files/sangeon_bkg_model_bbloss.csv')"
   ]
  },
  {
   "cell_type": "code",
   "execution_count": 45,
   "metadata": {},
   "outputs": [
    {
     "name": "stdout",
     "output_type": "stream",
     "text": [
      "[3104.289128268278, 2843.8911922174857, 4160.290640349415, 4010.3573932424247, 3658.9887004344037, 3078.4289358916562, 3089.8179491089636, 3140.3669442866835, 4475.023899126603, 2998.71630953236, 3788.515501098005, 2916.6248780117794, 3357.162734415298, 3648.856204216617, 3190.971403974984, 2897.412974546544, 3322.0740764537854, 3419.7639604502983, 3195.6886349838956, 2993.8815252846457, 3441.8762574948473, 4868.554315322869, 3004.737205729325, 4163.025638413199, 3389.541400308394]\n",
      "(106650, 12)\n",
      "[[-1.59295886e+00  2.62439450e+00 -1.94174867e+00 -9.49183083e-01\n",
      "   2.96915931e-01  3.89287939e-01 -5.24262679e-01  1.66628467e+00\n",
      "   1.74018774e+00  9.26371992e-01  1.15524485e+00  1.70727894e+00]\n",
      " [-5.77145047e+00  3.10949948e+00 -3.34004192e-02  9.77854519e-01\n",
      "   3.22311345e+00 -9.37036096e-01 -2.86557928e+00  1.22033809e+00\n",
      "   2.04747505e-01 -1.13040411e+00 -3.26320515e-01 -1.61136312e+00]\n",
      " [-6.09415082e+00  4.32375652e+00  8.33800563e-01 -5.92300173e-01\n",
      "   9.16972607e+00 -1.80600702e+00 -2.19209062e+00  1.63491248e+00\n",
      "   9.51123510e-01  1.36403532e+00  2.83978791e+00 -8.17774803e-01]\n",
      " [-3.08400601e+00  2.23356318e+00  4.10489937e-01  5.87074811e-01\n",
      "   2.35416968e+00  6.91407583e-02  5.27778414e-01  2.05562236e+00\n",
      "  -1.00269866e+00 -1.25503762e+00  4.77142196e-02  2.64515604e+00]\n",
      " [-5.32919184e+00  2.23793444e+00 -1.88119553e-01 -1.37056464e+00\n",
      "   1.77239295e+00 -1.21144797e+00 -8.56846967e-01  2.55841152e+00\n",
      "   1.07497337e+00  1.60443052e+00  1.01656216e+01 -6.01341625e-01]\n",
      " [-4.33451398e+00  3.66820107e+00  1.53562963e+00 -4.89831990e-01\n",
      "   3.95726856e-01  5.72229185e-01 -1.48068571e+00  1.88074934e+00\n",
      "  -4.40841704e-01  6.80504854e-01  1.03120671e-01  1.20102300e-01]\n",
      " [-5.24378520e+00  1.51947462e+00  1.83777144e-01  7.03382006e-01\n",
      "  -8.02615464e-01  5.72229185e-01 -9.39421005e-01  1.99473993e+00\n",
      "   9.82876984e-01  1.10199260e+00  2.30819809e+00  1.20102300e-01]\n",
      " [-6.16290841e+00  3.68757884e+00  1.00253789e+00 -8.93718596e-02\n",
      "   7.82387202e-01 -1.11997734e+00 -2.38022044e+00  6.36207350e-01\n",
      "   9.19038362e-01  2.25673023e-01  2.04209985e+00 -1.25064116e+00]\n",
      " [ 2.37247478e+00  1.48232225e+00 -1.11022026e+00 -1.44164303e+00\n",
      "  -5.88153782e-01  1.99002384e+00  2.01584315e+00  1.57869823e+00\n",
      "  -5.62802399e-02  1.04224532e+00  5.16421784e+00  4.80824263e-01]\n",
      " [-5.80401755e+00  4.24430860e+00  4.12663037e-01  4.42245098e-01\n",
      "   1.05630996e+00 -8.45565473e-01 -3.11341183e+00  2.89635155e+00\n",
      "   3.50198297e-01  9.73886233e-01  8.28325106e+00 -2.04422948e+00]\n",
      " [-4.95716106e+00  1.18219648e+00  1.12672916e+00  5.43311004e-01\n",
      "   2.28273921e+00 -8.45565473e-01 -2.71787921e+00  3.13631189e+00\n",
      "   1.36421052e+00 -1.03610009e+00  8.55049118e+00 -1.68350751e+00]\n",
      " [-4.97993900e+00  2.93372649e+00  1.32755310e+00  1.33433131e-02\n",
      "   1.06036858e+00  2.52082005e-01 -1.46259701e+00  3.58320782e+00\n",
      "   7.12274222e-01 -1.20938962e+00  4.18884589e+00 -2.40619663e-01]\n",
      " [-5.45499567e+00  3.04326868e+00  1.20658648e+00  3.90459714e-01\n",
      "   2.65528730e+00 -1.07424203e+00 -9.77269829e-01  1.58733810e+00\n",
      "   2.60621999e-01  1.93114869e-01  1.03518376e+00 -8.17774803e-01]\n",
      " [-9.40962542e-03  2.35405334e-01 -4.38923866e-01 -3.20220759e-01\n",
      "   1.25134213e+00 -2.96741734e-01 -1.75426480e+00  2.28743344e+00\n",
      "  -4.72104918e-01 -8.91082654e-01  6.80894482e+00 -1.89994069e+00]\n",
      " [-1.95516415e+00  1.82257589e+00 -5.72138980e-01  5.84193815e-01\n",
      "  -5.24773076e-01  1.71561197e+00 -2.45830807e+00  1.43028439e+00\n",
      "   4.64081696e-01  3.68231422e-01  1.82143722e+00 -1.17849677e+00]\n",
      " [-4.39941956e+00  7.50259878e-01  1.52285257e+00  3.84644358e-01\n",
      "   4.68644983e-01 -2.51006423e-01 -2.25229952e-01  1.90558833e+00\n",
      "   3.98128985e-01  1.91508006e-01  3.70588116e-01  5.52968655e-01]\n",
      " [-9.31831815e-01  2.01851251e+00 -2.23132092e+00  7.73916790e-01\n",
      "  -7.77746779e-01  1.02958230e+00  1.86527871e+00 -3.75170319e-02\n",
      "   7.66472442e-01  5.65877831e-01  2.78960449e+00  6.25113048e-01]\n",
      " [-4.22518225e+00  2.38475693e+00  1.00416470e+00  9.01149772e-02\n",
      "   2.04437397e-01  1.53267073e+00 -6.14467740e-01 -3.41817064e-01\n",
      "   9.07167883e-01  8.56674246e-01  5.65267594e-01  7.69401833e-01]\n",
      " [-1.45292598e+00  1.79879470e+00  4.14798508e-01 -4.94260958e-01\n",
      "  -4.77647285e-01  3.59075975e+00 -2.09544305e+00  9.56862516e-01\n",
      "   1.26974382e+00 -4.92225655e-02  1.74591123e+00 -1.17849677e+00]\n",
      " [-5.33155390e+00  1.76884285e+00 -1.09491598e+00 -6.61637424e-01\n",
      "   2.85179109e+00 -1.66880108e+00 -2.72034155e+00  3.38445435e+00\n",
      "   1.19219201e+00  5.21726144e-01  5.79725416e+00 -1.68350751e+00]\n",
      " [-6.06505555e+00  3.52869460e+00 -3.36429461e-01 -1.65620652e+00\n",
      "   5.75795557e+00 -2.03468357e+00 -2.61454024e+00 -1.41060359e-01\n",
      "   1.25565136e+00  1.52753620e-01  5.25297493e+00 -1.17849677e+00]\n",
      " [-2.37486675e+00 -4.19592488e-01  1.82014783e+00  4.02408668e-01\n",
      "   5.71777868e-01 -5.71153604e-01  1.35947408e+00  1.86152619e+00\n",
      "   1.37638826e-01 -1.97573996e-01  1.17727828e+00  1.99585651e+00]\n",
      " [-5.81385744e+00  2.58034228e+00  3.21286380e-01 -9.90164921e-01\n",
      "   3.08955079e+00 -1.76027170e+00 -1.38879147e+00  1.57253696e+00\n",
      "   8.07631490e-01 -2.13232710e+00  1.11692253e+00 -3.84908448e-01]\n",
      " [-3.03664725e+00 -2.39717207e-02  8.50226713e-01  4.17157782e-01\n",
      "   2.10110311e+00 -9.37036096e-01 -1.26194002e+00  1.35878201e+00\n",
      "  -3.81692515e-01  1.27675721e+00  1.74427798e-01 -8.89919196e-01]\n",
      " [-4.95938300e+00  3.19174117e+00  8.76216103e-01  8.77595179e-01\n",
      "   4.59306070e+00 -7.08359538e-01 -1.02330564e+00  1.37753270e+00\n",
      "   1.68526213e-01  8.17673939e-01  2.07533043e+00 -2.40619663e-01]]\n"
     ]
    }
   ],
   "source": [
    "dt = f_bb.values\n",
    "correct = (dt[:,3]>0) &(dt[:,19]>0) & (dt[:,1]>0) & (dt[:,2]>0)\n",
    "dt = dt[correct]\n",
    "\n",
    "correct = (dt[:,0]>=2800)\n",
    "dt = dt[correct]   \n",
    "\n",
    "for i in range(13,19):\n",
    "    dt[:,i] = dt[:,i]/dt[:,3]\n",
    "\n",
    "for i in range(29,35):\n",
    "    dt[:,i] = dt[:,i]/(dt[:,19])\n",
    "\n",
    "idx = dt[:,-1]\n",
    "bbidx = (idx == 0)\n",
    "dt = dt[bbidx]\n",
    "\n",
    "bb_mass = np.ndarray.tolist(dt[:,0])\n",
    "print(bb_mass[:25])\n",
    "df = pd.DataFrame(bb_mass) \n",
    "df.to_csv('csv_files/bb_mass.csv')\n",
    "\n",
    "Y = dt[:,[3,4,5,6,11,12,19,20,21,22,27,28]] \n",
    "\n",
    "for i in range(12):\n",
    "    Y[:,i] = (Y[:,i]-sig_mean[i])/sig_std[i]\n",
    "\n",
    "print(Y.shape)\n",
    "\n",
    "print(Y[:25])\n",
    "bb_test = torch.tensor(Y)"
   ]
  },
  {
   "cell_type": "code",
   "execution_count": 46,
   "metadata": {},
   "outputs": [],
   "source": [
    "namelist = []\n",
    "sigtr_bblosslist = []\n",
    "\n",
    "model = VAE_NF(N_FLOWS, Z_DIM).cuda()\n",
    "#NOTE: The \"architecture\" key below can be set to \"MAF\", \"Planar\" (not recommended), \"NSQUAD\", or \"NSRATQUAD\". \n",
    "ae_def = {\n",
    "            \"type\":\"sig\",\n",
    "            \"trainon\":\"2prong\",\n",
    "            \"features\":\"12features\",\n",
    "            \"architecture\":flow_type,\n",
    "            \"selection\":\"mjjcut\",\n",
    "            \"trainloss\":\"MSELoss\",\n",
    "            \"beta\":f\"beta{re.sub('[.,]', 'p', str(beta))}\",\n",
    "            \"zdimnflow\":f\"z{Z_DIM}f{N_FLOWS}\",\n",
    "            \"version\":f\"ver{version}\"\n",
    "\n",
    "         }\n",
    "\n",
    "model.load_state_dict(torch.load(f\"/home/mikaeelyunus/QUASAR/weights/sangeon_sig_model.h5\"), strict=False)\n",
    "#NOTE: Replace the /home/mikaeelyunus/ above with the directory in which QUASAR resides.\n",
    "model.eval()\n",
    "with torch.no_grad():\n",
    "    bb_loss = torch.mean((model(bb_test.float().cuda())[0] - bb_test.float().cuda())**2,dim=1).data.cpu().numpy()\n",
    "    #bb_loss = torch.mean((model(bb_test.float().cuda())[0] - bb_test.float().cuda())**2,dim=1).data.cpu().numpy() + beta * F.kl_div(model(bb_test.float().cuda())[0], bb_test.float().cuda()).cpu().numpy()\n",
    "\n",
    "#np.save(f\"/home/mikaeelyunus/QUASAR/data_strings/{ae_def['type']}_{ae_def['trainon']}_{ae_def['features']}_{ae_def['architecture']}_{ae_def['selection']}_{ae_def['trainloss']}_{ae_def['beta']}_{ae_def['zdimnflow']}_{ae_def['version']}_sigloss.npy\",sig_loss)\n",
    "np.save(f\"/home/mikaeelyunus/QUASAR/data_strings/sangeon_sig_model_bbloss.npy\",bb_loss)\n",
    "#NOTE: Replace the /home/mikaeelyunus/ above with the directory in which QUASAR resides.\n",
    "\n",
    "namelist.append(ae_def)\n",
    "\n",
    "sigtr_bblosslist.append(bb_loss)"
   ]
  },
  {
   "cell_type": "code",
   "execution_count": 47,
   "metadata": {},
   "outputs": [],
   "source": [
    "for index in range(len(betas)): \n",
    "        \n",
    "    sigtr_bbloss = sigtr_bblosslist[index]\n",
    "    \n",
    "    df_bbloss = pd.DataFrame(sigtr_bbloss)\n",
    "    df_bbloss.to_csv('csv_files/sangeon_sig_model_bbloss.csv') "
   ]
  },
  {
   "cell_type": "code",
   "execution_count": 48,
   "metadata": {},
   "outputs": [
    {
     "data": {
      "image/png": "[encoded data removed]",
      "text/plain": [
       "<Figure size 576x576 with 1 Axes>"
      ]
     },
     "metadata": {
      "needs_background": "light"
     },
     "output_type": "display_data"
    }
   ],
   "source": [
    "for index in range(len(betas)): \n",
    "    \n",
    "    bkgtr_bbloss = bkgtr_bblosslist[index]\n",
    "    sigtr_bbloss = sigtr_bblosslist[index]\n",
    "    \n",
    "    plt.scatter(bkgtr_bbloss, sigtr_bbloss)\n",
    "    plt.xlim(0,10)\n",
    "    plt.ylim(0,20)\n",
    "    plt.show()"
   ]
  },
  {
   "cell_type": "markdown",
   "metadata": {},
   "source": [
    "# 2D ROC Curves (Still in Development)"
   ]
  },
  {
   "cell_type": "code",
   "execution_count": null,
   "metadata": {},
   "outputs": [],
   "source": [
    "from scipy.spatial import ConvexHull\n",
    "\n",
    "def get_hull_coordinates(scan_tpr, scan_fpr):\n",
    "    points = np.array([scan_fpr,scan_tpr])\n",
    "    points = points.transpose()\n",
    "    hull = ConvexHull(points)\n",
    "    fpr = np.array(points[hull.vertices[:],0])\n",
    "    tpr = np.array(points[hull.vertices[:],1])\n",
    "    nonzero_idx = np.nonzero(fpr)\n",
    "    fpr = fpr[nonzero_idx]\n",
    "    tpr = tpr[nonzero_idx]\n",
    "    return tpr, fpr \n",
    "\n",
    "def get_tpr_fpr_2d(sigae_sigloss,sigae_bkgloss,bkgae_sigloss,bkgae_bkgloss):\n",
    "    bins_sigae = np.arange(0,30,0.1)\n",
    "    bins_bkgae = np.arange(0,30,0.1)\n",
    "    tpr = []\n",
    "    fpr = []\n",
    "    for sigcut in bins_sigae:\n",
    "        for bkgcut in bins_bkgae:\n",
    "            tpr_t = np.where((sigae_sigloss<sigcut)&(bkgae_sigloss>bkgcut))[0].shape[0]/len(sigae_sigloss)\n",
    "            fpr_t = np.where((sigae_bkgloss<sigcut)&(bkgae_bkgloss>bkgcut))[0].shape[0]/len(sigae_bkgloss)\n",
    "            tpr.append(tpr_t)\n",
    "            fpr.append(fpr_t)\n",
    "            \n",
    "    tpr, fpr = get_hull_coordinates(tpr, fpr)\n",
    "                \n",
    "\n",
    "    return tpr,fpr"
   ]
  },
  {
   "cell_type": "code",
   "execution_count": null,
   "metadata": {},
   "outputs": [],
   "source": [
    "tpr2dlist = []\n",
    "fpr2dlist = []\n",
    "tpr2dlist_forinverse = []\n",
    "fpr2dinverselist = []\n",
    "for SSLs, SBLs, BSLs, BBLs in zip(sigtr_siglosslist, sigtr_bkglosslist, bkgtr_siglosslist, bkgtr_bkglosslist):\n",
    "    print(SSLs[:20])\n",
    "    print(SBLs[:20])\n",
    "    print(BSLs[:20])\n",
    "    print(BBLs[:20])\n",
    "    tpr2d, fpr2d = get_tpr_fpr_2d(SSLs, SBLs, BSLs, BBLs)\n",
    "    print(tpr2d.shape)\n",
    "    print(fpr2d.shape)\n",
    "    tpr2dlist.append(tpr2d)\n",
    "    fpr2dlist.append(fpr2d)\n",
    "    tpr2d_np, fpr2d_np = np.array(tpr2d), np.array(fpr2d)\n",
    "\n",
    "    nonzero_idx = np.nonzero(fpr2d_np)\n",
    "\n",
    "    tpr2dlist_forinverse.append(tpr2d_np[nonzero_idx])\n",
    "    fpr2dinverselist.append(1/fpr2d_np[nonzero_idx])"
   ]
  },
  {
   "cell_type": "code",
   "execution_count": null,
   "metadata": {},
   "outputs": [],
   "source": [
    "for tpr2d, fpr2d, name in zip(tpr2dlist_forinverse,fpr2dinverselist, namelist):\n",
    "    #if name['beta'] == 'beta10p0' or name['beta'] == 'beta2p0':\n",
    "    if name['zdimnflow'] == 'z4f10':\n",
    "        #print(tpr2d, fpr2d)\n",
    "        print(tpr2d.shape, fpr2d.shape)\n",
    "        plt.plot(tpr2d[1:],fpr2d[1:], label=f\"{name['beta']}_{name['zdimnflow']}\")\n",
    "        #AUC Calculation below (buggy)\n",
    "        #print(f\"{name['beta']}_{name['zdimnflow']}\",metrics.auc(fpr2d,tpr2d))\n",
    "        #plt.hist(sigloss,np.arange(0,10,0.1),alpha=0.2, density=True, label=f\"{name['beta']}_{name['zdimnflow']}\")\n",
    "        #plt.hist(bkgloss,np.arange(0,10,0.1),alpha=0.2, density=True, label=f\"{name['beta']}_{name['zdimnflow']}\")\n",
    "plt.xlabel(r'$\\epsilon_{sig}$',fontsize=15)\n",
    "plt.ylabel(r'$1/\\epsilon_{bkg}$',fontsize=15)\n",
    "#plt.semilogy()\n",
    "plt.yscale('log')\n",
    "\n",
    "plt.title('Inverted 2D ROC')\n",
    "#plt.legend(bbox_to_anchor=(1.05, 1.0), loc='upper left')\n",
    "plt.legend(loc='upper right')\n",
    "plt.xlim([0.0,1.0])\n",
    "#plt.ylim([0.0,1.0])\n",
    "#plt.savefig('ROC_effectiveness_of_quak.png')"
   ]
  },
  {
   "cell_type": "code",
   "execution_count": null,
   "metadata": {},
   "outputs": [],
   "source": [
    "for tpr2d, fpr2d, name in zip(tpr2dlist,fpr2dlist, namelist):\n",
    "    #if name['beta'] == 'beta10p0' or name['beta'] == 'beta2p0':\n",
    "    if name['zdimnflow'] == 'z4f10':\n",
    "        plt.plot(fpr2d[1:],tpr2d[1:], label=f\"{name['beta']}_{name['zdimnflow']}\")\n",
    "        #AUC calculation below (buggy)\n",
    "        #print(f\"{name['beta']}_{name['zdimnflow']}\",metrics.auc(fpr2d,tpr2d))\n",
    "        #plt.hist(sigloss,np.arange(0,10,0.1),alpha=0.2, density=True, label=f\"{name['beta']}_{name['zdimnflow']}\")\n",
    "        #plt.hist(bkgloss,np.arange(0,10,0.1),alpha=0.2, density=True, label=f\"{name['beta']}_{name['zdimnflow']}\")\n",
    "plt.xlabel(r'$\\epsilon_{bkg}$',fontsize=15)\n",
    "plt.ylabel(r'$\\epsilon_{sig}$',fontsize=15)\n",
    "#plt.semilogy()\n",
    "#plt.yscale('log')\n",
    "\n",
    "plt.legend(bbox_to_anchor=(1.05, 1.0), loc='upper left')\n",
    "#plt.legend(loc='lower right')\n",
    "#plt.xlim([0.05,1.0])\n",
    "#plt.ylim([0.0,1.0])\n",
    "#plt.savefig('ROC_effectiveness_of_quak.png')"
   ]
  },
  {
   "cell_type": "markdown",
   "metadata": {},
   "source": [
    "# 2D QUAK Spaces (Still in Development)"
   ]
  },
  {
   "cell_type": "code",
   "execution_count": null,
   "metadata": {},
   "outputs": [],
   "source": [
    "def multidim_cumsum(a):\n",
    "    out = a.cumsum(-1)\n",
    "    for i in range(2,a.ndim+1):\n",
    "        np.cumsum(out, axis=-i, out=out)\n",
    "    return out\n",
    "\n",
    "def plot_cdf(inp_h_bkg, inp_h_sig, inp_X, inp_Y, inp_plot_lower_bound, inp_plot_upper_bound, num_bins = 50, save_cdfs = False): \n",
    "\n",
    "    bkg_cumulative_counts = multidim_cumsum(inp_h_bkg)\n",
    "    sig_cumulative_counts = multidim_cumsum(inp_h_sig)\n",
    "    \n",
    "    cumulative_counts = sig_cumulative_counts/np.sqrt(bkg_cumulative_counts)\n",
    "    flattened_cumulative_counts = cumulative_counts.flatten()\n",
    "\n",
    "    h_bkg_sig, _, _, _ = plt.hist2d(inp_X, inp_Y, weights=flattened_cumulative_counts, cmap = plt.cm.jet, bins=num_bins)\n",
    "    plt.colorbar()\n",
    "    plt.xlabel(\"BKG-Trained Model Loss\")\n",
    "    plt.ylabel(\"SIG-Trained Model Loss\")\n",
    "    plt.title(\"S/sqrt(B) 2D Loss Histogram (CDF)\")\n",
    "    #plt.xlim(inp_plot_lower_bound, inp_plot_upper_bound)\n",
    "    #plt.ylim(inp_plot_lower_bound, inp_plot_upper_bound)\n",
    "    if save_cdfs: \n",
    "        print(filename)\n",
    "        plt.savefig('cdfs/%s.png' % (filename))\n",
    "    plt.show()"
   ]
  },
  {
   "cell_type": "code",
   "execution_count": null,
   "metadata": {},
   "outputs": [],
   "source": [
    "reco_loss_only = True\n",
    "x_bad_loss_cutoff = 7.5\n",
    "y_bad_loss_cutoff = 7.5\n",
    "\n",
    "for beta_index in range(len(bkgtr_siglosslist)): \n",
    "\n",
    "    beta_val = betas[beta_index]\n",
    "    \n",
    "    #------------------------------------------------------------------------------\n",
    "    \n",
    "    num_bins = 5000\n",
    "    \n",
    "    h_bkg, bkg_xedges, bkg_yedges, _ = plt.hist2d(bkgtr_bkglosslist[beta_index], sigtr_bkglosslist[beta_index], cmap = plt.cm.jet, bins=num_bins)\n",
    "    plt.colorbar()\n",
    "    plt.xlabel(\"BKG-Trained Model Loss\")\n",
    "    plt.ylabel(\"SIG-Trained Model Loss\")\n",
    "    plt.title(\"BKG Testing Data 2D Loss Histogram (PDF) (Beta = %s)\" % (beta_val))\n",
    "    plt.xlim(0, x_bad_loss_cutoff)\n",
    "    plt.ylim(0, y_bad_loss_cutoff)\n",
    "    plt.show()\n",
    "    \n",
    "    #------------------------------------------------------------------------------\n",
    "    \n",
    "    num_bins = 100\n",
    "    \n",
    "    beta_val = betas[beta_index]\n",
    "    \n",
    "    h_sig, sig_xedges, sig_yedges, _ = plt.hist2d(bkgtr_siglosslist[beta_index], sigtr_siglosslist[beta_index], cmap = plt.cm.jet, bins=num_bins)\n",
    "    plt.colorbar()\n",
    "    plt.xlabel(\"BKG-Trained Model Loss\")\n",
    "    plt.ylabel(\"SIG-Trained Model Loss\")\n",
    "    plt.title(\"SIG Testing Data 2D Loss Histogram (PDF) (Beta = %s)\" % (beta_val))\n",
    "    plt.xlim(0, x_bad_loss_cutoff)\n",
    "    plt.ylim(0, y_bad_loss_cutoff)\n",
    "    plt.show()\n",
    "    \n",
    "    #------------------------------------------------------------------------------\n",
    "\n",
    "    num_bins = 1000\n",
    "    save_cdfs = False\n",
    "\n",
    "    x_lowest_bin_center = np.min(bkg_xedges) + (bkg_xedges[1]-bkg_xedges[0]) / 2\n",
    "\n",
    "    x_highest_bin_center = np.max(bkg_xedges) - (bkg_xedges[1]-bkg_xedges[0]) / 2\n",
    "    x_bin_step = (bkg_xedges[1]-bkg_xedges[0])\n",
    "\n",
    "    y_lowest_bin_center = np.min(bkg_yedges) + (bkg_yedges[1]-bkg_yedges[0]) / 2\n",
    "    y_highest_bin_center = np.max(bkg_yedges) - (bkg_yedges[1]-bkg_yedges[0]) / 2\n",
    "    y_bin_step = (bkg_yedges[1]-bkg_yedges[0])\n",
    "\n",
    "    h_bkg, bkg_xedges, bkg_yedges, _ = plt.hist2d(bkgtr_bkglosslist[beta_index], sigtr_bkglosslist[beta_index], cmap = plt.cm.jet, bins=num_bins)\n",
    "    h_sig, sig_xedges, sig_yedges, _ = plt.hist2d(bkgtr_siglosslist[beta_index], sigtr_siglosslist[beta_index], cmap = plt.cm.jet, bins=num_bins)\n",
    "    #print(h_bkg)\n",
    "    #print(h_skg)\n",
    "\n",
    "    counts = h_sig/np.sqrt(h_bkg)\n",
    "    flattened_counts = counts.flatten()\n",
    "\n",
    "    print(num_bins*x_bin_step)\n",
    "\n",
    "    X,Y = np.mgrid[x_lowest_bin_center:x_highest_bin_center+x_bin_step:x_bin_step, y_lowest_bin_center:y_highest_bin_center+y_bin_step:y_bin_step]\n",
    "    X = X[:num_bins, :num_bins]\n",
    "    Y = Y[:num_bins, :num_bins]\n",
    "    X = X.flatten()\n",
    "    Y = Y.flatten()\n",
    "\n",
    "    print(X.shape)\n",
    "    print(Y.shape)\n",
    "    print(counts.shape)\n",
    "    print(flattened_counts.shape)\n",
    "\n",
    "    h_bkg_sig, _, _, _ = plt.hist2d(X, Y, weights=flattened_counts, cmap = plt.cm.jet, bins=num_bins)\n",
    "    plt.colorbar()\n",
    "    plt.xlabel(\"BKG-Trained Model Loss\")\n",
    "    plt.ylabel(\"SIG-Trained Model Loss\")\n",
    "    plt.title(\"S/sqrt(B) 2D Loss Histogram (PDF)\")\n",
    "    plt.xlim(0, x_bad_loss_cutoff)\n",
    "    plt.ylim(0, y_bad_loss_cutoff)\n",
    "    plt.show()\n",
    "\n",
    "    #------------------------------------------------------------------------------\n",
    "\n",
    "    plot_cdf(h_bkg, h_sig, X, Y, 0, x_bad_loss_cutoff, num_bins=num_bins, save_cdfs=save_cdfs)"
   ]
  }
 ],
 "metadata": {
  "kernelspec": {
   "display_name": "Python 3",
   "language": "python",
   "name": "python3"
  },
  "language_info": {
   "codemirror_mode": {
    "name": "ipython",
    "version": 3
   },
   "file_extension": ".py",
   "mimetype": "text/x-python",
   "name": "python",
   "nbconvert_exporter": "python",
   "pygments_lexer": "ipython3",
   "version": "3.7.10"
  }
 },
 "nbformat": 4,
 "nbformat_minor": 4
}
