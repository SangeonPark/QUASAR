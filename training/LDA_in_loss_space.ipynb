{
 "cells": [
  {
   "cell_type": "code",
   "execution_count": 1,
   "metadata": {},
   "outputs": [],
   "source": [
    "import numpy as np\n",
    "import scipy as sp\n",
    "import scipy.stats\n",
    "import itertools\n",
    "import logging\n",
    "import matplotlib.pyplot as plt\n",
    "import pandas as pd\n",
    "import torch.utils.data as utils\n",
    "import math\n",
    "import time\n",
    "import tqdm\n",
    "\n",
    "import torch\n",
    "import torch.optim as optim\n",
    "import torch.nn.functional as F\n",
    "from argparse import ArgumentParser\n",
    "from torch.distributions import MultivariateNormal\n",
    "\n",
    "import torch.nn as nn\n",
    "import torch.nn.init as init"
   ]
  },
  {
   "cell_type": "code",
   "execution_count": null,
   "metadata": {},
   "outputs": [],
   "source": [
    "f_rnd = pd.read_hdf(\"/data/t3home000/spark/QUASAR/preprocessing/conventional_tau_rnd.h5\")\n",
    "f_3prong = pd.read_hdf(\"/data/t3home000/spark/QUASAR/preprocessing/conventional_tau_3prong_rnd.h5\")\n",
    "f_purebkg = pd.read_hdf(\"/data/t3home000/spark/QUASAR/preprocessing/conventional_tau_background.h5\")"
   ]
  },
  {
   "cell_type": "code",
   "execution_count": 2,
   "metadata": {},
   "outputs": [],
   "source": [
    "f_BB1 = pd.read_hdf(\"/data/t3home000/spark/QUASAR/preprocessing/conventional_tau_BB1_rnd.h5\")\n",
    "f_BB2 = pd.read_hdf(\"/data/t3home000/spark/QUASAR/preprocessing/conventional_tau_BB2.h5\")\n",
    "f_BB3 = pd.read_hdf(\"/data/t3home000/spark/QUASAR/preprocessing/conventional_tau_BB3.h5\")\n"
   ]
  },
  {
   "cell_type": "code",
   "execution_count": 3,
   "metadata": {},
   "outputs": [],
   "source": [
    "dt = f_BB2.values"
   ]
  },
  {
   "cell_type": "code",
   "execution_count": 4,
   "metadata": {},
   "outputs": [],
   "source": [
    "correct = (dt[:,3]>0) &(dt[:,19]>0)\n",
    "dt = dt[correct]\n",
    "for i in range(13,19):\n",
    "    dt[:,i] = dt[:,i]/dt[:,3]\n",
    "    \n",
    "for i in range(29,35):\n",
    "    dt[:,i] = dt[:,i]/(dt[:,19])\n",
    "        \n",
    "        \n",
    "correct = (dt[:,29]>=0) &(dt[:,29]<=1)&(dt[:,30]>=0) &(dt[:,30]<=1)&(dt[:,31]>=0) &(dt[:,31]<=1)&(dt[:,32]>=0) &(dt[:,32]<=1)&(dt[:,33]>=0) &(dt[:,33]<=1)&(dt[:,34]>=-0.01) &(dt[:,34]<=1)\n",
    "dt = dt[correct]"
   ]
  },
  {
   "cell_type": "code",
   "execution_count": 5,
   "metadata": {},
   "outputs": [],
   "source": [
    "bb_mass = dt[:,0]"
   ]
  },
  {
   "cell_type": "code",
   "execution_count": 6,
   "metadata": {},
   "outputs": [],
   "source": [
    "bb_j1trim = dt[:,3] * dt[:,13]"
   ]
  },
  {
   "cell_type": "code",
   "execution_count": 7,
   "metadata": {},
   "outputs": [],
   "source": [
    "bb_j2trim = dt[:,19] * dt[:,29]"
   ]
  },
  {
   "cell_type": "code",
   "execution_count": 8,
   "metadata": {},
   "outputs": [],
   "source": [
    "bb_j1raw = dt[:,3]"
   ]
  },
  {
   "cell_type": "code",
   "execution_count": 9,
   "metadata": {},
   "outputs": [
    {
     "ename": "NameError",
     "evalue": "name 'f_rnd' is not defined",
     "output_type": "error",
     "traceback": [
      "\u001b[0;31m---------------------------------------------------------------------------\u001b[0m",
      "\u001b[0;31mNameError\u001b[0m                                 Traceback (most recent call last)",
      "\u001b[0;32m<ipython-input-9-56e3f95d65ec>\u001b[0m in \u001b[0;36m<module>\u001b[0;34m\u001b[0m\n\u001b[0;32m----> 1\u001b[0;31m \u001b[0mdt_rnd\u001b[0m \u001b[0;34m=\u001b[0m \u001b[0mf_rnd\u001b[0m\u001b[0;34m.\u001b[0m\u001b[0mvalues\u001b[0m\u001b[0;34m\u001b[0m\u001b[0;34m\u001b[0m\u001b[0m\n\u001b[0m",
      "\u001b[0;31mNameError\u001b[0m: name 'f_rnd' is not defined"
     ]
    }
   ],
   "source": [
    "dt_rnd = f_rnd.values"
   ]
  },
  {
   "cell_type": "code",
   "execution_count": null,
   "metadata": {},
   "outputs": [],
   "source": [
    "rnd_idx = dt_rnd[:,-1]"
   ]
  },
  {
   "cell_type": "code",
   "execution_count": null,
   "metadata": {},
   "outputs": [],
   "source": [
    "#improve purity of trainig by only selecting properly reconstructed jets "
   ]
  },
  {
   "cell_type": "code",
   "execution_count": null,
   "metadata": {},
   "outputs": [],
   "source": []
  },
  {
   "cell_type": "code",
   "execution_count": null,
   "metadata": {},
   "outputs": [],
   "source": [
    "plt.hist(bb_j1trim)"
   ]
  },
  {
   "cell_type": "markdown",
   "metadata": {},
   "source": [
    "# APPLY PRESELECTION BEFORE DOING THE FIT TO THE LDA"
   ]
  },
  {
   "cell_type": "code",
   "execution_count": null,
   "metadata": {},
   "outputs": [],
   "source": [
    "np.finfo(np.float32).max"
   ]
  },
  {
   "cell_type": "code",
   "execution_count": null,
   "metadata": {},
   "outputs": [],
   "source": [
    "bkgloss_0 = np.load(f'../data_strings/bkgae_rndbkg_loss_bb1.npy')\n",
    "sigaeloss_0 = np.load(f'../data_strings/sigae_2prong_loss_bb1.npy')"
   ]
  },
  {
   "cell_type": "code",
   "execution_count": 11,
   "metadata": {},
   "outputs": [],
   "source": [
    "def generate_X(whichsample):\n",
    "    #bkgloss_0 = np.load(f'../data_strings/bkgae_rndbkg_loss_{whichsample}.npy')\n",
    "    bkgloss_1 = np.load(f'../data_strings/bkgae_purebkg_withmass_turnonselection_Huberloss_beta1_WAICloss_{whichsample}.npy')\n",
    "    sigaeloss_0 = np.load(f'../data_strings/sigae_2prong_withmassNORAWJETMASS_turnonselection_MSEloss_beta1_WAICloss_{whichsample}.npy')\n",
    "    sigaeloss_1 = np.load(f'../data_strings/sigae_3prong_withmassNORAWJETMASS_turnonselection_MSEloss_beta1_WAICloss_{whichsample}.npy')\n",
    "    \n",
    "    bkgloss_1[bkgloss_1 > 1e6 ] = 1e6\n",
    "    sigaeloss_0[sigaeloss_0 > 1e6 ] = 1e6\n",
    "    sigaeloss_1[sigaeloss_1 > 1e6 ] = 1e6\n",
    "    \n",
    "    #print(np.max(bkgloss_0))\n",
    "    print(np.max(bkgloss_1))\n",
    "    print(np.max(sigaeloss_0))\n",
    "    print(np.max(sigaeloss_1))\n",
    "    \n",
    "    \n",
    "    return np.column_stack((bkgloss_1,sigaeloss_0,sigaeloss_1))"
   ]
  },
  {
   "cell_type": "code",
   "execution_count": null,
   "metadata": {},
   "outputs": [],
   "source": [
    "X = np.vstack((generate_X('rndbkg'),generate_X('purebkg'),generate_X('2prong'),generate_X('3prong')))"
   ]
  },
  {
   "cell_type": "code",
   "execution_count": null,
   "metadata": {},
   "outputs": [],
   "source": [
    "X.shape"
   ]
  },
  {
   "cell_type": "code",
   "execution_count": null,
   "metadata": {},
   "outputs": [],
   "source": [
    "def get_len(whichsample):\n",
    "    bkgloss_0 = np.load(f'../data_strings/bkgae_{whichsample}_loss_rndbkg.npy')\n",
    "    bkgloss_1 = np.load(f'../data_strings/bkgae_{whichsample}_loss_purebkg.npy')\n",
    "    sigaeloss_0 = np.load(f'../data_strings/sigae_2prong_loss_2prong.npy')\n",
    "    sigaeloss_1 = np.load(f'../data_strings/sigae_2prong_loss_3prong.npy')\n",
    "    return len(bkgloss_0), len(bkgloss_1), len(sigaeloss_0), len(sigaeloss_1)"
   ]
  },
  {
   "cell_type": "code",
   "execution_count": null,
   "metadata": {},
   "outputs": [],
   "source": [
    "get_len('rndbkg')"
   ]
  },
  {
   "cell_type": "code",
   "execution_count": null,
   "metadata": {},
   "outputs": [],
   "source": [
    "y_rndbkg  = np.zeros(938331)\n",
    "y_purebkg = np.zeros(930647)\n",
    "y_2prong  = np.ones(57042)\n",
    "y_3prong  = np.ones(58822)\n",
    "Y = np.concatenate((y_rndbkg,y_purebkg,y_2prong,y_3prong),axis=0)"
   ]
  },
  {
   "cell_type": "code",
   "execution_count": null,
   "metadata": {},
   "outputs": [],
   "source": [
    "Y.shape"
   ]
  },
  {
   "cell_type": "code",
   "execution_count": null,
   "metadata": {},
   "outputs": [],
   "source": [
    "from sklearn.discriminant_analysis import LinearDiscriminantAnalysis, QuadraticDiscriminantAnalysis"
   ]
  },
  {
   "cell_type": "code",
   "execution_count": null,
   "metadata": {},
   "outputs": [],
   "source": [
    "clf = QuadraticDiscriminantAnalysis()"
   ]
  },
  {
   "cell_type": "code",
   "execution_count": null,
   "metadata": {},
   "outputs": [],
   "source": [
    "clf.fit(X, Y)"
   ]
  },
  {
   "cell_type": "code",
   "execution_count": null,
   "metadata": {},
   "outputs": [],
   "source": [
    "p3sig = generate_X('2prong')"
   ]
  },
  {
   "cell_type": "code",
   "execution_count": null,
   "metadata": {},
   "outputs": [],
   "source": []
  },
  {
   "cell_type": "code",
   "execution_count": 12,
   "metadata": {},
   "outputs": [
    {
     "name": "stdout",
     "output_type": "stream",
     "text": [
      "1000000.0\n",
      "15370.574\n",
      "1000000.0\n"
     ]
    }
   ],
   "source": [
    "BB1 = generate_X('bb2')"
   ]
  },
  {
   "cell_type": "code",
   "execution_count": null,
   "metadata": {},
   "outputs": [],
   "source": [
    "plt.scatter(BB1[:1000,0],BB1[:1000,1])\n",
    "plt.xlim([0,200])\n",
    "plt.ylim([0,200])"
   ]
  },
  {
   "cell_type": "code",
   "execution_count": null,
   "metadata": {},
   "outputs": [],
   "source": [
    "BB1.shape"
   ]
  },
  {
   "cell_type": "code",
   "execution_count": null,
   "metadata": {},
   "outputs": [],
   "source": [
    "BB1_prob = clf.predict_proba(BB1)"
   ]
  },
  {
   "cell_type": "code",
   "execution_count": null,
   "metadata": {},
   "outputs": [],
   "source": [
    "bb1_index = np.where(BB1_prob[:,1]>0.91)[0]"
   ]
  },
  {
   "cell_type": "code",
   "execution_count": null,
   "metadata": {},
   "outputs": [],
   "source": [
    "plt.hist(BB1[:,1],bins=np.linspace(0,1000,1000));\n",
    "plt.xscale('log')\n",
    "plt.yscale('log')"
   ]
  },
  {
   "cell_type": "markdown",
   "metadata": {},
   "source": [
    "# BLACK BOX 1"
   ]
  },
  {
   "cell_type": "code",
   "execution_count": null,
   "metadata": {},
   "outputs": [],
   "source": [
    "#bb1_index = np.where((BB1[:,0]>23) & (BB1[:,1]<1.5) & ((dt[:,13]>0.9)) & ((dt[:,0]>4000)) )[0]\n",
    "#bb1_index = np.where((BB1[:,0]>15) & (BB1[:,1]<1.0)   & ((dt[:,0]<5000)) & ((dt[:,0]>3500)))[0]\n",
    "\n",
    "\n",
    "#####BB1 default cut #####\n",
    "#bb1_index = np.where((BB1[:,0]>15) & (BB1[:,1]<1.0)  )[0]\n",
    "\n",
    "\n",
    "##### BB1 with 3 prong prior\n",
    "#bb1_index = np.where((BB1[:,0]>15) & (BB1[:,2]<.8)  )[0]\n",
    "\n",
    "### BB1 with both prior\n",
    "\n",
    "#bb1_index = np.where((BB1[:,0]>15) & (BB1[:,1]<1.0) & (BB1[:,2]<.8)  )[0]"
   ]
  },
  {
   "cell_type": "markdown",
   "metadata": {},
   "source": [
    "# BLACK BOX 2"
   ]
  },
  {
   "cell_type": "code",
   "execution_count": 447,
   "metadata": {},
   "outputs": [],
   "source": [
    "#####BB2 2prong prior #####\n",
    "#bb1_index = np.where((BB1[:,0]>8.6) & (BB1[:,1]<0.5)  )[0]\n",
    "       # 2prong prior with trimmed mass cuts\n",
    "#bb1_index = np.where((BB1[:,0]>10) & (BB1[:,1]<1.1) & (bb_j2trim> 200) &(bb_j1trim>600))[0]\n",
    "\n",
    "#####BB2 3 prong prior\n",
    "#bb1_index = np.where((BB1[:,0]>10.3) & (BB1[:,2]<.5)  )[0]\n",
    "     #3prong prior with trimmed mass cuts\n",
    "#bb1_index = np.where((BB1[:,0]>8) & (BB1[:,2]<1.5)  & (bb_j2trim> 200) &(bb_j1trim>600) )[0]\n",
    "\n",
    "###### BB2 with both prior\n",
    "bb1_index = np.where((BB1[:,0]>19) & (BB1[:,1]<1.2) & (BB1[:,2]<1.2)  )[0]"
   ]
  },
  {
   "cell_type": "markdown",
   "metadata": {},
   "source": [
    "# Black Box 3"
   ]
  },
  {
   "cell_type": "code",
   "execution_count": 448,
   "metadata": {},
   "outputs": [],
   "source": [
    "#####BB3 2prong prior #####\n",
    "#bb1_index = np.where((BB1[:,0]>6) & (BB1[:,1]<.8)  )[0]\n",
    "       # 2prong prior with trimmed mass cuts\n",
    "#bb1_index = np.where((BB1[:,0]>6) & (BB1[:,1]<1.1) & (bb_j1trim> 500) &(bb_j2trim>200))[0]\n",
    "\n",
    "#####BB3 3 prong prior\n",
    "\n",
    "#bb1_index = np.where((BB1[:,0]>8) & (BB1[:,2]<.6)  )[0]\n",
    "     #3prong prior with trimmed mass cuts\n",
    "#bb1_index = np.where((BB1[:,0]>1) & (BB1[:,2]<.6)  & (bb_j1trim> 600) &(bb_j2trim>200) )[0]\n",
    "\n",
    "###### BB3 with both prior\n",
    "#bb1_index = np.where((BB1[:,0]>10) & (BB1[:,1]<1.3) & (BB1[:,2]<1.3))[0]\n",
    "        #allprior with tau cut on jet 1\n",
    "#bb1_index = np.where((BB1[:,0]>10) & (BB1[:,1]<1.3) & (BB1[:,2]<1.3) & (dt[:,5]>0.4) )[0]"
   ]
  },
  {
   "cell_type": "code",
   "execution_count": 449,
   "metadata": {},
   "outputs": [],
   "source": [
    "#bb1_index = np.where((BB1[:,0]>4.) & ((dt[:,13]>0.6)))[0]"
   ]
  },
  {
   "cell_type": "code",
   "execution_count": null,
   "metadata": {},
   "outputs": [],
   "source": [
    "len(bb1_index)"
   ]
  },
  {
   "cell_type": "code",
   "execution_count": 434,
   "metadata": {},
   "outputs": [],
   "source": [
    "bb1_index;"
   ]
  },
  {
   "cell_type": "code",
   "execution_count": 435,
   "metadata": {},
   "outputs": [],
   "source": [
    "import mplhep as hep"
   ]
  },
  {
   "cell_type": "code",
   "execution_count": 436,
   "metadata": {},
   "outputs": [],
   "source": [
    "import mplhep.label as label_base"
   ]
  },
  {
   "cell_type": "code",
   "execution_count": 437,
   "metadata": {},
   "outputs": [],
   "source": [
    "plt.style.use(hep.style.CMS)\n"
   ]
  },
  {
   "cell_type": "code",
   "execution_count": 438,
   "metadata": {},
   "outputs": [],
   "source": [
    "BBTYPE = 'Black Box 2'\n",
    "#priorusage = '2prongprior'\n",
    "#priorusage = '2prongprior_withtrimmedmasscutbyeyeball'\n",
    "#priorusage = '3prongprior'\n",
    "#priorusage = '3prongprior_withtrimmedmasscutbyeyeball_j1200j2600'\n",
    "#priorusage = 'allprior'\n",
    "priorusage = 'allprior_v2'\n",
    "BBTYPE_FILENAME = 'BB2'\n",
    "savedir = 'plots'"
   ]
  },
  {
   "cell_type": "code",
   "execution_count": 446,
   "metadata": {},
   "outputs": [
    {
     "data": {
      "image/png": "[encoded data removed]",
      "text/plain": [
       "<Figure size 720x720 with 1 Axes>"
      ]
     },
     "metadata": {
      "needs_background": "light"
     },
     "output_type": "display_data"
    }
   ],
   "source": [
    "plt.hist(bb_mass[bb1_index],bins=np.linspace(2800,7000,13),alpha=0.5)\n",
    "#plt.axvline(x=3823)\n",
    "plt.xlabel(r'$m_{JJ}$ [GeV]')\n",
    "plt.ylabel('Number of events')\n",
    "#plt.title('subplot 1')\n",
    "#hep.cms.cmslabel(data=False, paper=False, year='2017')\n",
    "hep.label.lumitext(BBTYPE)\n",
    "label_base._exp_text(\"LHCO\")\n",
    "#plt.legend(loc='upper right')\n",
    "plt.savefig(f'../{savedir}/{BBTYPE_FILENAME}_{priorusage}_MJJ.png')\n",
    "#print(a)"
   ]
  },
  {
   "cell_type": "code",
   "execution_count": 409,
   "metadata": {},
   "outputs": [
    {
     "data": {
      "image/png": "[encoded data removed]",
      "text/plain": [
       "<Figure size 720x720 with 1 Axes>"
      ]
     },
     "metadata": {
      "needs_background": "light"
     },
     "output_type": "display_data"
    }
   ],
   "source": [
    "plt.hist(bb_j1trim[bb1_index],bins=np.linspace(0,1000,50),alpha=0.3)\n",
    "plt.xlabel(r'$m_{j1}(trimmed)$  [GeV]')\n",
    "plt.ylabel('Number of events')\n",
    "hep.label.lumitext(BBTYPE)\n",
    "label_base._exp_text(\"LHCO\")\n",
    "#plt.axvline(x=732)\n",
    "plt.savefig(f'../{savedir}/{BBTYPE_FILENAME}_{priorusage}_j1trimmed.png')\n"
   ]
  },
  {
   "cell_type": "code",
   "execution_count": null,
   "metadata": {},
   "outputs": [],
   "source": [
    "plt.hist(bb_j2trim[bb1_index],bins=np.linspace(0,1000,50),alpha=0.3)\n",
    "plt.xlabel(r'$m_{j2}(trimmed)$  [GeV]')\n",
    "plt.ylabel('Number of events')\n",
    "hep.label.lumitext(BBTYPE)\n",
    "label_base._exp_text(\"LHCO\")\n",
    "#plt.axvline(x=378)\n",
    "plt.savefig(f'../{savedir}/{BBTYPE_FILENAME}_{priorusage}_j2trimmed.png')\n"
   ]
  },
  {
   "cell_type": "code",
   "execution_count": null,
   "metadata": {},
   "outputs": [],
   "source": [
    "plt.hist(dt[bb1_index,4],bins=np.linspace(0,1,50),density=True,alpha=0.3,label='Selected Events')\n",
    "plt.hist(dt[:,4],bins=np.linspace(0,1,50),density=True,alpha=0.3,label='Default')\n",
    "plt.legend(loc='upper right')\n",
    "hep.label.lumitext(BBTYPE)\n",
    "label_base._exp_text(\"LHCO\")\n",
    "plt.xlabel(r'$jet1\\ \\tau_{21}$')\n",
    "plt.ylabel('pdf')\n",
    "plt.savefig(f'../{savedir}/{BBTYPE_FILENAME}_{priorusage}_j1tau21.png')\n",
    "\n"
   ]
  },
  {
   "cell_type": "code",
   "execution_count": null,
   "metadata": {},
   "outputs": [],
   "source": [
    "plt.hist(dt[bb1_index,5],bins=np.linspace(0,1,50),density=True,alpha=0.3,label='Selected Events')\n",
    "plt.hist(dt[:,5],bins=np.linspace(0,1,50),density=True,alpha=0.3,label='Default')\n",
    "plt.legend(loc='upper left')\n",
    "\n",
    "hep.label.lumitext(BBTYPE)\n",
    "label_base._exp_text(\"LHCO\")\n",
    "plt.xlabel(r'$jet1\\ \\tau_{32}$')\n",
    "plt.ylabel('pdf')\n",
    "plt.savefig(f'../{savedir}/{BBTYPE_FILENAME}_{priorusage}_j1tau32.png')\n"
   ]
  },
  {
   "cell_type": "code",
   "execution_count": null,
   "metadata": {},
   "outputs": [],
   "source": [
    "plt.hist(dt[bb1_index,20],bins=np.linspace(0,1,50),density=True,alpha=0.3,label='Selected Events')\n",
    "plt.hist(dt[:,20],bins=np.linspace(0,1,50),density=True,alpha=0.3,label='Default')\n",
    "plt.legend(loc='upper left')\n",
    "hep.label.lumitext(BBTYPE)\n",
    "label_base._exp_text(\"LHCO\")\n",
    "plt.xlabel(r'$jet2\\ \\tau_{21}$')\n",
    "plt.ylabel('pdf')\n",
    "plt.savefig(f'../{savedir}/{BBTYPE_FILENAME}_{priorusage}_j2tau21.png')"
   ]
  },
  {
   "cell_type": "code",
   "execution_count": null,
   "metadata": {},
   "outputs": [],
   "source": [
    "plt.hist(dt[bb1_index,21],bins=np.linspace(0,1,50),density=True,alpha=0.3,label='Selected Events')\n",
    "plt.hist(dt[:,21],bins=np.linspace(0,1,50),density=True,alpha=0.3,label='Default')\n",
    "plt.legend(loc='upper left')\n",
    "hep.label.lumitext(BBTYPE)\n",
    "label_base._exp_text(\"LHCO\")\n",
    "plt.xlabel(r'$jet2\\ \\tau_{32}$')\n",
    "plt.ylabel('pdf')\n",
    "plt.savefig(f'../{savedir}/{BBTYPE_FILENAME}_{priorusage}_j2tau32.png')"
   ]
  },
  {
   "cell_type": "code",
   "execution_count": null,
   "metadata": {},
   "outputs": [],
   "source": []
  },
  {
   "cell_type": "code",
   "execution_count": null,
   "metadata": {},
   "outputs": [],
   "source": [
    "from scipy.stats import percentileofscore"
   ]
  },
  {
   "cell_type": "code",
   "execution_count": null,
   "metadata": {},
   "outputs": [],
   "source": [
    "percentiles = [percentileofscore(BB1[:,2], i) for i in BB1[:,2]]"
   ]
  },
  {
   "cell_type": "code",
   "execution_count": null,
   "metadata": {},
   "outputs": [],
   "source": []
  },
  {
   "cell_type": "code",
   "execution_count": null,
   "metadata": {},
   "outputs": [],
   "source": [
    "plt.scatter(BB1[:,0],BB1_prob[:,1])\n",
    "plt.xscale('log')"
   ]
  },
  {
   "cell_type": "code",
   "execution_count": null,
   "metadata": {},
   "outputs": [],
   "source": [
    "def get_loss(X):\n",
    "    "
   ]
  }
 ],
 "metadata": {
  "kernelspec": {
   "display_name": "Python 3",
   "language": "python",
   "name": "python3"
  },
  "language_info": {
   "codemirror_mode": {
    "name": "ipython",
    "version": 3
   },
   "file_extension": ".py",
   "mimetype": "text/x-python",
   "name": "python",
   "nbconvert_exporter": "python",
   "pygments_lexer": "ipython3",
   "version": "3.6.7"
  }
 },
 "nbformat": 4,
 "nbformat_minor": 4
}
