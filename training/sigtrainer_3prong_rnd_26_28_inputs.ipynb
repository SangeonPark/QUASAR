{
 "cells": [
  {
   "cell_type": "markdown",
   "metadata": {},
   "source": [
    "# Signal Autoencoder"
   ]
  },
  {
   "cell_type": "code",
   "execution_count": 1,
   "metadata": {},
   "outputs": [],
   "source": [
    "import numpy as np\n",
    "import scipy as sp\n",
    "import scipy.stats\n",
    "import itertools\n",
    "import logging\n",
    "import matplotlib.pyplot as plt\n",
    "import pandas as pd\n",
    "import torch.utils.data as utils\n",
    "import math\n",
    "import time\n",
    "import tqdm\n",
    "\n",
    "import torch\n",
    "import torch.optim as optim\n",
    "import torch.nn.functional as F\n",
    "from argparse import ArgumentParser\n",
    "from torch.distributions import MultivariateNormal\n",
    "\n",
    "import torch.nn as nn\n",
    "import torch.nn.init as init\n",
    "import sys\n",
    "sys.path.append(\"../new_flows\")\n",
    "from flows import RealNVP, Planar, MAF\n",
    "from models import NormalizingFlowModel"
   ]
  },
  {
   "cell_type": "code",
   "execution_count": 2,
   "metadata": {},
   "outputs": [],
   "source": [
    "####MAF \n",
    "class VAE_NF(nn.Module):\n",
    "    def __init__(self, K, D):\n",
    "        super().__init__()\n",
    "        self.dim = D\n",
    "        self.K = K\n",
    "        self.encoder = nn.Sequential(\n",
    "            nn.Linear(12, 50),\n",
    "            nn.LeakyReLU(True),\n",
    "            nn.Linear(50, 30),\n",
    "            nn.LeakyReLU(True),\n",
    "            nn.Linear(30, 20),\n",
    "            nn.LeakyReLU(True),\n",
    "            nn.Linear(20, D * 2)\n",
    "        )\n",
    "\n",
    "        self.decoder = nn.Sequential(\n",
    "            nn.Linear(D, 20),\n",
    "            nn.LeakyReLU(True),\n",
    "            nn.Linear(20, 30),\n",
    "            nn.LeakyReLU(True),\n",
    "            nn.Linear(30, 50),\n",
    "            nn.LeakyReLU(True),\n",
    "            nn.Linear(50, 12)\n",
    "        )\n",
    "        \n",
    "        flow_init = MAF(dim=D)\n",
    "        flows_init = [flow_init for _ in range(K)]\n",
    "        prior = MultivariateNormal(torch.zeros(D).cuda(), torch.eye(D).cuda())\n",
    "        self.flows = NormalizingFlowModel(prior, flows_init)\n",
    "\n",
    "    def forward(self, x):\n",
    "        # Run Encoder and get NF params\n",
    "        enc = self.encoder(x)\n",
    "        mu = enc[:, :self.dim]\n",
    "        log_var = enc[:, self.dim: self.dim * 2]\n",
    "\n",
    "        # Re-parametrize\n",
    "        sigma = (log_var * .5).exp()\n",
    "        z = mu + sigma * torch.randn_like(sigma)\n",
    "        kl_div = -0.5 * torch.sum(1 + log_var - mu.pow(2) - log_var.exp())\n",
    "        # Construct more expressive posterior with NF\n",
    "        \n",
    "        z_k, _, sum_ladj = self.flows(z)\n",
    "        \n",
    "        kl_div = kl_div / x.size(0) - sum_ladj.mean()  # mean over batch\n",
    "\n",
    "        # Run Decoder\n",
    "        x_prime = self.decoder(z_k)\n",
    "        return x_prime, kl_div"
   ]
  },
  {
   "cell_type": "code",
   "execution_count": 3,
   "metadata": {},
   "outputs": [],
   "source": [
    "#prong_2 = pd.read_hdf(\"/data/t3home000/spark/QUASAR/preprocessing/conventional_tau_rnd.h5\")\n",
    "#prong_3 = pd.read_hdf(\"/data/t3home000/spark/QUASAR/preprocessing/conventional_tau_3prong_rnd.h5\")"
   ]
  },
  {
   "cell_type": "code",
   "execution_count": 4,
   "metadata": {},
   "outputs": [],
   "source": [
    "rnd_data = pd.read_hdf(\"/data/t3home000/spark/QUASAR/preprocessing/conventional_tau_rnd.h5\")\n",
    "\n",
    "testprior_data = pd.read_hdf(\"/data/t3home000/spark/QUASAR/preprocessing/ThreeProng_5000_500_500.h5\")"
   ]
  },
  {
   "cell_type": "code",
   "execution_count": 16,
   "metadata": {},
   "outputs": [],
   "source": [
    "dt = rnd_data.values\n",
    "dt_prior = testprior_data.values\n",
    "\n",
    "correct = (dt[:,3]>0) &(dt[:,19]>0) & (dt[:,1]>0) & (dt[:,2]>0)\n",
    "dt = dt[correct]\n",
    "\n",
    "correct = (dt_prior[:,3]>0) &(dt_prior[:,19]>0) & (dt_prior[:,1]>0) & (dt_prior[:,2]>0)\n",
    "dt_prior = dt_prior[correct]\n",
    "\n",
    "for i in range(13,19):\n",
    "    dt[:,i] = dt[:,i]/dt[:,3]\n",
    "\n",
    "for i in range(29,35):\n",
    "    dt[:,i] = dt[:,i]/(dt[:,19])\n",
    "\n",
    "for i in range(13,19):\n",
    "    dt_prior[:,i] = dt_prior[:,i]/dt_prior[:,3]\n",
    "\n",
    "for i in range(29,35):\n",
    "    dt_prior[:,i] = dt_prior[:,i]/(dt_prior[:,19])\n",
    "#correct = (dt[:,16]>0) & (dt[:,29]>=0) & (dt[:,29]<=1)&(dt[:,30]>=0) &(dt[:,30]<=1)&(dt[:,31]>=0) &(dt[:,31]<=1)&(dt[:,32]>=0) &(dt[:,32]<=1)&(dt[:,33]>=0) &(dt[:,33]<=1)&(dt[:,34]>=-0.01) &(dt[:,34]<=1)\n",
    "#dt = dt[correct]\n",
    "\n",
    "\n",
    "#Y = dt[:,[3,4,5,6,11,12,19,20,21,22,27,28]]\n",
    "#Y = dt[:,[4,5,6,7,8,11,12,13,14,15,16,17,18,20,21,22,23,24,27,28,29,30,31,32,33,34]] # When no jet 1,2 raw mass included\n",
    "#Y = dt[:,[3,4,5,6,11,12,13,14,15,16,17,18,19,20,21,22,27,28,29,30,31,32,33,34]]\n",
    "#bkg_idx = np.where(idx==0)[0]\n",
    "##signal_idx = np.where((idx==1)) [0]\n",
    "#dt = dt[signal_idx]\n",
    "correct = (dt[:,0]>=2800)\n",
    "dt = dt[correct]   \n",
    "\n",
    "correct = (dt_prior[:,0]>=2800)\n",
    "dt_prior = dt_prior[correct] \n",
    "\n",
    "idx = dt[:,-1]\n",
    "\n",
    "#sig_idx = np.where((dt_prior[:,3]>450) & (dt_prior[:,3]<550) & (dt_prior[:,19]>100) & (dt_prior[:,19]<200) & (dt_prior[:,0]>4200) & (dt_prior[:,0]<4800))[0]\n",
    "sig_idx = np.where((dt_prior[:,3]>200)  & (dt_prior[:,19]>200) & (dt_prior[:,0]>4000) & (dt_prior[:,0]<6000))[0]\n",
    "\n",
    "bkg_idx = np.where(idx==0)[0]\n",
    "#bsmlike = np.where(dt[:,16]>0.9)[0]\n",
    "#dt = dt[bsmlike]\n",
    "\n",
    "dt_sig = dt_prior[sig_idx]\n",
    "dt_bkg = dt[bkg_idx]\n"
   ]
  },
  {
   "cell_type": "code",
   "execution_count": 17,
   "metadata": {},
   "outputs": [],
   "source": [
    "#dt = prong_2.values\n",
    "#correct = (dt[:,3]>0) &(dt[:,19]>0) & (dt[:,1]>0) & (dt[:,2]>0)\n",
    "#dt = dt[correct]#\n",
    "\n",
    "#for i in range(13,19):\n",
    "#    dt[:,i] = dt[:,i]/dt[:,3]#\n",
    "\n",
    "#for i in range(29,35):\n",
    "#    dt[:,i] = dt[:,i]/(dt[:,19])#\n",
    "\n",
    "##correct = (dt[:,16]>0) & (dt[:,29]>=0) &(dt[:,29]<=1)&(dt[:,30]>=0) &(dt[:,30]<=1)&(dt[:,31]>=0) &(dt[:,31]<=1)&(dt[:,32]>=0) &(dt[:,32]<=1)&(dt[:,33]>=0) &(dt[:,33]<=1)&(dt[:,34]>=-0.01) &(dt[:,34]<=1)\n",
    "##dt = dt[correct]#\n",
    "#\n",
    "\n",
    "##Y = dt[:,[3,4,5,6,11,12,19,20,21,22,27,28]]\n",
    "##Y = dt[:,[4,5,6,7,8,11,12,13,14,15,16,17,18,20,21,22,23,24,27,28,29,30,31,32,33,34]] # When no jet 1,2 raw mass included\n",
    "##Y = dt[:,[3,4,5,6,11,12,13,14,15,16,17,18,19,20,21,22,27,28,29,30,31,32,33,34]]\n",
    "#idx = dt[:,-1]\n",
    "#bkg_idx = np.where(idx==0)[0]\n",
    "#sig_idx = np.where((idx==1) & (dt[:,3]>450) & (dt[:,3]<550) & (dt[:,19]>50) & (dt[:,19]<150))[0]\n",
    "##signal_idx = np.where((idx==1)) [0]\n",
    "#dt_sig = dt[sig_idx]\n",
    "#    \n",
    "#sig_refine_range = (dt_sig[:,0]>3400) & (dt_sig[:,0]<3600)\n",
    "#dt_sig = dt_sig[sig_refine_range]"
   ]
  },
  {
   "cell_type": "code",
   "execution_count": 18,
   "metadata": {},
   "outputs": [
    {
     "data": {
      "text/plain": [
       "(43350, 35)"
      ]
     },
     "execution_count": 18,
     "metadata": {},
     "output_type": "execute_result"
    }
   ],
   "source": [
    "dt_sig.shape"
   ]
  },
  {
   "cell_type": "code",
   "execution_count": 19,
   "metadata": {},
   "outputs": [
    {
     "data": {
      "image/png": "[encoded data removed]",
      "text/plain": [
       "<Figure size 432x288 with 1 Axes>"
      ]
     },
     "metadata": {
      "needs_background": "light"
     },
     "output_type": "display_data"
    }
   ],
   "source": [
    "plt.hist(dt_sig[:,0],bins=np.arange(0,8000,50));"
   ]
  },
  {
   "cell_type": "code",
   "execution_count": 20,
   "metadata": {},
   "outputs": [
    {
     "ename": "NameError",
     "evalue": "name 'f' is not defined",
     "output_type": "error",
     "traceback": [
      "\u001b[0;31m---------------------------------------------------------------------------\u001b[0m",
      "\u001b[0;31mNameError\u001b[0m                                 Traceback (most recent call last)",
      "\u001b[0;32m<ipython-input-20-26e0e7336690>\u001b[0m in \u001b[0;36m<module>\u001b[0;34m\u001b[0m\n\u001b[0;32m----> 1\u001b[0;31m \u001b[0mf\u001b[0m\u001b[0;34m.\u001b[0m\u001b[0mcolumns\u001b[0m\u001b[0;34m[\u001b[0m\u001b[0;34m[\u001b[0m\u001b[0;36m3\u001b[0m\u001b[0;34m,\u001b[0m\u001b[0;36m4\u001b[0m\u001b[0;34m,\u001b[0m\u001b[0;36m5\u001b[0m\u001b[0;34m,\u001b[0m\u001b[0;36m6\u001b[0m\u001b[0;34m,\u001b[0m\u001b[0;36m11\u001b[0m\u001b[0;34m,\u001b[0m\u001b[0;36m12\u001b[0m\u001b[0;34m,\u001b[0m\u001b[0;36m19\u001b[0m\u001b[0;34m,\u001b[0m\u001b[0;36m20\u001b[0m\u001b[0;34m,\u001b[0m\u001b[0;36m21\u001b[0m\u001b[0;34m,\u001b[0m\u001b[0;36m22\u001b[0m\u001b[0;34m,\u001b[0m\u001b[0;36m27\u001b[0m\u001b[0;34m,\u001b[0m\u001b[0;36m28\u001b[0m\u001b[0;34m]\u001b[0m\u001b[0;34m]\u001b[0m\u001b[0;34m\u001b[0m\u001b[0;34m\u001b[0m\u001b[0m\n\u001b[0m",
      "\u001b[0;31mNameError\u001b[0m: name 'f' is not defined"
     ]
    }
   ],
   "source": [
    "f.columns[[3,4,5,6,11,12,19,20,21,22,27,28]]"
   ]
  },
  {
   "cell_type": "code",
   "execution_count": 21,
   "metadata": {},
   "outputs": [],
   "source": [
    "#Y = dt_sig[:,[4,5,6,7,8,11,12,13,14,15,16,17,18,20,21,22,23,24,27,28,29,30,31,32,33,34]]\n",
    "#[3,4,5,6,11,12,19,20,21,22,27,28]\n",
    "Y = dt_sig[:,[3,4,5,6,11,12,19,20,21,22,27,28]]"
   ]
  },
  {
   "cell_type": "code",
   "execution_count": 22,
   "metadata": {},
   "outputs": [
    {
     "data": {
      "text/plain": [
       "(43350, 12)"
      ]
     },
     "execution_count": 22,
     "metadata": {},
     "output_type": "execute_result"
    }
   ],
   "source": [
    "Y.shape"
   ]
  },
  {
   "cell_type": "code",
   "execution_count": 23,
   "metadata": {},
   "outputs": [],
   "source": [
    "#if nprong == 3:\n",
    "#    dt = prong_3.values\n",
    "#    correct = (dt[:,3]>20) &(dt[:,19]>20)\n",
    "#    dt = dt[correct]\n",
    "#    for i in range(13,19):\n",
    "#        dt[:,i] = dt[:,i]/dt[:,3]\n",
    "    \n",
    "#    for i in range(29,35):\n",
    "#        dt[:,i] = dt[:,i]/(dt[:,19])\n",
    "        \n",
    "#    correct = (dt[:,29]>=0) &(dt[:,29]<=1)&(dt[:,30]>=0) &(dt[:,30]<=1)&(dt[:,31]>=0) &(dt[:,31]<=1)&(dt[:,32]>=0) &(dt[:,32]<=1)&(dt[:,33]>=0) &(dt[:,33]<=1)&(dt[:,34]>=-0.01) &(dt[:,34]<=1)\n",
    "#    dt = dt[correct]        \n",
    "        \n",
    "#    Y = dt[:,[4,5,6,7,8,11,12,13,14,15,16,17,18,20,21,22,23,24,27,28,29,30,31,32,33,34]]\n",
    "#    #Y = dt[:,[3,4,5,6,11,12,19,20,21,22,27,28]]\n",
    "#    idx = dt[:,-1]\n",
    "#    bkg_idx = np.where(idx==0)[0]\n",
    "#    signal_idx = np.where((idx==1) & (dt[:,3]>400))[0]\n",
    "#    #signal_idx = np.where((idx==1)) [0]\n",
    "#    Y = Y[signal_idx]"
   ]
  },
  {
   "cell_type": "code",
   "execution_count": 24,
   "metadata": {},
   "outputs": [
    {
     "data": {
      "image/png": "[encoded data removed]",
      "text/plain": [
       "<Figure size 432x288 with 1 Axes>"
      ]
     },
     "metadata": {
      "needs_background": "light"
     },
     "output_type": "display_data"
    }
   ],
   "source": [
    "bins = np.linspace(0,1,100)\n",
    "bins.shape\n",
    "column = 3\n",
    "#print(f_rnd.columns[column])\n",
    "plt.hist(Y[:,0],bins,alpha=0.5,color='b');\n",
    "#plt.hist(sigout[:,column],bins,alpha=0.5,color='r');\n",
    "#plt.hist(out2[:,column],bins,alpha=0.5,color='g');\n",
    "#plt.axvline(np.mean(Y[:,column]))"
   ]
  },
  {
   "cell_type": "code",
   "execution_count": 25,
   "metadata": {},
   "outputs": [
    {
     "data": {
      "text/plain": [
       "(43350, 12)"
      ]
     },
     "execution_count": 25,
     "metadata": {},
     "output_type": "execute_result"
    }
   ],
   "source": [
    "Y.shape"
   ]
  },
  {
   "cell_type": "code",
   "execution_count": 26,
   "metadata": {},
   "outputs": [],
   "source": [
    "sig_mean = []\n",
    "sig_std = []\n",
    "for i in range(12):\n",
    "    mean = np.mean(Y[:,i])\n",
    "    std = np.std(Y[:,i])\n",
    "    sig_mean.append(mean)\n",
    "    sig_std.append(std)\n",
    "    Y[:,i] = (Y[:,i]-mean)/std"
   ]
  },
  {
   "cell_type": "code",
   "execution_count": 27,
   "metadata": {},
   "outputs": [
    {
     "data": {
      "text/plain": [
       "[539.8230906175115,\n",
       " 0.3093919504152834,\n",
       " 0.5743852002513076,\n",
       " 0.7250999951321894,\n",
       " 1.3980643297136106,\n",
       " 305.10717416378316,\n",
       " 417.50598164552935,\n",
       " 0.3423973996112709,\n",
       " 0.5859205785605542,\n",
       " 0.7492831266044925,\n",
       " 1.6350968023267969,\n",
       " 261.31617070357555]"
      ]
     },
     "execution_count": 27,
     "metadata": {},
     "output_type": "execute_result"
    }
   ],
   "source": [
    "sig_mean"
   ]
  },
  {
   "cell_type": "code",
   "execution_count": 28,
   "metadata": {},
   "outputs": [
    {
     "data": {
      "text/plain": [
       "[104.54956422929888,\n",
       " 0.12679648500311186,\n",
       " 0.13543619747203547,\n",
       " 0.11808533829680096,\n",
       " 0.34103400809131684,\n",
       " 100.12586819876644,\n",
       " 88.97967256083908,\n",
       " 0.1495063860755517,\n",
       " 0.14289850921322486,\n",
       " 0.11224475793826029,\n",
       " 0.5509216479879365,\n",
       " 82.84269505360622]"
      ]
     },
     "execution_count": 28,
     "metadata": {},
     "output_type": "execute_result"
    }
   ],
   "source": [
    "sig_std"
   ]
  },
  {
   "cell_type": "code",
   "execution_count": 18,
   "metadata": {},
   "outputs": [],
   "source": [
    "total_sig = torch.tensor(Y)"
   ]
  },
  {
   "cell_type": "code",
   "execution_count": 19,
   "metadata": {},
   "outputs": [
    {
     "data": {
      "text/plain": [
       "torch.Size([28514, 12])"
      ]
     },
     "execution_count": 19,
     "metadata": {},
     "output_type": "execute_result"
    }
   ],
   "source": [
    "total_sig.shape"
   ]
  },
  {
   "cell_type": "code",
   "execution_count": 20,
   "metadata": {},
   "outputs": [
    {
     "data": {
      "image/png": "[encoded data removed]",
      "text/plain": [
       "<Figure size 432x288 with 1 Axes>"
      ]
     },
     "metadata": {
      "needs_background": "light"
     },
     "output_type": "display_data"
    }
   ],
   "source": [
    "bins = np.linspace(-3,3,100)\n",
    "bins.shape\n",
    "column = 0\n",
    "#print(f_rnd.columns[column])\n",
    "plt.hist(Y[:,11],bins,alpha=0.5,color='b');\n",
    "#plt.hist(sigout[:,column],bins,alpha=0.5,color='r');\n",
    "#plt.hist(out2[:,column],bins,alpha=0.5,color='g');\n",
    "#plt.axvline(np.mean(Y[:,column]))"
   ]
  },
  {
   "cell_type": "code",
   "execution_count": 21,
   "metadata": {},
   "outputs": [],
   "source": [
    "N_EPOCHS = 30\n",
    "PRINT_INTERVAL = 2000\n",
    "NUM_WORKERS = 4\n",
    "LR = 1e-4\n",
    "\n",
    "#N_FLOWS = 6 \n",
    "#Z_DIM = 8\n",
    "\n",
    "N_FLOWS = 10\n",
    "Z_DIM = 8\n",
    "\n",
    "n_steps = 0"
   ]
  },
  {
   "cell_type": "code",
   "execution_count": 22,
   "metadata": {},
   "outputs": [],
   "source": [
    "sigmodel = VAE_NF(N_FLOWS, Z_DIM).cuda()"
   ]
  },
  {
   "cell_type": "code",
   "execution_count": 23,
   "metadata": {},
   "outputs": [],
   "source": [
    "bs = 800\n",
    "sig_train_iterator = utils.DataLoader(total_sig, batch_size=bs, shuffle=True) \n",
    "sig_test_iterator = utils.DataLoader(total_sig, batch_size=bs)"
   ]
  },
  {
   "cell_type": "code",
   "execution_count": 44,
   "metadata": {},
   "outputs": [],
   "source": [
    "sigoptimizer = optim.Adam(sigmodel.parameters(), lr=1e-6)"
   ]
  },
  {
   "cell_type": "code",
   "execution_count": 45,
   "metadata": {},
   "outputs": [],
   "source": [
    "beta = 1"
   ]
  },
  {
   "cell_type": "code",
   "execution_count": 46,
   "metadata": {},
   "outputs": [],
   "source": [
    "def sigtrain():\n",
    "    global n_steps\n",
    "    train_loss = []\n",
    "    sigmodel.train()\n",
    "\n",
    "    for batch_idx, x in enumerate(sig_train_iterator):\n",
    "        start_time = time.time()\n",
    "        \n",
    "        x = x.float().cuda()\n",
    "\n",
    "        x_tilde, kl_div = sigmodel(x)\n",
    "        mseloss = nn.MSELoss(size_average=False)\n",
    "        huberloss = nn.SmoothL1Loss(size_average=False)\n",
    "        #loss_recons = F.binary_cross_entropy(x_tilde, x, size_average=False) / x.size(0)\n",
    "        loss_recons = mseloss(x_tilde,x ) / x.size(0)\n",
    "        #loss_recons = huberloss(x_tilde,x ) / x.size(0)\n",
    "        loss = loss_recons + beta* kl_div\n",
    "\n",
    "        sigoptimizer.zero_grad()\n",
    "        loss.backward()\n",
    "        sigoptimizer.step()\n",
    "\n",
    "        train_loss.append([loss_recons.item(), kl_div.item()])\n",
    "\n",
    "        if (batch_idx + 1) % PRINT_INTERVAL == 0:\n",
    "            print('\\tIter [{}/{} ({:.0f}%)]\\tLoss: {} Time: {:5.3f} ms/batch'.format(\n",
    "                batch_idx * len(x), 50000,\n",
    "                PRINT_INTERVAL * batch_idx / 50000,\n",
    "                np.asarray(train_loss)[-PRINT_INTERVAL:].mean(0),\n",
    "                1000 * (time.time() - start_time)\n",
    "            ))\n",
    "\n",
    "        n_steps += 1"
   ]
  },
  {
   "cell_type": "code",
   "execution_count": 47,
   "metadata": {},
   "outputs": [],
   "source": [
    "def sigevaluate(split='valid'):\n",
    "    global n_steps\n",
    "    start_time = time.time()\n",
    "    val_loss = []\n",
    "    sigmodel.eval()\n",
    "\n",
    "    with torch.no_grad():\n",
    "        for batch_idx, x in enumerate(sig_test_iterator):\n",
    "            \n",
    "            x = x.float().cuda()\n",
    "\n",
    "            x_tilde, kl_div = sigmodel(x)\n",
    "            mseloss = nn.MSELoss(size_average=False)\n",
    "            huberloss = nn.SmoothL1Loss(size_average=False)\n",
    "            #loss_recons = F.binary_cross_entropy(x_tilde, x, size_average=False) / x.size(0)\n",
    "            loss_recons = mseloss(x_tilde,x ) / x.size(0)\n",
    "            #loss_recons = huberloss(x_tilde,x ) / x.size(0)\n",
    "            loss = loss_recons + beta * kl_div\n",
    "\n",
    "            val_loss.append(loss.item())\n",
    "            #writer.add_scalar('loss/{}/ELBO'.format(split), loss.item(), n_steps)\n",
    "            #writer.add_scalar('loss/{}/reconstruction'.format(split), loss_recons.item(), n_steps)\n",
    "            #writer.add_scalar('loss/{}/KL'.format(split), kl_div.item(), n_steps)\n",
    "\n",
    "    print('\\nEvaluation Completed ({})!\\tLoss: {:5.4f} Time: {:5.3f} s'.format(\n",
    "        split,\n",
    "        np.asarray(val_loss).mean(0),\n",
    "        time.time() - start_time\n",
    "    ))\n",
    "    return np.asarray(val_loss).mean(0)"
   ]
  },
  {
   "cell_type": "code",
   "execution_count": 48,
   "metadata": {},
   "outputs": [],
   "source": [
    "ae_def = {\n",
    "    \"type\":\"sig\",\n",
    "    \"trainon\":\"3prong\",\n",
    "    \"features\":\"12features\",\n",
    "    \"architecture\":\"MAF\",\n",
    "    \"selection\":\"mjj4500_nojetmasscut\",\n",
    "    \"trainloss\":\"MSELoss\",\n",
    "    \"beta\":\"beta1\",\n",
    "    \"zdimnflow\":\"z8f10\",\n",
    "}"
   ]
  },
  {
   "cell_type": "code",
   "execution_count": 49,
   "metadata": {},
   "outputs": [
    {
     "data": {
      "text/plain": [
       "{'type': 'sig',\n",
       " 'trainon': '3prong',\n",
       " 'features': '12features',\n",
       " 'architecture': 'MAF',\n",
       " 'selection': 'mjj4500_nojetmasscut',\n",
       " 'trainloss': 'MSELoss',\n",
       " 'beta': 'beta1',\n",
       " 'zdimnflow': 'z8f10'}"
      ]
     },
     "execution_count": 49,
     "metadata": {},
     "output_type": "execute_result"
    }
   ],
   "source": [
    "ae_def"
   ]
  },
  {
   "cell_type": "code",
   "execution_count": 50,
   "metadata": {},
   "outputs": [],
   "source": [
    "#from torchsummary import summary\n"
   ]
  },
  {
   "cell_type": "code",
   "execution_count": 51,
   "metadata": {},
   "outputs": [
    {
     "data": {
      "text/plain": [
       "<All keys matched successfully>"
      ]
     },
     "execution_count": 51,
     "metadata": {},
     "output_type": "execute_result"
    }
   ],
   "source": [
    "sigmodel.load_state_dict(torch.load(f\"/data/t3home000/spark/QUASAR/weights/{ae_def['type']}_{ae_def['trainon']}_{ae_def['features']}_{ae_def['architecture']}_{ae_def['selection']}_{ae_def['trainloss']}_{ae_def['beta']}_{ae_def['zdimnflow']}.h5\"))"
   ]
  },
  {
   "cell_type": "code",
   "execution_count": 52,
   "metadata": {},
   "outputs": [
    {
     "name": "stdout",
     "output_type": "stream",
     "text": [
      "Epoch 1:\n",
      "\n",
      "Evaluation Completed (valid)!\tLoss: -83.6661 Time: 0.526 s\n",
      "Saving model!\n",
      "Epoch 2:\n",
      "\n",
      "Evaluation Completed (valid)!\tLoss: -83.6874 Time: 0.523 s\n",
      "Saving model!\n",
      "Epoch 3:\n",
      "\n",
      "Evaluation Completed (valid)!\tLoss: -83.7292 Time: 0.522 s\n",
      "Saving model!\n",
      "Epoch 4:\n",
      "\n",
      "Evaluation Completed (valid)!\tLoss: -83.6624 Time: 0.524 s\n",
      "Not saving model! Last saved: 3\n",
      "Epoch 5:\n",
      "\n",
      "Evaluation Completed (valid)!\tLoss: -83.7086 Time: 0.524 s\n",
      "Not saving model! Last saved: 3\n",
      "Epoch 6:\n",
      "\n",
      "Evaluation Completed (valid)!\tLoss: -83.7434 Time: 0.523 s\n",
      "Saving model!\n",
      "Epoch 7:\n",
      "\n",
      "Evaluation Completed (valid)!\tLoss: -83.8253 Time: 0.523 s\n",
      "Saving model!\n",
      "Epoch 8:\n",
      "\n",
      "Evaluation Completed (valid)!\tLoss: -83.8497 Time: 0.528 s\n",
      "Saving model!\n",
      "Epoch 9:\n",
      "\n",
      "Evaluation Completed (valid)!\tLoss: -83.8737 Time: 0.525 s\n",
      "Saving model!\n",
      "Epoch 10:\n",
      "\n",
      "Evaluation Completed (valid)!\tLoss: -83.9343 Time: 0.524 s\n",
      "Saving model!\n",
      "Epoch 11:\n",
      "\n",
      "Evaluation Completed (valid)!\tLoss: -83.8383 Time: 0.524 s\n",
      "Not saving model! Last saved: 10\n",
      "Epoch 12:\n",
      "\n",
      "Evaluation Completed (valid)!\tLoss: -83.9355 Time: 0.523 s\n",
      "Saving model!\n",
      "Epoch 13:\n",
      "\n",
      "Evaluation Completed (valid)!\tLoss: -84.0091 Time: 0.525 s\n",
      "Saving model!\n",
      "Epoch 14:\n",
      "\n",
      "Evaluation Completed (valid)!\tLoss: -84.0233 Time: 0.524 s\n",
      "Saving model!\n",
      "Epoch 15:\n",
      "\n",
      "Evaluation Completed (valid)!\tLoss: -84.0788 Time: 0.548 s\n",
      "Saving model!\n",
      "Epoch 16:\n",
      "\n",
      "Evaluation Completed (valid)!\tLoss: -84.0712 Time: 0.522 s\n",
      "Not saving model! Last saved: 15\n",
      "Epoch 17:\n",
      "\n",
      "Evaluation Completed (valid)!\tLoss: -84.1013 Time: 0.525 s\n",
      "Saving model!\n",
      "Epoch 18:\n",
      "\n",
      "Evaluation Completed (valid)!\tLoss: -84.0499 Time: 0.522 s\n",
      "Not saving model! Last saved: 17\n",
      "Epoch 19:\n",
      "\n",
      "Evaluation Completed (valid)!\tLoss: -84.1685 Time: 0.524 s\n",
      "Saving model!\n",
      "Epoch 20:\n",
      "\n",
      "Evaluation Completed (valid)!\tLoss: -84.1143 Time: 0.523 s\n",
      "Not saving model! Last saved: 19\n",
      "Epoch 21:\n",
      "\n",
      "Evaluation Completed (valid)!\tLoss: -84.1831 Time: 0.523 s\n",
      "Saving model!\n",
      "Epoch 22:\n",
      "\n",
      "Evaluation Completed (valid)!\tLoss: -84.1948 Time: 0.524 s\n",
      "Saving model!\n",
      "Epoch 23:\n",
      "\n",
      "Evaluation Completed (valid)!\tLoss: -84.3285 Time: 0.523 s\n",
      "Saving model!\n",
      "Epoch 24:\n",
      "\n",
      "Evaluation Completed (valid)!\tLoss: -84.2939 Time: 0.549 s\n",
      "Not saving model! Last saved: 23\n",
      "Epoch 25:\n",
      "\n",
      "Evaluation Completed (valid)!\tLoss: -84.2259 Time: 0.525 s\n",
      "Not saving model! Last saved: 23\n",
      "Epoch 26:\n",
      "\n",
      "Evaluation Completed (valid)!\tLoss: -84.3255 Time: 0.525 s\n",
      "Not saving model! Last saved: 23\n",
      "Epoch 27:\n",
      "\n",
      "Evaluation Completed (valid)!\tLoss: -84.3075 Time: 0.526 s\n",
      "Not saving model! Last saved: 23\n",
      "Epoch 28:\n",
      "\n",
      "Evaluation Completed (valid)!\tLoss: -84.2432 Time: 0.523 s\n",
      "Not saving model! Last saved: 23\n",
      "Epoch 29:\n",
      "\n",
      "Evaluation Completed (valid)!\tLoss: -84.3690 Time: 0.524 s\n",
      "Saving model!\n",
      "Epoch 30:\n",
      "\n",
      "Evaluation Completed (valid)!\tLoss: -84.3957 Time: 0.524 s\n",
      "Saving model!\n",
      "Epoch 31:\n",
      "\n",
      "Evaluation Completed (valid)!\tLoss: -84.4141 Time: 0.525 s\n",
      "Saving model!\n",
      "Epoch 32:\n",
      "\n",
      "Evaluation Completed (valid)!\tLoss: -84.2884 Time: 0.523 s\n",
      "Not saving model! Last saved: 31\n",
      "Epoch 33:\n",
      "\n",
      "Evaluation Completed (valid)!\tLoss: -84.4528 Time: 0.524 s\n",
      "Saving model!\n",
      "Epoch 34:\n",
      "\n",
      "Evaluation Completed (valid)!\tLoss: -84.4351 Time: 0.525 s\n",
      "Not saving model! Last saved: 33\n",
      "Epoch 35:\n",
      "\n",
      "Evaluation Completed (valid)!\tLoss: -84.4174 Time: 0.525 s\n",
      "Not saving model! Last saved: 33\n",
      "Epoch 36:\n",
      "\n",
      "Evaluation Completed (valid)!\tLoss: -84.4811 Time: 0.523 s\n",
      "Saving model!\n",
      "Epoch 37:\n",
      "\n",
      "Evaluation Completed (valid)!\tLoss: -84.3799 Time: 0.526 s\n",
      "Not saving model! Last saved: 36\n",
      "Epoch 38:\n",
      "\n",
      "Evaluation Completed (valid)!\tLoss: -84.4219 Time: 0.524 s\n",
      "Not saving model! Last saved: 36\n",
      "Epoch 39:\n",
      "\n",
      "Evaluation Completed (valid)!\tLoss: -84.4673 Time: 0.524 s\n",
      "Not saving model! Last saved: 36\n",
      "Epoch 40:\n",
      "\n",
      "Evaluation Completed (valid)!\tLoss: -84.4770 Time: 0.525 s\n",
      "Not saving model! Last saved: 36\n",
      "Epoch 41:\n",
      "\n",
      "Evaluation Completed (valid)!\tLoss: -84.5726 Time: 0.530 s\n",
      "Saving model!\n",
      "Epoch 42:\n",
      "\n",
      "Evaluation Completed (valid)!\tLoss: -84.6252 Time: 0.523 s\n",
      "Saving model!\n",
      "Epoch 43:\n",
      "\n",
      "Evaluation Completed (valid)!\tLoss: -84.5784 Time: 0.525 s\n",
      "Not saving model! Last saved: 42\n",
      "Epoch 44:\n",
      "\n",
      "Evaluation Completed (valid)!\tLoss: -84.5309 Time: 0.525 s\n",
      "Not saving model! Last saved: 42\n",
      "Epoch 45:\n",
      "\n",
      "Evaluation Completed (valid)!\tLoss: -84.6479 Time: 0.524 s\n",
      "Saving model!\n",
      "Epoch 46:\n",
      "\n",
      "Evaluation Completed (valid)!\tLoss: -84.6093 Time: 0.525 s\n",
      "Not saving model! Last saved: 45\n",
      "Epoch 47:\n",
      "\n",
      "Evaluation Completed (valid)!\tLoss: -84.6306 Time: 0.525 s\n",
      "Not saving model! Last saved: 45\n",
      "Epoch 48:\n",
      "\n",
      "Evaluation Completed (valid)!\tLoss: -84.5857 Time: 0.524 s\n",
      "Not saving model! Last saved: 45\n",
      "Epoch 49:\n",
      "\n",
      "Evaluation Completed (valid)!\tLoss: -84.6989 Time: 0.524 s\n",
      "Saving model!\n",
      "Epoch 50:\n",
      "\n",
      "Evaluation Completed (valid)!\tLoss: -84.6645 Time: 0.525 s\n",
      "Not saving model! Last saved: 49\n",
      "Epoch 51:\n",
      "\n",
      "Evaluation Completed (valid)!\tLoss: -84.6914 Time: 0.523 s\n",
      "Not saving model! Last saved: 49\n",
      "Epoch 52:\n",
      "\n",
      "Evaluation Completed (valid)!\tLoss: -84.7606 Time: 0.525 s\n",
      "Saving model!\n",
      "Epoch 53:\n",
      "\n",
      "Evaluation Completed (valid)!\tLoss: -84.7538 Time: 0.525 s\n",
      "Not saving model! Last saved: 52\n",
      "Epoch 54:\n",
      "\n",
      "Evaluation Completed (valid)!\tLoss: -84.6890 Time: 0.525 s\n",
      "Not saving model! Last saved: 52\n",
      "Epoch 55:\n",
      "\n",
      "Evaluation Completed (valid)!\tLoss: -84.8624 Time: 0.528 s\n",
      "Saving model!\n",
      "Epoch 56:\n",
      "\n",
      "Evaluation Completed (valid)!\tLoss: -84.8077 Time: 0.528 s\n",
      "Not saving model! Last saved: 55\n",
      "Epoch 57:\n",
      "\n",
      "Evaluation Completed (valid)!\tLoss: -84.8452 Time: 0.524 s\n",
      "Not saving model! Last saved: 55\n",
      "Epoch 58:\n",
      "\n",
      "Evaluation Completed (valid)!\tLoss: -84.8111 Time: 0.524 s\n",
      "Not saving model! Last saved: 55\n",
      "Epoch 59:\n",
      "\n",
      "Evaluation Completed (valid)!\tLoss: -84.8266 Time: 0.526 s\n",
      "Not saving model! Last saved: 55\n",
      "Epoch 60:\n",
      "\n",
      "Evaluation Completed (valid)!\tLoss: -84.8896 Time: 0.523 s\n",
      "Saving model!\n",
      "Epoch 61:\n",
      "\n",
      "Evaluation Completed (valid)!\tLoss: -84.8817 Time: 0.526 s\n",
      "Not saving model! Last saved: 60\n",
      "Epoch 62:\n",
      "\n",
      "Evaluation Completed (valid)!\tLoss: -84.9329 Time: 0.523 s\n",
      "Saving model!\n",
      "Epoch 63:\n",
      "\n",
      "Evaluation Completed (valid)!\tLoss: -84.9103 Time: 0.524 s\n",
      "Not saving model! Last saved: 62\n",
      "Epoch 64:\n",
      "\n",
      "Evaluation Completed (valid)!\tLoss: -84.9120 Time: 0.523 s\n",
      "Not saving model! Last saved: 62\n",
      "Epoch 65:\n",
      "\n",
      "Evaluation Completed (valid)!\tLoss: -84.9485 Time: 0.524 s\n",
      "Saving model!\n",
      "Epoch 66:\n",
      "\n",
      "Evaluation Completed (valid)!\tLoss: -84.9833 Time: 0.528 s\n",
      "Saving model!\n",
      "Epoch 67:\n",
      "\n",
      "Evaluation Completed (valid)!\tLoss: -84.9883 Time: 0.524 s\n",
      "Saving model!\n",
      "Epoch 68:\n",
      "\n",
      "Evaluation Completed (valid)!\tLoss: -85.0543 Time: 0.548 s\n",
      "Saving model!\n",
      "Epoch 69:\n",
      "\n",
      "Evaluation Completed (valid)!\tLoss: -85.0478 Time: 0.524 s\n",
      "Not saving model! Last saved: 68\n",
      "Epoch 70:\n",
      "\n",
      "Evaluation Completed (valid)!\tLoss: -85.0097 Time: 0.523 s\n",
      "Not saving model! Last saved: 68\n",
      "Epoch 71:\n",
      "\n",
      "Evaluation Completed (valid)!\tLoss: -85.0449 Time: 0.525 s\n",
      "Not saving model! Last saved: 68\n",
      "Epoch 72:\n",
      "\n",
      "Evaluation Completed (valid)!\tLoss: -85.0922 Time: 0.524 s\n",
      "Saving model!\n",
      "Epoch 73:\n",
      "\n",
      "Evaluation Completed (valid)!\tLoss: -85.1137 Time: 0.524 s\n",
      "Saving model!\n",
      "Epoch 74:\n",
      "\n",
      "Evaluation Completed (valid)!\tLoss: -85.0995 Time: 0.523 s\n",
      "Not saving model! Last saved: 73\n",
      "Epoch 75:\n",
      "\n",
      "Evaluation Completed (valid)!\tLoss: -85.2748 Time: 0.524 s\n",
      "Saving model!\n",
      "Epoch 76:\n",
      "\n",
      "Evaluation Completed (valid)!\tLoss: -85.1871 Time: 0.525 s\n",
      "Not saving model! Last saved: 75\n",
      "Epoch 77:\n",
      "\n",
      "Evaluation Completed (valid)!\tLoss: -85.1829 Time: 0.549 s\n",
      "Not saving model! Last saved: 75\n",
      "Epoch 78:\n",
      "\n",
      "Evaluation Completed (valid)!\tLoss: -85.1584 Time: 0.525 s\n",
      "Not saving model! Last saved: 75\n",
      "Epoch 79:\n",
      "\n",
      "Evaluation Completed (valid)!\tLoss: -85.2684 Time: 0.526 s\n",
      "Not saving model! Last saved: 75\n",
      "Epoch 80:\n",
      "\n",
      "Evaluation Completed (valid)!\tLoss: -85.2316 Time: 0.525 s\n",
      "Not saving model! Last saved: 75\n",
      "Epoch 81:\n",
      "\n",
      "Evaluation Completed (valid)!\tLoss: -85.2908 Time: 0.525 s\n",
      "Saving model!\n",
      "Epoch 82:\n",
      "\n",
      "Evaluation Completed (valid)!\tLoss: -85.4306 Time: 0.524 s\n",
      "Saving model!\n",
      "Epoch 83:\n",
      "\n",
      "Evaluation Completed (valid)!\tLoss: -85.3819 Time: 0.524 s\n",
      "Not saving model! Last saved: 82\n",
      "Epoch 84:\n",
      "\n",
      "Evaluation Completed (valid)!\tLoss: -85.2134 Time: 0.525 s\n",
      "Not saving model! Last saved: 82\n",
      "Epoch 85:\n",
      "\n",
      "Evaluation Completed (valid)!\tLoss: -85.4174 Time: 0.526 s\n",
      "Not saving model! Last saved: 82\n",
      "Epoch 86:\n",
      "\n",
      "Evaluation Completed (valid)!\tLoss: -85.4058 Time: 0.546 s\n",
      "Not saving model! Last saved: 82\n",
      "Epoch 87:\n",
      "\n",
      "Evaluation Completed (valid)!\tLoss: -85.3996 Time: 0.526 s\n",
      "Not saving model! Last saved: 82\n",
      "Epoch 88:\n"
     ]
    },
    {
     "name": "stdout",
     "output_type": "stream",
     "text": [
      "\n",
      "Evaluation Completed (valid)!\tLoss: -85.3498 Time: 0.523 s\n",
      "Not saving model! Last saved: 82\n",
      "Epoch 89:\n",
      "\n",
      "Evaluation Completed (valid)!\tLoss: -85.4864 Time: 0.525 s\n",
      "Saving model!\n",
      "Epoch 90:\n",
      "\n",
      "Evaluation Completed (valid)!\tLoss: -85.4514 Time: 0.524 s\n",
      "Not saving model! Last saved: 89\n",
      "Epoch 91:\n",
      "\n",
      "Evaluation Completed (valid)!\tLoss: -85.5077 Time: 0.525 s\n",
      "Saving model!\n",
      "Epoch 92:\n",
      "\n",
      "Evaluation Completed (valid)!\tLoss: -85.4752 Time: 0.525 s\n",
      "Not saving model! Last saved: 91\n",
      "Epoch 93:\n",
      "\n",
      "Evaluation Completed (valid)!\tLoss: -85.5942 Time: 0.526 s\n",
      "Saving model!\n",
      "Epoch 94:\n",
      "\n",
      "Evaluation Completed (valid)!\tLoss: -85.4771 Time: 0.524 s\n",
      "Not saving model! Last saved: 93\n",
      "Epoch 95:\n",
      "\n",
      "Evaluation Completed (valid)!\tLoss: -85.5161 Time: 0.548 s\n",
      "Not saving model! Last saved: 93\n",
      "Epoch 96:\n",
      "\n",
      "Evaluation Completed (valid)!\tLoss: -85.5920 Time: 0.526 s\n",
      "Not saving model! Last saved: 93\n",
      "Epoch 97:\n",
      "\n",
      "Evaluation Completed (valid)!\tLoss: -85.5576 Time: 0.526 s\n",
      "Not saving model! Last saved: 93\n",
      "Epoch 98:\n",
      "\n",
      "Evaluation Completed (valid)!\tLoss: -85.6535 Time: 0.527 s\n",
      "Saving model!\n",
      "Epoch 99:\n",
      "\n",
      "Evaluation Completed (valid)!\tLoss: -85.6825 Time: 0.524 s\n",
      "Saving model!\n",
      "Epoch 100:\n",
      "\n",
      "Evaluation Completed (valid)!\tLoss: -85.7165 Time: 0.525 s\n",
      "Saving model!\n",
      "Epoch 101:\n",
      "\n",
      "Evaluation Completed (valid)!\tLoss: -85.7196 Time: 0.526 s\n",
      "Saving model!\n",
      "Epoch 102:\n",
      "\n",
      "Evaluation Completed (valid)!\tLoss: -85.6472 Time: 0.526 s\n",
      "Not saving model! Last saved: 101\n",
      "Epoch 103:\n",
      "\n",
      "Evaluation Completed (valid)!\tLoss: -85.7380 Time: 0.526 s\n",
      "Saving model!\n",
      "Epoch 104:\n",
      "\n",
      "Evaluation Completed (valid)!\tLoss: -85.7538 Time: 0.549 s\n",
      "Saving model!\n",
      "Epoch 105:\n",
      "\n",
      "Evaluation Completed (valid)!\tLoss: -85.8189 Time: 0.524 s\n",
      "Saving model!\n",
      "Epoch 106:\n",
      "\n",
      "Evaluation Completed (valid)!\tLoss: -85.7750 Time: 0.525 s\n",
      "Not saving model! Last saved: 105\n",
      "Epoch 107:\n",
      "\n",
      "Evaluation Completed (valid)!\tLoss: -85.8150 Time: 0.523 s\n",
      "Not saving model! Last saved: 105\n",
      "Epoch 108:\n",
      "\n",
      "Evaluation Completed (valid)!\tLoss: -85.8653 Time: 0.532 s\n",
      "Saving model!\n",
      "Epoch 109:\n",
      "\n",
      "Evaluation Completed (valid)!\tLoss: -85.8435 Time: 0.526 s\n",
      "Not saving model! Last saved: 108\n",
      "Epoch 110:\n",
      "\n",
      "Evaluation Completed (valid)!\tLoss: -85.8302 Time: 0.525 s\n",
      "Not saving model! Last saved: 108\n",
      "Epoch 111:\n",
      "\n",
      "Evaluation Completed (valid)!\tLoss: -85.8885 Time: 0.525 s\n",
      "Saving model!\n",
      "Epoch 112:\n",
      "\n",
      "Evaluation Completed (valid)!\tLoss: -85.9278 Time: 0.527 s\n",
      "Saving model!\n",
      "Epoch 113:\n",
      "\n",
      "Evaluation Completed (valid)!\tLoss: -85.9023 Time: 0.525 s\n",
      "Not saving model! Last saved: 112\n",
      "Epoch 114:\n",
      "\n",
      "Evaluation Completed (valid)!\tLoss: -85.9554 Time: 0.525 s\n",
      "Saving model!\n",
      "Epoch 115:\n",
      "\n",
      "Evaluation Completed (valid)!\tLoss: -86.0322 Time: 0.524 s\n",
      "Saving model!\n",
      "Epoch 116:\n",
      "\n",
      "Evaluation Completed (valid)!\tLoss: -85.9007 Time: 0.525 s\n",
      "Not saving model! Last saved: 115\n",
      "Epoch 117:\n",
      "\n",
      "Evaluation Completed (valid)!\tLoss: -86.0106 Time: 0.525 s\n",
      "Not saving model! Last saved: 115\n",
      "Epoch 118:\n",
      "\n",
      "Evaluation Completed (valid)!\tLoss: -86.0168 Time: 0.524 s\n",
      "Not saving model! Last saved: 115\n",
      "Epoch 119:\n",
      "\n",
      "Evaluation Completed (valid)!\tLoss: -86.0112 Time: 0.526 s\n",
      "Not saving model! Last saved: 115\n",
      "Epoch 120:\n",
      "\n",
      "Evaluation Completed (valid)!\tLoss: -86.1719 Time: 0.528 s\n",
      "Saving model!\n",
      "Epoch 121:\n",
      "\n",
      "Evaluation Completed (valid)!\tLoss: -86.1672 Time: 0.528 s\n",
      "Not saving model! Last saved: 120\n",
      "Epoch 122:\n",
      "\n",
      "Evaluation Completed (valid)!\tLoss: -86.2141 Time: 0.526 s\n",
      "Saving model!\n",
      "Epoch 123:\n",
      "\n",
      "Evaluation Completed (valid)!\tLoss: -86.1688 Time: 0.525 s\n",
      "Not saving model! Last saved: 122\n",
      "Epoch 124:\n",
      "\n",
      "Evaluation Completed (valid)!\tLoss: -86.1982 Time: 0.528 s\n",
      "Not saving model! Last saved: 122\n",
      "Epoch 125:\n",
      "\n",
      "Evaluation Completed (valid)!\tLoss: -86.0219 Time: 0.527 s\n",
      "Not saving model! Last saved: 122\n",
      "Epoch 126:\n",
      "\n",
      "Evaluation Completed (valid)!\tLoss: -86.2061 Time: 0.525 s\n",
      "Not saving model! Last saved: 122\n",
      "Epoch 127:\n",
      "\n",
      "Evaluation Completed (valid)!\tLoss: -86.2322 Time: 0.527 s\n",
      "Saving model!\n",
      "Epoch 128:\n",
      "\n",
      "Evaluation Completed (valid)!\tLoss: -86.1236 Time: 0.525 s\n",
      "Not saving model! Last saved: 127\n",
      "Epoch 129:\n",
      "\n",
      "Evaluation Completed (valid)!\tLoss: -86.2310 Time: 0.525 s\n",
      "Not saving model! Last saved: 127\n",
      "Epoch 130:\n",
      "\n",
      "Evaluation Completed (valid)!\tLoss: -86.2763 Time: 0.527 s\n",
      "Saving model!\n",
      "Epoch 131:\n",
      "\n",
      "Evaluation Completed (valid)!\tLoss: -86.2196 Time: 0.548 s\n",
      "Not saving model! Last saved: 130\n",
      "Epoch 132:\n",
      "\n",
      "Evaluation Completed (valid)!\tLoss: -86.3552 Time: 0.526 s\n",
      "Saving model!\n",
      "Epoch 133:\n",
      "\n",
      "Evaluation Completed (valid)!\tLoss: -86.3234 Time: 0.525 s\n",
      "Not saving model! Last saved: 132\n",
      "Epoch 134:\n",
      "\n",
      "Evaluation Completed (valid)!\tLoss: -86.2776 Time: 0.524 s\n",
      "Not saving model! Last saved: 132\n",
      "Epoch 135:\n",
      "\n",
      "Evaluation Completed (valid)!\tLoss: -86.2913 Time: 0.524 s\n",
      "Not saving model! Last saved: 132\n",
      "Epoch 136:\n",
      "\n",
      "Evaluation Completed (valid)!\tLoss: -86.2611 Time: 0.524 s\n",
      "Not saving model! Last saved: 132\n",
      "Epoch 137:\n",
      "\n",
      "Evaluation Completed (valid)!\tLoss: -86.3339 Time: 0.523 s\n",
      "Not saving model! Last saved: 132\n",
      "Epoch 138:\n",
      "\n",
      "Evaluation Completed (valid)!\tLoss: -86.2915 Time: 0.524 s\n",
      "Not saving model! Last saved: 132\n",
      "Epoch 139:\n",
      "\n",
      "Evaluation Completed (valid)!\tLoss: -86.2847 Time: 0.524 s\n",
      "Not saving model! Last saved: 132\n",
      "Epoch 140:\n",
      "\n",
      "Evaluation Completed (valid)!\tLoss: -86.2884 Time: 0.547 s\n",
      "Not saving model! Last saved: 132\n",
      "Epoch 141:\n",
      "\n",
      "Evaluation Completed (valid)!\tLoss: -86.3707 Time: 0.524 s\n",
      "Saving model!\n",
      "Epoch 142:\n",
      "\n",
      "Evaluation Completed (valid)!\tLoss: -86.2437 Time: 0.526 s\n",
      "Not saving model! Last saved: 141\n",
      "Epoch 143:\n",
      "\n",
      "Evaluation Completed (valid)!\tLoss: -86.4062 Time: 0.526 s\n",
      "Saving model!\n",
      "Epoch 144:\n",
      "\n",
      "Evaluation Completed (valid)!\tLoss: -86.4071 Time: 0.524 s\n",
      "Saving model!\n",
      "Epoch 145:\n",
      "\n",
      "Evaluation Completed (valid)!\tLoss: -86.3667 Time: 0.523 s\n",
      "Not saving model! Last saved: 144\n",
      "Epoch 146:\n",
      "\n",
      "Evaluation Completed (valid)!\tLoss: -86.4588 Time: 0.525 s\n",
      "Saving model!\n",
      "Epoch 147:\n",
      "\n",
      "Evaluation Completed (valid)!\tLoss: -86.3850 Time: 0.526 s\n",
      "Not saving model! Last saved: 146\n",
      "Epoch 148:\n",
      "\n",
      "Evaluation Completed (valid)!\tLoss: -86.5116 Time: 0.524 s\n",
      "Saving model!\n",
      "Epoch 149:\n",
      "\n",
      "Evaluation Completed (valid)!\tLoss: -86.3858 Time: 0.526 s\n",
      "Not saving model! Last saved: 148\n",
      "Epoch 150:\n",
      "\n",
      "Evaluation Completed (valid)!\tLoss: -86.5510 Time: 0.525 s\n",
      "Saving model!\n",
      "Epoch 151:\n",
      "\n",
      "Evaluation Completed (valid)!\tLoss: -86.4355 Time: 0.525 s\n",
      "Not saving model! Last saved: 150\n",
      "Epoch 152:\n",
      "\n",
      "Evaluation Completed (valid)!\tLoss: -86.5051 Time: 0.524 s\n",
      "Not saving model! Last saved: 150\n",
      "Epoch 153:\n",
      "\n",
      "Evaluation Completed (valid)!\tLoss: -86.4847 Time: 0.525 s\n",
      "Not saving model! Last saved: 150\n",
      "Epoch 154:\n",
      "\n",
      "Evaluation Completed (valid)!\tLoss: -86.5123 Time: 0.525 s\n",
      "Not saving model! Last saved: 150\n",
      "Epoch 155:\n",
      "\n",
      "Evaluation Completed (valid)!\tLoss: -86.5419 Time: 0.524 s\n",
      "Not saving model! Last saved: 150\n",
      "Epoch 156:\n",
      "\n",
      "Evaluation Completed (valid)!\tLoss: -86.4623 Time: 0.524 s\n",
      "Not saving model! Last saved: 150\n",
      "Epoch 157:\n",
      "\n",
      "Evaluation Completed (valid)!\tLoss: -86.5203 Time: 0.524 s\n",
      "Not saving model! Last saved: 150\n",
      "Epoch 158:\n",
      "\n",
      "Evaluation Completed (valid)!\tLoss: -86.4699 Time: 0.524 s\n",
      "Not saving model! Last saved: 150\n",
      "Epoch 159:\n",
      "\n",
      "Evaluation Completed (valid)!\tLoss: -86.4838 Time: 0.527 s\n",
      "Not saving model! Last saved: 150\n",
      "Epoch 160:\n",
      "\n",
      "Evaluation Completed (valid)!\tLoss: -86.5901 Time: 0.525 s\n",
      "Saving model!\n",
      "Epoch 161:\n",
      "\n",
      "Evaluation Completed (valid)!\tLoss: -86.6991 Time: 0.524 s\n",
      "Saving model!\n",
      "Epoch 162:\n",
      "\n",
      "Evaluation Completed (valid)!\tLoss: -86.6514 Time: 0.526 s\n",
      "Not saving model! Last saved: 161\n",
      "Epoch 163:\n",
      "\n",
      "Evaluation Completed (valid)!\tLoss: -86.6925 Time: 0.525 s\n",
      "Not saving model! Last saved: 161\n",
      "Epoch 164:\n",
      "\n",
      "Evaluation Completed (valid)!\tLoss: -86.7017 Time: 0.523 s\n",
      "Saving model!\n",
      "Epoch 165:\n",
      "\n",
      "Evaluation Completed (valid)!\tLoss: -86.6874 Time: 0.524 s\n",
      "Not saving model! Last saved: 164\n",
      "Epoch 166:\n",
      "\n",
      "Evaluation Completed (valid)!\tLoss: -86.6736 Time: 0.525 s\n",
      "Not saving model! Last saved: 164\n",
      "Epoch 167:\n",
      "\n",
      "Evaluation Completed (valid)!\tLoss: -86.6500 Time: 0.525 s\n",
      "Not saving model! Last saved: 164\n",
      "Epoch 168:\n",
      "\n",
      "Evaluation Completed (valid)!\tLoss: -86.7864 Time: 0.524 s\n",
      "Saving model!\n",
      "Epoch 169:\n",
      "\n",
      "Evaluation Completed (valid)!\tLoss: -86.8086 Time: 0.524 s\n",
      "Saving model!\n",
      "Epoch 170:\n",
      "\n",
      "Evaluation Completed (valid)!\tLoss: -86.8193 Time: 0.525 s\n",
      "Saving model!\n",
      "Epoch 171:\n",
      "\n",
      "Evaluation Completed (valid)!\tLoss: -86.6613 Time: 0.524 s\n",
      "Not saving model! Last saved: 170\n",
      "Epoch 172:\n",
      "\n",
      "Evaluation Completed (valid)!\tLoss: -86.7843 Time: 0.525 s\n",
      "Not saving model! Last saved: 170\n",
      "Epoch 173:\n"
     ]
    },
    {
     "name": "stdout",
     "output_type": "stream",
     "text": [
      "\n",
      "Evaluation Completed (valid)!\tLoss: -86.6623 Time: 0.524 s\n",
      "Not saving model! Last saved: 170\n",
      "Epoch 174:\n",
      "\n",
      "Evaluation Completed (valid)!\tLoss: -86.7252 Time: 0.523 s\n",
      "Not saving model! Last saved: 170\n",
      "Epoch 175:\n",
      "\n",
      "Evaluation Completed (valid)!\tLoss: -86.8528 Time: 0.526 s\n",
      "Saving model!\n",
      "Epoch 176:\n",
      "\n",
      "Evaluation Completed (valid)!\tLoss: -86.8369 Time: 0.525 s\n",
      "Not saving model! Last saved: 175\n",
      "Epoch 177:\n",
      "\n",
      "Evaluation Completed (valid)!\tLoss: -86.8373 Time: 0.524 s\n",
      "Not saving model! Last saved: 175\n",
      "Epoch 178:\n",
      "\n",
      "Evaluation Completed (valid)!\tLoss: -86.8857 Time: 0.527 s\n",
      "Saving model!\n",
      "Epoch 179:\n",
      "\n",
      "Evaluation Completed (valid)!\tLoss: -86.8035 Time: 0.525 s\n",
      "Not saving model! Last saved: 178\n",
      "Epoch 180:\n",
      "\n",
      "Evaluation Completed (valid)!\tLoss: -86.9013 Time: 0.523 s\n",
      "Saving model!\n",
      "Epoch 181:\n",
      "\n",
      "Evaluation Completed (valid)!\tLoss: -86.7934 Time: 0.525 s\n",
      "Not saving model! Last saved: 180\n",
      "Epoch 182:\n",
      "\n",
      "Evaluation Completed (valid)!\tLoss: -86.9621 Time: 0.526 s\n",
      "Saving model!\n",
      "Epoch 183:\n",
      "\n",
      "Evaluation Completed (valid)!\tLoss: -86.8569 Time: 0.525 s\n",
      "Not saving model! Last saved: 182\n",
      "Epoch 184:\n",
      "\n",
      "Evaluation Completed (valid)!\tLoss: -86.8643 Time: 0.548 s\n",
      "Not saving model! Last saved: 182\n",
      "Epoch 185:\n",
      "\n",
      "Evaluation Completed (valid)!\tLoss: -86.8632 Time: 0.526 s\n",
      "Not saving model! Last saved: 182\n",
      "Epoch 186:\n",
      "\n",
      "Evaluation Completed (valid)!\tLoss: -86.9494 Time: 0.530 s\n",
      "Not saving model! Last saved: 182\n",
      "Epoch 187:\n",
      "\n",
      "Evaluation Completed (valid)!\tLoss: -87.0246 Time: 0.523 s\n",
      "Saving model!\n",
      "Epoch 188:\n",
      "\n",
      "Evaluation Completed (valid)!\tLoss: -87.0131 Time: 0.527 s\n",
      "Not saving model! Last saved: 187\n",
      "Epoch 189:\n",
      "\n",
      "Evaluation Completed (valid)!\tLoss: -87.0045 Time: 0.526 s\n",
      "Not saving model! Last saved: 187\n",
      "Epoch 190:\n",
      "\n",
      "Evaluation Completed (valid)!\tLoss: -87.1142 Time: 0.528 s\n",
      "Saving model!\n",
      "Epoch 191:\n",
      "\n",
      "Evaluation Completed (valid)!\tLoss: -86.8536 Time: 0.527 s\n",
      "Not saving model! Last saved: 190\n",
      "Epoch 192:\n",
      "\n",
      "Evaluation Completed (valid)!\tLoss: -86.9574 Time: 0.527 s\n",
      "Not saving model! Last saved: 190\n",
      "Epoch 193:\n",
      "\n",
      "Evaluation Completed (valid)!\tLoss: -87.0711 Time: 0.552 s\n",
      "Not saving model! Last saved: 190\n",
      "Epoch 194:\n",
      "\n",
      "Evaluation Completed (valid)!\tLoss: -87.0627 Time: 0.529 s\n",
      "Not saving model! Last saved: 190\n",
      "Epoch 195:\n",
      "\n",
      "Evaluation Completed (valid)!\tLoss: -86.9209 Time: 0.531 s\n",
      "Not saving model! Last saved: 190\n",
      "Epoch 196:\n",
      "\n",
      "Evaluation Completed (valid)!\tLoss: -87.0250 Time: 0.528 s\n",
      "Not saving model! Last saved: 190\n",
      "Epoch 197:\n",
      "\n",
      "Evaluation Completed (valid)!\tLoss: -87.0360 Time: 0.527 s\n",
      "Not saving model! Last saved: 190\n",
      "Epoch 198:\n",
      "\n",
      "Evaluation Completed (valid)!\tLoss: -87.0950 Time: 0.529 s\n",
      "Not saving model! Last saved: 190\n",
      "Epoch 199:\n",
      "\n",
      "Evaluation Completed (valid)!\tLoss: -87.0358 Time: 0.527 s\n",
      "Not saving model! Last saved: 190\n",
      "Epoch 200:\n",
      "\n",
      "Evaluation Completed (valid)!\tLoss: -86.9927 Time: 0.527 s\n",
      "Not saving model! Last saved: 190\n",
      "Epoch 201:\n",
      "\n",
      "Evaluation Completed (valid)!\tLoss: -87.2048 Time: 0.527 s\n",
      "Saving model!\n",
      "Epoch 202:\n",
      "\n",
      "Evaluation Completed (valid)!\tLoss: -87.1736 Time: 0.552 s\n",
      "Not saving model! Last saved: 201\n",
      "Epoch 203:\n",
      "\n",
      "Evaluation Completed (valid)!\tLoss: -87.1169 Time: 0.528 s\n",
      "Not saving model! Last saved: 201\n",
      "Epoch 204:\n",
      "\n",
      "Evaluation Completed (valid)!\tLoss: -87.1423 Time: 0.530 s\n",
      "Not saving model! Last saved: 201\n",
      "Epoch 205:\n",
      "\n",
      "Evaluation Completed (valid)!\tLoss: -87.2395 Time: 0.535 s\n",
      "Saving model!\n",
      "Epoch 206:\n",
      "\n",
      "Evaluation Completed (valid)!\tLoss: -87.0646 Time: 0.527 s\n",
      "Not saving model! Last saved: 205\n",
      "Epoch 207:\n",
      "\n",
      "Evaluation Completed (valid)!\tLoss: -87.2130 Time: 0.528 s\n",
      "Not saving model! Last saved: 205\n",
      "Epoch 208:\n",
      "\n",
      "Evaluation Completed (valid)!\tLoss: -87.3283 Time: 0.526 s\n",
      "Saving model!\n",
      "Epoch 209:\n",
      "\n",
      "Evaluation Completed (valid)!\tLoss: -87.3117 Time: 0.524 s\n",
      "Not saving model! Last saved: 208\n",
      "Epoch 210:\n",
      "\n",
      "Evaluation Completed (valid)!\tLoss: -87.2365 Time: 0.526 s\n",
      "Not saving model! Last saved: 208\n",
      "Epoch 211:\n",
      "\n",
      "Evaluation Completed (valid)!\tLoss: -87.1832 Time: 0.547 s\n",
      "Not saving model! Last saved: 208\n",
      "Epoch 212:\n",
      "\n",
      "Evaluation Completed (valid)!\tLoss: -87.2348 Time: 0.524 s\n",
      "Not saving model! Last saved: 208\n",
      "Epoch 213:\n",
      "\n",
      "Evaluation Completed (valid)!\tLoss: -87.3010 Time: 0.524 s\n",
      "Not saving model! Last saved: 208\n",
      "Epoch 214:\n",
      "\n",
      "Evaluation Completed (valid)!\tLoss: -87.2462 Time: 0.524 s\n",
      "Not saving model! Last saved: 208\n",
      "Epoch 215:\n",
      "\n",
      "Evaluation Completed (valid)!\tLoss: -87.1988 Time: 0.526 s\n",
      "Not saving model! Last saved: 208\n",
      "Epoch 216:\n",
      "\n",
      "Evaluation Completed (valid)!\tLoss: -87.2921 Time: 0.536 s\n",
      "Not saving model! Last saved: 208\n",
      "Epoch 217:\n",
      "\n",
      "Evaluation Completed (valid)!\tLoss: -87.4147 Time: 0.524 s\n",
      "Saving model!\n",
      "Epoch 218:\n",
      "\n",
      "Evaluation Completed (valid)!\tLoss: -87.2932 Time: 0.526 s\n",
      "Not saving model! Last saved: 217\n",
      "Epoch 219:\n",
      "\n",
      "Evaluation Completed (valid)!\tLoss: -87.2974 Time: 0.525 s\n",
      "Not saving model! Last saved: 217\n",
      "Epoch 220:\n",
      "\n",
      "Evaluation Completed (valid)!\tLoss: -87.4285 Time: 0.523 s\n",
      "Saving model!\n",
      "Epoch 221:\n",
      "\n",
      "Evaluation Completed (valid)!\tLoss: -87.2817 Time: 0.523 s\n",
      "Not saving model! Last saved: 220\n",
      "Epoch 222:\n",
      "\n",
      "Evaluation Completed (valid)!\tLoss: -87.3643 Time: 0.525 s\n",
      "Not saving model! Last saved: 220\n",
      "Epoch 223:\n",
      "\n",
      "Evaluation Completed (valid)!\tLoss: -87.4165 Time: 0.526 s\n",
      "Not saving model! Last saved: 220\n",
      "Epoch 224:\n",
      "\n",
      "Evaluation Completed (valid)!\tLoss: -87.4670 Time: 0.525 s\n",
      "Saving model!\n",
      "Epoch 225:\n",
      "\n",
      "Evaluation Completed (valid)!\tLoss: -87.4886 Time: 0.525 s\n",
      "Saving model!\n",
      "Epoch 226:\n",
      "\n",
      "Evaluation Completed (valid)!\tLoss: -87.4871 Time: 0.528 s\n",
      "Not saving model! Last saved: 225\n",
      "Epoch 227:\n",
      "\n",
      "Evaluation Completed (valid)!\tLoss: -87.4512 Time: 0.531 s\n",
      "Not saving model! Last saved: 225\n",
      "Epoch 228:\n",
      "\n",
      "Evaluation Completed (valid)!\tLoss: -87.4814 Time: 0.524 s\n",
      "Not saving model! Last saved: 225\n",
      "Epoch 229:\n",
      "\n",
      "Evaluation Completed (valid)!\tLoss: -87.5149 Time: 0.524 s\n",
      "Saving model!\n",
      "Epoch 230:\n",
      "\n",
      "Evaluation Completed (valid)!\tLoss: -87.4878 Time: 0.525 s\n",
      "Not saving model! Last saved: 229\n",
      "Epoch 231:\n",
      "\n",
      "Evaluation Completed (valid)!\tLoss: -87.4838 Time: 0.524 s\n",
      "Not saving model! Last saved: 229\n",
      "Epoch 232:\n",
      "\n",
      "Evaluation Completed (valid)!\tLoss: -87.3466 Time: 0.525 s\n",
      "Not saving model! Last saved: 229\n",
      "Epoch 233:\n",
      "\n",
      "Evaluation Completed (valid)!\tLoss: -87.5760 Time: 0.525 s\n",
      "Saving model!\n",
      "Epoch 234:\n",
      "\n",
      "Evaluation Completed (valid)!\tLoss: -87.2816 Time: 0.524 s\n",
      "Not saving model! Last saved: 233\n",
      "Epoch 235:\n",
      "\n",
      "Evaluation Completed (valid)!\tLoss: -87.5490 Time: 0.524 s\n",
      "Not saving model! Last saved: 233\n",
      "Epoch 236:\n",
      "\n",
      "Evaluation Completed (valid)!\tLoss: -87.6274 Time: 0.524 s\n",
      "Saving model!\n",
      "Epoch 237:\n",
      "\n",
      "Evaluation Completed (valid)!\tLoss: -87.6434 Time: 0.548 s\n",
      "Saving model!\n",
      "Epoch 238:\n",
      "\n",
      "Evaluation Completed (valid)!\tLoss: -87.7029 Time: 0.526 s\n",
      "Saving model!\n",
      "Epoch 239:\n",
      "\n",
      "Evaluation Completed (valid)!\tLoss: -87.6928 Time: 0.524 s\n",
      "Not saving model! Last saved: 238\n",
      "Epoch 240:\n",
      "\n",
      "Evaluation Completed (valid)!\tLoss: -87.6581 Time: 0.525 s\n",
      "Not saving model! Last saved: 238\n",
      "Epoch 241:\n",
      "\n",
      "Evaluation Completed (valid)!\tLoss: -87.6075 Time: 0.526 s\n",
      "Not saving model! Last saved: 238\n",
      "Epoch 242:\n",
      "\n",
      "Evaluation Completed (valid)!\tLoss: -87.5923 Time: 0.524 s\n",
      "Not saving model! Last saved: 238\n",
      "Epoch 243:\n",
      "\n",
      "Evaluation Completed (valid)!\tLoss: -87.7429 Time: 0.524 s\n",
      "Saving model!\n",
      "Epoch 244:\n",
      "\n",
      "Evaluation Completed (valid)!\tLoss: -87.6329 Time: 0.526 s\n",
      "Not saving model! Last saved: 243\n",
      "Epoch 245:\n",
      "\n",
      "Evaluation Completed (valid)!\tLoss: -87.6446 Time: 0.524 s\n",
      "Not saving model! Last saved: 243\n",
      "Epoch 246:\n",
      "\n",
      "Evaluation Completed (valid)!\tLoss: -87.7588 Time: 0.548 s\n",
      "Saving model!\n",
      "Epoch 247:\n",
      "\n",
      "Evaluation Completed (valid)!\tLoss: -87.6883 Time: 0.524 s\n",
      "Not saving model! Last saved: 246\n",
      "Epoch 248:\n",
      "\n",
      "Evaluation Completed (valid)!\tLoss: -87.7007 Time: 0.523 s\n",
      "Not saving model! Last saved: 246\n",
      "Epoch 249:\n",
      "\n",
      "Evaluation Completed (valid)!\tLoss: -87.7088 Time: 0.524 s\n",
      "Not saving model! Last saved: 246\n",
      "Epoch 250:\n",
      "\n",
      "Evaluation Completed (valid)!\tLoss: -87.7882 Time: 0.523 s\n",
      "Saving model!\n",
      "Epoch 251:\n",
      "\n",
      "Evaluation Completed (valid)!\tLoss: -87.7155 Time: 0.529 s\n",
      "Not saving model! Last saved: 250\n",
      "Epoch 252:\n",
      "\n",
      "Evaluation Completed (valid)!\tLoss: -87.8629 Time: 0.527 s\n",
      "Saving model!\n",
      "Epoch 253:\n",
      "\n",
      "Evaluation Completed (valid)!\tLoss: -87.6691 Time: 0.524 s\n",
      "Not saving model! Last saved: 252\n",
      "Epoch 254:\n",
      "\n",
      "Evaluation Completed (valid)!\tLoss: -87.8297 Time: 0.523 s\n",
      "Not saving model! Last saved: 252\n",
      "Epoch 255:\n",
      "\n",
      "Evaluation Completed (valid)!\tLoss: -87.7904 Time: 0.524 s\n",
      "Not saving model! Last saved: 252\n",
      "Epoch 256:\n"
     ]
    },
    {
     "name": "stdout",
     "output_type": "stream",
     "text": [
      "\n",
      "Evaluation Completed (valid)!\tLoss: -87.8642 Time: 0.525 s\n",
      "Saving model!\n",
      "Epoch 257:\n",
      "\n",
      "Evaluation Completed (valid)!\tLoss: -87.5036 Time: 0.525 s\n",
      "Not saving model! Last saved: 256\n",
      "Epoch 258:\n",
      "\n",
      "Evaluation Completed (valid)!\tLoss: -87.7133 Time: 0.525 s\n",
      "Not saving model! Last saved: 256\n",
      "Epoch 259:\n",
      "\n",
      "Evaluation Completed (valid)!\tLoss: -87.8693 Time: 0.524 s\n",
      "Saving model!\n",
      "Epoch 260:\n",
      "\n",
      "Evaluation Completed (valid)!\tLoss: -88.0239 Time: 0.534 s\n",
      "Saving model!\n",
      "Epoch 261:\n",
      "\n",
      "Evaluation Completed (valid)!\tLoss: -87.9230 Time: 0.529 s\n",
      "Not saving model! Last saved: 260\n",
      "Epoch 262:\n",
      "\n",
      "Evaluation Completed (valid)!\tLoss: -87.8039 Time: 0.525 s\n",
      "Not saving model! Last saved: 260\n",
      "Epoch 263:\n",
      "\n",
      "Evaluation Completed (valid)!\tLoss: -87.9409 Time: 0.525 s\n",
      "Not saving model! Last saved: 260\n",
      "Epoch 264:\n",
      "\n",
      "Evaluation Completed (valid)!\tLoss: -87.8019 Time: 0.526 s\n",
      "Not saving model! Last saved: 260\n",
      "Epoch 265:\n",
      "\n",
      "Evaluation Completed (valid)!\tLoss: -87.8857 Time: 0.525 s\n",
      "Not saving model! Last saved: 260\n",
      "Epoch 266:\n",
      "\n",
      "Evaluation Completed (valid)!\tLoss: -88.0037 Time: 0.523 s\n",
      "Not saving model! Last saved: 260\n",
      "Epoch 267:\n",
      "\n",
      "Evaluation Completed (valid)!\tLoss: -88.0656 Time: 0.527 s\n",
      "Saving model!\n",
      "Epoch 268:\n",
      "\n",
      "Evaluation Completed (valid)!\tLoss: -88.0931 Time: 0.525 s\n",
      "Saving model!\n",
      "Epoch 269:\n",
      "\n",
      "Evaluation Completed (valid)!\tLoss: -87.9643 Time: 0.524 s\n",
      "Not saving model! Last saved: 268\n",
      "Epoch 270:\n",
      "\n",
      "Evaluation Completed (valid)!\tLoss: -88.0940 Time: 0.525 s\n",
      "Saving model!\n",
      "Epoch 271:\n",
      "\n",
      "Evaluation Completed (valid)!\tLoss: -88.0475 Time: 0.524 s\n",
      "Not saving model! Last saved: 270\n",
      "Epoch 272:\n",
      "\n",
      "Evaluation Completed (valid)!\tLoss: -88.0619 Time: 0.525 s\n",
      "Not saving model! Last saved: 270\n",
      "Epoch 273:\n",
      "\n",
      "Evaluation Completed (valid)!\tLoss: -88.0781 Time: 0.525 s\n",
      "Not saving model! Last saved: 270\n",
      "Epoch 274:\n",
      "\n",
      "Evaluation Completed (valid)!\tLoss: -88.1359 Time: 0.526 s\n",
      "Saving model!\n",
      "Epoch 275:\n",
      "\n",
      "Evaluation Completed (valid)!\tLoss: -88.0848 Time: 0.527 s\n",
      "Not saving model! Last saved: 274\n",
      "Epoch 276:\n",
      "\n",
      "Evaluation Completed (valid)!\tLoss: -88.1976 Time: 0.523 s\n",
      "Saving model!\n",
      "Epoch 277:\n",
      "\n",
      "Evaluation Completed (valid)!\tLoss: -88.1536 Time: 0.524 s\n",
      "Not saving model! Last saved: 276\n",
      "Epoch 278:\n",
      "\n",
      "Evaluation Completed (valid)!\tLoss: -88.1189 Time: 0.525 s\n",
      "Not saving model! Last saved: 276\n",
      "Epoch 279:\n",
      "\n",
      "Evaluation Completed (valid)!\tLoss: -88.0112 Time: 0.525 s\n",
      "Not saving model! Last saved: 276\n",
      "Epoch 280:\n",
      "\n",
      "Evaluation Completed (valid)!\tLoss: -88.2147 Time: 0.523 s\n",
      "Saving model!\n",
      "Epoch 281:\n",
      "\n",
      "Evaluation Completed (valid)!\tLoss: -88.1945 Time: 0.551 s\n",
      "Not saving model! Last saved: 280\n",
      "Epoch 282:\n",
      "\n",
      "Evaluation Completed (valid)!\tLoss: -88.1991 Time: 0.523 s\n",
      "Not saving model! Last saved: 280\n",
      "Epoch 283:\n",
      "\n",
      "Evaluation Completed (valid)!\tLoss: -88.2484 Time: 0.524 s\n",
      "Saving model!\n",
      "Epoch 284:\n",
      "\n",
      "Evaluation Completed (valid)!\tLoss: -88.2603 Time: 0.522 s\n",
      "Saving model!\n",
      "Epoch 285:\n",
      "\n",
      "Evaluation Completed (valid)!\tLoss: -88.1680 Time: 0.523 s\n",
      "Not saving model! Last saved: 284\n",
      "Epoch 286:\n",
      "\n",
      "Evaluation Completed (valid)!\tLoss: -88.3204 Time: 0.523 s\n",
      "Saving model!\n",
      "Epoch 287:\n",
      "\n",
      "Evaluation Completed (valid)!\tLoss: -88.3491 Time: 0.523 s\n",
      "Saving model!\n",
      "Epoch 288:\n",
      "\n",
      "Evaluation Completed (valid)!\tLoss: -88.1947 Time: 0.525 s\n",
      "Not saving model! Last saved: 287\n",
      "Epoch 289:\n",
      "\n",
      "Evaluation Completed (valid)!\tLoss: -88.3332 Time: 0.522 s\n",
      "Not saving model! Last saved: 287\n",
      "Epoch 290:\n",
      "\n",
      "Evaluation Completed (valid)!\tLoss: -88.2467 Time: 0.547 s\n",
      "Not saving model! Last saved: 287\n",
      "Epoch 291:\n",
      "\n",
      "Evaluation Completed (valid)!\tLoss: -88.4484 Time: 0.523 s\n",
      "Saving model!\n",
      "Epoch 292:\n",
      "\n",
      "Evaluation Completed (valid)!\tLoss: -88.3455 Time: 0.524 s\n",
      "Not saving model! Last saved: 291\n",
      "Epoch 293:\n",
      "\n",
      "Evaluation Completed (valid)!\tLoss: -88.3804 Time: 0.525 s\n",
      "Not saving model! Last saved: 291\n",
      "Epoch 294:\n",
      "\n",
      "Evaluation Completed (valid)!\tLoss: -88.4603 Time: 0.523 s\n",
      "Saving model!\n",
      "Epoch 295:\n",
      "\n",
      "Evaluation Completed (valid)!\tLoss: -88.2370 Time: 0.524 s\n",
      "Not saving model! Last saved: 294\n",
      "Epoch 296:\n",
      "\n",
      "Evaluation Completed (valid)!\tLoss: -88.3919 Time: 0.524 s\n",
      "Not saving model! Last saved: 294\n",
      "Epoch 297:\n",
      "\n",
      "Evaluation Completed (valid)!\tLoss: -88.3232 Time: 0.524 s\n",
      "Not saving model! Last saved: 294\n",
      "Epoch 298:\n",
      "\n",
      "Evaluation Completed (valid)!\tLoss: -88.4557 Time: 0.524 s\n",
      "Not saving model! Last saved: 294\n",
      "Epoch 299:\n",
      "\n",
      "Evaluation Completed (valid)!\tLoss: -88.4921 Time: 0.547 s\n",
      "Saving model!\n",
      "Epoch 300:\n",
      "\n",
      "Evaluation Completed (valid)!\tLoss: -88.3324 Time: 0.524 s\n",
      "Not saving model! Last saved: 299\n",
      "Epoch 301:\n",
      "\n",
      "Evaluation Completed (valid)!\tLoss: -88.3838 Time: 0.526 s\n",
      "Not saving model! Last saved: 299\n",
      "Epoch 302:\n",
      "\n",
      "Evaluation Completed (valid)!\tLoss: -88.5637 Time: 0.524 s\n",
      "Saving model!\n",
      "Epoch 303:\n",
      "\n",
      "Evaluation Completed (valid)!\tLoss: -88.4978 Time: 0.524 s\n",
      "Not saving model! Last saved: 302\n",
      "Epoch 304:\n",
      "\n",
      "Evaluation Completed (valid)!\tLoss: -88.4792 Time: 0.524 s\n",
      "Not saving model! Last saved: 302\n",
      "Epoch 305:\n",
      "\n",
      "Evaluation Completed (valid)!\tLoss: -88.5647 Time: 0.524 s\n",
      "Saving model!\n",
      "Epoch 306:\n",
      "\n",
      "Evaluation Completed (valid)!\tLoss: -88.5367 Time: 0.524 s\n",
      "Not saving model! Last saved: 305\n",
      "Epoch 307:\n",
      "\n",
      "Evaluation Completed (valid)!\tLoss: -88.5496 Time: 0.524 s\n",
      "Not saving model! Last saved: 305\n",
      "Epoch 308:\n",
      "\n",
      "Evaluation Completed (valid)!\tLoss: -88.4553 Time: 0.549 s\n",
      "Not saving model! Last saved: 305\n",
      "Epoch 309:\n",
      "\n",
      "Evaluation Completed (valid)!\tLoss: -88.5602 Time: 0.525 s\n",
      "Not saving model! Last saved: 305\n",
      "Epoch 310:\n",
      "\n",
      "Evaluation Completed (valid)!\tLoss: -88.5490 Time: 0.525 s\n",
      "Not saving model! Last saved: 305\n",
      "Epoch 311:\n",
      "\n",
      "Evaluation Completed (valid)!\tLoss: -88.7467 Time: 0.525 s\n",
      "Saving model!\n",
      "Epoch 312:\n",
      "\n",
      "Evaluation Completed (valid)!\tLoss: -88.5974 Time: 0.527 s\n",
      "Not saving model! Last saved: 311\n",
      "Epoch 313:\n",
      "\n",
      "Evaluation Completed (valid)!\tLoss: -88.6428 Time: 0.526 s\n",
      "Not saving model! Last saved: 311\n",
      "Epoch 314:\n",
      "\n",
      "Evaluation Completed (valid)!\tLoss: -88.7052 Time: 0.525 s\n",
      "Not saving model! Last saved: 311\n",
      "Epoch 315:\n",
      "\n",
      "Evaluation Completed (valid)!\tLoss: -88.5736 Time: 0.527 s\n",
      "Not saving model! Last saved: 311\n",
      "Epoch 316:\n",
      "\n",
      "Evaluation Completed (valid)!\tLoss: -88.7317 Time: 0.524 s\n",
      "Not saving model! Last saved: 311\n",
      "Epoch 317:\n",
      "\n",
      "Evaluation Completed (valid)!\tLoss: -88.6499 Time: 0.525 s\n",
      "Not saving model! Last saved: 311\n",
      "Epoch 318:\n",
      "\n",
      "Evaluation Completed (valid)!\tLoss: -88.6692 Time: 0.528 s\n",
      "Not saving model! Last saved: 311\n",
      "Epoch 319:\n",
      "\n",
      "Evaluation Completed (valid)!\tLoss: -88.6333 Time: 0.525 s\n",
      "Not saving model! Last saved: 311\n",
      "Epoch 320:\n",
      "\n",
      "Evaluation Completed (valid)!\tLoss: -88.8990 Time: 0.525 s\n",
      "Saving model!\n",
      "Epoch 321:\n",
      "\n",
      "Evaluation Completed (valid)!\tLoss: -88.6900 Time: 0.524 s\n",
      "Not saving model! Last saved: 320\n",
      "Epoch 322:\n",
      "\n",
      "Evaluation Completed (valid)!\tLoss: -88.8464 Time: 0.524 s\n",
      "Not saving model! Last saved: 320\n",
      "Epoch 323:\n",
      "\n",
      "Evaluation Completed (valid)!\tLoss: -88.9255 Time: 0.525 s\n",
      "Saving model!\n",
      "Epoch 324:\n",
      "\n",
      "Evaluation Completed (valid)!\tLoss: -88.6151 Time: 0.523 s\n",
      "Not saving model! Last saved: 323\n",
      "Epoch 325:\n",
      "\n",
      "Evaluation Completed (valid)!\tLoss: -88.7526 Time: 0.524 s\n",
      "Not saving model! Last saved: 323\n",
      "Epoch 326:\n",
      "\n",
      "Evaluation Completed (valid)!\tLoss: -88.8680 Time: 0.524 s\n",
      "Not saving model! Last saved: 323\n",
      "Epoch 327:\n",
      "\n",
      "Evaluation Completed (valid)!\tLoss: -88.8413 Time: 0.525 s\n",
      "Not saving model! Last saved: 323\n",
      "Epoch 328:\n",
      "\n",
      "Evaluation Completed (valid)!\tLoss: -88.9422 Time: 0.525 s\n",
      "Saving model!\n",
      "Epoch 329:\n",
      "\n",
      "Evaluation Completed (valid)!\tLoss: -88.7988 Time: 0.525 s\n",
      "Not saving model! Last saved: 328\n",
      "Epoch 330:\n",
      "\n",
      "Evaluation Completed (valid)!\tLoss: -88.8594 Time: 0.524 s\n",
      "Not saving model! Last saved: 328\n",
      "Epoch 331:\n",
      "\n",
      "Evaluation Completed (valid)!\tLoss: -88.9576 Time: 0.524 s\n",
      "Saving model!\n",
      "Epoch 332:\n",
      "\n",
      "Evaluation Completed (valid)!\tLoss: -89.0298 Time: 0.526 s\n",
      "Saving model!\n",
      "Epoch 333:\n",
      "\n",
      "Evaluation Completed (valid)!\tLoss: -88.8987 Time: 0.526 s\n",
      "Not saving model! Last saved: 332\n",
      "Epoch 334:\n",
      "\n",
      "Evaluation Completed (valid)!\tLoss: -88.9620 Time: 0.526 s\n",
      "Not saving model! Last saved: 332\n",
      "Epoch 335:\n",
      "\n",
      "Evaluation Completed (valid)!\tLoss: -88.9712 Time: 0.524 s\n",
      "Not saving model! Last saved: 332\n",
      "Epoch 336:\n",
      "\n",
      "Evaluation Completed (valid)!\tLoss: -89.0370 Time: 0.526 s\n",
      "Saving model!\n",
      "Epoch 337:\n",
      "\n",
      "Evaluation Completed (valid)!\tLoss: -89.0136 Time: 0.525 s\n",
      "Not saving model! Last saved: 336\n",
      "Epoch 338:\n",
      "\n",
      "Evaluation Completed (valid)!\tLoss: -89.0578 Time: 0.526 s\n",
      "Saving model!\n",
      "Epoch 339:\n"
     ]
    },
    {
     "name": "stdout",
     "output_type": "stream",
     "text": [
      "\n",
      "Evaluation Completed (valid)!\tLoss: -89.0796 Time: 0.524 s\n",
      "Saving model!\n",
      "Epoch 340:\n",
      "\n",
      "Evaluation Completed (valid)!\tLoss: -88.9699 Time: 0.524 s\n",
      "Not saving model! Last saved: 339\n",
      "Epoch 341:\n",
      "\n",
      "Evaluation Completed (valid)!\tLoss: -89.0518 Time: 0.524 s\n",
      "Not saving model! Last saved: 339\n",
      "Epoch 342:\n",
      "\n",
      "Evaluation Completed (valid)!\tLoss: -89.0219 Time: 0.525 s\n",
      "Not saving model! Last saved: 339\n",
      "Epoch 343:\n",
      "\n",
      "Evaluation Completed (valid)!\tLoss: -89.1790 Time: 0.526 s\n",
      "Saving model!\n",
      "Epoch 344:\n",
      "\n",
      "Evaluation Completed (valid)!\tLoss: -89.1577 Time: 0.527 s\n",
      "Not saving model! Last saved: 343\n",
      "Epoch 345:\n",
      "\n",
      "Evaluation Completed (valid)!\tLoss: -89.0607 Time: 0.526 s\n",
      "Not saving model! Last saved: 343\n",
      "Epoch 346:\n",
      "\n",
      "Evaluation Completed (valid)!\tLoss: -89.1666 Time: 0.524 s\n",
      "Not saving model! Last saved: 343\n",
      "Epoch 347:\n",
      "\n",
      "Evaluation Completed (valid)!\tLoss: -89.2376 Time: 0.524 s\n",
      "Saving model!\n",
      "Epoch 348:\n",
      "\n",
      "Evaluation Completed (valid)!\tLoss: -89.2677 Time: 0.526 s\n",
      "Saving model!\n",
      "Epoch 349:\n",
      "\n",
      "Evaluation Completed (valid)!\tLoss: -89.1733 Time: 0.525 s\n",
      "Not saving model! Last saved: 348\n",
      "Epoch 350:\n",
      "\n",
      "Evaluation Completed (valid)!\tLoss: -89.2487 Time: 0.524 s\n",
      "Not saving model! Last saved: 348\n",
      "Epoch 351:\n",
      "\n",
      "Evaluation Completed (valid)!\tLoss: -89.1174 Time: 0.524 s\n",
      "Not saving model! Last saved: 348\n",
      "Epoch 352:\n",
      "\n",
      "Evaluation Completed (valid)!\tLoss: -89.0391 Time: 0.548 s\n",
      "Not saving model! Last saved: 348\n",
      "Epoch 353:\n",
      "\n",
      "Evaluation Completed (valid)!\tLoss: -89.1368 Time: 0.525 s\n",
      "Not saving model! Last saved: 348\n",
      "Epoch 354:\n",
      "\n",
      "Evaluation Completed (valid)!\tLoss: -89.1506 Time: 0.526 s\n",
      "Not saving model! Last saved: 348\n",
      "Epoch 355:\n",
      "\n",
      "Evaluation Completed (valid)!\tLoss: -89.2168 Time: 0.525 s\n",
      "Not saving model! Last saved: 348\n",
      "Epoch 356:\n",
      "\n",
      "Evaluation Completed (valid)!\tLoss: -89.1187 Time: 0.525 s\n",
      "Not saving model! Last saved: 348\n",
      "Epoch 357:\n",
      "\n",
      "Evaluation Completed (valid)!\tLoss: -89.1090 Time: 0.524 s\n",
      "Not saving model! Last saved: 348\n",
      "Epoch 358:\n",
      "\n",
      "Evaluation Completed (valid)!\tLoss: -89.1297 Time: 0.524 s\n",
      "Not saving model! Last saved: 348\n",
      "Epoch 359:\n",
      "\n",
      "Evaluation Completed (valid)!\tLoss: -89.2687 Time: 0.525 s\n",
      "Saving model!\n",
      "Epoch 360:\n",
      "\n",
      "Evaluation Completed (valid)!\tLoss: -89.2802 Time: 0.525 s\n",
      "Saving model!\n",
      "Epoch 361:\n",
      "\n",
      "Evaluation Completed (valid)!\tLoss: -89.1011 Time: 0.548 s\n",
      "Not saving model! Last saved: 360\n",
      "Epoch 362:\n",
      "\n",
      "Evaluation Completed (valid)!\tLoss: -89.3445 Time: 0.525 s\n",
      "Saving model!\n",
      "Epoch 363:\n",
      "\n",
      "Evaluation Completed (valid)!\tLoss: -89.2653 Time: 0.524 s\n",
      "Not saving model! Last saved: 362\n",
      "Epoch 364:\n",
      "\n",
      "Evaluation Completed (valid)!\tLoss: -89.2206 Time: 0.525 s\n",
      "Not saving model! Last saved: 362\n",
      "Epoch 365:\n",
      "\n",
      "Evaluation Completed (valid)!\tLoss: -89.3662 Time: 0.526 s\n",
      "Saving model!\n",
      "Epoch 366:\n",
      "\n",
      "Evaluation Completed (valid)!\tLoss: -89.2800 Time: 0.525 s\n",
      "Not saving model! Last saved: 365\n",
      "Epoch 367:\n",
      "\n",
      "Evaluation Completed (valid)!\tLoss: -89.2846 Time: 0.526 s\n",
      "Not saving model! Last saved: 365\n",
      "Epoch 368:\n",
      "\n",
      "Evaluation Completed (valid)!\tLoss: -89.1648 Time: 0.523 s\n",
      "Not saving model! Last saved: 365\n",
      "Epoch 369:\n",
      "\n",
      "Evaluation Completed (valid)!\tLoss: -89.2081 Time: 0.534 s\n",
      "Not saving model! Last saved: 365\n",
      "Epoch 370:\n",
      "\n",
      "Evaluation Completed (valid)!\tLoss: -89.2760 Time: 0.552 s\n",
      "Not saving model! Last saved: 365\n",
      "Epoch 371:\n",
      "\n",
      "Evaluation Completed (valid)!\tLoss: -89.2220 Time: 0.524 s\n",
      "Not saving model! Last saved: 365\n",
      "Epoch 372:\n",
      "\n",
      "Evaluation Completed (valid)!\tLoss: -89.2475 Time: 0.527 s\n",
      "Not saving model! Last saved: 365\n",
      "Epoch 373:\n",
      "\n",
      "Evaluation Completed (valid)!\tLoss: -89.2956 Time: 0.526 s\n",
      "Not saving model! Last saved: 365\n",
      "Epoch 374:\n",
      "\n",
      "Evaluation Completed (valid)!\tLoss: -89.2697 Time: 0.525 s\n",
      "Not saving model! Last saved: 365\n",
      "Epoch 375:\n",
      "\n",
      "Evaluation Completed (valid)!\tLoss: -89.2423 Time: 0.524 s\n",
      "Not saving model! Last saved: 365\n",
      "Epoch 376:\n",
      "\n",
      "Evaluation Completed (valid)!\tLoss: -89.3488 Time: 0.525 s\n",
      "Not saving model! Last saved: 365\n",
      "Patience Limit Reached\n"
     ]
    }
   ],
   "source": [
    "N_EPOCHS = 10\n",
    "BEST_LOSS = 0\n",
    "LAST_SAVED = -1\n",
    "PATIENCE_COUNT = 0\n",
    "PATIENCE_LIMIT = 5\n",
    "for epoch in range(1, 1000):\n",
    "    print(\"Epoch {}:\".format(epoch))\n",
    "    sigtrain()\n",
    "    cur_loss = sigevaluate()\n",
    "\n",
    "    if cur_loss <= BEST_LOSS:\n",
    "        PATIENCE_COUNT = 0\n",
    "        BEST_LOSS = cur_loss\n",
    "        LAST_SAVED = epoch\n",
    "        print(\"Saving model!\")\n",
    "        torch.save(sigmodel.state_dict(),f\"/data/t3home000/spark/QUASAR/weights/{ae_def['type']}_{ae_def['trainon']}_{ae_def['features']}_{ae_def['architecture']}_{ae_def['selection']}_{ae_def['trainloss']}_{ae_def['beta']}_{ae_def['zdimnflow']}.h5\")\n",
    "        \n",
    "    else:\n",
    "        PATIENCE_COUNT += 1\n",
    "        print(\"Not saving model! Last saved: {}\".format(LAST_SAVED))\n",
    "        if PATIENCE_COUNT > 10:\n",
    "            print(\"Patience Limit Reached\")\n",
    "            break "
   ]
  },
  {
   "cell_type": "code",
   "execution_count": 53,
   "metadata": {},
   "outputs": [
    {
     "data": {
      "text/plain": [
       "<All keys matched successfully>"
      ]
     },
     "execution_count": 53,
     "metadata": {},
     "output_type": "execute_result"
    }
   ],
   "source": [
    "sigmodel.load_state_dict(torch.load(f\"/data/t3home000/spark/QUASAR/weights/{ae_def['type']}_{ae_def['trainon']}_{ae_def['features']}_{ae_def['architecture']}_{ae_def['selection']}_{ae_def['trainloss']}_{ae_def['beta']}_{ae_def['zdimnflow']}.h5\"))"
   ]
  },
  {
   "cell_type": "code",
   "execution_count": 54,
   "metadata": {},
   "outputs": [],
   "source": [
    "sigout = sigmodel(torch.tensor(Y).float().cuda())[0]\n",
    "sigout = sigout.data.cpu().numpy()"
   ]
  },
  {
   "cell_type": "code",
   "execution_count": 59,
   "metadata": {},
   "outputs": [
    {
     "data": {
      "text/plain": [
       "<matplotlib.lines.Line2D at 0x7fd2d04b5dd8>"
      ]
     },
     "execution_count": 59,
     "metadata": {},
     "output_type": "execute_result"
    },
    {
     "data": {
      "image/png": "[encoded data removed]",
      "text/plain": [
       "<Figure size 432x288 with 1 Axes>"
      ]
     },
     "metadata": {
      "needs_background": "light"
     },
     "output_type": "display_data"
    }
   ],
   "source": [
    "bins = np.linspace(-3,3,100)\n",
    "bins.shape\n",
    "column = 3\n",
    "#print(f_rnd.columns[column]\n",
    "plt.hist(Y[:,column],bins,alpha=0.5,color='b');\n",
    "plt.hist(sigout[:,column],bins,alpha=0.5,color='r');\n",
    "#plt.hist(out2[:,column],bins,alpha=0.5,color='g');\n",
    "plt.axvline(np.mean(Y[:,column]))"
   ]
  },
  {
   "cell_type": "code",
   "execution_count": 60,
   "metadata": {},
   "outputs": [],
   "source": [
    "mjj, j1mass, j2mass = [4000, 150, 150]\n",
    "f = pd.read_hdf(f\"/data/t3home000/spark/QUASAR/preprocessing/delphes_output_{mjj}_{j1mass}_{j2mass}.h5\")\n",
    "dt = f.values\n",
    "correct = (dt[:,3]>0) &(dt[:,19]>0) & (dt[:,1]>0) & (dt[:,2]>0)\n",
    "dt = dt[correct]\n",
    "for i in range(13,19):\n",
    "    dt[:,i] = dt[:,i]/dt[:,3]\n",
    "\n",
    "for i in range(29,35):\n",
    "    dt[:,i] = dt[:,i]/(dt[:,19])\n",
    "\n",
    "correct = (dt[:,0]>mjj-300) & (dt[:,0]<mjj+300)\n",
    "dt = dt[correct]\n",
    "\n",
    "correct = (dt[:,3]>j1mass-100) & (dt[:,3]<j1mass+100) & (dt[:,19]>j2mass-100) & (dt[:,19]<j2mass+100)\n",
    "dt = dt[correct]\n",
    "\n",
    "\n",
    "Y = dt[:,[3,4,5,6,11,12,19,20,21,22,27,28]]"
   ]
  },
  {
   "cell_type": "code",
   "execution_count": 61,
   "metadata": {},
   "outputs": [],
   "source": [
    "for i in range(12):\n",
    "    Y[:,i] = (Y[:,i]-sig_mean[i])/sig_std[i]"
   ]
  },
  {
   "cell_type": "code",
   "execution_count": 62,
   "metadata": {},
   "outputs": [],
   "source": [
    "sigout = sigmodel(torch.tensor(Y).float().cuda())[0]\n",
    "sigout = sigout.data.cpu().numpy()"
   ]
  },
  {
   "cell_type": "code",
   "execution_count": 68,
   "metadata": {},
   "outputs": [
    {
     "data": {
      "image/png": "[encoded data removed]",
      "text/plain": [
       "<Figure size 432x288 with 1 Axes>"
      ]
     },
     "metadata": {
      "needs_background": "light"
     },
     "output_type": "display_data"
    }
   ],
   "source": [
    "bins = np.linspace(-3,3,101)\n",
    "bins.shape\n",
    "column = 2\n",
    "#print(f_rnd.columns[column]\n",
    "#plt.hist(dt[:,column],bins,alpha=0.5,color='b');\n",
    "plt.hist(sigout[:,column],bins,alpha=0.5,color='r');\n",
    "plt.hist(Y[:,column],bins,alpha=0.5,color='g');\n",
    "#plt.axvline(np.mean(Y[:,column]))"
   ]
  },
  {
   "cell_type": "code",
   "execution_count": 69,
   "metadata": {},
   "outputs": [
    {
     "data": {
      "text/plain": [
       "<matplotlib.lines.Line2D at 0x7fd2984a78d0>"
      ]
     },
     "execution_count": 69,
     "metadata": {},
     "output_type": "execute_result"
    },
    {
     "data": {
      "image/png": "[encoded data removed]",
      "text/plain": [
       "<Figure size 432x288 with 1 Axes>"
      ]
     },
     "metadata": {
      "needs_background": "light"
     },
     "output_type": "display_data"
    }
   ],
   "source": [
    "bins = np.linspace(-3,3,100)\n",
    "bins.shape\n",
    "column = 5\n",
    "#print(f_rn.columns[column]\n",
    "plt.hist(Y[:,column],bins,alpha=0.5,color='b');\n",
    "plt.hist(sigout[:,column],bins,alpha=0.5,color='r');\n",
    "#plt.hist(out2[:,column],bins,alpha=0.5,color='g');\n",
    "plt.axvline(np.mean(Y[:,column]))"
   ]
  },
  {
   "cell_type": "code",
   "execution_count": null,
   "metadata": {},
   "outputs": [],
   "source": []
  },
  {
   "cell_type": "code",
   "execution_count": null,
   "metadata": {},
   "outputs": [],
   "source": []
  },
  {
   "cell_type": "code",
   "execution_count": 107,
   "metadata": {},
   "outputs": [],
   "source": [
    "varyj1mass_wps = ([4000, 150, 150],[4000, 300, 150],[4000, 450, 150],[4000, 500, 150],[4000, 650, 150],[4000, 700, 150],[4000, 850, 150],[4000, 900, 150])"
   ]
  },
  {
   "cell_type": "code",
   "execution_count": null,
   "metadata": {},
   "outputs": [],
   "source": []
  },
  {
   "cell_type": "code",
   "execution_count": null,
   "metadata": {},
   "outputs": [],
   "source": []
  },
  {
   "cell_type": "code",
   "execution_count": 102,
   "metadata": {},
   "outputs": [
    {
     "name": "stdout",
     "output_type": "stream",
     "text": [
      "(50885, 10)\n",
      "[1.2562833  1.0150101  4.63527    3.1353111  3.1270933  2.5498352\n",
      " 0.98916984 3.3142097  0.5134599  2.5206301 ]\n",
      "(49079, 10)\n",
      "[0.8910228  0.4618418  1.2828003  1.0181931  0.7241632  0.6351117\n",
      " 1.7559447  0.3825097  0.9646135  0.95724446]\n",
      "(40305, 10)\n",
      "[0.5540186  1.2050751  0.3490556  1.8467045  0.75147474 0.671209\n",
      " 1.4278493  1.7209883  0.83306026 1.0873885 ]\n",
      "(36079, 10)\n",
      "[0.4340822  7.6371846  1.1879708  0.43213457 0.3415988  0.5919516\n",
      " 0.70254576 0.65806735 2.201469   0.5131256 ]\n",
      "(20364, 10)\n",
      "[0.5014051  1.0378898  0.6118281  0.4327641  1.1696905  0.35628533\n",
      " 0.48016113 0.14187819 0.88088095 0.4277892 ]\n",
      "(14582, 10)\n",
      "[1.0281534  1.0762899  0.7548882  0.17842868 0.44157785 1.3323195\n",
      " 0.7724545  0.33537352 0.5283326  0.60084414]\n",
      "(1110, 10)\n",
      "[1.4535477  0.2469969  3.3151753  0.22895774 0.8264796  2.600779\n",
      " 1.0788665  0.63972807 1.0814985  1.4302014 ]\n",
      "(305, 10)\n",
      "[1.5050468 1.4343903 2.8387651 1.0893123 1.8100127 0.6711144 5.2034693\n",
      " 1.4315116 1.7810924 1.0626707]\n"
     ]
    },
    {
     "data": {
      "image/png": "[encoded data removed]",
      "text/plain": [
       "<Figure size 432x288 with 1 Axes>"
      ]
     },
     "metadata": {
      "needs_background": "light"
     },
     "output_type": "display_data"
    }
   ],
   "source": [
    "for mjj, j1mass, j2mass in varyj1mass_wps:\n",
    "    \n",
    "    f = pd.read_hdf(f\"/data/t3home000/spark/QUASAR/preprocessing/delphes_output_{mjj}_{j1mass}_{j2mass}.h5\")\n",
    "    dt = f.values\n",
    "    correct = (dt[:,3]>0) &(dt[:,19]>0) & (dt[:,1]>0) & (dt[:,2]>0)\n",
    "    dt = dt[correct]\n",
    "    for i in range(13,19):\n",
    "        dt[:,i] = dt[:,i]/dt[:,3]\n",
    "\n",
    "    for i in range(29,35):\n",
    "        dt[:,i] = dt[:,i]/(dt[:,19])\n",
    "        \n",
    "    correct = (dt[:,0]>mjj-300) & (dt[:,0]<mjj+300)\n",
    "    dt = dt[correct]\n",
    "\n",
    "    correct = (dt[:,3]>j1mass-100) & (dt[:,3]<j1mass+100) & (dt[:,19]>j2mass-100) & (dt[:,19]<j2mass+100)\n",
    "    dt = dt[correct]\n",
    "\n",
    "   \n",
    "    Y = dt[:,[4,5,6,11,12,20,21,22,27,28]]\n",
    "    #Y = dt[:,[3,4,5,6,11,12,13,14,15,16,17,18,19,20,21,22,27,28,29,30,31,32,33,34]]\n",
    "    #Y = dt[:,[3,4,5,6,11,12,13,14,15,16,17,18,19,20,21,22,27,28,29,30,31,32,33,34]]\n",
    "    #Y = dt[:,[3,4,5,6,11,12,19,20,21,22,27,28]]\n",
    "    \n",
    "\n",
    "        \n",
    "    \n",
    "            \n",
    "    print(Y.shape)\n",
    "    for i in range(10):\n",
    "        Y[:,i] = (Y[:,i]-sig_mean[i])/sig_std[i]\n",
    "    \n",
    "    total_bb_test = torch.tensor(Y)\n",
    "    #huberloss = nn.SmoothL1Loss(reduction='none')\n",
    "    sigae_bbloss = torch.mean((sigmodel(total_bb_test.float().cuda())[0]- total_bb_test.float().cuda())**2,dim=1).data.cpu().numpy()\n",
    "    bbvar = torch.var((sigmodel(total_bb_test.float().cuda())[0]- total_bb_test.float().cuda())**2,dim=1).data.cpu().numpy()\n",
    "    waic = sigae_bbloss + bbvar\n",
    "    #sigae_bbloss = torch.mean(huberloss(model(total_bb_test.float().cuda())[0],total_bb_test.float().cuda()),dim=1).data.cpu().numpy()\n",
    "    print(waic[0:10])\n",
    "    plt.hist(waic,bins=np.linspace(0,10,1001),density=True);\n",
    "    plt.xlim([0,2])\n",
    "    #np.save(out_file_waic,waic)\n",
    "    np.save(f'sigaetestprior4500500150_wp_{mjj}_{j1mass}_{j2mass}.npy',sigae_bbloss)"
   ]
  },
  {
   "cell_type": "code",
   "execution_count": 103,
   "metadata": {},
   "outputs": [],
   "source": [
    "losslist = []\n",
    "for mjj, j1mass, j2mass in varyj1mass_wps:\n",
    "\n",
    "    a = np.load(f'sigae_wp_{mjj}_{j1mass}_{j2mass}.npy')\n",
    "    losslist.append(a)\n",
    "    "
   ]
  },
  {
   "cell_type": "code",
   "execution_count": 104,
   "metadata": {},
   "outputs": [
    {
     "data": {
      "text/plain": [
       "array([0.2506657 , 0.45937157, 0.33064288, ..., 2.223935  , 0.28329286,\n",
       "       0.67881405], dtype=float32)"
      ]
     },
     "execution_count": 104,
     "metadata": {},
     "output_type": "execute_result"
    }
   ],
   "source": [
    "losslist[1]"
   ]
  },
  {
   "cell_type": "code",
   "execution_count": 105,
   "metadata": {},
   "outputs": [
    {
     "data": {
      "image/png": "[encoded data removed]",
      "text/plain": [
       "<Figure size 432x288 with 1 Axes>"
      ]
     },
     "metadata": {
      "needs_background": "light"
     },
     "output_type": "display_data"
    }
   ],
   "source": [
    "plt.hist(losslist[0],bins = np.arange(0,10,.1),alpha=0.2);\n",
    "plt.hist(losslist[1],bins = np.arange(0,10,.1),alpha=0.2);\n",
    "plt.hist(losslist[2],bins = np.arange(0,10,.1),alpha=0.2);\n",
    "plt.hist(losslist[3],bins = np.arange(0,10,.1),alpha=0.2);\n",
    "plt.hist(losslist[4],bins = np.arange(0,10,.1),alpha=0.2);"
   ]
  },
  {
   "cell_type": "code",
   "execution_count": null,
   "metadata": {},
   "outputs": [],
   "source": []
  },
  {
   "cell_type": "code",
   "execution_count": null,
   "metadata": {},
   "outputs": [],
   "source": []
  },
  {
   "cell_type": "code",
   "execution_count": 70,
   "metadata": {},
   "outputs": [],
   "source": [
    "inputlist = [\n",
    "    '/data/t3home000/spark/QUASAR/preprocessing/conventional_tau_BB1_rnd.h5',\n",
    "    '/data/t3home000/spark/QUASAR/preprocessing/conventional_tau_BB2.h5',\n",
    "    '/data/t3home000/spark/QUASAR/preprocessing/conventional_tau_BB3.h5',\n",
    "    '/data/t3home000/spark/QUASAR/preprocessing/conventional_tau_background.h5',\n",
    "    '/data/t3home000/spark/QUASAR/preprocessing/conventional_tau_rnd.h5',\n",
    "    '/data/t3home000/spark/QUASAR/preprocessing/conventional_tau_rnd.h5', \n",
    "    '/data/t3home000/spark/QUASAR/preprocessing/conventional_tau_3prong_rnd.h5',\n",
    "    '/data/t3home000/spark/QUASAR/preprocessing/delphes_output_4500_500_150.h5'\n",
    "    \n",
    "]"
   ]
  },
  {
   "cell_type": "code",
   "execution_count": 71,
   "metadata": {},
   "outputs": [
    {
     "data": {
      "text/plain": [
       "{'type': 'sig',\n",
       " 'trainon': '3prong',\n",
       " 'features': '12features',\n",
       " 'architecture': 'MAF',\n",
       " 'selection': 'mjj4500_nojetmasscut',\n",
       " 'trainloss': 'MSELoss',\n",
       " 'beta': 'beta1',\n",
       " 'zdimnflow': 'z8f10'}"
      ]
     },
     "execution_count": 71,
     "metadata": {},
     "output_type": "execute_result"
    }
   ],
   "source": [
    "ae_def"
   ]
  },
  {
   "cell_type": "code",
   "execution_count": 72,
   "metadata": {},
   "outputs": [],
   "source": [
    "outputlist_waic = [\n",
    "    f\"../data_strings/{ae_def['type']}_{ae_def['trainon']}_{ae_def['features']}_{ae_def['selection']}_{ae_def['trainloss']}_{ae_def['beta']}_{ae_def['zdimnflow']}_WAICloss_bb1.npy\",\n",
    "    f\"../data_strings/{ae_def['type']}_{ae_def['trainon']}_{ae_def['features']}_{ae_def['selection']}_{ae_def['trainloss']}_{ae_def['beta']}_{ae_def['zdimnflow']}_WAICloss_bb2.npy\",\n",
    "    f\"../data_strings/{ae_def['type']}_{ae_def['trainon']}_{ae_def['features']}_{ae_def['selection']}_{ae_def['trainloss']}_{ae_def['beta']}_{ae_def['zdimnflow']}_WAICloss_bb3.npy\",\n",
    "    f\"../data_strings/{ae_def['type']}_{ae_def['trainon']}_{ae_def['features']}_{ae_def['selection']}_{ae_def['trainloss']}_{ae_def['beta']}_{ae_def['zdimnflow']}_WAICloss_purebkg.npy\",\n",
    "    f\"../data_strings/{ae_def['type']}_{ae_def['trainon']}_{ae_def['features']}_{ae_def['selection']}_{ae_def['trainloss']}_{ae_def['beta']}_{ae_def['zdimnflow']}_WAICloss_rndbkg.npy\",\n",
    "    f\"../data_strings/{ae_def['type']}_{ae_def['trainon']}_{ae_def['features']}_{ae_def['selection']}_{ae_def['trainloss']}_{ae_def['beta']}_{ae_def['zdimnflow']}_WAICloss_2prong.npy\",\n",
    "    f\"../data_strings/{ae_def['type']}_{ae_def['trainon']}_{ae_def['features']}_{ae_def['selection']}_{ae_def['trainloss']}_{ae_def['beta']}_{ae_def['zdimnflow']}_WAICloss_3prong.npy\",\n",
    "    f\"../data_strings/{ae_def['type']}_{ae_def['trainon']}_{ae_def['features']}_{ae_def['selection']}_{ae_def['trainloss']}_{ae_def['beta']}_{ae_def['zdimnflow']}_WAICloss_4500.npy\"\n",
    "]\n",
    "\n",
    "outputlist_justloss = [\n",
    "    f\"../data_strings/{ae_def['type']}_{ae_def['trainon']}_{ae_def['features']}_{ae_def['selection']}_{ae_def['trainloss']}_{ae_def['beta']}_{ae_def['zdimnflow']}_Justloss_bb1.npy\",\n",
    "    f\"../data_strings/{ae_def['type']}_{ae_def['trainon']}_{ae_def['features']}_{ae_def['selection']}_{ae_def['trainloss']}_{ae_def['beta']}_{ae_def['zdimnflow']}_Justloss_bb2.npy\",\n",
    "    f\"../data_strings/{ae_def['type']}_{ae_def['trainon']}_{ae_def['features']}_{ae_def['selection']}_{ae_def['trainloss']}_{ae_def['beta']}_{ae_def['zdimnflow']}_Justloss_bb3.npy\",\n",
    "    f\"../data_strings/{ae_def['type']}_{ae_def['trainon']}_{ae_def['features']}_{ae_def['selection']}_{ae_def['trainloss']}_{ae_def['beta']}_{ae_def['zdimnflow']}_Justloss_purebkg.npy\",\n",
    "    f\"../data_strings/{ae_def['type']}_{ae_def['trainon']}_{ae_def['features']}_{ae_def['selection']}_{ae_def['trainloss']}_{ae_def['beta']}_{ae_def['zdimnflow']}_Justloss_rndbkg.npy\",\n",
    "    f\"../data_strings/{ae_def['type']}_{ae_def['trainon']}_{ae_def['features']}_{ae_def['selection']}_{ae_def['trainloss']}_{ae_def['beta']}_{ae_def['zdimnflow']}_Justloss_2prong.npy\",\n",
    "    f\"../data_strings/{ae_def['type']}_{ae_def['trainon']}_{ae_def['features']}_{ae_def['selection']}_{ae_def['trainloss']}_{ae_def['beta']}_{ae_def['zdimnflow']}_Justloss_3prong.npy\",\n",
    "    f\"../data_strings/{ae_def['type']}_{ae_def['trainon']}_{ae_def['features']}_{ae_def['selection']}_{ae_def['trainloss']}_{ae_def['beta']}_{ae_def['zdimnflow']}_Justloss_4500.npy\"\n",
    "]"
   ]
  },
  {
   "cell_type": "code",
   "execution_count": 73,
   "metadata": {},
   "outputs": [],
   "source": [
    "exist_signalflag = [\n",
    "    False,\n",
    "    False,\n",
    "    False,\n",
    "    False,\n",
    "    True,\n",
    "    True,\n",
    "    True,\n",
    "    False,\n",
    "]\n",
    "is_signal = [\n",
    "    False,\n",
    "    False,\n",
    "    False,\n",
    "    False,\n",
    "    False,\n",
    "    True,\n",
    "    True,\n",
    "    True\n",
    "    \n",
    "]\n",
    "\n",
    "nprong = [\n",
    "    None,\n",
    "    None,\n",
    "    None,\n",
    "    None,\n",
    "    None,\n",
    "    '2prong',\n",
    "    '3prong',\n",
    "    '4500'\n",
    "    \n",
    "]"
   ]
  },
  {
   "cell_type": "code",
   "execution_count": 74,
   "metadata": {
    "scrolled": true
   },
   "outputs": [
    {
     "name": "stdout",
     "output_type": "stream",
     "text": [
      "(488280, 12)\n",
      "[   4.7194996    2.8188367   31.315178     2.756485     8.46459\n",
      "    9.533489    13.457454  2620.0085       2.9338183    4.8980436]\n",
      "(505248, 12)\n",
      "[ 11.387151    5.502649    6.66521    64.66336   291.8396     48.59631\n",
      "   1.56672    18.174734    3.5265427   1.0036907]\n",
      "(491884, 12)\n",
      "[2.9693577 3.638872  1.7521389 6.586632  4.030341  1.5751424 0.9993878\n",
      " 2.077943  6.8376703 3.4506798]\n",
      "(499489, 12)\n",
      "[ 6.3167     4.940252   0.5492481 12.029004   4.439932  15.031258\n",
      "  4.5505686 10.195691   2.188146   4.007696 ]\n",
      "(587907, 12)\n",
      "[ 0.71913344  4.3438206   6.439454    2.0758038  10.194782   95.84833\n",
      "  3.0597253   1.4067264  11.093575    8.291598  ]\n",
      "(31923, 12)\n",
      "[ 5.6426625  3.7302885  7.7646484  4.9270196  4.9736047  3.5290728\n",
      "  4.423126   7.62922   10.038872   3.2536607]\n",
      "(37441, 12)\n",
      "[3.1578026 6.480542  5.0173473 6.905368  8.612096  5.4395714 7.584311\n",
      " 6.36209   6.369811  5.0555463]\n",
      "(26448, 12)\n",
      "[2.5932555 2.7761445 5.172421  3.2248294 2.08993   3.0205383 3.8928516\n",
      " 4.5390253 3.4748507 2.9204848]\n"
     ]
    },
    {
     "data": {
      "image/png": "[encoded data removed]",
      "text/plain": [
       "<Figure size 432x288 with 1 Axes>"
      ]
     },
     "metadata": {
      "needs_background": "light"
     },
     "output_type": "display_data"
    }
   ],
   "source": [
    "for in_file, out_file_waic, out_file_justloss, sigbit_flag, is_sig, n_prong in zip(inputlist,outputlist_waic,outputlist_justloss,exist_signalflag,is_signal, nprong):    \n",
    "    \n",
    "    f_bb = pd.read_hdf(in_file)\n",
    "    dt = f_bb.values\n",
    "    #correct = (dt[:,3]>0) &(dt[:,19]>0) & (dt[:,1]>0) & (dt[:,2]>0) &(dt[:,2]>0) & (dt[:,16]>0) & (dt[:,32]>0)\n",
    "    #dt = dt[correct]\n",
    "    correct = (dt[:,3]>0) &(dt[:,19]>0) & (dt[:,1]>0) & (dt[:,2]>0)\n",
    "    dt = dt[correct]\n",
    "    for i in range(13,19):\n",
    "        dt[:,i] = dt[:,i]/dt[:,3]\n",
    "\n",
    "    for i in range(29,35):\n",
    "        dt[:,i] = dt[:,i]/(dt[:,19])\n",
    "\n",
    "\n",
    "    #correct = (dt[:,16]>0) & (dt[:,29]>=0) &(dt[:,29]<=1)&(dt[:,30]>=0) &(dt[:,30]<=1)&(dt[:,31]>=0) &(dt[:,31]<=1)&(dt[:,32]>=0) &(dt[:,32]<=1)&(dt[:,33]>=0) &(dt[:,33]<=1)&(dt[:,34]>=-0.01) &(dt[:,34]<=1)\n",
    "    #dt = dt[correct]\n",
    "    #correct = (dt[:,3]>100)\n",
    "    #dt = dt[correct]\n",
    "\n",
    "    #correct = (dt[:,19]>20)\n",
    "    #dt = dt[correct]\n",
    "\n",
    "    correct = (dt[:,0]>=2800)\n",
    "    dt = dt[correct]\n",
    "\n",
    "    #bsmlike = np.where(dt[:,16]>0.9)[0]\n",
    "    #dt = dt[bsmlike]\n",
    "\n",
    "    if sigbit_flag:\n",
    "        idx = dt[:,-1]\n",
    "        sigidx = (idx == 1)\n",
    "        bkgidx = (idx == 0)\n",
    "        if is_sig:\n",
    "            dt = dt[sigidx]\n",
    "        else:\n",
    "            dt = dt[bkgidx]\n",
    "            \n",
    "    if n_prong == '2prong':\n",
    "        \n",
    "        correct = (dt[:,3]>450) & (dt[:,3]<550) & (dt[:,19]>50) & (dt[:,19]<150) & (dt[:,0]>3400) & (dt[:,0]<3600)\n",
    "        dt = dt[correct]\n",
    "    \n",
    "    if n_prong == '3prong':\n",
    "        \n",
    "        correct = (dt[:,3]>450) & (dt[:,3]<550) & (dt[:,19]>50) & (dt[:,19]<150) & (dt[:,0]>3400) & (dt[:,0]<3600)\n",
    "        dt = dt[correct] \n",
    "        \n",
    "    if n_prong == '4500':\n",
    "        \n",
    "        correct = (dt[:,3]>450) & (dt[:,3]<550) & (dt[:,19]>100) & (dt[:,19]<200) & (dt[:,0]>4200) & (dt[:,0]<4800)\n",
    "        dt = dt[correct]   \n",
    "    \n",
    "    Y = dt[:,[3,4,5,6,11,12,19,20,21,22,27,28]]\n",
    "    #Y = dt[:,[3,4,5,6,11,12,13,14,15,16,17,18,19,20,21,22,27,28,29,30,31,32,33,34]]\n",
    "    #Y = dt[:,[3,4,5,6,11,12,13,14,15,16,17,18,19,20,21,22,27,28,29,30,31,32,33,34]]\n",
    "    #Y = dt[:,[3,4,5,6,11,12,19,20,21,22,27,28]]\n",
    "    \n",
    "\n",
    "        \n",
    "    \n",
    "            \n",
    "    print(Y.shape)\n",
    "    for i in range(12):\n",
    "        Y[:,i] = (Y[:,i]-sig_mean[i])/sig_std[i]\n",
    "    \n",
    "    total_bb_test = torch.tensor(Y)\n",
    "    #huberloss = nn.SmoothL1Loss(reduction='none')\n",
    "    sigae_bbloss = torch.mean((sigmodel(total_bb_test.float().cuda())[0]- total_bb_test.float().cuda())**2,dim=1).data.cpu().numpy()\n",
    "    bbvar = torch.var((sigmodel(total_bb_test.float().cuda())[0]- total_bb_test.float().cuda())**2,dim=1).data.cpu().numpy()\n",
    "    waic = sigae_bbloss + bbvar\n",
    "    #sigae_bbloss = torch.mean(huberloss(model(total_bb_test.float().cuda())[0],total_bb_test.float().cuda()),dim=1).data.cpu().numpy()\n",
    "    print(waic[0:10])\n",
    "    plt.hist(waic,bins=np.linspace(0,10,1001),density=True);\n",
    "    plt.xlim([0,2])\n",
    "    np.save(out_file_waic,waic)\n",
    "    np.save(out_file_justloss,sigae_bbloss)"
   ]
  },
  {
   "cell_type": "code",
   "execution_count": 75,
   "metadata": {},
   "outputs": [
    {
     "name": "stdout",
     "output_type": "stream",
     "text": [
      "../data_strings/sig_3prong_12features_mjj4500_nojetmasscut_MSELoss_beta1_z8f10_Justloss_3prong.npy\n"
     ]
    }
   ],
   "source": [
    "print(f\"../data_strings/{ae_def['type']}_{ae_def['trainon']}_{ae_def['features']}_{ae_def['selection']}_{ae_def['trainloss']}_{ae_def['beta']}_{ae_def['zdimnflow']}_Justloss_3prong.npy\")"
   ]
  },
  {
   "cell_type": "code",
   "execution_count": 76,
   "metadata": {},
   "outputs": [],
   "source": [
    "loss_prong3 = np.load(f\"../data_strings/{ae_def['type']}_{ae_def['trainon']}_{ae_def['features']}_{ae_def['selection']}_{ae_def['trainloss']}_{ae_def['beta']}_{ae_def['zdimnflow']}_Justloss_3prong.npy\")\n",
    "loss_prong2 = np.load(f\"../data_strings/{ae_def['type']}_{ae_def['trainon']}_{ae_def['features']}_{ae_def['selection']}_{ae_def['trainloss']}_{ae_def['beta']}_{ae_def['zdimnflow']}_Justloss_2prong.npy\")\n",
    "loss_purebkg = np.load(f\"../data_strings/{ae_def['type']}_{ae_def['trainon']}_{ae_def['features']}_{ae_def['selection']}_{ae_def['trainloss']}_{ae_def['beta']}_{ae_def['zdimnflow']}_Justloss_purebkg.npy\")\n",
    "loss_rndbkg = np.load(f\"../data_strings/{ae_def['type']}_{ae_def['trainon']}_{ae_def['features']}_{ae_def['selection']}_{ae_def['trainloss']}_{ae_def['beta']}_{ae_def['zdimnflow']}_Justloss_rndbkg.npy\")\n",
    "loss_4500 = np.load(f\"../data_strings/{ae_def['type']}_{ae_def['trainon']}_{ae_def['features']}_{ae_def['selection']}_{ae_def['trainloss']}_{ae_def['beta']}_{ae_def['zdimnflow']}_Justloss_4500.npy\")\n",
    "\n",
    "\n",
    "\n",
    "\n"
   ]
  },
  {
   "cell_type": "code",
   "execution_count": 77,
   "metadata": {},
   "outputs": [
    {
     "data": {
      "text/plain": [
       "<matplotlib.legend.Legend at 0x7fd2e0649048>"
      ]
     },
     "execution_count": 77,
     "metadata": {},
     "output_type": "execute_result"
    },
    {
     "data": {
      "image/png": "[encoded data removed]",
      "text/plain": [
       "<Figure size 432x288 with 1 Axes>"
      ]
     },
     "metadata": {
      "needs_background": "light"
     },
     "output_type": "display_data"
    }
   ],
   "source": [
    "plt.hist(loss_rndbkg,bins=np.linspace(0,10,100),density=True,alpha=0.3,label='Pure Bkg');\n",
    "#plt.hist(loss_rndbkg,bins=np.linspace(0,2,100),density=False,alpha=0.3,label='(rnd) bkg');\n",
    "\n",
    "plt.hist(loss_prong2,bins=np.linspace(0,10,100),density=True,alpha=0.3,label='2prong (rnd)sig');\n",
    "plt.hist(loss_prong3,bins=np.linspace(0,10,100),density=True,alpha=0.3,label='3prong (rnd)sig');\n",
    "plt.hist(loss_4500,bins=np.linspace(0,10,100),density=True,alpha=0.3,label='2prong 4500');\n",
    "\n",
    "#plt.yscale('log')\n",
    "plt.xlabel('Loss (SigAE trained on 2prong sig)')\n",
    "plt.legend(loc='upper right')\n",
    "#plt.savefig('sigae_trained_on_2prongsig.png')"
   ]
  },
  {
   "cell_type": "code",
   "execution_count": 104,
   "metadata": {},
   "outputs": [
    {
     "data": {
      "text/plain": [
       "<matplotlib.legend.Legend at 0x7ff8463a7160>"
      ]
     },
     "execution_count": 104,
     "metadata": {},
     "output_type": "execute_result"
    },
    {
     "data": {
      "image/png": "[encoded data removed]",
      "text/plain": [
       "<Figure size 432x288 with 1 Axes>"
      ]
     },
     "metadata": {
      "needs_background": "light"
     },
     "output_type": "display_data"
    }
   ],
   "source": [
    "plt.hist(loss_rndbkg,bins=np.linspace(0,10,100),density=True,alpha=0.3,label='Pure Bkg');\n",
    "#plt.hist(loss_rndbkg,bins=np.linspace(0,2,100),density=False,alpha=0.3,label='(rnd) bkg');\n",
    "\n",
    "plt.hist(loss_prong2,bins=np.linspace(0,10,100),density=True,alpha=0.3,label='2prong (rnd)sig');\n",
    "plt.hist(loss_prong3,bins=np.linspace(0,10,100),density=True,alpha=0.3,label='3prong (rnd)sig');\n",
    "#plt.yscale('log')\n",
    "plt.xlabel('Loss (SigAE trained on 2prong sig)')\n",
    "plt.legend(loc='upper right')\n",
    "#plt.savefig('sigae_trained_on_2prongsig.png')"
   ]
  },
  {
   "cell_type": "code",
   "execution_count": 47,
   "metadata": {
    "scrolled": true
   },
   "outputs": [
    {
     "data": {
      "text/plain": [
       "55539"
      ]
     },
     "execution_count": 47,
     "metadata": {},
     "output_type": "execute_result"
    }
   ],
   "source": [
    "len(loss_prong2)"
   ]
  },
  {
   "cell_type": "code",
   "execution_count": 41,
   "metadata": {},
   "outputs": [
    {
     "data": {
      "text/plain": [
       "['../data_strings/sig_2prong_tauDDTwithoutrawmass_turnoncutandj1sdbcut0p9_MSELoss_beta1_z6f10_WAICloss_bb1.npy',\n",
       " '../data_strings/sig_2prong_tauDDTwithoutrawmass_turnoncutandj1sdbcut0p9_MSELoss_beta1_z6f10_WAICloss_bb2.npy',\n",
       " '../data_strings/sig_2prong_tauDDTwithoutrawmass_turnoncutandj1sdbcut0p9_MSELoss_beta1_z6f10_WAICloss_bb3.npy',\n",
       " '../data_strings/sig_2prong_tauDDTwithoutrawmass_turnoncutandj1sdbcut0p9_MSELoss_beta1_z6f10_WAICloss_purebkg.npy',\n",
       " '../data_strings/sig_2prong_tauDDTwithoutrawmass_turnoncutandj1sdbcut0p9_MSELoss_beta1_z6f10_WAICloss_rndbkg.npy',\n",
       " '../data_strings/sig_2prong_tauDDTwithoutrawmass_turnoncutandj1sdbcut0p9_MSELoss_beta1_z6f10_WAICloss_2prong.npy',\n",
       " '../data_strings/sig_2prong_tauDDTwithoutrawmass_turnoncutandj1sdbcut0p9_MSELoss_beta1_z6f10_WAICloss_3prong.npy']"
      ]
     },
     "execution_count": 41,
     "metadata": {},
     "output_type": "execute_result"
    }
   ],
   "source": [
    "outputlist_waic"
   ]
  },
  {
   "cell_type": "code",
   "execution_count": 42,
   "metadata": {},
   "outputs": [
    {
     "data": {
      "text/plain": [
       "['../data_strings/sig_2prong_tauDDTwithoutrawmass_turnoncutandj1sdbcut0p9_MSELoss_beta1_z6f10_Justloss_bb1.npy',\n",
       " '../data_strings/sig_2prong_tauDDTwithoutrawmass_turnoncutandj1sdbcut0p9_MSELoss_beta1_z6f10_Justloss_bb2.npy',\n",
       " '../data_strings/sig_2prong_tauDDTwithoutrawmass_turnoncutandj1sdbcut0p9_MSELoss_beta1_z6f10_Justloss_bb3.npy',\n",
       " '../data_strings/sig_2prong_tauDDTwithoutrawmass_turnoncutandj1sdbcut0p9_MSELoss_beta1_z6f10_Justloss_purebkg.npy',\n",
       " '../data_strings/sig_2prong_tauDDTwithoutrawmass_turnoncutandj1sdbcut0p9_MSELoss_beta1_z6f10_Justloss_rndbkg.npy',\n",
       " '../data_strings/sig_2prong_tauDDTwithoutrawmass_turnoncutandj1sdbcut0p9_MSELoss_beta1_z6f10_Justloss_2prong.npy',\n",
       " '../data_strings/sig_2prong_tauDDTwithoutrawmass_turnoncutandj1sdbcut0p9_MSELoss_beta1_z6f10_Justloss_3prong.npy']"
      ]
     },
     "execution_count": 42,
     "metadata": {},
     "output_type": "execute_result"
    }
   ],
   "source": [
    "outputlist_justloss"
   ]
  },
  {
   "cell_type": "code",
   "execution_count": 34,
   "metadata": {},
   "outputs": [
    {
     "data": {
      "text/plain": [
       "array([ 2832.3672,  8125.47  , 29922.496 , ...,  2359.0386,  2635.9333,\n",
       "         640.2169], dtype=float32)"
      ]
     },
     "execution_count": 34,
     "metadata": {},
     "output_type": "execute_result"
    }
   ],
   "source": [
    "sigae_bbloss"
   ]
  },
  {
   "cell_type": "code",
   "execution_count": 58,
   "metadata": {
    "scrolled": true
   },
   "outputs": [
    {
     "data": {
      "text/plain": [
       "{'type': 'sig',\n",
       " 'trainon': '2prong',\n",
       " 'features': 'cwola',\n",
       " 'architecture': 'MAF',\n",
       " 'selection': 'turnoncutandj1sdbcut0p9',\n",
       " 'trainloss': 'MSELoss',\n",
       " 'beta': 'beta1',\n",
       " 'zdimnflow': 'z8f8'}"
      ]
     },
     "execution_count": 58,
     "metadata": {},
     "output_type": "execute_result"
    }
   ],
   "source": [
    "ae_def"
   ]
  },
  {
   "cell_type": "code",
   "execution_count": 141,
   "metadata": {
    "scrolled": true
   },
   "outputs": [
    {
     "data": {
      "text/plain": [
       "array([0.46685678, 1.5879018 , 0.58936137, ..., 0.59082854, 0.70994604,\n",
       "       0.70424944], dtype=float32)"
      ]
     },
     "execution_count": 141,
     "metadata": {},
     "output_type": "execute_result"
    }
   ],
   "source": [
    "sigae_bbloss"
   ]
  },
  {
   "cell_type": "code",
   "execution_count": 142,
   "metadata": {},
   "outputs": [
    {
     "data": {
      "image/png": "[encoded data removed]",
      "text/plain": [
       "<Figure size 432x288 with 1 Axes>"
      ]
     },
     "metadata": {
      "needs_background": "light"
     },
     "output_type": "display_data"
    }
   ],
   "source": [
    "plt.hist(sigae_bbloss,bins=np.linspace(0,10,1001));"
   ]
  },
  {
   "cell_type": "code",
   "execution_count": 60,
   "metadata": {},
   "outputs": [],
   "source": [
    "np.save('../data_strings/sigae_2prong_loss_bb3.npy',sigae_bbloss)"
   ]
  },
  {
   "cell_type": "code",
   "execution_count": null,
   "metadata": {},
   "outputs": [],
   "source": []
  },
  {
   "cell_type": "code",
   "execution_count": null,
   "metadata": {},
   "outputs": [],
   "source": []
  },
  {
   "cell_type": "code",
   "execution_count": 211,
   "metadata": {},
   "outputs": [],
   "source": [
    "X_bkg = dt[:,[3,4,5,6,11,12,19,20,21,22,27,28]]\n",
    "X_bkg = X_bkg[bkg_idx]"
   ]
  },
  {
   "cell_type": "code",
   "execution_count": 212,
   "metadata": {},
   "outputs": [],
   "source": [
    "for i in range(12):\n",
    "    X_bkg[:,i] = (X_bkg[:,i]-sig_mean[i])/sig_std[i]"
   ]
  },
  {
   "cell_type": "code",
   "execution_count": 161,
   "metadata": {},
   "outputs": [],
   "source": [
    "total_bkg_test = torch.tensor(X_bkg)"
   ]
  },
  {
   "cell_type": "code",
   "execution_count": 162,
   "metadata": {},
   "outputs": [],
   "source": [
    "sigae_bkgloss = torch.mean((sigmodel(total_bkg_test.float().cuda())[0]- total_bkg_test.float().cuda())**2,dim=1).data.cpu().numpy()"
   ]
  },
  {
   "cell_type": "code",
   "execution_count": 163,
   "metadata": {},
   "outputs": [],
   "source": [
    "sigae_sigloss = torch.mean((sigmodel(total_sig.float().cuda())[0]- total_sig.float().cuda())**2,dim=1).data.cpu().numpy()"
   ]
  },
  {
   "cell_type": "code",
   "execution_count": 176,
   "metadata": {},
   "outputs": [],
   "source": [
    "f_3prong = pd.read_hdf(\"/data/t3home000/spark/QUASAR/preprocessing/conventional_tau_3prong_rnd.h5\")"
   ]
  },
  {
   "cell_type": "code",
   "execution_count": null,
   "metadata": {},
   "outputs": [],
   "source": []
  },
  {
   "cell_type": "code",
   "execution_count": null,
   "metadata": {},
   "outputs": [],
   "source": []
  },
  {
   "cell_type": "code",
   "execution_count": 309,
   "metadata": {},
   "outputs": [],
   "source": [
    "f_bb1 = pd.read_hdf('/data/t3home000/spark/QUASAR/preprocessing/conventional_tau_BB1_rnd.h5')"
   ]
  },
  {
   "cell_type": "code",
   "execution_count": 310,
   "metadata": {},
   "outputs": [],
   "source": [
    "dt_bb1 = f_bb1.values"
   ]
  },
  {
   "cell_type": "code",
   "execution_count": 311,
   "metadata": {},
   "outputs": [],
   "source": [
    "X_bb1 = dt_bb1[:,[3,4,5,6,11,12,19,20,21,22,27,28]]"
   ]
  },
  {
   "cell_type": "code",
   "execution_count": 312,
   "metadata": {},
   "outputs": [
    {
     "data": {
      "text/plain": [
       "(1000000, 12)"
      ]
     },
     "execution_count": 312,
     "metadata": {},
     "output_type": "execute_result"
    }
   ],
   "source": [
    "X_bb1.shape"
   ]
  },
  {
   "cell_type": "code",
   "execution_count": 313,
   "metadata": {},
   "outputs": [
    {
     "data": {
      "text/plain": [
       "[416.4436327724198,\n",
       " 0.259460143970101,\n",
       " 0.6475599434564594,\n",
       " 0.7747571031756559,\n",
       " 1.4414801240204307,\n",
       " 232.28881387172063,\n",
       " 115.19219609387073,\n",
       " 0.4000458937255977,\n",
       " 0.6497184345343743,\n",
       " 0.7592483240780288,\n",
       " 1.5724873295094448,\n",
       " 139.77741938715204]"
      ]
     },
     "execution_count": 313,
     "metadata": {},
     "output_type": "execute_result"
    }
   ],
   "source": [
    "sig_mean"
   ]
  },
  {
   "cell_type": "code",
   "execution_count": 314,
   "metadata": {},
   "outputs": [
    {
     "data": {
      "text/plain": [
       "[154.19379540115423,\n",
       " 0.17056704944179107,\n",
       " 0.14978212617036485,\n",
       " 0.09894407762923978,\n",
       " 0.4886539241053714,\n",
       " 87.70941099970253,\n",
       " 49.68849330603538,\n",
       " 0.1622952691607605,\n",
       " 0.14863130231138283,\n",
       " 0.10503384225762816,\n",
       " 0.6713928483438475,\n",
       " 48.672440905600446]"
      ]
     },
     "execution_count": 314,
     "metadata": {},
     "output_type": "execute_result"
    }
   ],
   "source": [
    "sig_std"
   ]
  },
  {
   "cell_type": "code",
   "execution_count": 315,
   "metadata": {},
   "outputs": [],
   "source": [
    "for i in range(12):\n",
    "    X_bb1[:,i] = (X_bb1[:,i]-sig_mean[i])/sig_std[i]"
   ]
  },
  {
   "cell_type": "code",
   "execution_count": 317,
   "metadata": {},
   "outputs": [
    {
     "data": {
      "text/plain": [
       "(array([246458., 189649., 134796.,  95188.,  64278.,  40409.,  20912.,\n",
       "          9337.,   4219.]),\n",
       " array([-2.        , -1.55555556, -1.11111111, -0.66666667, -0.22222222,\n",
       "         0.22222222,  0.66666667,  1.11111111,  1.55555556,  2.        ]),\n",
       " <a list of 9 Patch objects>)"
      ]
     },
     "execution_count": 317,
     "metadata": {},
     "output_type": "execute_result"
    },
    {
     "data": {
      "image/png": "[encoded data removed]",
      "text/plain": [
       "<Figure size 720x720 with 1 Axes>"
      ]
     },
     "metadata": {
      "needs_background": "light"
     },
     "output_type": "display_data"
    }
   ],
   "source": [
    "plt.hist(X_bb1[:,0],bins = np.linspace(-2,2,10))"
   ]
  },
  {
   "cell_type": "code",
   "execution_count": null,
   "metadata": {},
   "outputs": [],
   "source": []
  },
  {
   "cell_type": "code",
   "execution_count": 318,
   "metadata": {},
   "outputs": [
    {
     "ename": "TypeError",
     "evalue": "'type' object is not iterable",
     "output_type": "error",
     "traceback": [
      "\u001b[0;31m---------------------------------------------------------------------------\u001b[0m",
      "\u001b[0;31mTypeError\u001b[0m                                 Traceback (most recent call last)",
      "\u001b[0;32m<ipython-input-318-3425ef769b7f>\u001b[0m in \u001b[0;36m<module>\u001b[0;34m\u001b[0m\n\u001b[0;32m----> 1\u001b[0;31m \u001b[0;34m(\u001b[0m\u001b[0mtorch\u001b[0m\u001b[0;34m.\u001b[0m\u001b[0mtensor\u001b[0m\u001b[0;34m(\u001b[0m\u001b[0mdt\u001b[0m\u001b[0;34m[\u001b[0m\u001b[0mi\u001b[0m \u001b[0;34m*\u001b[0m \u001b[0mchunk_size\u001b[0m\u001b[0;34m:\u001b[0m\u001b[0;34m(\u001b[0m\u001b[0mi\u001b[0m \u001b[0;34m+\u001b[0m \u001b[0;36m1\u001b[0m\u001b[0;34m)\u001b[0m \u001b[0;34m*\u001b[0m \u001b[0mchunk_size\u001b[0m\u001b[0;34m]\u001b[0m\u001b[0;34m)\u001b[0m \u001b[0;32mfor\u001b[0m \u001b[0mi\u001b[0m \u001b[0;32min\u001b[0m \u001b[0mrange\u001b[0m \u001b[0;34m)\u001b[0m\u001b[0;34m\u001b[0m\u001b[0;34m\u001b[0m\u001b[0m\n\u001b[0m",
      "\u001b[0;31mTypeError\u001b[0m: 'type' object is not iterable"
     ]
    }
   ],
   "source": [
    "(torch.tensor(dt[i * chunk_size:(i + 1) * chunk_size]) for i in range ) "
   ]
  },
  {
   "cell_type": "code",
   "execution_count": 319,
   "metadata": {},
   "outputs": [],
   "source": [
    "def get_loss(dt):\n",
    "    \n",
    "    chunk_size=5000 \n",
    "    total_size=1000000\n",
    "    i = 0\n",
    "    i_max = total_size // chunk_size\n",
    "\n",
    "    print(i_max)\n",
    "    \n",
    "    \n",
    "    \n",
    "    gen = (torch.tensor(dt[i*chunk_size: (i + 1) * chunk_size]) for i in range(i_max)) \n",
    "\n",
    "        \n",
    "    with torch.no_grad():\n",
    "        \n",
    "        loss = [\n",
    "            n\n",
    "            for total_in_selection in gen\n",
    "            for n in torch.mean((sigmodel(total_in_selection.float().cuda())[0]- total_in_selection.float().cuda())**2,dim=1).data.cpu().numpy()\n",
    "        ]\n",
    "        \n",
    "    return loss"
   ]
  },
  {
   "cell_type": "code",
   "execution_count": 287,
   "metadata": {},
   "outputs": [],
   "source": [
    "def get_loss(dt):\n",
    "    \n",
    "    def generator(dt, chunk_size=5000, total_size=1000000):\n",
    "\n",
    "        i = 0\n",
    "        i_max = total_size // chunk_size\n",
    "        print(i_max)\n",
    "    \n",
    "        for i in range(i_max):\n",
    "            start=i * chunk_size\n",
    "            stop=(i + 1) * chunk_size\n",
    "            yield torch.tensor(dt[start:stop])\n",
    "        \n",
    "    loss = []\n",
    "\n",
    "    \n",
    "    with torch.no_grad():\n",
    "        \n",
    "        for total_in_selection in generator(dt,chunk_size=5000, total_size=1000000):\n",
    "            loss.extend(torch.mean((sigmodel(total_in_selection.float().cuda())[0]- total_in_selection.float().cuda())**2,dim=1).data.cpu().numpy())\n",
    "    \n",
    "    return loss"
   ]
  },
  {
   "cell_type": "code",
   "execution_count": 320,
   "metadata": {},
   "outputs": [
    {
     "name": "stdout",
     "output_type": "stream",
     "text": [
      "200\n"
     ]
    }
   ],
   "source": [
    "bb1_loss_sig = get_loss(X_bb1)"
   ]
  },
  {
   "cell_type": "code",
   "execution_count": 321,
   "metadata": {},
   "outputs": [],
   "source": [
    "bb1_loss_sig = np.array(bb1_loss_sig,dtype=np.float)"
   ]
  },
  {
   "cell_type": "code",
   "execution_count": 322,
   "metadata": {},
   "outputs": [
    {
     "name": "stdout",
     "output_type": "stream",
     "text": [
      "[1.90564466 0.96934295 1.35960376 ... 0.59359992 2.21692467 2.44283652]\n"
     ]
    }
   ],
   "source": [
    "print(bb1_loss_sig)"
   ]
  },
  {
   "cell_type": "code",
   "execution_count": 323,
   "metadata": {},
   "outputs": [
    {
     "data": {
      "image/png": "[encoded data removed]",
      "text/plain": [
       "<Figure size 720x720 with 1 Axes>"
      ]
     },
     "metadata": {
      "needs_background": "light"
     },
     "output_type": "display_data"
    }
   ],
   "source": [
    "plt.hist(bb1_loss_sig,bins=np.linspace(0,100,1001));"
   ]
  },
  {
   "cell_type": "code",
   "execution_count": 324,
   "metadata": {},
   "outputs": [],
   "source": [
    "np.save('../data_strings/sigaeloss_bb1.npy',bb1_loss_sig)"
   ]
  },
  {
   "cell_type": "code",
   "execution_count": null,
   "metadata": {},
   "outputs": [],
   "source": []
  },
  {
   "cell_type": "code",
   "execution_count": null,
   "metadata": {},
   "outputs": [],
   "source": []
  },
  {
   "cell_type": "code",
   "execution_count": 177,
   "metadata": {},
   "outputs": [],
   "source": [
    "dt_3prong = f_3prong.values"
   ]
  },
  {
   "cell_type": "code",
   "execution_count": 178,
   "metadata": {},
   "outputs": [],
   "source": [
    "Z = dt_3prong[:,[3,4,5,6,11,12,19,20,21,22,27,28]]"
   ]
  },
  {
   "cell_type": "code",
   "execution_count": 179,
   "metadata": {},
   "outputs": [
    {
     "data": {
      "text/plain": [
       "(100000, 12)"
      ]
     },
     "execution_count": 179,
     "metadata": {},
     "output_type": "execute_result"
    }
   ],
   "source": [
    "Z.shape"
   ]
  },
  {
   "cell_type": "code",
   "execution_count": 180,
   "metadata": {},
   "outputs": [],
   "source": [
    "for i in range(12):\n",
    "    Z[:,i] = (Z[:,i]-sig_mean[i])/sig_std[i]"
   ]
  },
  {
   "cell_type": "code",
   "execution_count": 181,
   "metadata": {},
   "outputs": [],
   "source": [
    "total_3prong = torch.tensor(Z)"
   ]
  },
  {
   "cell_type": "code",
   "execution_count": null,
   "metadata": {},
   "outputs": [],
   "source": []
  },
  {
   "cell_type": "code",
   "execution_count": 199,
   "metadata": {},
   "outputs": [],
   "source": [
    "bkgae_bkgloss = torch.mean((model(total_bkg_test.float().cuda())[0]- total_bkg_test.float().cuda())**2,dim=1).data.cpu().numpy()"
   ]
  },
  {
   "cell_type": "code",
   "execution_count": null,
   "metadata": {},
   "outputs": [],
   "source": [
    "bkgae_3prongloss = torch.mean((model(total_3prong.float().cuda())[0]- total_3prong.float().cuda())**2,dim=1).data.cpu().numpy()"
   ]
  },
  {
   "cell_type": "code",
   "execution_count": 182,
   "metadata": {},
   "outputs": [],
   "source": [
    "sigae_3prongloss = torch.mean((sigmodel(total_3prong.float().cuda())[0]- total_3prong.float().cuda())**2,dim=1).data.cpu().numpy()"
   ]
  },
  {
   "cell_type": "code",
   "execution_count": 183,
   "metadata": {},
   "outputs": [
    {
     "data": {
      "text/plain": [
       "(100000,)"
      ]
     },
     "execution_count": 183,
     "metadata": {},
     "output_type": "execute_result"
    }
   ],
   "source": [
    "sigae_3prongloss.shape"
   ]
  },
  {
   "cell_type": "code",
   "execution_count": 216,
   "metadata": {},
   "outputs": [
    {
     "data": {
      "text/plain": [
       "Text(0.5, 0, 'Signal AE Loss')"
      ]
     },
     "execution_count": 216,
     "metadata": {},
     "output_type": "execute_result"
    },
    {
     "data": {
      "image/png": "[encoded data removed]",
      "text/plain": [
       "<Figure size 720x720 with 1 Axes>"
      ]
     },
     "metadata": {
      "needs_background": "light"
     },
     "output_type": "display_data"
    }
   ],
   "source": [
    "bins = np.linspace(0,10,1001)\n",
    "plt.hist(sigae_sigloss,bins,weights = np.ones(len(signal_idx))*10,alpha=0.4,color='r',label='2 prong signal');\n",
    "plt.hist(sigae_3prongloss,bins,weights = np.ones(100000)*10,alpha=0.5,color='g',label='3 prong signal');\n",
    "plt.hist(sigae_bkgloss,bins,alpha=0.4,color='b',label='background');\n",
    "#plt.legend(bbox_to_anchor=(1.05, 1.0), loc='upper left')\n",
    "plt.legend(loc='upper right')\n",
    "plt.xlabel('Signal AE Loss',fontsize=15)\n",
    "\n"
   ]
  },
  {
   "cell_type": "code",
   "execution_count": 193,
   "metadata": {},
   "outputs": [],
   "source": [
    "def get_tpr_fpr(sigloss,bkgloss,aetype='sig'):\n",
    "    bins = np.linspace(0,50,1001)\n",
    "    tpr = []\n",
    "    fpr = []\n",
    "    for cut in bins:\n",
    "        if aetype == 'sig':\n",
    "            tpr.append(np.where(sigloss<cut)[0].shape[0]/len(sigloss))\n",
    "            fpr.append(np.where(bkgloss<cut)[0].shape[0]/len(bkgloss))\n",
    "        if aetype == 'bkg':\n",
    "            tpr.append(np.where(sigloss>cut)[0].shape[0]/len(sigloss))\n",
    "            fpr.append(np.where(bkgloss>cut)[0].shape[0]/len(bkgloss))\n",
    "    return tpr,fpr      "
   ]
  },
  {
   "cell_type": "code",
   "execution_count": 194,
   "metadata": {},
   "outputs": [],
   "source": [
    "def get_precision_recall(sigloss,bkgloss,aetype='bkg'):\n",
    "    bins = np.linspace(0,100,1001)\n",
    "    tpr = []\n",
    "    fpr = []\n",
    "    precision = []\n",
    "    for cut in bins:\n",
    "        if aetype == 'sig':\n",
    "            tpr.append(np.where(sigloss<cut)[0].shape[0]/len(sigloss))\n",
    "            precision.append((np.where(sigloss<cut)[0].shape[0])/(np.where(bkgloss<cut)[0].shape[0]+np.where(sigloss<cut)[0].shape[0]))\n",
    "            \n",
    "        if aetype == 'bkg':\n",
    "            tpr.append(np.where(sigloss>cut)[0].shape[0]/len(sigloss))\n",
    "            precision.append((np.where(sigloss>cut)[0].shape[0])/(np.where(bkgloss>cut)[0].shape[0]+np.where(sigloss>cut)[0].shape[0]))\n",
    "    return precision,tpr      "
   ]
  },
  {
   "cell_type": "code",
   "execution_count": 196,
   "metadata": {},
   "outputs": [],
   "source": [
    "tpr_2prong, fpr_2prong = get_tpr_fpr(sigae_sigloss,sigae_bkgloss,'sig')\n",
    "tpr_3prong, fpr_3prong = get_tpr_fpr(sigae_3prongloss,sigae_bkgloss,'sig')"
   ]
  },
  {
   "cell_type": "code",
   "execution_count": 217,
   "metadata": {},
   "outputs": [
    {
     "data": {
      "image/png": "[encoded data removed]",
      "text/plain": [
       "<Figure size 720x720 with 1 Axes>"
      ]
     },
     "metadata": {
      "needs_background": "light"
     },
     "output_type": "display_data"
    }
   ],
   "source": [
    "plt.plot(fpr_2prong,tpr_2prong,label='signal AE')\n",
    "#plt.plot(VAE_bkg_fpr,VAE_bkg_tpr,label='Bkg VAE-Vanilla')\n",
    "plt.plot(bkg_fpr4,bkg_tpr4,label='Bkg NFlowVAE-Planar')\n",
    "\n",
    "plt.xlabel(r'$1-\\epsilon_{bkg}$',fontsize=15)\n",
    "plt.ylabel(r'$\\epsilon_{sig}$',fontsize=15)\n",
    "#plt.semilogy()\n",
    "#plt.legend(bbox_to_anchor=(1.05, 1.0), loc='upper left')\n",
    "plt.legend(loc='lower right')\n",
    "plt.xlim([0.0,1.0])\n",
    "plt.ylim([0.0,1.0])\n",
    "plt.savefig('ROC_Curve_sigae.png')"
   ]
  },
  {
   "cell_type": "code",
   "execution_count": null,
   "metadata": {},
   "outputs": [],
   "source": []
  },
  {
   "cell_type": "code",
   "execution_count": null,
   "metadata": {},
   "outputs": [],
   "source": []
  },
  {
   "cell_type": "code",
   "execution_count": null,
   "metadata": {},
   "outputs": [],
   "source": [
    "precision,recall = get_precision_recall(loss_sig,loss_bkg,aetype='bkg')"
   ]
  },
  {
   "cell_type": "code",
   "execution_count": null,
   "metadata": {},
   "outputs": [],
   "source": [
    "np.save('NFLOWVAE_PlanarNEW_22var_sigloss.npy',loss_sig)\n",
    "np.save('NFLOWVAE_PlanarNEW_22var_bkgloss.npy',loss_bkg)"
   ]
  },
  {
   "cell_type": "code",
   "execution_count": null,
   "metadata": {},
   "outputs": [],
   "source": [
    "np.save('NFLOWVAE_PlanarNEW_precision.npy',precision)\n",
    "np.save('NFLOWVAE_PlanarNEW_recall.npy',recall)\n",
    "np.save('NFLOWVAE_PlanarNEW_bkgAE_fpr.npy',bkg_fpr)\n",
    "np.save('NFLOWVAE_PlanarNEW_bkgAE_tpr.npy',bkg_tpr)\n",
    "np.save('NFLOWVAE_PlanarNEW_sigloss.npy',loss_sig)\n",
    "np.save('NFLOWVAE_PlanarNEW_bkgloss.npy',loss_bkg)"
   ]
  },
  {
   "cell_type": "code",
   "execution_count": null,
   "metadata": {},
   "outputs": [],
   "source": [
    "plt.plot(recall,precision)"
   ]
  },
  {
   "cell_type": "code",
   "execution_count": null,
   "metadata": {},
   "outputs": [],
   "source": [
    "flows = [1,2,3,4,5,6]\n",
    "zdim = [1,2,3,4,5]\n",
    "\n",
    "for N_flows in flows:\n",
    "    for Z_DIM in zdim:\n",
    "        model = VAE_NF(N_FLOWS, Z_DIM).cuda()\n",
    "        optimizer = optim.Adam(model.parameters(), lr=LR)\n",
    "        BEST_LOSS = 99999\n",
    "        LAST_SAVED = -1\n",
    "        PATIENCE_COUNT = 0\n",
    "        PATIENCE_LIMIT = 5\n",
    "        for epoch in range(1, N_EPOCHS):\n",
    "            print(\"Epoch {}:\".format(epoch))\n",
    "            train()\n",
    "            cur_loss = evaluate()\n",
    "\n",
    "            if cur_loss <= BEST_LOSS:\n",
    "                PATIENCE_COUNT = 0\n",
    "                BEST_LOSS = cur_loss\n",
    "                LAST_SAVED = epoch\n",
    "                print(\"Saving model!\")\n",
    "                if mode == 'ROC':\n",
    "                    torch.save(model.state_dict(),f\"/data/t3home000/spark/QUASAR/weights/bkg_vae_NF_planar_RND_22var_z{Z_DIM}_f{N_FLOWS}.h5\")\n",
    "                else:\n",
    "                    torch.save(model.state_dict(), f\"/data/t3home000/spark/QUASAR/weights/bkg_vae_NF_planar_PureBkg_22var_z{Z_DIM}_f{N_FLOWS}.h5\")\n",
    "            else:\n",
    "                PATIENCE_COUNT += 1\n",
    "                print(\"Not saving model! Last saved: {}\".format(LAST_SAVED))\n",
    "                if PATIENCE_COUNT > 3:\n",
    "                    print(\"Patience Limit Reached\")\n",
    "                    break \n",
    "                    \n",
    "        loss_bkg = get_loss(dt_PureBkg[bkg_idx])\n",
    "        loss_sig = get_loss(dt_PureBkg[signal_idx])\n",
    "        np.save(f'NFLOWVAE_PlanarNEW_22var_z{Z_DIM}_f{N_flows}_sigloss.npy',loss_sig)\n",
    "        np.save(f'NFLOWVAE_PlanarNEW_22var_z{Z_DIM}_f{N_flows}_bkgloss.npy',loss_bkg)"
   ]
  },
  {
   "cell_type": "code",
   "execution_count": null,
   "metadata": {},
   "outputs": [],
   "source": []
  }
 ],
 "metadata": {
  "kernelspec": {
   "display_name": "Python 3",
   "language": "python",
   "name": "python3"
  },
  "language_info": {
   "codemirror_mode": {
    "name": "ipython",
    "version": 3
   },
   "file_extension": ".py",
   "mimetype": "text/x-python",
   "name": "python",
   "nbconvert_exporter": "python",
   "pygments_lexer": "ipython3",
   "version": "3.6.7"
  }
 },
 "nbformat": 4,
 "nbformat_minor": 2
}
