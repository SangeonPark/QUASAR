{
 "cells": [
  {
   "cell_type": "markdown",
   "metadata": {},
   "source": [
    "# Signal Autoencoder"
   ]
  },
  {
   "cell_type": "code",
   "execution_count": 1,
   "metadata": {},
   "outputs": [],
   "source": [
    "import numpy as np\n",
    "import scipy as sp\n",
    "import scipy.stats\n",
    "import itertools\n",
    "import logging\n",
    "import matplotlib.pyplot as plt\n",
    "import pandas as pd\n",
    "import torch.utils.data as utils\n",
    "import math\n",
    "import time\n",
    "import tqdm\n",
    "\n",
    "import torch\n",
    "import torch.optim as optim\n",
    "import torch.nn.functional as F\n",
    "from argparse import ArgumentParser\n",
    "from torch.distributions import MultivariateNormal\n",
    "\n",
    "import torch.nn as nn\n",
    "import torch.nn.init as init\n",
    "import sys\n",
    "sys.path.append(\"../new_flows\")\n",
    "from flows import RealNVP, Planar, MAF\n",
    "from models import NormalizingFlowModel"
   ]
  },
  {
   "cell_type": "code",
   "execution_count": 2,
   "metadata": {},
   "outputs": [],
   "source": [
    "####MAF \n",
    "class VAE_NF(nn.Module):\n",
    "    def __init__(self, K, D):\n",
    "        super().__init__()\n",
    "        self.dim = D\n",
    "        self.K = K\n",
    "        self.encoder = nn.Sequential(\n",
    "            nn.Linear(12, 50),\n",
    "            nn.LeakyReLU(True),\n",
    "            nn.Linear(50, 30),\n",
    "            nn.LeakyReLU(True),\n",
    "            nn.Linear(30, 20),\n",
    "            nn.LeakyReLU(True),\n",
    "            nn.Linear(20, D * 2)\n",
    "        )\n",
    "\n",
    "        self.decoder = nn.Sequential(\n",
    "            nn.Linear(D, 20),\n",
    "            nn.LeakyReLU(True),\n",
    "            nn.Linear(20, 30),\n",
    "            nn.LeakyReLU(True),\n",
    "            nn.Linear(30, 50),\n",
    "            nn.LeakyReLU(True),\n",
    "            nn.Linear(50, 12)\n",
    "        )\n",
    "        \n",
    "        flow_init = MAF(dim=D)\n",
    "        flows_init = [flow_init for _ in range(K)]\n",
    "        prior = MultivariateNormal(torch.zeros(D).cuda(), torch.eye(D).cuda())\n",
    "        self.flows = NormalizingFlowModel(prior, flows_init)\n",
    "\n",
    "    def forward(self, x):\n",
    "        # Run Encoder and get NF params\n",
    "        enc = self.encoder(x)\n",
    "        mu = enc[:, :self.dim]\n",
    "        log_var = enc[:, self.dim: self.dim * 2]\n",
    "\n",
    "        # Re-parametrize\n",
    "        sigma = (log_var * .5).exp()\n",
    "        z = mu + sigma * torch.randn_like(sigma)\n",
    "        kl_div = -0.5 * torch.sum(1 + log_var - mu.pow(2) - log_var.exp())\n",
    "        # Construct more expressive posterior with NF\n",
    "        \n",
    "        z_k, _, sum_ladj = self.flows(z)\n",
    "        \n",
    "        kl_div = kl_div / x.size(0) - sum_ladj.mean()  # mean over batch\n",
    "\n",
    "        # Run Decoder\n",
    "        x_prime = self.decoder(z_k)\n",
    "        return x_prime, kl_div"
   ]
  },
  {
   "cell_type": "code",
   "execution_count": 3,
   "metadata": {},
   "outputs": [],
   "source": [
    "#prong_2 = pd.read_hdf(\"/data/t3home000/spark/QUASAR/preprocessing/conventional_tau_rnd.h5\")\n",
    "#prong_3 = pd.read_hdf(\"/data/t3home000/spark/QUASAR/preprocessing/conventional_tau_3prong_rnd.h5\")"
   ]
  },
  {
   "cell_type": "code",
   "execution_count": 4,
   "metadata": {},
   "outputs": [],
   "source": [
    "rnd_data = pd.read_hdf(\"/data/t3home000/spark/QUASAR/preprocessing/conventional_tau_rnd.h5\")\n",
    "\n",
    "testprior_data = pd.read_hdf(\"/data/t3home000/spark/QUASAR/preprocessing/delphes_output_4500_500_150.h5\")"
   ]
  },
  {
   "cell_type": "code",
   "execution_count": 21,
   "metadata": {},
   "outputs": [],
   "source": [
    "dt = rnd_data.values\n",
    "dt_prior = testprior_data.values\n",
    "\n",
    "correct = (dt[:,3]>0) &(dt[:,19]>0) & (dt[:,1]>0) & (dt[:,2]>0)\n",
    "dt = dt[correct]\n",
    "\n",
    "correct = (dt_prior[:,3]>0) &(dt_prior[:,19]>0) & (dt_prior[:,1]>0) & (dt_prior[:,2]>0)\n",
    "dt_prior = dt_prior[correct]\n",
    "\n",
    "for i in range(13,19):\n",
    "    dt[:,i] = dt[:,i]/dt[:,3]\n",
    "\n",
    "for i in range(29,35):\n",
    "    dt[:,i] = dt[:,i]/(dt[:,19])\n",
    "\n",
    "for i in range(13,19):\n",
    "    dt_prior[:,i] = dt_prior[:,i]/dt_prior[:,3]\n",
    "\n",
    "for i in range(29,35):\n",
    "    dt_prior[:,i] = dt_prior[:,i]/(dt_prior[:,19])\n",
    "#correct = (dt[:,16]>0) & (dt[:,29]>=0) & (dt[:,29]<=1)&(dt[:,30]>=0) &(dt[:,30]<=1)&(dt[:,31]>=0) &(dt[:,31]<=1)&(dt[:,32]>=0) &(dt[:,32]<=1)&(dt[:,33]>=0) &(dt[:,33]<=1)&(dt[:,34]>=-0.01) &(dt[:,34]<=1)\n",
    "#dt = dt[correct]\n",
    "\n",
    "\n",
    "#Y = dt[:,[3,4,5,6,11,12,19,20,21,22,27,28]]\n",
    "#Y = dt[:,[4,5,6,7,8,11,12,13,14,15,16,17,18,20,21,22,23,24,27,28,29,30,31,32,33,34]] # When no jet 1,2 raw mass included\n",
    "#Y = dt[:,[3,4,5,6,11,12,13,14,15,16,17,18,19,20,21,22,27,28,29,30,31,32,33,34]]\n",
    "#bkg_idx = np.where(idx==0)[0]\n",
    "##signal_idx = np.where((idx==1)) [0]\n",
    "#dt = dt[signal_idx]\n",
    "correct = (dt[:,0]>=2800)\n",
    "dt = dt[correct]   \n",
    "\n",
    "correct = (dt_prior[:,0]>=2800)\n",
    "dt_prior = dt_prior[correct] \n",
    "\n",
    "idx = dt[:,-1]\n",
    "\n",
    "#sig_idx = np.where((dt_prior[:,3]>450) & (dt_prior[:,3]<550) & (dt_prior[:,19]>100) & (dt_prior[:,19]<200) & (dt_prior[:,0]>4200) & (dt_prior[:,0]<4800))[0]\n",
    "sig_idx = np.where((dt_prior[:,3]>200)  & (dt_prior[:,19]>50) & (dt_prior[:,0]>4200) & (dt_prior[:,0]<4800))[0]\n",
    "\n",
    "bkg_idx = np.where(idx==0)[0]\n",
    "#bsmlike = np.where(dt[:,16]>0.9)[0]\n",
    "#dt = dt[bsmlike]\n",
    "\n",
    "dt_sig = dt_prior[sig_idx]\n",
    "dt_bkg = dt[bkg_idx]\n"
   ]
  },
  {
   "cell_type": "code",
   "execution_count": 22,
   "metadata": {},
   "outputs": [],
   "source": [
    "#dt = prong_2.values\n",
    "#correct = (dt[:,3]>0) &(dt[:,19]>0) & (dt[:,1]>0) & (dt[:,2]>0)\n",
    "#dt = dt[correct]#\n",
    "\n",
    "#for i in range(13,19):\n",
    "#    dt[:,i] = dt[:,i]/dt[:,3]#\n",
    "\n",
    "#for i in range(29,35):\n",
    "#    dt[:,i] = dt[:,i]/(dt[:,19])#\n",
    "\n",
    "##correct = (dt[:,16]>0) & (dt[:,29]>=0) &(dt[:,29]<=1)&(dt[:,30]>=0) &(dt[:,30]<=1)&(dt[:,31]>=0) &(dt[:,31]<=1)&(dt[:,32]>=0) &(dt[:,32]<=1)&(dt[:,33]>=0) &(dt[:,33]<=1)&(dt[:,34]>=-0.01) &(dt[:,34]<=1)\n",
    "##dt = dt[correct]#\n",
    "#\n",
    "\n",
    "##Y = dt[:,[3,4,5,6,11,12,19,20,21,22,27,28]]\n",
    "##Y = dt[:,[4,5,6,7,8,11,12,13,14,15,16,17,18,20,21,22,23,24,27,28,29,30,31,32,33,34]] # When no jet 1,2 raw mass included\n",
    "##Y = dt[:,[3,4,5,6,11,12,13,14,15,16,17,18,19,20,21,22,27,28,29,30,31,32,33,34]]\n",
    "#idx = dt[:,-1]\n",
    "#bkg_idx = np.where(idx==0)[0]\n",
    "#sig_idx = np.where((idx==1) & (dt[:,3]>450) & (dt[:,3]<550) & (dt[:,19]>50) & (dt[:,19]<150))[0]\n",
    "##signal_idx = np.where((idx==1)) [0]\n",
    "#dt_sig = dt[sig_idx]\n",
    "#    \n",
    "#sig_refine_range = (dt_sig[:,0]>3400) & (dt_sig[:,0]<3600)\n",
    "#dt_sig = dt_sig[sig_refine_range]"
   ]
  },
  {
   "cell_type": "code",
   "execution_count": null,
   "metadata": {},
   "outputs": [],
   "source": []
  },
  {
   "cell_type": "code",
   "execution_count": null,
   "metadata": {},
   "outputs": [],
   "source": []
  },
  {
   "cell_type": "code",
   "execution_count": null,
   "metadata": {},
   "outputs": [],
   "source": []
  },
  {
   "cell_type": "code",
   "execution_count": 23,
   "metadata": {},
   "outputs": [
    {
     "data": {
      "text/plain": [
       "(39630, 35)"
      ]
     },
     "execution_count": 23,
     "metadata": {},
     "output_type": "execute_result"
    }
   ],
   "source": [
    "dt_sig.shape"
   ]
  },
  {
   "cell_type": "code",
   "execution_count": 25,
   "metadata": {},
   "outputs": [
    {
     "data": {
      "image/png": "[encoded data removed]",
      "text/plain": [
       "<Figure size 432x288 with 1 Axes>"
      ]
     },
     "metadata": {
      "needs_background": "light"
     },
     "output_type": "display_data"
    }
   ],
   "source": [
    "plt.hist(dt_sig[:,19],bins=np.arange(0,1000,10));"
   ]
  },
  {
   "cell_type": "code",
   "execution_count": 26,
   "metadata": {},
   "outputs": [
    {
     "ename": "NameError",
     "evalue": "name 'f' is not defined",
     "output_type": "error",
     "traceback": [
      "\u001b[0;31m---------------------------------------------------------------------------\u001b[0m",
      "\u001b[0;31mNameError\u001b[0m                                 Traceback (most recent call last)",
      "\u001b[0;32m<ipython-input-26-26e0e7336690>\u001b[0m in \u001b[0;36m<module>\u001b[0;34m\u001b[0m\n\u001b[0;32m----> 1\u001b[0;31m \u001b[0mf\u001b[0m\u001b[0;34m.\u001b[0m\u001b[0mcolumns\u001b[0m\u001b[0;34m[\u001b[0m\u001b[0;34m[\u001b[0m\u001b[0;36m3\u001b[0m\u001b[0;34m,\u001b[0m\u001b[0;36m4\u001b[0m\u001b[0;34m,\u001b[0m\u001b[0;36m5\u001b[0m\u001b[0;34m,\u001b[0m\u001b[0;36m6\u001b[0m\u001b[0;34m,\u001b[0m\u001b[0;36m11\u001b[0m\u001b[0;34m,\u001b[0m\u001b[0;36m12\u001b[0m\u001b[0;34m,\u001b[0m\u001b[0;36m19\u001b[0m\u001b[0;34m,\u001b[0m\u001b[0;36m20\u001b[0m\u001b[0;34m,\u001b[0m\u001b[0;36m21\u001b[0m\u001b[0;34m,\u001b[0m\u001b[0;36m22\u001b[0m\u001b[0;34m,\u001b[0m\u001b[0;36m27\u001b[0m\u001b[0;34m,\u001b[0m\u001b[0;36m28\u001b[0m\u001b[0;34m]\u001b[0m\u001b[0;34m]\u001b[0m\u001b[0;34m\u001b[0m\u001b[0;34m\u001b[0m\u001b[0m\n\u001b[0m",
      "\u001b[0;31mNameError\u001b[0m: name 'f' is not defined"
     ]
    }
   ],
   "source": [
    "f.columns[[3,4,5,6,11,12,19,20,21,22,27,28]]"
   ]
  },
  {
   "cell_type": "code",
   "execution_count": 27,
   "metadata": {},
   "outputs": [],
   "source": [
    "#Y = dt_sig[:,[4,5,6,7,8,11,12,13,14,15,16,17,18,20,21,22,23,24,27,28,29,30,31,32,33,34]]\n",
    "#[3,4,5,6,11,12,19,20,21,22,27,28]\n",
    "Y = dt_sig[:,[3,4,5,6,11,12,19,20,21,22,27,28]]"
   ]
  },
  {
   "cell_type": "code",
   "execution_count": 28,
   "metadata": {},
   "outputs": [
    {
     "data": {
      "text/plain": [
       "(39630, 12)"
      ]
     },
     "execution_count": 28,
     "metadata": {},
     "output_type": "execute_result"
    }
   ],
   "source": [
    "Y.shape"
   ]
  },
  {
   "cell_type": "code",
   "execution_count": 29,
   "metadata": {},
   "outputs": [],
   "source": [
    "#if nprong == 3:\n",
    "#    dt = prong_3.values\n",
    "#    correct = (dt[:,3]>20) &(dt[:,19]>20)\n",
    "#    dt = dt[correct]\n",
    "#    for i in range(13,19):\n",
    "#        dt[:,i] = dt[:,i]/dt[:,3]\n",
    "    \n",
    "#    for i in range(29,35):\n",
    "#        dt[:,i] = dt[:,i]/(dt[:,19])\n",
    "        \n",
    "#    correct = (dt[:,29]>=0) &(dt[:,29]<=1)&(dt[:,30]>=0) &(dt[:,30]<=1)&(dt[:,31]>=0) &(dt[:,31]<=1)&(dt[:,32]>=0) &(dt[:,32]<=1)&(dt[:,33]>=0) &(dt[:,33]<=1)&(dt[:,34]>=-0.01) &(dt[:,34]<=1)\n",
    "#    dt = dt[correct]        \n",
    "        \n",
    "#    Y = dt[:,[4,5,6,7,8,11,12,13,14,15,16,17,18,20,21,22,23,24,27,28,29,30,31,32,33,34]]\n",
    "#    #Y = dt[:,[3,4,5,6,11,12,19,20,21,22,27,28]]\n",
    "#    idx = dt[:,-1]\n",
    "#    bkg_idx = np.where(idx==0)[0]\n",
    "#    signal_idx = np.where((idx==1) & (dt[:,3]>400))[0]\n",
    "#    #signal_idx = np.where((idx==1)) [0]\n",
    "#    Y = Y[signal_idx]"
   ]
  },
  {
   "cell_type": "code",
   "execution_count": 31,
   "metadata": {},
   "outputs": [
    {
     "data": {
      "image/png": "[encoded data removed]",
      "text/plain": [
       "<Figure size 432x288 with 1 Axes>"
      ]
     },
     "metadata": {
      "needs_background": "light"
     },
     "output_type": "display_data"
    }
   ],
   "source": [
    "bins = np.linspace(0,1,100)\n",
    "bins.shape\n",
    "column = 3\n",
    "#print(f_rnd.columns[column])\n",
    "plt.hist(Y[:,0],bins,alpha=0.5,color='b');\n",
    "#plt.hist(sigout[:,column],bins,alpha=0.5,color='r');\n",
    "#plt.hist(out2[:,column],bins,alpha=0.5,color='g');\n",
    "#plt.axvline(np.mean(Y[:,column]))"
   ]
  },
  {
   "cell_type": "code",
   "execution_count": 32,
   "metadata": {},
   "outputs": [
    {
     "data": {
      "text/plain": [
       "(39630, 12)"
      ]
     },
     "execution_count": 32,
     "metadata": {},
     "output_type": "execute_result"
    }
   ],
   "source": [
    "Y.shape"
   ]
  },
  {
   "cell_type": "code",
   "execution_count": 33,
   "metadata": {},
   "outputs": [],
   "source": [
    "sig_mean = []\n",
    "sig_std = []\n",
    "for i in range(12):\n",
    "    mean = np.mean(Y[:,i])\n",
    "    std = np.std(Y[:,i])\n",
    "    sig_mean.append(mean)\n",
    "    sig_std.append(std)\n",
    "    Y[:,i] = (Y[:,i]-mean)/std"
   ]
  },
  {
   "cell_type": "code",
   "execution_count": 34,
   "metadata": {},
   "outputs": [
    {
     "data": {
      "text/plain": [
       "[489.6699791129437,\n",
       " 0.22463354907052815,\n",
       " 0.639679230886038,\n",
       " 0.7742464847783065,\n",
       " 1.4122267488712905,\n",
       " 253.95296492556145,\n",
       " 167.8782919951573,\n",
       " 0.3429350853771621,\n",
       " 0.6460772390759577,\n",
       " 0.7653966882661628,\n",
       " 1.4541020071952622,\n",
       " 165.34100428967955]"
      ]
     },
     "execution_count": 34,
     "metadata": {},
     "output_type": "execute_result"
    }
   ],
   "source": [
    "sig_mean"
   ]
  },
  {
   "cell_type": "code",
   "execution_count": 35,
   "metadata": {},
   "outputs": [
    {
     "data": {
      "text/plain": [
       "[66.87936517220672,\n",
       " 0.1361910116638729,\n",
       " 0.15309413231859276,\n",
       " 0.10054671892302457,\n",
       " 0.3833027691949484,\n",
       " 87.45977372109115,\n",
       " 50.53622336909848,\n",
       " 0.14930126292179366,\n",
       " 0.15096516491915418,\n",
       " 0.10415175051343364,\n",
       " 0.44297590229588857,\n",
       " 55.44436453890166]"
      ]
     },
     "execution_count": 35,
     "metadata": {},
     "output_type": "execute_result"
    }
   ],
   "source": [
    "sig_std"
   ]
  },
  {
   "cell_type": "code",
   "execution_count": 36,
   "metadata": {},
   "outputs": [],
   "source": [
    "total_sig = torch.tensor(Y)"
   ]
  },
  {
   "cell_type": "code",
   "execution_count": 37,
   "metadata": {},
   "outputs": [
    {
     "data": {
      "text/plain": [
       "torch.Size([39630, 12])"
      ]
     },
     "execution_count": 37,
     "metadata": {},
     "output_type": "execute_result"
    }
   ],
   "source": [
    "total_sig.shape"
   ]
  },
  {
   "cell_type": "code",
   "execution_count": 40,
   "metadata": {},
   "outputs": [
    {
     "data": {
      "image/png": "[encoded data removed]",
      "text/plain": [
       "<Figure size 432x288 with 1 Axes>"
      ]
     },
     "metadata": {
      "needs_background": "light"
     },
     "output_type": "display_data"
    }
   ],
   "source": [
    "bins = np.linspace(-3,3,100)\n",
    "bins.shape\n",
    "column = 0\n",
    "#print(f_rnd.columns[column])\n",
    "plt.hist(Y[:,11],bins,alpha=0.5,color='b');\n",
    "#plt.hist(sigout[:,column],bins,alpha=0.5,color='r');\n",
    "#plt.hist(out2[:,column],bins,alpha=0.5,color='g');\n",
    "#plt.axvline(np.mean(Y[:,column]))"
   ]
  },
  {
   "cell_type": "code",
   "execution_count": 41,
   "metadata": {},
   "outputs": [],
   "source": [
    "N_EPOCHS = 30\n",
    "PRINT_INTERVAL = 2000\n",
    "NUM_WORKERS = 4\n",
    "LR = 1e-4\n",
    "\n",
    "#N_FLOWS = 6 \n",
    "#Z_DIM = 8\n",
    "\n",
    "N_FLOWS = 10\n",
    "Z_DIM = 8\n",
    "\n",
    "n_steps = 0"
   ]
  },
  {
   "cell_type": "code",
   "execution_count": 42,
   "metadata": {},
   "outputs": [],
   "source": [
    "sigmodel = VAE_NF(N_FLOWS, Z_DIM).cuda()"
   ]
  },
  {
   "cell_type": "code",
   "execution_count": 43,
   "metadata": {},
   "outputs": [],
   "source": [
    "bs = 800\n",
    "sig_train_iterator = utils.DataLoader(total_sig, batch_size=bs, shuffle=True) \n",
    "sig_test_iterator = utils.DataLoader(total_sig, batch_size=bs)"
   ]
  },
  {
   "cell_type": "code",
   "execution_count": 71,
   "metadata": {},
   "outputs": [],
   "source": [
    "sigoptimizer = optim.Adam(sigmodel.parameters(), lr=1e-6)"
   ]
  },
  {
   "cell_type": "code",
   "execution_count": 72,
   "metadata": {},
   "outputs": [],
   "source": [
    "beta = 1"
   ]
  },
  {
   "cell_type": "code",
   "execution_count": 73,
   "metadata": {},
   "outputs": [],
   "source": [
    "def sigtrain():\n",
    "    global n_steps\n",
    "    train_loss = []\n",
    "    sigmodel.train()\n",
    "\n",
    "    for batch_idx, x in enumerate(sig_train_iterator):\n",
    "        start_time = time.time()\n",
    "        \n",
    "        x = x.float().cuda()\n",
    "\n",
    "        x_tilde, kl_div = sigmodel(x)\n",
    "        mseloss = nn.MSELoss(size_average=False)\n",
    "        huberloss = nn.SmoothL1Loss(size_average=False)\n",
    "        #loss_recons = F.binary_cross_entropy(x_tilde, x, size_average=False) / x.size(0)\n",
    "        loss_recons = mseloss(x_tilde,x ) / x.size(0)\n",
    "        #loss_recons = huberloss(x_tilde,x ) / x.size(0)\n",
    "        loss = loss_recons + beta* kl_div\n",
    "\n",
    "        sigoptimizer.zero_grad()\n",
    "        loss.backward()\n",
    "        sigoptimizer.step()\n",
    "\n",
    "        train_loss.append([loss_recons.item(), kl_div.item()])\n",
    "\n",
    "        if (batch_idx + 1) % PRINT_INTERVAL == 0:\n",
    "            print('\\tIter [{}/{} ({:.0f}%)]\\tLoss: {} Time: {:5.3f} ms/batch'.format(\n",
    "                batch_idx * len(x), 50000,\n",
    "                PRINT_INTERVAL * batch_idx / 50000,\n",
    "                np.asarray(train_loss)[-PRINT_INTERVAL:].mean(0),\n",
    "                1000 * (time.time() - start_time)\n",
    "            ))\n",
    "\n",
    "        n_steps += 1"
   ]
  },
  {
   "cell_type": "code",
   "execution_count": 74,
   "metadata": {},
   "outputs": [],
   "source": [
    "def sigevaluate(split='valid'):\n",
    "    global n_steps\n",
    "    start_time = time.time()\n",
    "    val_loss = []\n",
    "    sigmodel.eval()\n",
    "\n",
    "    with torch.no_grad():\n",
    "        for batch_idx, x in enumerate(sig_test_iterator):\n",
    "            \n",
    "            x = x.float().cuda()\n",
    "\n",
    "            x_tilde, kl_div = sigmodel(x)\n",
    "            mseloss = nn.MSELoss(size_average=False)\n",
    "            huberloss = nn.SmoothL1Loss(size_average=False)\n",
    "            #loss_recons = F.binary_cross_entropy(x_tilde, x, size_average=False) / x.size(0)\n",
    "            loss_recons = mseloss(x_tilde,x ) / x.size(0)\n",
    "            #loss_recons = huberloss(x_tilde,x ) / x.size(0)\n",
    "            loss = loss_recons + beta * kl_div\n",
    "\n",
    "            val_loss.append(loss.item())\n",
    "            #writer.add_scalar('loss/{}/ELBO'.format(split), loss.item(), n_steps)\n",
    "            #writer.add_scalar('loss/{}/reconstruction'.format(split), loss_recons.item(), n_steps)\n",
    "            #writer.add_scalar('loss/{}/KL'.format(split), kl_div.item(), n_steps)\n",
    "\n",
    "    print('\\nEvaluation Completed ({})!\\tLoss: {:5.4f} Time: {:5.3f} s'.format(\n",
    "        split,\n",
    "        np.asarray(val_loss).mean(0),\n",
    "        time.time() - start_time\n",
    "    ))\n",
    "    return np.asarray(val_loss).mean(0)"
   ]
  },
  {
   "cell_type": "code",
   "execution_count": 75,
   "metadata": {},
   "outputs": [],
   "source": [
    "ae_def = {\n",
    "    \"type\":\"sig\",\n",
    "    \"trainon\":\"2prong\",\n",
    "    \"features\":\"12features\",\n",
    "    \"architecture\":\"MAF\",\n",
    "    \"selection\":\"mjj4500_nojetmasscut\",\n",
    "    \"trainloss\":\"MSELoss\",\n",
    "    \"beta\":\"beta1\",\n",
    "    \"zdimnflow\":\"z8f10\",\n",
    "}"
   ]
  },
  {
   "cell_type": "code",
   "execution_count": 76,
   "metadata": {},
   "outputs": [
    {
     "data": {
      "text/plain": [
       "{'type': 'sig',\n",
       " 'trainon': '2prong',\n",
       " 'features': '12features',\n",
       " 'architecture': 'MAF',\n",
       " 'selection': 'mjj4500_nojetmasscut',\n",
       " 'trainloss': 'MSELoss',\n",
       " 'beta': 'beta1',\n",
       " 'zdimnflow': 'z8f10'}"
      ]
     },
     "execution_count": 76,
     "metadata": {},
     "output_type": "execute_result"
    }
   ],
   "source": [
    "ae_def"
   ]
  },
  {
   "cell_type": "code",
   "execution_count": 77,
   "metadata": {},
   "outputs": [],
   "source": [
    "#from torchsummary import summary\n"
   ]
  },
  {
   "cell_type": "code",
   "execution_count": 78,
   "metadata": {},
   "outputs": [
    {
     "data": {
      "text/plain": [
       "<All keys matched successfully>"
      ]
     },
     "execution_count": 78,
     "metadata": {},
     "output_type": "execute_result"
    }
   ],
   "source": [
    "sigmodel.load_state_dict(torch.load(f\"/data/t3home000/spark/QUASAR/weights/{ae_def['type']}_{ae_def['trainon']}_{ae_def['features']}_{ae_def['architecture']}_{ae_def['selection']}_{ae_def['trainloss']}_{ae_def['beta']}_{ae_def['zdimnflow']}.h5\"))"
   ]
  },
  {
   "cell_type": "code",
   "execution_count": 79,
   "metadata": {},
   "outputs": [
    {
     "name": "stdout",
     "output_type": "stream",
     "text": [
      "Epoch 1:\n",
      "\n",
      "Evaluation Completed (valid)!\tLoss: -86.2819 Time: 0.720 s\n",
      "Saving model!\n",
      "Epoch 2:\n",
      "\n",
      "Evaluation Completed (valid)!\tLoss: -86.3856 Time: 0.722 s\n",
      "Saving model!\n",
      "Epoch 3:\n",
      "\n",
      "Evaluation Completed (valid)!\tLoss: -86.4061 Time: 0.724 s\n",
      "Saving model!\n",
      "Epoch 4:\n",
      "\n",
      "Evaluation Completed (valid)!\tLoss: -86.4786 Time: 0.724 s\n",
      "Saving model!\n",
      "Epoch 5:\n",
      "\n",
      "Evaluation Completed (valid)!\tLoss: -86.3905 Time: 0.747 s\n",
      "Not saving model! Last saved: 4\n",
      "Epoch 6:\n",
      "\n",
      "Evaluation Completed (valid)!\tLoss: -86.4468 Time: 0.727 s\n",
      "Not saving model! Last saved: 4\n",
      "Epoch 7:\n",
      "\n",
      "Evaluation Completed (valid)!\tLoss: -86.4955 Time: 0.721 s\n",
      "Saving model!\n",
      "Epoch 8:\n",
      "\n",
      "Evaluation Completed (valid)!\tLoss: -86.5590 Time: 0.722 s\n",
      "Saving model!\n",
      "Epoch 9:\n",
      "\n",
      "Evaluation Completed (valid)!\tLoss: -86.5550 Time: 0.723 s\n",
      "Not saving model! Last saved: 8\n",
      "Epoch 10:\n",
      "\n",
      "Evaluation Completed (valid)!\tLoss: -86.6504 Time: 0.721 s\n",
      "Saving model!\n",
      "Epoch 11:\n",
      "\n",
      "Evaluation Completed (valid)!\tLoss: -86.6057 Time: 0.745 s\n",
      "Not saving model! Last saved: 10\n",
      "Epoch 12:\n",
      "\n",
      "Evaluation Completed (valid)!\tLoss: -86.6813 Time: 0.721 s\n",
      "Saving model!\n",
      "Epoch 13:\n",
      "\n",
      "Evaluation Completed (valid)!\tLoss: -86.7200 Time: 0.724 s\n",
      "Saving model!\n",
      "Epoch 14:\n",
      "\n",
      "Evaluation Completed (valid)!\tLoss: -86.7814 Time: 0.724 s\n",
      "Saving model!\n",
      "Epoch 15:\n",
      "\n",
      "Evaluation Completed (valid)!\tLoss: -86.7386 Time: 0.721 s\n",
      "Not saving model! Last saved: 14\n",
      "Epoch 16:\n",
      "\n",
      "Evaluation Completed (valid)!\tLoss: -86.8199 Time: 0.721 s\n",
      "Saving model!\n",
      "Epoch 17:\n",
      "\n",
      "Evaluation Completed (valid)!\tLoss: -86.8649 Time: 0.746 s\n",
      "Saving model!\n",
      "Epoch 18:\n",
      "\n",
      "Evaluation Completed (valid)!\tLoss: -86.8415 Time: 0.725 s\n",
      "Not saving model! Last saved: 17\n",
      "Epoch 19:\n",
      "\n",
      "Evaluation Completed (valid)!\tLoss: -86.9436 Time: 0.722 s\n",
      "Saving model!\n",
      "Epoch 20:\n",
      "\n",
      "Evaluation Completed (valid)!\tLoss: -86.9133 Time: 0.721 s\n",
      "Not saving model! Last saved: 19\n",
      "Epoch 21:\n",
      "\n",
      "Evaluation Completed (valid)!\tLoss: -86.9134 Time: 0.720 s\n",
      "Not saving model! Last saved: 19\n",
      "Epoch 22:\n",
      "\n",
      "Evaluation Completed (valid)!\tLoss: -87.0350 Time: 0.721 s\n",
      "Saving model!\n",
      "Epoch 23:\n",
      "\n",
      "Evaluation Completed (valid)!\tLoss: -87.0098 Time: 0.725 s\n",
      "Not saving model! Last saved: 22\n",
      "Epoch 24:\n",
      "\n",
      "Evaluation Completed (valid)!\tLoss: -87.0330 Time: 0.721 s\n",
      "Not saving model! Last saved: 22\n",
      "Epoch 25:\n",
      "\n",
      "Evaluation Completed (valid)!\tLoss: -87.0434 Time: 0.722 s\n",
      "Saving model!\n",
      "Epoch 26:\n",
      "\n",
      "Evaluation Completed (valid)!\tLoss: -87.1057 Time: 0.723 s\n",
      "Saving model!\n",
      "Epoch 27:\n",
      "\n",
      "Evaluation Completed (valid)!\tLoss: -87.1686 Time: 0.722 s\n",
      "Saving model!\n",
      "Epoch 28:\n",
      "\n",
      "Evaluation Completed (valid)!\tLoss: -87.1364 Time: 0.721 s\n",
      "Not saving model! Last saved: 27\n",
      "Epoch 29:\n",
      "\n",
      "Evaluation Completed (valid)!\tLoss: -87.2019 Time: 0.721 s\n",
      "Saving model!\n",
      "Epoch 30:\n",
      "\n",
      "Evaluation Completed (valid)!\tLoss: -87.1882 Time: 0.723 s\n",
      "Not saving model! Last saved: 29\n",
      "Epoch 31:\n",
      "\n",
      "Evaluation Completed (valid)!\tLoss: -87.2181 Time: 0.725 s\n",
      "Saving model!\n",
      "Epoch 32:\n",
      "\n",
      "Evaluation Completed (valid)!\tLoss: -87.3217 Time: 0.721 s\n",
      "Saving model!\n",
      "Epoch 33:\n",
      "\n",
      "Evaluation Completed (valid)!\tLoss: -87.2117 Time: 0.722 s\n",
      "Not saving model! Last saved: 32\n",
      "Epoch 34:\n",
      "\n",
      "Evaluation Completed (valid)!\tLoss: -87.2528 Time: 0.723 s\n",
      "Not saving model! Last saved: 32\n",
      "Epoch 35:\n",
      "\n",
      "Evaluation Completed (valid)!\tLoss: -87.3832 Time: 0.722 s\n",
      "Saving model!\n",
      "Epoch 36:\n",
      "\n",
      "Evaluation Completed (valid)!\tLoss: -87.3647 Time: 0.747 s\n",
      "Not saving model! Last saved: 35\n",
      "Epoch 37:\n",
      "\n",
      "Evaluation Completed (valid)!\tLoss: -87.4096 Time: 0.722 s\n",
      "Saving model!\n",
      "Epoch 38:\n",
      "\n",
      "Evaluation Completed (valid)!\tLoss: -87.3682 Time: 0.724 s\n",
      "Not saving model! Last saved: 37\n",
      "Epoch 39:\n",
      "\n",
      "Evaluation Completed (valid)!\tLoss: -87.4403 Time: 0.724 s\n",
      "Saving model!\n",
      "Epoch 40:\n",
      "\n",
      "Evaluation Completed (valid)!\tLoss: -87.5488 Time: 0.722 s\n",
      "Saving model!\n",
      "Epoch 41:\n",
      "\n",
      "Evaluation Completed (valid)!\tLoss: -87.5563 Time: 0.723 s\n",
      "Saving model!\n",
      "Epoch 42:\n",
      "\n",
      "Evaluation Completed (valid)!\tLoss: -87.5336 Time: 0.722 s\n",
      "Not saving model! Last saved: 41\n",
      "Epoch 43:\n",
      "\n",
      "Evaluation Completed (valid)!\tLoss: -87.5738 Time: 0.723 s\n",
      "Saving model!\n",
      "Epoch 44:\n",
      "\n",
      "Evaluation Completed (valid)!\tLoss: -87.5308 Time: 0.727 s\n",
      "Not saving model! Last saved: 43\n",
      "Epoch 45:\n",
      "\n",
      "Evaluation Completed (valid)!\tLoss: -87.6028 Time: 0.722 s\n",
      "Saving model!\n",
      "Epoch 46:\n",
      "\n",
      "Evaluation Completed (valid)!\tLoss: -87.5847 Time: 0.723 s\n",
      "Not saving model! Last saved: 45\n",
      "Epoch 47:\n",
      "\n",
      "Evaluation Completed (valid)!\tLoss: -87.6342 Time: 0.722 s\n",
      "Saving model!\n",
      "Epoch 48:\n",
      "\n",
      "Evaluation Completed (valid)!\tLoss: -87.7159 Time: 0.722 s\n",
      "Saving model!\n",
      "Epoch 49:\n",
      "\n",
      "Evaluation Completed (valid)!\tLoss: -87.7297 Time: 0.749 s\n",
      "Saving model!\n",
      "Epoch 50:\n",
      "\n",
      "Evaluation Completed (valid)!\tLoss: -87.7286 Time: 0.722 s\n",
      "Not saving model! Last saved: 49\n",
      "Epoch 51:\n",
      "\n",
      "Evaluation Completed (valid)!\tLoss: -87.8381 Time: 0.722 s\n",
      "Saving model!\n",
      "Epoch 52:\n",
      "\n",
      "Evaluation Completed (valid)!\tLoss: -87.7441 Time: 0.721 s\n",
      "Not saving model! Last saved: 51\n",
      "Epoch 53:\n",
      "\n",
      "Evaluation Completed (valid)!\tLoss: -87.8421 Time: 0.725 s\n",
      "Saving model!\n",
      "Epoch 54:\n",
      "\n",
      "Evaluation Completed (valid)!\tLoss: -87.7115 Time: 0.724 s\n",
      "Not saving model! Last saved: 53\n",
      "Epoch 55:\n",
      "\n",
      "Evaluation Completed (valid)!\tLoss: -87.8159 Time: 0.745 s\n",
      "Not saving model! Last saved: 53\n",
      "Epoch 56:\n",
      "\n",
      "Evaluation Completed (valid)!\tLoss: -87.9256 Time: 0.724 s\n",
      "Saving model!\n",
      "Epoch 57:\n",
      "\n",
      "Evaluation Completed (valid)!\tLoss: -87.9216 Time: 0.722 s\n",
      "Not saving model! Last saved: 56\n",
      "Epoch 58:\n",
      "\n",
      "Evaluation Completed (valid)!\tLoss: -87.9372 Time: 0.722 s\n",
      "Saving model!\n",
      "Epoch 59:\n",
      "\n",
      "Evaluation Completed (valid)!\tLoss: -87.9724 Time: 0.727 s\n",
      "Saving model!\n",
      "Epoch 60:\n",
      "\n",
      "Evaluation Completed (valid)!\tLoss: -87.9681 Time: 0.723 s\n",
      "Not saving model! Last saved: 59\n",
      "Epoch 61:\n",
      "\n",
      "Evaluation Completed (valid)!\tLoss: -87.9241 Time: 0.724 s\n",
      "Not saving model! Last saved: 59\n",
      "Epoch 62:\n",
      "\n",
      "Evaluation Completed (valid)!\tLoss: -87.9096 Time: 0.725 s\n",
      "Not saving model! Last saved: 59\n",
      "Epoch 63:\n",
      "\n",
      "Evaluation Completed (valid)!\tLoss: -88.0646 Time: 0.732 s\n",
      "Saving model!\n",
      "Epoch 64:\n",
      "\n",
      "Evaluation Completed (valid)!\tLoss: -88.0392 Time: 0.723 s\n",
      "Not saving model! Last saved: 63\n",
      "Epoch 65:\n",
      "\n",
      "Evaluation Completed (valid)!\tLoss: -88.1720 Time: 0.721 s\n",
      "Saving model!\n",
      "Epoch 66:\n",
      "\n",
      "Evaluation Completed (valid)!\tLoss: -88.0124 Time: 0.724 s\n",
      "Not saving model! Last saved: 65\n",
      "Epoch 67:\n",
      "\n",
      "Evaluation Completed (valid)!\tLoss: -88.0503 Time: 0.720 s\n",
      "Not saving model! Last saved: 65\n",
      "Epoch 68:\n",
      "\n",
      "Evaluation Completed (valid)!\tLoss: -88.0877 Time: 0.747 s\n",
      "Not saving model! Last saved: 65\n",
      "Epoch 69:\n",
      "\n",
      "Evaluation Completed (valid)!\tLoss: -88.2439 Time: 0.722 s\n",
      "Saving model!\n",
      "Epoch 70:\n",
      "\n",
      "Evaluation Completed (valid)!\tLoss: -88.1247 Time: 0.722 s\n",
      "Not saving model! Last saved: 69\n",
      "Epoch 71:\n",
      "\n",
      "Evaluation Completed (valid)!\tLoss: -88.2272 Time: 0.724 s\n",
      "Not saving model! Last saved: 69\n",
      "Epoch 72:\n",
      "\n",
      "Evaluation Completed (valid)!\tLoss: -88.3171 Time: 0.724 s\n",
      "Saving model!\n",
      "Epoch 73:\n",
      "\n",
      "Evaluation Completed (valid)!\tLoss: -88.3861 Time: 0.717 s\n",
      "Saving model!\n",
      "Epoch 74:\n",
      "\n",
      "Evaluation Completed (valid)!\tLoss: -88.2023 Time: 0.716 s\n",
      "Not saving model! Last saved: 73\n",
      "Epoch 75:\n",
      "\n",
      "Evaluation Completed (valid)!\tLoss: -88.2726 Time: 0.720 s\n",
      "Not saving model! Last saved: 73\n",
      "Epoch 76:\n",
      "\n",
      "Evaluation Completed (valid)!\tLoss: -88.2120 Time: 0.721 s\n",
      "Not saving model! Last saved: 73\n",
      "Epoch 77:\n",
      "\n",
      "Evaluation Completed (valid)!\tLoss: -88.2637 Time: 0.719 s\n",
      "Not saving model! Last saved: 73\n",
      "Epoch 78:\n",
      "\n",
      "Evaluation Completed (valid)!\tLoss: -88.4196 Time: 0.723 s\n",
      "Saving model!\n",
      "Epoch 79:\n",
      "\n",
      "Evaluation Completed (valid)!\tLoss: -88.4013 Time: 0.718 s\n",
      "Not saving model! Last saved: 78\n",
      "Epoch 80:\n",
      "\n",
      "Evaluation Completed (valid)!\tLoss: -88.4373 Time: 0.719 s\n",
      "Saving model!\n",
      "Epoch 81:\n",
      "\n",
      "Evaluation Completed (valid)!\tLoss: -88.4084 Time: 0.743 s\n",
      "Not saving model! Last saved: 80\n",
      "Epoch 82:\n",
      "\n",
      "Evaluation Completed (valid)!\tLoss: -88.5406 Time: 0.720 s\n",
      "Saving model!\n",
      "Epoch 83:\n",
      "\n",
      "Evaluation Completed (valid)!\tLoss: -88.5206 Time: 0.718 s\n",
      "Not saving model! Last saved: 82\n",
      "Epoch 84:\n",
      "\n",
      "Evaluation Completed (valid)!\tLoss: -88.5733 Time: 0.721 s\n",
      "Saving model!\n",
      "Epoch 85:\n",
      "\n",
      "Evaluation Completed (valid)!\tLoss: -88.4825 Time: 0.718 s\n",
      "Not saving model! Last saved: 84\n",
      "Epoch 86:\n",
      "\n",
      "Evaluation Completed (valid)!\tLoss: -88.5642 Time: 0.718 s\n",
      "Not saving model! Last saved: 84\n",
      "Epoch 87:\n",
      "\n",
      "Evaluation Completed (valid)!\tLoss: -88.4059 Time: 0.718 s\n",
      "Not saving model! Last saved: 84\n",
      "Epoch 88:\n",
      "\n",
      "Evaluation Completed (valid)!\tLoss: -88.5977 Time: 0.719 s\n",
      "Saving model!\n",
      "Epoch 89:\n"
     ]
    },
    {
     "name": "stdout",
     "output_type": "stream",
     "text": [
      "\n",
      "Evaluation Completed (valid)!\tLoss: -88.6389 Time: 0.717 s\n",
      "Saving model!\n",
      "Epoch 90:\n",
      "\n",
      "Evaluation Completed (valid)!\tLoss: -88.7068 Time: 0.718 s\n",
      "Saving model!\n",
      "Epoch 91:\n",
      "\n",
      "Evaluation Completed (valid)!\tLoss: -88.6919 Time: 0.723 s\n",
      "Not saving model! Last saved: 90\n",
      "Epoch 92:\n",
      "\n",
      "Evaluation Completed (valid)!\tLoss: -88.7587 Time: 0.817 s\n",
      "Saving model!\n",
      "Epoch 93:\n",
      "\n",
      "Evaluation Completed (valid)!\tLoss: -88.7447 Time: 0.745 s\n",
      "Not saving model! Last saved: 92\n",
      "Epoch 94:\n",
      "\n",
      "Evaluation Completed (valid)!\tLoss: -88.7971 Time: 0.745 s\n",
      "Saving model!\n",
      "Epoch 95:\n",
      "\n",
      "Evaluation Completed (valid)!\tLoss: -88.8259 Time: 0.743 s\n",
      "Saving model!\n",
      "Epoch 96:\n",
      "\n",
      "Evaluation Completed (valid)!\tLoss: -88.9361 Time: 0.818 s\n",
      "Saving model!\n",
      "Epoch 97:\n",
      "\n",
      "Evaluation Completed (valid)!\tLoss: -88.8990 Time: 0.746 s\n",
      "Not saving model! Last saved: 96\n",
      "Epoch 98:\n",
      "\n",
      "Evaluation Completed (valid)!\tLoss: -88.8927 Time: 0.745 s\n",
      "Not saving model! Last saved: 96\n",
      "Epoch 99:\n",
      "\n",
      "Evaluation Completed (valid)!\tLoss: -88.8838 Time: 0.743 s\n",
      "Not saving model! Last saved: 96\n",
      "Epoch 100:\n",
      "\n",
      "Evaluation Completed (valid)!\tLoss: -89.0163 Time: 0.774 s\n",
      "Saving model!\n",
      "Epoch 101:\n",
      "\n",
      "Evaluation Completed (valid)!\tLoss: -88.9099 Time: 0.744 s\n",
      "Not saving model! Last saved: 100\n",
      "Epoch 102:\n",
      "\n",
      "Evaluation Completed (valid)!\tLoss: -89.0020 Time: 0.744 s\n",
      "Not saving model! Last saved: 100\n",
      "Epoch 103:\n",
      "\n",
      "Evaluation Completed (valid)!\tLoss: -89.0657 Time: 0.744 s\n",
      "Saving model!\n",
      "Epoch 104:\n",
      "\n",
      "Evaluation Completed (valid)!\tLoss: -89.0031 Time: 0.746 s\n",
      "Not saving model! Last saved: 103\n",
      "Epoch 105:\n",
      "\n",
      "Evaluation Completed (valid)!\tLoss: -88.9724 Time: 0.745 s\n",
      "Not saving model! Last saved: 103\n",
      "Epoch 106:\n",
      "\n",
      "Evaluation Completed (valid)!\tLoss: -89.0505 Time: 0.742 s\n",
      "Not saving model! Last saved: 103\n",
      "Epoch 107:\n",
      "\n",
      "Evaluation Completed (valid)!\tLoss: -89.1909 Time: 0.748 s\n",
      "Saving model!\n",
      "Epoch 108:\n",
      "\n",
      "Evaluation Completed (valid)!\tLoss: -89.0991 Time: 0.751 s\n",
      "Not saving model! Last saved: 107\n",
      "Epoch 109:\n",
      "\n",
      "Evaluation Completed (valid)!\tLoss: -89.1045 Time: 0.821 s\n",
      "Not saving model! Last saved: 107\n",
      "Epoch 110:\n",
      "\n",
      "Evaluation Completed (valid)!\tLoss: -89.1199 Time: 0.743 s\n",
      "Not saving model! Last saved: 107\n",
      "Epoch 111:\n",
      "\n",
      "Evaluation Completed (valid)!\tLoss: -89.1761 Time: 0.744 s\n",
      "Not saving model! Last saved: 107\n",
      "Epoch 112:\n",
      "\n",
      "Evaluation Completed (valid)!\tLoss: -89.1312 Time: 0.745 s\n",
      "Not saving model! Last saved: 107\n",
      "Epoch 113:\n",
      "\n",
      "Evaluation Completed (valid)!\tLoss: -89.2149 Time: 0.820 s\n",
      "Saving model!\n",
      "Epoch 114:\n",
      "\n",
      "Evaluation Completed (valid)!\tLoss: -89.2667 Time: 0.743 s\n",
      "Saving model!\n",
      "Epoch 115:\n",
      "\n",
      "Evaluation Completed (valid)!\tLoss: -89.1905 Time: 0.747 s\n",
      "Not saving model! Last saved: 114\n",
      "Epoch 116:\n",
      "\n",
      "Evaluation Completed (valid)!\tLoss: -89.2726 Time: 0.751 s\n",
      "Saving model!\n",
      "Epoch 117:\n",
      "\n",
      "Evaluation Completed (valid)!\tLoss: -89.3358 Time: 0.824 s\n",
      "Saving model!\n",
      "Epoch 118:\n",
      "\n",
      "Evaluation Completed (valid)!\tLoss: -89.3076 Time: 0.748 s\n",
      "Not saving model! Last saved: 117\n",
      "Epoch 119:\n",
      "\n",
      "Evaluation Completed (valid)!\tLoss: -89.2736 Time: 0.781 s\n",
      "Not saving model! Last saved: 117\n",
      "Epoch 120:\n",
      "\n",
      "Evaluation Completed (valid)!\tLoss: -89.3830 Time: 0.751 s\n",
      "Saving model!\n",
      "Epoch 121:\n",
      "\n",
      "Evaluation Completed (valid)!\tLoss: -89.4282 Time: 0.752 s\n",
      "Saving model!\n",
      "Epoch 122:\n",
      "\n",
      "Evaluation Completed (valid)!\tLoss: -89.4376 Time: 0.753 s\n",
      "Saving model!\n",
      "Epoch 123:\n",
      "\n",
      "Evaluation Completed (valid)!\tLoss: -89.5246 Time: 0.800 s\n",
      "Saving model!\n",
      "Epoch 124:\n",
      "\n",
      "Evaluation Completed (valid)!\tLoss: -89.5372 Time: 0.785 s\n",
      "Saving model!\n",
      "Epoch 125:\n",
      "\n",
      "Evaluation Completed (valid)!\tLoss: -89.4276 Time: 0.771 s\n",
      "Not saving model! Last saved: 124\n",
      "Epoch 126:\n",
      "\n",
      "Evaluation Completed (valid)!\tLoss: -89.5770 Time: 0.749 s\n",
      "Saving model!\n",
      "Epoch 127:\n",
      "\n",
      "Evaluation Completed (valid)!\tLoss: -89.2509 Time: 0.762 s\n",
      "Not saving model! Last saved: 126\n",
      "Epoch 128:\n",
      "\n",
      "Evaluation Completed (valid)!\tLoss: -89.6057 Time: 0.780 s\n",
      "Saving model!\n",
      "Epoch 129:\n",
      "\n",
      "Evaluation Completed (valid)!\tLoss: -89.4836 Time: 0.754 s\n",
      "Not saving model! Last saved: 128\n",
      "Epoch 130:\n",
      "\n",
      "Evaluation Completed (valid)!\tLoss: -89.4330 Time: 0.751 s\n",
      "Not saving model! Last saved: 128\n",
      "Epoch 131:\n",
      "\n",
      "Evaluation Completed (valid)!\tLoss: -89.5192 Time: 0.782 s\n",
      "Not saving model! Last saved: 128\n",
      "Epoch 132:\n",
      "\n",
      "Evaluation Completed (valid)!\tLoss: -89.6458 Time: 0.752 s\n",
      "Saving model!\n",
      "Epoch 133:\n",
      "\n",
      "Evaluation Completed (valid)!\tLoss: -89.5168 Time: 0.756 s\n",
      "Not saving model! Last saved: 132\n",
      "Epoch 134:\n",
      "\n",
      "Evaluation Completed (valid)!\tLoss: -89.7138 Time: 0.755 s\n",
      "Saving model!\n",
      "Epoch 135:\n",
      "\n",
      "Evaluation Completed (valid)!\tLoss: -89.7633 Time: 0.742 s\n",
      "Saving model!\n",
      "Epoch 136:\n",
      "\n",
      "Evaluation Completed (valid)!\tLoss: -89.8000 Time: 0.758 s\n",
      "Saving model!\n",
      "Epoch 137:\n",
      "\n",
      "Evaluation Completed (valid)!\tLoss: -89.7219 Time: 0.740 s\n",
      "Not saving model! Last saved: 136\n",
      "Epoch 138:\n",
      "\n",
      "Evaluation Completed (valid)!\tLoss: -89.8754 Time: 0.767 s\n",
      "Saving model!\n",
      "Epoch 139:\n",
      "\n",
      "Evaluation Completed (valid)!\tLoss: -89.8692 Time: 0.742 s\n",
      "Not saving model! Last saved: 138\n",
      "Epoch 140:\n",
      "\n",
      "Evaluation Completed (valid)!\tLoss: -89.8619 Time: 0.744 s\n",
      "Not saving model! Last saved: 138\n",
      "Epoch 141:\n",
      "\n",
      "Evaluation Completed (valid)!\tLoss: -89.7583 Time: 0.743 s\n",
      "Not saving model! Last saved: 138\n",
      "Epoch 142:\n",
      "\n",
      "Evaluation Completed (valid)!\tLoss: -89.8600 Time: 0.739 s\n",
      "Not saving model! Last saved: 138\n",
      "Epoch 143:\n",
      "\n",
      "Evaluation Completed (valid)!\tLoss: -89.9454 Time: 0.746 s\n",
      "Saving model!\n",
      "Epoch 144:\n",
      "\n",
      "Evaluation Completed (valid)!\tLoss: -89.9434 Time: 0.743 s\n",
      "Not saving model! Last saved: 143\n",
      "Epoch 145:\n",
      "\n",
      "Evaluation Completed (valid)!\tLoss: -90.0383 Time: 0.741 s\n",
      "Saving model!\n",
      "Epoch 146:\n",
      "\n",
      "Evaluation Completed (valid)!\tLoss: -90.0107 Time: 0.752 s\n",
      "Not saving model! Last saved: 145\n",
      "Epoch 147:\n",
      "\n",
      "Evaluation Completed (valid)!\tLoss: -89.9205 Time: 0.745 s\n",
      "Not saving model! Last saved: 145\n",
      "Epoch 148:\n",
      "\n",
      "Evaluation Completed (valid)!\tLoss: -90.0857 Time: 0.739 s\n",
      "Saving model!\n",
      "Epoch 149:\n",
      "\n",
      "Evaluation Completed (valid)!\tLoss: -89.8944 Time: 0.739 s\n",
      "Not saving model! Last saved: 148\n",
      "Epoch 150:\n",
      "\n",
      "Evaluation Completed (valid)!\tLoss: -90.1555 Time: 0.740 s\n",
      "Saving model!\n",
      "Epoch 151:\n",
      "\n",
      "Evaluation Completed (valid)!\tLoss: -90.1329 Time: 0.770 s\n",
      "Not saving model! Last saved: 150\n",
      "Epoch 152:\n",
      "\n",
      "Evaluation Completed (valid)!\tLoss: -89.9639 Time: 0.740 s\n",
      "Not saving model! Last saved: 150\n",
      "Epoch 153:\n",
      "\n",
      "Evaluation Completed (valid)!\tLoss: -89.9464 Time: 0.745 s\n",
      "Not saving model! Last saved: 150\n",
      "Epoch 154:\n",
      "\n",
      "Evaluation Completed (valid)!\tLoss: -90.1591 Time: 0.740 s\n",
      "Saving model!\n",
      "Epoch 155:\n",
      "\n",
      "Evaluation Completed (valid)!\tLoss: -90.1657 Time: 0.746 s\n",
      "Saving model!\n",
      "Epoch 156:\n",
      "\n",
      "Evaluation Completed (valid)!\tLoss: -90.1005 Time: 0.753 s\n",
      "Not saving model! Last saved: 155\n",
      "Epoch 157:\n",
      "\n",
      "Evaluation Completed (valid)!\tLoss: -90.1176 Time: 0.768 s\n",
      "Not saving model! Last saved: 155\n",
      "Epoch 158:\n",
      "\n",
      "Evaluation Completed (valid)!\tLoss: -90.1844 Time: 0.750 s\n",
      "Saving model!\n",
      "Epoch 159:\n",
      "\n",
      "Evaluation Completed (valid)!\tLoss: -90.2450 Time: 0.734 s\n",
      "Saving model!\n",
      "Epoch 160:\n",
      "\n",
      "Evaluation Completed (valid)!\tLoss: -90.2659 Time: 0.740 s\n",
      "Saving model!\n",
      "Epoch 161:\n",
      "\n",
      "Evaluation Completed (valid)!\tLoss: -90.2207 Time: 0.746 s\n",
      "Not saving model! Last saved: 160\n",
      "Epoch 162:\n",
      "\n",
      "Evaluation Completed (valid)!\tLoss: -90.2177 Time: 0.743 s\n",
      "Not saving model! Last saved: 160\n",
      "Epoch 163:\n",
      "\n",
      "Evaluation Completed (valid)!\tLoss: -90.1438 Time: 0.747 s\n",
      "Not saving model! Last saved: 160\n",
      "Epoch 164:\n",
      "\n",
      "Evaluation Completed (valid)!\tLoss: -90.3531 Time: 0.747 s\n",
      "Saving model!\n",
      "Epoch 165:\n",
      "\n",
      "Evaluation Completed (valid)!\tLoss: -90.0449 Time: 0.744 s\n",
      "Not saving model! Last saved: 164\n",
      "Epoch 166:\n",
      "\n",
      "Evaluation Completed (valid)!\tLoss: -90.0637 Time: 0.743 s\n",
      "Not saving model! Last saved: 164\n",
      "Epoch 167:\n",
      "\n",
      "Evaluation Completed (valid)!\tLoss: -90.3135 Time: 0.741 s\n",
      "Not saving model! Last saved: 164\n",
      "Epoch 168:\n",
      "\n",
      "Evaluation Completed (valid)!\tLoss: -90.2372 Time: 0.745 s\n",
      "Not saving model! Last saved: 164\n",
      "Epoch 169:\n",
      "\n",
      "Evaluation Completed (valid)!\tLoss: -90.3883 Time: 0.745 s\n",
      "Saving model!\n",
      "Epoch 170:\n",
      "\n",
      "Evaluation Completed (valid)!\tLoss: -90.2610 Time: 0.747 s\n",
      "Not saving model! Last saved: 169\n",
      "Epoch 171:\n",
      "\n",
      "Evaluation Completed (valid)!\tLoss: -90.2129 Time: 0.747 s\n",
      "Not saving model! Last saved: 169\n",
      "Epoch 172:\n",
      "\n",
      "Evaluation Completed (valid)!\tLoss: -90.4914 Time: 0.746 s\n",
      "Saving model!\n",
      "Epoch 173:\n",
      "\n",
      "Evaluation Completed (valid)!\tLoss: -90.3402 Time: 0.745 s\n",
      "Not saving model! Last saved: 172\n",
      "Epoch 174:\n",
      "\n",
      "Evaluation Completed (valid)!\tLoss: -90.2266 Time: 0.745 s\n",
      "Not saving model! Last saved: 172\n",
      "Epoch 175:\n"
     ]
    },
    {
     "name": "stdout",
     "output_type": "stream",
     "text": [
      "\n",
      "Evaluation Completed (valid)!\tLoss: -90.4410 Time: 0.746 s\n",
      "Not saving model! Last saved: 172\n",
      "Epoch 176:\n",
      "\n",
      "Evaluation Completed (valid)!\tLoss: -90.3315 Time: 0.770 s\n",
      "Not saving model! Last saved: 172\n",
      "Epoch 177:\n",
      "\n",
      "Evaluation Completed (valid)!\tLoss: -90.3961 Time: 0.744 s\n",
      "Not saving model! Last saved: 172\n",
      "Epoch 178:\n",
      "\n",
      "Evaluation Completed (valid)!\tLoss: -90.5137 Time: 0.746 s\n",
      "Saving model!\n",
      "Epoch 179:\n",
      "\n",
      "Evaluation Completed (valid)!\tLoss: -90.5810 Time: 0.744 s\n",
      "Saving model!\n",
      "Epoch 180:\n",
      "\n",
      "Evaluation Completed (valid)!\tLoss: -90.5690 Time: 0.734 s\n",
      "Not saving model! Last saved: 179\n",
      "Epoch 181:\n",
      "\n",
      "Evaluation Completed (valid)!\tLoss: -90.4557 Time: 0.733 s\n",
      "Not saving model! Last saved: 179\n",
      "Epoch 182:\n",
      "\n",
      "Evaluation Completed (valid)!\tLoss: -90.5012 Time: 0.735 s\n",
      "Not saving model! Last saved: 179\n",
      "Epoch 183:\n",
      "\n",
      "Evaluation Completed (valid)!\tLoss: -90.6507 Time: 0.737 s\n",
      "Saving model!\n",
      "Epoch 184:\n",
      "\n",
      "Evaluation Completed (valid)!\tLoss: -90.6470 Time: 0.735 s\n",
      "Not saving model! Last saved: 183\n",
      "Epoch 185:\n",
      "\n",
      "Evaluation Completed (valid)!\tLoss: -90.5125 Time: 0.718 s\n",
      "Not saving model! Last saved: 183\n",
      "Epoch 186:\n",
      "\n",
      "Evaluation Completed (valid)!\tLoss: -90.6096 Time: 0.720 s\n",
      "Not saving model! Last saved: 183\n",
      "Epoch 187:\n",
      "\n",
      "Evaluation Completed (valid)!\tLoss: -90.7699 Time: 0.720 s\n",
      "Saving model!\n",
      "Epoch 188:\n",
      "\n",
      "Evaluation Completed (valid)!\tLoss: -90.5469 Time: 0.717 s\n",
      "Not saving model! Last saved: 187\n",
      "Epoch 189:\n",
      "\n",
      "Evaluation Completed (valid)!\tLoss: -90.6060 Time: 0.743 s\n",
      "Not saving model! Last saved: 187\n",
      "Epoch 190:\n",
      "\n",
      "Evaluation Completed (valid)!\tLoss: -90.7781 Time: 0.720 s\n",
      "Saving model!\n",
      "Epoch 191:\n",
      "\n",
      "Evaluation Completed (valid)!\tLoss: -90.6525 Time: 0.717 s\n",
      "Not saving model! Last saved: 190\n",
      "Epoch 192:\n",
      "\n",
      "Evaluation Completed (valid)!\tLoss: -90.7472 Time: 0.718 s\n",
      "Not saving model! Last saved: 190\n",
      "Epoch 193:\n",
      "\n",
      "Evaluation Completed (valid)!\tLoss: -90.6771 Time: 0.717 s\n",
      "Not saving model! Last saved: 190\n",
      "Epoch 194:\n",
      "\n",
      "Evaluation Completed (valid)!\tLoss: -90.8357 Time: 0.718 s\n",
      "Saving model!\n",
      "Epoch 195:\n",
      "\n",
      "Evaluation Completed (valid)!\tLoss: -90.8028 Time: 0.718 s\n",
      "Not saving model! Last saved: 194\n",
      "Epoch 196:\n",
      "\n",
      "Evaluation Completed (valid)!\tLoss: -90.6265 Time: 0.721 s\n",
      "Not saving model! Last saved: 194\n",
      "Epoch 197:\n",
      "\n",
      "Evaluation Completed (valid)!\tLoss: -90.7484 Time: 0.718 s\n",
      "Not saving model! Last saved: 194\n",
      "Epoch 198:\n",
      "\n",
      "Evaluation Completed (valid)!\tLoss: -90.8512 Time: 0.719 s\n",
      "Saving model!\n",
      "Epoch 199:\n",
      "\n",
      "Evaluation Completed (valid)!\tLoss: -90.7012 Time: 0.718 s\n",
      "Not saving model! Last saved: 198\n",
      "Epoch 200:\n",
      "\n",
      "Evaluation Completed (valid)!\tLoss: -90.9660 Time: 0.717 s\n",
      "Saving model!\n",
      "Epoch 201:\n",
      "\n",
      "Evaluation Completed (valid)!\tLoss: -90.7438 Time: 0.717 s\n",
      "Not saving model! Last saved: 200\n",
      "Epoch 202:\n",
      "\n",
      "Evaluation Completed (valid)!\tLoss: -90.9508 Time: 0.745 s\n",
      "Not saving model! Last saved: 200\n",
      "Epoch 203:\n",
      "\n",
      "Evaluation Completed (valid)!\tLoss: -90.8257 Time: 0.718 s\n",
      "Not saving model! Last saved: 200\n",
      "Epoch 204:\n",
      "\n",
      "Evaluation Completed (valid)!\tLoss: -91.0463 Time: 0.718 s\n",
      "Saving model!\n",
      "Epoch 205:\n",
      "\n",
      "Evaluation Completed (valid)!\tLoss: -90.9935 Time: 0.719 s\n",
      "Not saving model! Last saved: 204\n",
      "Epoch 206:\n",
      "\n",
      "Evaluation Completed (valid)!\tLoss: -91.0462 Time: 0.719 s\n",
      "Not saving model! Last saved: 204\n",
      "Epoch 207:\n",
      "\n",
      "Evaluation Completed (valid)!\tLoss: -90.9705 Time: 0.720 s\n",
      "Not saving model! Last saved: 204\n",
      "Epoch 208:\n",
      "\n",
      "Evaluation Completed (valid)!\tLoss: -90.9145 Time: 0.718 s\n",
      "Not saving model! Last saved: 204\n",
      "Epoch 209:\n",
      "\n",
      "Evaluation Completed (valid)!\tLoss: -90.9486 Time: 0.718 s\n",
      "Not saving model! Last saved: 204\n",
      "Epoch 210:\n",
      "\n",
      "Evaluation Completed (valid)!\tLoss: -90.9942 Time: 0.718 s\n",
      "Not saving model! Last saved: 204\n",
      "Epoch 211:\n",
      "\n",
      "Evaluation Completed (valid)!\tLoss: -90.8904 Time: 0.717 s\n",
      "Not saving model! Last saved: 204\n",
      "Epoch 212:\n",
      "\n",
      "Evaluation Completed (valid)!\tLoss: -91.0807 Time: 0.719 s\n",
      "Saving model!\n",
      "Epoch 213:\n",
      "\n",
      "Evaluation Completed (valid)!\tLoss: -91.1510 Time: 0.717 s\n",
      "Saving model!\n",
      "Epoch 214:\n",
      "\n",
      "Evaluation Completed (valid)!\tLoss: -91.1813 Time: 0.718 s\n",
      "Saving model!\n",
      "Epoch 215:\n",
      "\n",
      "Evaluation Completed (valid)!\tLoss: -91.1075 Time: 0.721 s\n",
      "Not saving model! Last saved: 214\n",
      "Epoch 216:\n",
      "\n",
      "Evaluation Completed (valid)!\tLoss: -91.0753 Time: 0.720 s\n",
      "Not saving model! Last saved: 214\n",
      "Epoch 217:\n",
      "\n",
      "Evaluation Completed (valid)!\tLoss: -90.9864 Time: 0.722 s\n",
      "Not saving model! Last saved: 214\n",
      "Epoch 218:\n",
      "\n",
      "Evaluation Completed (valid)!\tLoss: -91.0549 Time: 0.718 s\n",
      "Not saving model! Last saved: 214\n",
      "Epoch 219:\n",
      "\n",
      "Evaluation Completed (valid)!\tLoss: -91.0875 Time: 0.721 s\n",
      "Not saving model! Last saved: 214\n",
      "Epoch 220:\n",
      "\n",
      "Evaluation Completed (valid)!\tLoss: -91.1435 Time: 0.718 s\n",
      "Not saving model! Last saved: 214\n",
      "Epoch 221:\n",
      "\n",
      "Evaluation Completed (valid)!\tLoss: -91.1513 Time: 0.747 s\n",
      "Not saving model! Last saved: 214\n",
      "Epoch 222:\n",
      "\n",
      "Evaluation Completed (valid)!\tLoss: -91.3037 Time: 0.719 s\n",
      "Saving model!\n",
      "Epoch 223:\n",
      "\n",
      "Evaluation Completed (valid)!\tLoss: -91.0660 Time: 0.717 s\n",
      "Not saving model! Last saved: 222\n",
      "Epoch 224:\n",
      "\n",
      "Evaluation Completed (valid)!\tLoss: -91.3853 Time: 0.720 s\n",
      "Saving model!\n",
      "Epoch 225:\n",
      "\n",
      "Evaluation Completed (valid)!\tLoss: -91.2696 Time: 0.718 s\n",
      "Not saving model! Last saved: 224\n",
      "Epoch 226:\n",
      "\n",
      "Evaluation Completed (valid)!\tLoss: -91.4582 Time: 0.719 s\n",
      "Saving model!\n",
      "Epoch 227:\n",
      "\n",
      "Evaluation Completed (valid)!\tLoss: -91.3082 Time: 0.717 s\n",
      "Not saving model! Last saved: 226\n",
      "Epoch 228:\n",
      "\n",
      "Evaluation Completed (valid)!\tLoss: -91.3175 Time: 0.719 s\n",
      "Not saving model! Last saved: 226\n",
      "Epoch 229:\n",
      "\n",
      "Evaluation Completed (valid)!\tLoss: -91.3864 Time: 0.718 s\n",
      "Not saving model! Last saved: 226\n",
      "Epoch 230:\n",
      "\n",
      "Evaluation Completed (valid)!\tLoss: -91.3350 Time: 0.719 s\n",
      "Not saving model! Last saved: 226\n",
      "Epoch 231:\n",
      "\n",
      "Evaluation Completed (valid)!\tLoss: -91.3344 Time: 0.719 s\n",
      "Not saving model! Last saved: 226\n",
      "Epoch 232:\n",
      "\n",
      "Evaluation Completed (valid)!\tLoss: -91.4831 Time: 0.719 s\n",
      "Saving model!\n",
      "Epoch 233:\n",
      "\n",
      "Evaluation Completed (valid)!\tLoss: -91.4003 Time: 0.719 s\n",
      "Not saving model! Last saved: 232\n",
      "Epoch 234:\n",
      "\n",
      "Evaluation Completed (valid)!\tLoss: -91.3504 Time: 0.744 s\n",
      "Not saving model! Last saved: 232\n",
      "Epoch 235:\n",
      "\n",
      "Evaluation Completed (valid)!\tLoss: -91.5451 Time: 0.719 s\n",
      "Saving model!\n",
      "Epoch 236:\n",
      "\n",
      "Evaluation Completed (valid)!\tLoss: -91.5597 Time: 0.721 s\n",
      "Saving model!\n",
      "Epoch 237:\n",
      "\n",
      "Evaluation Completed (valid)!\tLoss: -91.5101 Time: 0.718 s\n",
      "Not saving model! Last saved: 236\n",
      "Epoch 238:\n",
      "\n",
      "Evaluation Completed (valid)!\tLoss: -91.6251 Time: 0.721 s\n",
      "Saving model!\n",
      "Epoch 239:\n",
      "\n",
      "Evaluation Completed (valid)!\tLoss: -91.5098 Time: 0.720 s\n",
      "Not saving model! Last saved: 238\n",
      "Epoch 240:\n",
      "\n",
      "Evaluation Completed (valid)!\tLoss: -91.6260 Time: 0.719 s\n",
      "Saving model!\n",
      "Epoch 241:\n",
      "\n",
      "Evaluation Completed (valid)!\tLoss: -91.7096 Time: 0.722 s\n",
      "Saving model!\n",
      "Epoch 242:\n",
      "\n",
      "Evaluation Completed (valid)!\tLoss: -91.7707 Time: 0.726 s\n",
      "Saving model!\n",
      "Epoch 243:\n",
      "\n",
      "Evaluation Completed (valid)!\tLoss: -91.5667 Time: 0.719 s\n",
      "Not saving model! Last saved: 242\n",
      "Epoch 244:\n",
      "\n",
      "Evaluation Completed (valid)!\tLoss: -91.6747 Time: 0.719 s\n",
      "Not saving model! Last saved: 242\n",
      "Epoch 245:\n",
      "\n",
      "Evaluation Completed (valid)!\tLoss: -91.5544 Time: 0.722 s\n",
      "Not saving model! Last saved: 242\n",
      "Epoch 246:\n",
      "\n",
      "Evaluation Completed (valid)!\tLoss: -91.7624 Time: 0.720 s\n",
      "Not saving model! Last saved: 242\n",
      "Epoch 247:\n",
      "\n",
      "Evaluation Completed (valid)!\tLoss: -91.7430 Time: 0.744 s\n",
      "Not saving model! Last saved: 242\n",
      "Epoch 248:\n",
      "\n",
      "Evaluation Completed (valid)!\tLoss: -91.8276 Time: 0.720 s\n",
      "Saving model!\n",
      "Epoch 249:\n",
      "\n",
      "Evaluation Completed (valid)!\tLoss: -91.3233 Time: 0.718 s\n",
      "Not saving model! Last saved: 248\n",
      "Epoch 250:\n",
      "\n",
      "Evaluation Completed (valid)!\tLoss: -91.7545 Time: 0.719 s\n",
      "Not saving model! Last saved: 248\n",
      "Epoch 251:\n",
      "\n",
      "Evaluation Completed (valid)!\tLoss: -91.7889 Time: 0.720 s\n",
      "Not saving model! Last saved: 248\n",
      "Epoch 252:\n",
      "\n",
      "Evaluation Completed (valid)!\tLoss: -91.5792 Time: 0.718 s\n",
      "Not saving model! Last saved: 248\n",
      "Epoch 253:\n",
      "\n",
      "Evaluation Completed (valid)!\tLoss: -91.8811 Time: 0.744 s\n",
      "Saving model!\n",
      "Epoch 254:\n",
      "\n",
      "Evaluation Completed (valid)!\tLoss: -91.7563 Time: 0.719 s\n",
      "Not saving model! Last saved: 253\n",
      "Epoch 255:\n",
      "\n",
      "Evaluation Completed (valid)!\tLoss: -91.8568 Time: 0.719 s\n",
      "Not saving model! Last saved: 253\n",
      "Epoch 256:\n",
      "\n",
      "Evaluation Completed (valid)!\tLoss: -91.5225 Time: 0.721 s\n",
      "Not saving model! Last saved: 253\n",
      "Epoch 257:\n",
      "\n",
      "Evaluation Completed (valid)!\tLoss: -91.7875 Time: 0.724 s\n",
      "Not saving model! Last saved: 253\n",
      "Epoch 258:\n"
     ]
    },
    {
     "name": "stdout",
     "output_type": "stream",
     "text": [
      "\n",
      "Evaluation Completed (valid)!\tLoss: -91.8328 Time: 0.719 s\n",
      "Not saving model! Last saved: 253\n",
      "Epoch 259:\n",
      "\n",
      "Evaluation Completed (valid)!\tLoss: -91.9197 Time: 0.722 s\n",
      "Saving model!\n",
      "Epoch 260:\n",
      "\n",
      "Evaluation Completed (valid)!\tLoss: -92.0235 Time: 0.718 s\n",
      "Saving model!\n",
      "Epoch 261:\n",
      "\n",
      "Evaluation Completed (valid)!\tLoss: -91.6480 Time: 0.718 s\n",
      "Not saving model! Last saved: 260\n",
      "Epoch 262:\n",
      "\n",
      "Evaluation Completed (valid)!\tLoss: -91.9282 Time: 0.721 s\n",
      "Not saving model! Last saved: 260\n",
      "Epoch 263:\n",
      "\n",
      "Evaluation Completed (valid)!\tLoss: -91.8902 Time: 0.717 s\n",
      "Not saving model! Last saved: 260\n",
      "Epoch 264:\n",
      "\n",
      "Evaluation Completed (valid)!\tLoss: -91.6829 Time: 0.719 s\n",
      "Not saving model! Last saved: 260\n",
      "Epoch 265:\n",
      "\n",
      "Evaluation Completed (valid)!\tLoss: -91.9308 Time: 0.717 s\n",
      "Not saving model! Last saved: 260\n",
      "Epoch 266:\n",
      "\n",
      "Evaluation Completed (valid)!\tLoss: -91.7536 Time: 0.744 s\n",
      "Not saving model! Last saved: 260\n",
      "Epoch 267:\n",
      "\n",
      "Evaluation Completed (valid)!\tLoss: -91.9895 Time: 0.720 s\n",
      "Not saving model! Last saved: 260\n",
      "Epoch 268:\n",
      "\n",
      "Evaluation Completed (valid)!\tLoss: -91.9011 Time: 0.719 s\n",
      "Not saving model! Last saved: 260\n",
      "Epoch 269:\n",
      "\n",
      "Evaluation Completed (valid)!\tLoss: -91.6543 Time: 0.719 s\n",
      "Not saving model! Last saved: 260\n",
      "Epoch 270:\n",
      "\n",
      "Evaluation Completed (valid)!\tLoss: -91.9860 Time: 0.720 s\n",
      "Not saving model! Last saved: 260\n",
      "Epoch 271:\n",
      "\n",
      "Evaluation Completed (valid)!\tLoss: -91.9393 Time: 0.720 s\n",
      "Not saving model! Last saved: 260\n",
      "Patience Limit Reached\n"
     ]
    }
   ],
   "source": [
    "N_EPOCHS = 10\n",
    "BEST_LOSS = 0\n",
    "LAST_SAVED = -1\n",
    "PATIENCE_COUNT = 0\n",
    "PATIENCE_LIMIT = 5\n",
    "for epoch in range(1, 1000):\n",
    "    print(\"Epoch {}:\".format(epoch))\n",
    "    sigtrain()\n",
    "    cur_loss = sigevaluate()\n",
    "\n",
    "    if cur_loss <= BEST_LOSS:\n",
    "        PATIENCE_COUNT = 0\n",
    "        BEST_LOSS = cur_loss\n",
    "        LAST_SAVED = epoch\n",
    "        print(\"Saving model!\")\n",
    "        torch.save(sigmodel.state_dict(),f\"/data/t3home000/spark/QUASAR/weights/{ae_def['type']}_{ae_def['trainon']}_{ae_def['features']}_{ae_def['architecture']}_{ae_def['selection']}_{ae_def['trainloss']}_{ae_def['beta']}_{ae_def['zdimnflow']}.h5\")\n",
    "        \n",
    "    else:\n",
    "        PATIENCE_COUNT += 1\n",
    "        print(\"Not saving model! Last saved: {}\".format(LAST_SAVED))\n",
    "        if PATIENCE_COUNT > 10:\n",
    "            print(\"Patience Limit Reached\")\n",
    "            break "
   ]
  },
  {
   "cell_type": "code",
   "execution_count": 80,
   "metadata": {},
   "outputs": [
    {
     "data": {
      "text/plain": [
       "<All keys matched successfully>"
      ]
     },
     "execution_count": 80,
     "metadata": {},
     "output_type": "execute_result"
    }
   ],
   "source": [
    "sigmodel.load_state_dict(torch.load(f\"/data/t3home000/spark/QUASAR/weights/{ae_def['type']}_{ae_def['trainon']}_{ae_def['features']}_{ae_def['architecture']}_{ae_def['selection']}_{ae_def['trainloss']}_{ae_def['beta']}_{ae_def['zdimnflow']}.h5\"))"
   ]
  },
  {
   "cell_type": "code",
   "execution_count": 81,
   "metadata": {},
   "outputs": [],
   "source": [
    "sigout = sigmodel(torch.tensor(Y).float().cuda())[0]\n",
    "sigout = sigout.data.cpu().numpy()"
   ]
  },
  {
   "cell_type": "code",
   "execution_count": 92,
   "metadata": {},
   "outputs": [
    {
     "data": {
      "text/plain": [
       "<matplotlib.lines.Line2D at 0x7fc20d558080>"
      ]
     },
     "execution_count": 92,
     "metadata": {},
     "output_type": "execute_result"
    },
    {
     "data": {
      "image/png": "[encoded data removed]",
      "text/plain": [
       "<Figure size 432x288 with 1 Axes>"
      ]
     },
     "metadata": {
      "needs_background": "light"
     },
     "output_type": "display_data"
    }
   ],
   "source": [
    "bins = np.linspace(-3,3,100)\n",
    "bins.shape\n",
    "column = 9\n",
    "#print(f_rnd.columns[column]\n",
    "plt.hist(Y[:,column],bins,alpha=0.5,color='b');\n",
    "plt.hist(sigout[:,column],bins,alpha=0.5,color='r');\n",
    "#plt.hist(out2[:,column],bins,alpha=0.5,color='g');\n",
    "plt.axvline(np.mean(Y[:,column]))"
   ]
  },
  {
   "cell_type": "code",
   "execution_count": 97,
   "metadata": {},
   "outputs": [],
   "source": [
    "mjj, j1mass, j2mass = [4000, 150, 150]\n",
    "f = pd.read_hdf(f\"/data/t3home000/spark/QUASAR/preprocessing/delphes_output_{mjj}_{j1mass}_{j2mass}.h5\")\n",
    "dt = f.values\n",
    "correct = (dt[:,3]>0) &(dt[:,19]>0) & (dt[:,1]>0) & (dt[:,2]>0)\n",
    "dt = dt[correct]\n",
    "for i in range(13,19):\n",
    "    dt[:,i] = dt[:,i]/dt[:,3]\n",
    "\n",
    "for i in range(29,35):\n",
    "    dt[:,i] = dt[:,i]/(dt[:,19])\n",
    "\n",
    "correct = (dt[:,0]>mjj-300) & (dt[:,0]<mjj+300)\n",
    "dt = dt[correct]\n",
    "\n",
    "correct = (dt[:,3]>j1mass-100) & (dt[:,3]<j1mass+100) & (dt[:,19]>j2mass-100) & (dt[:,19]<j2mass+100)\n",
    "dt = dt[correct]\n",
    "\n",
    "\n",
    "Y = dt[:,[3,4,5,6,11,12,19,20,21,22,27,28]]"
   ]
  },
  {
   "cell_type": "code",
   "execution_count": 98,
   "metadata": {},
   "outputs": [],
   "source": [
    "for i in range(12):\n",
    "    Y[:,i] = (Y[:,i]-sig_mean[i])/sig_std[i]"
   ]
  },
  {
   "cell_type": "code",
   "execution_count": 99,
   "metadata": {},
   "outputs": [],
   "source": [
    "sigout = sigmodel(torch.tensor(Y).float().cuda())[0]\n",
    "sigout = sigout.data.cpu().numpy()"
   ]
  },
  {
   "cell_type": "code",
   "execution_count": 100,
   "metadata": {},
   "outputs": [
    {
     "data": {
      "image/png": "[encoded data removed]",
      "text/plain": [
       "<Figure size 432x288 with 1 Axes>"
      ]
     },
     "metadata": {
      "needs_background": "light"
     },
     "output_type": "display_data"
    }
   ],
   "source": [
    "bins = np.linspace(0,1000,100)\n",
    "bins.shape\n",
    "column = 3\n",
    "#print(f_rnd.columns[column]\n",
    "#plt.hist(dt[:,column],bins,alpha=0.5,color='b');\n",
    "plt.hist(sigout[:,column],bins,alpha=0.5,color='r');\n",
    "plt.hist(Y[:,column],bins,alpha=0.5,color='g');\n",
    "#plt.axvline(np.mean(Y[:,column]))"
   ]
  },
  {
   "cell_type": "code",
   "execution_count": 106,
   "metadata": {},
   "outputs": [
    {
     "data": {
      "text/plain": [
       "<matplotlib.lines.Line2D at 0x7fc20c58b3c8>"
      ]
     },
     "execution_count": 106,
     "metadata": {},
     "output_type": "execute_result"
    },
    {
     "data": {
      "image/png": "[encoded data removed]",
      "text/plain": [
       "<Figure size 432x288 with 1 Axes>"
      ]
     },
     "metadata": {
      "needs_background": "light"
     },
     "output_type": "display_data"
    }
   ],
   "source": [
    "bins = np.linspace(-3,3,100)\n",
    "bins.shape\n",
    "column = 5\n",
    "#print(f_rn.columns[column]\n",
    "plt.hist(Y[:,column],bins,alpha=0.5,color='b');\n",
    "plt.hist(sigout[:,column],bins,alpha=0.5,color='r');\n",
    "#plt.hist(out2[:,column],bins,alpha=0.5,color='g');\n",
    "plt.axvline(np.mean(Y[:,column]))"
   ]
  },
  {
   "cell_type": "code",
   "execution_count": null,
   "metadata": {},
   "outputs": [],
   "source": []
  },
  {
   "cell_type": "code",
   "execution_count": null,
   "metadata": {},
   "outputs": [],
   "source": []
  },
  {
   "cell_type": "code",
   "execution_count": 107,
   "metadata": {},
   "outputs": [],
   "source": [
    "varyj1mass_wps = ([4000, 150, 150],[4000, 300, 150],[4000, 450, 150],[4000, 500, 150],[4000, 650, 150],[4000, 700, 150],[4000, 850, 150],[4000, 900, 150])"
   ]
  },
  {
   "cell_type": "code",
   "execution_count": null,
   "metadata": {},
   "outputs": [],
   "source": []
  },
  {
   "cell_type": "code",
   "execution_count": null,
   "metadata": {},
   "outputs": [],
   "source": []
  },
  {
   "cell_type": "code",
   "execution_count": 102,
   "metadata": {},
   "outputs": [
    {
     "name": "stdout",
     "output_type": "stream",
     "text": [
      "(50885, 10)\n",
      "[1.2562833  1.0150101  4.63527    3.1353111  3.1270933  2.5498352\n",
      " 0.98916984 3.3142097  0.5134599  2.5206301 ]\n",
      "(49079, 10)\n",
      "[0.8910228  0.4618418  1.2828003  1.0181931  0.7241632  0.6351117\n",
      " 1.7559447  0.3825097  0.9646135  0.95724446]\n",
      "(40305, 10)\n",
      "[0.5540186  1.2050751  0.3490556  1.8467045  0.75147474 0.671209\n",
      " 1.4278493  1.7209883  0.83306026 1.0873885 ]\n",
      "(36079, 10)\n",
      "[0.4340822  7.6371846  1.1879708  0.43213457 0.3415988  0.5919516\n",
      " 0.70254576 0.65806735 2.201469   0.5131256 ]\n",
      "(20364, 10)\n",
      "[0.5014051  1.0378898  0.6118281  0.4327641  1.1696905  0.35628533\n",
      " 0.48016113 0.14187819 0.88088095 0.4277892 ]\n",
      "(14582, 10)\n",
      "[1.0281534  1.0762899  0.7548882  0.17842868 0.44157785 1.3323195\n",
      " 0.7724545  0.33537352 0.5283326  0.60084414]\n",
      "(1110, 10)\n",
      "[1.4535477  0.2469969  3.3151753  0.22895774 0.8264796  2.600779\n",
      " 1.0788665  0.63972807 1.0814985  1.4302014 ]\n",
      "(305, 10)\n",
      "[1.5050468 1.4343903 2.8387651 1.0893123 1.8100127 0.6711144 5.2034693\n",
      " 1.4315116 1.7810924 1.0626707]\n"
     ]
    },
    {
     "data": {
      "image/png": "[encoded data removed]",
      "text/plain": [
       "<Figure size 432x288 with 1 Axes>"
      ]
     },
     "metadata": {
      "needs_background": "light"
     },
     "output_type": "display_data"
    }
   ],
   "source": [
    "for mjj, j1mass, j2mass in varyj1mass_wps:\n",
    "    \n",
    "    f = pd.read_hdf(f\"/data/t3home000/spark/QUASAR/preprocessing/delphes_output_{mjj}_{j1mass}_{j2mass}.h5\")\n",
    "    dt = f.values\n",
    "    correct = (dt[:,3]>0) &(dt[:,19]>0) & (dt[:,1]>0) & (dt[:,2]>0)\n",
    "    dt = dt[correct]\n",
    "    for i in range(13,19):\n",
    "        dt[:,i] = dt[:,i]/dt[:,3]\n",
    "\n",
    "    for i in range(29,35):\n",
    "        dt[:,i] = dt[:,i]/(dt[:,19])\n",
    "        \n",
    "    correct = (dt[:,0]>mjj-300) & (dt[:,0]<mjj+300)\n",
    "    dt = dt[correct]\n",
    "\n",
    "    correct = (dt[:,3]>j1mass-100) & (dt[:,3]<j1mass+100) & (dt[:,19]>j2mass-100) & (dt[:,19]<j2mass+100)\n",
    "    dt = dt[correct]\n",
    "\n",
    "   \n",
    "    Y = dt[:,[4,5,6,11,12,20,21,22,27,28]]\n",
    "    #Y = dt[:,[3,4,5,6,11,12,13,14,15,16,17,18,19,20,21,22,27,28,29,30,31,32,33,34]]\n",
    "    #Y = dt[:,[3,4,5,6,11,12,13,14,15,16,17,18,19,20,21,22,27,28,29,30,31,32,33,34]]\n",
    "    #Y = dt[:,[3,4,5,6,11,12,19,20,21,22,27,28]]\n",
    "    \n",
    "\n",
    "        \n",
    "    \n",
    "            \n",
    "    print(Y.shape)\n",
    "    for i in range(10):\n",
    "        Y[:,i] = (Y[:,i]-sig_mean[i])/sig_std[i]\n",
    "    \n",
    "    total_bb_test = torch.tensor(Y)\n",
    "    #huberloss = nn.SmoothL1Loss(reduction='none')\n",
    "    sigae_bbloss = torch.mean((sigmodel(total_bb_test.float().cuda())[0]- total_bb_test.float().cuda())**2,dim=1).data.cpu().numpy()\n",
    "    bbvar = torch.var((sigmodel(total_bb_test.float().cuda())[0]- total_bb_test.float().cuda())**2,dim=1).data.cpu().numpy()\n",
    "    waic = sigae_bbloss + bbvar\n",
    "    #sigae_bbloss = torch.mean(huberloss(model(total_bb_test.float().cuda())[0],total_bb_test.float().cuda()),dim=1).data.cpu().numpy()\n",
    "    print(waic[0:10])\n",
    "    plt.hist(waic,bins=np.linspace(0,10,1001),density=True);\n",
    "    plt.xlim([0,2])\n",
    "    #np.save(out_file_waic,waic)\n",
    "    np.save(f'sigaetestprior4500500150_wp_{mjj}_{j1mass}_{j2mass}.npy',sigae_bbloss)"
   ]
  },
  {
   "cell_type": "code",
   "execution_count": 103,
   "metadata": {},
   "outputs": [],
   "source": [
    "losslist = []\n",
    "for mjj, j1mass, j2mass in varyj1mass_wps:\n",
    "\n",
    "    a = np.load(f'sigae_wp_{mjj}_{j1mass}_{j2mass}.npy')\n",
    "    losslist.append(a)\n",
    "    "
   ]
  },
  {
   "cell_type": "code",
   "execution_count": 104,
   "metadata": {},
   "outputs": [
    {
     "data": {
      "text/plain": [
       "array([0.2506657 , 0.45937157, 0.33064288, ..., 2.223935  , 0.28329286,\n",
       "       0.67881405], dtype=float32)"
      ]
     },
     "execution_count": 104,
     "metadata": {},
     "output_type": "execute_result"
    }
   ],
   "source": [
    "losslist[1]"
   ]
  },
  {
   "cell_type": "code",
   "execution_count": 105,
   "metadata": {},
   "outputs": [
    {
     "data": {
      "image/png": "[encoded data removed]",
      "text/plain": [
       "<Figure size 432x288 with 1 Axes>"
      ]
     },
     "metadata": {
      "needs_background": "light"
     },
     "output_type": "display_data"
    }
   ],
   "source": [
    "plt.hist(losslist[0],bins = np.arange(0,10,.1),alpha=0.2);\n",
    "plt.hist(losslist[1],bins = np.arange(0,10,.1),alpha=0.2);\n",
    "plt.hist(losslist[2],bins = np.arange(0,10,.1),alpha=0.2);\n",
    "plt.hist(losslist[3],bins = np.arange(0,10,.1),alpha=0.2);\n",
    "plt.hist(losslist[4],bins = np.arange(0,10,.1),alpha=0.2);"
   ]
  },
  {
   "cell_type": "code",
   "execution_count": null,
   "metadata": {},
   "outputs": [],
   "source": []
  },
  {
   "cell_type": "code",
   "execution_count": null,
   "metadata": {},
   "outputs": [],
   "source": []
  },
  {
   "cell_type": "code",
   "execution_count": 108,
   "metadata": {},
   "outputs": [],
   "source": [
    "inputlist = [\n",
    "    '/data/t3home000/spark/QUASAR/preprocessing/conventional_tau_BB1_rnd.h5',\n",
    "    '/data/t3home000/spark/QUASAR/preprocessing/conventional_tau_BB2.h5',\n",
    "    '/data/t3home000/spark/QUASAR/preprocessing/conventional_tau_BB3.h5',\n",
    "    '/data/t3home000/spark/QUASAR/preprocessing/conventional_tau_background.h5',\n",
    "    '/data/t3home000/spark/QUASAR/preprocessing/conventional_tau_rnd.h5',\n",
    "    '/data/t3home000/spark/QUASAR/preprocessing/conventional_tau_rnd.h5', \n",
    "    '/data/t3home000/spark/QUASAR/preprocessing/conventional_tau_3prong_rnd.h5',\n",
    "    '/data/t3home000/spark/QUASAR/preprocessing/delphes_output_4500_500_150.h5'\n",
    "    \n",
    "]"
   ]
  },
  {
   "cell_type": "code",
   "execution_count": 109,
   "metadata": {},
   "outputs": [
    {
     "data": {
      "text/plain": [
       "{'type': 'sig',\n",
       " 'trainon': '2prong',\n",
       " 'features': '12features',\n",
       " 'architecture': 'MAF',\n",
       " 'selection': 'mjj4500_nojetmasscut',\n",
       " 'trainloss': 'MSELoss',\n",
       " 'beta': 'beta1',\n",
       " 'zdimnflow': 'z8f10'}"
      ]
     },
     "execution_count": 109,
     "metadata": {},
     "output_type": "execute_result"
    }
   ],
   "source": [
    "ae_def"
   ]
  },
  {
   "cell_type": "code",
   "execution_count": 110,
   "metadata": {},
   "outputs": [],
   "source": [
    "outputlist_waic = [\n",
    "    f\"../data_strings/{ae_def['type']}_{ae_def['trainon']}_{ae_def['features']}_{ae_def['selection']}_{ae_def['trainloss']}_{ae_def['beta']}_{ae_def['zdimnflow']}_WAICloss_bb1.npy\",\n",
    "    f\"../data_strings/{ae_def['type']}_{ae_def['trainon']}_{ae_def['features']}_{ae_def['selection']}_{ae_def['trainloss']}_{ae_def['beta']}_{ae_def['zdimnflow']}_WAICloss_bb2.npy\",\n",
    "    f\"../data_strings/{ae_def['type']}_{ae_def['trainon']}_{ae_def['features']}_{ae_def['selection']}_{ae_def['trainloss']}_{ae_def['beta']}_{ae_def['zdimnflow']}_WAICloss_bb3.npy\",\n",
    "    f\"../data_strings/{ae_def['type']}_{ae_def['trainon']}_{ae_def['features']}_{ae_def['selection']}_{ae_def['trainloss']}_{ae_def['beta']}_{ae_def['zdimnflow']}_WAICloss_purebkg.npy\",\n",
    "    f\"../data_strings/{ae_def['type']}_{ae_def['trainon']}_{ae_def['features']}_{ae_def['selection']}_{ae_def['trainloss']}_{ae_def['beta']}_{ae_def['zdimnflow']}_WAICloss_rndbkg.npy\",\n",
    "    f\"../data_strings/{ae_def['type']}_{ae_def['trainon']}_{ae_def['features']}_{ae_def['selection']}_{ae_def['trainloss']}_{ae_def['beta']}_{ae_def['zdimnflow']}_WAICloss_2prong.npy\",\n",
    "    f\"../data_strings/{ae_def['type']}_{ae_def['trainon']}_{ae_def['features']}_{ae_def['selection']}_{ae_def['trainloss']}_{ae_def['beta']}_{ae_def['zdimnflow']}_WAICloss_3prong.npy\",\n",
    "    f\"../data_strings/{ae_def['type']}_{ae_def['trainon']}_{ae_def['features']}_{ae_def['selection']}_{ae_def['trainloss']}_{ae_def['beta']}_{ae_def['zdimnflow']}_WAICloss_4500.npy\"\n",
    "]\n",
    "\n",
    "outputlist_justloss = [\n",
    "    f\"../data_strings/{ae_def['type']}_{ae_def['trainon']}_{ae_def['features']}_{ae_def['selection']}_{ae_def['trainloss']}_{ae_def['beta']}_{ae_def['zdimnflow']}_Justloss_bb1.npy\",\n",
    "    f\"../data_strings/{ae_def['type']}_{ae_def['trainon']}_{ae_def['features']}_{ae_def['selection']}_{ae_def['trainloss']}_{ae_def['beta']}_{ae_def['zdimnflow']}_Justloss_bb2.npy\",\n",
    "    f\"../data_strings/{ae_def['type']}_{ae_def['trainon']}_{ae_def['features']}_{ae_def['selection']}_{ae_def['trainloss']}_{ae_def['beta']}_{ae_def['zdimnflow']}_Justloss_bb3.npy\",\n",
    "    f\"../data_strings/{ae_def['type']}_{ae_def['trainon']}_{ae_def['features']}_{ae_def['selection']}_{ae_def['trainloss']}_{ae_def['beta']}_{ae_def['zdimnflow']}_Justloss_purebkg.npy\",\n",
    "    f\"../data_strings/{ae_def['type']}_{ae_def['trainon']}_{ae_def['features']}_{ae_def['selection']}_{ae_def['trainloss']}_{ae_def['beta']}_{ae_def['zdimnflow']}_Justloss_rndbkg.npy\",\n",
    "    f\"../data_strings/{ae_def['type']}_{ae_def['trainon']}_{ae_def['features']}_{ae_def['selection']}_{ae_def['trainloss']}_{ae_def['beta']}_{ae_def['zdimnflow']}_Justloss_2prong.npy\",\n",
    "    f\"../data_strings/{ae_def['type']}_{ae_def['trainon']}_{ae_def['features']}_{ae_def['selection']}_{ae_def['trainloss']}_{ae_def['beta']}_{ae_def['zdimnflow']}_Justloss_3prong.npy\",\n",
    "    f\"../data_strings/{ae_def['type']}_{ae_def['trainon']}_{ae_def['features']}_{ae_def['selection']}_{ae_def['trainloss']}_{ae_def['beta']}_{ae_def['zdimnflow']}_Justloss_4500.npy\"\n",
    "]"
   ]
  },
  {
   "cell_type": "code",
   "execution_count": 111,
   "metadata": {},
   "outputs": [],
   "source": [
    "exist_signalflag = [\n",
    "    False,\n",
    "    False,\n",
    "    False,\n",
    "    False,\n",
    "    True,\n",
    "    True,\n",
    "    True,\n",
    "    False,\n",
    "]\n",
    "is_signal = [\n",
    "    False,\n",
    "    False,\n",
    "    False,\n",
    "    False,\n",
    "    False,\n",
    "    True,\n",
    "    True,\n",
    "    True\n",
    "    \n",
    "]\n",
    "\n",
    "nprong = [\n",
    "    None,\n",
    "    None,\n",
    "    None,\n",
    "    None,\n",
    "    None,\n",
    "    '2prong',\n",
    "    '3prong',\n",
    "    '4500'\n",
    "    \n",
    "]"
   ]
  },
  {
   "cell_type": "code",
   "execution_count": 113,
   "metadata": {
    "scrolled": true
   },
   "outputs": [
    {
     "name": "stdout",
     "output_type": "stream",
     "text": [
      "(488280, 12)\n",
      "[  1.3208411   2.632947   20.585543  116.05029    16.129105    3.6424308\n",
      "  41.649933  317.87598     4.0567126   8.2246895]\n",
      "(505248, 12)\n",
      "[ 7.5470533  1.904386  14.968746  15.4685    24.408587  12.007141\n",
      "  1.3104601  7.3822303  8.189563   3.4882717]\n",
      "(491884, 12)\n",
      "[ 4.296524   5.45953    4.810047   1.9962053 10.931116   4.1672025\n",
      "  2.7583213 19.594206   6.630751  61.998634 ]\n",
      "(499489, 12)\n",
      "[ 8.00995    1.8977621  1.4314849 90.26672    4.483145   7.9126244\n",
      "  8.157707   7.9985466 15.630387   5.7404065]\n",
      "(587907, 12)\n",
      "[ 9.946337   3.2047107  6.9338465  5.0937614 12.858874  10.948631\n",
      "  3.7667952  0.9041624 35.033546   8.621753 ]\n",
      "(31923, 12)\n",
      "[1.1797335  1.111073   0.75935256 1.9539554  0.8946995  2.9393656\n",
      " 1.7322898  0.8547768  2.4033992  0.58843154]\n",
      "(37441, 12)\n",
      "[0.7590843  0.62838644 0.4209159  1.2207483  1.809456   4.587182\n",
      " 2.1125574  2.8710456  2.0774245  2.9687996 ]\n",
      "(26448, 12)\n",
      "[0.32420537 0.90604615 0.46578324 0.6002322  0.7969313  1.5958271\n",
      " 1.0237646  0.655932   0.7153089  0.9654491 ]\n"
     ]
    },
    {
     "data": {
      "image/png": "[encoded data removed]",
      "text/plain": [
       "<Figure size 432x288 with 1 Axes>"
      ]
     },
     "metadata": {
      "needs_background": "light"
     },
     "output_type": "display_data"
    }
   ],
   "source": [
    "for in_file, out_file_waic, out_file_justloss, sigbit_flag, is_sig, n_prong in zip(inputlist,outputlist_waic,outputlist_justloss,exist_signalflag,is_signal, nprong):    \n",
    "    \n",
    "    f_bb = pd.read_hdf(in_file)\n",
    "    dt = f_bb.values\n",
    "    #correct = (dt[:,3]>0) &(dt[:,19]>0) & (dt[:,1]>0) & (dt[:,2]>0) &(dt[:,2]>0) & (dt[:,16]>0) & (dt[:,32]>0)\n",
    "    #dt = dt[correct]\n",
    "    correct = (dt[:,3]>0) &(dt[:,19]>0) & (dt[:,1]>0) & (dt[:,2]>0)\n",
    "    dt = dt[correct]\n",
    "    for i in range(13,19):\n",
    "        dt[:,i] = dt[:,i]/dt[:,3]\n",
    "\n",
    "    for i in range(29,35):\n",
    "        dt[:,i] = dt[:,i]/(dt[:,19])\n",
    "\n",
    "\n",
    "    #correct = (dt[:,16]>0) & (dt[:,29]>=0) &(dt[:,29]<=1)&(dt[:,30]>=0) &(dt[:,30]<=1)&(dt[:,31]>=0) &(dt[:,31]<=1)&(dt[:,32]>=0) &(dt[:,32]<=1)&(dt[:,33]>=0) &(dt[:,33]<=1)&(dt[:,34]>=-0.01) &(dt[:,34]<=1)\n",
    "    #dt = dt[correct]\n",
    "    #correct = (dt[:,3]>100)\n",
    "    #dt = dt[correct]\n",
    "\n",
    "    #correct = (dt[:,19]>20)\n",
    "    #dt = dt[correct]\n",
    "\n",
    "    correct = (dt[:,0]>=2800)\n",
    "    dt = dt[correct]\n",
    "\n",
    "    #bsmlike = np.where(dt[:,16]>0.9)[0]\n",
    "    #dt = dt[bsmlike]\n",
    "\n",
    "    if sigbit_flag:\n",
    "        idx = dt[:,-1]\n",
    "        sigidx = (idx == 1)\n",
    "        bkgidx = (idx == 0)\n",
    "        if is_sig:\n",
    "            dt = dt[sigidx]\n",
    "        else:\n",
    "            dt = dt[bkgidx]\n",
    "            \n",
    "    if n_prong == '2prong':\n",
    "        \n",
    "        correct = (dt[:,3]>450) & (dt[:,3]<550) & (dt[:,19]>50) & (dt[:,19]<150) & (dt[:,0]>3400) & (dt[:,0]<3600)\n",
    "        dt = dt[correct]\n",
    "    \n",
    "    if n_prong == '3prong':\n",
    "        \n",
    "        correct = (dt[:,3]>450) & (dt[:,3]<550) & (dt[:,19]>50) & (dt[:,19]<150) & (dt[:,0]>3400) & (dt[:,0]<3600)\n",
    "        dt = dt[correct] \n",
    "        \n",
    "    if n_prong == '4500':\n",
    "        \n",
    "        correct = (dt[:,3]>450) & (dt[:,3]<550) & (dt[:,19]>100) & (dt[:,19]<200) & (dt[:,0]>4200) & (dt[:,0]<4800)\n",
    "        dt = dt[correct]   \n",
    "    \n",
    "    Y = dt[:,[3,4,5,6,11,12,19,20,21,22,27,28]]\n",
    "    #Y = dt[:,[3,4,5,6,11,12,13,14,15,16,17,18,19,20,21,22,27,28,29,30,31,32,33,34]]\n",
    "    #Y = dt[:,[3,4,5,6,11,12,13,14,15,16,17,18,19,20,21,22,27,28,29,30,31,32,33,34]]\n",
    "    #Y = dt[:,[3,4,5,6,11,12,19,20,21,22,27,28]]\n",
    "    \n",
    "\n",
    "        \n",
    "    \n",
    "            \n",
    "    print(Y.shape)\n",
    "    for i in range(12):\n",
    "        Y[:,i] = (Y[:,i]-sig_mean[i])/sig_std[i]\n",
    "    \n",
    "    total_bb_test = torch.tensor(Y)\n",
    "    #huberloss = nn.SmoothL1Loss(reduction='none')\n",
    "    sigae_bbloss = torch.mean((sigmodel(total_bb_test.float().cuda())[0]- total_bb_test.float().cuda())**2,dim=1).data.cpu().numpy()\n",
    "    bbvar = torch.var((sigmodel(total_bb_test.float().cuda())[0]- total_bb_test.float().cuda())**2,dim=1).data.cpu().numpy()\n",
    "    waic = sigae_bbloss + bbvar\n",
    "    #sigae_bbloss = torch.mean(huberloss(model(total_bb_test.float().cuda())[0],total_bb_test.float().cuda()),dim=1).data.cpu().numpy()\n",
    "    print(waic[0:10])\n",
    "    plt.hist(waic,bins=np.linspace(0,10,1001),density=True);\n",
    "    plt.xlim([0,2])\n",
    "    np.save(out_file_waic,waic)\n",
    "    np.save(out_file_justloss,sigae_bbloss)"
   ]
  },
  {
   "cell_type": "code",
   "execution_count": 114,
   "metadata": {},
   "outputs": [
    {
     "name": "stdout",
     "output_type": "stream",
     "text": [
      "../data_strings/sig_2prong_12features_mjj4500_nojetmasscut_MSELoss_beta1_z8f10_Justloss_3prong.npy\n"
     ]
    }
   ],
   "source": [
    "print(f\"../data_strings/{ae_def['type']}_{ae_def['trainon']}_{ae_def['features']}_{ae_def['selection']}_{ae_def['trainloss']}_{ae_def['beta']}_{ae_def['zdimnflow']}_Justloss_3prong.npy\")"
   ]
  },
  {
   "cell_type": "code",
   "execution_count": 115,
   "metadata": {},
   "outputs": [],
   "source": [
    "loss_prong3 = np.load(f\"../data_strings/{ae_def['type']}_{ae_def['trainon']}_{ae_def['features']}_{ae_def['selection']}_{ae_def['trainloss']}_{ae_def['beta']}_{ae_def['zdimnflow']}_Justloss_3prong.npy\")\n",
    "loss_prong2 = np.load(f\"../data_strings/{ae_def['type']}_{ae_def['trainon']}_{ae_def['features']}_{ae_def['selection']}_{ae_def['trainloss']}_{ae_def['beta']}_{ae_def['zdimnflow']}_Justloss_2prong.npy\")\n",
    "loss_purebkg = np.load(f\"../data_strings/{ae_def['type']}_{ae_def['trainon']}_{ae_def['features']}_{ae_def['selection']}_{ae_def['trainloss']}_{ae_def['beta']}_{ae_def['zdimnflow']}_Justloss_purebkg.npy\")\n",
    "loss_rndbkg = np.load(f\"../data_strings/{ae_def['type']}_{ae_def['trainon']}_{ae_def['features']}_{ae_def['selection']}_{ae_def['trainloss']}_{ae_def['beta']}_{ae_def['zdimnflow']}_Justloss_rndbkg.npy\")\n",
    "loss_4500 = np.load(f\"../data_strings/{ae_def['type']}_{ae_def['trainon']}_{ae_def['features']}_{ae_def['selection']}_{ae_def['trainloss']}_{ae_def['beta']}_{ae_def['zdimnflow']}_Justloss_4500.npy\")\n",
    "\n",
    "\n",
    "\n",
    "\n"
   ]
  },
  {
   "cell_type": "code",
   "execution_count": 116,
   "metadata": {},
   "outputs": [
    {
     "data": {
      "text/plain": [
       "<matplotlib.legend.Legend at 0x7fc201e95860>"
      ]
     },
     "execution_count": 116,
     "metadata": {},
     "output_type": "execute_result"
    },
    {
     "data": {
      "image/png": "[encoded data removed]",
      "text/plain": [
       "<Figure size 432x288 with 1 Axes>"
      ]
     },
     "metadata": {
      "needs_background": "light"
     },
     "output_type": "display_data"
    }
   ],
   "source": [
    "plt.hist(loss_rndbkg,bins=np.linspace(0,10,100),density=True,alpha=0.3,label='Pure Bkg');\n",
    "#plt.hist(loss_rndbkg,bins=np.linspace(0,2,100),density=False,alpha=0.3,label='(rnd) bkg');\n",
    "\n",
    "plt.hist(loss_prong2,bins=np.linspace(0,10,100),density=True,alpha=0.3,label='2prong (rnd)sig');\n",
    "plt.hist(loss_prong3,bins=np.linspace(0,10,100),density=True,alpha=0.3,label='3prong (rnd)sig');\n",
    "plt.hist(loss_4500,bins=np.linspace(0,10,100),density=True,alpha=0.3,label='2prong 4500');\n",
    "\n",
    "#plt.yscale('log')\n",
    "plt.xlabel('Loss (SigAE trained on 2prong sig)')\n",
    "plt.legend(loc='upper right')\n",
    "#plt.savefig('sigae_trained_on_2prongsig.png')"
   ]
  },
  {
   "cell_type": "code",
   "execution_count": 104,
   "metadata": {},
   "outputs": [
    {
     "data": {
      "text/plain": [
       "<matplotlib.legend.Legend at 0x7ff8463a7160>"
      ]
     },
     "execution_count": 104,
     "metadata": {},
     "output_type": "execute_result"
    },
    {
     "data": {
      "image/png": "[encoded data removed]",
      "text/plain": [
       "<Figure size 432x288 with 1 Axes>"
      ]
     },
     "metadata": {
      "needs_background": "light"
     },
     "output_type": "display_data"
    }
   ],
   "source": [
    "plt.hist(loss_rndbkg,bins=np.linspace(0,10,100),density=True,alpha=0.3,label='Pure Bkg');\n",
    "#plt.hist(loss_rndbkg,bins=np.linspace(0,2,100),density=False,alpha=0.3,label='(rnd) bkg');\n",
    "\n",
    "plt.hist(loss_prong2,bins=np.linspace(0,10,100),density=True,alpha=0.3,label='2prong (rnd)sig');\n",
    "plt.hist(loss_prong3,bins=np.linspace(0,10,100),density=True,alpha=0.3,label='3prong (rnd)sig');\n",
    "#plt.yscale('log')\n",
    "plt.xlabel('Loss (SigAE trained on 2prong sig)')\n",
    "plt.legend(loc='upper right')\n",
    "#plt.savefig('sigae_trained_on_2prongsig.png')"
   ]
  },
  {
   "cell_type": "code",
   "execution_count": 47,
   "metadata": {
    "scrolled": true
   },
   "outputs": [
    {
     "data": {
      "text/plain": [
       "55539"
      ]
     },
     "execution_count": 47,
     "metadata": {},
     "output_type": "execute_result"
    }
   ],
   "source": [
    "len(loss_prong2)"
   ]
  },
  {
   "cell_type": "code",
   "execution_count": 41,
   "metadata": {},
   "outputs": [
    {
     "data": {
      "text/plain": [
       "['../data_strings/sig_2prong_tauDDTwithoutrawmass_turnoncutandj1sdbcut0p9_MSELoss_beta1_z6f10_WAICloss_bb1.npy',\n",
       " '../data_strings/sig_2prong_tauDDTwithoutrawmass_turnoncutandj1sdbcut0p9_MSELoss_beta1_z6f10_WAICloss_bb2.npy',\n",
       " '../data_strings/sig_2prong_tauDDTwithoutrawmass_turnoncutandj1sdbcut0p9_MSELoss_beta1_z6f10_WAICloss_bb3.npy',\n",
       " '../data_strings/sig_2prong_tauDDTwithoutrawmass_turnoncutandj1sdbcut0p9_MSELoss_beta1_z6f10_WAICloss_purebkg.npy',\n",
       " '../data_strings/sig_2prong_tauDDTwithoutrawmass_turnoncutandj1sdbcut0p9_MSELoss_beta1_z6f10_WAICloss_rndbkg.npy',\n",
       " '../data_strings/sig_2prong_tauDDTwithoutrawmass_turnoncutandj1sdbcut0p9_MSELoss_beta1_z6f10_WAICloss_2prong.npy',\n",
       " '../data_strings/sig_2prong_tauDDTwithoutrawmass_turnoncutandj1sdbcut0p9_MSELoss_beta1_z6f10_WAICloss_3prong.npy']"
      ]
     },
     "execution_count": 41,
     "metadata": {},
     "output_type": "execute_result"
    }
   ],
   "source": [
    "outputlist_waic"
   ]
  },
  {
   "cell_type": "code",
   "execution_count": 42,
   "metadata": {},
   "outputs": [
    {
     "data": {
      "text/plain": [
       "['../data_strings/sig_2prong_tauDDTwithoutrawmass_turnoncutandj1sdbcut0p9_MSELoss_beta1_z6f10_Justloss_bb1.npy',\n",
       " '../data_strings/sig_2prong_tauDDTwithoutrawmass_turnoncutandj1sdbcut0p9_MSELoss_beta1_z6f10_Justloss_bb2.npy',\n",
       " '../data_strings/sig_2prong_tauDDTwithoutrawmass_turnoncutandj1sdbcut0p9_MSELoss_beta1_z6f10_Justloss_bb3.npy',\n",
       " '../data_strings/sig_2prong_tauDDTwithoutrawmass_turnoncutandj1sdbcut0p9_MSELoss_beta1_z6f10_Justloss_purebkg.npy',\n",
       " '../data_strings/sig_2prong_tauDDTwithoutrawmass_turnoncutandj1sdbcut0p9_MSELoss_beta1_z6f10_Justloss_rndbkg.npy',\n",
       " '../data_strings/sig_2prong_tauDDTwithoutrawmass_turnoncutandj1sdbcut0p9_MSELoss_beta1_z6f10_Justloss_2prong.npy',\n",
       " '../data_strings/sig_2prong_tauDDTwithoutrawmass_turnoncutandj1sdbcut0p9_MSELoss_beta1_z6f10_Justloss_3prong.npy']"
      ]
     },
     "execution_count": 42,
     "metadata": {},
     "output_type": "execute_result"
    }
   ],
   "source": [
    "outputlist_justloss"
   ]
  },
  {
   "cell_type": "code",
   "execution_count": 34,
   "metadata": {},
   "outputs": [
    {
     "data": {
      "text/plain": [
       "array([ 2832.3672,  8125.47  , 29922.496 , ...,  2359.0386,  2635.9333,\n",
       "         640.2169], dtype=float32)"
      ]
     },
     "execution_count": 34,
     "metadata": {},
     "output_type": "execute_result"
    }
   ],
   "source": [
    "sigae_bbloss"
   ]
  },
  {
   "cell_type": "code",
   "execution_count": 58,
   "metadata": {
    "scrolled": true
   },
   "outputs": [
    {
     "data": {
      "text/plain": [
       "{'type': 'sig',\n",
       " 'trainon': '2prong',\n",
       " 'features': 'cwola',\n",
       " 'architecture': 'MAF',\n",
       " 'selection': 'turnoncutandj1sdbcut0p9',\n",
       " 'trainloss': 'MSELoss',\n",
       " 'beta': 'beta1',\n",
       " 'zdimnflow': 'z8f8'}"
      ]
     },
     "execution_count": 58,
     "metadata": {},
     "output_type": "execute_result"
    }
   ],
   "source": [
    "ae_def"
   ]
  },
  {
   "cell_type": "code",
   "execution_count": 141,
   "metadata": {
    "scrolled": true
   },
   "outputs": [
    {
     "data": {
      "text/plain": [
       "array([0.46685678, 1.5879018 , 0.58936137, ..., 0.59082854, 0.70994604,\n",
       "       0.70424944], dtype=float32)"
      ]
     },
     "execution_count": 141,
     "metadata": {},
     "output_type": "execute_result"
    }
   ],
   "source": [
    "sigae_bbloss"
   ]
  },
  {
   "cell_type": "code",
   "execution_count": 142,
   "metadata": {},
   "outputs": [
    {
     "data": {
      "image/png": "[encoded data removed]",
      "text/plain": [
       "<Figure size 432x288 with 1 Axes>"
      ]
     },
     "metadata": {
      "needs_background": "light"
     },
     "output_type": "display_data"
    }
   ],
   "source": [
    "plt.hist(sigae_bbloss,bins=np.linspace(0,10,1001));"
   ]
  },
  {
   "cell_type": "code",
   "execution_count": 60,
   "metadata": {},
   "outputs": [],
   "source": [
    "np.save('../data_strings/sigae_2prong_loss_bb3.npy',sigae_bbloss)"
   ]
  },
  {
   "cell_type": "code",
   "execution_count": null,
   "metadata": {},
   "outputs": [],
   "source": []
  },
  {
   "cell_type": "code",
   "execution_count": null,
   "metadata": {},
   "outputs": [],
   "source": []
  },
  {
   "cell_type": "code",
   "execution_count": 211,
   "metadata": {},
   "outputs": [],
   "source": [
    "X_bkg = dt[:,[3,4,5,6,11,12,19,20,21,22,27,28]]\n",
    "X_bkg = X_bkg[bkg_idx]"
   ]
  },
  {
   "cell_type": "code",
   "execution_count": 212,
   "metadata": {},
   "outputs": [],
   "source": [
    "for i in range(12):\n",
    "    X_bkg[:,i] = (X_bkg[:,i]-sig_mean[i])/sig_std[i]"
   ]
  },
  {
   "cell_type": "code",
   "execution_count": 161,
   "metadata": {},
   "outputs": [],
   "source": [
    "total_bkg_test = torch.tensor(X_bkg)"
   ]
  },
  {
   "cell_type": "code",
   "execution_count": 162,
   "metadata": {},
   "outputs": [],
   "source": [
    "sigae_bkgloss = torch.mean((sigmodel(total_bkg_test.float().cuda())[0]- total_bkg_test.float().cuda())**2,dim=1).data.cpu().numpy()"
   ]
  },
  {
   "cell_type": "code",
   "execution_count": 163,
   "metadata": {},
   "outputs": [],
   "source": [
    "sigae_sigloss = torch.mean((sigmodel(total_sig.float().cuda())[0]- total_sig.float().cuda())**2,dim=1).data.cpu().numpy()"
   ]
  },
  {
   "cell_type": "code",
   "execution_count": 176,
   "metadata": {},
   "outputs": [],
   "source": [
    "f_3prong = pd.read_hdf(\"/data/t3home000/spark/QUASAR/preprocessing/conventional_tau_3prong_rnd.h5\")"
   ]
  },
  {
   "cell_type": "code",
   "execution_count": null,
   "metadata": {},
   "outputs": [],
   "source": []
  },
  {
   "cell_type": "code",
   "execution_count": null,
   "metadata": {},
   "outputs": [],
   "source": []
  },
  {
   "cell_type": "code",
   "execution_count": 309,
   "metadata": {},
   "outputs": [],
   "source": [
    "f_bb1 = pd.read_hdf('/data/t3home000/spark/QUASAR/preprocessing/conventional_tau_BB1_rnd.h5')"
   ]
  },
  {
   "cell_type": "code",
   "execution_count": 310,
   "metadata": {},
   "outputs": [],
   "source": [
    "dt_bb1 = f_bb1.values"
   ]
  },
  {
   "cell_type": "code",
   "execution_count": 311,
   "metadata": {},
   "outputs": [],
   "source": [
    "X_bb1 = dt_bb1[:,[3,4,5,6,11,12,19,20,21,22,27,28]]"
   ]
  },
  {
   "cell_type": "code",
   "execution_count": 312,
   "metadata": {},
   "outputs": [
    {
     "data": {
      "text/plain": [
       "(1000000, 12)"
      ]
     },
     "execution_count": 312,
     "metadata": {},
     "output_type": "execute_result"
    }
   ],
   "source": [
    "X_bb1.shape"
   ]
  },
  {
   "cell_type": "code",
   "execution_count": 313,
   "metadata": {},
   "outputs": [
    {
     "data": {
      "text/plain": [
       "[416.4436327724198,\n",
       " 0.259460143970101,\n",
       " 0.6475599434564594,\n",
       " 0.7747571031756559,\n",
       " 1.4414801240204307,\n",
       " 232.28881387172063,\n",
       " 115.19219609387073,\n",
       " 0.4000458937255977,\n",
       " 0.6497184345343743,\n",
       " 0.7592483240780288,\n",
       " 1.5724873295094448,\n",
       " 139.77741938715204]"
      ]
     },
     "execution_count": 313,
     "metadata": {},
     "output_type": "execute_result"
    }
   ],
   "source": [
    "sig_mean"
   ]
  },
  {
   "cell_type": "code",
   "execution_count": 314,
   "metadata": {},
   "outputs": [
    {
     "data": {
      "text/plain": [
       "[154.19379540115423,\n",
       " 0.17056704944179107,\n",
       " 0.14978212617036485,\n",
       " 0.09894407762923978,\n",
       " 0.4886539241053714,\n",
       " 87.70941099970253,\n",
       " 49.68849330603538,\n",
       " 0.1622952691607605,\n",
       " 0.14863130231138283,\n",
       " 0.10503384225762816,\n",
       " 0.6713928483438475,\n",
       " 48.672440905600446]"
      ]
     },
     "execution_count": 314,
     "metadata": {},
     "output_type": "execute_result"
    }
   ],
   "source": [
    "sig_std"
   ]
  },
  {
   "cell_type": "code",
   "execution_count": 315,
   "metadata": {},
   "outputs": [],
   "source": [
    "for i in range(12):\n",
    "    X_bb1[:,i] = (X_bb1[:,i]-sig_mean[i])/sig_std[i]"
   ]
  },
  {
   "cell_type": "code",
   "execution_count": 317,
   "metadata": {},
   "outputs": [
    {
     "data": {
      "text/plain": [
       "(array([246458., 189649., 134796.,  95188.,  64278.,  40409.,  20912.,\n",
       "          9337.,   4219.]),\n",
       " array([-2.        , -1.55555556, -1.11111111, -0.66666667, -0.22222222,\n",
       "         0.22222222,  0.66666667,  1.11111111,  1.55555556,  2.        ]),\n",
       " <a list of 9 Patch objects>)"
      ]
     },
     "execution_count": 317,
     "metadata": {},
     "output_type": "execute_result"
    },
    {
     "data": {
      "image/png": "[encoded data removed]",
      "text/plain": [
       "<Figure size 720x720 with 1 Axes>"
      ]
     },
     "metadata": {
      "needs_background": "light"
     },
     "output_type": "display_data"
    }
   ],
   "source": [
    "plt.hist(X_bb1[:,0],bins = np.linspace(-2,2,10))"
   ]
  },
  {
   "cell_type": "code",
   "execution_count": null,
   "metadata": {},
   "outputs": [],
   "source": []
  },
  {
   "cell_type": "code",
   "execution_count": 318,
   "metadata": {},
   "outputs": [
    {
     "ename": "TypeError",
     "evalue": "'type' object is not iterable",
     "output_type": "error",
     "traceback": [
      "\u001b[0;31m---------------------------------------------------------------------------\u001b[0m",
      "\u001b[0;31mTypeError\u001b[0m                                 Traceback (most recent call last)",
      "\u001b[0;32m<ipython-input-318-3425ef769b7f>\u001b[0m in \u001b[0;36m<module>\u001b[0;34m\u001b[0m\n\u001b[0;32m----> 1\u001b[0;31m \u001b[0;34m(\u001b[0m\u001b[0mtorch\u001b[0m\u001b[0;34m.\u001b[0m\u001b[0mtensor\u001b[0m\u001b[0;34m(\u001b[0m\u001b[0mdt\u001b[0m\u001b[0;34m[\u001b[0m\u001b[0mi\u001b[0m \u001b[0;34m*\u001b[0m \u001b[0mchunk_size\u001b[0m\u001b[0;34m:\u001b[0m\u001b[0;34m(\u001b[0m\u001b[0mi\u001b[0m \u001b[0;34m+\u001b[0m \u001b[0;36m1\u001b[0m\u001b[0;34m)\u001b[0m \u001b[0;34m*\u001b[0m \u001b[0mchunk_size\u001b[0m\u001b[0;34m]\u001b[0m\u001b[0;34m)\u001b[0m \u001b[0;32mfor\u001b[0m \u001b[0mi\u001b[0m \u001b[0;32min\u001b[0m \u001b[0mrange\u001b[0m \u001b[0;34m)\u001b[0m\u001b[0;34m\u001b[0m\u001b[0;34m\u001b[0m\u001b[0m\n\u001b[0m",
      "\u001b[0;31mTypeError\u001b[0m: 'type' object is not iterable"
     ]
    }
   ],
   "source": [
    "(torch.tensor(dt[i * chunk_size:(i + 1) * chunk_size]) for i in range ) "
   ]
  },
  {
   "cell_type": "code",
   "execution_count": 319,
   "metadata": {},
   "outputs": [],
   "source": [
    "def get_loss(dt):\n",
    "    \n",
    "    chunk_size=5000 \n",
    "    total_size=1000000\n",
    "    i = 0\n",
    "    i_max = total_size // chunk_size\n",
    "\n",
    "    print(i_max)\n",
    "    \n",
    "    \n",
    "    \n",
    "    gen = (torch.tensor(dt[i*chunk_size: (i + 1) * chunk_size]) for i in range(i_max)) \n",
    "\n",
    "        \n",
    "    with torch.no_grad():\n",
    "        \n",
    "        loss = [\n",
    "            n\n",
    "            for total_in_selection in gen\n",
    "            for n in torch.mean((sigmodel(total_in_selection.float().cuda())[0]- total_in_selection.float().cuda())**2,dim=1).data.cpu().numpy()\n",
    "        ]\n",
    "        \n",
    "    return loss"
   ]
  },
  {
   "cell_type": "code",
   "execution_count": 287,
   "metadata": {},
   "outputs": [],
   "source": [
    "def get_loss(dt):\n",
    "    \n",
    "    def generator(dt, chunk_size=5000, total_size=1000000):\n",
    "\n",
    "        i = 0\n",
    "        i_max = total_size // chunk_size\n",
    "        print(i_max)\n",
    "    \n",
    "        for i in range(i_max):\n",
    "            start=i * chunk_size\n",
    "            stop=(i + 1) * chunk_size\n",
    "            yield torch.tensor(dt[start:stop])\n",
    "        \n",
    "    loss = []\n",
    "\n",
    "    \n",
    "    with torch.no_grad():\n",
    "        \n",
    "        for total_in_selection in generator(dt,chunk_size=5000, total_size=1000000):\n",
    "            loss.extend(torch.mean((sigmodel(total_in_selection.float().cuda())[0]- total_in_selection.float().cuda())**2,dim=1).data.cpu().numpy())\n",
    "    \n",
    "    return loss"
   ]
  },
  {
   "cell_type": "code",
   "execution_count": 320,
   "metadata": {},
   "outputs": [
    {
     "name": "stdout",
     "output_type": "stream",
     "text": [
      "200\n"
     ]
    }
   ],
   "source": [
    "bb1_loss_sig = get_loss(X_bb1)"
   ]
  },
  {
   "cell_type": "code",
   "execution_count": 321,
   "metadata": {},
   "outputs": [],
   "source": [
    "bb1_loss_sig = np.array(bb1_loss_sig,dtype=np.float)"
   ]
  },
  {
   "cell_type": "code",
   "execution_count": 322,
   "metadata": {},
   "outputs": [
    {
     "name": "stdout",
     "output_type": "stream",
     "text": [
      "[1.90564466 0.96934295 1.35960376 ... 0.59359992 2.21692467 2.44283652]\n"
     ]
    }
   ],
   "source": [
    "print(bb1_loss_sig)"
   ]
  },
  {
   "cell_type": "code",
   "execution_count": 323,
   "metadata": {},
   "outputs": [
    {
     "data": {
      "image/png": "[encoded data removed]",
      "text/plain": [
       "<Figure size 720x720 with 1 Axes>"
      ]
     },
     "metadata": {
      "needs_background": "light"
     },
     "output_type": "display_data"
    }
   ],
   "source": [
    "plt.hist(bb1_loss_sig,bins=np.linspace(0,100,1001));"
   ]
  },
  {
   "cell_type": "code",
   "execution_count": 324,
   "metadata": {},
   "outputs": [],
   "source": [
    "np.save('../data_strings/sigaeloss_bb1.npy',bb1_loss_sig)"
   ]
  },
  {
   "cell_type": "code",
   "execution_count": null,
   "metadata": {},
   "outputs": [],
   "source": []
  },
  {
   "cell_type": "code",
   "execution_count": null,
   "metadata": {},
   "outputs": [],
   "source": []
  },
  {
   "cell_type": "code",
   "execution_count": 177,
   "metadata": {},
   "outputs": [],
   "source": [
    "dt_3prong = f_3prong.values"
   ]
  },
  {
   "cell_type": "code",
   "execution_count": 178,
   "metadata": {},
   "outputs": [],
   "source": [
    "Z = dt_3prong[:,[3,4,5,6,11,12,19,20,21,22,27,28]]"
   ]
  },
  {
   "cell_type": "code",
   "execution_count": 179,
   "metadata": {},
   "outputs": [
    {
     "data": {
      "text/plain": [
       "(100000, 12)"
      ]
     },
     "execution_count": 179,
     "metadata": {},
     "output_type": "execute_result"
    }
   ],
   "source": [
    "Z.shape"
   ]
  },
  {
   "cell_type": "code",
   "execution_count": 180,
   "metadata": {},
   "outputs": [],
   "source": [
    "for i in range(12):\n",
    "    Z[:,i] = (Z[:,i]-sig_mean[i])/sig_std[i]"
   ]
  },
  {
   "cell_type": "code",
   "execution_count": 181,
   "metadata": {},
   "outputs": [],
   "source": [
    "total_3prong = torch.tensor(Z)"
   ]
  },
  {
   "cell_type": "code",
   "execution_count": null,
   "metadata": {},
   "outputs": [],
   "source": []
  },
  {
   "cell_type": "code",
   "execution_count": 199,
   "metadata": {},
   "outputs": [],
   "source": [
    "bkgae_bkgloss = torch.mean((model(total_bkg_test.float().cuda())[0]- total_bkg_test.float().cuda())**2,dim=1).data.cpu().numpy()"
   ]
  },
  {
   "cell_type": "code",
   "execution_count": null,
   "metadata": {},
   "outputs": [],
   "source": [
    "bkgae_3prongloss = torch.mean((model(total_3prong.float().cuda())[0]- total_3prong.float().cuda())**2,dim=1).data.cpu().numpy()"
   ]
  },
  {
   "cell_type": "code",
   "execution_count": 182,
   "metadata": {},
   "outputs": [],
   "source": [
    "sigae_3prongloss = torch.mean((sigmodel(total_3prong.float().cuda())[0]- total_3prong.float().cuda())**2,dim=1).data.cpu().numpy()"
   ]
  },
  {
   "cell_type": "code",
   "execution_count": 183,
   "metadata": {},
   "outputs": [
    {
     "data": {
      "text/plain": [
       "(100000,)"
      ]
     },
     "execution_count": 183,
     "metadata": {},
     "output_type": "execute_result"
    }
   ],
   "source": [
    "sigae_3prongloss.shape"
   ]
  },
  {
   "cell_type": "code",
   "execution_count": 216,
   "metadata": {},
   "outputs": [
    {
     "data": {
      "text/plain": [
       "Text(0.5, 0, 'Signal AE Loss')"
      ]
     },
     "execution_count": 216,
     "metadata": {},
     "output_type": "execute_result"
    },
    {
     "data": {
      "image/png": "[encoded data removed]",
      "text/plain": [
       "<Figure size 720x720 with 1 Axes>"
      ]
     },
     "metadata": {
      "needs_background": "light"
     },
     "output_type": "display_data"
    }
   ],
   "source": [
    "bins = np.linspace(0,10,1001)\n",
    "plt.hist(sigae_sigloss,bins,weights = np.ones(len(signal_idx))*10,alpha=0.4,color='r',label='2 prong signal');\n",
    "plt.hist(sigae_3prongloss,bins,weights = np.ones(100000)*10,alpha=0.5,color='g',label='3 prong signal');\n",
    "plt.hist(sigae_bkgloss,bins,alpha=0.4,color='b',label='background');\n",
    "#plt.legend(bbox_to_anchor=(1.05, 1.0), loc='upper left')\n",
    "plt.legend(loc='upper right')\n",
    "plt.xlabel('Signal AE Loss',fontsize=15)\n",
    "\n"
   ]
  },
  {
   "cell_type": "code",
   "execution_count": 193,
   "metadata": {},
   "outputs": [],
   "source": [
    "def get_tpr_fpr(sigloss,bkgloss,aetype='sig'):\n",
    "    bins = np.linspace(0,50,1001)\n",
    "    tpr = []\n",
    "    fpr = []\n",
    "    for cut in bins:\n",
    "        if aetype == 'sig':\n",
    "            tpr.append(np.where(sigloss<cut)[0].shape[0]/len(sigloss))\n",
    "            fpr.append(np.where(bkgloss<cut)[0].shape[0]/len(bkgloss))\n",
    "        if aetype == 'bkg':\n",
    "            tpr.append(np.where(sigloss>cut)[0].shape[0]/len(sigloss))\n",
    "            fpr.append(np.where(bkgloss>cut)[0].shape[0]/len(bkgloss))\n",
    "    return tpr,fpr      "
   ]
  },
  {
   "cell_type": "code",
   "execution_count": 194,
   "metadata": {},
   "outputs": [],
   "source": [
    "def get_precision_recall(sigloss,bkgloss,aetype='bkg'):\n",
    "    bins = np.linspace(0,100,1001)\n",
    "    tpr = []\n",
    "    fpr = []\n",
    "    precision = []\n",
    "    for cut in bins:\n",
    "        if aetype == 'sig':\n",
    "            tpr.append(np.where(sigloss<cut)[0].shape[0]/len(sigloss))\n",
    "            precision.append((np.where(sigloss<cut)[0].shape[0])/(np.where(bkgloss<cut)[0].shape[0]+np.where(sigloss<cut)[0].shape[0]))\n",
    "            \n",
    "        if aetype == 'bkg':\n",
    "            tpr.append(np.where(sigloss>cut)[0].shape[0]/len(sigloss))\n",
    "            precision.append((np.where(sigloss>cut)[0].shape[0])/(np.where(bkgloss>cut)[0].shape[0]+np.where(sigloss>cut)[0].shape[0]))\n",
    "    return precision,tpr      "
   ]
  },
  {
   "cell_type": "code",
   "execution_count": 196,
   "metadata": {},
   "outputs": [],
   "source": [
    "tpr_2prong, fpr_2prong = get_tpr_fpr(sigae_sigloss,sigae_bkgloss,'sig')\n",
    "tpr_3prong, fpr_3prong = get_tpr_fpr(sigae_3prongloss,sigae_bkgloss,'sig')"
   ]
  },
  {
   "cell_type": "code",
   "execution_count": 217,
   "metadata": {},
   "outputs": [
    {
     "data": {
      "image/png": "[encoded data removed]",
      "text/plain": [
       "<Figure size 720x720 with 1 Axes>"
      ]
     },
     "metadata": {
      "needs_background": "light"
     },
     "output_type": "display_data"
    }
   ],
   "source": [
    "plt.plot(fpr_2prong,tpr_2prong,label='signal AE')\n",
    "#plt.plot(VAE_bkg_fpr,VAE_bkg_tpr,label='Bkg VAE-Vanilla')\n",
    "plt.plot(bkg_fpr4,bkg_tpr4,label='Bkg NFlowVAE-Planar')\n",
    "\n",
    "plt.xlabel(r'$1-\\epsilon_{bkg}$',fontsize=15)\n",
    "plt.ylabel(r'$\\epsilon_{sig}$',fontsize=15)\n",
    "#plt.semilogy()\n",
    "#plt.legend(bbox_to_anchor=(1.05, 1.0), loc='upper left')\n",
    "plt.legend(loc='lower right')\n",
    "plt.xlim([0.0,1.0])\n",
    "plt.ylim([0.0,1.0])\n",
    "plt.savefig('ROC_Curve_sigae.png')"
   ]
  },
  {
   "cell_type": "code",
   "execution_count": null,
   "metadata": {},
   "outputs": [],
   "source": []
  },
  {
   "cell_type": "code",
   "execution_count": null,
   "metadata": {},
   "outputs": [],
   "source": []
  },
  {
   "cell_type": "code",
   "execution_count": null,
   "metadata": {},
   "outputs": [],
   "source": [
    "precision,recall = get_precision_recall(loss_sig,loss_bkg,aetype='bkg')"
   ]
  },
  {
   "cell_type": "code",
   "execution_count": null,
   "metadata": {},
   "outputs": [],
   "source": [
    "np.save('NFLOWVAE_PlanarNEW_22var_sigloss.npy',loss_sig)\n",
    "np.save('NFLOWVAE_PlanarNEW_22var_bkgloss.npy',loss_bkg)"
   ]
  },
  {
   "cell_type": "code",
   "execution_count": null,
   "metadata": {},
   "outputs": [],
   "source": [
    "np.save('NFLOWVAE_PlanarNEW_precision.npy',precision)\n",
    "np.save('NFLOWVAE_PlanarNEW_recall.npy',recall)\n",
    "np.save('NFLOWVAE_PlanarNEW_bkgAE_fpr.npy',bkg_fpr)\n",
    "np.save('NFLOWVAE_PlanarNEW_bkgAE_tpr.npy',bkg_tpr)\n",
    "np.save('NFLOWVAE_PlanarNEW_sigloss.npy',loss_sig)\n",
    "np.save('NFLOWVAE_PlanarNEW_bkgloss.npy',loss_bkg)"
   ]
  },
  {
   "cell_type": "code",
   "execution_count": null,
   "metadata": {},
   "outputs": [],
   "source": [
    "plt.plot(recall,precision)"
   ]
  },
  {
   "cell_type": "code",
   "execution_count": null,
   "metadata": {},
   "outputs": [],
   "source": [
    "flows = [1,2,3,4,5,6]\n",
    "zdim = [1,2,3,4,5]\n",
    "\n",
    "for N_flows in flows:\n",
    "    for Z_DIM in zdim:\n",
    "        model = VAE_NF(N_FLOWS, Z_DIM).cuda()\n",
    "        optimizer = optim.Adam(model.parameters(), lr=LR)\n",
    "        BEST_LOSS = 99999\n",
    "        LAST_SAVED = -1\n",
    "        PATIENCE_COUNT = 0\n",
    "        PATIENCE_LIMIT = 5\n",
    "        for epoch in range(1, N_EPOCHS):\n",
    "            print(\"Epoch {}:\".format(epoch))\n",
    "            train()\n",
    "            cur_loss = evaluate()\n",
    "\n",
    "            if cur_loss <= BEST_LOSS:\n",
    "                PATIENCE_COUNT = 0\n",
    "                BEST_LOSS = cur_loss\n",
    "                LAST_SAVED = epoch\n",
    "                print(\"Saving model!\")\n",
    "                if mode == 'ROC':\n",
    "                    torch.save(model.state_dict(),f\"/data/t3home000/spark/QUASAR/weights/bkg_vae_NF_planar_RND_22var_z{Z_DIM}_f{N_FLOWS}.h5\")\n",
    "                else:\n",
    "                    torch.save(model.state_dict(), f\"/data/t3home000/spark/QUASAR/weights/bkg_vae_NF_planar_PureBkg_22var_z{Z_DIM}_f{N_FLOWS}.h5\")\n",
    "            else:\n",
    "                PATIENCE_COUNT += 1\n",
    "                print(\"Not saving model! Last saved: {}\".format(LAST_SAVED))\n",
    "                if PATIENCE_COUNT > 3:\n",
    "                    print(\"Patience Limit Reached\")\n",
    "                    break \n",
    "                    \n",
    "        loss_bkg = get_loss(dt_PureBkg[bkg_idx])\n",
    "        loss_sig = get_loss(dt_PureBkg[signal_idx])\n",
    "        np.save(f'NFLOWVAE_PlanarNEW_22var_z{Z_DIM}_f{N_flows}_sigloss.npy',loss_sig)\n",
    "        np.save(f'NFLOWVAE_PlanarNEW_22var_z{Z_DIM}_f{N_flows}_bkgloss.npy',loss_bkg)"
   ]
  },
  {
   "cell_type": "code",
   "execution_count": null,
   "metadata": {},
   "outputs": [],
   "source": []
  }
 ],
 "metadata": {
  "kernelspec": {
   "display_name": "Python 3",
   "language": "python",
   "name": "python3"
  },
  "language_info": {
   "codemirror_mode": {
    "name": "ipython",
    "version": 3
   },
   "file_extension": ".py",
   "mimetype": "text/x-python",
   "name": "python",
   "nbconvert_exporter": "python",
   "pygments_lexer": "ipython3",
   "version": "3.7.10"
  }
 },
 "nbformat": 4,
 "nbformat_minor": 2
}
