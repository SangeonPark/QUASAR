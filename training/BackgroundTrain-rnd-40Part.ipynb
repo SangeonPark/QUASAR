{
 "cells": [
  {
   "cell_type": "code",
   "execution_count": 2,
   "metadata": {},
   "outputs": [],
   "source": [
    "import numpy as np\n",
    "import scipy as sp\n",
    "import scipy.stats\n",
    "import itertools\n",
    "import logging\n",
    "import matplotlib.pyplot as plt\n",
    "import pandas as pd\n",
    "import torch.utils.data as utils\n",
    "import math\n",
    "import time\n",
    "import tqdm\n",
    "\n",
    "import torch\n",
    "import torch.optim as optim\n",
    "import torch.nn.functional as F\n",
    "from argparse import ArgumentParser\n",
    "from torch.distributions import MultivariateNormal\n",
    "\n",
    "import torch.nn as nn\n",
    "import torch.nn.init as init\n",
    "import sys\n",
    "\n",
    "sys.path.append(\"../new_flows\")\n",
    "from flows import RealNVP, Planar, MAF\n",
    "from models import NormalizingFlowModel"
   ]
  },
  {
   "cell_type": "markdown",
   "metadata": {},
   "source": [
    "## Load and process the data"
   ]
  },
  {
   "cell_type": "code",
   "execution_count": 3,
   "metadata": {},
   "outputs": [],
   "source": [
    "df_purebkg = pd.read_hdf(\"/data/t3home000/spark/LHCOlympics_previous/preprocessed_40part_testdataset.h5\")"
   ]
  },
  {
   "cell_type": "code",
   "execution_count": 4,
   "metadata": {},
   "outputs": [],
   "source": [
    "dt = df_purebkg.values"
   ]
  },
  {
   "cell_type": "code",
   "execution_count": 5,
   "metadata": {},
   "outputs": [],
   "source": [
    "idx = dt[:,120]\n",
    "bkg_idx = np.where(idx==0)[0]\n",
    "signal_idx = np.where(idx==1)[0]"
   ]
  },
  {
   "cell_type": "code",
   "execution_count": 6,
   "metadata": {},
   "outputs": [],
   "source": [
    "dtsig = dt[signal_idx]"
   ]
  },
  {
   "cell_type": "code",
   "execution_count": 7,
   "metadata": {},
   "outputs": [],
   "source": [
    "Ysig = dtsig[:,0:120]"
   ]
  },
  {
   "cell_type": "code",
   "execution_count": 8,
   "metadata": {},
   "outputs": [],
   "source": [
    "dt = dt[bkg_idx]"
   ]
  },
  {
   "cell_type": "code",
   "execution_count": 9,
   "metadata": {},
   "outputs": [
    {
     "data": {
      "text/plain": [
       "(1000000, 121)"
      ]
     },
     "execution_count": 9,
     "metadata": {},
     "output_type": "execute_result"
    }
   ],
   "source": [
    "dt.shape"
   ]
  },
  {
   "cell_type": "code",
   "execution_count": 10,
   "metadata": {},
   "outputs": [],
   "source": [
    "Y = dt[:,0:120]"
   ]
  },
  {
   "cell_type": "code",
   "execution_count": 11,
   "metadata": {},
   "outputs": [
    {
     "data": {
      "text/plain": [
       "(1000000, 120)"
      ]
     },
     "execution_count": 11,
     "metadata": {},
     "output_type": "execute_result"
    }
   ],
   "source": [
    "Y.shape"
   ]
  },
  {
   "cell_type": "code",
   "execution_count": 12,
   "metadata": {},
   "outputs": [
    {
     "data": {
      "text/plain": [
       "(100000, 120)"
      ]
     },
     "execution_count": 12,
     "metadata": {},
     "output_type": "execute_result"
    }
   ],
   "source": [
    "Ysig.shape"
   ]
  },
  {
   "cell_type": "code",
   "execution_count": 13,
   "metadata": {},
   "outputs": [],
   "source": [
    "bkg_mean = []\n",
    "bkg_std = []"
   ]
  },
  {
   "cell_type": "code",
   "execution_count": 14,
   "metadata": {},
   "outputs": [],
   "source": [
    "for i in range(120):\n",
    "    mean = np.mean(Y[:,i])\n",
    "    std = np.std(Y[:,i])\n",
    "    bkg_mean.append(mean)\n",
    "    bkg_std.append(std)\n",
    "    Y[:,i] = (Y[:,i]-mean)/std"
   ]
  },
  {
   "cell_type": "code",
   "execution_count": 15,
   "metadata": {},
   "outputs": [],
   "source": [
    "for i in range(120):\n",
    "    Ysig[:,i] = (Ysig[:,i]-bkg_mean[i])/bkg_std[i]"
   ]
  },
  {
   "cell_type": "code",
   "execution_count": 16,
   "metadata": {},
   "outputs": [
    {
     "data": {
      "text/plain": [
       "[0.15568354823835454,\n",
       " -0.0005867081735644271,\n",
       " -0.0002195494067867985,\n",
       " 0.09352003419875753,\n",
       " 0.0008066970680608648,\n",
       " 0.0002240764406314529,\n",
       " 0.06587074638005737,\n",
       " 0.0006636528594647327,\n",
       " -0.0023816153997407064,\n",
       " 0.05084215107073321,\n",
       " -0.0003433368214237651,\n",
       " 0.003544739682076891,\n",
       " 0.041194707607967174,\n",
       " 0.0012153682287392854,\n",
       " -0.0017556880113168882,\n",
       " 0.03445028323526803,\n",
       " 0.00015621156054875462,\n",
       " 0.0011303441138484581,\n",
       " 0.029433130023168087,\n",
       " 0.00033110066620853433,\n",
       " 0.0014597629791734247,\n",
       " 0.025554713558371998,\n",
       " 0.0015666148974230617,\n",
       " 0.003421664592406814,\n",
       " 0.022458324186554395,\n",
       " -0.0001844127132437102,\n",
       " 0.0002240226817079931,\n",
       " 0.019942695187274435,\n",
       " 0.0004936437399459663,\n",
       " 0.0015583877689536985,\n",
       " 0.01786221155144192,\n",
       " 0.0010821502362828215,\n",
       " -0.0008844580725029073,\n",
       " 0.016117736009398826,\n",
       " 0.0008851299893164844,\n",
       " 0.0015120258585988831,\n",
       " 0.014640304732674931,\n",
       " 0.0018745958309205261,\n",
       " 0.002447262887436696,\n",
       " 0.013376902370589562,\n",
       " 0.00019575080019466567,\n",
       " 0.0038654146200466726,\n",
       " 0.012284987206409267,\n",
       " -8.796758410808195e-05,\n",
       " 0.0007904222231009785,\n",
       " 0.01133403231775633,\n",
       " 0.00024037918060713456,\n",
       " 0.001085904240619343,\n",
       " 0.010499999437789214,\n",
       " 0.0008851955046329053,\n",
       " -0.0009836896319220258,\n",
       " 0.00976302584467995,\n",
       " 0.0002479950488770389,\n",
       " 0.0051234302958032725,\n",
       " 0.00910744401775487,\n",
       " 0.0012217711378136665,\n",
       " 0.0017145055549839603,\n",
       " 0.008522062357523943,\n",
       " -0.00041691877393078356,\n",
       " 0.0014220318356959589,\n",
       " 0.007996882226376439,\n",
       " 0.001198228444059621,\n",
       " -0.001237065557675969,\n",
       " 0.007522790270334373,\n",
       " 0.000949840264662205,\n",
       " 0.0013664859997749171,\n",
       " 0.007092840063327954,\n",
       " 0.001722156025379466,\n",
       " 0.001370534886854782,\n",
       " 0.0067018014595973275,\n",
       " 0.0010055579477807734,\n",
       " 0.0030997866911200616,\n",
       " 0.0063444661913002656,\n",
       " 0.00235417461169664,\n",
       " 0.002911401861427997,\n",
       " 0.0060174626017741,\n",
       " -0.00012977576056776922,\n",
       " 0.0017588714603629229,\n",
       " 0.005717474764060746,\n",
       " -0.0002305215458080579,\n",
       " 0.0007479972192238773,\n",
       " 0.00544100449937688,\n",
       " 0.0016204412256630475,\n",
       " 0.0013776053171992194,\n",
       " 0.005185940011076986,\n",
       " 0.0004074576501453745,\n",
       " 0.004444817118420841,\n",
       " 0.004949279808303201,\n",
       " 0.00107632050210042,\n",
       " 0.0016818303926203503,\n",
       " 0.004729464761131055,\n",
       " 0.0005282146077097049,\n",
       " 0.0030672465356678955,\n",
       " 0.004525595932964061,\n",
       " 0.0010135021462501712,\n",
       " -0.00028208976755269736,\n",
       " 0.004335372535960344,\n",
       " 0.0012280526409285354,\n",
       " 0.0010314722778586602,\n",
       " 0.004157803844267861,\n",
       " 0.0001495791776895171,\n",
       " 0.0028450612743703943,\n",
       " 0.003991570296202124,\n",
       " -0.00107859963675556,\n",
       " -0.0002836412593818377,\n",
       " 0.003835590134055049,\n",
       " 0.0019244746885158739,\n",
       " 0.0009939376974547494,\n",
       " 0.0036893546998157892,\n",
       " 0.00041400500374656724,\n",
       " 0.0014714106399189072,\n",
       " 0.003551487014816517,\n",
       " 0.0014739515117486428,\n",
       " 0.0021890548597790437,\n",
       " 0.0034214886551081018,\n",
       " 0.0009750086656239457,\n",
       " 0.0025384605565834505,\n",
       " 0.003299220971543123,\n",
       " 0.0013091235208862542,\n",
       " 0.00490960111673408]"
      ]
     },
     "execution_count": 16,
     "metadata": {},
     "output_type": "execute_result"
    }
   ],
   "source": [
    "bkg_mean"
   ]
  },
  {
   "cell_type": "code",
   "execution_count": 17,
   "metadata": {},
   "outputs": [
    {
     "data": {
      "image/png": "[encoded data removed]",
      "text/plain": [
       "<Figure size 432x288 with 1 Axes>"
      ]
     },
     "metadata": {
      "needs_background": "light"
     },
     "output_type": "display_data"
    }
   ],
   "source": [
    "bins = np.linspace(-3,3,100)\n",
    "bins.shape\n",
    "column = 90\n",
    "#print(f_rnd.columns[column])\n",
    "#plt.ylim(0, 500)\n",
    "plt.hist(Y[:,column],bins,alpha=0.5,color='b');\n",
    "#plt.hist(sigout[:,column],bins,alpha=0.5,color='r');\n",
    "#plt.hist(out2[:,column],bins,alpha=0.5,color='g');\n",
    "#plt.axvline(np.mean(Y[:,column]))"
   ]
  },
  {
   "cell_type": "code",
   "execution_count": 18,
   "metadata": {},
   "outputs": [
    {
     "data": {
      "text/plain": [
       "[0.15568354823835454,\n",
       " -0.0005867081735644271,\n",
       " -0.0002195494067867985,\n",
       " 0.09352003419875753,\n",
       " 0.0008066970680608648,\n",
       " 0.0002240764406314529,\n",
       " 0.06587074638005737,\n",
       " 0.0006636528594647327,\n",
       " -0.0023816153997407064,\n",
       " 0.05084215107073321,\n",
       " -0.0003433368214237651,\n",
       " 0.003544739682076891,\n",
       " 0.041194707607967174,\n",
       " 0.0012153682287392854,\n",
       " -0.0017556880113168882,\n",
       " 0.03445028323526803,\n",
       " 0.00015621156054875462,\n",
       " 0.0011303441138484581,\n",
       " 0.029433130023168087,\n",
       " 0.00033110066620853433,\n",
       " 0.0014597629791734247,\n",
       " 0.025554713558371998,\n",
       " 0.0015666148974230617,\n",
       " 0.003421664592406814,\n",
       " 0.022458324186554395,\n",
       " -0.0001844127132437102,\n",
       " 0.0002240226817079931,\n",
       " 0.019942695187274435,\n",
       " 0.0004936437399459663,\n",
       " 0.0015583877689536985,\n",
       " 0.01786221155144192,\n",
       " 0.0010821502362828215,\n",
       " -0.0008844580725029073,\n",
       " 0.016117736009398826,\n",
       " 0.0008851299893164844,\n",
       " 0.0015120258585988831,\n",
       " 0.014640304732674931,\n",
       " 0.0018745958309205261,\n",
       " 0.002447262887436696,\n",
       " 0.013376902370589562,\n",
       " 0.00019575080019466567,\n",
       " 0.0038654146200466726,\n",
       " 0.012284987206409267,\n",
       " -8.796758410808195e-05,\n",
       " 0.0007904222231009785,\n",
       " 0.01133403231775633,\n",
       " 0.00024037918060713456,\n",
       " 0.001085904240619343,\n",
       " 0.010499999437789214,\n",
       " 0.0008851955046329053,\n",
       " -0.0009836896319220258,\n",
       " 0.00976302584467995,\n",
       " 0.0002479950488770389,\n",
       " 0.0051234302958032725,\n",
       " 0.00910744401775487,\n",
       " 0.0012217711378136665,\n",
       " 0.0017145055549839603,\n",
       " 0.008522062357523943,\n",
       " -0.00041691877393078356,\n",
       " 0.0014220318356959589,\n",
       " 0.007996882226376439,\n",
       " 0.001198228444059621,\n",
       " -0.001237065557675969,\n",
       " 0.007522790270334373,\n",
       " 0.000949840264662205,\n",
       " 0.0013664859997749171,\n",
       " 0.007092840063327954,\n",
       " 0.001722156025379466,\n",
       " 0.001370534886854782,\n",
       " 0.0067018014595973275,\n",
       " 0.0010055579477807734,\n",
       " 0.0030997866911200616,\n",
       " 0.0063444661913002656,\n",
       " 0.00235417461169664,\n",
       " 0.002911401861427997,\n",
       " 0.0060174626017741,\n",
       " -0.00012977576056776922,\n",
       " 0.0017588714603629229,\n",
       " 0.005717474764060746,\n",
       " -0.0002305215458080579,\n",
       " 0.0007479972192238773,\n",
       " 0.00544100449937688,\n",
       " 0.0016204412256630475,\n",
       " 0.0013776053171992194,\n",
       " 0.005185940011076986,\n",
       " 0.0004074576501453745,\n",
       " 0.004444817118420841,\n",
       " 0.004949279808303201,\n",
       " 0.00107632050210042,\n",
       " 0.0016818303926203503,\n",
       " 0.004729464761131055,\n",
       " 0.0005282146077097049,\n",
       " 0.0030672465356678955,\n",
       " 0.004525595932964061,\n",
       " 0.0010135021462501712,\n",
       " -0.00028208976755269736,\n",
       " 0.004335372535960344,\n",
       " 0.0012280526409285354,\n",
       " 0.0010314722778586602,\n",
       " 0.004157803844267861,\n",
       " 0.0001495791776895171,\n",
       " 0.0028450612743703943,\n",
       " 0.003991570296202124,\n",
       " -0.00107859963675556,\n",
       " -0.0002836412593818377,\n",
       " 0.003835590134055049,\n",
       " 0.0019244746885158739,\n",
       " 0.0009939376974547494,\n",
       " 0.0036893546998157892,\n",
       " 0.00041400500374656724,\n",
       " 0.0014714106399189072,\n",
       " 0.003551487014816517,\n",
       " 0.0014739515117486428,\n",
       " 0.0021890548597790437,\n",
       " 0.0034214886551081018,\n",
       " 0.0009750086656239457,\n",
       " 0.0025384605565834505,\n",
       " 0.003299220971543123,\n",
       " 0.0013091235208862542,\n",
       " 0.00490960111673408]"
      ]
     },
     "execution_count": 18,
     "metadata": {},
     "output_type": "execute_result"
    }
   ],
   "source": [
    "bkg_mean"
   ]
  },
  {
   "cell_type": "code",
   "execution_count": 19,
   "metadata": {},
   "outputs": [
    {
     "data": {
      "text/plain": [
       "[0.0713956292677596,\n",
       " 0.7507873182311863,\n",
       " 1.8138234336441186,\n",
       " 0.04068548989709993,\n",
       " 0.9003047706425654,\n",
       " 2.4818206040266775,\n",
       " 0.02510376862481816,\n",
       " 0.8861255917398426,\n",
       " 2.436271310723864,\n",
       " 0.017828830840850386,\n",
       " 0.8857666865536159,\n",
       " 2.4279106636336656,\n",
       " 0.013509871629879312,\n",
       " 0.8909878643858806,\n",
       " 2.437092954815987,\n",
       " 0.010807285073102166,\n",
       " 0.8980957591541436,\n",
       " 2.44429170642392,\n",
       " 0.008965877097261408,\n",
       " 0.9065008955087697,\n",
       " 2.4540057851271957,\n",
       " 0.0076674348029005385,\n",
       " 0.913037681322888,\n",
       " 2.461993952157827,\n",
       " 0.006694968344043351,\n",
       " 0.9222931592544924,\n",
       " 2.4713597294980634,\n",
       " 0.005949591070161752,\n",
       " 0.9287618339833602,\n",
       " 2.4769508946609613,\n",
       " 0.00536928474660857,\n",
       " 0.9353571181236443,\n",
       " 2.482387838543594,\n",
       " 0.004898118017115649,\n",
       " 0.942811390610076,\n",
       " 2.4869531836469614,\n",
       " 0.004510701384573931,\n",
       " 0.9511756496924262,\n",
       " 2.4914811584558936,\n",
       " 0.004192540874146885,\n",
       " 0.9584663683526577,\n",
       " 2.493887958438835,\n",
       " 0.003918615907817429,\n",
       " 0.9630522728240506,\n",
       " 2.497130708672221,\n",
       " 0.0036822998870135065,\n",
       " 0.9727404622276189,\n",
       " 2.5009918118321863,\n",
       " 0.0034754608096209216,\n",
       " 0.9787246872441474,\n",
       " 2.5028472395410963,\n",
       " 0.0032907143932327776,\n",
       " 0.9862698099035988,\n",
       " 2.5052591538049254,\n",
       " 0.003127870070908853,\n",
       " 0.9951272329760432,\n",
       " 2.5080840379262517,\n",
       " 0.00297871319931228,\n",
       " 1.001212351839917,\n",
       " 2.5090168256126333,\n",
       " 0.0028447551285703527,\n",
       " 1.0081628421694473,\n",
       " 2.512393108995222,\n",
       " 0.0027214942898802093,\n",
       " 1.0171631207527043,\n",
       " 2.513010183335427,\n",
       " 0.0026078570478840555,\n",
       " 1.021767574516537,\n",
       " 2.513728637935434,\n",
       " 0.0025032731294251215,\n",
       " 1.0307503173213641,\n",
       " 2.5153390079170164,\n",
       " 0.002405068851230637,\n",
       " 1.0390537130781492,\n",
       " 2.518578341184795,\n",
       " 0.002313943911039985,\n",
       " 1.0458022414775026,\n",
       " 2.5189005339392057,\n",
       " 0.0022292231608156557,\n",
       " 1.0541758299416772,\n",
       " 2.5215212383840653,\n",
       " 0.0021499252303082733,\n",
       " 1.0603082254637315,\n",
       " 2.521186759743732,\n",
       " 0.002075498201576768,\n",
       " 1.0704725537366804,\n",
       " 2.5219927373112077,\n",
       " 0.0020053332416768905,\n",
       " 1.079299722990454,\n",
       " 2.5237428712610077,\n",
       " 0.0019391908459971115,\n",
       " 1.0863235497302832,\n",
       " 2.524112394302439,\n",
       " 0.0018770162856960484,\n",
       " 1.0944709482552715,\n",
       " 2.5245345553156544,\n",
       " 0.0018181029655980696,\n",
       " 1.1024855147648558,\n",
       " 2.52679361922717,\n",
       " 0.0017624079973491337,\n",
       " 1.1111510627384225,\n",
       " 2.5291346874612066,\n",
       " 0.0017096080506519848,\n",
       " 1.1195258461787134,\n",
       " 2.527692643162037,\n",
       " 0.001659111984373193,\n",
       " 1.1300981439790125,\n",
       " 2.528677668851054,\n",
       " 0.0016115311902126586,\n",
       " 1.138084608599635,\n",
       " 2.5286058670888196,\n",
       " 0.0015658365255462213,\n",
       " 1.1465388810509758,\n",
       " 2.5303822658998336,\n",
       " 0.0015223558278339576,\n",
       " 1.1552306396843781,\n",
       " 2.5323035190005023,\n",
       " 0.0014812268874856926,\n",
       " 1.1623000678031798,\n",
       " 2.5314277930329756]"
      ]
     },
     "execution_count": 19,
     "metadata": {},
     "output_type": "execute_result"
    }
   ],
   "source": [
    "bkg_std"
   ]
  },
  {
   "cell_type": "code",
   "execution_count": 20,
   "metadata": {},
   "outputs": [],
   "source": [
    "total_PureBkg = torch.tensor(Y)\n",
    "\n",
    "total_PureBkg_selection = total_PureBkg"
   ]
  },
  {
   "cell_type": "code",
   "execution_count": 21,
   "metadata": {},
   "outputs": [],
   "source": [
    "total_sig = torch.tensor(Ysig)"
   ]
  },
  {
   "cell_type": "code",
   "execution_count": 24,
   "metadata": {},
   "outputs": [
    {
     "data": {
      "text/plain": [
       "torch.Size([100000, 120])"
      ]
     },
     "execution_count": 24,
     "metadata": {},
     "output_type": "execute_result"
    }
   ],
   "source": [
    "total_sig.shape"
   ]
  },
  {
   "cell_type": "code",
   "execution_count": 25,
   "metadata": {},
   "outputs": [],
   "source": [
    "bs = 800\n",
    "bkgAE_train_iterator = utils.DataLoader(total_PureBkg_selection, batch_size=bs, shuffle=True) \n",
    "bkgAE_test_iterator = utils.DataLoader(total_PureBkg_selection, batch_size=bs)"
   ]
  },
  {
   "cell_type": "markdown",
   "metadata": {},
   "source": [
    "## Build the model"
   ]
  },
  {
   "cell_type": "code",
   "execution_count": 26,
   "metadata": {},
   "outputs": [],
   "source": [
    "####MAF \n",
    "class VAE_NF(nn.Module):\n",
    "    def __init__(self, K, D):\n",
    "        super().__init__()\n",
    "        self.dim = D\n",
    "        self.K = K\n",
    "        self.encoder = nn.Sequential(\n",
    "            nn.Linear(120, 300),\n",
    "            nn.LeakyReLU(True),\n",
    "            nn.Linear(300, 160),\n",
    "            nn.LeakyReLU(True),\n",
    "            nn.Linear(160, 80),\n",
    "            nn.LeakyReLU(True),\n",
    "            nn.Linear(80, 40),\n",
    "            nn.LeakyReLU(True),\n",
    "            nn.Linear(40, 20),\n",
    "            nn.LeakyReLU(True),\n",
    "            nn.Linear(20, D * 2)\n",
    "        )\n",
    "\n",
    "        self.decoder = nn.Sequential(\n",
    "            nn.Linear(D, 20),\n",
    "            nn.LeakyReLU(True),\n",
    "            nn.Linear(20, 40),\n",
    "            nn.LeakyReLU(True),\n",
    "            nn.Linear(40, 80),\n",
    "            nn.LeakyReLU(True),\n",
    "            nn.Linear(80, 160),\n",
    "            nn.LeakyReLU(True),\n",
    "            nn.Linear(160, 300),\n",
    "            nn.LeakyReLU(True),\n",
    "            nn.Linear(300, 120)\n",
    "        )\n",
    "        \n",
    "        flow_init = MAF(dim=D)\n",
    "        flows_init = [flow_init for _ in range(K)]\n",
    "        prior = MultivariateNormal(torch.zeros(D).cuda(), torch.eye(D).cuda())\n",
    "        self.flows = NormalizingFlowModel(prior, flows_init)\n",
    "\n",
    "    def forward(self, x):\n",
    "        # Run Encoder and get NF params\n",
    "        enc = self.encoder(x)\n",
    "        mu = enc[:, :self.dim]\n",
    "        log_var = enc[:, self.dim: self.dim * 2]\n",
    "\n",
    "        # Re-parametrize\n",
    "        sigma = (log_var * .5).exp()\n",
    "        z = mu + sigma * torch.randn_like(sigma)\n",
    "        kl_div = -0.5 * torch.sum(1 + log_var - mu.pow(2) - log_var.exp())\n",
    "        # Construct more expressive posterior with NF\n",
    "        \n",
    "        z_k, _, sum_ladj = self.flows(z)\n",
    "        \n",
    "        kl_div = kl_div / x.size(0) - sum_ladj.mean()  # mean over batch\n",
    "\n",
    "        # Run Decoder\n",
    "        x_prime = self.decoder(z_k)\n",
    "        return x_prime, kl_div"
   ]
  },
  {
   "cell_type": "code",
   "execution_count": null,
   "metadata": {},
   "outputs": [],
   "source": []
  },
  {
   "cell_type": "code",
   "execution_count": null,
   "metadata": {},
   "outputs": [],
   "source": []
  },
  {
   "cell_type": "markdown",
   "metadata": {},
   "source": [
    "####MAF \n",
    "class VAE_NF(nn.Module):\n",
    "    def __init__(self, K, D):\n",
    "        super().__init__()\n",
    "        self.dim = D\n",
    "        self.K = K\n",
    "        self.encoder = nn.Sequential(\n",
    "            nn.Linear(16, 50),\n",
    "            nn.LeakyReLU(True),\n",
    "            nn.Linear(50, 48),\n",
    "            nn.LeakyReLU(True),            \n",
    "            nn.Linear(48, D * 2)\n",
    "        )\n",
    "\n",
    "        self.decoder = nn.Sequential(\n",
    "            nn.Linear(D, 48),\n",
    "            nn.LeakyReLU(True),\n",
    "            nn.Linear(48, 50),\n",
    "            nn.LeakyReLU(True),\n",
    "            nn.Linear(50, 16)\n",
    "        )\n",
    "        \n",
    "        flow_init = MAF(dim=D)\n",
    "        flows_init = [flow_init for _ in range(K)]\n",
    "        prior = MultivariateNormal(torch.zeros(D).cuda(), torch.eye(D).cuda())\n",
    "        self.flows = NormalizingFlowModel(prior, flows_init)\n",
    "\n",
    "    def forward(self, x):\n",
    "        # Run Encoder and get NF params\n",
    "        enc = self.encoder(x)\n",
    "        mu = enc[:, :self.dim]\n",
    "        log_var = enc[:, self.dim: self.dim * 2]\n",
    "\n",
    "        # Re-parametrize\n",
    "        sigma = (log_var * .5).exp()\n",
    "        z = mu + sigma * torch.randn_like(sigma)\n",
    "        kl_div = -0.5 * torch.sum(1 + log_var - mu.pow(2) - log_var.exp())\n",
    "        # Construct more expressive posterior with NF\n",
    "        \n",
    "        z_k, _, sum_ladj = self.flows(z)\n",
    "        \n",
    "        kl_div = kl_div / x.size(0) - sum_ladj.mean()  # mean over batch\n",
    "\n",
    "        # Run Decoder\n",
    "        x_prime = self.decoder(z_k)\n",
    "        return x_prime, kl_div"
   ]
  },
  {
   "cell_type": "markdown",
   "metadata": {},
   "source": [
    "## Creating Instance¶"
   ]
  },
  {
   "cell_type": "code",
   "execution_count": 27,
   "metadata": {},
   "outputs": [],
   "source": [
    "N_EPOCHS = 30\n",
    "PRINT_INTERVAL = 2000\n",
    "NUM_WORKERS = 4\n",
    "LR = 1e-4\n",
    "\n",
    "N_FLOWS = 10\n",
    "Z_DIM = 10\n",
    "\n",
    "n_steps = 0"
   ]
  },
  {
   "cell_type": "code",
   "execution_count": 28,
   "metadata": {},
   "outputs": [],
   "source": [
    "model = VAE_NF(N_FLOWS, Z_DIM).cuda()"
   ]
  },
  {
   "cell_type": "code",
   "execution_count": 51,
   "metadata": {},
   "outputs": [],
   "source": [
    "optimizer = optim.Adam(model.parameters(), lr=1e-7)"
   ]
  },
  {
   "cell_type": "code",
   "execution_count": 52,
   "metadata": {},
   "outputs": [],
   "source": [
    "beta = 1"
   ]
  },
  {
   "cell_type": "code",
   "execution_count": 53,
   "metadata": {},
   "outputs": [],
   "source": [
    "def train():\n",
    "    global n_steps\n",
    "    train_loss = []\n",
    "    model.train()\n",
    "\n",
    "    for batch_idx, x in enumerate(bkgAE_train_iterator):\n",
    "        start_time = time.time()\n",
    "        \n",
    "        x = x.float().cuda()\n",
    "\n",
    "        x_tilde, kl_div = model(x)\n",
    "        \n",
    "        \n",
    "        \n",
    "        mseloss = nn.MSELoss(size_average=False)\n",
    "        \n",
    "        huberloss = nn.SmoothL1Loss(size_average=False)\n",
    "        \n",
    "\n",
    "        #loss_recons = F.binary_cross_entropy(x_tilde, x, size_average=False) / x.size(0)\n",
    "        loss_recons = mseloss(x_tilde,x ) / x.size(0)\n",
    "        \n",
    "        #loss_recons = huberloss(x_tilde,x ) / x.size(0)\n",
    "        loss = loss_recons + beta * kl_div\n",
    "\n",
    "        optimizer.zero_grad()\n",
    "        loss.backward()\n",
    "        optimizer.step()\n",
    "\n",
    "        train_loss.append([loss_recons.item(), kl_div.item()])\n",
    "\n",
    "        if (batch_idx + 1) % PRINT_INTERVAL == 0:\n",
    "            print('\\tIter [{}/{} ({:.0f}%)]\\tLoss: {} Time: {:5.3f} ms/batch'.format(\n",
    "                batch_idx * len(x), 50000,\n",
    "                PRINT_INTERVAL * batch_idx / 50000,\n",
    "                np.asarray(train_loss)[-PRINT_INTERVAL:].mean(0),\n",
    "                1000 * (time.time() - start_time)\n",
    "            ))\n",
    "\n",
    "        n_steps += 1"
   ]
  },
  {
   "cell_type": "code",
   "execution_count": 54,
   "metadata": {},
   "outputs": [],
   "source": [
    "def evaluate(split='valid'):\n",
    "    global n_steps\n",
    "    start_time = time.time()\n",
    "    val_loss = []\n",
    "    model.eval()\n",
    "\n",
    "    with torch.no_grad():\n",
    "        for batch_idx, x in enumerate(bkgAE_test_iterator):\n",
    "            \n",
    "            x = x.float().cuda()\n",
    "\n",
    "            x_tilde, kl_div = model(x)\n",
    "            mseloss = nn.MSELoss(size_average=False)\n",
    "            #loss_recons = F.binary_cross_entropy(x_tilde, x, size_average=False) / x.size(0)\n",
    "            huberloss = nn.SmoothL1Loss(size_average=False)\n",
    "        \n",
    "\n",
    "            #loss_recons = F.binary_cross_entropy(x_tilde, x, size_average=False) / x.size(0)\n",
    "            loss_recons = mseloss(x_tilde,x ) / x.size(0)\n",
    "            #loss_recons = huberloss(x_tilde,x ) / x.size(0)\n",
    "            loss = loss_recons + beta * kl_div\n",
    "\n",
    "            val_loss.append(loss.item())\n",
    "            #writer.add_scalar('loss/{}/ELBO'.format(split), loss.item(), n_steps)\n",
    "            #writer.add_scalar('loss/{}/reconstruction'.format(split), loss_recons.item(), n_steps)\n",
    "            #writer.add_scalar('loss/{}/KL'.format(split), kl_div.item(), n_steps)\n",
    "\n",
    "    print('\\nEvaluation Completed ({})!\\tLoss: {:5.4f} Time: {:5.3f} s'.format(\n",
    "        split,\n",
    "        np.asarray(val_loss).mean(0),\n",
    "        time.time() - start_time\n",
    "    ))\n",
    "    return np.asarray(val_loss).mean(0)"
   ]
  },
  {
   "cell_type": "code",
   "execution_count": 55,
   "metadata": {},
   "outputs": [
    {
     "name": "stdout",
     "output_type": "stream",
     "text": [
      "1\n"
     ]
    }
   ],
   "source": [
    "print(beta)"
   ]
  },
  {
   "cell_type": "code",
   "execution_count": 56,
   "metadata": {},
   "outputs": [
    {
     "name": "stdout",
     "output_type": "stream",
     "text": [
      "VAE_NF(\n",
      "  (encoder): Sequential(\n",
      "    (0): Linear(in_features=120, out_features=300, bias=True)\n",
      "    (1): LeakyReLU(negative_slope=True)\n",
      "    (2): Linear(in_features=300, out_features=160, bias=True)\n",
      "    (3): LeakyReLU(negative_slope=True)\n",
      "    (4): Linear(in_features=160, out_features=80, bias=True)\n",
      "    (5): LeakyReLU(negative_slope=True)\n",
      "    (6): Linear(in_features=80, out_features=40, bias=True)\n",
      "    (7): LeakyReLU(negative_slope=True)\n",
      "    (8): Linear(in_features=40, out_features=20, bias=True)\n",
      "    (9): LeakyReLU(negative_slope=True)\n",
      "    (10): Linear(in_features=20, out_features=20, bias=True)\n",
      "  )\n",
      "  (decoder): Sequential(\n",
      "    (0): Linear(in_features=10, out_features=20, bias=True)\n",
      "    (1): LeakyReLU(negative_slope=True)\n",
      "    (2): Linear(in_features=20, out_features=40, bias=True)\n",
      "    (3): LeakyReLU(negative_slope=True)\n",
      "    (4): Linear(in_features=40, out_features=80, bias=True)\n",
      "    (5): LeakyReLU(negative_slope=True)\n",
      "    (6): Linear(in_features=80, out_features=160, bias=True)\n",
      "    (7): LeakyReLU(negative_slope=True)\n",
      "    (8): Linear(in_features=160, out_features=300, bias=True)\n",
      "    (9): LeakyReLU(negative_slope=True)\n",
      "    (10): Linear(in_features=300, out_features=120, bias=True)\n",
      "  )\n",
      "  (flows): NormalizingFlowModel(\n",
      "    (flows): ModuleList(\n",
      "      (0): MAF(\n",
      "        (layers): ModuleList(\n",
      "          (0): FCNN(\n",
      "            (network): Sequential(\n",
      "              (0): Linear(in_features=1, out_features=8, bias=True)\n",
      "              (1): Tanh()\n",
      "              (2): Linear(in_features=8, out_features=8, bias=True)\n",
      "              (3): Tanh()\n",
      "              (4): Linear(in_features=8, out_features=2, bias=True)\n",
      "            )\n",
      "          )\n",
      "          (1): FCNN(\n",
      "            (network): Sequential(\n",
      "              (0): Linear(in_features=2, out_features=8, bias=True)\n",
      "              (1): Tanh()\n",
      "              (2): Linear(in_features=8, out_features=8, bias=True)\n",
      "              (3): Tanh()\n",
      "              (4): Linear(in_features=8, out_features=2, bias=True)\n",
      "            )\n",
      "          )\n",
      "          (2): FCNN(\n",
      "            (network): Sequential(\n",
      "              (0): Linear(in_features=3, out_features=8, bias=True)\n",
      "              (1): Tanh()\n",
      "              (2): Linear(in_features=8, out_features=8, bias=True)\n",
      "              (3): Tanh()\n",
      "              (4): Linear(in_features=8, out_features=2, bias=True)\n",
      "            )\n",
      "          )\n",
      "          (3): FCNN(\n",
      "            (network): Sequential(\n",
      "              (0): Linear(in_features=4, out_features=8, bias=True)\n",
      "              (1): Tanh()\n",
      "              (2): Linear(in_features=8, out_features=8, bias=True)\n",
      "              (3): Tanh()\n",
      "              (4): Linear(in_features=8, out_features=2, bias=True)\n",
      "            )\n",
      "          )\n",
      "          (4): FCNN(\n",
      "            (network): Sequential(\n",
      "              (0): Linear(in_features=5, out_features=8, bias=True)\n",
      "              (1): Tanh()\n",
      "              (2): Linear(in_features=8, out_features=8, bias=True)\n",
      "              (3): Tanh()\n",
      "              (4): Linear(in_features=8, out_features=2, bias=True)\n",
      "            )\n",
      "          )\n",
      "          (5): FCNN(\n",
      "            (network): Sequential(\n",
      "              (0): Linear(in_features=6, out_features=8, bias=True)\n",
      "              (1): Tanh()\n",
      "              (2): Linear(in_features=8, out_features=8, bias=True)\n",
      "              (3): Tanh()\n",
      "              (4): Linear(in_features=8, out_features=2, bias=True)\n",
      "            )\n",
      "          )\n",
      "          (6): FCNN(\n",
      "            (network): Sequential(\n",
      "              (0): Linear(in_features=7, out_features=8, bias=True)\n",
      "              (1): Tanh()\n",
      "              (2): Linear(in_features=8, out_features=8, bias=True)\n",
      "              (3): Tanh()\n",
      "              (4): Linear(in_features=8, out_features=2, bias=True)\n",
      "            )\n",
      "          )\n",
      "          (7): FCNN(\n",
      "            (network): Sequential(\n",
      "              (0): Linear(in_features=8, out_features=8, bias=True)\n",
      "              (1): Tanh()\n",
      "              (2): Linear(in_features=8, out_features=8, bias=True)\n",
      "              (3): Tanh()\n",
      "              (4): Linear(in_features=8, out_features=2, bias=True)\n",
      "            )\n",
      "          )\n",
      "          (8): FCNN(\n",
      "            (network): Sequential(\n",
      "              (0): Linear(in_features=9, out_features=8, bias=True)\n",
      "              (1): Tanh()\n",
      "              (2): Linear(in_features=8, out_features=8, bias=True)\n",
      "              (3): Tanh()\n",
      "              (4): Linear(in_features=8, out_features=2, bias=True)\n",
      "            )\n",
      "          )\n",
      "        )\n",
      "      )\n",
      "      (1): MAF(\n",
      "        (layers): ModuleList(\n",
      "          (0): FCNN(\n",
      "            (network): Sequential(\n",
      "              (0): Linear(in_features=1, out_features=8, bias=True)\n",
      "              (1): Tanh()\n",
      "              (2): Linear(in_features=8, out_features=8, bias=True)\n",
      "              (3): Tanh()\n",
      "              (4): Linear(in_features=8, out_features=2, bias=True)\n",
      "            )\n",
      "          )\n",
      "          (1): FCNN(\n",
      "            (network): Sequential(\n",
      "              (0): Linear(in_features=2, out_features=8, bias=True)\n",
      "              (1): Tanh()\n",
      "              (2): Linear(in_features=8, out_features=8, bias=True)\n",
      "              (3): Tanh()\n",
      "              (4): Linear(in_features=8, out_features=2, bias=True)\n",
      "            )\n",
      "          )\n",
      "          (2): FCNN(\n",
      "            (network): Sequential(\n",
      "              (0): Linear(in_features=3, out_features=8, bias=True)\n",
      "              (1): Tanh()\n",
      "              (2): Linear(in_features=8, out_features=8, bias=True)\n",
      "              (3): Tanh()\n",
      "              (4): Linear(in_features=8, out_features=2, bias=True)\n",
      "            )\n",
      "          )\n",
      "          (3): FCNN(\n",
      "            (network): Sequential(\n",
      "              (0): Linear(in_features=4, out_features=8, bias=True)\n",
      "              (1): Tanh()\n",
      "              (2): Linear(in_features=8, out_features=8, bias=True)\n",
      "              (3): Tanh()\n",
      "              (4): Linear(in_features=8, out_features=2, bias=True)\n",
      "            )\n",
      "          )\n",
      "          (4): FCNN(\n",
      "            (network): Sequential(\n",
      "              (0): Linear(in_features=5, out_features=8, bias=True)\n",
      "              (1): Tanh()\n",
      "              (2): Linear(in_features=8, out_features=8, bias=True)\n",
      "              (3): Tanh()\n",
      "              (4): Linear(in_features=8, out_features=2, bias=True)\n",
      "            )\n",
      "          )\n",
      "          (5): FCNN(\n",
      "            (network): Sequential(\n",
      "              (0): Linear(in_features=6, out_features=8, bias=True)\n",
      "              (1): Tanh()\n",
      "              (2): Linear(in_features=8, out_features=8, bias=True)\n",
      "              (3): Tanh()\n",
      "              (4): Linear(in_features=8, out_features=2, bias=True)\n",
      "            )\n",
      "          )\n",
      "          (6): FCNN(\n",
      "            (network): Sequential(\n",
      "              (0): Linear(in_features=7, out_features=8, bias=True)\n",
      "              (1): Tanh()\n",
      "              (2): Linear(in_features=8, out_features=8, bias=True)\n",
      "              (3): Tanh()\n",
      "              (4): Linear(in_features=8, out_features=2, bias=True)\n",
      "            )\n",
      "          )\n",
      "          (7): FCNN(\n",
      "            (network): Sequential(\n",
      "              (0): Linear(in_features=8, out_features=8, bias=True)\n",
      "              (1): Tanh()\n",
      "              (2): Linear(in_features=8, out_features=8, bias=True)\n",
      "              (3): Tanh()\n",
      "              (4): Linear(in_features=8, out_features=2, bias=True)\n",
      "            )\n",
      "          )\n",
      "          (8): FCNN(\n",
      "            (network): Sequential(\n",
      "              (0): Linear(in_features=9, out_features=8, bias=True)\n",
      "              (1): Tanh()\n",
      "              (2): Linear(in_features=8, out_features=8, bias=True)\n",
      "              (3): Tanh()\n",
      "              (4): Linear(in_features=8, out_features=2, bias=True)\n",
      "            )\n",
      "          )\n",
      "        )\n",
      "      )\n",
      "      (2): MAF(\n",
      "        (layers): ModuleList(\n",
      "          (0): FCNN(\n",
      "            (network): Sequential(\n",
      "              (0): Linear(in_features=1, out_features=8, bias=True)\n",
      "              (1): Tanh()\n",
      "              (2): Linear(in_features=8, out_features=8, bias=True)\n",
      "              (3): Tanh()\n",
      "              (4): Linear(in_features=8, out_features=2, bias=True)\n",
      "            )\n",
      "          )\n",
      "          (1): FCNN(\n",
      "            (network): Sequential(\n",
      "              (0): Linear(in_features=2, out_features=8, bias=True)\n",
      "              (1): Tanh()\n",
      "              (2): Linear(in_features=8, out_features=8, bias=True)\n",
      "              (3): Tanh()\n",
      "              (4): Linear(in_features=8, out_features=2, bias=True)\n",
      "            )\n",
      "          )\n",
      "          (2): FCNN(\n",
      "            (network): Sequential(\n",
      "              (0): Linear(in_features=3, out_features=8, bias=True)\n",
      "              (1): Tanh()\n",
      "              (2): Linear(in_features=8, out_features=8, bias=True)\n",
      "              (3): Tanh()\n",
      "              (4): Linear(in_features=8, out_features=2, bias=True)\n",
      "            )\n",
      "          )\n",
      "          (3): FCNN(\n",
      "            (network): Sequential(\n",
      "              (0): Linear(in_features=4, out_features=8, bias=True)\n",
      "              (1): Tanh()\n",
      "              (2): Linear(in_features=8, out_features=8, bias=True)\n",
      "              (3): Tanh()\n",
      "              (4): Linear(in_features=8, out_features=2, bias=True)\n",
      "            )\n",
      "          )\n",
      "          (4): FCNN(\n",
      "            (network): Sequential(\n",
      "              (0): Linear(in_features=5, out_features=8, bias=True)\n",
      "              (1): Tanh()\n",
      "              (2): Linear(in_features=8, out_features=8, bias=True)\n",
      "              (3): Tanh()\n",
      "              (4): Linear(in_features=8, out_features=2, bias=True)\n",
      "            )\n",
      "          )\n",
      "          (5): FCNN(\n",
      "            (network): Sequential(\n",
      "              (0): Linear(in_features=6, out_features=8, bias=True)\n",
      "              (1): Tanh()\n",
      "              (2): Linear(in_features=8, out_features=8, bias=True)\n",
      "              (3): Tanh()\n",
      "              (4): Linear(in_features=8, out_features=2, bias=True)\n",
      "            )\n",
      "          )\n",
      "          (6): FCNN(\n",
      "            (network): Sequential(\n",
      "              (0): Linear(in_features=7, out_features=8, bias=True)\n",
      "              (1): Tanh()\n",
      "              (2): Linear(in_features=8, out_features=8, bias=True)\n",
      "              (3): Tanh()\n",
      "              (4): Linear(in_features=8, out_features=2, bias=True)\n",
      "            )\n",
      "          )\n",
      "          (7): FCNN(\n",
      "            (network): Sequential(\n",
      "              (0): Linear(in_features=8, out_features=8, bias=True)\n",
      "              (1): Tanh()\n",
      "              (2): Linear(in_features=8, out_features=8, bias=True)\n",
      "              (3): Tanh()\n",
      "              (4): Linear(in_features=8, out_features=2, bias=True)\n",
      "            )\n",
      "          )\n",
      "          (8): FCNN(\n",
      "            (network): Sequential(\n",
      "              (0): Linear(in_features=9, out_features=8, bias=True)\n",
      "              (1): Tanh()\n",
      "              (2): Linear(in_features=8, out_features=8, bias=True)\n",
      "              (3): Tanh()\n",
      "              (4): Linear(in_features=8, out_features=2, bias=True)\n",
      "            )\n",
      "          )\n",
      "        )\n",
      "      )\n",
      "      (3): MAF(\n",
      "        (layers): ModuleList(\n",
      "          (0): FCNN(\n",
      "            (network): Sequential(\n",
      "              (0): Linear(in_features=1, out_features=8, bias=True)\n",
      "              (1): Tanh()\n",
      "              (2): Linear(in_features=8, out_features=8, bias=True)\n",
      "              (3): Tanh()\n",
      "              (4): Linear(in_features=8, out_features=2, bias=True)\n",
      "            )\n",
      "          )\n",
      "          (1): FCNN(\n",
      "            (network): Sequential(\n",
      "              (0): Linear(in_features=2, out_features=8, bias=True)\n",
      "              (1): Tanh()\n",
      "              (2): Linear(in_features=8, out_features=8, bias=True)\n",
      "              (3): Tanh()\n",
      "              (4): Linear(in_features=8, out_features=2, bias=True)\n",
      "            )\n",
      "          )\n",
      "          (2): FCNN(\n",
      "            (network): Sequential(\n",
      "              (0): Linear(in_features=3, out_features=8, bias=True)\n",
      "              (1): Tanh()\n",
      "              (2): Linear(in_features=8, out_features=8, bias=True)\n",
      "              (3): Tanh()\n",
      "              (4): Linear(in_features=8, out_features=2, bias=True)\n",
      "            )\n",
      "          )\n",
      "          (3): FCNN(\n",
      "            (network): Sequential(\n",
      "              (0): Linear(in_features=4, out_features=8, bias=True)\n",
      "              (1): Tanh()\n",
      "              (2): Linear(in_features=8, out_features=8, bias=True)\n",
      "              (3): Tanh()\n",
      "              (4): Linear(in_features=8, out_features=2, bias=True)\n",
      "            )\n",
      "          )\n",
      "          (4): FCNN(\n",
      "            (network): Sequential(\n",
      "              (0): Linear(in_features=5, out_features=8, bias=True)\n",
      "              (1): Tanh()\n",
      "              (2): Linear(in_features=8, out_features=8, bias=True)\n",
      "              (3): Tanh()\n",
      "              (4): Linear(in_features=8, out_features=2, bias=True)\n",
      "            )\n",
      "          )\n",
      "          (5): FCNN(\n",
      "            (network): Sequential(\n",
      "              (0): Linear(in_features=6, out_features=8, bias=True)\n",
      "              (1): Tanh()\n",
      "              (2): Linear(in_features=8, out_features=8, bias=True)\n",
      "              (3): Tanh()\n",
      "              (4): Linear(in_features=8, out_features=2, bias=True)\n",
      "            )\n",
      "          )\n",
      "          (6): FCNN(\n",
      "            (network): Sequential(\n",
      "              (0): Linear(in_features=7, out_features=8, bias=True)\n",
      "              (1): Tanh()\n",
      "              (2): Linear(in_features=8, out_features=8, bias=True)\n",
      "              (3): Tanh()\n",
      "              (4): Linear(in_features=8, out_features=2, bias=True)\n",
      "            )\n",
      "          )\n",
      "          (7): FCNN(\n",
      "            (network): Sequential(\n",
      "              (0): Linear(in_features=8, out_features=8, bias=True)\n",
      "              (1): Tanh()\n",
      "              (2): Linear(in_features=8, out_features=8, bias=True)\n",
      "              (3): Tanh()\n",
      "              (4): Linear(in_features=8, out_features=2, bias=True)\n",
      "            )\n",
      "          )\n",
      "          (8): FCNN(\n",
      "            (network): Sequential(\n",
      "              (0): Linear(in_features=9, out_features=8, bias=True)\n",
      "              (1): Tanh()\n",
      "              (2): Linear(in_features=8, out_features=8, bias=True)\n",
      "              (3): Tanh()\n",
      "              (4): Linear(in_features=8, out_features=2, bias=True)\n",
      "            )\n",
      "          )\n",
      "        )\n",
      "      )\n",
      "      (4): MAF(\n",
      "        (layers): ModuleList(\n",
      "          (0): FCNN(\n",
      "            (network): Sequential(\n",
      "              (0): Linear(in_features=1, out_features=8, bias=True)\n",
      "              (1): Tanh()\n",
      "              (2): Linear(in_features=8, out_features=8, bias=True)\n",
      "              (3): Tanh()\n",
      "              (4): Linear(in_features=8, out_features=2, bias=True)\n",
      "            )\n",
      "          )\n",
      "          (1): FCNN(\n",
      "            (network): Sequential(\n",
      "              (0): Linear(in_features=2, out_features=8, bias=True)\n",
      "              (1): Tanh()\n",
      "              (2): Linear(in_features=8, out_features=8, bias=True)\n",
      "              (3): Tanh()\n",
      "              (4): Linear(in_features=8, out_features=2, bias=True)\n",
      "            )\n",
      "          )\n",
      "          (2): FCNN(\n",
      "            (network): Sequential(\n",
      "              (0): Linear(in_features=3, out_features=8, bias=True)\n",
      "              (1): Tanh()\n",
      "              (2): Linear(in_features=8, out_features=8, bias=True)\n",
      "              (3): Tanh()\n",
      "              (4): Linear(in_features=8, out_features=2, bias=True)\n",
      "            )\n",
      "          )\n",
      "          (3): FCNN(\n",
      "            (network): Sequential(\n",
      "              (0): Linear(in_features=4, out_features=8, bias=True)\n",
      "              (1): Tanh()\n",
      "              (2): Linear(in_features=8, out_features=8, bias=True)\n",
      "              (3): Tanh()\n",
      "              (4): Linear(in_features=8, out_features=2, bias=True)\n",
      "            )\n",
      "          )\n",
      "          (4): FCNN(\n",
      "            (network): Sequential(\n",
      "              (0): Linear(in_features=5, out_features=8, bias=True)\n",
      "              (1): Tanh()\n",
      "              (2): Linear(in_features=8, out_features=8, bias=True)\n",
      "              (3): Tanh()\n",
      "              (4): Linear(in_features=8, out_features=2, bias=True)\n",
      "            )\n",
      "          )\n",
      "          (5): FCNN(\n",
      "            (network): Sequential(\n",
      "              (0): Linear(in_features=6, out_features=8, bias=True)\n",
      "              (1): Tanh()\n",
      "              (2): Linear(in_features=8, out_features=8, bias=True)\n",
      "              (3): Tanh()\n",
      "              (4): Linear(in_features=8, out_features=2, bias=True)\n",
      "            )\n",
      "          )\n",
      "          (6): FCNN(\n",
      "            (network): Sequential(\n",
      "              (0): Linear(in_features=7, out_features=8, bias=True)\n",
      "              (1): Tanh()\n",
      "              (2): Linear(in_features=8, out_features=8, bias=True)\n",
      "              (3): Tanh()\n",
      "              (4): Linear(in_features=8, out_features=2, bias=True)\n",
      "            )\n",
      "          )\n",
      "          (7): FCNN(\n",
      "            (network): Sequential(\n",
      "              (0): Linear(in_features=8, out_features=8, bias=True)\n",
      "              (1): Tanh()\n",
      "              (2): Linear(in_features=8, out_features=8, bias=True)\n",
      "              (3): Tanh()\n",
      "              (4): Linear(in_features=8, out_features=2, bias=True)\n",
      "            )\n",
      "          )\n",
      "          (8): FCNN(\n",
      "            (network): Sequential(\n",
      "              (0): Linear(in_features=9, out_features=8, bias=True)\n",
      "              (1): Tanh()\n",
      "              (2): Linear(in_features=8, out_features=8, bias=True)\n",
      "              (3): Tanh()\n",
      "              (4): Linear(in_features=8, out_features=2, bias=True)\n",
      "            )\n",
      "          )\n",
      "        )\n",
      "      )\n",
      "      (5): MAF(\n",
      "        (layers): ModuleList(\n",
      "          (0): FCNN(\n",
      "            (network): Sequential(\n",
      "              (0): Linear(in_features=1, out_features=8, bias=True)\n",
      "              (1): Tanh()\n",
      "              (2): Linear(in_features=8, out_features=8, bias=True)\n",
      "              (3): Tanh()\n",
      "              (4): Linear(in_features=8, out_features=2, bias=True)\n",
      "            )\n",
      "          )\n",
      "          (1): FCNN(\n",
      "            (network): Sequential(\n",
      "              (0): Linear(in_features=2, out_features=8, bias=True)\n",
      "              (1): Tanh()\n",
      "              (2): Linear(in_features=8, out_features=8, bias=True)\n",
      "              (3): Tanh()\n",
      "              (4): Linear(in_features=8, out_features=2, bias=True)\n",
      "            )\n",
      "          )\n",
      "          (2): FCNN(\n",
      "            (network): Sequential(\n",
      "              (0): Linear(in_features=3, out_features=8, bias=True)\n",
      "              (1): Tanh()\n",
      "              (2): Linear(in_features=8, out_features=8, bias=True)\n",
      "              (3): Tanh()\n",
      "              (4): Linear(in_features=8, out_features=2, bias=True)\n",
      "            )\n",
      "          )\n",
      "          (3): FCNN(\n",
      "            (network): Sequential(\n",
      "              (0): Linear(in_features=4, out_features=8, bias=True)\n",
      "              (1): Tanh()\n",
      "              (2): Linear(in_features=8, out_features=8, bias=True)\n",
      "              (3): Tanh()\n",
      "              (4): Linear(in_features=8, out_features=2, bias=True)\n",
      "            )\n",
      "          )\n",
      "          (4): FCNN(\n",
      "            (network): Sequential(\n",
      "              (0): Linear(in_features=5, out_features=8, bias=True)\n",
      "              (1): Tanh()\n",
      "              (2): Linear(in_features=8, out_features=8, bias=True)\n",
      "              (3): Tanh()\n",
      "              (4): Linear(in_features=8, out_features=2, bias=True)\n",
      "            )\n",
      "          )\n",
      "          (5): FCNN(\n",
      "            (network): Sequential(\n",
      "              (0): Linear(in_features=6, out_features=8, bias=True)\n",
      "              (1): Tanh()\n",
      "              (2): Linear(in_features=8, out_features=8, bias=True)\n",
      "              (3): Tanh()\n",
      "              (4): Linear(in_features=8, out_features=2, bias=True)\n",
      "            )\n",
      "          )\n",
      "          (6): FCNN(\n",
      "            (network): Sequential(\n",
      "              (0): Linear(in_features=7, out_features=8, bias=True)\n",
      "              (1): Tanh()\n",
      "              (2): Linear(in_features=8, out_features=8, bias=True)\n",
      "              (3): Tanh()\n",
      "              (4): Linear(in_features=8, out_features=2, bias=True)\n",
      "            )\n",
      "          )\n",
      "          (7): FCNN(\n",
      "            (network): Sequential(\n",
      "              (0): Linear(in_features=8, out_features=8, bias=True)\n",
      "              (1): Tanh()\n",
      "              (2): Linear(in_features=8, out_features=8, bias=True)\n",
      "              (3): Tanh()\n",
      "              (4): Linear(in_features=8, out_features=2, bias=True)\n",
      "            )\n",
      "          )\n",
      "          (8): FCNN(\n",
      "            (network): Sequential(\n",
      "              (0): Linear(in_features=9, out_features=8, bias=True)\n",
      "              (1): Tanh()\n",
      "              (2): Linear(in_features=8, out_features=8, bias=True)\n",
      "              (3): Tanh()\n",
      "              (4): Linear(in_features=8, out_features=2, bias=True)\n",
      "            )\n",
      "          )\n",
      "        )\n",
      "      )\n",
      "      (6): MAF(\n",
      "        (layers): ModuleList(\n",
      "          (0): FCNN(\n",
      "            (network): Sequential(\n",
      "              (0): Linear(in_features=1, out_features=8, bias=True)\n",
      "              (1): Tanh()\n",
      "              (2): Linear(in_features=8, out_features=8, bias=True)\n",
      "              (3): Tanh()\n",
      "              (4): Linear(in_features=8, out_features=2, bias=True)\n",
      "            )\n",
      "          )\n",
      "          (1): FCNN(\n",
      "            (network): Sequential(\n",
      "              (0): Linear(in_features=2, out_features=8, bias=True)\n",
      "              (1): Tanh()\n",
      "              (2): Linear(in_features=8, out_features=8, bias=True)\n",
      "              (3): Tanh()\n",
      "              (4): Linear(in_features=8, out_features=2, bias=True)\n",
      "            )\n",
      "          )\n",
      "          (2): FCNN(\n",
      "            (network): Sequential(\n",
      "              (0): Linear(in_features=3, out_features=8, bias=True)\n",
      "              (1): Tanh()\n",
      "              (2): Linear(in_features=8, out_features=8, bias=True)\n",
      "              (3): Tanh()\n",
      "              (4): Linear(in_features=8, out_features=2, bias=True)\n",
      "            )\n",
      "          )\n",
      "          (3): FCNN(\n",
      "            (network): Sequential(\n",
      "              (0): Linear(in_features=4, out_features=8, bias=True)\n",
      "              (1): Tanh()\n",
      "              (2): Linear(in_features=8, out_features=8, bias=True)\n",
      "              (3): Tanh()\n",
      "              (4): Linear(in_features=8, out_features=2, bias=True)\n",
      "            )\n",
      "          )\n",
      "          (4): FCNN(\n",
      "            (network): Sequential(\n",
      "              (0): Linear(in_features=5, out_features=8, bias=True)\n",
      "              (1): Tanh()\n",
      "              (2): Linear(in_features=8, out_features=8, bias=True)\n",
      "              (3): Tanh()\n",
      "              (4): Linear(in_features=8, out_features=2, bias=True)\n",
      "            )\n",
      "          )\n",
      "          (5): FCNN(\n",
      "            (network): Sequential(\n",
      "              (0): Linear(in_features=6, out_features=8, bias=True)\n",
      "              (1): Tanh()\n",
      "              (2): Linear(in_features=8, out_features=8, bias=True)\n",
      "              (3): Tanh()\n",
      "              (4): Linear(in_features=8, out_features=2, bias=True)\n",
      "            )\n",
      "          )\n",
      "          (6): FCNN(\n",
      "            (network): Sequential(\n",
      "              (0): Linear(in_features=7, out_features=8, bias=True)\n",
      "              (1): Tanh()\n",
      "              (2): Linear(in_features=8, out_features=8, bias=True)\n",
      "              (3): Tanh()\n",
      "              (4): Linear(in_features=8, out_features=2, bias=True)\n",
      "            )\n",
      "          )\n",
      "          (7): FCNN(\n",
      "            (network): Sequential(\n",
      "              (0): Linear(in_features=8, out_features=8, bias=True)\n",
      "              (1): Tanh()\n",
      "              (2): Linear(in_features=8, out_features=8, bias=True)\n",
      "              (3): Tanh()\n",
      "              (4): Linear(in_features=8, out_features=2, bias=True)\n",
      "            )\n",
      "          )\n",
      "          (8): FCNN(\n",
      "            (network): Sequential(\n",
      "              (0): Linear(in_features=9, out_features=8, bias=True)\n",
      "              (1): Tanh()\n",
      "              (2): Linear(in_features=8, out_features=8, bias=True)\n",
      "              (3): Tanh()\n",
      "              (4): Linear(in_features=8, out_features=2, bias=True)\n",
      "            )\n",
      "          )\n",
      "        )\n",
      "      )\n",
      "      (7): MAF(\n",
      "        (layers): ModuleList(\n",
      "          (0): FCNN(\n",
      "            (network): Sequential(\n",
      "              (0): Linear(in_features=1, out_features=8, bias=True)\n",
      "              (1): Tanh()\n",
      "              (2): Linear(in_features=8, out_features=8, bias=True)\n",
      "              (3): Tanh()\n",
      "              (4): Linear(in_features=8, out_features=2, bias=True)\n",
      "            )\n",
      "          )\n",
      "          (1): FCNN(\n",
      "            (network): Sequential(\n",
      "              (0): Linear(in_features=2, out_features=8, bias=True)\n",
      "              (1): Tanh()\n",
      "              (2): Linear(in_features=8, out_features=8, bias=True)\n",
      "              (3): Tanh()\n",
      "              (4): Linear(in_features=8, out_features=2, bias=True)\n",
      "            )\n",
      "          )\n",
      "          (2): FCNN(\n",
      "            (network): Sequential(\n",
      "              (0): Linear(in_features=3, out_features=8, bias=True)\n",
      "              (1): Tanh()\n",
      "              (2): Linear(in_features=8, out_features=8, bias=True)\n",
      "              (3): Tanh()\n",
      "              (4): Linear(in_features=8, out_features=2, bias=True)\n",
      "            )\n",
      "          )\n",
      "          (3): FCNN(\n",
      "            (network): Sequential(\n",
      "              (0): Linear(in_features=4, out_features=8, bias=True)\n",
      "              (1): Tanh()\n",
      "              (2): Linear(in_features=8, out_features=8, bias=True)\n",
      "              (3): Tanh()\n",
      "              (4): Linear(in_features=8, out_features=2, bias=True)\n",
      "            )\n",
      "          )\n",
      "          (4): FCNN(\n",
      "            (network): Sequential(\n",
      "              (0): Linear(in_features=5, out_features=8, bias=True)\n",
      "              (1): Tanh()\n",
      "              (2): Linear(in_features=8, out_features=8, bias=True)\n",
      "              (3): Tanh()\n",
      "              (4): Linear(in_features=8, out_features=2, bias=True)\n",
      "            )\n",
      "          )\n",
      "          (5): FCNN(\n",
      "            (network): Sequential(\n",
      "              (0): Linear(in_features=6, out_features=8, bias=True)\n",
      "              (1): Tanh()\n",
      "              (2): Linear(in_features=8, out_features=8, bias=True)\n",
      "              (3): Tanh()\n",
      "              (4): Linear(in_features=8, out_features=2, bias=True)\n",
      "            )\n",
      "          )\n",
      "          (6): FCNN(\n",
      "            (network): Sequential(\n",
      "              (0): Linear(in_features=7, out_features=8, bias=True)\n",
      "              (1): Tanh()\n",
      "              (2): Linear(in_features=8, out_features=8, bias=True)\n",
      "              (3): Tanh()\n",
      "              (4): Linear(in_features=8, out_features=2, bias=True)\n",
      "            )\n",
      "          )\n",
      "          (7): FCNN(\n",
      "            (network): Sequential(\n",
      "              (0): Linear(in_features=8, out_features=8, bias=True)\n",
      "              (1): Tanh()\n",
      "              (2): Linear(in_features=8, out_features=8, bias=True)\n",
      "              (3): Tanh()\n",
      "              (4): Linear(in_features=8, out_features=2, bias=True)\n",
      "            )\n",
      "          )\n",
      "          (8): FCNN(\n",
      "            (network): Sequential(\n",
      "              (0): Linear(in_features=9, out_features=8, bias=True)\n",
      "              (1): Tanh()\n",
      "              (2): Linear(in_features=8, out_features=8, bias=True)\n",
      "              (3): Tanh()\n",
      "              (4): Linear(in_features=8, out_features=2, bias=True)\n",
      "            )\n",
      "          )\n",
      "        )\n",
      "      )\n",
      "      (8): MAF(\n",
      "        (layers): ModuleList(\n",
      "          (0): FCNN(\n",
      "            (network): Sequential(\n",
      "              (0): Linear(in_features=1, out_features=8, bias=True)\n",
      "              (1): Tanh()\n",
      "              (2): Linear(in_features=8, out_features=8, bias=True)\n",
      "              (3): Tanh()\n",
      "              (4): Linear(in_features=8, out_features=2, bias=True)\n",
      "            )\n",
      "          )\n",
      "          (1): FCNN(\n",
      "            (network): Sequential(\n",
      "              (0): Linear(in_features=2, out_features=8, bias=True)\n",
      "              (1): Tanh()\n",
      "              (2): Linear(in_features=8, out_features=8, bias=True)\n",
      "              (3): Tanh()\n",
      "              (4): Linear(in_features=8, out_features=2, bias=True)\n",
      "            )\n",
      "          )\n",
      "          (2): FCNN(\n",
      "            (network): Sequential(\n",
      "              (0): Linear(in_features=3, out_features=8, bias=True)\n",
      "              (1): Tanh()\n",
      "              (2): Linear(in_features=8, out_features=8, bias=True)\n",
      "              (3): Tanh()\n",
      "              (4): Linear(in_features=8, out_features=2, bias=True)\n",
      "            )\n",
      "          )\n",
      "          (3): FCNN(\n",
      "            (network): Sequential(\n",
      "              (0): Linear(in_features=4, out_features=8, bias=True)\n",
      "              (1): Tanh()\n",
      "              (2): Linear(in_features=8, out_features=8, bias=True)\n",
      "              (3): Tanh()\n",
      "              (4): Linear(in_features=8, out_features=2, bias=True)\n",
      "            )\n",
      "          )\n",
      "          (4): FCNN(\n",
      "            (network): Sequential(\n",
      "              (0): Linear(in_features=5, out_features=8, bias=True)\n",
      "              (1): Tanh()\n",
      "              (2): Linear(in_features=8, out_features=8, bias=True)\n",
      "              (3): Tanh()\n",
      "              (4): Linear(in_features=8, out_features=2, bias=True)\n",
      "            )\n",
      "          )\n",
      "          (5): FCNN(\n",
      "            (network): Sequential(\n",
      "              (0): Linear(in_features=6, out_features=8, bias=True)\n",
      "              (1): Tanh()\n",
      "              (2): Linear(in_features=8, out_features=8, bias=True)\n",
      "              (3): Tanh()\n",
      "              (4): Linear(in_features=8, out_features=2, bias=True)\n",
      "            )\n",
      "          )\n",
      "          (6): FCNN(\n",
      "            (network): Sequential(\n",
      "              (0): Linear(in_features=7, out_features=8, bias=True)\n",
      "              (1): Tanh()\n",
      "              (2): Linear(in_features=8, out_features=8, bias=True)\n",
      "              (3): Tanh()\n",
      "              (4): Linear(in_features=8, out_features=2, bias=True)\n",
      "            )\n",
      "          )\n",
      "          (7): FCNN(\n",
      "            (network): Sequential(\n",
      "              (0): Linear(in_features=8, out_features=8, bias=True)\n",
      "              (1): Tanh()\n",
      "              (2): Linear(in_features=8, out_features=8, bias=True)\n",
      "              (3): Tanh()\n",
      "              (4): Linear(in_features=8, out_features=2, bias=True)\n",
      "            )\n",
      "          )\n",
      "          (8): FCNN(\n",
      "            (network): Sequential(\n",
      "              (0): Linear(in_features=9, out_features=8, bias=True)\n",
      "              (1): Tanh()\n",
      "              (2): Linear(in_features=8, out_features=8, bias=True)\n",
      "              (3): Tanh()\n",
      "              (4): Linear(in_features=8, out_features=2, bias=True)\n",
      "            )\n",
      "          )\n",
      "        )\n",
      "      )\n",
      "      (9): MAF(\n",
      "        (layers): ModuleList(\n",
      "          (0): FCNN(\n",
      "            (network): Sequential(\n",
      "              (0): Linear(in_features=1, out_features=8, bias=True)\n",
      "              (1): Tanh()\n",
      "              (2): Linear(in_features=8, out_features=8, bias=True)\n",
      "              (3): Tanh()\n",
      "              (4): Linear(in_features=8, out_features=2, bias=True)\n",
      "            )\n",
      "          )\n",
      "          (1): FCNN(\n",
      "            (network): Sequential(\n",
      "              (0): Linear(in_features=2, out_features=8, bias=True)\n",
      "              (1): Tanh()\n",
      "              (2): Linear(in_features=8, out_features=8, bias=True)\n",
      "              (3): Tanh()\n",
      "              (4): Linear(in_features=8, out_features=2, bias=True)\n",
      "            )\n",
      "          )\n",
      "          (2): FCNN(\n",
      "            (network): Sequential(\n",
      "              (0): Linear(in_features=3, out_features=8, bias=True)\n",
      "              (1): Tanh()\n",
      "              (2): Linear(in_features=8, out_features=8, bias=True)\n",
      "              (3): Tanh()\n",
      "              (4): Linear(in_features=8, out_features=2, bias=True)\n",
      "            )\n",
      "          )\n",
      "          (3): FCNN(\n",
      "            (network): Sequential(\n",
      "              (0): Linear(in_features=4, out_features=8, bias=True)\n",
      "              (1): Tanh()\n",
      "              (2): Linear(in_features=8, out_features=8, bias=True)\n",
      "              (3): Tanh()\n",
      "              (4): Linear(in_features=8, out_features=2, bias=True)\n",
      "            )\n",
      "          )\n",
      "          (4): FCNN(\n",
      "            (network): Sequential(\n",
      "              (0): Linear(in_features=5, out_features=8, bias=True)\n",
      "              (1): Tanh()\n",
      "              (2): Linear(in_features=8, out_features=8, bias=True)\n",
      "              (3): Tanh()\n",
      "              (4): Linear(in_features=8, out_features=2, bias=True)\n",
      "            )\n",
      "          )\n",
      "          (5): FCNN(\n",
      "            (network): Sequential(\n",
      "              (0): Linear(in_features=6, out_features=8, bias=True)\n",
      "              (1): Tanh()\n",
      "              (2): Linear(in_features=8, out_features=8, bias=True)\n",
      "              (3): Tanh()\n",
      "              (4): Linear(in_features=8, out_features=2, bias=True)\n",
      "            )\n",
      "          )\n",
      "          (6): FCNN(\n",
      "            (network): Sequential(\n",
      "              (0): Linear(in_features=7, out_features=8, bias=True)\n",
      "              (1): Tanh()\n",
      "              (2): Linear(in_features=8, out_features=8, bias=True)\n",
      "              (3): Tanh()\n",
      "              (4): Linear(in_features=8, out_features=2, bias=True)\n",
      "            )\n",
      "          )\n",
      "          (7): FCNN(\n",
      "            (network): Sequential(\n",
      "              (0): Linear(in_features=8, out_features=8, bias=True)\n",
      "              (1): Tanh()\n",
      "              (2): Linear(in_features=8, out_features=8, bias=True)\n",
      "              (3): Tanh()\n",
      "              (4): Linear(in_features=8, out_features=2, bias=True)\n",
      "            )\n",
      "          )\n",
      "          (8): FCNN(\n",
      "            (network): Sequential(\n",
      "              (0): Linear(in_features=9, out_features=8, bias=True)\n",
      "              (1): Tanh()\n",
      "              (2): Linear(in_features=8, out_features=8, bias=True)\n",
      "              (3): Tanh()\n",
      "              (4): Linear(in_features=8, out_features=2, bias=True)\n",
      "            )\n",
      "          )\n",
      "        )\n",
      "      )\n",
      "    )\n",
      "  )\n",
      ")\n"
     ]
    }
   ],
   "source": [
    "print(model)"
   ]
  },
  {
   "cell_type": "code",
   "execution_count": 57,
   "metadata": {},
   "outputs": [
    {
     "data": {
      "text/plain": [
       "'\\nae_def = {\\n    \"type\":\"bkg\",\\n    \"trainon\":\"purebkg\",\\n    \"features\":\"tauDDTwithrawmass\",\\n    \"architecture\":\"MAF\",\\n    \"selection\":\"turnoncutandj1sdbcut\",\\n    \"trainloss\":\"MSELoss\",\\n    \"beta\":\"beta1\",\\n    \"zdimnflow\":\"z6f10\",\\n}\\n'"
      ]
     },
     "execution_count": 57,
     "metadata": {},
     "output_type": "execute_result"
    }
   ],
   "source": [
    "'''\n",
    "ae_def = {\n",
    "    \"type\":\"bkg\",\n",
    "    \"trainon\":\"purebkg\",\n",
    "    \"features\":\"tauDDTwithrawmass\",\n",
    "    \"architecture\":\"MAF\",\n",
    "    \"selection\":\"turnoncutandj1sdbcut\",\n",
    "    \"trainloss\":\"MSELoss\",\n",
    "    \"beta\":\"beta1\",\n",
    "    \"zdimnflow\":\"z6f10\",\n",
    "}\n",
    "'''"
   ]
  },
  {
   "cell_type": "code",
   "execution_count": 29,
   "metadata": {},
   "outputs": [],
   "source": [
    "ae_def = {\n",
    "    \"type\":\"bkg\",\n",
    "    \"trainon\":\"purebkg\",\n",
    "    \"features\":\"40part\",\n",
    "    \"architecture\":\"MAF\",\n",
    "    \"selection\":\"noselection\",\n",
    "    \"trainloss\":\"MSELoss\",\n",
    "    \"beta\":\"beta1\",\n",
    "    \"zdimnflow\":\"z10f10\",\n",
    "}"
   ]
  },
  {
   "cell_type": "code",
   "execution_count": 59,
   "metadata": {},
   "outputs": [
    {
     "data": {
      "text/plain": [
       "{'type': 'bkg',\n",
       " 'trainon': 'purebkg',\n",
       " 'features': '40part',\n",
       " 'architecture': 'MAF',\n",
       " 'selection': 'noselection',\n",
       " 'trainloss': 'MSELoss',\n",
       " 'beta': 'beta1',\n",
       " 'zdimnflow': 'z10f10'}"
      ]
     },
     "execution_count": 59,
     "metadata": {},
     "output_type": "execute_result"
    }
   ],
   "source": [
    "ae_def"
   ]
  },
  {
   "cell_type": "code",
   "execution_count": 61,
   "metadata": {
    "scrolled": true
   },
   "outputs": [
    {
     "name": "stdout",
     "output_type": "stream",
     "text": [
      "Epoch 1:\n"
     ]
    },
    {
     "name": "stderr",
     "output_type": "stream",
     "text": [
      "/home/spark/miniconda3/envs/myenv/lib/python3.6/site-packages/torch/nn/_reduction.py:43: UserWarning: size_average and reduce args will be deprecated, please use reduction='sum' instead.\n",
      "  warnings.warn(warning.format(ret))\n"
     ]
    },
    {
     "name": "stdout",
     "output_type": "stream",
     "text": [
      "\n",
      "Evaluation Completed (valid)!\tLoss: -109.5958 Time: 23.678 s\n",
      "Saving model!\n",
      "Epoch 2:\n",
      "\n",
      "Evaluation Completed (valid)!\tLoss: -109.3581 Time: 24.855 s\n",
      "Not saving model! Last saved: 1\n",
      "Epoch 3:\n",
      "\n",
      "Evaluation Completed (valid)!\tLoss: -109.6459 Time: 24.368 s\n",
      "Saving model!\n",
      "Epoch 4:\n",
      "\n",
      "Evaluation Completed (valid)!\tLoss: -109.6750 Time: 24.272 s\n",
      "Saving model!\n",
      "Epoch 5:\n",
      "\n",
      "Evaluation Completed (valid)!\tLoss: -109.4809 Time: 24.297 s\n",
      "Not saving model! Last saved: 4\n",
      "Epoch 6:\n",
      "\n",
      "Evaluation Completed (valid)!\tLoss: -109.5273 Time: 24.284 s\n",
      "Not saving model! Last saved: 4\n",
      "Epoch 7:\n",
      "\n",
      "Evaluation Completed (valid)!\tLoss: -109.4948 Time: 24.137 s\n",
      "Not saving model! Last saved: 4\n",
      "Epoch 8:\n",
      "\n",
      "Evaluation Completed (valid)!\tLoss: -109.6659 Time: 23.675 s\n",
      "Not saving model! Last saved: 4\n",
      "Epoch 9:\n",
      "\n",
      "Evaluation Completed (valid)!\tLoss: -110.0419 Time: 23.890 s\n",
      "Saving model!\n",
      "Epoch 10:\n",
      "\n",
      "Evaluation Completed (valid)!\tLoss: -109.9530 Time: 23.730 s\n",
      "Not saving model! Last saved: 9\n",
      "Epoch 11:\n",
      "\n",
      "Evaluation Completed (valid)!\tLoss: -110.2628 Time: 23.738 s\n",
      "Saving model!\n",
      "Epoch 12:\n",
      "\n",
      "Evaluation Completed (valid)!\tLoss: -109.8295 Time: 25.454 s\n",
      "Not saving model! Last saved: 11\n",
      "Epoch 13:\n",
      "\n",
      "Evaluation Completed (valid)!\tLoss: -109.6864 Time: 26.818 s\n",
      "Not saving model! Last saved: 11\n",
      "Epoch 14:\n",
      "\n",
      "Evaluation Completed (valid)!\tLoss: -110.2482 Time: 28.665 s\n",
      "Not saving model! Last saved: 11\n",
      "Epoch 15:\n",
      "\n",
      "Evaluation Completed (valid)!\tLoss: -110.0931 Time: 29.077 s\n",
      "Not saving model! Last saved: 11\n",
      "Epoch 16:\n",
      "\n",
      "Evaluation Completed (valid)!\tLoss: -110.7946 Time: 23.827 s\n",
      "Saving model!\n",
      "Epoch 17:\n",
      "\n",
      "Evaluation Completed (valid)!\tLoss: -110.5368 Time: 23.824 s\n",
      "Not saving model! Last saved: 16\n",
      "Epoch 18:\n",
      "\n",
      "Evaluation Completed (valid)!\tLoss: -110.5188 Time: 23.816 s\n",
      "Not saving model! Last saved: 16\n",
      "Epoch 19:\n",
      "\n",
      "Evaluation Completed (valid)!\tLoss: -110.1487 Time: 23.681 s\n",
      "Not saving model! Last saved: 16\n",
      "Epoch 20:\n",
      "\n",
      "Evaluation Completed (valid)!\tLoss: -110.2630 Time: 29.735 s\n",
      "Not saving model! Last saved: 16\n",
      "Epoch 21:\n",
      "\n",
      "Evaluation Completed (valid)!\tLoss: -110.2434 Time: 28.114 s\n",
      "Not saving model! Last saved: 16\n",
      "Epoch 22:\n",
      "\n",
      "Evaluation Completed (valid)!\tLoss: -110.0937 Time: 25.019 s\n",
      "Not saving model! Last saved: 16\n",
      "Epoch 23:\n",
      "\n",
      "Evaluation Completed (valid)!\tLoss: -110.5988 Time: 23.725 s\n",
      "Not saving model! Last saved: 16\n",
      "Epoch 24:\n",
      "\n",
      "Evaluation Completed (valid)!\tLoss: -110.4241 Time: 23.831 s\n",
      "Not saving model! Last saved: 16\n",
      "Epoch 25:\n",
      "\n",
      "Evaluation Completed (valid)!\tLoss: -110.7247 Time: 25.633 s\n",
      "Not saving model! Last saved: 16\n",
      "Epoch 26:\n",
      "\n",
      "Evaluation Completed (valid)!\tLoss: -110.8702 Time: 23.833 s\n",
      "Saving model!\n",
      "Epoch 27:\n",
      "\n",
      "Evaluation Completed (valid)!\tLoss: -110.7709 Time: 23.807 s\n",
      "Not saving model! Last saved: 26\n",
      "Epoch 28:\n",
      "\n",
      "Evaluation Completed (valid)!\tLoss: -109.7200 Time: 23.763 s\n",
      "Not saving model! Last saved: 26\n",
      "Epoch 29:\n",
      "\n",
      "Evaluation Completed (valid)!\tLoss: -110.8405 Time: 26.788 s\n",
      "Not saving model! Last saved: 26\n",
      "Epoch 30:\n",
      "\n",
      "Evaluation Completed (valid)!\tLoss: -110.7868 Time: 29.199 s\n",
      "Not saving model! Last saved: 26\n",
      "Epoch 31:\n",
      "\n",
      "Evaluation Completed (valid)!\tLoss: -111.2733 Time: 26.642 s\n",
      "Saving model!\n",
      "Epoch 32:\n",
      "\n",
      "Evaluation Completed (valid)!\tLoss: -110.8184 Time: 23.715 s\n",
      "Not saving model! Last saved: 31\n",
      "Epoch 33:\n",
      "\n",
      "Evaluation Completed (valid)!\tLoss: -110.7987 Time: 28.062 s\n",
      "Not saving model! Last saved: 31\n",
      "Epoch 34:\n",
      "\n",
      "Evaluation Completed (valid)!\tLoss: -110.4043 Time: 23.858 s\n",
      "Not saving model! Last saved: 31\n",
      "Epoch 35:\n",
      "\n",
      "Evaluation Completed (valid)!\tLoss: -110.4892 Time: 25.617 s\n",
      "Not saving model! Last saved: 31\n",
      "Epoch 36:\n",
      "\n",
      "Evaluation Completed (valid)!\tLoss: -110.6195 Time: 23.855 s\n",
      "Not saving model! Last saved: 31\n",
      "Epoch 37:\n",
      "\n",
      "Evaluation Completed (valid)!\tLoss: -110.7483 Time: 29.189 s\n",
      "Not saving model! Last saved: 31\n",
      "Epoch 38:\n",
      "\n",
      "Evaluation Completed (valid)!\tLoss: -111.2190 Time: 23.930 s\n",
      "Not saving model! Last saved: 31\n",
      "Epoch 39:\n",
      "\n",
      "Evaluation Completed (valid)!\tLoss: -110.6624 Time: 23.787 s\n",
      "Not saving model! Last saved: 31\n",
      "Epoch 40:\n",
      "\n",
      "Evaluation Completed (valid)!\tLoss: -110.7623 Time: 23.802 s\n",
      "Not saving model! Last saved: 31\n",
      "Epoch 41:\n",
      "\n",
      "Evaluation Completed (valid)!\tLoss: -110.9482 Time: 23.773 s\n",
      "Not saving model! Last saved: 31\n",
      "Epoch 42:\n",
      "\n",
      "Evaluation Completed (valid)!\tLoss: -111.2708 Time: 24.396 s\n",
      "Not saving model! Last saved: 31\n",
      "Patience Limit Reached\n"
     ]
    }
   ],
   "source": [
    "N_EPOCHS = 10\n",
    "BEST_LOSS = 9\n",
    "LAST_SAVED = -1\n",
    "PATIENCE_COUNT = 0\n",
    "PATIENCE_LIMIT = 5\n",
    "for epoch in range(1, 1000):\n",
    "    print(\"Epoch {}:\".format(epoch))\n",
    "    train()\n",
    "    cur_loss = evaluate()\n",
    "\n",
    "    if cur_loss <= BEST_LOSS:\n",
    "        PATIENCE_COUNT = 0\n",
    "        BEST_LOSS = cur_loss\n",
    "        LAST_SAVED = epoch\n",
    "        print(\"Saving model!\")\n",
    "        torch.save(model.state_dict(),f\"/data/t3home000/spark/QUASAR/weights/{ae_def['type']}_{ae_def['trainon']}_{ae_def['features']}_{ae_def['architecture']}_{ae_def['selection']}_{ae_def['trainloss']}_{ae_def['beta']}_{ae_def['zdimnflow']}.h5\")\n",
    "    \n",
    "    else:\n",
    "        PATIENCE_COUNT += 1\n",
    "        print(\"Not saving model! Last saved: {}\".format(LAST_SAVED))\n",
    "        if PATIENCE_COUNT > 10:\n",
    "            print(\"Patience Limit Reached\")\n",
    "            break "
   ]
  },
  {
   "cell_type": "code",
   "execution_count": 30,
   "metadata": {},
   "outputs": [
    {
     "data": {
      "text/plain": [
       "<All keys matched successfully>"
      ]
     },
     "execution_count": 30,
     "metadata": {},
     "output_type": "execute_result"
    }
   ],
   "source": [
    "model.load_state_dict(torch.load(f\"/data/t3home000/spark/QUASAR/weights/{ae_def['type']}_{ae_def['trainon']}_{ae_def['features']}_{ae_def['architecture']}_{ae_def['selection']}_{ae_def['trainloss']}_{ae_def['beta']}_{ae_def['zdimnflow']}.h5\"))"
   ]
  },
  {
   "cell_type": "markdown",
   "metadata": {},
   "source": [
    "## Testing the bkg ae"
   ]
  },
  {
   "cell_type": "code",
   "execution_count": 31,
   "metadata": {},
   "outputs": [],
   "source": [
    "def getloss(tensor):\n",
    "    return torch.mean((model(tensor.float().cuda())[0]- tensor.float().cuda())**2,dim=1).data.cpu().numpy()"
   ]
  },
  {
   "cell_type": "code",
   "execution_count": 32,
   "metadata": {},
   "outputs": [],
   "source": [
    "sigloss = getloss(total_sig)"
   ]
  },
  {
   "cell_type": "code",
   "execution_count": 34,
   "metadata": {},
   "outputs": [],
   "source": [
    "def get_loss(dt):\n",
    "    \n",
    "    def generator(dt, chunk_size=5000, total_size=1000000):\n",
    "\n",
    "        i = 0\n",
    "        i_max = total_size // chunk_size\n",
    "        print(i_max)\n",
    "    \n",
    "        for i in range(i_max):\n",
    "            start=i * chunk_size\n",
    "            stop=(i + 1) * chunk_size\n",
    "            yield torch.tensor(dt[start:stop])\n",
    "        \n",
    "    loss = []\n",
    "\n",
    "    \n",
    "    with torch.no_grad():\n",
    "        \n",
    "        for total_in_selection in generator(dt,chunk_size=5000, total_size=1000000):\n",
    "            loss.extend(torch.mean((model(total_in_selection.float().cuda())[0]- total_in_selection.float().cuda())**2,dim=1).data.cpu().numpy())\n",
    "    \n",
    "    return loss"
   ]
  },
  {
   "cell_type": "code",
   "execution_count": 36,
   "metadata": {},
   "outputs": [
    {
     "name": "stdout",
     "output_type": "stream",
     "text": [
      "200\n"
     ]
    }
   ],
   "source": [
    "bkgloss = get_loss(Y)"
   ]
  },
  {
   "cell_type": "code",
   "execution_count": 38,
   "metadata": {},
   "outputs": [
    {
     "data": {
      "text/plain": [
       "(100000,)"
      ]
     },
     "execution_count": 38,
     "metadata": {},
     "output_type": "execute_result"
    }
   ],
   "source": [
    "sigloss.shape"
   ]
  },
  {
   "cell_type": "code",
   "execution_count": 40,
   "metadata": {},
   "outputs": [
    {
     "data": {
      "text/plain": [
       "1000000"
      ]
     },
     "execution_count": 40,
     "metadata": {},
     "output_type": "execute_result"
    }
   ],
   "source": [
    "len(bkgloss)"
   ]
  },
  {
   "cell_type": "code",
   "execution_count": 50,
   "metadata": {},
   "outputs": [
    {
     "data": {
      "image/png": "[encoded data removed]",
      "text/plain": [
       "<Figure size 432x288 with 1 Axes>"
      ]
     },
     "metadata": {
      "needs_background": "light"
     },
     "output_type": "display_data"
    }
   ],
   "source": [
    "plt.hist(sigloss,bins=np.linspace(0,2,1001),alpha=0.3,density=True);\n",
    "plt.hist(bkgloss,bins=np.linspace(0,2,1001),alpha=0.3,density=True);"
   ]
  },
  {
   "cell_type": "code",
   "execution_count": null,
   "metadata": {},
   "outputs": [],
   "source": []
  },
  {
   "cell_type": "code",
   "execution_count": null,
   "metadata": {},
   "outputs": [],
   "source": []
  },
  {
   "cell_type": "code",
   "execution_count": 24,
   "metadata": {},
   "outputs": [],
   "source": [
    "inputlist = [\n",
    "    '/data/t3home000/spark/QUASAR/preprocessing/conventional_tau_BB1_rnd.h5',\n",
    "    '/data/t3home000/spark/QUASAR/preprocessing/conventional_tau_BB2.h5',\n",
    "    '/data/t3home000/spark/QUASAR/preprocessing/conventional_tau_BB3.h5',\n",
    "    '/data/t3home000/spark/QUASAR/preprocessing/conventional_tau_background.h5',\n",
    "    '/data/t3home000/spark/QUASAR/preprocessing/conventional_tau_rnd.h5',\n",
    "    '/data/t3home000/spark/QUASAR/preprocessing/conventional_tau_rnd.h5', \n",
    "    '/data/t3home000/spark/QUASAR/preprocessing/conventional_tau_3prong_rnd.h5' \n",
    "]"
   ]
  },
  {
   "cell_type": "code",
   "execution_count": 25,
   "metadata": {},
   "outputs": [
    {
     "data": {
      "text/plain": [
       "{'type': 'bkg',\n",
       " 'trainon': 'purebkg',\n",
       " 'features': '40part',\n",
       " 'architecture': 'MAF',\n",
       " 'selection': 'noselection',\n",
       " 'trainloss': 'MSELoss',\n",
       " 'beta': 'beta1',\n",
       " 'zdimnflow': 'z10f10'}"
      ]
     },
     "execution_count": 25,
     "metadata": {},
     "output_type": "execute_result"
    }
   ],
   "source": [
    "ae_def"
   ]
  },
  {
   "cell_type": "code",
   "execution_count": 26,
   "metadata": {},
   "outputs": [],
   "source": [
    "outputlist_waic = [\n",
    "    f\"../data_strings/{ae_def['type']}_{ae_def['trainon']}_{ae_def['features']}_{ae_def['selection']}_{ae_def['trainloss']}_{ae_def['beta']}_{ae_def['zdimnflow']}_WAICloss_bb1.npy\",\n",
    "    f\"../data_strings/{ae_def['type']}_{ae_def['trainon']}_{ae_def['features']}_{ae_def['selection']}_{ae_def['trainloss']}_{ae_def['beta']}_{ae_def['zdimnflow']}_WAICloss_bb2.npy\",\n",
    "    f\"../data_strings/{ae_def['type']}_{ae_def['trainon']}_{ae_def['features']}_{ae_def['selection']}_{ae_def['trainloss']}_{ae_def['beta']}_{ae_def['zdimnflow']}_WAICloss_bb3.npy\",\n",
    "    f\"../data_strings/{ae_def['type']}_{ae_def['trainon']}_{ae_def['features']}_{ae_def['selection']}_{ae_def['trainloss']}_{ae_def['beta']}_{ae_def['zdimnflow']}_WAICloss_purebkg.npy\",\n",
    "    f\"../data_strings/{ae_def['type']}_{ae_def['trainon']}_{ae_def['features']}_{ae_def['selection']}_{ae_def['trainloss']}_{ae_def['beta']}_{ae_def['zdimnflow']}_WAICloss_rndbkg.npy\",\n",
    "    f\"../data_strings/{ae_def['type']}_{ae_def['trainon']}_{ae_def['features']}_{ae_def['selection']}_{ae_def['trainloss']}_{ae_def['beta']}_{ae_def['zdimnflow']}_WAICloss_2prong.npy\",\n",
    "    f\"../data_strings/{ae_def['type']}_{ae_def['trainon']}_{ae_def['features']}_{ae_def['selection']}_{ae_def['trainloss']}_{ae_def['beta']}_{ae_def['zdimnflow']}_WAICloss_3prong.npy\",\n",
    "]\n",
    "\n",
    "outputlist_justloss = [\n",
    "    f\"../data_strings/{ae_def['type']}_{ae_def['trainon']}_{ae_def['features']}_{ae_def['selection']}_{ae_def['trainloss']}_{ae_def['beta']}_{ae_def['zdimnflow']}_Justloss_bb1.npy\",\n",
    "    f\"../data_strings/{ae_def['type']}_{ae_def['trainon']}_{ae_def['features']}_{ae_def['selection']}_{ae_def['trainloss']}_{ae_def['beta']}_{ae_def['zdimnflow']}_Justloss_bb2.npy\",\n",
    "    f\"../data_strings/{ae_def['type']}_{ae_def['trainon']}_{ae_def['features']}_{ae_def['selection']}_{ae_def['trainloss']}_{ae_def['beta']}_{ae_def['zdimnflow']}_Justloss_bb3.npy\",\n",
    "    f\"../data_strings/{ae_def['type']}_{ae_def['trainon']}_{ae_def['features']}_{ae_def['selection']}_{ae_def['trainloss']}_{ae_def['beta']}_{ae_def['zdimnflow']}_Justloss_purebkg.npy\",\n",
    "    f\"../data_strings/{ae_def['type']}_{ae_def['trainon']}_{ae_def['features']}_{ae_def['selection']}_{ae_def['trainloss']}_{ae_def['beta']}_{ae_def['zdimnflow']}_Justloss_rndbkg.npy\",\n",
    "    f\"../data_strings/{ae_def['type']}_{ae_def['trainon']}_{ae_def['features']}_{ae_def['selection']}_{ae_def['trainloss']}_{ae_def['beta']}_{ae_def['zdimnflow']}_Justloss_2prong.npy\",\n",
    "    f\"../data_strings/{ae_def['type']}_{ae_def['trainon']}_{ae_def['features']}_{ae_def['selection']}_{ae_def['trainloss']}_{ae_def['beta']}_{ae_def['zdimnflow']}_Justloss_3prong.npy\",\n",
    "]"
   ]
  },
  {
   "cell_type": "code",
   "execution_count": 27,
   "metadata": {},
   "outputs": [],
   "source": [
    "exist_signalflag = [\n",
    "    False,\n",
    "    False,\n",
    "    False,\n",
    "    False,\n",
    "    True,\n",
    "    True,\n",
    "    True,\n",
    "]\n",
    "is_signal = [\n",
    "    False,\n",
    "    False,\n",
    "    False,\n",
    "    False,\n",
    "    False,\n",
    "    True,\n",
    "    True\n",
    "]\n",
    "\n",
    "nprong = [\n",
    "    None,\n",
    "    None,\n",
    "    None,\n",
    "    None,\n",
    "    None,\n",
    "    '2prong',\n",
    "    '3prong'\n",
    "]"
   ]
  },
  {
   "cell_type": "code",
   "execution_count": 68,
   "metadata": {},
   "outputs": [
    {
     "name": "stdout",
     "output_type": "stream",
     "text": [
      "(999728, 26)\n"
     ]
    },
    {
     "ename": "RuntimeError",
     "evalue": "CUDA out of memory. Tried to allocate 100.00 MiB (GPU 0; 10.73 GiB total capacity; 9.74 GiB already allocated; 9.06 MiB free; 425.04 MiB cached)",
     "output_type": "error",
     "traceback": [
      "\u001b[0;31m---------------------------------------------------------------------------\u001b[0m",
      "\u001b[0;31mRuntimeError\u001b[0m                              Traceback (most recent call last)",
      "\u001b[0;32m<ipython-input-68-dc31737d89fd>\u001b[0m in \u001b[0;36m<module>\u001b[0;34m\u001b[0m\n\u001b[1;32m     47\u001b[0m     \u001b[0mtotal_bb_test\u001b[0m \u001b[0;34m=\u001b[0m \u001b[0mtorch\u001b[0m\u001b[0;34m.\u001b[0m\u001b[0mtensor\u001b[0m\u001b[0;34m(\u001b[0m\u001b[0mY\u001b[0m\u001b[0;34m)\u001b[0m\u001b[0;34m\u001b[0m\u001b[0;34m\u001b[0m\u001b[0m\n\u001b[1;32m     48\u001b[0m     \u001b[0;31m#huberloss = nn.SmoothL1Loss(reduction='none')\u001b[0m\u001b[0;34m\u001b[0m\u001b[0;34m\u001b[0m\u001b[0;34m\u001b[0m\u001b[0m\n\u001b[0;32m---> 49\u001b[0;31m     \u001b[0msigae_bbloss\u001b[0m \u001b[0;34m=\u001b[0m \u001b[0mtorch\u001b[0m\u001b[0;34m.\u001b[0m\u001b[0mmean\u001b[0m\u001b[0;34m(\u001b[0m\u001b[0;34m(\u001b[0m\u001b[0mmodel\u001b[0m\u001b[0;34m(\u001b[0m\u001b[0mtotal_bb_test\u001b[0m\u001b[0;34m.\u001b[0m\u001b[0mfloat\u001b[0m\u001b[0;34m(\u001b[0m\u001b[0;34m)\u001b[0m\u001b[0;34m.\u001b[0m\u001b[0mcuda\u001b[0m\u001b[0;34m(\u001b[0m\u001b[0;34m)\u001b[0m\u001b[0;34m)\u001b[0m\u001b[0;34m[\u001b[0m\u001b[0;36m0\u001b[0m\u001b[0;34m]\u001b[0m\u001b[0;34m-\u001b[0m \u001b[0mtotal_bb_test\u001b[0m\u001b[0;34m.\u001b[0m\u001b[0mfloat\u001b[0m\u001b[0;34m(\u001b[0m\u001b[0;34m)\u001b[0m\u001b[0;34m.\u001b[0m\u001b[0mcuda\u001b[0m\u001b[0;34m(\u001b[0m\u001b[0;34m)\u001b[0m\u001b[0;34m)\u001b[0m\u001b[0;34m**\u001b[0m\u001b[0;36m2\u001b[0m\u001b[0;34m,\u001b[0m\u001b[0mdim\u001b[0m\u001b[0;34m=\u001b[0m\u001b[0;36m1\u001b[0m\u001b[0;34m)\u001b[0m\u001b[0;34m.\u001b[0m\u001b[0mdata\u001b[0m\u001b[0;34m.\u001b[0m\u001b[0mcpu\u001b[0m\u001b[0;34m(\u001b[0m\u001b[0;34m)\u001b[0m\u001b[0;34m.\u001b[0m\u001b[0mnumpy\u001b[0m\u001b[0;34m(\u001b[0m\u001b[0;34m)\u001b[0m\u001b[0;34m\u001b[0m\u001b[0;34m\u001b[0m\u001b[0m\n\u001b[0m\u001b[1;32m     50\u001b[0m     \u001b[0mbbvar\u001b[0m \u001b[0;34m=\u001b[0m \u001b[0mtorch\u001b[0m\u001b[0;34m.\u001b[0m\u001b[0mvar\u001b[0m\u001b[0;34m(\u001b[0m\u001b[0;34m(\u001b[0m\u001b[0mmodel\u001b[0m\u001b[0;34m(\u001b[0m\u001b[0mtotal_bb_test\u001b[0m\u001b[0;34m.\u001b[0m\u001b[0mfloat\u001b[0m\u001b[0;34m(\u001b[0m\u001b[0;34m)\u001b[0m\u001b[0;34m.\u001b[0m\u001b[0mcuda\u001b[0m\u001b[0;34m(\u001b[0m\u001b[0;34m)\u001b[0m\u001b[0;34m)\u001b[0m\u001b[0;34m[\u001b[0m\u001b[0;36m0\u001b[0m\u001b[0;34m]\u001b[0m\u001b[0;34m-\u001b[0m \u001b[0mtotal_bb_test\u001b[0m\u001b[0;34m.\u001b[0m\u001b[0mfloat\u001b[0m\u001b[0;34m(\u001b[0m\u001b[0;34m)\u001b[0m\u001b[0;34m.\u001b[0m\u001b[0mcuda\u001b[0m\u001b[0;34m(\u001b[0m\u001b[0;34m)\u001b[0m\u001b[0;34m)\u001b[0m\u001b[0;34m**\u001b[0m\u001b[0;36m2\u001b[0m\u001b[0;34m,\u001b[0m\u001b[0mdim\u001b[0m\u001b[0;34m=\u001b[0m\u001b[0;36m1\u001b[0m\u001b[0;34m)\u001b[0m\u001b[0;34m.\u001b[0m\u001b[0mdata\u001b[0m\u001b[0;34m.\u001b[0m\u001b[0mcpu\u001b[0m\u001b[0;34m(\u001b[0m\u001b[0;34m)\u001b[0m\u001b[0;34m.\u001b[0m\u001b[0mnumpy\u001b[0m\u001b[0;34m(\u001b[0m\u001b[0;34m)\u001b[0m\u001b[0;34m\u001b[0m\u001b[0;34m\u001b[0m\u001b[0m\n\u001b[1;32m     51\u001b[0m     \u001b[0mwaic\u001b[0m \u001b[0;34m=\u001b[0m \u001b[0msigae_bbloss\u001b[0m \u001b[0;34m+\u001b[0m \u001b[0mbbvar\u001b[0m\u001b[0;34m\u001b[0m\u001b[0;34m\u001b[0m\u001b[0m\n",
      "\u001b[0;31mRuntimeError\u001b[0m: CUDA out of memory. Tried to allocate 100.00 MiB (GPU 0; 10.73 GiB total capacity; 9.74 GiB already allocated; 9.06 MiB free; 425.04 MiB cached)"
     ]
    }
   ],
   "source": [
    "for in_file, out_file_waic, out_file_justloss, sigbit_flag, is_sig, n_prong in zip(inputlist,outputlist_waic,outputlist_justloss,exist_signalflag,is_signal, nprong):    \n",
    "    \n",
    "    f_bb = pd.read_hdf(in_file)\n",
    "    dt = f_bb.values\n",
    "    correct = (dt[:,3]>0) &(dt[:,19]>0) & (dt[:,1]>0) & (dt[:,2]>0)\n",
    "    dt = dt[correct]\n",
    "    for i in range(13,19):\n",
    "        dt[:,i] = dt[:,i]/dt[:,3]\n",
    "\n",
    "    for i in range(29,35):\n",
    "        dt[:,i] = dt[:,i]/(dt[:,19])\n",
    "\n",
    "\n",
    "\n",
    "    if sigbit_flag:\n",
    "        idx = dt[:,-1]\n",
    "        sigidx = (idx == 1)\n",
    "        bkgidx = (idx == 0)\n",
    "        if is_sig:\n",
    "            dt = dt[sigidx]\n",
    "        else:\n",
    "            dt = dt[bkgidx]\n",
    "            \n",
    "    if n_prong == '2prong':\n",
    "        \n",
    "        correct = (dt[:,3]>450) & (dt[:,3]<550) & (dt[:,19]>50) & (dt[:,19]<150) & (dt[:,0]>3400) & (dt[:,0]<3600)\n",
    "        dt = dt[correct]\n",
    "    \n",
    "    if n_prong == '3prong':\n",
    "        \n",
    "        correct = (dt[:,3]>450) & (dt[:,3]<550) & (dt[:,19]>50) & (dt[:,19]<150) & (dt[:,0]>3400) & (dt[:,0]<3600)\n",
    "        dt = dt[correct]  \n",
    "            \n",
    "    \n",
    "    Y = dt[:,[4,5,6,7,8,11,12,13,14,15,16,17,18,20,21,22,23,24,27,28,29,30,31,32,33,34]]\n",
    "    #Y = dt[:,[3,4,5,6,11,12,13,14,15,16,17,18,19,20,21,22,27,28,29,30,31,32,33,34]]\n",
    "    #Y = dt[:,[3,4,5,6,11,12,13,14,15,16,17,18,19,20,21,22,27,28,29,30,31,32,33,34]]\n",
    "    #Y = dt[:,[3,4,5,6,11,12,19,20,21,22,27,28]]\n",
    "    \n",
    "\n",
    "    \n",
    "            \n",
    "    print(Y.shape)\n",
    "    for i in range(26):\n",
    "        Y[:,i] = (Y[:,i]-bkg_mean[i])/bkg_std[i]\n",
    "    \n",
    "    total_bb_test = torch.tensor(Y)\n",
    "    #huberloss = nn.SmoothL1Loss(reduction='none')\n",
    "    sigae_bbloss = torch.mean((model(total_bb_test.float().cuda())[0]- total_bb_test.float().cuda())**2,dim=1).data.cpu().numpy()\n",
    "    bbvar = torch.var((model(total_bb_test.float().cuda())[0]- total_bb_test.float().cuda())**2,dim=1).data.cpu().numpy()\n",
    "    waic = sigae_bbloss + bbvar\n",
    "    #sigae_bbloss = torch.mean(huberloss(model(total_bb_test.float().cuda())[0],total_bb_test.float().cuda()),dim=1).data.cpu().numpy()\n",
    "    print(waic[0:10])\n",
    "    plt.hist(waic,bins=np.linspace(0,10,1001),density=True);\n",
    "    plt.xlim([0,2])\n",
    "    np.save(out_file_waic,waic)\n",
    "    np.save(out_file_justloss,sigae_bbloss)"
   ]
  },
  {
   "cell_type": "code",
   "execution_count": null,
   "metadata": {},
   "outputs": [],
   "source": []
  },
  {
   "cell_type": "code",
   "execution_count": 166,
   "metadata": {},
   "outputs": [
    {
     "data": {
      "text/plain": [
       "('../data_strings/bkg_purebkg_cwola_mjj_mj1_mj2_cut_MSELoss_beta1_z8f8_WAICloss_rndbkg.npy',)"
      ]
     },
     "execution_count": 166,
     "metadata": {},
     "output_type": "execute_result"
    }
   ],
   "source": [
    "f\"../data_strings/{ae_def['type']}_{ae_def['trainon']}_{ae_def['features']}_{ae_def['selection']}_{ae_def['trainloss']}_{ae_def['beta']}_{ae_def['zdimnflow']}_WAICloss_bb1.npy\",\n",
    "f\"../data_strings/{ae_def['type']}_{ae_def['trainon']}_{ae_def['features']}_{ae_def['selection']}_{ae_def['trainloss']}_{ae_def['beta']}_{ae_def['zdimnflow']}_WAICloss_bb2.npy\",\n",
    "f\"../data_strings/{ae_def['type']}_{ae_def['trainon']}_{ae_def['features']}_{ae_def['selection']}_{ae_def['trainloss']}_{ae_def['beta']}_{ae_def['zdimnflow']}_WAICloss_bb3.npy\",\n",
    "f\"../data_strings/{ae_def['type']}_{ae_def['trainon']}_{ae_def['features']}_{ae_def['selection']}_{ae_def['trainloss']}_{ae_def['beta']}_{ae_def['zdimnflow']}_WAICloss_purebkg.npy\",\n",
    "f\"../data_strings/{ae_def['type']}_{ae_def['trainon']}_{ae_def['features']}_{ae_def['selection']}_{ae_def['trainloss']}_{ae_def['beta']}_{ae_def['zdimnflow']}_WAICloss_rndbkg.npy\","
   ]
  },
  {
   "cell_type": "code",
   "execution_count": 167,
   "metadata": {},
   "outputs": [],
   "source": [
    "loss_prong3 = np.load(f\"../data_strings/{ae_def['type']}_{ae_def['trainon']}_{ae_def['features']}_{ae_def['selection']}_{ae_def['trainloss']}_{ae_def['beta']}_{ae_def['zdimnflow']}_Justloss_3prong.npy\")\n",
    "loss_prong2 = np.load(f\"../data_strings/{ae_def['type']}_{ae_def['trainon']}_{ae_def['features']}_{ae_def['selection']}_{ae_def['trainloss']}_{ae_def['beta']}_{ae_def['zdimnflow']}_Justloss_2prong.npy\")\n",
    "loss_purebkg = np.load(f\"../data_strings/{ae_def['type']}_{ae_def['trainon']}_{ae_def['features']}_{ae_def['selection']}_{ae_def['trainloss']}_{ae_def['beta']}_{ae_def['zdimnflow']}_Justloss_purebkg.npy\")\n",
    "loss_rndbkg = np.load(f\"../data_strings/{ae_def['type']}_{ae_def['trainon']}_{ae_def['features']}_{ae_def['selection']}_{ae_def['trainloss']}_{ae_def['beta']}_{ae_def['zdimnflow']}_Justloss_rndbkg.npy\")\n",
    "\n"
   ]
  },
  {
   "cell_type": "code",
   "execution_count": 168,
   "metadata": {},
   "outputs": [
    {
     "data": {
      "text/plain": [
       "<matplotlib.legend.Legend at 0x7f0cb22dde80>"
      ]
     },
     "execution_count": 168,
     "metadata": {},
     "output_type": "execute_result"
    },
    {
     "data": {
      "image/png": "[encoded data removed]",
      "text/plain": [
       "<Figure size 432x288 with 1 Axes>"
      ]
     },
     "metadata": {
      "needs_background": "light"
     },
     "output_type": "display_data"
    }
   ],
   "source": [
    "#plt.hist(loss_purebkg,bins=np.linspace(0,2,100),density=True,alpha=0.3,label='Pure Bkg');\n",
    "plt.hist(loss_rndbkg,bins=np.linspace(0,2,100),density=False,alpha=0.3,label='(rnd) bkg');\n",
    "\n",
    "plt.hist(loss_prong2,bins=np.linspace(0,2,100),density=False,alpha=0.3,label='2prong (rnd)sig');\n",
    "plt.hist(loss_prong3,bins=np.linspace(0,2,100),density=False,alpha=0.3,label='3prong (rnd)sig');\n",
    "#plt.yscale('log')\n",
    "plt.xlabel('BkgAE trained on PureBkg')\n",
    "plt.legend(loc='upper right')\n",
    "#plt.savefig('bkgae_trained_on_purebkg_withmass_turnonselection.png')"
   ]
  },
  {
   "cell_type": "code",
   "execution_count": 169,
   "metadata": {},
   "outputs": [
    {
     "data": {
      "text/plain": [
       "{'type': 'bkg',\n",
       " 'trainon': 'purebkg',\n",
       " 'features': 'cwola',\n",
       " 'architecture': 'MAF',\n",
       " 'selection': 'mjj_mj1_mj2_cut',\n",
       " 'trainloss': 'MSELoss',\n",
       " 'beta': 'beta1',\n",
       " 'zdimnflow': 'z8f8'}"
      ]
     },
     "execution_count": 169,
     "metadata": {},
     "output_type": "execute_result"
    }
   ],
   "source": [
    "ae_def"
   ]
  },
  {
   "cell_type": "code",
   "execution_count": 56,
   "metadata": {},
   "outputs": [
    {
     "data": {
      "text/plain": [
       "62906"
      ]
     },
     "execution_count": 56,
     "metadata": {},
     "output_type": "execute_result"
    }
   ],
   "source": [
    "len(loss_prong2)"
   ]
  },
  {
   "cell_type": "code",
   "execution_count": null,
   "metadata": {},
   "outputs": [],
   "source": []
  },
  {
   "cell_type": "code",
   "execution_count": null,
   "metadata": {},
   "outputs": [],
   "source": []
  },
  {
   "cell_type": "code",
   "execution_count": null,
   "metadata": {},
   "outputs": [],
   "source": []
  },
  {
   "cell_type": "code",
   "execution_count": null,
   "metadata": {},
   "outputs": [],
   "source": []
  },
  {
   "cell_type": "code",
   "execution_count": null,
   "metadata": {},
   "outputs": [],
   "source": []
  },
  {
   "cell_type": "code",
   "execution_count": null,
   "metadata": {},
   "outputs": [],
   "source": []
  },
  {
   "cell_type": "code",
   "execution_count": null,
   "metadata": {},
   "outputs": [],
   "source": []
  },
  {
   "cell_type": "code",
   "execution_count": 50,
   "metadata": {},
   "outputs": [],
   "source": [
    "def reconstruct(X):\n",
    "    out = model(torch.tensor(X[:100000]).float().cuda())[0]\n",
    "    out = out.data.cpu().numpy()\n",
    "    return out"
   ]
  },
  {
   "cell_type": "code",
   "execution_count": 51,
   "metadata": {},
   "outputs": [],
   "source": [
    "out = reconstruct(Y)"
   ]
  },
  {
   "cell_type": "code",
   "execution_count": 52,
   "metadata": {},
   "outputs": [
    {
     "data": {
      "text/plain": [
       "(56525, 16)"
      ]
     },
     "execution_count": 52,
     "metadata": {},
     "output_type": "execute_result"
    }
   ],
   "source": [
    "out.shape"
   ]
  },
  {
   "cell_type": "code",
   "execution_count": 54,
   "metadata": {
    "scrolled": true
   },
   "outputs": [
    {
     "data": {
      "text/plain": [
       "<matplotlib.lines.Line2D at 0x7f8279505518>"
      ]
     },
     "execution_count": 54,
     "metadata": {},
     "output_type": "execute_result"
    },
    {
     "data": {
      "image/png": "[encoded data removed]",
      "text/plain": [
       "<Figure size 432x288 with 1 Axes>"
      ]
     },
     "metadata": {
      "needs_background": "light"
     },
     "output_type": "display_data"
    }
   ],
   "source": [
    "bins = np.linspace(-3,3,100)\n",
    "bins.shape\n",
    "column = 0\n",
    "#print(df.coluns[column])\n",
    "plt.hist(Y[:,column],bins,density=True,alpha=0.5,color='b');\n",
    "plt.hist(out[:,column],bins,density=True,alpha=0.5,color='r');\n",
    "plt.axvline(np.mean(Y[:,column]))"
   ]
  },
  {
   "cell_type": "code",
   "execution_count": 97,
   "metadata": {},
   "outputs": [],
   "source": [
    "f_bb = pd.read_hdf('/data/t3home000/spark/QUASAR/preprocessing/conventional_tau_3prong_rnd.h5')"
   ]
  },
  {
   "cell_type": "code",
   "execution_count": 98,
   "metadata": {},
   "outputs": [],
   "source": [
    "dt = f_bb.values"
   ]
  },
  {
   "cell_type": "code",
   "execution_count": 99,
   "metadata": {},
   "outputs": [],
   "source": [
    "correct = (dt[:,3]>0) &(dt[:,19]>0)\n",
    "dt = dt[correct]\n",
    "for i in range(13,19):\n",
    "    dt[:,i] = dt[:,i]/dt[:,3]\n",
    "    \n",
    "for i in range(29,35):\n",
    "    dt[:,i] = dt[:,i]/(dt[:,19])\n",
    "        \n",
    "        \n",
    "correct = (dt[:,29]>=0) &(dt[:,29]<=1)&(dt[:,30]>=0) &(dt[:,30]<=1)&(dt[:,31]>=0) &(dt[:,31]<=1)&(dt[:,32]>=0) &(dt[:,32]<=1)&(dt[:,33]>=0) &(dt[:,33]<=1)&(dt[:,34]>=-0.01) &(dt[:,34]<=1)\n",
    "dt = dt[correct]\n",
    "Y = dt[:,[3,4,5,6,11,12,13,14,15,16,17,18,19,20,21,22,27,28,29,30,31,32,33,34]]"
   ]
  },
  {
   "cell_type": "code",
   "execution_count": 100,
   "metadata": {},
   "outputs": [
    {
     "data": {
      "text/plain": [
       "(78233, 24)"
      ]
     },
     "execution_count": 100,
     "metadata": {},
     "output_type": "execute_result"
    }
   ],
   "source": [
    "Y.shape"
   ]
  },
  {
   "cell_type": "code",
   "execution_count": 101,
   "metadata": {},
   "outputs": [],
   "source": [
    "idx = dt[:,-1]\n",
    "sigidx = idx == 1\n",
    "bkgidx = idx == 0"
   ]
  },
  {
   "cell_type": "code",
   "execution_count": 108,
   "metadata": {},
   "outputs": [],
   "source": [
    "for i in range(24):\n",
    "    Y[:,i] = (Y[:,i]-bkg_mean[i])/bkg_std[i]"
   ]
  },
  {
   "cell_type": "code",
   "execution_count": 102,
   "metadata": {},
   "outputs": [],
   "source": [
    "Y = Y[sigidx]"
   ]
  },
  {
   "cell_type": "code",
   "execution_count": 103,
   "metadata": {},
   "outputs": [],
   "source": [
    "#correct = Y[:,0] > 300 #(For 2prong)\n",
    "correct = Y[:,0] > 400 # (for 3prong)"
   ]
  },
  {
   "cell_type": "code",
   "execution_count": 104,
   "metadata": {},
   "outputs": [],
   "source": [
    "Y = Y[correct]"
   ]
  },
  {
   "cell_type": "code",
   "execution_count": 105,
   "metadata": {
    "scrolled": true
   },
   "outputs": [
    {
     "data": {
      "text/plain": [
       "(58822, 24)"
      ]
     },
     "execution_count": 105,
     "metadata": {},
     "output_type": "execute_result"
    }
   ],
   "source": [
    "Y.shape"
   ]
  },
  {
   "cell_type": "code",
   "execution_count": 106,
   "metadata": {},
   "outputs": [
    {
     "data": {
      "image/png": "[encoded data removed]",
      "text/plain": [
       "<Figure size 432x288 with 1 Axes>"
      ]
     },
     "metadata": {
      "needs_background": "light"
     },
     "output_type": "display_data"
    }
   ],
   "source": [
    "plt.hist(Y[:,0],bins=np.linspace(0,1000,1001));"
   ]
  },
  {
   "cell_type": "code",
   "execution_count": 109,
   "metadata": {},
   "outputs": [
    {
     "data": {
      "text/plain": [
       "2.3954654567608404"
      ]
     },
     "execution_count": 109,
     "metadata": {},
     "output_type": "execute_result"
    }
   ],
   "source": [
    "np.mean(Y[:,0])"
   ]
  },
  {
   "cell_type": "code",
   "execution_count": 110,
   "metadata": {},
   "outputs": [],
   "source": [
    "total_bb_test = torch.tensor(Y)\n",
    "bkgae_bbloss = torch.mean((model(total_bb_test.float().cuda())[0]- total_bb_test.float().cuda())**2,dim=1).data.cpu().numpy()"
   ]
  },
  {
   "cell_type": "code",
   "execution_count": 111,
   "metadata": {},
   "outputs": [
    {
     "data": {
      "text/plain": [
       "array([0.38415718, 0.4250854 , 0.79621285, ..., 0.53214365, 0.62708235,\n",
       "       0.52163726], dtype=float32)"
      ]
     },
     "execution_count": 111,
     "metadata": {},
     "output_type": "execute_result"
    }
   ],
   "source": [
    "bkgae_bbloss"
   ]
  },
  {
   "cell_type": "code",
   "execution_count": 112,
   "metadata": {},
   "outputs": [
    {
     "data": {
      "image/png": "[encoded data removed]",
      "text/plain": [
       "<Figure size 432x288 with 1 Axes>"
      ]
     },
     "metadata": {
      "needs_background": "light"
     },
     "output_type": "display_data"
    }
   ],
   "source": [
    "plt.hist(bkgae_bbloss,bins=np.linspace(0,10,1001));"
   ]
  },
  {
   "cell_type": "code",
   "execution_count": 113,
   "metadata": {},
   "outputs": [],
   "source": [
    "np.save('../data_strings/bkgae_rndbkg_loss_3prong.npy',bkgae_bbloss)"
   ]
  },
  {
   "cell_type": "code",
   "execution_count": 52,
   "metadata": {},
   "outputs": [],
   "source": [
    "loss_prong3 = np.load('../data_strings/bkgae_purebkg_loss_3prong.npy')\n",
    "loss_prong2 = np.load('../data_strings/bkgae_purebkg_loss_2prong.npy')\n",
    "loss_purebkg = np.load('../data_strings/bkgae_purebkg_loss_purebkg.npy')\n",
    "loss_rndbkg = np.load('../data_strings/bkgae_purebkg_loss_rndbkg.npy')"
   ]
  },
  {
   "cell_type": "code",
   "execution_count": 162,
   "metadata": {},
   "outputs": [
    {
     "data": {
      "text/plain": [
       "930647"
      ]
     },
     "execution_count": 162,
     "metadata": {},
     "output_type": "execute_result"
    }
   ],
   "source": [
    "len(loss_purebkg)"
   ]
  },
  {
   "cell_type": "code",
   "execution_count": 117,
   "metadata": {},
   "outputs": [
    {
     "data": {
      "text/plain": [
       "57042"
      ]
     },
     "execution_count": 117,
     "metadata": {},
     "output_type": "execute_result"
    }
   ],
   "source": [
    "len(loss_prong2)"
   ]
  },
  {
   "cell_type": "code",
   "execution_count": 63,
   "metadata": {},
   "outputs": [
    {
     "data": {
      "image/png": "[encoded data removed]",
      "text/plain": [
       "<Figure size 432x288 with 1 Axes>"
      ]
     },
     "metadata": {
      "needs_background": "light"
     },
     "output_type": "display_data"
    }
   ],
   "source": [
    "plt.hist(loss_purebkg,bins=np.linspace(0,10,100),weights=np.ones(len(loss_purebkg)),alpha=0.3,label='Pure Bkg');\n",
    "plt.hist(loss_rndbkg,bins=np.linspace(0,10,100),weights=np.ones(len(loss_rndbkg))*(len(loss_purebkg)/len(loss_rndbkg)),alpha=0.3,label='(rnd) bkg');\n",
    "\n",
    "#plt.hist(loss_prong3,bins=np.linspace(0,2,100),weights=np.ones(len(loss_prong3))*(len(loss_purebkg)/len(loss_prong3)),alpha=0.3,label='2prong (rnd)sig');\n",
    "#plt.hist(loss_prong2,bins=np.linspace(0,2,100),weights=np.ones(len(loss_prong2))*(len(loss_purebkg)/len(loss_prong2)),alpha=0.3,label='3prong (rnd)sig');\n",
    "plt.yscale('log')\n",
    "plt.xlabel('BkgAE trained on Pure Bkg')\n",
    "plt.legend(loc='upper right')\n",
    "plt.savefig('bkgae_trained_on_pure_bkg_onlybkg.png')"
   ]
  },
  {
   "cell_type": "code",
   "execution_count": null,
   "metadata": {},
   "outputs": [],
   "source": []
  },
  {
   "cell_type": "code",
   "execution_count": null,
   "metadata": {},
   "outputs": [],
   "source": []
  },
  {
   "cell_type": "code",
   "execution_count": null,
   "metadata": {},
   "outputs": [],
   "source": []
  },
  {
   "cell_type": "code",
   "execution_count": null,
   "metadata": {},
   "outputs": [],
   "source": []
  },
  {
   "cell_type": "code",
   "execution_count": null,
   "metadata": {},
   "outputs": [],
   "source": []
  },
  {
   "cell_type": "code",
   "execution_count": null,
   "metadata": {},
   "outputs": [],
   "source": []
  },
  {
   "cell_type": "code",
   "execution_count": null,
   "metadata": {},
   "outputs": [],
   "source": []
  },
  {
   "cell_type": "code",
   "execution_count": 97,
   "metadata": {},
   "outputs": [],
   "source": [
    "def get_loss(dt):\n",
    "    \n",
    "    def generator(dt, chunk_size=5000, total_size=1000000):\n",
    "\n",
    "        i = 0\n",
    "        i_max = total_size // chunk_size\n",
    "        print(i_max)\n",
    "    \n",
    "        for i in range(i_max):\n",
    "            start=i * chunk_size\n",
    "            stop=(i + 1) * chunk_size\n",
    "            yield torch.tensor(dt[start:stop])\n",
    "        \n",
    "    loss = []\n",
    "\n",
    "    \n",
    "    with torch.no_grad():\n",
    "        \n",
    "        for total_in_selection in generator(dt,chunk_size=5000, total_size=1000000):\n",
    "            loss.extend(torch.mean((model(total_in_selection.float().cuda())[0]- total_in_selection.float().cuda())**2,dim=1).data.cpu().numpy())\n",
    "    \n",
    "    return loss"
   ]
  },
  {
   "cell_type": "code",
   "execution_count": 98,
   "metadata": {},
   "outputs": [
    {
     "name": "stdout",
     "output_type": "stream",
     "text": [
      "200\n"
     ]
    }
   ],
   "source": [
    "bb1_loss_bkg = get_loss(X_bb1)"
   ]
  },
  {
   "cell_type": "code",
   "execution_count": 99,
   "metadata": {},
   "outputs": [],
   "source": [
    "bb1_loss_bkg = np.array(bb1_loss_bkg,dtype=np.float)"
   ]
  },
  {
   "cell_type": "code",
   "execution_count": 100,
   "metadata": {},
   "outputs": [
    {
     "data": {
      "text/plain": [
       "array([0.34203148, 0.20688626, 0.77139115, ..., 0.58295715, 0.60273141,\n",
       "       0.670748  ])"
      ]
     },
     "execution_count": 100,
     "metadata": {},
     "output_type": "execute_result"
    }
   ],
   "source": [
    "bb1_loss_bkg"
   ]
  },
  {
   "cell_type": "code",
   "execution_count": 101,
   "metadata": {},
   "outputs": [
    {
     "data": {
      "image/png": "[encoded data removed]",
      "text/plain": [
       "<Figure size 432x288 with 1 Axes>"
      ]
     },
     "metadata": {
      "needs_background": "light"
     },
     "output_type": "display_data"
    }
   ],
   "source": [
    "plt.hist(bb1_loss_bkg,bins=np.linspace(0,5,1001));"
   ]
  },
  {
   "cell_type": "code",
   "execution_count": 102,
   "metadata": {},
   "outputs": [],
   "source": [
    "np.save('../data_strings/bkgaeloss_bb1.npy',bb1_loss_bkg)"
   ]
  },
  {
   "cell_type": "code",
   "execution_count": 103,
   "metadata": {},
   "outputs": [],
   "source": [
    "f_bb2 = pd.read_hdf('/data/t3home000/spark/QUASAR/preprocessing/conventional_tau_BB2.h5')\n",
    "dt_bb2 = f_bb2.values"
   ]
  },
  {
   "cell_type": "code",
   "execution_count": 104,
   "metadata": {},
   "outputs": [],
   "source": [
    "X_bb2 = dt_bb2[:,[3,4,5,6,11,12,19,20,21,22,27,28]]"
   ]
  },
  {
   "cell_type": "code",
   "execution_count": 105,
   "metadata": {},
   "outputs": [],
   "source": [
    "for i in range(12):\n",
    "    X_bb2[:,i] = (X_bb2[:,i]-bkg_mean[i])/bkg_std[i]"
   ]
  },
  {
   "cell_type": "code",
   "execution_count": 106,
   "metadata": {},
   "outputs": [
    {
     "name": "stdout",
     "output_type": "stream",
     "text": [
      "200\n"
     ]
    }
   ],
   "source": [
    "bb2_loss_bkg = get_loss(X_bb2)"
   ]
  },
  {
   "cell_type": "code",
   "execution_count": 107,
   "metadata": {},
   "outputs": [],
   "source": [
    "bb2_loss_bkg = np.array(bb2_loss_bkg,dtype=np.float)"
   ]
  },
  {
   "cell_type": "code",
   "execution_count": 108,
   "metadata": {},
   "outputs": [
    {
     "data": {
      "image/png": "[encoded data removed]",
      "text/plain": [
       "<Figure size 432x288 with 1 Axes>"
      ]
     },
     "metadata": {
      "needs_background": "light"
     },
     "output_type": "display_data"
    }
   ],
   "source": [
    "plt.hist(bb2_loss_bkg,bins=np.linspace(0,5,1001));"
   ]
  },
  {
   "cell_type": "code",
   "execution_count": 109,
   "metadata": {},
   "outputs": [],
   "source": [
    "f_bb3 = pd.read_hdf('/data/t3home000/spark/QUASAR/preprocessing/conventional_tau_BB3.h5')\n",
    "dt_bb3 = f_bb3.values"
   ]
  },
  {
   "cell_type": "code",
   "execution_count": 110,
   "metadata": {},
   "outputs": [],
   "source": [
    "X_bb3 = dt_bb3[:,[3,4,5,6,11,12,19,20,21,22,27,28]]"
   ]
  },
  {
   "cell_type": "code",
   "execution_count": 111,
   "metadata": {},
   "outputs": [],
   "source": [
    "for i in range(12):\n",
    "    X_bb3[:,i] = (X_bb3[:,i]-bkg_mean[i])/bkg_std[i]"
   ]
  },
  {
   "cell_type": "code",
   "execution_count": 137,
   "metadata": {},
   "outputs": [
    {
     "name": "stdout",
     "output_type": "stream",
     "text": [
      "200\n"
     ]
    }
   ],
   "source": [
    "bb3_loss_bkg = get_loss(X_bb3)"
   ]
  },
  {
   "cell_type": "code",
   "execution_count": 138,
   "metadata": {},
   "outputs": [],
   "source": [
    "bb3_loss_bkg = np.array(bb3_loss_bkg,dtype=np.float)"
   ]
  },
  {
   "cell_type": "code",
   "execution_count": 139,
   "metadata": {},
   "outputs": [
    {
     "data": {
      "text/plain": [
       "array([0.3940129 , 0.36679476, 0.56973112, ..., 0.26589143, 0.32429862,\n",
       "       0.33480105])"
      ]
     },
     "execution_count": 139,
     "metadata": {},
     "output_type": "execute_result"
    }
   ],
   "source": [
    "bb3_loss_bkg"
   ]
  },
  {
   "cell_type": "code",
   "execution_count": 140,
   "metadata": {},
   "outputs": [
    {
     "data": {
      "image/png": "[encoded data removed]",
      "text/plain": [
       "<Figure size 432x288 with 1 Axes>"
      ]
     },
     "metadata": {
      "needs_background": "light"
     },
     "output_type": "display_data"
    }
   ],
   "source": [
    "plt.hist(bb3_loss_bkg,bins=np.linspace(0,5,1001));"
   ]
  },
  {
   "cell_type": "code",
   "execution_count": 141,
   "metadata": {},
   "outputs": [],
   "source": [
    "np.save('../data_strings/bkgaeloss_bb2.npy',bb2_loss_bkg)"
   ]
  },
  {
   "cell_type": "code",
   "execution_count": 142,
   "metadata": {},
   "outputs": [],
   "source": [
    "np.save('../data_strings/bkgaeloss_bb3.npy',bb3_loss_bkg)"
   ]
  },
  {
   "cell_type": "code",
   "execution_count": null,
   "metadata": {},
   "outputs": [],
   "source": []
  },
  {
   "cell_type": "code",
   "execution_count": null,
   "metadata": {},
   "outputs": [],
   "source": []
  },
  {
   "cell_type": "code",
   "execution_count": null,
   "metadata": {},
   "outputs": [],
   "source": []
  },
  {
   "cell_type": "code",
   "execution_count": null,
   "metadata": {},
   "outputs": [],
   "source": []
  },
  {
   "cell_type": "code",
   "execution_count": null,
   "metadata": {},
   "outputs": [],
   "source": []
  },
  {
   "cell_type": "code",
   "execution_count": 24,
   "metadata": {},
   "outputs": [
    {
     "data": {
      "text/plain": [
       "(100000, 94)"
      ]
     },
     "execution_count": 24,
     "metadata": {},
     "output_type": "execute_result"
    }
   ],
   "source": [
    "X[signal_idx].shape"
   ]
  },
  {
   "cell_type": "code",
   "execution_count": 72,
   "metadata": {},
   "outputs": [
    {
     "name": "stdout",
     "output_type": "stream",
     "text": [
      "(992924, 30)\n",
      "(99829, 30)\n"
     ]
    }
   ],
   "source": [
    "loss_bkg = get_loss(X[bkg_idx])\n",
    "loss_sig = get_loss(X[signal_idx])"
   ]
  },
  {
   "cell_type": "code",
   "execution_count": 74,
   "metadata": {},
   "outputs": [
    {
     "data": {
      "image/png": "[encoded data removed]",
      "text/plain": [
       "<Figure size 720x720 with 1 Axes>"
      ]
     },
     "metadata": {
      "needs_background": "light"
     },
     "output_type": "display_data"
    }
   ],
   "source": [
    "plt.rcParams[\"figure.figsize\"] = (10,10)\n",
    "bins = np.linspace(0,0.5,1100)\n",
    "plt.hist(loss_bkg,bins=bins,alpha=0.3,color='b',label='bkg')\n",
    "plt.hist(loss_sig,bins=bins,alpha=0.3,color='r',label='sig')\n",
    "plt.xlabel(r'Autoencoder Loss')\n",
    "plt.ylabel('Count')\n",
    "plt.legend(loc='upper right')\n",
    "plt.show()"
   ]
  },
  {
   "cell_type": "code",
   "execution_count": null,
   "metadata": {},
   "outputs": [],
   "source": [
    "def get_tpr_fpr(sigloss,bkgloss,aetype='sig'):\n",
    "    bins = np.linspace(0,50,1001)\n",
    "    tpr = []\n",
    "    fpr = []\n",
    "    for cut in bins:\n",
    "        if aetype == 'sig':\n",
    "            tpr.append(np.where(sigloss<cut)[0].shape[0]/len(sigloss))\n",
    "            fpr.append(np.where(bkgloss<cut)[0].shape[0]/len(bkgloss))\n",
    "        if aetype == 'bkg':\n",
    "            tpr.append(np.where(sigloss>cut)[0].shape[0]/len(sigloss))\n",
    "            fpr.append(np.where(bkgloss>cut)[0].shape[0]/len(bkgloss))\n",
    "    return tpr,fpr        "
   ]
  },
  {
   "cell_type": "code",
   "execution_count": null,
   "metadata": {},
   "outputs": [],
   "source": [
    "bkg_tpr, bkg_fpr = get_tpr_fpr(loss_sig,loss_bkg,aetype='bkg')"
   ]
  },
  {
   "cell_type": "code",
   "execution_count": null,
   "metadata": {},
   "outputs": [],
   "source": [
    "np.save('NFLOWVAE_PlanarNEW_bkgAE_fpr.npy',bkg_fpr)\n",
    "np.save('NFLOWVAE_PlanarNEW_bkgAE_tpr.npy',bkg_tpr)"
   ]
  },
  {
   "cell_type": "code",
   "execution_count": null,
   "metadata": {},
   "outputs": [],
   "source": [
    "plt.plot(bkg_fpr,bkg_tpr,label='Bkg NFlowVAE-Planar')\n"
   ]
  },
  {
   "cell_type": "code",
   "execution_count": null,
   "metadata": {},
   "outputs": [],
   "source": [
    "def get_precision_recall(sigloss,bkgloss,aetype='bkg'):\n",
    "    bins = np.linspace(0,100,1001)\n",
    "    tpr = []\n",
    "    fpr = []\n",
    "    precision = []\n",
    "    for cut in bins:\n",
    "        if aetype == 'sig':\n",
    "            tpr.append(np.where(sigloss<cut)[0].shape[0]/len(sigloss))\n",
    "            precision.append((np.where(sigloss<cut)[0].shape[0])/(np.where(bkgloss<cut)[0].shape[0]+np.where(sigloss<cut)[0].shape[0]))\n",
    "            \n",
    "        if aetype == 'bkg':\n",
    "            tpr.append(np.where(sigloss>cut)[0].shape[0]/len(sigloss))\n",
    "            precision.append((np.where(sigloss>cut)[0].shape[0])/(np.where(bkgloss>cut)[0].shape[0]+np.where(sigloss>cut)[0].shape[0]))\n",
    "    return precision,tpr      "
   ]
  },
  {
   "cell_type": "code",
   "execution_count": null,
   "metadata": {},
   "outputs": [],
   "source": [
    "precision,recall = get_precision_recall(loss_sig,loss_bkg,aetype='bkg')"
   ]
  },
  {
   "cell_type": "code",
   "execution_count": null,
   "metadata": {},
   "outputs": [],
   "source": [
    "np.save('NFLOWVAE_PlanarNEW_22var_sigloss.npy',loss_sig)\n",
    "np.save('NFLOWVAE_PlanarNEW_22var_bkgloss.npy',loss_bkg)"
   ]
  },
  {
   "cell_type": "code",
   "execution_count": null,
   "metadata": {},
   "outputs": [],
   "source": [
    "np.save('NFLOWVAE_PlanarNEW_precision.npy',precision)\n",
    "np.save('NFLOWVAE_PlanarNEW_recall.npy',recall)\n",
    "np.save('NFLOWVAE_PlanarNEW_bkgAE_fpr.npy',bkg_fpr)\n",
    "np.save('NFLOWVAE_PlanarNEW_bkgAE_tpr.npy',bkg_tpr)\n",
    "np.save('NFLOWVAE_PlanarNEW_sigloss.npy',loss_sig)\n",
    "np.save('NFLOWVAE_PlanarNEW_bkgloss.npy',loss_bkg)"
   ]
  },
  {
   "cell_type": "code",
   "execution_count": null,
   "metadata": {},
   "outputs": [],
   "source": [
    "plt.plot(recall,precision)"
   ]
  },
  {
   "cell_type": "code",
   "execution_count": null,
   "metadata": {},
   "outputs": [],
   "source": [
    "flows = [1,2,3,4,5,6]\n",
    "zdim = [1,2,3,4,5]\n",
    "\n",
    "for N_flows in flows:\n",
    "    for Z_DIM in zdim:\n",
    "        model = VAE_NF(N_FLOWS, Z_DIM).cuda()\n",
    "        optimizer = optim.Adam(model.parameters(), lr=LR)\n",
    "        BEST_LOSS = 99999\n",
    "        LAST_SAVED = -1\n",
    "        PATIENCE_COUNT = 0\n",
    "        PATIENCE_LIMIT = 5\n",
    "        for epoch in range(1, N_EPOCHS):\n",
    "            print(\"Epoch {}:\".format(epoch))\n",
    "            train()\n",
    "            cur_loss = evaluate()\n",
    "\n",
    "            if cur_loss <= BEST_LOSS:\n",
    "                PATIENCE_COUNT = 0\n",
    "                BEST_LOSS = cur_loss\n",
    "                LAST_SAVED = epoch\n",
    "                print(\"Saving model!\")\n",
    "                if mode == 'ROC':\n",
    "                    torch.save(model.state_dict(),f\"/data/t3home000/spark/QUASAR/weights/bkg_vae_NF_planar_RND_22var_z{Z_DIM}_f{N_FLOWS}.h5\")\n",
    "                else:\n",
    "                    torch.save(model.state_dict(), f\"/data/t3home000/spark/QUASAR/weights/bkg_vae_NF_planar_PureBkg_22var_z{Z_DIM}_f{N_FLOWS}.h5\")\n",
    "            else:\n",
    "                PATIENCE_COUNT += 1\n",
    "                print(\"Not saving model! Last saved: {}\".format(LAST_SAVED))\n",
    "                if PATIENCE_COUNT > 3:\n",
    "                    print(\"Patience Limit Reached\")\n",
    "                    break \n",
    "                    \n",
    "        loss_bkg = get_loss(dt_PureBkg[bkg_idx])\n",
    "        loss_sig = get_loss(dt_PureBkg[signal_idx])\n",
    "        np.save(f'NFLOWVAE_PlanarNEW_22var_z{Z_DIM}_f{N_flows}_sigloss.npy',loss_sig)\n",
    "        np.save(f'NFLOWVAE_PlanarNEW_22var_z{Z_DIM}_f{N_flows}_bkgloss.npy',loss_bkg)"
   ]
  },
  {
   "cell_type": "code",
   "execution_count": null,
   "metadata": {},
   "outputs": [],
   "source": []
  }
 ],
 "metadata": {
  "kernelspec": {
   "display_name": "Python 3",
   "language": "python",
   "name": "python3"
  },
  "language_info": {
   "codemirror_mode": {
    "name": "ipython",
    "version": 3
   },
   "file_extension": ".py",
   "mimetype": "text/x-python",
   "name": "python",
   "nbconvert_exporter": "python",
   "pygments_lexer": "ipython3",
   "version": "3.7.10"
  }
 },
 "nbformat": 4,
 "nbformat_minor": 2
}
